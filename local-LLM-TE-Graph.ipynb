{
 "cells": [
  {
   "cell_type": "markdown",
   "id": "f629074c",
   "metadata": {},
   "source": [
    "# 1. Install required libraries. \n",
    "(some more may be required for diferent environemnt)"
   ]
  },
  {
   "cell_type": "code",
   "execution_count": null,
   "id": "0ea32505",
   "metadata": {},
   "outputs": [],
   "source": [
    "!pip install llama-index transformers accelerate bitsandbytes "
   ]
  },
  {
   "cell_type": "markdown",
   "id": "97a3a38c",
   "metadata": {},
   "source": [
    "##2. I changed local as html to text failed due to default ANSI on mac m2 "
   ]
  },
  {
   "cell_type": "code",
   "execution_count": 1,
   "id": "eca072e1",
   "metadata": {},
   "outputs": [],
   "source": [
    "import locale\n",
    "def getpreferredencoding(do_setlocale = True):\n",
    "    return \"UTF-8\"\n",
    "locale.getpreferredencoding = getpreferredencoding"
   ]
  },
  {
   "cell_type": "code",
   "execution_count": null,
   "id": "5d251717",
   "metadata": {},
   "outputs": [],
   "source": [
    "%pip install html2text"
   ]
  },
  {
   "cell_type": "markdown",
   "id": "1c9cde4c",
   "metadata": {},
   "source": [
    "## 2. First read the top level page, then we will parse this page to get all links."
   ]
  },
  {
   "cell_type": "code",
   "execution_count": 21,
   "id": "7fe2642c",
   "metadata": {},
   "outputs": [],
   "source": [
    "from llama_index import SummaryIndex, SimpleWebPageReader\n",
    "from IPython.display import Markdown, display\n",
    "import os\n",
    "\n",
    "master_pages = SimpleWebPageReader().load_data(\n",
    "    [\"https://www.espncricinfo.com/series/icc-cricket-world-cup-2023-24-1367856/match-schedule-fixtures-and-results\"\n",
    "     ]\n",
    ")\n",
    "\n",
    "page_text = \"\"\n",
    "for master_page in master_pages:\n",
    "  page_text += master_page.text\n"
   ]
  },
  {
   "cell_type": "code",
   "execution_count": 22,
   "id": "00dd122b",
   "metadata": {},
   "outputs": [],
   "source": [
    "def getURL(page):\n",
    "    \"\"\"\n",
    "\n",
    "    :param page: html of web page (here: Python home page) \n",
    "    :return: urls in that page \n",
    "    \"\"\"\n",
    "    start_link = page.find(\"a href\")\n",
    "    if start_link == -1:\n",
    "        return None, 0\n",
    "    start_quote = page.find('\"', start_link)\n",
    "    end_quote = page.find('\"', start_quote + 1)\n",
    "    url = page[start_quote + 1: end_quote]\n",
    "    return url, end_quote"
   ]
  },
  {
   "cell_type": "markdown",
   "id": "477bb240",
   "metadata": {},
   "source": [
    "## 3. For quick testing, only India specific links are saved."
   ]
  },
  {
   "cell_type": "code",
   "execution_count": 25,
   "id": "e9f98f2a",
   "metadata": {},
   "outputs": [],
   "source": [
    "page = page_text\n",
    "urls = []\n",
    "demo_filter_text = \"india\"\n",
    "\n",
    "while True:\n",
    "    \n",
    "    url, n = getURL(page)\n",
    "    page = page[n:]\n",
    "    if url:\n",
    "      if not url.startswith(\"https://\"):\n",
    "        url = \"https://www.espncricinfo.com\" + url\n",
    "        if \"icc-cricket-world-cup\" in url and demo_filter_text in url:\n",
    "            urls.append(url)\n",
    "            #print(url)\n",
    "    else:\n",
    "        break\n",
    "        "
   ]
  },
  {
   "cell_type": "code",
   "execution_count": 26,
   "id": "d16f8a14",
   "metadata": {},
   "outputs": [
    {
     "name": "stdout",
     "output_type": "stream",
     "text": [
      "33\n"
     ]
    }
   ],
   "source": [
    "print(len(urls))        "
   ]
  },
  {
   "cell_type": "code",
   "execution_count": 28,
   "id": "49cd3530",
   "metadata": {},
   "outputs": [],
   "source": [
    "documents = SimpleWebPageReader(html_to_text=True).load_data(urls)"
   ]
  },
  {
   "cell_type": "code",
   "execution_count": 29,
   "id": "b01af9d6",
   "metadata": {},
   "outputs": [
    {
     "name": "stdout",
     "output_type": "stream",
     "text": [
      "loaded nodes with 1924 nodes\n"
     ]
    }
   ],
   "source": [
    "from llama_index.node_parser import SimpleNodeParser\n",
    "from llama_index.node_parser.extractors import (\n",
    "    MetadataExtractor,\n",
    "    SummaryExtractor,\n",
    "    QuestionsAnsweredExtractor,\n",
    "    TitleExtractor,\n",
    "    KeywordExtractor,\n",
    ")\n",
    "from llama_index.text_splitter import TokenTextSplitter\n",
    "\n",
    "text_splitter = TokenTextSplitter(separator=\" \", chunk_size=256, chunk_overlap=20)\n",
    "node_parser = SimpleNodeParser(text_splitter=text_splitter)\n",
    "nodes = node_parser.get_nodes_from_documents(documents)\n",
    "print(f\"loaded nodes with {len(nodes)} nodes\")"
   ]
  },
  {
   "cell_type": "code",
   "execution_count": 7,
   "id": "9dc8a248",
   "metadata": {},
   "outputs": [
    {
     "data": {
      "text/plain": [
       "'\\n\\nfrom llama_index.node_parser import SimpleNodeParser\\nfrom llama_index.node_parser.extractors import (\\n    MetadataExtractor,\\n    SummaryExtractor,\\n    QuestionsAnsweredExtractor,\\n    TitleExtractor,\\n    KeywordExtractor,\\n)\\nfrom llama_index.text_splitter import TokenTextSplitter\\nfrom llama_index import download_loader\\n\\nWikipediaReader = download_loader(\"WikipediaReader\")\\nloader = WikipediaReader()\\ndocuments = loader.load_data(pages=[\\'2023 Cricket World Cup\\', \\'2023 Cricket World Cup statistics\\', \\'2023_Cricket_World_Cup_group_stage\\'], auto_suggest=False)\\nprint(f\\'Loaded {len(documents)} documents\\')\\n\\n# #construct text splitter to split texts into chunks for processing\\ntext_splitter = TokenTextSplitter(separator=\" \", chunk_size=512, chunk_overlap=20)\\n\\n#create node parser to parse nodes from document\\nnode_parser = SimpleNodeParser(text_splitter=text_splitter)\\n\\nnodes = node_parser.get_nodes_from_documents(documents)\\nprint(f\"loaded nodes with {len(nodes)} nodes\")\\n\\n'"
      ]
     },
     "execution_count": 7,
     "metadata": {},
     "output_type": "execute_result"
    }
   ],
   "source": [
    "'''\n",
    "\n",
    "from llama_index.node_parser import SimpleNodeParser\n",
    "from llama_index.node_parser.extractors import (\n",
    "    MetadataExtractor,\n",
    "    SummaryExtractor,\n",
    "    QuestionsAnsweredExtractor,\n",
    "    TitleExtractor,\n",
    "    KeywordExtractor,\n",
    ")\n",
    "from llama_index.text_splitter import TokenTextSplitter\n",
    "from llama_index import download_loader\n",
    "\n",
    "WikipediaReader = download_loader(\"WikipediaReader\")\n",
    "loader = WikipediaReader()\n",
    "documents = loader.load_data(pages=['2023 Cricket World Cup', '2023 Cricket World Cup statistics', '2023_Cricket_World_Cup_group_stage'], auto_suggest=False)\n",
    "print(f'Loaded {len(documents)} documents')\n",
    "\n",
    "# #construct text splitter to split texts into chunks for processing\n",
    "text_splitter = TokenTextSplitter(separator=\" \", chunk_size=512, chunk_overlap=20)\n",
    "\n",
    "#create node parser to parse nodes from document\n",
    "node_parser = SimpleNodeParser(text_splitter=text_splitter)\n",
    "\n",
    "nodes = node_parser.get_nodes_from_documents(documents)\n",
    "print(f\"loaded nodes with {len(nodes)} nodes\")\n",
    "\n",
    "'''"
   ]
  },
  {
   "cell_type": "markdown",
   "id": "011ff0c5",
   "metadata": {},
   "source": [
    "## Use a local text embedding interface. Steps to setup are:\n",
    "\n",
    "curl --proto '=https' --tlsv1.2 -sSf https://sh.rustup.rs | sh\n",
    "\n",
    "#on m2\n",
    "\n",
    "cargo install --path router -F candle -F accelerate\n",
    "model=BAAI/bge-large-en-v1.5\n",
    "revision=refs/pr/5\n",
    "\n",
    "text-embeddings-router --model-id $model --revision $revision --port 8080\n",
    "\n",
    "check git repo for more details:\n",
    "https://github.com/huggingface/text-embeddings-inference"
   ]
  },
  {
   "cell_type": "code",
   "execution_count": 8,
   "id": "9ea36384",
   "metadata": {},
   "outputs": [],
   "source": [
    "from llama_index.embeddings import TextEmbeddingsInference\n",
    "\n",
    "embed_model = TextEmbeddingsInference(\n",
    "    model_name=\"BAAI/bge-large-en-v1.5\",\n",
    "    base_url = \"http://127.0.0.1:8080\",\n",
    "    #base_url = \"http://ec2-##-##-##-##.compute-1.amazonaws.com:8080\",\n",
    "    timeout=60,  # timeout in seconds\n",
    "    embed_batch_size=10,  # batch size for embedding\n",
    ")"
   ]
  },
  {
   "cell_type": "markdown",
   "id": "7063567e",
   "metadata": {},
   "source": [
    "## Next we download llam2 model quantized to run on CPU."
   ]
  },
  {
   "cell_type": "code",
   "execution_count": 119,
   "id": "f6bb7999",
   "metadata": {},
   "outputs": [
    {
     "name": "stdout",
     "output_type": "stream",
     "text": [
      "Downloading url https://huggingface.co/TheBloke/Llama-2-7B-chat-GGUF/resolve/main/llama-2-7b-chat.Q5_K_M.gguf to path /Users/s/Library/Caches/llama_index/models/llama-2-7b-chat.Q5_K_M.gguf\n",
      "total size (MB): 4783.16\n"
     ]
    },
    {
     "name": "stderr",
     "output_type": "stream",
     "text": [
      "4562it [14:27,  5.26it/s]                                                                                                                                                                                                                       \n",
      "llama_model_loader: loaded meta data with 19 key-value pairs and 291 tensors from /Users/s/Library/Caches/llama_index/models/llama-2-7b-chat.Q5_K_M.gguf (version GGUF V2)\n",
      "llama_model_loader: - tensor    0:                token_embd.weight q5_K     [  4096, 32000,     1,     1 ]\n",
      "llama_model_loader: - tensor    1:           blk.0.attn_norm.weight f32      [  4096,     1,     1,     1 ]\n",
      "llama_model_loader: - tensor    2:            blk.0.ffn_down.weight q6_K     [ 11008,  4096,     1,     1 ]\n",
      "llama_model_loader: - tensor    3:            blk.0.ffn_gate.weight q5_K     [  4096, 11008,     1,     1 ]\n",
      "llama_model_loader: - tensor    4:              blk.0.ffn_up.weight q5_K     [  4096, 11008,     1,     1 ]\n",
      "llama_model_loader: - tensor    5:            blk.0.ffn_norm.weight f32      [  4096,     1,     1,     1 ]\n",
      "llama_model_loader: - tensor    6:              blk.0.attn_k.weight q5_K     [  4096,  4096,     1,     1 ]\n",
      "llama_model_loader: - tensor    7:         blk.0.attn_output.weight q5_K     [  4096,  4096,     1,     1 ]\n",
      "llama_model_loader: - tensor    8:              blk.0.attn_q.weight q5_K     [  4096,  4096,     1,     1 ]\n",
      "llama_model_loader: - tensor    9:              blk.0.attn_v.weight q6_K     [  4096,  4096,     1,     1 ]\n",
      "llama_model_loader: - tensor   10:           blk.1.attn_norm.weight f32      [  4096,     1,     1,     1 ]\n",
      "llama_model_loader: - tensor   11:            blk.1.ffn_down.weight q6_K     [ 11008,  4096,     1,     1 ]\n",
      "llama_model_loader: - tensor   12:            blk.1.ffn_gate.weight q5_K     [  4096, 11008,     1,     1 ]\n",
      "llama_model_loader: - tensor   13:              blk.1.ffn_up.weight q5_K     [  4096, 11008,     1,     1 ]\n",
      "llama_model_loader: - tensor   14:            blk.1.ffn_norm.weight f32      [  4096,     1,     1,     1 ]\n",
      "llama_model_loader: - tensor   15:              blk.1.attn_k.weight q5_K     [  4096,  4096,     1,     1 ]\n",
      "llama_model_loader: - tensor   16:         blk.1.attn_output.weight q5_K     [  4096,  4096,     1,     1 ]\n",
      "llama_model_loader: - tensor   17:              blk.1.attn_q.weight q5_K     [  4096,  4096,     1,     1 ]\n",
      "llama_model_loader: - tensor   18:              blk.1.attn_v.weight q6_K     [  4096,  4096,     1,     1 ]\n",
      "llama_model_loader: - tensor   19:          blk.10.attn_norm.weight f32      [  4096,     1,     1,     1 ]\n",
      "llama_model_loader: - tensor   20:           blk.10.ffn_down.weight q6_K     [ 11008,  4096,     1,     1 ]\n",
      "llama_model_loader: - tensor   21:           blk.10.ffn_gate.weight q5_K     [  4096, 11008,     1,     1 ]\n",
      "llama_model_loader: - tensor   22:             blk.10.ffn_up.weight q5_K     [  4096, 11008,     1,     1 ]\n",
      "llama_model_loader: - tensor   23:           blk.10.ffn_norm.weight f32      [  4096,     1,     1,     1 ]\n",
      "llama_model_loader: - tensor   24:             blk.10.attn_k.weight q5_K     [  4096,  4096,     1,     1 ]\n",
      "llama_model_loader: - tensor   25:        blk.10.attn_output.weight q5_K     [  4096,  4096,     1,     1 ]\n",
      "llama_model_loader: - tensor   26:             blk.10.attn_q.weight q5_K     [  4096,  4096,     1,     1 ]\n",
      "llama_model_loader: - tensor   27:             blk.10.attn_v.weight q6_K     [  4096,  4096,     1,     1 ]\n",
      "llama_model_loader: - tensor   28:          blk.11.attn_norm.weight f32      [  4096,     1,     1,     1 ]\n",
      "llama_model_loader: - tensor   29:           blk.11.ffn_down.weight q6_K     [ 11008,  4096,     1,     1 ]\n",
      "llama_model_loader: - tensor   30:           blk.11.ffn_gate.weight q5_K     [  4096, 11008,     1,     1 ]\n",
      "llama_model_loader: - tensor   31:             blk.11.ffn_up.weight q5_K     [  4096, 11008,     1,     1 ]\n",
      "llama_model_loader: - tensor   32:           blk.11.ffn_norm.weight f32      [  4096,     1,     1,     1 ]\n",
      "llama_model_loader: - tensor   33:             blk.11.attn_k.weight q5_K     [  4096,  4096,     1,     1 ]\n",
      "llama_model_loader: - tensor   34:        blk.11.attn_output.weight q5_K     [  4096,  4096,     1,     1 ]\n",
      "llama_model_loader: - tensor   35:             blk.11.attn_q.weight q5_K     [  4096,  4096,     1,     1 ]\n",
      "llama_model_loader: - tensor   36:             blk.11.attn_v.weight q6_K     [  4096,  4096,     1,     1 ]\n",
      "llama_model_loader: - tensor   37:          blk.12.attn_norm.weight f32      [  4096,     1,     1,     1 ]\n",
      "llama_model_loader: - tensor   38:           blk.12.ffn_down.weight q5_K     [ 11008,  4096,     1,     1 ]\n",
      "llama_model_loader: - tensor   39:           blk.12.ffn_gate.weight q5_K     [  4096, 11008,     1,     1 ]\n",
      "llama_model_loader: - tensor   40:             blk.12.ffn_up.weight q5_K     [  4096, 11008,     1,     1 ]\n",
      "llama_model_loader: - tensor   41:           blk.12.ffn_norm.weight f32      [  4096,     1,     1,     1 ]\n",
      "llama_model_loader: - tensor   42:             blk.12.attn_k.weight q5_K     [  4096,  4096,     1,     1 ]\n",
      "llama_model_loader: - tensor   43:        blk.12.attn_output.weight q5_K     [  4096,  4096,     1,     1 ]\n",
      "llama_model_loader: - tensor   44:             blk.12.attn_q.weight q5_K     [  4096,  4096,     1,     1 ]\n",
      "llama_model_loader: - tensor   45:             blk.12.attn_v.weight q5_K     [  4096,  4096,     1,     1 ]\n",
      "llama_model_loader: - tensor   46:          blk.13.attn_norm.weight f32      [  4096,     1,     1,     1 ]\n",
      "llama_model_loader: - tensor   47:           blk.13.ffn_down.weight q5_K     [ 11008,  4096,     1,     1 ]\n",
      "llama_model_loader: - tensor   48:           blk.13.ffn_gate.weight q5_K     [  4096, 11008,     1,     1 ]\n",
      "llama_model_loader: - tensor   49:             blk.13.ffn_up.weight q5_K     [  4096, 11008,     1,     1 ]\n",
      "llama_model_loader: - tensor   50:           blk.13.ffn_norm.weight f32      [  4096,     1,     1,     1 ]\n",
      "llama_model_loader: - tensor   51:             blk.13.attn_k.weight q5_K     [  4096,  4096,     1,     1 ]\n",
      "llama_model_loader: - tensor   52:        blk.13.attn_output.weight q5_K     [  4096,  4096,     1,     1 ]\n",
      "llama_model_loader: - tensor   53:             blk.13.attn_q.weight q5_K     [  4096,  4096,     1,     1 ]\n",
      "llama_model_loader: - tensor   54:             blk.13.attn_v.weight q5_K     [  4096,  4096,     1,     1 ]\n",
      "llama_model_loader: - tensor   55:          blk.14.attn_norm.weight f32      [  4096,     1,     1,     1 ]\n",
      "llama_model_loader: - tensor   56:           blk.14.ffn_down.weight q6_K     [ 11008,  4096,     1,     1 ]\n",
      "llama_model_loader: - tensor   57:           blk.14.ffn_gate.weight q5_K     [  4096, 11008,     1,     1 ]\n",
      "llama_model_loader: - tensor   58:             blk.14.ffn_up.weight q5_K     [  4096, 11008,     1,     1 ]\n",
      "llama_model_loader: - tensor   59:           blk.14.ffn_norm.weight f32      [  4096,     1,     1,     1 ]\n",
      "llama_model_loader: - tensor   60:             blk.14.attn_k.weight q5_K     [  4096,  4096,     1,     1 ]\n",
      "llama_model_loader: - tensor   61:        blk.14.attn_output.weight q5_K     [  4096,  4096,     1,     1 ]\n",
      "llama_model_loader: - tensor   62:             blk.14.attn_q.weight q5_K     [  4096,  4096,     1,     1 ]\n",
      "llama_model_loader: - tensor   63:             blk.14.attn_v.weight q6_K     [  4096,  4096,     1,     1 ]\n",
      "llama_model_loader: - tensor   64:          blk.15.attn_norm.weight f32      [  4096,     1,     1,     1 ]\n",
      "llama_model_loader: - tensor   65:           blk.15.ffn_down.weight q5_K     [ 11008,  4096,     1,     1 ]\n",
      "llama_model_loader: - tensor   66:           blk.15.ffn_gate.weight q5_K     [  4096, 11008,     1,     1 ]\n",
      "llama_model_loader: - tensor   67:             blk.15.ffn_up.weight q5_K     [  4096, 11008,     1,     1 ]\n",
      "llama_model_loader: - tensor   68:           blk.15.ffn_norm.weight f32      [  4096,     1,     1,     1 ]\n",
      "llama_model_loader: - tensor   69:             blk.15.attn_k.weight q5_K     [  4096,  4096,     1,     1 ]\n",
      "llama_model_loader: - tensor   70:        blk.15.attn_output.weight q5_K     [  4096,  4096,     1,     1 ]\n",
      "llama_model_loader: - tensor   71:             blk.15.attn_q.weight q5_K     [  4096,  4096,     1,     1 ]\n",
      "llama_model_loader: - tensor   72:             blk.15.attn_v.weight q5_K     [  4096,  4096,     1,     1 ]\n",
      "llama_model_loader: - tensor   73:          blk.16.attn_norm.weight f32      [  4096,     1,     1,     1 ]\n",
      "llama_model_loader: - tensor   74:           blk.16.ffn_down.weight q5_K     [ 11008,  4096,     1,     1 ]\n",
      "llama_model_loader: - tensor   75:           blk.16.ffn_gate.weight q5_K     [  4096, 11008,     1,     1 ]\n",
      "llama_model_loader: - tensor   76:             blk.16.ffn_up.weight q5_K     [  4096, 11008,     1,     1 ]\n",
      "llama_model_loader: - tensor   77:           blk.16.ffn_norm.weight f32      [  4096,     1,     1,     1 ]\n",
      "llama_model_loader: - tensor   78:             blk.16.attn_k.weight q5_K     [  4096,  4096,     1,     1 ]\n",
      "llama_model_loader: - tensor   79:        blk.16.attn_output.weight q5_K     [  4096,  4096,     1,     1 ]\n",
      "llama_model_loader: - tensor   80:             blk.16.attn_q.weight q5_K     [  4096,  4096,     1,     1 ]\n",
      "llama_model_loader: - tensor   81:             blk.16.attn_v.weight q5_K     [  4096,  4096,     1,     1 ]\n",
      "llama_model_loader: - tensor   82:          blk.17.attn_norm.weight f32      [  4096,     1,     1,     1 ]\n",
      "llama_model_loader: - tensor   83:           blk.17.ffn_down.weight q6_K     [ 11008,  4096,     1,     1 ]\n",
      "llama_model_loader: - tensor   84:           blk.17.ffn_gate.weight q5_K     [  4096, 11008,     1,     1 ]\n",
      "llama_model_loader: - tensor   85:             blk.17.ffn_up.weight q5_K     [  4096, 11008,     1,     1 ]\n",
      "llama_model_loader: - tensor   86:           blk.17.ffn_norm.weight f32      [  4096,     1,     1,     1 ]\n",
      "llama_model_loader: - tensor   87:             blk.17.attn_k.weight q5_K     [  4096,  4096,     1,     1 ]\n",
      "llama_model_loader: - tensor   88:        blk.17.attn_output.weight q5_K     [  4096,  4096,     1,     1 ]\n",
      "llama_model_loader: - tensor   89:             blk.17.attn_q.weight q5_K     [  4096,  4096,     1,     1 ]\n",
      "llama_model_loader: - tensor   90:             blk.17.attn_v.weight q6_K     [  4096,  4096,     1,     1 ]\n",
      "llama_model_loader: - tensor   91:          blk.18.attn_norm.weight f32      [  4096,     1,     1,     1 ]\n",
      "llama_model_loader: - tensor   92:           blk.18.ffn_down.weight q5_K     [ 11008,  4096,     1,     1 ]\n",
      "llama_model_loader: - tensor   93:           blk.18.ffn_gate.weight q5_K     [  4096, 11008,     1,     1 ]\n",
      "llama_model_loader: - tensor   94:             blk.18.ffn_up.weight q5_K     [  4096, 11008,     1,     1 ]\n",
      "llama_model_loader: - tensor   95:           blk.18.ffn_norm.weight f32      [  4096,     1,     1,     1 ]\n",
      "llama_model_loader: - tensor   96:             blk.18.attn_k.weight q5_K     [  4096,  4096,     1,     1 ]\n",
      "llama_model_loader: - tensor   97:        blk.18.attn_output.weight q5_K     [  4096,  4096,     1,     1 ]\n",
      "llama_model_loader: - tensor   98:             blk.18.attn_q.weight q5_K     [  4096,  4096,     1,     1 ]\n",
      "llama_model_loader: - tensor   99:             blk.18.attn_v.weight q5_K     [  4096,  4096,     1,     1 ]\n",
      "llama_model_loader: - tensor  100:          blk.19.attn_norm.weight f32      [  4096,     1,     1,     1 ]\n",
      "llama_model_loader: - tensor  101:           blk.19.ffn_down.weight q5_K     [ 11008,  4096,     1,     1 ]\n",
      "llama_model_loader: - tensor  102:           blk.19.ffn_gate.weight q5_K     [  4096, 11008,     1,     1 ]\n",
      "llama_model_loader: - tensor  103:             blk.19.ffn_up.weight q5_K     [  4096, 11008,     1,     1 ]\n",
      "llama_model_loader: - tensor  104:           blk.19.ffn_norm.weight f32      [  4096,     1,     1,     1 ]\n",
      "llama_model_loader: - tensor  105:             blk.19.attn_k.weight q5_K     [  4096,  4096,     1,     1 ]\n",
      "llama_model_loader: - tensor  106:        blk.19.attn_output.weight q5_K     [  4096,  4096,     1,     1 ]\n",
      "llama_model_loader: - tensor  107:             blk.19.attn_q.weight q5_K     [  4096,  4096,     1,     1 ]\n",
      "llama_model_loader: - tensor  108:             blk.19.attn_v.weight q5_K     [  4096,  4096,     1,     1 ]\n",
      "llama_model_loader: - tensor  109:           blk.2.attn_norm.weight f32      [  4096,     1,     1,     1 ]\n",
      "llama_model_loader: - tensor  110:            blk.2.ffn_down.weight q6_K     [ 11008,  4096,     1,     1 ]\n",
      "llama_model_loader: - tensor  111:            blk.2.ffn_gate.weight q5_K     [  4096, 11008,     1,     1 ]\n",
      "llama_model_loader: - tensor  112:              blk.2.ffn_up.weight q5_K     [  4096, 11008,     1,     1 ]\n",
      "llama_model_loader: - tensor  113:            blk.2.ffn_norm.weight f32      [  4096,     1,     1,     1 ]\n",
      "llama_model_loader: - tensor  114:              blk.2.attn_k.weight q5_K     [  4096,  4096,     1,     1 ]\n",
      "llama_model_loader: - tensor  115:         blk.2.attn_output.weight q5_K     [  4096,  4096,     1,     1 ]\n",
      "llama_model_loader: - tensor  116:              blk.2.attn_q.weight q5_K     [  4096,  4096,     1,     1 ]\n",
      "llama_model_loader: - tensor  117:              blk.2.attn_v.weight q6_K     [  4096,  4096,     1,     1 ]\n",
      "llama_model_loader: - tensor  118:          blk.20.attn_norm.weight f32      [  4096,     1,     1,     1 ]\n",
      "llama_model_loader: - tensor  119:           blk.20.ffn_down.weight q5_K     [ 11008,  4096,     1,     1 ]\n",
      "llama_model_loader: - tensor  120:           blk.20.ffn_gate.weight q5_K     [  4096, 11008,     1,     1 ]\n",
      "llama_model_loader: - tensor  121:             blk.20.ffn_up.weight q5_K     [  4096, 11008,     1,     1 ]\n",
      "llama_model_loader: - tensor  122:           blk.20.ffn_norm.weight f32      [  4096,     1,     1,     1 ]\n",
      "llama_model_loader: - tensor  123:             blk.20.attn_k.weight q5_K     [  4096,  4096,     1,     1 ]\n",
      "llama_model_loader: - tensor  124:        blk.20.attn_output.weight q5_K     [  4096,  4096,     1,     1 ]\n",
      "llama_model_loader: - tensor  125:             blk.20.attn_q.weight q5_K     [  4096,  4096,     1,     1 ]\n",
      "llama_model_loader: - tensor  126:             blk.20.attn_v.weight q5_K     [  4096,  4096,     1,     1 ]\n",
      "llama_model_loader: - tensor  127:          blk.21.attn_norm.weight f32      [  4096,     1,     1,     1 ]\n",
      "llama_model_loader: - tensor  128:           blk.21.ffn_down.weight q5_K     [ 11008,  4096,     1,     1 ]\n",
      "llama_model_loader: - tensor  129:           blk.21.ffn_gate.weight q5_K     [  4096, 11008,     1,     1 ]\n",
      "llama_model_loader: - tensor  130:             blk.21.ffn_up.weight q5_K     [  4096, 11008,     1,     1 ]\n",
      "llama_model_loader: - tensor  131:           blk.21.ffn_norm.weight f32      [  4096,     1,     1,     1 ]\n",
      "llama_model_loader: - tensor  132:             blk.21.attn_k.weight q5_K     [  4096,  4096,     1,     1 ]\n",
      "llama_model_loader: - tensor  133:        blk.21.attn_output.weight q5_K     [  4096,  4096,     1,     1 ]\n",
      "llama_model_loader: - tensor  134:             blk.21.attn_q.weight q5_K     [  4096,  4096,     1,     1 ]\n",
      "llama_model_loader: - tensor  135:             blk.21.attn_v.weight q5_K     [  4096,  4096,     1,     1 ]\n",
      "llama_model_loader: - tensor  136:          blk.22.attn_norm.weight f32      [  4096,     1,     1,     1 ]\n",
      "llama_model_loader: - tensor  137:           blk.22.ffn_down.weight q6_K     [ 11008,  4096,     1,     1 ]\n",
      "llama_model_loader: - tensor  138:           blk.22.ffn_gate.weight q5_K     [  4096, 11008,     1,     1 ]\n",
      "llama_model_loader: - tensor  139:             blk.22.ffn_up.weight q5_K     [  4096, 11008,     1,     1 ]\n",
      "llama_model_loader: - tensor  140:           blk.22.ffn_norm.weight f32      [  4096,     1,     1,     1 ]\n",
      "llama_model_loader: - tensor  141:             blk.22.attn_k.weight q5_K     [  4096,  4096,     1,     1 ]\n",
      "llama_model_loader: - tensor  142:        blk.22.attn_output.weight q5_K     [  4096,  4096,     1,     1 ]\n",
      "llama_model_loader: - tensor  143:             blk.22.attn_q.weight q5_K     [  4096,  4096,     1,     1 ]\n",
      "llama_model_loader: - tensor  144:             blk.22.attn_v.weight q6_K     [  4096,  4096,     1,     1 ]\n",
      "llama_model_loader: - tensor  145:          blk.23.attn_norm.weight f32      [  4096,     1,     1,     1 ]\n",
      "llama_model_loader: - tensor  146:           blk.23.ffn_down.weight q5_K     [ 11008,  4096,     1,     1 ]\n",
      "llama_model_loader: - tensor  147:           blk.23.ffn_gate.weight q5_K     [  4096, 11008,     1,     1 ]\n",
      "llama_model_loader: - tensor  148:             blk.23.ffn_up.weight q5_K     [  4096, 11008,     1,     1 ]\n",
      "llama_model_loader: - tensor  149:           blk.23.ffn_norm.weight f32      [  4096,     1,     1,     1 ]\n",
      "llama_model_loader: - tensor  150:             blk.23.attn_k.weight q5_K     [  4096,  4096,     1,     1 ]\n",
      "llama_model_loader: - tensor  151:        blk.23.attn_output.weight q5_K     [  4096,  4096,     1,     1 ]\n",
      "llama_model_loader: - tensor  152:             blk.23.attn_q.weight q5_K     [  4096,  4096,     1,     1 ]\n",
      "llama_model_loader: - tensor  153:             blk.23.attn_v.weight q5_K     [  4096,  4096,     1,     1 ]\n",
      "llama_model_loader: - tensor  154:           blk.3.attn_norm.weight f32      [  4096,     1,     1,     1 ]\n",
      "llama_model_loader: - tensor  155:            blk.3.ffn_down.weight q5_K     [ 11008,  4096,     1,     1 ]\n",
      "llama_model_loader: - tensor  156:            blk.3.ffn_gate.weight q5_K     [  4096, 11008,     1,     1 ]\n",
      "llama_model_loader: - tensor  157:              blk.3.ffn_up.weight q5_K     [  4096, 11008,     1,     1 ]\n",
      "llama_model_loader: - tensor  158:            blk.3.ffn_norm.weight f32      [  4096,     1,     1,     1 ]\n",
      "llama_model_loader: - tensor  159:              blk.3.attn_k.weight q5_K     [  4096,  4096,     1,     1 ]\n",
      "llama_model_loader: - tensor  160:         blk.3.attn_output.weight q5_K     [  4096,  4096,     1,     1 ]\n",
      "llama_model_loader: - tensor  161:              blk.3.attn_q.weight q5_K     [  4096,  4096,     1,     1 ]\n",
      "llama_model_loader: - tensor  162:              blk.3.attn_v.weight q5_K     [  4096,  4096,     1,     1 ]\n",
      "llama_model_loader: - tensor  163:           blk.4.attn_norm.weight f32      [  4096,     1,     1,     1 ]\n",
      "llama_model_loader: - tensor  164:            blk.4.ffn_down.weight q6_K     [ 11008,  4096,     1,     1 ]\n",
      "llama_model_loader: - tensor  165:            blk.4.ffn_gate.weight q5_K     [  4096, 11008,     1,     1 ]\n",
      "llama_model_loader: - tensor  166:              blk.4.ffn_up.weight q5_K     [  4096, 11008,     1,     1 ]\n",
      "llama_model_loader: - tensor  167:            blk.4.ffn_norm.weight f32      [  4096,     1,     1,     1 ]\n",
      "llama_model_loader: - tensor  168:              blk.4.attn_k.weight q5_K     [  4096,  4096,     1,     1 ]\n",
      "llama_model_loader: - tensor  169:         blk.4.attn_output.weight q5_K     [  4096,  4096,     1,     1 ]\n",
      "llama_model_loader: - tensor  170:              blk.4.attn_q.weight q5_K     [  4096,  4096,     1,     1 ]\n",
      "llama_model_loader: - tensor  171:              blk.4.attn_v.weight q6_K     [  4096,  4096,     1,     1 ]\n",
      "llama_model_loader: - tensor  172:           blk.5.attn_norm.weight f32      [  4096,     1,     1,     1 ]\n",
      "llama_model_loader: - tensor  173:            blk.5.ffn_down.weight q5_K     [ 11008,  4096,     1,     1 ]\n",
      "llama_model_loader: - tensor  174:            blk.5.ffn_gate.weight q5_K     [  4096, 11008,     1,     1 ]\n",
      "llama_model_loader: - tensor  175:              blk.5.ffn_up.weight q5_K     [  4096, 11008,     1,     1 ]\n",
      "llama_model_loader: - tensor  176:            blk.5.ffn_norm.weight f32      [  4096,     1,     1,     1 ]\n",
      "llama_model_loader: - tensor  177:              blk.5.attn_k.weight q5_K     [  4096,  4096,     1,     1 ]\n",
      "llama_model_loader: - tensor  178:         blk.5.attn_output.weight q5_K     [  4096,  4096,     1,     1 ]\n",
      "llama_model_loader: - tensor  179:              blk.5.attn_q.weight q5_K     [  4096,  4096,     1,     1 ]\n",
      "llama_model_loader: - tensor  180:              blk.5.attn_v.weight q5_K     [  4096,  4096,     1,     1 ]\n",
      "llama_model_loader: - tensor  181:           blk.6.attn_norm.weight f32      [  4096,     1,     1,     1 ]\n",
      "llama_model_loader: - tensor  182:            blk.6.ffn_down.weight q5_K     [ 11008,  4096,     1,     1 ]\n",
      "llama_model_loader: - tensor  183:            blk.6.ffn_gate.weight q5_K     [  4096, 11008,     1,     1 ]\n",
      "llama_model_loader: - tensor  184:              blk.6.ffn_up.weight q5_K     [  4096, 11008,     1,     1 ]\n",
      "llama_model_loader: - tensor  185:            blk.6.ffn_norm.weight f32      [  4096,     1,     1,     1 ]\n",
      "llama_model_loader: - tensor  186:              blk.6.attn_k.weight q5_K     [  4096,  4096,     1,     1 ]\n",
      "llama_model_loader: - tensor  187:         blk.6.attn_output.weight q5_K     [  4096,  4096,     1,     1 ]\n",
      "llama_model_loader: - tensor  188:              blk.6.attn_q.weight q5_K     [  4096,  4096,     1,     1 ]\n",
      "llama_model_loader: - tensor  189:              blk.6.attn_v.weight q5_K     [  4096,  4096,     1,     1 ]\n",
      "llama_model_loader: - tensor  190:           blk.7.attn_norm.weight f32      [  4096,     1,     1,     1 ]\n",
      "llama_model_loader: - tensor  191:            blk.7.ffn_down.weight q6_K     [ 11008,  4096,     1,     1 ]\n",
      "llama_model_loader: - tensor  192:            blk.7.ffn_gate.weight q5_K     [  4096, 11008,     1,     1 ]\n",
      "llama_model_loader: - tensor  193:              blk.7.ffn_up.weight q5_K     [  4096, 11008,     1,     1 ]\n",
      "llama_model_loader: - tensor  194:            blk.7.ffn_norm.weight f32      [  4096,     1,     1,     1 ]\n",
      "llama_model_loader: - tensor  195:              blk.7.attn_k.weight q5_K     [  4096,  4096,     1,     1 ]\n",
      "llama_model_loader: - tensor  196:         blk.7.attn_output.weight q5_K     [  4096,  4096,     1,     1 ]\n",
      "llama_model_loader: - tensor  197:              blk.7.attn_q.weight q5_K     [  4096,  4096,     1,     1 ]\n",
      "llama_model_loader: - tensor  198:              blk.7.attn_v.weight q6_K     [  4096,  4096,     1,     1 ]\n",
      "llama_model_loader: - tensor  199:           blk.8.attn_norm.weight f32      [  4096,     1,     1,     1 ]\n",
      "llama_model_loader: - tensor  200:            blk.8.ffn_down.weight q5_K     [ 11008,  4096,     1,     1 ]\n",
      "llama_model_loader: - tensor  201:            blk.8.ffn_gate.weight q5_K     [  4096, 11008,     1,     1 ]\n",
      "llama_model_loader: - tensor  202:              blk.8.ffn_up.weight q5_K     [  4096, 11008,     1,     1 ]\n",
      "llama_model_loader: - tensor  203:            blk.8.ffn_norm.weight f32      [  4096,     1,     1,     1 ]\n",
      "llama_model_loader: - tensor  204:              blk.8.attn_k.weight q5_K     [  4096,  4096,     1,     1 ]\n",
      "llama_model_loader: - tensor  205:         blk.8.attn_output.weight q5_K     [  4096,  4096,     1,     1 ]\n",
      "llama_model_loader: - tensor  206:              blk.8.attn_q.weight q5_K     [  4096,  4096,     1,     1 ]\n",
      "llama_model_loader: - tensor  207:              blk.8.attn_v.weight q5_K     [  4096,  4096,     1,     1 ]\n",
      "llama_model_loader: - tensor  208:           blk.9.attn_norm.weight f32      [  4096,     1,     1,     1 ]\n",
      "llama_model_loader: - tensor  209:            blk.9.ffn_down.weight q5_K     [ 11008,  4096,     1,     1 ]\n",
      "llama_model_loader: - tensor  210:            blk.9.ffn_gate.weight q5_K     [  4096, 11008,     1,     1 ]\n",
      "llama_model_loader: - tensor  211:              blk.9.ffn_up.weight q5_K     [  4096, 11008,     1,     1 ]\n",
      "llama_model_loader: - tensor  212:            blk.9.ffn_norm.weight f32      [  4096,     1,     1,     1 ]\n",
      "llama_model_loader: - tensor  213:              blk.9.attn_k.weight q5_K     [  4096,  4096,     1,     1 ]\n",
      "llama_model_loader: - tensor  214:         blk.9.attn_output.weight q5_K     [  4096,  4096,     1,     1 ]\n",
      "llama_model_loader: - tensor  215:              blk.9.attn_q.weight q5_K     [  4096,  4096,     1,     1 ]\n",
      "llama_model_loader: - tensor  216:              blk.9.attn_v.weight q5_K     [  4096,  4096,     1,     1 ]\n",
      "llama_model_loader: - tensor  217:                    output.weight q6_K     [  4096, 32000,     1,     1 ]\n",
      "llama_model_loader: - tensor  218:          blk.24.attn_norm.weight f32      [  4096,     1,     1,     1 ]\n",
      "llama_model_loader: - tensor  219:           blk.24.ffn_down.weight q6_K     [ 11008,  4096,     1,     1 ]\n",
      "llama_model_loader: - tensor  220:           blk.24.ffn_gate.weight q5_K     [  4096, 11008,     1,     1 ]\n",
      "llama_model_loader: - tensor  221:             blk.24.ffn_up.weight q5_K     [  4096, 11008,     1,     1 ]\n",
      "llama_model_loader: - tensor  222:           blk.24.ffn_norm.weight f32      [  4096,     1,     1,     1 ]\n",
      "llama_model_loader: - tensor  223:             blk.24.attn_k.weight q5_K     [  4096,  4096,     1,     1 ]\n",
      "llama_model_loader: - tensor  224:        blk.24.attn_output.weight q5_K     [  4096,  4096,     1,     1 ]\n",
      "llama_model_loader: - tensor  225:             blk.24.attn_q.weight q5_K     [  4096,  4096,     1,     1 ]\n",
      "llama_model_loader: - tensor  226:             blk.24.attn_v.weight q6_K     [  4096,  4096,     1,     1 ]\n",
      "llama_model_loader: - tensor  227:          blk.25.attn_norm.weight f32      [  4096,     1,     1,     1 ]\n",
      "llama_model_loader: - tensor  228:           blk.25.ffn_down.weight q5_K     [ 11008,  4096,     1,     1 ]\n",
      "llama_model_loader: - tensor  229:           blk.25.ffn_gate.weight q5_K     [  4096, 11008,     1,     1 ]\n",
      "llama_model_loader: - tensor  230:             blk.25.ffn_up.weight q5_K     [  4096, 11008,     1,     1 ]\n",
      "llama_model_loader: - tensor  231:           blk.25.ffn_norm.weight f32      [  4096,     1,     1,     1 ]\n",
      "llama_model_loader: - tensor  232:             blk.25.attn_k.weight q5_K     [  4096,  4096,     1,     1 ]\n",
      "llama_model_loader: - tensor  233:        blk.25.attn_output.weight q5_K     [  4096,  4096,     1,     1 ]\n",
      "llama_model_loader: - tensor  234:             blk.25.attn_q.weight q5_K     [  4096,  4096,     1,     1 ]\n",
      "llama_model_loader: - tensor  235:             blk.25.attn_v.weight q5_K     [  4096,  4096,     1,     1 ]\n",
      "llama_model_loader: - tensor  236:          blk.26.attn_norm.weight f32      [  4096,     1,     1,     1 ]\n",
      "llama_model_loader: - tensor  237:           blk.26.ffn_down.weight q5_K     [ 11008,  4096,     1,     1 ]\n",
      "llama_model_loader: - tensor  238:           blk.26.ffn_gate.weight q5_K     [  4096, 11008,     1,     1 ]\n",
      "llama_model_loader: - tensor  239:             blk.26.ffn_up.weight q5_K     [  4096, 11008,     1,     1 ]\n",
      "llama_model_loader: - tensor  240:           blk.26.ffn_norm.weight f32      [  4096,     1,     1,     1 ]\n",
      "llama_model_loader: - tensor  241:             blk.26.attn_k.weight q5_K     [  4096,  4096,     1,     1 ]\n",
      "llama_model_loader: - tensor  242:        blk.26.attn_output.weight q5_K     [  4096,  4096,     1,     1 ]\n",
      "llama_model_loader: - tensor  243:             blk.26.attn_q.weight q5_K     [  4096,  4096,     1,     1 ]\n",
      "llama_model_loader: - tensor  244:             blk.26.attn_v.weight q5_K     [  4096,  4096,     1,     1 ]\n",
      "llama_model_loader: - tensor  245:          blk.27.attn_norm.weight f32      [  4096,     1,     1,     1 ]\n",
      "llama_model_loader: - tensor  246:           blk.27.ffn_down.weight q6_K     [ 11008,  4096,     1,     1 ]\n",
      "llama_model_loader: - tensor  247:           blk.27.ffn_gate.weight q5_K     [  4096, 11008,     1,     1 ]\n",
      "llama_model_loader: - tensor  248:             blk.27.ffn_up.weight q5_K     [  4096, 11008,     1,     1 ]\n",
      "llama_model_loader: - tensor  249:           blk.27.ffn_norm.weight f32      [  4096,     1,     1,     1 ]\n",
      "llama_model_loader: - tensor  250:             blk.27.attn_k.weight q5_K     [  4096,  4096,     1,     1 ]\n",
      "llama_model_loader: - tensor  251:        blk.27.attn_output.weight q5_K     [  4096,  4096,     1,     1 ]\n",
      "llama_model_loader: - tensor  252:             blk.27.attn_q.weight q5_K     [  4096,  4096,     1,     1 ]\n",
      "llama_model_loader: - tensor  253:             blk.27.attn_v.weight q6_K     [  4096,  4096,     1,     1 ]\n",
      "llama_model_loader: - tensor  254:          blk.28.attn_norm.weight f32      [  4096,     1,     1,     1 ]\n",
      "llama_model_loader: - tensor  255:           blk.28.ffn_down.weight q6_K     [ 11008,  4096,     1,     1 ]\n",
      "llama_model_loader: - tensor  256:           blk.28.ffn_gate.weight q5_K     [  4096, 11008,     1,     1 ]\n",
      "llama_model_loader: - tensor  257:             blk.28.ffn_up.weight q5_K     [  4096, 11008,     1,     1 ]\n",
      "llama_model_loader: - tensor  258:           blk.28.ffn_norm.weight f32      [  4096,     1,     1,     1 ]\n",
      "llama_model_loader: - tensor  259:             blk.28.attn_k.weight q5_K     [  4096,  4096,     1,     1 ]\n",
      "llama_model_loader: - tensor  260:        blk.28.attn_output.weight q5_K     [  4096,  4096,     1,     1 ]\n",
      "llama_model_loader: - tensor  261:             blk.28.attn_q.weight q5_K     [  4096,  4096,     1,     1 ]\n",
      "llama_model_loader: - tensor  262:             blk.28.attn_v.weight q6_K     [  4096,  4096,     1,     1 ]\n",
      "llama_model_loader: - tensor  263:          blk.29.attn_norm.weight f32      [  4096,     1,     1,     1 ]\n",
      "llama_model_loader: - tensor  264:           blk.29.ffn_down.weight q6_K     [ 11008,  4096,     1,     1 ]\n",
      "llama_model_loader: - tensor  265:           blk.29.ffn_gate.weight q5_K     [  4096, 11008,     1,     1 ]\n",
      "llama_model_loader: - tensor  266:             blk.29.ffn_up.weight q5_K     [  4096, 11008,     1,     1 ]\n",
      "llama_model_loader: - tensor  267:           blk.29.ffn_norm.weight f32      [  4096,     1,     1,     1 ]\n",
      "llama_model_loader: - tensor  268:             blk.29.attn_k.weight q5_K     [  4096,  4096,     1,     1 ]\n",
      "llama_model_loader: - tensor  269:        blk.29.attn_output.weight q5_K     [  4096,  4096,     1,     1 ]\n",
      "llama_model_loader: - tensor  270:             blk.29.attn_q.weight q5_K     [  4096,  4096,     1,     1 ]\n",
      "llama_model_loader: - tensor  271:             blk.29.attn_v.weight q6_K     [  4096,  4096,     1,     1 ]\n",
      "llama_model_loader: - tensor  272:          blk.30.attn_norm.weight f32      [  4096,     1,     1,     1 ]\n",
      "llama_model_loader: - tensor  273:           blk.30.ffn_down.weight q6_K     [ 11008,  4096,     1,     1 ]\n",
      "llama_model_loader: - tensor  274:           blk.30.ffn_gate.weight q5_K     [  4096, 11008,     1,     1 ]\n",
      "llama_model_loader: - tensor  275:             blk.30.ffn_up.weight q5_K     [  4096, 11008,     1,     1 ]\n",
      "llama_model_loader: - tensor  276:           blk.30.ffn_norm.weight f32      [  4096,     1,     1,     1 ]\n",
      "llama_model_loader: - tensor  277:             blk.30.attn_k.weight q5_K     [  4096,  4096,     1,     1 ]\n",
      "llama_model_loader: - tensor  278:        blk.30.attn_output.weight q5_K     [  4096,  4096,     1,     1 ]\n",
      "llama_model_loader: - tensor  279:             blk.30.attn_q.weight q5_K     [  4096,  4096,     1,     1 ]\n",
      "llama_model_loader: - tensor  280:             blk.30.attn_v.weight q6_K     [  4096,  4096,     1,     1 ]\n",
      "llama_model_loader: - tensor  281:          blk.31.attn_norm.weight f32      [  4096,     1,     1,     1 ]\n",
      "llama_model_loader: - tensor  282:           blk.31.ffn_down.weight q6_K     [ 11008,  4096,     1,     1 ]\n",
      "llama_model_loader: - tensor  283:           blk.31.ffn_gate.weight q5_K     [  4096, 11008,     1,     1 ]\n",
      "llama_model_loader: - tensor  284:             blk.31.ffn_up.weight q5_K     [  4096, 11008,     1,     1 ]\n",
      "llama_model_loader: - tensor  285:           blk.31.ffn_norm.weight f32      [  4096,     1,     1,     1 ]\n",
      "llama_model_loader: - tensor  286:             blk.31.attn_k.weight q5_K     [  4096,  4096,     1,     1 ]\n",
      "llama_model_loader: - tensor  287:        blk.31.attn_output.weight q5_K     [  4096,  4096,     1,     1 ]\n",
      "llama_model_loader: - tensor  288:             blk.31.attn_q.weight q5_K     [  4096,  4096,     1,     1 ]\n",
      "llama_model_loader: - tensor  289:             blk.31.attn_v.weight q6_K     [  4096,  4096,     1,     1 ]\n",
      "llama_model_loader: - tensor  290:               output_norm.weight f32      [  4096,     1,     1,     1 ]\n",
      "llama_model_loader: - kv   0:                       general.architecture str     \n",
      "llama_model_loader: - kv   1:                               general.name str     \n",
      "llama_model_loader: - kv   2:                       llama.context_length u32     \n",
      "llama_model_loader: - kv   3:                     llama.embedding_length u32     \n",
      "llama_model_loader: - kv   4:                          llama.block_count u32     \n",
      "llama_model_loader: - kv   5:                  llama.feed_forward_length u32     \n",
      "llama_model_loader: - kv   6:                 llama.rope.dimension_count u32     \n",
      "llama_model_loader: - kv   7:                 llama.attention.head_count u32     \n",
      "llama_model_loader: - kv   8:              llama.attention.head_count_kv u32     \n",
      "llama_model_loader: - kv   9:     llama.attention.layer_norm_rms_epsilon f32     \n",
      "llama_model_loader: - kv  10:                          general.file_type u32     \n",
      "llama_model_loader: - kv  11:                       tokenizer.ggml.model str     \n",
      "llama_model_loader: - kv  12:                      tokenizer.ggml.tokens arr     \n",
      "llama_model_loader: - kv  13:                      tokenizer.ggml.scores arr     \n",
      "llama_model_loader: - kv  14:                  tokenizer.ggml.token_type arr     \n",
      "llama_model_loader: - kv  15:                tokenizer.ggml.bos_token_id u32     \n",
      "llama_model_loader: - kv  16:                tokenizer.ggml.eos_token_id u32     \n",
      "llama_model_loader: - kv  17:            tokenizer.ggml.unknown_token_id u32     \n",
      "llama_model_loader: - kv  18:               general.quantization_version u32     \n",
      "llama_model_loader: - type  f32:   65 tensors\n",
      "llama_model_loader: - type q5_K:  193 tensors\n",
      "llama_model_loader: - type q6_K:   33 tensors\n"
     ]
    },
    {
     "name": "stderr",
     "output_type": "stream",
     "text": [
      "llm_load_vocab: special tokens definition check successful ( 259/32000 ).\n",
      "llm_load_print_meta: format           = GGUF V2\n",
      "llm_load_print_meta: arch             = llama\n",
      "llm_load_print_meta: vocab type       = SPM\n",
      "llm_load_print_meta: n_vocab          = 32000\n",
      "llm_load_print_meta: n_merges         = 0\n",
      "llm_load_print_meta: n_ctx_train      = 4096\n",
      "llm_load_print_meta: n_embd           = 4096\n",
      "llm_load_print_meta: n_head           = 32\n",
      "llm_load_print_meta: n_head_kv        = 32\n",
      "llm_load_print_meta: n_layer          = 32\n",
      "llm_load_print_meta: n_rot            = 128\n",
      "llm_load_print_meta: n_gqa            = 1\n",
      "llm_load_print_meta: f_norm_eps       = 0.0e+00\n",
      "llm_load_print_meta: f_norm_rms_eps   = 1.0e-06\n",
      "llm_load_print_meta: f_clamp_kqv      = 0.0e+00\n",
      "llm_load_print_meta: f_max_alibi_bias = 0.0e+00\n",
      "llm_load_print_meta: n_ff             = 11008\n",
      "llm_load_print_meta: rope scaling     = linear\n",
      "llm_load_print_meta: freq_base_train  = 10000.0\n",
      "llm_load_print_meta: freq_scale_train = 1\n",
      "llm_load_print_meta: n_yarn_orig_ctx  = 4096\n",
      "llm_load_print_meta: rope_finetuned   = unknown\n",
      "llm_load_print_meta: model type       = 7B\n",
      "llm_load_print_meta: model ftype      = mostly Q5_K - Medium\n",
      "llm_load_print_meta: model params     = 6.74 B\n",
      "llm_load_print_meta: model size       = 4.45 GiB (5.68 BPW) \n",
      "llm_load_print_meta: general.name   = LLaMA v2\n",
      "llm_load_print_meta: BOS token = 1 '<s>'\n",
      "llm_load_print_meta: EOS token = 2 '</s>'\n",
      "llm_load_print_meta: UNK token = 0 '<unk>'\n",
      "llm_load_print_meta: LF token  = 13 '<0x0A>'\n",
      "llm_load_tensors: ggml ctx size =    0.11 MB\n",
      "llm_load_tensors: mem required  = 4560.97 MB\n",
      "...................................................................................................\n",
      "llama_new_context_with_model: n_ctx      = 3900\n",
      "llama_new_context_with_model: freq_base  = 10000.0\n",
      "llama_new_context_with_model: freq_scale = 1\n",
      "llama_new_context_with_model: kv self size  = 1950.00 MB\n",
      "llama_build_graph: non-view tensors processed: 740/740\n",
      "llama_new_context_with_model: compute buffer total size = 282.00 MB\n",
      "AVX = 0 | AVX2 = 0 | AVX512 = 0 | AVX512_VBMI = 0 | AVX512_VNNI = 0 | FMA = 0 | NEON = 0 | ARM_FMA = 0 | F16C = 0 | FP16_VA = 0 | WASM_SIMD = 0 | BLAS = 1 | SSE3 = 1 | SSSE3 = 1 | VSX = 0 | \n"
     ]
    }
   ],
   "source": [
    "import logging\n",
    "import sys\n",
    "\n",
    "from llama_index.callbacks import CallbackManager, LlamaDebugHandler\n",
    "from llama_index.llms import LlamaCPP\n",
    "from llama_index.llms.llama_utils import messages_to_prompt, completion_to_prompt\n",
    "\n",
    "logging.basicConfig(stream=sys.stdout, level=logging.INFO)  # Change INFO to DEBUG if you want more extensive logging\n",
    "logging.getLogger().addHandler(logging.StreamHandler(stream=sys.stdout))\n",
    "\n",
    "llama_debug = LlamaDebugHandler(print_trace_on_end=True)\n",
    "callback_manager = CallbackManager([llama_debug])\n",
    "\n",
    "llm = LlamaCPP(\n",
    "    model_url=\"https://huggingface.co/TheBloke/Llama-2-7B-chat-GGUF/resolve/main/llama-2-7b-chat.Q5_K_M.gguf\",\n",
    "    \n",
    "    # optionally, you can set the path to a pre-downloaded model instead of model_url\n",
    "    model_path=None,\n",
    "    \n",
    "    temperature=0.0,\n",
    "    max_new_tokens=1024,\n",
    "    \n",
    "    # llama2 has a context window of 4096 tokens, but we set it lower to allow for some wiggle room\n",
    "    context_window=3900,  # note, this sets n_ctx in the model_kwargs below, so you don't need to pass it there.\n",
    "    \n",
    "    # kwargs to pass to __call__()\n",
    "    generate_kwargs={},\n",
    "    \n",
    "    # kwargs to pass to __init__()\n",
    "    # set to at least 1 to use GPU\n",
    "   # model_kwargs={\"n_gpu_layers\": 4}, # I need to play with this and see if it actually helps\n",
    "    \n",
    "    # transform inputs into Llama2 format\n",
    "    messages_to_prompt=messages_to_prompt,\n",
    "    completion_to_prompt=completion_to_prompt,\n",
    "    verbose=True,\n",
    ")"
   ]
  },
  {
   "cell_type": "markdown",
   "id": "3d13db63",
   "metadata": {},
   "source": [
    "## and if we have downloaded already, we can load next time. "
   ]
  },
  {
   "cell_type": "code",
   "execution_count": 12,
   "id": "364fe760",
   "metadata": {},
   "outputs": [
    {
     "name": "stderr",
     "output_type": "stream",
     "text": [
      "llama_model_loader: loaded meta data with 19 key-value pairs and 291 tensors from /Users/s/Library/Caches/llama_index/models/llama-2-7b-chat.Q4_K_M.gguf (version GGUF V2)\n",
      "llama_model_loader: - tensor    0:                token_embd.weight q4_K     [  4096, 32000,     1,     1 ]\n",
      "llama_model_loader: - tensor    1:           blk.0.attn_norm.weight f32      [  4096,     1,     1,     1 ]\n",
      "llama_model_loader: - tensor    2:            blk.0.ffn_down.weight q6_K     [ 11008,  4096,     1,     1 ]\n",
      "llama_model_loader: - tensor    3:            blk.0.ffn_gate.weight q4_K     [  4096, 11008,     1,     1 ]\n",
      "llama_model_loader: - tensor    4:              blk.0.ffn_up.weight q4_K     [  4096, 11008,     1,     1 ]\n",
      "llama_model_loader: - tensor    5:            blk.0.ffn_norm.weight f32      [  4096,     1,     1,     1 ]\n",
      "llama_model_loader: - tensor    6:              blk.0.attn_k.weight q4_K     [  4096,  4096,     1,     1 ]\n",
      "llama_model_loader: - tensor    7:         blk.0.attn_output.weight q4_K     [  4096,  4096,     1,     1 ]\n",
      "llama_model_loader: - tensor    8:              blk.0.attn_q.weight q4_K     [  4096,  4096,     1,     1 ]\n",
      "llama_model_loader: - tensor    9:              blk.0.attn_v.weight q6_K     [  4096,  4096,     1,     1 ]\n",
      "llama_model_loader: - tensor   10:           blk.1.attn_norm.weight f32      [  4096,     1,     1,     1 ]\n",
      "llama_model_loader: - tensor   11:            blk.1.ffn_down.weight q6_K     [ 11008,  4096,     1,     1 ]\n",
      "llama_model_loader: - tensor   12:            blk.1.ffn_gate.weight q4_K     [  4096, 11008,     1,     1 ]\n",
      "llama_model_loader: - tensor   13:              blk.1.ffn_up.weight q4_K     [  4096, 11008,     1,     1 ]\n",
      "llama_model_loader: - tensor   14:            blk.1.ffn_norm.weight f32      [  4096,     1,     1,     1 ]\n",
      "llama_model_loader: - tensor   15:              blk.1.attn_k.weight q4_K     [  4096,  4096,     1,     1 ]\n",
      "llama_model_loader: - tensor   16:         blk.1.attn_output.weight q4_K     [  4096,  4096,     1,     1 ]\n",
      "llama_model_loader: - tensor   17:              blk.1.attn_q.weight q4_K     [  4096,  4096,     1,     1 ]\n",
      "llama_model_loader: - tensor   18:              blk.1.attn_v.weight q6_K     [  4096,  4096,     1,     1 ]\n",
      "llama_model_loader: - tensor   19:          blk.10.attn_norm.weight f32      [  4096,     1,     1,     1 ]\n",
      "llama_model_loader: - tensor   20:           blk.10.ffn_down.weight q6_K     [ 11008,  4096,     1,     1 ]\n",
      "llama_model_loader: - tensor   21:           blk.10.ffn_gate.weight q4_K     [  4096, 11008,     1,     1 ]\n",
      "llama_model_loader: - tensor   22:             blk.10.ffn_up.weight q4_K     [  4096, 11008,     1,     1 ]\n",
      "llama_model_loader: - tensor   23:           blk.10.ffn_norm.weight f32      [  4096,     1,     1,     1 ]\n",
      "llama_model_loader: - tensor   24:             blk.10.attn_k.weight q4_K     [  4096,  4096,     1,     1 ]\n",
      "llama_model_loader: - tensor   25:        blk.10.attn_output.weight q4_K     [  4096,  4096,     1,     1 ]\n",
      "llama_model_loader: - tensor   26:             blk.10.attn_q.weight q4_K     [  4096,  4096,     1,     1 ]\n",
      "llama_model_loader: - tensor   27:             blk.10.attn_v.weight q6_K     [  4096,  4096,     1,     1 ]\n",
      "llama_model_loader: - tensor   28:          blk.11.attn_norm.weight f32      [  4096,     1,     1,     1 ]\n",
      "llama_model_loader: - tensor   29:           blk.11.ffn_down.weight q6_K     [ 11008,  4096,     1,     1 ]\n",
      "llama_model_loader: - tensor   30:           blk.11.ffn_gate.weight q4_K     [  4096, 11008,     1,     1 ]\n",
      "llama_model_loader: - tensor   31:             blk.11.ffn_up.weight q4_K     [  4096, 11008,     1,     1 ]\n",
      "llama_model_loader: - tensor   32:           blk.11.ffn_norm.weight f32      [  4096,     1,     1,     1 ]\n",
      "llama_model_loader: - tensor   33:             blk.11.attn_k.weight q4_K     [  4096,  4096,     1,     1 ]\n",
      "llama_model_loader: - tensor   34:        blk.11.attn_output.weight q4_K     [  4096,  4096,     1,     1 ]\n",
      "llama_model_loader: - tensor   35:             blk.11.attn_q.weight q4_K     [  4096,  4096,     1,     1 ]\n",
      "llama_model_loader: - tensor   36:             blk.11.attn_v.weight q6_K     [  4096,  4096,     1,     1 ]\n",
      "llama_model_loader: - tensor   37:          blk.12.attn_norm.weight f32      [  4096,     1,     1,     1 ]\n",
      "llama_model_loader: - tensor   38:           blk.12.ffn_down.weight q4_K     [ 11008,  4096,     1,     1 ]\n",
      "llama_model_loader: - tensor   39:           blk.12.ffn_gate.weight q4_K     [  4096, 11008,     1,     1 ]\n",
      "llama_model_loader: - tensor   40:             blk.12.ffn_up.weight q4_K     [  4096, 11008,     1,     1 ]\n",
      "llama_model_loader: - tensor   41:           blk.12.ffn_norm.weight f32      [  4096,     1,     1,     1 ]\n",
      "llama_model_loader: - tensor   42:             blk.12.attn_k.weight q4_K     [  4096,  4096,     1,     1 ]\n",
      "llama_model_loader: - tensor   43:        blk.12.attn_output.weight q4_K     [  4096,  4096,     1,     1 ]\n",
      "llama_model_loader: - tensor   44:             blk.12.attn_q.weight q4_K     [  4096,  4096,     1,     1 ]\n",
      "llama_model_loader: - tensor   45:             blk.12.attn_v.weight q4_K     [  4096,  4096,     1,     1 ]\n",
      "llama_model_loader: - tensor   46:          blk.13.attn_norm.weight f32      [  4096,     1,     1,     1 ]\n",
      "llama_model_loader: - tensor   47:           blk.13.ffn_down.weight q4_K     [ 11008,  4096,     1,     1 ]\n",
      "llama_model_loader: - tensor   48:           blk.13.ffn_gate.weight q4_K     [  4096, 11008,     1,     1 ]\n",
      "llama_model_loader: - tensor   49:             blk.13.ffn_up.weight q4_K     [  4096, 11008,     1,     1 ]\n",
      "llama_model_loader: - tensor   50:           blk.13.ffn_norm.weight f32      [  4096,     1,     1,     1 ]\n",
      "llama_model_loader: - tensor   51:             blk.13.attn_k.weight q4_K     [  4096,  4096,     1,     1 ]\n",
      "llama_model_loader: - tensor   52:        blk.13.attn_output.weight q4_K     [  4096,  4096,     1,     1 ]\n",
      "llama_model_loader: - tensor   53:             blk.13.attn_q.weight q4_K     [  4096,  4096,     1,     1 ]\n",
      "llama_model_loader: - tensor   54:             blk.13.attn_v.weight q4_K     [  4096,  4096,     1,     1 ]\n",
      "llama_model_loader: - tensor   55:          blk.14.attn_norm.weight f32      [  4096,     1,     1,     1 ]\n",
      "llama_model_loader: - tensor   56:           blk.14.ffn_down.weight q6_K     [ 11008,  4096,     1,     1 ]\n",
      "llama_model_loader: - tensor   57:           blk.14.ffn_gate.weight q4_K     [  4096, 11008,     1,     1 ]\n",
      "llama_model_loader: - tensor   58:             blk.14.ffn_up.weight q4_K     [  4096, 11008,     1,     1 ]\n",
      "llama_model_loader: - tensor   59:           blk.14.ffn_norm.weight f32      [  4096,     1,     1,     1 ]\n",
      "llama_model_loader: - tensor   60:             blk.14.attn_k.weight q4_K     [  4096,  4096,     1,     1 ]\n",
      "llama_model_loader: - tensor   61:        blk.14.attn_output.weight q4_K     [  4096,  4096,     1,     1 ]\n",
      "llama_model_loader: - tensor   62:             blk.14.attn_q.weight q4_K     [  4096,  4096,     1,     1 ]\n",
      "llama_model_loader: - tensor   63:             blk.14.attn_v.weight q6_K     [  4096,  4096,     1,     1 ]\n",
      "llama_model_loader: - tensor   64:          blk.15.attn_norm.weight f32      [  4096,     1,     1,     1 ]\n",
      "llama_model_loader: - tensor   65:           blk.15.ffn_down.weight q4_K     [ 11008,  4096,     1,     1 ]\n",
      "llama_model_loader: - tensor   66:           blk.15.ffn_gate.weight q4_K     [  4096, 11008,     1,     1 ]\n",
      "llama_model_loader: - tensor   67:             blk.15.ffn_up.weight q4_K     [  4096, 11008,     1,     1 ]\n",
      "llama_model_loader: - tensor   68:           blk.15.ffn_norm.weight f32      [  4096,     1,     1,     1 ]\n",
      "llama_model_loader: - tensor   69:             blk.15.attn_k.weight q4_K     [  4096,  4096,     1,     1 ]\n",
      "llama_model_loader: - tensor   70:        blk.15.attn_output.weight q4_K     [  4096,  4096,     1,     1 ]\n",
      "llama_model_loader: - tensor   71:             blk.15.attn_q.weight q4_K     [  4096,  4096,     1,     1 ]\n",
      "llama_model_loader: - tensor   72:             blk.15.attn_v.weight q4_K     [  4096,  4096,     1,     1 ]\n",
      "llama_model_loader: - tensor   73:          blk.16.attn_norm.weight f32      [  4096,     1,     1,     1 ]\n",
      "llama_model_loader: - tensor   74:           blk.16.ffn_down.weight q4_K     [ 11008,  4096,     1,     1 ]\n",
      "llama_model_loader: - tensor   75:           blk.16.ffn_gate.weight q4_K     [  4096, 11008,     1,     1 ]\n",
      "llama_model_loader: - tensor   76:             blk.16.ffn_up.weight q4_K     [  4096, 11008,     1,     1 ]\n",
      "llama_model_loader: - tensor   77:           blk.16.ffn_norm.weight f32      [  4096,     1,     1,     1 ]\n",
      "llama_model_loader: - tensor   78:             blk.16.attn_k.weight q4_K     [  4096,  4096,     1,     1 ]\n",
      "llama_model_loader: - tensor   79:        blk.16.attn_output.weight q4_K     [  4096,  4096,     1,     1 ]\n",
      "llama_model_loader: - tensor   80:             blk.16.attn_q.weight q4_K     [  4096,  4096,     1,     1 ]\n",
      "llama_model_loader: - tensor   81:             blk.16.attn_v.weight q4_K     [  4096,  4096,     1,     1 ]\n",
      "llama_model_loader: - tensor   82:          blk.17.attn_norm.weight f32      [  4096,     1,     1,     1 ]\n",
      "llama_model_loader: - tensor   83:           blk.17.ffn_down.weight q6_K     [ 11008,  4096,     1,     1 ]\n",
      "llama_model_loader: - tensor   84:           blk.17.ffn_gate.weight q4_K     [  4096, 11008,     1,     1 ]\n",
      "llama_model_loader: - tensor   85:             blk.17.ffn_up.weight q4_K     [  4096, 11008,     1,     1 ]\n",
      "llama_model_loader: - tensor   86:           blk.17.ffn_norm.weight f32      [  4096,     1,     1,     1 ]\n",
      "llama_model_loader: - tensor   87:             blk.17.attn_k.weight q4_K     [  4096,  4096,     1,     1 ]\n",
      "llama_model_loader: - tensor   88:        blk.17.attn_output.weight q4_K     [  4096,  4096,     1,     1 ]\n",
      "llama_model_loader: - tensor   89:             blk.17.attn_q.weight q4_K     [  4096,  4096,     1,     1 ]\n",
      "llama_model_loader: - tensor   90:             blk.17.attn_v.weight q6_K     [  4096,  4096,     1,     1 ]\n",
      "llama_model_loader: - tensor   91:          blk.18.attn_norm.weight f32      [  4096,     1,     1,     1 ]\n",
      "llama_model_loader: - tensor   92:           blk.18.ffn_down.weight q4_K     [ 11008,  4096,     1,     1 ]\n",
      "llama_model_loader: - tensor   93:           blk.18.ffn_gate.weight q4_K     [  4096, 11008,     1,     1 ]\n",
      "llama_model_loader: - tensor   94:             blk.18.ffn_up.weight q4_K     [  4096, 11008,     1,     1 ]\n",
      "llama_model_loader: - tensor   95:           blk.18.ffn_norm.weight f32      [  4096,     1,     1,     1 ]\n",
      "llama_model_loader: - tensor   96:             blk.18.attn_k.weight q4_K     [  4096,  4096,     1,     1 ]\n",
      "llama_model_loader: - tensor   97:        blk.18.attn_output.weight q4_K     [  4096,  4096,     1,     1 ]\n",
      "llama_model_loader: - tensor   98:             blk.18.attn_q.weight q4_K     [  4096,  4096,     1,     1 ]\n",
      "llama_model_loader: - tensor   99:             blk.18.attn_v.weight q4_K     [  4096,  4096,     1,     1 ]\n",
      "llama_model_loader: - tensor  100:          blk.19.attn_norm.weight f32      [  4096,     1,     1,     1 ]\n",
      "llama_model_loader: - tensor  101:           blk.19.ffn_down.weight q4_K     [ 11008,  4096,     1,     1 ]\n",
      "llama_model_loader: - tensor  102:           blk.19.ffn_gate.weight q4_K     [  4096, 11008,     1,     1 ]\n",
      "llama_model_loader: - tensor  103:             blk.19.ffn_up.weight q4_K     [  4096, 11008,     1,     1 ]\n",
      "llama_model_loader: - tensor  104:           blk.19.ffn_norm.weight f32      [  4096,     1,     1,     1 ]\n",
      "llama_model_loader: - tensor  105:             blk.19.attn_k.weight q4_K     [  4096,  4096,     1,     1 ]\n",
      "llama_model_loader: - tensor  106:        blk.19.attn_output.weight q4_K     [  4096,  4096,     1,     1 ]\n",
      "llama_model_loader: - tensor  107:             blk.19.attn_q.weight q4_K     [  4096,  4096,     1,     1 ]\n",
      "llama_model_loader: - tensor  108:             blk.19.attn_v.weight q4_K     [  4096,  4096,     1,     1 ]\n",
      "llama_model_loader: - tensor  109:           blk.2.attn_norm.weight f32      [  4096,     1,     1,     1 ]\n",
      "llama_model_loader: - tensor  110:            blk.2.ffn_down.weight q6_K     [ 11008,  4096,     1,     1 ]\n",
      "llama_model_loader: - tensor  111:            blk.2.ffn_gate.weight q4_K     [  4096, 11008,     1,     1 ]\n",
      "llama_model_loader: - tensor  112:              blk.2.ffn_up.weight q4_K     [  4096, 11008,     1,     1 ]\n",
      "llama_model_loader: - tensor  113:            blk.2.ffn_norm.weight f32      [  4096,     1,     1,     1 ]\n",
      "llama_model_loader: - tensor  114:              blk.2.attn_k.weight q4_K     [  4096,  4096,     1,     1 ]\n",
      "llama_model_loader: - tensor  115:         blk.2.attn_output.weight q4_K     [  4096,  4096,     1,     1 ]\n",
      "llama_model_loader: - tensor  116:              blk.2.attn_q.weight q4_K     [  4096,  4096,     1,     1 ]\n",
      "llama_model_loader: - tensor  117:              blk.2.attn_v.weight q6_K     [  4096,  4096,     1,     1 ]\n",
      "llama_model_loader: - tensor  118:          blk.20.attn_norm.weight f32      [  4096,     1,     1,     1 ]\n",
      "llama_model_loader: - tensor  119:           blk.20.ffn_down.weight q4_K     [ 11008,  4096,     1,     1 ]\n",
      "llama_model_loader: - tensor  120:           blk.20.ffn_gate.weight q4_K     [  4096, 11008,     1,     1 ]\n",
      "llama_model_loader: - tensor  121:             blk.20.ffn_up.weight q4_K     [  4096, 11008,     1,     1 ]\n",
      "llama_model_loader: - tensor  122:           blk.20.ffn_norm.weight f32      [  4096,     1,     1,     1 ]\n",
      "llama_model_loader: - tensor  123:             blk.20.attn_k.weight q4_K     [  4096,  4096,     1,     1 ]\n",
      "llama_model_loader: - tensor  124:        blk.20.attn_output.weight q4_K     [  4096,  4096,     1,     1 ]\n",
      "llama_model_loader: - tensor  125:             blk.20.attn_q.weight q4_K     [  4096,  4096,     1,     1 ]\n",
      "llama_model_loader: - tensor  126:             blk.20.attn_v.weight q4_K     [  4096,  4096,     1,     1 ]\n",
      "llama_model_loader: - tensor  127:          blk.21.attn_norm.weight f32      [  4096,     1,     1,     1 ]\n",
      "llama_model_loader: - tensor  128:           blk.21.ffn_down.weight q4_K     [ 11008,  4096,     1,     1 ]\n",
      "llama_model_loader: - tensor  129:           blk.21.ffn_gate.weight q4_K     [  4096, 11008,     1,     1 ]\n",
      "llama_model_loader: - tensor  130:             blk.21.ffn_up.weight q4_K     [  4096, 11008,     1,     1 ]\n",
      "llama_model_loader: - tensor  131:           blk.21.ffn_norm.weight f32      [  4096,     1,     1,     1 ]\n",
      "llama_model_loader: - tensor  132:             blk.21.attn_k.weight q4_K     [  4096,  4096,     1,     1 ]\n",
      "llama_model_loader: - tensor  133:        blk.21.attn_output.weight q4_K     [  4096,  4096,     1,     1 ]\n",
      "llama_model_loader: - tensor  134:             blk.21.attn_q.weight q4_K     [  4096,  4096,     1,     1 ]\n",
      "llama_model_loader: - tensor  135:             blk.21.attn_v.weight q4_K     [  4096,  4096,     1,     1 ]\n",
      "llama_model_loader: - tensor  136:          blk.22.attn_norm.weight f32      [  4096,     1,     1,     1 ]\n",
      "llama_model_loader: - tensor  137:           blk.22.ffn_down.weight q6_K     [ 11008,  4096,     1,     1 ]\n",
      "llama_model_loader: - tensor  138:           blk.22.ffn_gate.weight q4_K     [  4096, 11008,     1,     1 ]\n",
      "llama_model_loader: - tensor  139:             blk.22.ffn_up.weight q4_K     [  4096, 11008,     1,     1 ]\n",
      "llama_model_loader: - tensor  140:           blk.22.ffn_norm.weight f32      [  4096,     1,     1,     1 ]\n",
      "llama_model_loader: - tensor  141:             blk.22.attn_k.weight q4_K     [  4096,  4096,     1,     1 ]\n",
      "llama_model_loader: - tensor  142:        blk.22.attn_output.weight q4_K     [  4096,  4096,     1,     1 ]\n",
      "llama_model_loader: - tensor  143:             blk.22.attn_q.weight q4_K     [  4096,  4096,     1,     1 ]\n",
      "llama_model_loader: - tensor  144:             blk.22.attn_v.weight q6_K     [  4096,  4096,     1,     1 ]\n",
      "llama_model_loader: - tensor  145:          blk.23.attn_norm.weight f32      [  4096,     1,     1,     1 ]\n",
      "llama_model_loader: - tensor  146:           blk.23.ffn_down.weight q4_K     [ 11008,  4096,     1,     1 ]\n",
      "llama_model_loader: - tensor  147:           blk.23.ffn_gate.weight q4_K     [  4096, 11008,     1,     1 ]\n",
      "llama_model_loader: - tensor  148:             blk.23.ffn_up.weight q4_K     [  4096, 11008,     1,     1 ]\n",
      "llama_model_loader: - tensor  149:           blk.23.ffn_norm.weight f32      [  4096,     1,     1,     1 ]\n",
      "llama_model_loader: - tensor  150:             blk.23.attn_k.weight q4_K     [  4096,  4096,     1,     1 ]\n",
      "llama_model_loader: - tensor  151:        blk.23.attn_output.weight q4_K     [  4096,  4096,     1,     1 ]\n",
      "llama_model_loader: - tensor  152:             blk.23.attn_q.weight q4_K     [  4096,  4096,     1,     1 ]\n",
      "llama_model_loader: - tensor  153:             blk.23.attn_v.weight q4_K     [  4096,  4096,     1,     1 ]\n",
      "llama_model_loader: - tensor  154:           blk.3.attn_norm.weight f32      [  4096,     1,     1,     1 ]\n",
      "llama_model_loader: - tensor  155:            blk.3.ffn_down.weight q4_K     [ 11008,  4096,     1,     1 ]\n",
      "llama_model_loader: - tensor  156:            blk.3.ffn_gate.weight q4_K     [  4096, 11008,     1,     1 ]\n",
      "llama_model_loader: - tensor  157:              blk.3.ffn_up.weight q4_K     [  4096, 11008,     1,     1 ]\n",
      "llama_model_loader: - tensor  158:            blk.3.ffn_norm.weight f32      [  4096,     1,     1,     1 ]\n",
      "llama_model_loader: - tensor  159:              blk.3.attn_k.weight q4_K     [  4096,  4096,     1,     1 ]\n",
      "llama_model_loader: - tensor  160:         blk.3.attn_output.weight q4_K     [  4096,  4096,     1,     1 ]\n",
      "llama_model_loader: - tensor  161:              blk.3.attn_q.weight q4_K     [  4096,  4096,     1,     1 ]\n",
      "llama_model_loader: - tensor  162:              blk.3.attn_v.weight q4_K     [  4096,  4096,     1,     1 ]\n",
      "llama_model_loader: - tensor  163:           blk.4.attn_norm.weight f32      [  4096,     1,     1,     1 ]\n",
      "llama_model_loader: - tensor  164:            blk.4.ffn_down.weight q6_K     [ 11008,  4096,     1,     1 ]\n",
      "llama_model_loader: - tensor  165:            blk.4.ffn_gate.weight q4_K     [  4096, 11008,     1,     1 ]\n",
      "llama_model_loader: - tensor  166:              blk.4.ffn_up.weight q4_K     [  4096, 11008,     1,     1 ]\n",
      "llama_model_loader: - tensor  167:            blk.4.ffn_norm.weight f32      [  4096,     1,     1,     1 ]\n",
      "llama_model_loader: - tensor  168:              blk.4.attn_k.weight q4_K     [  4096,  4096,     1,     1 ]\n",
      "llama_model_loader: - tensor  169:         blk.4.attn_output.weight q4_K     [  4096,  4096,     1,     1 ]\n",
      "llama_model_loader: - tensor  170:              blk.4.attn_q.weight q4_K     [  4096,  4096,     1,     1 ]\n",
      "llama_model_loader: - tensor  171:              blk.4.attn_v.weight q6_K     [  4096,  4096,     1,     1 ]\n",
      "llama_model_loader: - tensor  172:           blk.5.attn_norm.weight f32      [  4096,     1,     1,     1 ]\n",
      "llama_model_loader: - tensor  173:            blk.5.ffn_down.weight q4_K     [ 11008,  4096,     1,     1 ]\n",
      "llama_model_loader: - tensor  174:            blk.5.ffn_gate.weight q4_K     [  4096, 11008,     1,     1 ]\n",
      "llama_model_loader: - tensor  175:              blk.5.ffn_up.weight q4_K     [  4096, 11008,     1,     1 ]\n",
      "llama_model_loader: - tensor  176:            blk.5.ffn_norm.weight f32      [  4096,     1,     1,     1 ]\n",
      "llama_model_loader: - tensor  177:              blk.5.attn_k.weight q4_K     [  4096,  4096,     1,     1 ]\n",
      "llama_model_loader: - tensor  178:         blk.5.attn_output.weight q4_K     [  4096,  4096,     1,     1 ]\n",
      "llama_model_loader: - tensor  179:              blk.5.attn_q.weight q4_K     [  4096,  4096,     1,     1 ]\n",
      "llama_model_loader: - tensor  180:              blk.5.attn_v.weight q4_K     [  4096,  4096,     1,     1 ]\n",
      "llama_model_loader: - tensor  181:           blk.6.attn_norm.weight f32      [  4096,     1,     1,     1 ]\n",
      "llama_model_loader: - tensor  182:            blk.6.ffn_down.weight q4_K     [ 11008,  4096,     1,     1 ]\n",
      "llama_model_loader: - tensor  183:            blk.6.ffn_gate.weight q4_K     [  4096, 11008,     1,     1 ]\n",
      "llama_model_loader: - tensor  184:              blk.6.ffn_up.weight q4_K     [  4096, 11008,     1,     1 ]\n",
      "llama_model_loader: - tensor  185:            blk.6.ffn_norm.weight f32      [  4096,     1,     1,     1 ]\n",
      "llama_model_loader: - tensor  186:              blk.6.attn_k.weight q4_K     [  4096,  4096,     1,     1 ]\n",
      "llama_model_loader: - tensor  187:         blk.6.attn_output.weight q4_K     [  4096,  4096,     1,     1 ]\n",
      "llama_model_loader: - tensor  188:              blk.6.attn_q.weight q4_K     [  4096,  4096,     1,     1 ]\n",
      "llama_model_loader: - tensor  189:              blk.6.attn_v.weight q4_K     [  4096,  4096,     1,     1 ]\n",
      "llama_model_loader: - tensor  190:           blk.7.attn_norm.weight f32      [  4096,     1,     1,     1 ]\n",
      "llama_model_loader: - tensor  191:            blk.7.ffn_down.weight q6_K     [ 11008,  4096,     1,     1 ]\n",
      "llama_model_loader: - tensor  192:            blk.7.ffn_gate.weight q4_K     [  4096, 11008,     1,     1 ]\n",
      "llama_model_loader: - tensor  193:              blk.7.ffn_up.weight q4_K     [  4096, 11008,     1,     1 ]\n",
      "llama_model_loader: - tensor  194:            blk.7.ffn_norm.weight f32      [  4096,     1,     1,     1 ]\n",
      "llama_model_loader: - tensor  195:              blk.7.attn_k.weight q4_K     [  4096,  4096,     1,     1 ]\n",
      "llama_model_loader: - tensor  196:         blk.7.attn_output.weight q4_K     [  4096,  4096,     1,     1 ]\n",
      "llama_model_loader: - tensor  197:              blk.7.attn_q.weight q4_K     [  4096,  4096,     1,     1 ]\n",
      "llama_model_loader: - tensor  198:              blk.7.attn_v.weight q6_K     [  4096,  4096,     1,     1 ]\n",
      "llama_model_loader: - tensor  199:           blk.8.attn_norm.weight f32      [  4096,     1,     1,     1 ]\n",
      "llama_model_loader: - tensor  200:            blk.8.ffn_down.weight q4_K     [ 11008,  4096,     1,     1 ]\n",
      "llama_model_loader: - tensor  201:            blk.8.ffn_gate.weight q4_K     [  4096, 11008,     1,     1 ]\n",
      "llama_model_loader: - tensor  202:              blk.8.ffn_up.weight q4_K     [  4096, 11008,     1,     1 ]\n",
      "llama_model_loader: - tensor  203:            blk.8.ffn_norm.weight f32      [  4096,     1,     1,     1 ]\n",
      "llama_model_loader: - tensor  204:              blk.8.attn_k.weight q4_K     [  4096,  4096,     1,     1 ]\n",
      "llama_model_loader: - tensor  205:         blk.8.attn_output.weight q4_K     [  4096,  4096,     1,     1 ]\n",
      "llama_model_loader: - tensor  206:              blk.8.attn_q.weight q4_K     [  4096,  4096,     1,     1 ]\n",
      "llama_model_loader: - tensor  207:              blk.8.attn_v.weight q4_K     [  4096,  4096,     1,     1 ]\n",
      "llama_model_loader: - tensor  208:           blk.9.attn_norm.weight f32      [  4096,     1,     1,     1 ]\n",
      "llama_model_loader: - tensor  209:            blk.9.ffn_down.weight q4_K     [ 11008,  4096,     1,     1 ]\n",
      "llama_model_loader: - tensor  210:            blk.9.ffn_gate.weight q4_K     [  4096, 11008,     1,     1 ]\n",
      "llama_model_loader: - tensor  211:              blk.9.ffn_up.weight q4_K     [  4096, 11008,     1,     1 ]\n",
      "llama_model_loader: - tensor  212:            blk.9.ffn_norm.weight f32      [  4096,     1,     1,     1 ]\n",
      "llama_model_loader: - tensor  213:              blk.9.attn_k.weight q4_K     [  4096,  4096,     1,     1 ]\n",
      "llama_model_loader: - tensor  214:         blk.9.attn_output.weight q4_K     [  4096,  4096,     1,     1 ]\n",
      "llama_model_loader: - tensor  215:              blk.9.attn_q.weight q4_K     [  4096,  4096,     1,     1 ]\n",
      "llama_model_loader: - tensor  216:              blk.9.attn_v.weight q4_K     [  4096,  4096,     1,     1 ]\n",
      "llama_model_loader: - tensor  217:                    output.weight q6_K     [  4096, 32000,     1,     1 ]\n",
      "llama_model_loader: - tensor  218:          blk.24.attn_norm.weight f32      [  4096,     1,     1,     1 ]\n",
      "llama_model_loader: - tensor  219:           blk.24.ffn_down.weight q6_K     [ 11008,  4096,     1,     1 ]\n",
      "llama_model_loader: - tensor  220:           blk.24.ffn_gate.weight q4_K     [  4096, 11008,     1,     1 ]\n",
      "llama_model_loader: - tensor  221:             blk.24.ffn_up.weight q4_K     [  4096, 11008,     1,     1 ]\n",
      "llama_model_loader: - tensor  222:           blk.24.ffn_norm.weight f32      [  4096,     1,     1,     1 ]\n",
      "llama_model_loader: - tensor  223:             blk.24.attn_k.weight q4_K     [  4096,  4096,     1,     1 ]\n",
      "llama_model_loader: - tensor  224:        blk.24.attn_output.weight q4_K     [  4096,  4096,     1,     1 ]\n",
      "llama_model_loader: - tensor  225:             blk.24.attn_q.weight q4_K     [  4096,  4096,     1,     1 ]\n",
      "llama_model_loader: - tensor  226:             blk.24.attn_v.weight q6_K     [  4096,  4096,     1,     1 ]\n",
      "llama_model_loader: - tensor  227:          blk.25.attn_norm.weight f32      [  4096,     1,     1,     1 ]\n",
      "llama_model_loader: - tensor  228:           blk.25.ffn_down.weight q4_K     [ 11008,  4096,     1,     1 ]\n",
      "llama_model_loader: - tensor  229:           blk.25.ffn_gate.weight q4_K     [  4096, 11008,     1,     1 ]\n",
      "llama_model_loader: - tensor  230:             blk.25.ffn_up.weight q4_K     [  4096, 11008,     1,     1 ]\n",
      "llama_model_loader: - tensor  231:           blk.25.ffn_norm.weight f32      [  4096,     1,     1,     1 ]\n",
      "llama_model_loader: - tensor  232:             blk.25.attn_k.weight q4_K     [  4096,  4096,     1,     1 ]\n",
      "llama_model_loader: - tensor  233:        blk.25.attn_output.weight q4_K     [  4096,  4096,     1,     1 ]\n",
      "llama_model_loader: - tensor  234:             blk.25.attn_q.weight q4_K     [  4096,  4096,     1,     1 ]\n",
      "llama_model_loader: - tensor  235:             blk.25.attn_v.weight q4_K     [  4096,  4096,     1,     1 ]\n",
      "llama_model_loader: - tensor  236:          blk.26.attn_norm.weight f32      [  4096,     1,     1,     1 ]\n",
      "llama_model_loader: - tensor  237:           blk.26.ffn_down.weight q4_K     [ 11008,  4096,     1,     1 ]\n",
      "llama_model_loader: - tensor  238:           blk.26.ffn_gate.weight q4_K     [  4096, 11008,     1,     1 ]\n",
      "llama_model_loader: - tensor  239:             blk.26.ffn_up.weight q4_K     [  4096, 11008,     1,     1 ]\n",
      "llama_model_loader: - tensor  240:           blk.26.ffn_norm.weight f32      [  4096,     1,     1,     1 ]\n",
      "llama_model_loader: - tensor  241:             blk.26.attn_k.weight q4_K     [  4096,  4096,     1,     1 ]\n",
      "llama_model_loader: - tensor  242:        blk.26.attn_output.weight q4_K     [  4096,  4096,     1,     1 ]\n",
      "llama_model_loader: - tensor  243:             blk.26.attn_q.weight q4_K     [  4096,  4096,     1,     1 ]\n",
      "llama_model_loader: - tensor  244:             blk.26.attn_v.weight q4_K     [  4096,  4096,     1,     1 ]\n",
      "llama_model_loader: - tensor  245:          blk.27.attn_norm.weight f32      [  4096,     1,     1,     1 ]\n",
      "llama_model_loader: - tensor  246:           blk.27.ffn_down.weight q6_K     [ 11008,  4096,     1,     1 ]\n",
      "llama_model_loader: - tensor  247:           blk.27.ffn_gate.weight q4_K     [  4096, 11008,     1,     1 ]\n",
      "llama_model_loader: - tensor  248:             blk.27.ffn_up.weight q4_K     [  4096, 11008,     1,     1 ]\n",
      "llama_model_loader: - tensor  249:           blk.27.ffn_norm.weight f32      [  4096,     1,     1,     1 ]\n",
      "llama_model_loader: - tensor  250:             blk.27.attn_k.weight q4_K     [  4096,  4096,     1,     1 ]\n",
      "llama_model_loader: - tensor  251:        blk.27.attn_output.weight q4_K     [  4096,  4096,     1,     1 ]\n",
      "llama_model_loader: - tensor  252:             blk.27.attn_q.weight q4_K     [  4096,  4096,     1,     1 ]\n",
      "llama_model_loader: - tensor  253:             blk.27.attn_v.weight q6_K     [  4096,  4096,     1,     1 ]\n",
      "llama_model_loader: - tensor  254:          blk.28.attn_norm.weight f32      [  4096,     1,     1,     1 ]\n",
      "llama_model_loader: - tensor  255:           blk.28.ffn_down.weight q6_K     [ 11008,  4096,     1,     1 ]\n",
      "llama_model_loader: - tensor  256:           blk.28.ffn_gate.weight q4_K     [  4096, 11008,     1,     1 ]\n",
      "llama_model_loader: - tensor  257:             blk.28.ffn_up.weight q4_K     [  4096, 11008,     1,     1 ]\n",
      "llama_model_loader: - tensor  258:           blk.28.ffn_norm.weight f32      [  4096,     1,     1,     1 ]\n",
      "llama_model_loader: - tensor  259:             blk.28.attn_k.weight q4_K     [  4096,  4096,     1,     1 ]\n",
      "llama_model_loader: - tensor  260:        blk.28.attn_output.weight q4_K     [  4096,  4096,     1,     1 ]\n",
      "llama_model_loader: - tensor  261:             blk.28.attn_q.weight q4_K     [  4096,  4096,     1,     1 ]\n",
      "llama_model_loader: - tensor  262:             blk.28.attn_v.weight q6_K     [  4096,  4096,     1,     1 ]\n",
      "llama_model_loader: - tensor  263:          blk.29.attn_norm.weight f32      [  4096,     1,     1,     1 ]\n",
      "llama_model_loader: - tensor  264:           blk.29.ffn_down.weight q6_K     [ 11008,  4096,     1,     1 ]\n",
      "llama_model_loader: - tensor  265:           blk.29.ffn_gate.weight q4_K     [  4096, 11008,     1,     1 ]\n",
      "llama_model_loader: - tensor  266:             blk.29.ffn_up.weight q4_K     [  4096, 11008,     1,     1 ]\n",
      "llama_model_loader: - tensor  267:           blk.29.ffn_norm.weight f32      [  4096,     1,     1,     1 ]\n",
      "llama_model_loader: - tensor  268:             blk.29.attn_k.weight q4_K     [  4096,  4096,     1,     1 ]\n",
      "llama_model_loader: - tensor  269:        blk.29.attn_output.weight q4_K     [  4096,  4096,     1,     1 ]\n",
      "llama_model_loader: - tensor  270:             blk.29.attn_q.weight q4_K     [  4096,  4096,     1,     1 ]\n",
      "llama_model_loader: - tensor  271:             blk.29.attn_v.weight q6_K     [  4096,  4096,     1,     1 ]\n",
      "llama_model_loader: - tensor  272:          blk.30.attn_norm.weight f32      [  4096,     1,     1,     1 ]\n",
      "llama_model_loader: - tensor  273:           blk.30.ffn_down.weight q6_K     [ 11008,  4096,     1,     1 ]\n",
      "llama_model_loader: - tensor  274:           blk.30.ffn_gate.weight q4_K     [  4096, 11008,     1,     1 ]\n",
      "llama_model_loader: - tensor  275:             blk.30.ffn_up.weight q4_K     [  4096, 11008,     1,     1 ]\n",
      "llama_model_loader: - tensor  276:           blk.30.ffn_norm.weight f32      [  4096,     1,     1,     1 ]\n",
      "llama_model_loader: - tensor  277:             blk.30.attn_k.weight q4_K     [  4096,  4096,     1,     1 ]\n",
      "llama_model_loader: - tensor  278:        blk.30.attn_output.weight q4_K     [  4096,  4096,     1,     1 ]\n",
      "llama_model_loader: - tensor  279:             blk.30.attn_q.weight q4_K     [  4096,  4096,     1,     1 ]\n",
      "llama_model_loader: - tensor  280:             blk.30.attn_v.weight q6_K     [  4096,  4096,     1,     1 ]\n",
      "llama_model_loader: - tensor  281:          blk.31.attn_norm.weight f32      [  4096,     1,     1,     1 ]\n",
      "llama_model_loader: - tensor  282:           blk.31.ffn_down.weight q6_K     [ 11008,  4096,     1,     1 ]\n",
      "llama_model_loader: - tensor  283:           blk.31.ffn_gate.weight q4_K     [  4096, 11008,     1,     1 ]\n",
      "llama_model_loader: - tensor  284:             blk.31.ffn_up.weight q4_K     [  4096, 11008,     1,     1 ]\n",
      "llama_model_loader: - tensor  285:           blk.31.ffn_norm.weight f32      [  4096,     1,     1,     1 ]\n",
      "llama_model_loader: - tensor  286:             blk.31.attn_k.weight q4_K     [  4096,  4096,     1,     1 ]\n",
      "llama_model_loader: - tensor  287:        blk.31.attn_output.weight q4_K     [  4096,  4096,     1,     1 ]\n",
      "llama_model_loader: - tensor  288:             blk.31.attn_q.weight q4_K     [  4096,  4096,     1,     1 ]\n",
      "llama_model_loader: - tensor  289:             blk.31.attn_v.weight q6_K     [  4096,  4096,     1,     1 ]\n",
      "llama_model_loader: - tensor  290:               output_norm.weight f32      [  4096,     1,     1,     1 ]\n",
      "llama_model_loader: - kv   0:                       general.architecture str     \n",
      "llama_model_loader: - kv   1:                               general.name str     \n",
      "llama_model_loader: - kv   2:                       llama.context_length u32     \n",
      "llama_model_loader: - kv   3:                     llama.embedding_length u32     \n",
      "llama_model_loader: - kv   4:                          llama.block_count u32     \n",
      "llama_model_loader: - kv   5:                  llama.feed_forward_length u32     \n",
      "llama_model_loader: - kv   6:                 llama.rope.dimension_count u32     \n",
      "llama_model_loader: - kv   7:                 llama.attention.head_count u32     \n",
      "llama_model_loader: - kv   8:              llama.attention.head_count_kv u32     \n",
      "llama_model_loader: - kv   9:     llama.attention.layer_norm_rms_epsilon f32     \n",
      "llama_model_loader: - kv  10:                          general.file_type u32     \n",
      "llama_model_loader: - kv  11:                       tokenizer.ggml.model str     \n",
      "llama_model_loader: - kv  12:                      tokenizer.ggml.tokens arr     \n",
      "llama_model_loader: - kv  13:                      tokenizer.ggml.scores arr     \n",
      "llama_model_loader: - kv  14:                  tokenizer.ggml.token_type arr     \n",
      "llama_model_loader: - kv  15:                tokenizer.ggml.bos_token_id u32     \n",
      "llama_model_loader: - kv  16:                tokenizer.ggml.eos_token_id u32     \n",
      "llama_model_loader: - kv  17:            tokenizer.ggml.unknown_token_id u32     \n",
      "llama_model_loader: - kv  18:               general.quantization_version u32     \n",
      "llama_model_loader: - type  f32:   65 tensors\n",
      "llama_model_loader: - type q4_K:  193 tensors\n",
      "llama_model_loader: - type q6_K:   33 tensors\n",
      "llm_load_vocab: special tokens definition check successful ( 259/32000 ).\n",
      "llm_load_print_meta: format           = GGUF V2\n",
      "llm_load_print_meta: arch             = llama\n",
      "llm_load_print_meta: vocab type       = SPM\n",
      "llm_load_print_meta: n_vocab          = 32000\n",
      "llm_load_print_meta: n_merges         = 0\n",
      "llm_load_print_meta: n_ctx_train      = 4096\n",
      "llm_load_print_meta: n_embd           = 4096\n",
      "llm_load_print_meta: n_head           = 32\n",
      "llm_load_print_meta: n_head_kv        = 32\n",
      "llm_load_print_meta: n_layer          = 32\n",
      "llm_load_print_meta: n_rot            = 128\n",
      "llm_load_print_meta: n_gqa            = 1\n",
      "llm_load_print_meta: f_norm_eps       = 0.0e+00\n",
      "llm_load_print_meta: f_norm_rms_eps   = 1.0e-06\n",
      "llm_load_print_meta: f_clamp_kqv      = 0.0e+00\n",
      "llm_load_print_meta: f_max_alibi_bias = 0.0e+00\n",
      "llm_load_print_meta: n_ff             = 11008\n",
      "llm_load_print_meta: rope scaling     = linear\n",
      "llm_load_print_meta: freq_base_train  = 10000.0\n",
      "llm_load_print_meta: freq_scale_train = 1\n",
      "llm_load_print_meta: n_yarn_orig_ctx  = 4096\n",
      "llm_load_print_meta: rope_finetuned   = unknown\n",
      "llm_load_print_meta: model type       = 7B\n",
      "llm_load_print_meta: model ftype      = mostly Q4_K - Medium\n",
      "llm_load_print_meta: model params     = 6.74 B\n",
      "llm_load_print_meta: model size       = 3.80 GiB (4.84 BPW) \n",
      "llm_load_print_meta: general.name   = LLaMA v2\n",
      "llm_load_print_meta: BOS token = 1 '<s>'\n",
      "llm_load_print_meta: EOS token = 2 '</s>'\n",
      "llm_load_print_meta: UNK token = 0 '<unk>'\n",
      "llm_load_print_meta: LF token  = 13 '<0x0A>'\n",
      "llm_load_tensors: ggml ctx size =    0.11 MB\n",
      "llm_load_tensors: mem required  = 3891.35 MB\n",
      "..................................................................................................\n",
      "llama_new_context_with_model: n_ctx      = 3900\n",
      "llama_new_context_with_model: freq_base  = 10000.0\n",
      "llama_new_context_with_model: freq_scale = 1\n"
     ]
    },
    {
     "name": "stderr",
     "output_type": "stream",
     "text": [
      "llama_new_context_with_model: kv self size  = 1950.00 MB\n",
      "llama_build_graph: non-view tensors processed: 740/740\n",
      "llama_new_context_with_model: compute buffer total size = 282.00 MB\n",
      "AVX = 0 | AVX2 = 0 | AVX512 = 0 | AVX512_VBMI = 0 | AVX512_VNNI = 0 | FMA = 0 | NEON = 0 | ARM_FMA = 0 | F16C = 0 | FP16_VA = 0 | WASM_SIMD = 0 | BLAS = 1 | SSE3 = 1 | SSSE3 = 1 | VSX = 0 | \n",
      "llama_model_loader: loaded meta data with 19 key-value pairs and 291 tensors from /Users/s/Library/Caches/llama_index/models/llama-2-7b-chat.Q4_K_M.gguf (version GGUF V2)\n",
      "llama_model_loader: - tensor    0:                token_embd.weight q4_K     [  4096, 32000,     1,     1 ]\n",
      "llama_model_loader: - tensor    1:           blk.0.attn_norm.weight f32      [  4096,     1,     1,     1 ]\n",
      "llama_model_loader: - tensor    2:            blk.0.ffn_down.weight q6_K     [ 11008,  4096,     1,     1 ]\n",
      "llama_model_loader: - tensor    3:            blk.0.ffn_gate.weight q4_K     [  4096, 11008,     1,     1 ]\n",
      "llama_model_loader: - tensor    4:              blk.0.ffn_up.weight q4_K     [  4096, 11008,     1,     1 ]\n",
      "llama_model_loader: - tensor    5:            blk.0.ffn_norm.weight f32      [  4096,     1,     1,     1 ]\n",
      "llama_model_loader: - tensor    6:              blk.0.attn_k.weight q4_K     [  4096,  4096,     1,     1 ]\n",
      "llama_model_loader: - tensor    7:         blk.0.attn_output.weight q4_K     [  4096,  4096,     1,     1 ]\n",
      "llama_model_loader: - tensor    8:              blk.0.attn_q.weight q4_K     [  4096,  4096,     1,     1 ]\n",
      "llama_model_loader: - tensor    9:              blk.0.attn_v.weight q6_K     [  4096,  4096,     1,     1 ]\n",
      "llama_model_loader: - tensor   10:           blk.1.attn_norm.weight f32      [  4096,     1,     1,     1 ]\n",
      "llama_model_loader: - tensor   11:            blk.1.ffn_down.weight q6_K     [ 11008,  4096,     1,     1 ]\n",
      "llama_model_loader: - tensor   12:            blk.1.ffn_gate.weight q4_K     [  4096, 11008,     1,     1 ]\n",
      "llama_model_loader: - tensor   13:              blk.1.ffn_up.weight q4_K     [  4096, 11008,     1,     1 ]\n",
      "llama_model_loader: - tensor   14:            blk.1.ffn_norm.weight f32      [  4096,     1,     1,     1 ]\n",
      "llama_model_loader: - tensor   15:              blk.1.attn_k.weight q4_K     [  4096,  4096,     1,     1 ]\n",
      "llama_model_loader: - tensor   16:         blk.1.attn_output.weight q4_K     [  4096,  4096,     1,     1 ]\n",
      "llama_model_loader: - tensor   17:              blk.1.attn_q.weight q4_K     [  4096,  4096,     1,     1 ]\n",
      "llama_model_loader: - tensor   18:              blk.1.attn_v.weight q6_K     [  4096,  4096,     1,     1 ]\n",
      "llama_model_loader: - tensor   19:          blk.10.attn_norm.weight f32      [  4096,     1,     1,     1 ]\n",
      "llama_model_loader: - tensor   20:           blk.10.ffn_down.weight q6_K     [ 11008,  4096,     1,     1 ]\n",
      "llama_model_loader: - tensor   21:           blk.10.ffn_gate.weight q4_K     [  4096, 11008,     1,     1 ]\n",
      "llama_model_loader: - tensor   22:             blk.10.ffn_up.weight q4_K     [  4096, 11008,     1,     1 ]\n",
      "llama_model_loader: - tensor   23:           blk.10.ffn_norm.weight f32      [  4096,     1,     1,     1 ]\n",
      "llama_model_loader: - tensor   24:             blk.10.attn_k.weight q4_K     [  4096,  4096,     1,     1 ]\n",
      "llama_model_loader: - tensor   25:        blk.10.attn_output.weight q4_K     [  4096,  4096,     1,     1 ]\n",
      "llama_model_loader: - tensor   26:             blk.10.attn_q.weight q4_K     [  4096,  4096,     1,     1 ]\n",
      "llama_model_loader: - tensor   27:             blk.10.attn_v.weight q6_K     [  4096,  4096,     1,     1 ]\n",
      "llama_model_loader: - tensor   28:          blk.11.attn_norm.weight f32      [  4096,     1,     1,     1 ]\n",
      "llama_model_loader: - tensor   29:           blk.11.ffn_down.weight q6_K     [ 11008,  4096,     1,     1 ]\n",
      "llama_model_loader: - tensor   30:           blk.11.ffn_gate.weight q4_K     [  4096, 11008,     1,     1 ]\n",
      "llama_model_loader: - tensor   31:             blk.11.ffn_up.weight q4_K     [  4096, 11008,     1,     1 ]\n",
      "llama_model_loader: - tensor   32:           blk.11.ffn_norm.weight f32      [  4096,     1,     1,     1 ]\n",
      "llama_model_loader: - tensor   33:             blk.11.attn_k.weight q4_K     [  4096,  4096,     1,     1 ]\n",
      "llama_model_loader: - tensor   34:        blk.11.attn_output.weight q4_K     [  4096,  4096,     1,     1 ]\n",
      "llama_model_loader: - tensor   35:             blk.11.attn_q.weight q4_K     [  4096,  4096,     1,     1 ]\n",
      "llama_model_loader: - tensor   36:             blk.11.attn_v.weight q6_K     [  4096,  4096,     1,     1 ]\n",
      "llama_model_loader: - tensor   37:          blk.12.attn_norm.weight f32      [  4096,     1,     1,     1 ]\n",
      "llama_model_loader: - tensor   38:           blk.12.ffn_down.weight q4_K     [ 11008,  4096,     1,     1 ]\n",
      "llama_model_loader: - tensor   39:           blk.12.ffn_gate.weight q4_K     [  4096, 11008,     1,     1 ]\n",
      "llama_model_loader: - tensor   40:             blk.12.ffn_up.weight q4_K     [  4096, 11008,     1,     1 ]\n",
      "llama_model_loader: - tensor   41:           blk.12.ffn_norm.weight f32      [  4096,     1,     1,     1 ]\n",
      "llama_model_loader: - tensor   42:             blk.12.attn_k.weight q4_K     [  4096,  4096,     1,     1 ]\n",
      "llama_model_loader: - tensor   43:        blk.12.attn_output.weight q4_K     [  4096,  4096,     1,     1 ]\n",
      "llama_model_loader: - tensor   44:             blk.12.attn_q.weight q4_K     [  4096,  4096,     1,     1 ]\n",
      "llama_model_loader: - tensor   45:             blk.12.attn_v.weight q4_K     [  4096,  4096,     1,     1 ]\n",
      "llama_model_loader: - tensor   46:          blk.13.attn_norm.weight f32      [  4096,     1,     1,     1 ]\n",
      "llama_model_loader: - tensor   47:           blk.13.ffn_down.weight q4_K     [ 11008,  4096,     1,     1 ]\n",
      "llama_model_loader: - tensor   48:           blk.13.ffn_gate.weight q4_K     [  4096, 11008,     1,     1 ]\n",
      "llama_model_loader: - tensor   49:             blk.13.ffn_up.weight q4_K     [  4096, 11008,     1,     1 ]\n",
      "llama_model_loader: - tensor   50:           blk.13.ffn_norm.weight f32      [  4096,     1,     1,     1 ]\n",
      "llama_model_loader: - tensor   51:             blk.13.attn_k.weight q4_K     [  4096,  4096,     1,     1 ]\n",
      "llama_model_loader: - tensor   52:        blk.13.attn_output.weight q4_K     [  4096,  4096,     1,     1 ]\n",
      "llama_model_loader: - tensor   53:             blk.13.attn_q.weight q4_K     [  4096,  4096,     1,     1 ]\n",
      "llama_model_loader: - tensor   54:             blk.13.attn_v.weight q4_K     [  4096,  4096,     1,     1 ]\n",
      "llama_model_loader: - tensor   55:          blk.14.attn_norm.weight f32      [  4096,     1,     1,     1 ]\n",
      "llama_model_loader: - tensor   56:           blk.14.ffn_down.weight q6_K     [ 11008,  4096,     1,     1 ]\n",
      "llama_model_loader: - tensor   57:           blk.14.ffn_gate.weight q4_K     [  4096, 11008,     1,     1 ]\n",
      "llama_model_loader: - tensor   58:             blk.14.ffn_up.weight q4_K     [  4096, 11008,     1,     1 ]\n",
      "llama_model_loader: - tensor   59:           blk.14.ffn_norm.weight f32      [  4096,     1,     1,     1 ]\n",
      "llama_model_loader: - tensor   60:             blk.14.attn_k.weight q4_K     [  4096,  4096,     1,     1 ]\n",
      "llama_model_loader: - tensor   61:        blk.14.attn_output.weight q4_K     [  4096,  4096,     1,     1 ]\n",
      "llama_model_loader: - tensor   62:             blk.14.attn_q.weight q4_K     [  4096,  4096,     1,     1 ]\n",
      "llama_model_loader: - tensor   63:             blk.14.attn_v.weight q6_K     [  4096,  4096,     1,     1 ]\n",
      "llama_model_loader: - tensor   64:          blk.15.attn_norm.weight f32      [  4096,     1,     1,     1 ]\n",
      "llama_model_loader: - tensor   65:           blk.15.ffn_down.weight q4_K     [ 11008,  4096,     1,     1 ]\n",
      "llama_model_loader: - tensor   66:           blk.15.ffn_gate.weight q4_K     [  4096, 11008,     1,     1 ]\n",
      "llama_model_loader: - tensor   67:             blk.15.ffn_up.weight q4_K     [  4096, 11008,     1,     1 ]\n",
      "llama_model_loader: - tensor   68:           blk.15.ffn_norm.weight f32      [  4096,     1,     1,     1 ]\n",
      "llama_model_loader: - tensor   69:             blk.15.attn_k.weight q4_K     [  4096,  4096,     1,     1 ]\n",
      "llama_model_loader: - tensor   70:        blk.15.attn_output.weight q4_K     [  4096,  4096,     1,     1 ]\n",
      "llama_model_loader: - tensor   71:             blk.15.attn_q.weight q4_K     [  4096,  4096,     1,     1 ]\n",
      "llama_model_loader: - tensor   72:             blk.15.attn_v.weight q4_K     [  4096,  4096,     1,     1 ]\n",
      "llama_model_loader: - tensor   73:          blk.16.attn_norm.weight f32      [  4096,     1,     1,     1 ]\n",
      "llama_model_loader: - tensor   74:           blk.16.ffn_down.weight q4_K     [ 11008,  4096,     1,     1 ]\n",
      "llama_model_loader: - tensor   75:           blk.16.ffn_gate.weight q4_K     [  4096, 11008,     1,     1 ]\n",
      "llama_model_loader: - tensor   76:             blk.16.ffn_up.weight q4_K     [  4096, 11008,     1,     1 ]\n",
      "llama_model_loader: - tensor   77:           blk.16.ffn_norm.weight f32      [  4096,     1,     1,     1 ]\n",
      "llama_model_loader: - tensor   78:             blk.16.attn_k.weight q4_K     [  4096,  4096,     1,     1 ]\n",
      "llama_model_loader: - tensor   79:        blk.16.attn_output.weight q4_K     [  4096,  4096,     1,     1 ]\n",
      "llama_model_loader: - tensor   80:             blk.16.attn_q.weight q4_K     [  4096,  4096,     1,     1 ]\n",
      "llama_model_loader: - tensor   81:             blk.16.attn_v.weight q4_K     [  4096,  4096,     1,     1 ]\n",
      "llama_model_loader: - tensor   82:          blk.17.attn_norm.weight f32      [  4096,     1,     1,     1 ]\n",
      "llama_model_loader: - tensor   83:           blk.17.ffn_down.weight q6_K     [ 11008,  4096,     1,     1 ]\n",
      "llama_model_loader: - tensor   84:           blk.17.ffn_gate.weight q4_K     [  4096, 11008,     1,     1 ]\n",
      "llama_model_loader: - tensor   85:             blk.17.ffn_up.weight q4_K     [  4096, 11008,     1,     1 ]\n",
      "llama_model_loader: - tensor   86:           blk.17.ffn_norm.weight f32      [  4096,     1,     1,     1 ]\n",
      "llama_model_loader: - tensor   87:             blk.17.attn_k.weight q4_K     [  4096,  4096,     1,     1 ]\n",
      "llama_model_loader: - tensor   88:        blk.17.attn_output.weight q4_K     [  4096,  4096,     1,     1 ]\n",
      "llama_model_loader: - tensor   89:             blk.17.attn_q.weight q4_K     [  4096,  4096,     1,     1 ]\n",
      "llama_model_loader: - tensor   90:             blk.17.attn_v.weight q6_K     [  4096,  4096,     1,     1 ]\n",
      "llama_model_loader: - tensor   91:          blk.18.attn_norm.weight f32      [  4096,     1,     1,     1 ]\n",
      "llama_model_loader: - tensor   92:           blk.18.ffn_down.weight q4_K     [ 11008,  4096,     1,     1 ]\n",
      "llama_model_loader: - tensor   93:           blk.18.ffn_gate.weight q4_K     [  4096, 11008,     1,     1 ]\n",
      "llama_model_loader: - tensor   94:             blk.18.ffn_up.weight q4_K     [  4096, 11008,     1,     1 ]\n",
      "llama_model_loader: - tensor   95:           blk.18.ffn_norm.weight f32      [  4096,     1,     1,     1 ]\n",
      "llama_model_loader: - tensor   96:             blk.18.attn_k.weight q4_K     [  4096,  4096,     1,     1 ]\n",
      "llama_model_loader: - tensor   97:        blk.18.attn_output.weight q4_K     [  4096,  4096,     1,     1 ]\n",
      "llama_model_loader: - tensor   98:             blk.18.attn_q.weight q4_K     [  4096,  4096,     1,     1 ]\n",
      "llama_model_loader: - tensor   99:             blk.18.attn_v.weight q4_K     [  4096,  4096,     1,     1 ]\n",
      "llama_model_loader: - tensor  100:          blk.19.attn_norm.weight f32      [  4096,     1,     1,     1 ]\n",
      "llama_model_loader: - tensor  101:           blk.19.ffn_down.weight q4_K     [ 11008,  4096,     1,     1 ]\n",
      "llama_model_loader: - tensor  102:           blk.19.ffn_gate.weight q4_K     [  4096, 11008,     1,     1 ]\n",
      "llama_model_loader: - tensor  103:             blk.19.ffn_up.weight q4_K     [  4096, 11008,     1,     1 ]\n",
      "llama_model_loader: - tensor  104:           blk.19.ffn_norm.weight f32      [  4096,     1,     1,     1 ]\n",
      "llama_model_loader: - tensor  105:             blk.19.attn_k.weight q4_K     [  4096,  4096,     1,     1 ]\n",
      "llama_model_loader: - tensor  106:        blk.19.attn_output.weight q4_K     [  4096,  4096,     1,     1 ]\n",
      "llama_model_loader: - tensor  107:             blk.19.attn_q.weight q4_K     [  4096,  4096,     1,     1 ]\n",
      "llama_model_loader: - tensor  108:             blk.19.attn_v.weight q4_K     [  4096,  4096,     1,     1 ]\n",
      "llama_model_loader: - tensor  109:           blk.2.attn_norm.weight f32      [  4096,     1,     1,     1 ]\n",
      "llama_model_loader: - tensor  110:            blk.2.ffn_down.weight q6_K     [ 11008,  4096,     1,     1 ]\n",
      "llama_model_loader: - tensor  111:            blk.2.ffn_gate.weight q4_K     [  4096, 11008,     1,     1 ]\n",
      "llama_model_loader: - tensor  112:              blk.2.ffn_up.weight q4_K     [  4096, 11008,     1,     1 ]\n",
      "llama_model_loader: - tensor  113:            blk.2.ffn_norm.weight f32      [  4096,     1,     1,     1 ]\n",
      "llama_model_loader: - tensor  114:              blk.2.attn_k.weight q4_K     [  4096,  4096,     1,     1 ]\n",
      "llama_model_loader: - tensor  115:         blk.2.attn_output.weight q4_K     [  4096,  4096,     1,     1 ]\n",
      "llama_model_loader: - tensor  116:              blk.2.attn_q.weight q4_K     [  4096,  4096,     1,     1 ]\n",
      "llama_model_loader: - tensor  117:              blk.2.attn_v.weight q6_K     [  4096,  4096,     1,     1 ]\n",
      "llama_model_loader: - tensor  118:          blk.20.attn_norm.weight f32      [  4096,     1,     1,     1 ]\n",
      "llama_model_loader: - tensor  119:           blk.20.ffn_down.weight q4_K     [ 11008,  4096,     1,     1 ]\n",
      "llama_model_loader: - tensor  120:           blk.20.ffn_gate.weight q4_K     [  4096, 11008,     1,     1 ]\n",
      "llama_model_loader: - tensor  121:             blk.20.ffn_up.weight q4_K     [  4096, 11008,     1,     1 ]\n",
      "llama_model_loader: - tensor  122:           blk.20.ffn_norm.weight f32      [  4096,     1,     1,     1 ]\n",
      "llama_model_loader: - tensor  123:             blk.20.attn_k.weight q4_K     [  4096,  4096,     1,     1 ]\n",
      "llama_model_loader: - tensor  124:        blk.20.attn_output.weight q4_K     [  4096,  4096,     1,     1 ]\n",
      "llama_model_loader: - tensor  125:             blk.20.attn_q.weight q4_K     [  4096,  4096,     1,     1 ]\n",
      "llama_model_loader: - tensor  126:             blk.20.attn_v.weight q4_K     [  4096,  4096,     1,     1 ]\n",
      "llama_model_loader: - tensor  127:          blk.21.attn_norm.weight f32      [  4096,     1,     1,     1 ]\n",
      "llama_model_loader: - tensor  128:           blk.21.ffn_down.weight q4_K     [ 11008,  4096,     1,     1 ]\n",
      "llama_model_loader: - tensor  129:           blk.21.ffn_gate.weight q4_K     [  4096, 11008,     1,     1 ]\n",
      "llama_model_loader: - tensor  130:             blk.21.ffn_up.weight q4_K     [  4096, 11008,     1,     1 ]\n",
      "llama_model_loader: - tensor  131:           blk.21.ffn_norm.weight f32      [  4096,     1,     1,     1 ]\n",
      "llama_model_loader: - tensor  132:             blk.21.attn_k.weight q4_K     [  4096,  4096,     1,     1 ]\n",
      "llama_model_loader: - tensor  133:        blk.21.attn_output.weight q4_K     [  4096,  4096,     1,     1 ]\n",
      "llama_model_loader: - tensor  134:             blk.21.attn_q.weight q4_K     [  4096,  4096,     1,     1 ]\n",
      "llama_model_loader: - tensor  135:             blk.21.attn_v.weight q4_K     [  4096,  4096,     1,     1 ]\n",
      "llama_model_loader: - tensor  136:          blk.22.attn_norm.weight f32      [  4096,     1,     1,     1 ]\n",
      "llama_model_loader: - tensor  137:           blk.22.ffn_down.weight q6_K     [ 11008,  4096,     1,     1 ]\n",
      "llama_model_loader: - tensor  138:           blk.22.ffn_gate.weight q4_K     [  4096, 11008,     1,     1 ]\n",
      "llama_model_loader: - tensor  139:             blk.22.ffn_up.weight q4_K     [  4096, 11008,     1,     1 ]\n",
      "llama_model_loader: - tensor  140:           blk.22.ffn_norm.weight f32      [  4096,     1,     1,     1 ]\n",
      "llama_model_loader: - tensor  141:             blk.22.attn_k.weight q4_K     [  4096,  4096,     1,     1 ]\n",
      "llama_model_loader: - tensor  142:        blk.22.attn_output.weight q4_K     [  4096,  4096,     1,     1 ]\n",
      "llama_model_loader: - tensor  143:             blk.22.attn_q.weight q4_K     [  4096,  4096,     1,     1 ]\n",
      "llama_model_loader: - tensor  144:             blk.22.attn_v.weight q6_K     [  4096,  4096,     1,     1 ]\n",
      "llama_model_loader: - tensor  145:          blk.23.attn_norm.weight f32      [  4096,     1,     1,     1 ]\n",
      "llama_model_loader: - tensor  146:           blk.23.ffn_down.weight q4_K     [ 11008,  4096,     1,     1 ]\n",
      "llama_model_loader: - tensor  147:           blk.23.ffn_gate.weight q4_K     [  4096, 11008,     1,     1 ]\n",
      "llama_model_loader: - tensor  148:             blk.23.ffn_up.weight q4_K     [  4096, 11008,     1,     1 ]\n",
      "llama_model_loader: - tensor  149:           blk.23.ffn_norm.weight f32      [  4096,     1,     1,     1 ]\n",
      "llama_model_loader: - tensor  150:             blk.23.attn_k.weight q4_K     [  4096,  4096,     1,     1 ]\n",
      "llama_model_loader: - tensor  151:        blk.23.attn_output.weight q4_K     [  4096,  4096,     1,     1 ]\n",
      "llama_model_loader: - tensor  152:             blk.23.attn_q.weight q4_K     [  4096,  4096,     1,     1 ]\n",
      "llama_model_loader: - tensor  153:             blk.23.attn_v.weight q4_K     [  4096,  4096,     1,     1 ]\n",
      "llama_model_loader: - tensor  154:           blk.3.attn_norm.weight f32      [  4096,     1,     1,     1 ]\n",
      "llama_model_loader: - tensor  155:            blk.3.ffn_down.weight q4_K     [ 11008,  4096,     1,     1 ]\n",
      "llama_model_loader: - tensor  156:            blk.3.ffn_gate.weight q4_K     [  4096, 11008,     1,     1 ]\n",
      "llama_model_loader: - tensor  157:              blk.3.ffn_up.weight q4_K     [  4096, 11008,     1,     1 ]\n",
      "llama_model_loader: - tensor  158:            blk.3.ffn_norm.weight f32      [  4096,     1,     1,     1 ]\n",
      "llama_model_loader: - tensor  159:              blk.3.attn_k.weight q4_K     [  4096,  4096,     1,     1 ]\n",
      "llama_model_loader: - tensor  160:         blk.3.attn_output.weight q4_K     [  4096,  4096,     1,     1 ]\n",
      "llama_model_loader: - tensor  161:              blk.3.attn_q.weight q4_K     [  4096,  4096,     1,     1 ]\n",
      "llama_model_loader: - tensor  162:              blk.3.attn_v.weight q4_K     [  4096,  4096,     1,     1 ]\n",
      "llama_model_loader: - tensor  163:           blk.4.attn_norm.weight f32      [  4096,     1,     1,     1 ]\n",
      "llama_model_loader: - tensor  164:            blk.4.ffn_down.weight q6_K     [ 11008,  4096,     1,     1 ]\n",
      "llama_model_loader: - tensor  165:            blk.4.ffn_gate.weight q4_K     [  4096, 11008,     1,     1 ]\n",
      "llama_model_loader: - tensor  166:              blk.4.ffn_up.weight q4_K     [  4096, 11008,     1,     1 ]\n",
      "llama_model_loader: - tensor  167:            blk.4.ffn_norm.weight f32      [  4096,     1,     1,     1 ]\n",
      "llama_model_loader: - tensor  168:              blk.4.attn_k.weight q4_K     [  4096,  4096,     1,     1 ]\n",
      "llama_model_loader: - tensor  169:         blk.4.attn_output.weight q4_K     [  4096,  4096,     1,     1 ]\n",
      "llama_model_loader: - tensor  170:              blk.4.attn_q.weight q4_K     [  4096,  4096,     1,     1 ]\n",
      "llama_model_loader: - tensor  171:              blk.4.attn_v.weight q6_K     [  4096,  4096,     1,     1 ]\n",
      "llama_model_loader: - tensor  172:           blk.5.attn_norm.weight f32      [  4096,     1,     1,     1 ]\n",
      "llama_model_loader: - tensor  173:            blk.5.ffn_down.weight q4_K     [ 11008,  4096,     1,     1 ]\n",
      "llama_model_loader: - tensor  174:            blk.5.ffn_gate.weight q4_K     [  4096, 11008,     1,     1 ]\n",
      "llama_model_loader: - tensor  175:              blk.5.ffn_up.weight q4_K     [  4096, 11008,     1,     1 ]\n",
      "llama_model_loader: - tensor  176:            blk.5.ffn_norm.weight f32      [  4096,     1,     1,     1 ]\n",
      "llama_model_loader: - tensor  177:              blk.5.attn_k.weight q4_K     [  4096,  4096,     1,     1 ]\n",
      "llama_model_loader: - tensor  178:         blk.5.attn_output.weight q4_K     [  4096,  4096,     1,     1 ]\n",
      "llama_model_loader: - tensor  179:              blk.5.attn_q.weight q4_K     [  4096,  4096,     1,     1 ]\n",
      "llama_model_loader: - tensor  180:              blk.5.attn_v.weight q4_K     [  4096,  4096,     1,     1 ]\n",
      "llama_model_loader: - tensor  181:           blk.6.attn_norm.weight f32      [  4096,     1,     1,     1 ]\n",
      "llama_model_loader: - tensor  182:            blk.6.ffn_down.weight q4_K     [ 11008,  4096,     1,     1 ]\n",
      "llama_model_loader: - tensor  183:            blk.6.ffn_gate.weight q4_K     [  4096, 11008,     1,     1 ]\n",
      "llama_model_loader: - tensor  184:              blk.6.ffn_up.weight q4_K     [  4096, 11008,     1,     1 ]\n",
      "llama_model_loader: - tensor  185:            blk.6.ffn_norm.weight f32      [  4096,     1,     1,     1 ]\n",
      "llama_model_loader: - tensor  186:              blk.6.attn_k.weight q4_K     [  4096,  4096,     1,     1 ]\n",
      "llama_model_loader: - tensor  187:         blk.6.attn_output.weight q4_K     [  4096,  4096,     1,     1 ]\n",
      "llama_model_loader: - tensor  188:              blk.6.attn_q.weight q4_K     [  4096,  4096,     1,     1 ]\n",
      "llama_model_loader: - tensor  189:              blk.6.attn_v.weight q4_K     [  4096,  4096,     1,     1 ]\n",
      "llama_model_loader: - tensor  190:           blk.7.attn_norm.weight f32      [  4096,     1,     1,     1 ]\n",
      "llama_model_loader: - tensor  191:            blk.7.ffn_down.weight q6_K     [ 11008,  4096,     1,     1 ]\n",
      "llama_model_loader: - tensor  192:            blk.7.ffn_gate.weight q4_K     [  4096, 11008,     1,     1 ]\n",
      "llama_model_loader: - tensor  193:              blk.7.ffn_up.weight q4_K     [  4096, 11008,     1,     1 ]\n",
      "llama_model_loader: - tensor  194:            blk.7.ffn_norm.weight f32      [  4096,     1,     1,     1 ]\n",
      "llama_model_loader: - tensor  195:              blk.7.attn_k.weight q4_K     [  4096,  4096,     1,     1 ]\n",
      "llama_model_loader: - tensor  196:         blk.7.attn_output.weight q4_K     [  4096,  4096,     1,     1 ]\n",
      "llama_model_loader: - tensor  197:              blk.7.attn_q.weight q4_K     [  4096,  4096,     1,     1 ]\n",
      "llama_model_loader: - tensor  198:              blk.7.attn_v.weight q6_K     [  4096,  4096,     1,     1 ]\n",
      "llama_model_loader: - tensor  199:           blk.8.attn_norm.weight f32      [  4096,     1,     1,     1 ]\n",
      "llama_model_loader: - tensor  200:            blk.8.ffn_down.weight q4_K     [ 11008,  4096,     1,     1 ]\n",
      "llama_model_loader: - tensor  201:            blk.8.ffn_gate.weight q4_K     [  4096, 11008,     1,     1 ]\n",
      "llama_model_loader: - tensor  202:              blk.8.ffn_up.weight q4_K     [  4096, 11008,     1,     1 ]\n",
      "llama_model_loader: - tensor  203:            blk.8.ffn_norm.weight f32      [  4096,     1,     1,     1 ]\n",
      "llama_model_loader: - tensor  204:              blk.8.attn_k.weight q4_K     [  4096,  4096,     1,     1 ]\n",
      "llama_model_loader: - tensor  205:         blk.8.attn_output.weight q4_K     [  4096,  4096,     1,     1 ]\n",
      "llama_model_loader: - tensor  206:              blk.8.attn_q.weight q4_K     [  4096,  4096,     1,     1 ]\n",
      "llama_model_loader: - tensor  207:              blk.8.attn_v.weight q4_K     [  4096,  4096,     1,     1 ]\n",
      "llama_model_loader: - tensor  208:           blk.9.attn_norm.weight f32      [  4096,     1,     1,     1 ]\n",
      "llama_model_loader: - tensor  209:            blk.9.ffn_down.weight q4_K     [ 11008,  4096,     1,     1 ]\n",
      "llama_model_loader: - tensor  210:            blk.9.ffn_gate.weight q4_K     [  4096, 11008,     1,     1 ]\n",
      "llama_model_loader: - tensor  211:              blk.9.ffn_up.weight q4_K     [  4096, 11008,     1,     1 ]\n",
      "llama_model_loader: - tensor  212:            blk.9.ffn_norm.weight f32      [  4096,     1,     1,     1 ]\n",
      "llama_model_loader: - tensor  213:              blk.9.attn_k.weight q4_K     [  4096,  4096,     1,     1 ]\n",
      "llama_model_loader: - tensor  214:         blk.9.attn_output.weight q4_K     [  4096,  4096,     1,     1 ]\n",
      "llama_model_loader: - tensor  215:              blk.9.attn_q.weight q4_K     [  4096,  4096,     1,     1 ]\n",
      "llama_model_loader: - tensor  216:              blk.9.attn_v.weight q4_K     [  4096,  4096,     1,     1 ]\n",
      "llama_model_loader: - tensor  217:                    output.weight q6_K     [  4096, 32000,     1,     1 ]\n",
      "llama_model_loader: - tensor  218:          blk.24.attn_norm.weight f32      [  4096,     1,     1,     1 ]\n",
      "llama_model_loader: - tensor  219:           blk.24.ffn_down.weight q6_K     [ 11008,  4096,     1,     1 ]\n",
      "llama_model_loader: - tensor  220:           blk.24.ffn_gate.weight q4_K     [  4096, 11008,     1,     1 ]\n",
      "llama_model_loader: - tensor  221:             blk.24.ffn_up.weight q4_K     [  4096, 11008,     1,     1 ]\n",
      "llama_model_loader: - tensor  222:           blk.24.ffn_norm.weight f32      [  4096,     1,     1,     1 ]\n",
      "llama_model_loader: - tensor  223:             blk.24.attn_k.weight q4_K     [  4096,  4096,     1,     1 ]\n",
      "llama_model_loader: - tensor  224:        blk.24.attn_output.weight q4_K     [  4096,  4096,     1,     1 ]\n",
      "llama_model_loader: - tensor  225:             blk.24.attn_q.weight q4_K     [  4096,  4096,     1,     1 ]\n",
      "llama_model_loader: - tensor  226:             blk.24.attn_v.weight q6_K     [  4096,  4096,     1,     1 ]\n",
      "llama_model_loader: - tensor  227:          blk.25.attn_norm.weight f32      [  4096,     1,     1,     1 ]\n",
      "llama_model_loader: - tensor  228:           blk.25.ffn_down.weight q4_K     [ 11008,  4096,     1,     1 ]\n",
      "llama_model_loader: - tensor  229:           blk.25.ffn_gate.weight q4_K     [  4096, 11008,     1,     1 ]\n",
      "llama_model_loader: - tensor  230:             blk.25.ffn_up.weight q4_K     [  4096, 11008,     1,     1 ]\n",
      "llama_model_loader: - tensor  231:           blk.25.ffn_norm.weight f32      [  4096,     1,     1,     1 ]\n",
      "llama_model_loader: - tensor  232:             blk.25.attn_k.weight q4_K     [  4096,  4096,     1,     1 ]\n",
      "llama_model_loader: - tensor  233:        blk.25.attn_output.weight q4_K     [  4096,  4096,     1,     1 ]\n",
      "llama_model_loader: - tensor  234:             blk.25.attn_q.weight q4_K     [  4096,  4096,     1,     1 ]\n",
      "llama_model_loader: - tensor  235:             blk.25.attn_v.weight q4_K     [  4096,  4096,     1,     1 ]\n",
      "llama_model_loader: - tensor  236:          blk.26.attn_norm.weight f32      [  4096,     1,     1,     1 ]\n",
      "llama_model_loader: - tensor  237:           blk.26.ffn_down.weight q4_K     [ 11008,  4096,     1,     1 ]\n",
      "llama_model_loader: - tensor  238:           blk.26.ffn_gate.weight q4_K     [  4096, 11008,     1,     1 ]\n",
      "llama_model_loader: - tensor  239:             blk.26.ffn_up.weight q4_K     [  4096, 11008,     1,     1 ]\n",
      "llama_model_loader: - tensor  240:           blk.26.ffn_norm.weight f32      [  4096,     1,     1,     1 ]\n",
      "llama_model_loader: - tensor  241:             blk.26.attn_k.weight q4_K     [  4096,  4096,     1,     1 ]\n",
      "llama_model_loader: - tensor  242:        blk.26.attn_output.weight q4_K     [  4096,  4096,     1,     1 ]\n",
      "llama_model_loader: - tensor  243:             blk.26.attn_q.weight q4_K     [  4096,  4096,     1,     1 ]\n",
      "llama_model_loader: - tensor  244:             blk.26.attn_v.weight q4_K     [  4096,  4096,     1,     1 ]\n",
      "llama_model_loader: - tensor  245:          blk.27.attn_norm.weight f32      [  4096,     1,     1,     1 ]\n",
      "llama_model_loader: - tensor  246:           blk.27.ffn_down.weight q6_K     [ 11008,  4096,     1,     1 ]\n",
      "llama_model_loader: - tensor  247:           blk.27.ffn_gate.weight q4_K     [  4096, 11008,     1,     1 ]\n",
      "llama_model_loader: - tensor  248:             blk.27.ffn_up.weight q4_K     [  4096, 11008,     1,     1 ]\n",
      "llama_model_loader: - tensor  249:           blk.27.ffn_norm.weight f32      [  4096,     1,     1,     1 ]\n",
      "llama_model_loader: - tensor  250:             blk.27.attn_k.weight q4_K     [  4096,  4096,     1,     1 ]\n",
      "llama_model_loader: - tensor  251:        blk.27.attn_output.weight q4_K     [  4096,  4096,     1,     1 ]\n",
      "llama_model_loader: - tensor  252:             blk.27.attn_q.weight q4_K     [  4096,  4096,     1,     1 ]\n",
      "llama_model_loader: - tensor  253:             blk.27.attn_v.weight q6_K     [  4096,  4096,     1,     1 ]\n",
      "llama_model_loader: - tensor  254:          blk.28.attn_norm.weight f32      [  4096,     1,     1,     1 ]\n",
      "llama_model_loader: - tensor  255:           blk.28.ffn_down.weight q6_K     [ 11008,  4096,     1,     1 ]\n",
      "llama_model_loader: - tensor  256:           blk.28.ffn_gate.weight q4_K     [  4096, 11008,     1,     1 ]\n",
      "llama_model_loader: - tensor  257:             blk.28.ffn_up.weight q4_K     [  4096, 11008,     1,     1 ]\n",
      "llama_model_loader: - tensor  258:           blk.28.ffn_norm.weight f32      [  4096,     1,     1,     1 ]\n",
      "llama_model_loader: - tensor  259:             blk.28.attn_k.weight q4_K     [  4096,  4096,     1,     1 ]\n",
      "llama_model_loader: - tensor  260:        blk.28.attn_output.weight q4_K     [  4096,  4096,     1,     1 ]\n",
      "llama_model_loader: - tensor  261:             blk.28.attn_q.weight q4_K     [  4096,  4096,     1,     1 ]\n",
      "llama_model_loader: - tensor  262:             blk.28.attn_v.weight q6_K     [  4096,  4096,     1,     1 ]\n",
      "llama_model_loader: - tensor  263:          blk.29.attn_norm.weight f32      [  4096,     1,     1,     1 ]\n",
      "llama_model_loader: - tensor  264:           blk.29.ffn_down.weight q6_K     [ 11008,  4096,     1,     1 ]\n",
      "llama_model_loader: - tensor  265:           blk.29.ffn_gate.weight q4_K     [  4096, 11008,     1,     1 ]\n",
      "llama_model_loader: - tensor  266:             blk.29.ffn_up.weight q4_K     [  4096, 11008,     1,     1 ]\n",
      "llama_model_loader: - tensor  267:           blk.29.ffn_norm.weight f32      [  4096,     1,     1,     1 ]\n",
      "llama_model_loader: - tensor  268:             blk.29.attn_k.weight q4_K     [  4096,  4096,     1,     1 ]\n",
      "llama_model_loader: - tensor  269:        blk.29.attn_output.weight q4_K     [  4096,  4096,     1,     1 ]\n",
      "llama_model_loader: - tensor  270:             blk.29.attn_q.weight q4_K     [  4096,  4096,     1,     1 ]\n",
      "llama_model_loader: - tensor  271:             blk.29.attn_v.weight q6_K     [  4096,  4096,     1,     1 ]\n",
      "llama_model_loader: - tensor  272:          blk.30.attn_norm.weight f32      [  4096,     1,     1,     1 ]\n",
      "llama_model_loader: - tensor  273:           blk.30.ffn_down.weight q6_K     [ 11008,  4096,     1,     1 ]\n",
      "llama_model_loader: - tensor  274:           blk.30.ffn_gate.weight q4_K     [  4096, 11008,     1,     1 ]\n",
      "llama_model_loader: - tensor  275:             blk.30.ffn_up.weight q4_K     [  4096, 11008,     1,     1 ]\n",
      "llama_model_loader: - tensor  276:           blk.30.ffn_norm.weight f32      [  4096,     1,     1,     1 ]\n",
      "llama_model_loader: - tensor  277:             blk.30.attn_k.weight q4_K     [  4096,  4096,     1,     1 ]\n",
      "llama_model_loader: - tensor  278:        blk.30.attn_output.weight q4_K     [  4096,  4096,     1,     1 ]\n",
      "llama_model_loader: - tensor  279:             blk.30.attn_q.weight q4_K     [  4096,  4096,     1,     1 ]\n",
      "llama_model_loader: - tensor  280:             blk.30.attn_v.weight q6_K     [  4096,  4096,     1,     1 ]\n",
      "llama_model_loader: - tensor  281:          blk.31.attn_norm.weight f32      [  4096,     1,     1,     1 ]\n",
      "llama_model_loader: - tensor  282:           blk.31.ffn_down.weight q6_K     [ 11008,  4096,     1,     1 ]\n",
      "llama_model_loader: - tensor  283:           blk.31.ffn_gate.weight q4_K     [  4096, 11008,     1,     1 ]\n",
      "llama_model_loader: - tensor  284:             blk.31.ffn_up.weight q4_K     [  4096, 11008,     1,     1 ]\n",
      "llama_model_loader: - tensor  285:           blk.31.ffn_norm.weight f32      [  4096,     1,     1,     1 ]\n",
      "llama_model_loader: - tensor  286:             blk.31.attn_k.weight q4_K     [  4096,  4096,     1,     1 ]\n",
      "llama_model_loader: - tensor  287:        blk.31.attn_output.weight q4_K     [  4096,  4096,     1,     1 ]\n",
      "llama_model_loader: - tensor  288:             blk.31.attn_q.weight q4_K     [  4096,  4096,     1,     1 ]\n",
      "llama_model_loader: - tensor  289:             blk.31.attn_v.weight q6_K     [  4096,  4096,     1,     1 ]\n",
      "llama_model_loader: - tensor  290:               output_norm.weight f32      [  4096,     1,     1,     1 ]\n",
      "llama_model_loader: - kv   0:                       general.architecture str     \n",
      "llama_model_loader: - kv   1:                               general.name str     \n",
      "llama_model_loader: - kv   2:                       llama.context_length u32     \n",
      "llama_model_loader: - kv   3:                     llama.embedding_length u32     \n",
      "llama_model_loader: - kv   4:                          llama.block_count u32     \n",
      "llama_model_loader: - kv   5:                  llama.feed_forward_length u32     \n",
      "llama_model_loader: - kv   6:                 llama.rope.dimension_count u32     \n",
      "llama_model_loader: - kv   7:                 llama.attention.head_count u32     \n",
      "llama_model_loader: - kv   8:              llama.attention.head_count_kv u32     \n",
      "llama_model_loader: - kv   9:     llama.attention.layer_norm_rms_epsilon f32     \n",
      "llama_model_loader: - kv  10:                          general.file_type u32     \n",
      "llama_model_loader: - kv  11:                       tokenizer.ggml.model str     \n",
      "llama_model_loader: - kv  12:                      tokenizer.ggml.tokens arr     \n",
      "llama_model_loader: - kv  13:                      tokenizer.ggml.scores arr     \n",
      "llama_model_loader: - kv  14:                  tokenizer.ggml.token_type arr     \n",
      "llama_model_loader: - kv  15:                tokenizer.ggml.bos_token_id u32     \n",
      "llama_model_loader: - kv  16:                tokenizer.ggml.eos_token_id u32     \n",
      "llama_model_loader: - kv  17:            tokenizer.ggml.unknown_token_id u32     \n",
      "llama_model_loader: - kv  18:               general.quantization_version u32     \n",
      "llama_model_loader: - type  f32:   65 tensors\n",
      "llama_model_loader: - type q4_K:  193 tensors\n",
      "llama_model_loader: - type q6_K:   33 tensors\n",
      "llm_load_vocab: special tokens definition check successful ( 259/32000 ).\n",
      "llm_load_print_meta: format           = GGUF V2\n",
      "llm_load_print_meta: arch             = llama\n",
      "llm_load_print_meta: vocab type       = SPM\n",
      "llm_load_print_meta: n_vocab          = 32000\n",
      "llm_load_print_meta: n_merges         = 0\n",
      "llm_load_print_meta: n_ctx_train      = 4096\n",
      "llm_load_print_meta: n_embd           = 4096\n",
      "llm_load_print_meta: n_head           = 32\n",
      "llm_load_print_meta: n_head_kv        = 32\n",
      "llm_load_print_meta: n_layer          = 32\n",
      "llm_load_print_meta: n_rot            = 128\n",
      "llm_load_print_meta: n_gqa            = 1\n",
      "llm_load_print_meta: f_norm_eps       = 0.0e+00\n",
      "llm_load_print_meta: f_norm_rms_eps   = 1.0e-06\n",
      "llm_load_print_meta: f_clamp_kqv      = 0.0e+00\n",
      "llm_load_print_meta: f_max_alibi_bias = 0.0e+00\n",
      "llm_load_print_meta: n_ff             = 11008\n",
      "llm_load_print_meta: rope scaling     = linear\n",
      "llm_load_print_meta: freq_base_train  = 10000.0\n",
      "llm_load_print_meta: freq_scale_train = 1\n",
      "llm_load_print_meta: n_yarn_orig_ctx  = 4096\n",
      "llm_load_print_meta: rope_finetuned   = unknown\n",
      "llm_load_print_meta: model type       = 7B\n",
      "llm_load_print_meta: model ftype      = mostly Q4_K - Medium\n",
      "llm_load_print_meta: model params     = 6.74 B\n",
      "llm_load_print_meta: model size       = 3.80 GiB (4.84 BPW) \n",
      "llm_load_print_meta: general.name   = LLaMA v2\n",
      "llm_load_print_meta: BOS token = 1 '<s>'\n",
      "llm_load_print_meta: EOS token = 2 '</s>'\n",
      "llm_load_print_meta: UNK token = 0 '<unk>'\n",
      "llm_load_print_meta: LF token  = 13 '<0x0A>'\n",
      "llm_load_tensors: ggml ctx size =    0.11 MB\n",
      "llm_load_tensors: mem required  = 3891.35 MB\n",
      "..................................................................................................\n",
      "llama_new_context_with_model: n_ctx      = 3900\n",
      "llama_new_context_with_model: freq_base  = 10000.0\n",
      "llama_new_context_with_model: freq_scale = 1\n"
     ]
    },
    {
     "name": "stderr",
     "output_type": "stream",
     "text": [
      "llama_new_context_with_model: kv self size  = 1950.00 MB\n",
      "llama_build_graph: non-view tensors processed: 740/740\n",
      "llama_new_context_with_model: compute buffer total size = 282.00 MB\n",
      "AVX = 0 | AVX2 = 0 | AVX512 = 0 | AVX512_VBMI = 0 | AVX512_VNNI = 0 | FMA = 0 | NEON = 0 | ARM_FMA = 0 | F16C = 0 | FP16_VA = 0 | WASM_SIMD = 0 | BLAS = 1 | SSE3 = 1 | SSSE3 = 1 | VSX = 0 | \n"
     ]
    }
   ],
   "source": [
    "#or use a locally downloaded model path once you have downloaded it already. \n",
    "#/Users/s/Library/Caches/llama_index/models/llama-2-7b-chat.Q5_K_M.gguf\n",
    "#/Users/s/Library/Caches/llama_index/models/llama-2-7b-chat.Q4_K_M.gguf\n",
    "\n",
    "import logging\n",
    "import sys\n",
    "\n",
    "from llama_index.callbacks import CallbackManager, LlamaDebugHandler\n",
    "from llama_index.llms import LlamaCPP\n",
    "from llama_index.llms.llama_utils import messages_to_prompt, completion_to_prompt\n",
    "\n",
    "logging.basicConfig(stream=sys.stdout, level=logging.INFO)  # Change INFO to DEBUG if you want more extensive logging\n",
    "logging.getLogger().addHandler(logging.StreamHandler(stream=sys.stdout))\n",
    "\n",
    "llama_debug = LlamaDebugHandler(print_trace_on_end=True)\n",
    "callback_manager = CallbackManager([llama_debug])\n",
    "model_path = \"/Users/s/Library/Caches/llama_index/models/llama-2-7b-chat.Q4_K_M.gguf\"\n",
    "\n",
    "llm = LlamaCPP(\n",
    "    model_url=None,\n",
    "    \n",
    "    # optionally, you can set the path to a pre-downloaded model instead of model_url\n",
    "    model_path=model_path,\n",
    "    \n",
    "    temperature=0.0,\n",
    "    max_new_tokens=1024,\n",
    "    \n",
    "    # llama2 has a context window of 4096 tokens, but we set it lower to allow for some wiggle room\n",
    "    context_window=3900,  # note, this sets n_ctx in the model_kwargs below, so you don't need to pass it there.\n",
    "    \n",
    "    # kwargs to pass to __call__()\n",
    "    generate_kwargs={},\n",
    "    \n",
    "    # kwargs to pass to __init__()\n",
    "    # set to at least 1 to use GPU\n",
    "    #model_kwargs={\"n_gpu_layers\": 4}, # I need to play with this and see if it actually helps\n",
    "    \n",
    "    # transform inputs into Llama2 format\n",
    "    messages_to_prompt=messages_to_prompt,\n",
    "    completion_to_prompt=completion_to_prompt,\n",
    "    verbose=True,\n",
    ")\n",
    "\n",
    "llm = LlamaCPP(model_path=model_path)\n"
   ]
  },
  {
   "cell_type": "markdown",
   "id": "8713830c",
   "metadata": {},
   "source": [
    "## We create a service context"
   ]
  },
  {
   "cell_type": "code",
   "execution_count": 121,
   "id": "e06149db",
   "metadata": {},
   "outputs": [],
   "source": [
    "from llama_index import ServiceContext\n",
    "\n",
    "service_context = ServiceContext.from_defaults(llm=llm, embed_model=embed_model, chunk_size=512, chunk_overlap=20)"
   ]
  },
  {
   "cell_type": "markdown",
   "id": "c04976dd",
   "metadata": {},
   "source": [
    "## test 1, use a simple vector store index. This may take some time."
   ]
  },
  {
   "cell_type": "code",
   "execution_count": 31,
   "id": "1dfcb242",
   "metadata": {},
   "outputs": [
    {
     "name": "stderr",
     "output_type": "stream",
     "text": [
      "\r",
      "Generating embeddings:   0%|                                                                                                                                                                                           | 0/1924 [00:00<?, ?it/s]"
     ]
    },
    {
     "name": "stdout",
     "output_type": "stream",
     "text": [
      "INFO:httpx:HTTP Request: POST http://127.0.0.1:8080/embed \"HTTP/1.1 200 OK\"\n",
      "HTTP Request: POST http://127.0.0.1:8080/embed \"HTTP/1.1 200 OK\"\n",
      "HTTP Request: POST http://127.0.0.1:8080/embed \"HTTP/1.1 200 OK\"\n",
      "HTTP Request: POST http://127.0.0.1:8080/embed \"HTTP/1.1 200 OK\"\n"
     ]
    },
    {
     "name": "stderr",
     "output_type": "stream",
     "text": [
      "\r",
      "Generating embeddings:   1%|▉                                                                                                                                                                                 | 10/1924 [00:03<12:29,  2.55it/s]"
     ]
    },
    {
     "name": "stdout",
     "output_type": "stream",
     "text": [
      "INFO:httpx:HTTP Request: POST http://127.0.0.1:8080/embed \"HTTP/1.1 200 OK\"\n",
      "HTTP Request: POST http://127.0.0.1:8080/embed \"HTTP/1.1 200 OK\"\n",
      "HTTP Request: POST http://127.0.0.1:8080/embed \"HTTP/1.1 200 OK\"\n",
      "HTTP Request: POST http://127.0.0.1:8080/embed \"HTTP/1.1 200 OK\"\n"
     ]
    },
    {
     "name": "stderr",
     "output_type": "stream",
     "text": [
      "\r",
      "Generating embeddings:   1%|█▊                                                                                                                                                                                | 20/1924 [00:07<11:38,  2.73it/s]"
     ]
    },
    {
     "name": "stdout",
     "output_type": "stream",
     "text": [
      "INFO:httpx:HTTP Request: POST http://127.0.0.1:8080/embed \"HTTP/1.1 200 OK\"\n",
      "HTTP Request: POST http://127.0.0.1:8080/embed \"HTTP/1.1 200 OK\"\n",
      "HTTP Request: POST http://127.0.0.1:8080/embed \"HTTP/1.1 200 OK\"\n",
      "HTTP Request: POST http://127.0.0.1:8080/embed \"HTTP/1.1 200 OK\"\n"
     ]
    },
    {
     "name": "stderr",
     "output_type": "stream",
     "text": [
      "\r",
      "Generating embeddings:   2%|██▊                                                                                                                                                                               | 30/1924 [00:11<11:56,  2.64it/s]"
     ]
    },
    {
     "name": "stdout",
     "output_type": "stream",
     "text": [
      "INFO:httpx:HTTP Request: POST http://127.0.0.1:8080/embed \"HTTP/1.1 200 OK\"\n",
      "HTTP Request: POST http://127.0.0.1:8080/embed \"HTTP/1.1 200 OK\"\n",
      "HTTP Request: POST http://127.0.0.1:8080/embed \"HTTP/1.1 200 OK\"\n",
      "HTTP Request: POST http://127.0.0.1:8080/embed \"HTTP/1.1 200 OK\"\n"
     ]
    },
    {
     "name": "stderr",
     "output_type": "stream",
     "text": [
      "\r",
      "Generating embeddings:   2%|███▋                                                                                                                                                                              | 40/1924 [00:15<12:03,  2.60it/s]"
     ]
    },
    {
     "name": "stdout",
     "output_type": "stream",
     "text": [
      "INFO:httpx:HTTP Request: POST http://127.0.0.1:8080/embed \"HTTP/1.1 200 OK\"\n",
      "HTTP Request: POST http://127.0.0.1:8080/embed \"HTTP/1.1 200 OK\"\n",
      "HTTP Request: POST http://127.0.0.1:8080/embed \"HTTP/1.1 200 OK\"\n",
      "HTTP Request: POST http://127.0.0.1:8080/embed \"HTTP/1.1 200 OK\"\n"
     ]
    },
    {
     "name": "stderr",
     "output_type": "stream",
     "text": [
      "\r",
      "Generating embeddings:   3%|████▋                                                                                                                                                                             | 50/1924 [00:19<12:28,  2.50it/s]"
     ]
    },
    {
     "name": "stdout",
     "output_type": "stream",
     "text": [
      "INFO:httpx:HTTP Request: POST http://127.0.0.1:8080/embed \"HTTP/1.1 200 OK\"\n",
      "HTTP Request: POST http://127.0.0.1:8080/embed \"HTTP/1.1 200 OK\"\n",
      "HTTP Request: POST http://127.0.0.1:8080/embed \"HTTP/1.1 200 OK\"\n",
      "HTTP Request: POST http://127.0.0.1:8080/embed \"HTTP/1.1 200 OK\"\n"
     ]
    },
    {
     "name": "stderr",
     "output_type": "stream",
     "text": [
      "\r",
      "Generating embeddings:   3%|█████▌                                                                                                                                                                            | 60/1924 [00:23<12:05,  2.57it/s]"
     ]
    },
    {
     "name": "stdout",
     "output_type": "stream",
     "text": [
      "INFO:httpx:HTTP Request: POST http://127.0.0.1:8080/embed \"HTTP/1.1 200 OK\"\n",
      "HTTP Request: POST http://127.0.0.1:8080/embed \"HTTP/1.1 200 OK\"\n",
      "HTTP Request: POST http://127.0.0.1:8080/embed \"HTTP/1.1 200 OK\"\n",
      "HTTP Request: POST http://127.0.0.1:8080/embed \"HTTP/1.1 200 OK\"\n"
     ]
    },
    {
     "name": "stderr",
     "output_type": "stream",
     "text": [
      "\r",
      "Generating embeddings:   4%|██████▍                                                                                                                                                                           | 70/1924 [00:27<12:34,  2.46it/s]"
     ]
    },
    {
     "name": "stdout",
     "output_type": "stream",
     "text": [
      "INFO:httpx:HTTP Request: POST http://127.0.0.1:8080/embed \"HTTP/1.1 200 OK\"\n",
      "HTTP Request: POST http://127.0.0.1:8080/embed \"HTTP/1.1 200 OK\"\n",
      "HTTP Request: POST http://127.0.0.1:8080/embed \"HTTP/1.1 200 OK\"\n",
      "HTTP Request: POST http://127.0.0.1:8080/embed \"HTTP/1.1 200 OK\"\n"
     ]
    },
    {
     "name": "stderr",
     "output_type": "stream",
     "text": [
      "\r",
      "Generating embeddings:   4%|███████▍                                                                                                                                                                          | 80/1924 [00:31<12:34,  2.44it/s]"
     ]
    },
    {
     "name": "stdout",
     "output_type": "stream",
     "text": [
      "INFO:httpx:HTTP Request: POST http://127.0.0.1:8080/embed \"HTTP/1.1 200 OK\"\n",
      "HTTP Request: POST http://127.0.0.1:8080/embed \"HTTP/1.1 200 OK\"\n",
      "HTTP Request: POST http://127.0.0.1:8080/embed \"HTTP/1.1 200 OK\"\n",
      "HTTP Request: POST http://127.0.0.1:8080/embed \"HTTP/1.1 200 OK\"\n"
     ]
    },
    {
     "name": "stderr",
     "output_type": "stream",
     "text": [
      "\r",
      "Generating embeddings:   5%|████████▎                                                                                                                                                                         | 90/1924 [00:35<12:13,  2.50it/s]"
     ]
    },
    {
     "name": "stdout",
     "output_type": "stream",
     "text": [
      "INFO:httpx:HTTP Request: POST http://127.0.0.1:8080/embed \"HTTP/1.1 200 OK\"\n",
      "HTTP Request: POST http://127.0.0.1:8080/embed \"HTTP/1.1 200 OK\"\n",
      "HTTP Request: POST http://127.0.0.1:8080/embed \"HTTP/1.1 200 OK\"\n",
      "HTTP Request: POST http://127.0.0.1:8080/embed \"HTTP/1.1 200 OK\"\n"
     ]
    },
    {
     "name": "stderr",
     "output_type": "stream",
     "text": [
      "\r",
      "Generating embeddings:   5%|█████████▏                                                                                                                                                                       | 100/1924 [00:39<12:04,  2.52it/s]"
     ]
    },
    {
     "name": "stdout",
     "output_type": "stream",
     "text": [
      "INFO:httpx:HTTP Request: POST http://127.0.0.1:8080/embed \"HTTP/1.1 200 OK\"\n",
      "HTTP Request: POST http://127.0.0.1:8080/embed \"HTTP/1.1 200 OK\"\n",
      "HTTP Request: POST http://127.0.0.1:8080/embed \"HTTP/1.1 200 OK\"\n",
      "HTTP Request: POST http://127.0.0.1:8080/embed \"HTTP/1.1 200 OK\"\n"
     ]
    },
    {
     "name": "stderr",
     "output_type": "stream",
     "text": [
      "\r",
      "Generating embeddings:   6%|██████████                                                                                                                                                                       | 110/1924 [00:43<11:51,  2.55it/s]"
     ]
    },
    {
     "name": "stdout",
     "output_type": "stream",
     "text": [
      "INFO:httpx:HTTP Request: POST http://127.0.0.1:8080/embed \"HTTP/1.1 200 OK\"\n",
      "HTTP Request: POST http://127.0.0.1:8080/embed \"HTTP/1.1 200 OK\"\n",
      "HTTP Request: POST http://127.0.0.1:8080/embed \"HTTP/1.1 200 OK\"\n",
      "HTTP Request: POST http://127.0.0.1:8080/embed \"HTTP/1.1 200 OK\"\n"
     ]
    },
    {
     "name": "stderr",
     "output_type": "stream",
     "text": [
      "\r",
      "Generating embeddings:   6%|███████████                                                                                                                                                                      | 120/1924 [00:48<12:43,  2.36it/s]"
     ]
    },
    {
     "name": "stdout",
     "output_type": "stream",
     "text": [
      "INFO:httpx:HTTP Request: POST http://127.0.0.1:8080/embed \"HTTP/1.1 200 OK\"\n",
      "HTTP Request: POST http://127.0.0.1:8080/embed \"HTTP/1.1 200 OK\"\n",
      "HTTP Request: POST http://127.0.0.1:8080/embed \"HTTP/1.1 200 OK\"\n",
      "HTTP Request: POST http://127.0.0.1:8080/embed \"HTTP/1.1 200 OK\"\n"
     ]
    },
    {
     "name": "stderr",
     "output_type": "stream",
     "text": [
      "\r",
      "Generating embeddings:   7%|███████████▉                                                                                                                                                                     | 130/1924 [00:52<12:37,  2.37it/s]"
     ]
    },
    {
     "name": "stdout",
     "output_type": "stream",
     "text": [
      "INFO:httpx:HTTP Request: POST http://127.0.0.1:8080/embed \"HTTP/1.1 200 OK\"\n",
      "HTTP Request: POST http://127.0.0.1:8080/embed \"HTTP/1.1 200 OK\"\n",
      "HTTP Request: POST http://127.0.0.1:8080/embed \"HTTP/1.1 200 OK\"\n",
      "HTTP Request: POST http://127.0.0.1:8080/embed \"HTTP/1.1 200 OK\"\n"
     ]
    },
    {
     "name": "stderr",
     "output_type": "stream",
     "text": [
      "\r",
      "Generating embeddings:   7%|████████████▉                                                                                                                                                                    | 140/1924 [00:56<12:08,  2.45it/s]"
     ]
    },
    {
     "name": "stdout",
     "output_type": "stream",
     "text": [
      "INFO:httpx:HTTP Request: POST http://127.0.0.1:8080/embed \"HTTP/1.1 200 OK\"\n",
      "HTTP Request: POST http://127.0.0.1:8080/embed \"HTTP/1.1 200 OK\"\n",
      "HTTP Request: POST http://127.0.0.1:8080/embed \"HTTP/1.1 200 OK\"\n",
      "HTTP Request: POST http://127.0.0.1:8080/embed \"HTTP/1.1 200 OK\"\n"
     ]
    },
    {
     "name": "stderr",
     "output_type": "stream",
     "text": [
      "\r",
      "Generating embeddings:   8%|█████████████▊                                                                                                                                                                   | 150/1924 [00:59<11:43,  2.52it/s]"
     ]
    },
    {
     "name": "stdout",
     "output_type": "stream",
     "text": [
      "INFO:httpx:HTTP Request: POST http://127.0.0.1:8080/embed \"HTTP/1.1 200 OK\"\n",
      "HTTP Request: POST http://127.0.0.1:8080/embed \"HTTP/1.1 200 OK\"\n",
      "HTTP Request: POST http://127.0.0.1:8080/embed \"HTTP/1.1 200 OK\"\n",
      "HTTP Request: POST http://127.0.0.1:8080/embed \"HTTP/1.1 200 OK\"\n"
     ]
    },
    {
     "name": "stderr",
     "output_type": "stream",
     "text": [
      "\r",
      "Generating embeddings:   8%|██████████████▋                                                                                                                                                                  | 160/1924 [01:03<11:43,  2.51it/s]"
     ]
    },
    {
     "name": "stdout",
     "output_type": "stream",
     "text": [
      "INFO:httpx:HTTP Request: POST http://127.0.0.1:8080/embed \"HTTP/1.1 200 OK\"\n",
      "HTTP Request: POST http://127.0.0.1:8080/embed \"HTTP/1.1 200 OK\"\n",
      "HTTP Request: POST http://127.0.0.1:8080/embed \"HTTP/1.1 200 OK\"\n",
      "HTTP Request: POST http://127.0.0.1:8080/embed \"HTTP/1.1 200 OK\"\n"
     ]
    },
    {
     "name": "stderr",
     "output_type": "stream",
     "text": [
      "\r",
      "Generating embeddings:   9%|███████████████▋                                                                                                                                                                 | 170/1924 [01:08<11:44,  2.49it/s]"
     ]
    },
    {
     "name": "stdout",
     "output_type": "stream",
     "text": [
      "INFO:httpx:HTTP Request: POST http://127.0.0.1:8080/embed \"HTTP/1.1 200 OK\"\n",
      "HTTP Request: POST http://127.0.0.1:8080/embed \"HTTP/1.1 200 OK\"\n",
      "HTTP Request: POST http://127.0.0.1:8080/embed \"HTTP/1.1 200 OK\"\n",
      "HTTP Request: POST http://127.0.0.1:8080/embed \"HTTP/1.1 200 OK\"\n"
     ]
    },
    {
     "name": "stderr",
     "output_type": "stream",
     "text": [
      "\r",
      "Generating embeddings:   9%|████████████████▌                                                                                                                                                                | 180/1924 [01:12<11:39,  2.49it/s]"
     ]
    },
    {
     "name": "stdout",
     "output_type": "stream",
     "text": [
      "INFO:httpx:HTTP Request: POST http://127.0.0.1:8080/embed \"HTTP/1.1 200 OK\"\n",
      "HTTP Request: POST http://127.0.0.1:8080/embed \"HTTP/1.1 200 OK\"\n",
      "HTTP Request: POST http://127.0.0.1:8080/embed \"HTTP/1.1 200 OK\"\n",
      "HTTP Request: POST http://127.0.0.1:8080/embed \"HTTP/1.1 200 OK\"\n"
     ]
    },
    {
     "name": "stderr",
     "output_type": "stream",
     "text": [
      "\r",
      "Generating embeddings:  10%|█████████████████▍                                                                                                                                                               | 190/1924 [01:15<11:31,  2.51it/s]"
     ]
    },
    {
     "name": "stdout",
     "output_type": "stream",
     "text": [
      "INFO:httpx:HTTP Request: POST http://127.0.0.1:8080/embed \"HTTP/1.1 200 OK\"\n",
      "HTTP Request: POST http://127.0.0.1:8080/embed \"HTTP/1.1 200 OK\"\n",
      "HTTP Request: POST http://127.0.0.1:8080/embed \"HTTP/1.1 200 OK\"\n",
      "HTTP Request: POST http://127.0.0.1:8080/embed \"HTTP/1.1 200 OK\"\n"
     ]
    },
    {
     "name": "stderr",
     "output_type": "stream",
     "text": [
      "\r",
      "Generating embeddings:  10%|██████████████████▍                                                                                                                                                              | 200/1924 [01:19<11:26,  2.51it/s]"
     ]
    },
    {
     "name": "stdout",
     "output_type": "stream",
     "text": [
      "INFO:httpx:HTTP Request: POST http://127.0.0.1:8080/embed \"HTTP/1.1 200 OK\"\n",
      "HTTP Request: POST http://127.0.0.1:8080/embed \"HTTP/1.1 200 OK\"\n",
      "HTTP Request: POST http://127.0.0.1:8080/embed \"HTTP/1.1 200 OK\"\n",
      "HTTP Request: POST http://127.0.0.1:8080/embed \"HTTP/1.1 200 OK\"\n"
     ]
    },
    {
     "name": "stderr",
     "output_type": "stream",
     "text": [
      "\r",
      "Generating embeddings:  11%|███████████████████▎                                                                                                                                                             | 210/1924 [01:23<10:58,  2.60it/s]"
     ]
    },
    {
     "name": "stdout",
     "output_type": "stream",
     "text": [
      "INFO:httpx:HTTP Request: POST http://127.0.0.1:8080/embed \"HTTP/1.1 200 OK\"\n",
      "HTTP Request: POST http://127.0.0.1:8080/embed \"HTTP/1.1 200 OK\"\n",
      "HTTP Request: POST http://127.0.0.1:8080/embed \"HTTP/1.1 200 OK\"\n",
      "HTTP Request: POST http://127.0.0.1:8080/embed \"HTTP/1.1 200 OK\"\n"
     ]
    },
    {
     "name": "stderr",
     "output_type": "stream",
     "text": [
      "\r",
      "Generating embeddings:  11%|████████████████████▏                                                                                                                                                            | 220/1924 [01:26<10:37,  2.67it/s]"
     ]
    },
    {
     "name": "stdout",
     "output_type": "stream",
     "text": [
      "INFO:httpx:HTTP Request: POST http://127.0.0.1:8080/embed \"HTTP/1.1 200 OK\"\n",
      "HTTP Request: POST http://127.0.0.1:8080/embed \"HTTP/1.1 200 OK\"\n",
      "HTTP Request: POST http://127.0.0.1:8080/embed \"HTTP/1.1 200 OK\"\n",
      "HTTP Request: POST http://127.0.0.1:8080/embed \"HTTP/1.1 200 OK\"\n"
     ]
    },
    {
     "name": "stderr",
     "output_type": "stream",
     "text": [
      "\r",
      "Generating embeddings:  12%|█████████████████████▏                                                                                                                                                           | 230/1924 [01:30<10:38,  2.65it/s]"
     ]
    },
    {
     "name": "stdout",
     "output_type": "stream",
     "text": [
      "INFO:httpx:HTTP Request: POST http://127.0.0.1:8080/embed \"HTTP/1.1 200 OK\"\n",
      "HTTP Request: POST http://127.0.0.1:8080/embed \"HTTP/1.1 200 OK\"\n",
      "HTTP Request: POST http://127.0.0.1:8080/embed \"HTTP/1.1 200 OK\"\n",
      "HTTP Request: POST http://127.0.0.1:8080/embed \"HTTP/1.1 200 OK\"\n"
     ]
    },
    {
     "name": "stderr",
     "output_type": "stream",
     "text": [
      "\r",
      "Generating embeddings:  12%|██████████████████████                                                                                                                                                           | 240/1924 [01:34<10:49,  2.59it/s]"
     ]
    },
    {
     "name": "stdout",
     "output_type": "stream",
     "text": [
      "INFO:httpx:HTTP Request: POST http://127.0.0.1:8080/embed \"HTTP/1.1 200 OK\"\n",
      "HTTP Request: POST http://127.0.0.1:8080/embed \"HTTP/1.1 200 OK\"\n",
      "HTTP Request: POST http://127.0.0.1:8080/embed \"HTTP/1.1 200 OK\"\n",
      "HTTP Request: POST http://127.0.0.1:8080/embed \"HTTP/1.1 200 OK\"\n"
     ]
    },
    {
     "name": "stderr",
     "output_type": "stream",
     "text": [
      "\r",
      "Generating embeddings:  13%|██████████████████████▉                                                                                                                                                          | 250/1924 [01:38<10:41,  2.61it/s]"
     ]
    },
    {
     "name": "stdout",
     "output_type": "stream",
     "text": [
      "INFO:httpx:HTTP Request: POST http://127.0.0.1:8080/embed \"HTTP/1.1 200 OK\"\n",
      "HTTP Request: POST http://127.0.0.1:8080/embed \"HTTP/1.1 200 OK\"\n",
      "HTTP Request: POST http://127.0.0.1:8080/embed \"HTTP/1.1 200 OK\"\n",
      "HTTP Request: POST http://127.0.0.1:8080/embed \"HTTP/1.1 200 OK\"\n"
     ]
    },
    {
     "name": "stderr",
     "output_type": "stream",
     "text": [
      "\r",
      "Generating embeddings:  14%|███████████████████████▉                                                                                                                                                         | 260/1924 [01:42<10:43,  2.59it/s]"
     ]
    },
    {
     "name": "stdout",
     "output_type": "stream",
     "text": [
      "INFO:httpx:HTTP Request: POST http://127.0.0.1:8080/embed \"HTTP/1.1 200 OK\"\n",
      "HTTP Request: POST http://127.0.0.1:8080/embed \"HTTP/1.1 200 OK\"\n",
      "HTTP Request: POST http://127.0.0.1:8080/embed \"HTTP/1.1 200 OK\"\n",
      "HTTP Request: POST http://127.0.0.1:8080/embed \"HTTP/1.1 200 OK\"\n"
     ]
    },
    {
     "name": "stderr",
     "output_type": "stream",
     "text": [
      "\r",
      "Generating embeddings:  14%|████████████████████████▊                                                                                                                                                        | 270/1924 [01:45<10:17,  2.68it/s]"
     ]
    },
    {
     "name": "stdout",
     "output_type": "stream",
     "text": [
      "INFO:httpx:HTTP Request: POST http://127.0.0.1:8080/embed \"HTTP/1.1 200 OK\"\n",
      "HTTP Request: POST http://127.0.0.1:8080/embed \"HTTP/1.1 200 OK\"\n",
      "HTTP Request: POST http://127.0.0.1:8080/embed \"HTTP/1.1 200 OK\"\n",
      "HTTP Request: POST http://127.0.0.1:8080/embed \"HTTP/1.1 200 OK\"\n"
     ]
    },
    {
     "name": "stderr",
     "output_type": "stream",
     "text": [
      "\r",
      "Generating embeddings:  15%|█████████████████████████▊                                                                                                                                                       | 280/1924 [01:49<10:20,  2.65it/s]"
     ]
    },
    {
     "name": "stdout",
     "output_type": "stream",
     "text": [
      "INFO:httpx:HTTP Request: POST http://127.0.0.1:8080/embed \"HTTP/1.1 200 OK\"\n",
      "HTTP Request: POST http://127.0.0.1:8080/embed \"HTTP/1.1 200 OK\"\n",
      "HTTP Request: POST http://127.0.0.1:8080/embed \"HTTP/1.1 200 OK\"\n",
      "HTTP Request: POST http://127.0.0.1:8080/embed \"HTTP/1.1 200 OK\"\n"
     ]
    },
    {
     "name": "stderr",
     "output_type": "stream",
     "text": [
      "\r",
      "Generating embeddings:  15%|██████████████████████████▋                                                                                                                                                      | 290/1924 [01:53<10:28,  2.60it/s]"
     ]
    },
    {
     "name": "stdout",
     "output_type": "stream",
     "text": [
      "INFO:httpx:HTTP Request: POST http://127.0.0.1:8080/embed \"HTTP/1.1 200 OK\"\n",
      "HTTP Request: POST http://127.0.0.1:8080/embed \"HTTP/1.1 200 OK\"\n",
      "HTTP Request: POST http://127.0.0.1:8080/embed \"HTTP/1.1 200 OK\"\n",
      "HTTP Request: POST http://127.0.0.1:8080/embed \"HTTP/1.1 200 OK\"\n"
     ]
    },
    {
     "name": "stderr",
     "output_type": "stream",
     "text": [
      "\r",
      "Generating embeddings:  16%|███████████████████████████▌                                                                                                                                                     | 300/1924 [01:57<10:34,  2.56it/s]"
     ]
    },
    {
     "name": "stdout",
     "output_type": "stream",
     "text": [
      "INFO:httpx:HTTP Request: POST http://127.0.0.1:8080/embed \"HTTP/1.1 200 OK\"\n",
      "HTTP Request: POST http://127.0.0.1:8080/embed \"HTTP/1.1 200 OK\"\n",
      "HTTP Request: POST http://127.0.0.1:8080/embed \"HTTP/1.1 200 OK\"\n",
      "HTTP Request: POST http://127.0.0.1:8080/embed \"HTTP/1.1 200 OK\"\n"
     ]
    },
    {
     "name": "stderr",
     "output_type": "stream",
     "text": [
      "\r",
      "Generating embeddings:  16%|████████████████████████████▌                                                                                                                                                    | 310/1924 [02:02<10:40,  2.52it/s]"
     ]
    },
    {
     "name": "stdout",
     "output_type": "stream",
     "text": [
      "INFO:httpx:HTTP Request: POST http://127.0.0.1:8080/embed \"HTTP/1.1 200 OK\"\n",
      "HTTP Request: POST http://127.0.0.1:8080/embed \"HTTP/1.1 200 OK\"\n",
      "HTTP Request: POST http://127.0.0.1:8080/embed \"HTTP/1.1 200 OK\"\n",
      "HTTP Request: POST http://127.0.0.1:8080/embed \"HTTP/1.1 200 OK\"\n"
     ]
    },
    {
     "name": "stderr",
     "output_type": "stream",
     "text": [
      "\r",
      "Generating embeddings:  17%|█████████████████████████████▍                                                                                                                                                   | 320/1924 [02:05<10:17,  2.60it/s]"
     ]
    },
    {
     "name": "stdout",
     "output_type": "stream",
     "text": [
      "INFO:httpx:HTTP Request: POST http://127.0.0.1:8080/embed \"HTTP/1.1 200 OK\"\n",
      "HTTP Request: POST http://127.0.0.1:8080/embed \"HTTP/1.1 200 OK\"\n",
      "HTTP Request: POST http://127.0.0.1:8080/embed \"HTTP/1.1 200 OK\"\n",
      "HTTP Request: POST http://127.0.0.1:8080/embed \"HTTP/1.1 200 OK\"\n"
     ]
    },
    {
     "name": "stderr",
     "output_type": "stream",
     "text": [
      "\r",
      "Generating embeddings:  17%|██████████████████████████████▎                                                                                                                                                  | 330/1924 [02:09<10:06,  2.63it/s]"
     ]
    },
    {
     "name": "stdout",
     "output_type": "stream",
     "text": [
      "INFO:httpx:HTTP Request: POST http://127.0.0.1:8080/embed \"HTTP/1.1 200 OK\"\n",
      "HTTP Request: POST http://127.0.0.1:8080/embed \"HTTP/1.1 200 OK\"\n",
      "HTTP Request: POST http://127.0.0.1:8080/embed \"HTTP/1.1 200 OK\"\n",
      "HTTP Request: POST http://127.0.0.1:8080/embed \"HTTP/1.1 200 OK\"\n"
     ]
    },
    {
     "name": "stderr",
     "output_type": "stream",
     "text": [
      "\r",
      "Generating embeddings:  18%|███████████████████████████████▎                                                                                                                                                 | 340/1924 [02:13<10:06,  2.61it/s]"
     ]
    },
    {
     "name": "stdout",
     "output_type": "stream",
     "text": [
      "INFO:httpx:HTTP Request: POST http://127.0.0.1:8080/embed \"HTTP/1.1 200 OK\"\n",
      "HTTP Request: POST http://127.0.0.1:8080/embed \"HTTP/1.1 200 OK\"\n",
      "HTTP Request: POST http://127.0.0.1:8080/embed \"HTTP/1.1 200 OK\"\n",
      "HTTP Request: POST http://127.0.0.1:8080/embed \"HTTP/1.1 200 OK\"\n"
     ]
    },
    {
     "name": "stderr",
     "output_type": "stream",
     "text": [
      "\r",
      "Generating embeddings:  18%|████████████████████████████████▏                                                                                                                                                | 350/1924 [02:17<10:13,  2.57it/s]"
     ]
    },
    {
     "name": "stdout",
     "output_type": "stream",
     "text": [
      "INFO:httpx:HTTP Request: POST http://127.0.0.1:8080/embed \"HTTP/1.1 200 OK\"\n",
      "HTTP Request: POST http://127.0.0.1:8080/embed \"HTTP/1.1 200 OK\"\n",
      "HTTP Request: POST http://127.0.0.1:8080/embed \"HTTP/1.1 200 OK\"\n",
      "HTTP Request: POST http://127.0.0.1:8080/embed \"HTTP/1.1 200 OK\"\n"
     ]
    },
    {
     "name": "stderr",
     "output_type": "stream",
     "text": [
      "\r",
      "Generating embeddings:  19%|█████████████████████████████████                                                                                                                                                | 360/1924 [02:21<10:09,  2.57it/s]"
     ]
    },
    {
     "name": "stdout",
     "output_type": "stream",
     "text": [
      "INFO:httpx:HTTP Request: POST http://127.0.0.1:8080/embed \"HTTP/1.1 200 OK\"\n",
      "HTTP Request: POST http://127.0.0.1:8080/embed \"HTTP/1.1 200 OK\"\n",
      "HTTP Request: POST http://127.0.0.1:8080/embed \"HTTP/1.1 200 OK\"\n",
      "HTTP Request: POST http://127.0.0.1:8080/embed \"HTTP/1.1 200 OK\"\n"
     ]
    },
    {
     "name": "stderr",
     "output_type": "stream",
     "text": [
      "\r",
      "Generating embeddings:  19%|██████████████████████████████████                                                                                                                                               | 370/1924 [02:24<09:49,  2.64it/s]"
     ]
    },
    {
     "name": "stdout",
     "output_type": "stream",
     "text": [
      "INFO:httpx:HTTP Request: POST http://127.0.0.1:8080/embed \"HTTP/1.1 200 OK\"\n",
      "HTTP Request: POST http://127.0.0.1:8080/embed \"HTTP/1.1 200 OK\"\n",
      "HTTP Request: POST http://127.0.0.1:8080/embed \"HTTP/1.1 200 OK\"\n",
      "HTTP Request: POST http://127.0.0.1:8080/embed \"HTTP/1.1 200 OK\"\n"
     ]
    },
    {
     "name": "stderr",
     "output_type": "stream",
     "text": [
      "\r",
      "Generating embeddings:  20%|██████████████████████████████████▉                                                                                                                                              | 380/1924 [02:28<09:42,  2.65it/s]"
     ]
    },
    {
     "name": "stdout",
     "output_type": "stream",
     "text": [
      "INFO:httpx:HTTP Request: POST http://127.0.0.1:8080/embed \"HTTP/1.1 200 OK\"\n",
      "HTTP Request: POST http://127.0.0.1:8080/embed \"HTTP/1.1 200 OK\"\n",
      "HTTP Request: POST http://127.0.0.1:8080/embed \"HTTP/1.1 200 OK\"\n",
      "HTTP Request: POST http://127.0.0.1:8080/embed \"HTTP/1.1 200 OK\"\n"
     ]
    },
    {
     "name": "stderr",
     "output_type": "stream",
     "text": [
      "\r",
      "Generating embeddings:  20%|███████████████████████████████████▉                                                                                                                                             | 390/1924 [02:32<09:44,  2.62it/s]"
     ]
    },
    {
     "name": "stdout",
     "output_type": "stream",
     "text": [
      "INFO:httpx:HTTP Request: POST http://127.0.0.1:8080/embed \"HTTP/1.1 200 OK\"\n",
      "HTTP Request: POST http://127.0.0.1:8080/embed \"HTTP/1.1 200 OK\"\n",
      "HTTP Request: POST http://127.0.0.1:8080/embed \"HTTP/1.1 200 OK\"\n",
      "HTTP Request: POST http://127.0.0.1:8080/embed \"HTTP/1.1 200 OK\"\n"
     ]
    },
    {
     "name": "stderr",
     "output_type": "stream",
     "text": [
      "\r",
      "Generating embeddings:  21%|████████████████████████████████████▊                                                                                                                                            | 400/1924 [02:36<09:54,  2.56it/s]"
     ]
    },
    {
     "name": "stdout",
     "output_type": "stream",
     "text": [
      "INFO:httpx:HTTP Request: POST http://127.0.0.1:8080/embed \"HTTP/1.1 200 OK\"\n",
      "HTTP Request: POST http://127.0.0.1:8080/embed \"HTTP/1.1 200 OK\"\n",
      "HTTP Request: POST http://127.0.0.1:8080/embed \"HTTP/1.1 200 OK\"\n",
      "HTTP Request: POST http://127.0.0.1:8080/embed \"HTTP/1.1 200 OK\"\n"
     ]
    },
    {
     "name": "stderr",
     "output_type": "stream",
     "text": [
      "\r",
      "Generating embeddings:  21%|█████████████████████████████████████▋                                                                                                                                           | 410/1924 [02:40<09:40,  2.61it/s]"
     ]
    },
    {
     "name": "stdout",
     "output_type": "stream",
     "text": [
      "INFO:httpx:HTTP Request: POST http://127.0.0.1:8080/embed \"HTTP/1.1 200 OK\"\n",
      "HTTP Request: POST http://127.0.0.1:8080/embed \"HTTP/1.1 200 OK\"\n",
      "HTTP Request: POST http://127.0.0.1:8080/embed \"HTTP/1.1 200 OK\"\n",
      "HTTP Request: POST http://127.0.0.1:8080/embed \"HTTP/1.1 200 OK\"\n"
     ]
    },
    {
     "name": "stderr",
     "output_type": "stream",
     "text": [
      "\r",
      "Generating embeddings:  22%|██████████████████████████████████████▋                                                                                                                                          | 420/1924 [02:43<09:27,  2.65it/s]"
     ]
    },
    {
     "name": "stdout",
     "output_type": "stream",
     "text": [
      "INFO:httpx:HTTP Request: POST http://127.0.0.1:8080/embed \"HTTP/1.1 200 OK\"\n",
      "HTTP Request: POST http://127.0.0.1:8080/embed \"HTTP/1.1 200 OK\"\n",
      "HTTP Request: POST http://127.0.0.1:8080/embed \"HTTP/1.1 200 OK\"\n",
      "HTTP Request: POST http://127.0.0.1:8080/embed \"HTTP/1.1 200 OK\"\n"
     ]
    },
    {
     "name": "stderr",
     "output_type": "stream",
     "text": [
      "\r",
      "Generating embeddings:  22%|███████████████████████████████████████▌                                                                                                                                         | 430/1924 [02:47<09:15,  2.69it/s]"
     ]
    },
    {
     "name": "stdout",
     "output_type": "stream",
     "text": [
      "INFO:httpx:HTTP Request: POST http://127.0.0.1:8080/embed \"HTTP/1.1 200 OK\"\n",
      "HTTP Request: POST http://127.0.0.1:8080/embed \"HTTP/1.1 200 OK\"\n",
      "HTTP Request: POST http://127.0.0.1:8080/embed \"HTTP/1.1 200 OK\"\n",
      "HTTP Request: POST http://127.0.0.1:8080/embed \"HTTP/1.1 200 OK\"\n"
     ]
    },
    {
     "name": "stderr",
     "output_type": "stream",
     "text": [
      "\r",
      "Generating embeddings:  23%|████████████████████████████████████████▍                                                                                                                                        | 440/1924 [02:50<09:05,  2.72it/s]"
     ]
    },
    {
     "name": "stdout",
     "output_type": "stream",
     "text": [
      "INFO:httpx:HTTP Request: POST http://127.0.0.1:8080/embed \"HTTP/1.1 200 OK\"\n",
      "HTTP Request: POST http://127.0.0.1:8080/embed \"HTTP/1.1 200 OK\"\n",
      "HTTP Request: POST http://127.0.0.1:8080/embed \"HTTP/1.1 200 OK\"\n",
      "HTTP Request: POST http://127.0.0.1:8080/embed \"HTTP/1.1 200 OK\"\n"
     ]
    },
    {
     "name": "stderr",
     "output_type": "stream",
     "text": [
      "\r",
      "Generating embeddings:  23%|█████████████████████████████████████████▍                                                                                                                                       | 450/1924 [02:54<09:07,  2.69it/s]"
     ]
    },
    {
     "name": "stdout",
     "output_type": "stream",
     "text": [
      "INFO:httpx:HTTP Request: POST http://127.0.0.1:8080/embed \"HTTP/1.1 200 OK\"\n",
      "HTTP Request: POST http://127.0.0.1:8080/embed \"HTTP/1.1 200 OK\"\n",
      "HTTP Request: POST http://127.0.0.1:8080/embed \"HTTP/1.1 200 OK\"\n",
      "HTTP Request: POST http://127.0.0.1:8080/embed \"HTTP/1.1 200 OK\"\n"
     ]
    },
    {
     "name": "stderr",
     "output_type": "stream",
     "text": [
      "\r",
      "Generating embeddings:  24%|██████████████████████████████████████████▎                                                                                                                                      | 460/1924 [02:58<09:08,  2.67it/s]"
     ]
    },
    {
     "name": "stdout",
     "output_type": "stream",
     "text": [
      "INFO:httpx:HTTP Request: POST http://127.0.0.1:8080/embed \"HTTP/1.1 200 OK\"\n",
      "HTTP Request: POST http://127.0.0.1:8080/embed \"HTTP/1.1 200 OK\"\n",
      "HTTP Request: POST http://127.0.0.1:8080/embed \"HTTP/1.1 200 OK\"\n",
      "HTTP Request: POST http://127.0.0.1:8080/embed \"HTTP/1.1 200 OK\"\n"
     ]
    },
    {
     "name": "stderr",
     "output_type": "stream",
     "text": [
      "\r",
      "Generating embeddings:  24%|███████████████████████████████████████████▏                                                                                                                                     | 470/1924 [03:02<09:14,  2.62it/s]"
     ]
    },
    {
     "name": "stdout",
     "output_type": "stream",
     "text": [
      "INFO:httpx:HTTP Request: POST http://127.0.0.1:8080/embed \"HTTP/1.1 200 OK\"\n",
      "HTTP Request: POST http://127.0.0.1:8080/embed \"HTTP/1.1 200 OK\"\n",
      "HTTP Request: POST http://127.0.0.1:8080/embed \"HTTP/1.1 200 OK\"\n",
      "HTTP Request: POST http://127.0.0.1:8080/embed \"HTTP/1.1 200 OK\"\n"
     ]
    },
    {
     "name": "stderr",
     "output_type": "stream",
     "text": [
      "\r",
      "Generating embeddings:  25%|████████████████████████████████████████████▏                                                                                                                                    | 480/1924 [03:06<09:07,  2.64it/s]"
     ]
    },
    {
     "name": "stdout",
     "output_type": "stream",
     "text": [
      "INFO:httpx:HTTP Request: POST http://127.0.0.1:8080/embed \"HTTP/1.1 200 OK\"\n",
      "HTTP Request: POST http://127.0.0.1:8080/embed \"HTTP/1.1 200 OK\"\n",
      "HTTP Request: POST http://127.0.0.1:8080/embed \"HTTP/1.1 200 OK\"\n",
      "HTTP Request: POST http://127.0.0.1:8080/embed \"HTTP/1.1 200 OK\"\n"
     ]
    },
    {
     "name": "stderr",
     "output_type": "stream",
     "text": [
      "\r",
      "Generating embeddings:  25%|█████████████████████████████████████████████                                                                                                                                    | 490/1924 [03:10<09:04,  2.63it/s]"
     ]
    },
    {
     "name": "stdout",
     "output_type": "stream",
     "text": [
      "INFO:httpx:HTTP Request: POST http://127.0.0.1:8080/embed \"HTTP/1.1 200 OK\"\n",
      "HTTP Request: POST http://127.0.0.1:8080/embed \"HTTP/1.1 200 OK\"\n",
      "HTTP Request: POST http://127.0.0.1:8080/embed \"HTTP/1.1 200 OK\"\n",
      "HTTP Request: POST http://127.0.0.1:8080/embed \"HTTP/1.1 200 OK\"\n"
     ]
    },
    {
     "name": "stderr",
     "output_type": "stream",
     "text": [
      "\r",
      "Generating embeddings:  26%|█████████████████████████████████████████████▉                                                                                                                                   | 500/1924 [03:13<08:52,  2.67it/s]"
     ]
    },
    {
     "name": "stdout",
     "output_type": "stream",
     "text": [
      "INFO:httpx:HTTP Request: POST http://127.0.0.1:8080/embed \"HTTP/1.1 200 OK\"\n",
      "HTTP Request: POST http://127.0.0.1:8080/embed \"HTTP/1.1 200 OK\"\n",
      "HTTP Request: POST http://127.0.0.1:8080/embed \"HTTP/1.1 200 OK\"\n",
      "HTTP Request: POST http://127.0.0.1:8080/embed \"HTTP/1.1 200 OK\"\n"
     ]
    },
    {
     "name": "stderr",
     "output_type": "stream",
     "text": [
      "\r",
      "Generating embeddings:  27%|██████████████████████████████████████████████▉                                                                                                                                  | 510/1924 [03:17<08:58,  2.62it/s]"
     ]
    },
    {
     "name": "stdout",
     "output_type": "stream",
     "text": [
      "INFO:httpx:HTTP Request: POST http://127.0.0.1:8080/embed \"HTTP/1.1 200 OK\"\n",
      "HTTP Request: POST http://127.0.0.1:8080/embed \"HTTP/1.1 200 OK\"\n",
      "HTTP Request: POST http://127.0.0.1:8080/embed \"HTTP/1.1 200 OK\"\n",
      "HTTP Request: POST http://127.0.0.1:8080/embed \"HTTP/1.1 200 OK\"\n"
     ]
    },
    {
     "name": "stderr",
     "output_type": "stream",
     "text": [
      "\r",
      "Generating embeddings:  27%|███████████████████████████████████████████████▊                                                                                                                                 | 520/1924 [03:22<09:30,  2.46it/s]"
     ]
    },
    {
     "name": "stdout",
     "output_type": "stream",
     "text": [
      "INFO:httpx:HTTP Request: POST http://127.0.0.1:8080/embed \"HTTP/1.1 200 OK\"\n",
      "HTTP Request: POST http://127.0.0.1:8080/embed \"HTTP/1.1 200 OK\"\n",
      "HTTP Request: POST http://127.0.0.1:8080/embed \"HTTP/1.1 200 OK\"\n",
      "HTTP Request: POST http://127.0.0.1:8080/embed \"HTTP/1.1 200 OK\"\n"
     ]
    },
    {
     "name": "stderr",
     "output_type": "stream",
     "text": [
      "\r",
      "Generating embeddings:  28%|████████████████████████████████████████████████▊                                                                                                                                | 530/1924 [03:26<09:16,  2.50it/s]"
     ]
    },
    {
     "name": "stdout",
     "output_type": "stream",
     "text": [
      "INFO:httpx:HTTP Request: POST http://127.0.0.1:8080/embed \"HTTP/1.1 200 OK\"\n",
      "HTTP Request: POST http://127.0.0.1:8080/embed \"HTTP/1.1 200 OK\"\n",
      "HTTP Request: POST http://127.0.0.1:8080/embed \"HTTP/1.1 200 OK\"\n",
      "HTTP Request: POST http://127.0.0.1:8080/embed \"HTTP/1.1 200 OK\"\n"
     ]
    },
    {
     "name": "stderr",
     "output_type": "stream",
     "text": [
      "\r",
      "Generating embeddings:  28%|█████████████████████████████████████████████████▋                                                                                                                               | 540/1924 [03:30<09:10,  2.51it/s]"
     ]
    },
    {
     "name": "stdout",
     "output_type": "stream",
     "text": [
      "INFO:httpx:HTTP Request: POST http://127.0.0.1:8080/embed \"HTTP/1.1 200 OK\"\n",
      "HTTP Request: POST http://127.0.0.1:8080/embed \"HTTP/1.1 200 OK\"\n",
      "HTTP Request: POST http://127.0.0.1:8080/embed \"HTTP/1.1 200 OK\"\n",
      "HTTP Request: POST http://127.0.0.1:8080/embed \"HTTP/1.1 200 OK\"\n"
     ]
    },
    {
     "name": "stderr",
     "output_type": "stream",
     "text": [
      "\r",
      "Generating embeddings:  29%|██████████████████████████████████████████████████▌                                                                                                                              | 550/1924 [03:33<08:56,  2.56it/s]"
     ]
    },
    {
     "name": "stdout",
     "output_type": "stream",
     "text": [
      "INFO:httpx:HTTP Request: POST http://127.0.0.1:8080/embed \"HTTP/1.1 200 OK\"\n",
      "HTTP Request: POST http://127.0.0.1:8080/embed \"HTTP/1.1 200 OK\"\n",
      "HTTP Request: POST http://127.0.0.1:8080/embed \"HTTP/1.1 200 OK\"\n",
      "HTTP Request: POST http://127.0.0.1:8080/embed \"HTTP/1.1 200 OK\"\n"
     ]
    },
    {
     "name": "stderr",
     "output_type": "stream",
     "text": [
      "\r",
      "Generating embeddings:  29%|███████████████████████████████████████████████████▌                                                                                                                             | 560/1924 [03:37<08:52,  2.56it/s]"
     ]
    },
    {
     "name": "stdout",
     "output_type": "stream",
     "text": [
      "INFO:httpx:HTTP Request: POST http://127.0.0.1:8080/embed \"HTTP/1.1 200 OK\"\n",
      "HTTP Request: POST http://127.0.0.1:8080/embed \"HTTP/1.1 200 OK\"\n",
      "HTTP Request: POST http://127.0.0.1:8080/embed \"HTTP/1.1 200 OK\"\n",
      "HTTP Request: POST http://127.0.0.1:8080/embed \"HTTP/1.1 200 OK\"\n"
     ]
    },
    {
     "name": "stderr",
     "output_type": "stream",
     "text": [
      "\r",
      "Generating embeddings:  30%|████████████████████████████████████████████████████▍                                                                                                                            | 570/1924 [03:41<08:39,  2.60it/s]"
     ]
    },
    {
     "name": "stdout",
     "output_type": "stream",
     "text": [
      "INFO:httpx:HTTP Request: POST http://127.0.0.1:8080/embed \"HTTP/1.1 200 OK\"\n",
      "HTTP Request: POST http://127.0.0.1:8080/embed \"HTTP/1.1 200 OK\"\n",
      "HTTP Request: POST http://127.0.0.1:8080/embed \"HTTP/1.1 200 OK\"\n",
      "HTTP Request: POST http://127.0.0.1:8080/embed \"HTTP/1.1 200 OK\"\n"
     ]
    },
    {
     "name": "stderr",
     "output_type": "stream",
     "text": [
      "\r",
      "Generating embeddings:  30%|█████████████████████████████████████████████████████▎                                                                                                                           | 580/1924 [03:45<08:39,  2.58it/s]"
     ]
    },
    {
     "name": "stdout",
     "output_type": "stream",
     "text": [
      "INFO:httpx:HTTP Request: POST http://127.0.0.1:8080/embed \"HTTP/1.1 200 OK\"\n",
      "HTTP Request: POST http://127.0.0.1:8080/embed \"HTTP/1.1 200 OK\"\n",
      "HTTP Request: POST http://127.0.0.1:8080/embed \"HTTP/1.1 200 OK\"\n",
      "HTTP Request: POST http://127.0.0.1:8080/embed \"HTTP/1.1 200 OK\"\n"
     ]
    },
    {
     "name": "stderr",
     "output_type": "stream",
     "text": [
      "\r",
      "Generating embeddings:  31%|██████████████████████████████████████████████████████▎                                                                                                                          | 590/1924 [03:48<08:23,  2.65it/s]"
     ]
    },
    {
     "name": "stdout",
     "output_type": "stream",
     "text": [
      "INFO:httpx:HTTP Request: POST http://127.0.0.1:8080/embed \"HTTP/1.1 200 OK\"\n",
      "HTTP Request: POST http://127.0.0.1:8080/embed \"HTTP/1.1 200 OK\"\n",
      "HTTP Request: POST http://127.0.0.1:8080/embed \"HTTP/1.1 200 OK\"\n",
      "HTTP Request: POST http://127.0.0.1:8080/embed \"HTTP/1.1 200 OK\"\n"
     ]
    },
    {
     "name": "stderr",
     "output_type": "stream",
     "text": [
      "\r",
      "Generating embeddings:  31%|███████████████████████████████████████████████████████▏                                                                                                                         | 600/1924 [03:52<08:13,  2.68it/s]"
     ]
    },
    {
     "name": "stdout",
     "output_type": "stream",
     "text": [
      "INFO:httpx:HTTP Request: POST http://127.0.0.1:8080/embed \"HTTP/1.1 200 OK\"\n",
      "HTTP Request: POST http://127.0.0.1:8080/embed \"HTTP/1.1 200 OK\"\n",
      "HTTP Request: POST http://127.0.0.1:8080/embed \"HTTP/1.1 200 OK\"\n",
      "HTTP Request: POST http://127.0.0.1:8080/embed \"HTTP/1.1 200 OK\"\n"
     ]
    },
    {
     "name": "stderr",
     "output_type": "stream",
     "text": [
      "\r",
      "Generating embeddings:  32%|████████████████████████████████████████████████████████                                                                                                                         | 610/1924 [03:56<08:14,  2.66it/s]"
     ]
    },
    {
     "name": "stdout",
     "output_type": "stream",
     "text": [
      "INFO:httpx:HTTP Request: POST http://127.0.0.1:8080/embed \"HTTP/1.1 200 OK\"\n",
      "HTTP Request: POST http://127.0.0.1:8080/embed \"HTTP/1.1 200 OK\"\n",
      "HTTP Request: POST http://127.0.0.1:8080/embed \"HTTP/1.1 200 OK\"\n",
      "HTTP Request: POST http://127.0.0.1:8080/embed \"HTTP/1.1 200 OK\"\n"
     ]
    },
    {
     "name": "stderr",
     "output_type": "stream",
     "text": [
      "\r",
      "Generating embeddings:  32%|█████████████████████████████████████████████████████████                                                                                                                        | 620/1924 [04:00<08:21,  2.60it/s]"
     ]
    },
    {
     "name": "stdout",
     "output_type": "stream",
     "text": [
      "INFO:httpx:HTTP Request: POST http://127.0.0.1:8080/embed \"HTTP/1.1 200 OK\"\n",
      "HTTP Request: POST http://127.0.0.1:8080/embed \"HTTP/1.1 200 OK\"\n",
      "HTTP Request: POST http://127.0.0.1:8080/embed \"HTTP/1.1 200 OK\"\n",
      "HTTP Request: POST http://127.0.0.1:8080/embed \"HTTP/1.1 200 OK\"\n"
     ]
    },
    {
     "name": "stderr",
     "output_type": "stream",
     "text": [
      "\r",
      "Generating embeddings:  33%|█████████████████████████████████████████████████████████▉                                                                                                                       | 630/1924 [04:04<08:21,  2.58it/s]"
     ]
    },
    {
     "name": "stdout",
     "output_type": "stream",
     "text": [
      "INFO:httpx:HTTP Request: POST http://127.0.0.1:8080/embed \"HTTP/1.1 200 OK\"\n",
      "HTTP Request: POST http://127.0.0.1:8080/embed \"HTTP/1.1 200 OK\"\n",
      "HTTP Request: POST http://127.0.0.1:8080/embed \"HTTP/1.1 200 OK\"\n",
      "HTTP Request: POST http://127.0.0.1:8080/embed \"HTTP/1.1 200 OK\"\n"
     ]
    },
    {
     "name": "stderr",
     "output_type": "stream",
     "text": [
      "\r",
      "Generating embeddings:  33%|██████████████████████████████████████████████████████████▉                                                                                                                      | 640/1924 [04:08<08:14,  2.60it/s]"
     ]
    },
    {
     "name": "stdout",
     "output_type": "stream",
     "text": [
      "INFO:httpx:HTTP Request: POST http://127.0.0.1:8080/embed \"HTTP/1.1 200 OK\"\n",
      "HTTP Request: POST http://127.0.0.1:8080/embed \"HTTP/1.1 200 OK\"\n",
      "HTTP Request: POST http://127.0.0.1:8080/embed \"HTTP/1.1 200 OK\"\n",
      "HTTP Request: POST http://127.0.0.1:8080/embed \"HTTP/1.1 200 OK\"\n"
     ]
    },
    {
     "name": "stderr",
     "output_type": "stream",
     "text": [
      "\r",
      "Generating embeddings:  34%|███████████████████████████████████████████████████████████▊                                                                                                                     | 650/1924 [04:11<08:04,  2.63it/s]"
     ]
    },
    {
     "name": "stdout",
     "output_type": "stream",
     "text": [
      "INFO:httpx:HTTP Request: POST http://127.0.0.1:8080/embed \"HTTP/1.1 200 OK\"\n",
      "HTTP Request: POST http://127.0.0.1:8080/embed \"HTTP/1.1 200 OK\"\n",
      "HTTP Request: POST http://127.0.0.1:8080/embed \"HTTP/1.1 200 OK\"\n",
      "HTTP Request: POST http://127.0.0.1:8080/embed \"HTTP/1.1 200 OK\"\n"
     ]
    },
    {
     "name": "stderr",
     "output_type": "stream",
     "text": [
      "\r",
      "Generating embeddings:  34%|████████████████████████████████████████████████████████████▋                                                                                                                    | 660/1924 [04:15<07:52,  2.67it/s]"
     ]
    },
    {
     "name": "stdout",
     "output_type": "stream",
     "text": [
      "INFO:httpx:HTTP Request: POST http://127.0.0.1:8080/embed \"HTTP/1.1 200 OK\"\n",
      "HTTP Request: POST http://127.0.0.1:8080/embed \"HTTP/1.1 200 OK\"\n",
      "HTTP Request: POST http://127.0.0.1:8080/embed \"HTTP/1.1 200 OK\"\n",
      "HTTP Request: POST http://127.0.0.1:8080/embed \"HTTP/1.1 200 OK\"\n"
     ]
    },
    {
     "name": "stderr",
     "output_type": "stream",
     "text": [
      "\r",
      "Generating embeddings:  35%|█████████████████████████████████████████████████████████████▋                                                                                                                   | 670/1924 [04:19<07:51,  2.66it/s]"
     ]
    },
    {
     "name": "stdout",
     "output_type": "stream",
     "text": [
      "INFO:httpx:HTTP Request: POST http://127.0.0.1:8080/embed \"HTTP/1.1 200 OK\"\n",
      "HTTP Request: POST http://127.0.0.1:8080/embed \"HTTP/1.1 200 OK\"\n",
      "HTTP Request: POST http://127.0.0.1:8080/embed \"HTTP/1.1 200 OK\"\n",
      "HTTP Request: POST http://127.0.0.1:8080/embed \"HTTP/1.1 200 OK\"\n"
     ]
    },
    {
     "name": "stderr",
     "output_type": "stream",
     "text": [
      "\r",
      "Generating embeddings:  35%|██████████████████████████████████████████████████████████████▌                                                                                                                  | 680/1924 [04:23<07:49,  2.65it/s]"
     ]
    },
    {
     "name": "stdout",
     "output_type": "stream",
     "text": [
      "INFO:httpx:HTTP Request: POST http://127.0.0.1:8080/embed \"HTTP/1.1 200 OK\"\n",
      "HTTP Request: POST http://127.0.0.1:8080/embed \"HTTP/1.1 200 OK\"\n",
      "HTTP Request: POST http://127.0.0.1:8080/embed \"HTTP/1.1 200 OK\"\n",
      "HTTP Request: POST http://127.0.0.1:8080/embed \"HTTP/1.1 200 OK\"\n"
     ]
    },
    {
     "name": "stderr",
     "output_type": "stream",
     "text": [
      "\r",
      "Generating embeddings:  36%|███████████████████████████████████████████████████████████████▍                                                                                                                 | 690/1924 [04:26<07:48,  2.64it/s]"
     ]
    },
    {
     "name": "stdout",
     "output_type": "stream",
     "text": [
      "INFO:httpx:HTTP Request: POST http://127.0.0.1:8080/embed \"HTTP/1.1 200 OK\"\n",
      "HTTP Request: POST http://127.0.0.1:8080/embed \"HTTP/1.1 200 OK\"\n",
      "HTTP Request: POST http://127.0.0.1:8080/embed \"HTTP/1.1 200 OK\"\n",
      "HTTP Request: POST http://127.0.0.1:8080/embed \"HTTP/1.1 200 OK\"\n"
     ]
    },
    {
     "name": "stderr",
     "output_type": "stream",
     "text": [
      "\r",
      "Generating embeddings:  36%|████████████████████████████████████████████████████████████████▍                                                                                                                | 700/1924 [04:30<07:42,  2.65it/s]"
     ]
    },
    {
     "name": "stdout",
     "output_type": "stream",
     "text": [
      "INFO:httpx:HTTP Request: POST http://127.0.0.1:8080/embed \"HTTP/1.1 200 OK\"\n",
      "HTTP Request: POST http://127.0.0.1:8080/embed \"HTTP/1.1 200 OK\"\n",
      "HTTP Request: POST http://127.0.0.1:8080/embed \"HTTP/1.1 200 OK\"\n",
      "HTTP Request: POST http://127.0.0.1:8080/embed \"HTTP/1.1 200 OK\"\n"
     ]
    },
    {
     "name": "stderr",
     "output_type": "stream",
     "text": [
      "\r",
      "Generating embeddings:  37%|█████████████████████████████████████████████████████████████████▎                                                                                                               | 710/1924 [04:34<07:43,  2.62it/s]"
     ]
    },
    {
     "name": "stdout",
     "output_type": "stream",
     "text": [
      "INFO:httpx:HTTP Request: POST http://127.0.0.1:8080/embed \"HTTP/1.1 200 OK\"\n",
      "HTTP Request: POST http://127.0.0.1:8080/embed \"HTTP/1.1 200 OK\"\n",
      "HTTP Request: POST http://127.0.0.1:8080/embed \"HTTP/1.1 200 OK\"\n",
      "HTTP Request: POST http://127.0.0.1:8080/embed \"HTTP/1.1 200 OK\"\n"
     ]
    },
    {
     "name": "stderr",
     "output_type": "stream",
     "text": [
      "\r",
      "Generating embeddings:  37%|██████████████████████████████████████████████████████████████████▏                                                                                                              | 720/1924 [04:38<07:39,  2.62it/s]"
     ]
    },
    {
     "name": "stdout",
     "output_type": "stream",
     "text": [
      "INFO:httpx:HTTP Request: POST http://127.0.0.1:8080/embed \"HTTP/1.1 200 OK\"\n",
      "HTTP Request: POST http://127.0.0.1:8080/embed \"HTTP/1.1 200 OK\"\n",
      "HTTP Request: POST http://127.0.0.1:8080/embed \"HTTP/1.1 200 OK\"\n",
      "HTTP Request: POST http://127.0.0.1:8080/embed \"HTTP/1.1 200 OK\"\n"
     ]
    },
    {
     "name": "stderr",
     "output_type": "stream",
     "text": [
      "\r",
      "Generating embeddings:  38%|███████████████████████████████████████████████████████████████████▏                                                                                                             | 730/1924 [04:41<07:26,  2.67it/s]"
     ]
    },
    {
     "name": "stdout",
     "output_type": "stream",
     "text": [
      "INFO:httpx:HTTP Request: POST http://127.0.0.1:8080/embed \"HTTP/1.1 200 OK\"\n",
      "HTTP Request: POST http://127.0.0.1:8080/embed \"HTTP/1.1 200 OK\"\n",
      "HTTP Request: POST http://127.0.0.1:8080/embed \"HTTP/1.1 200 OK\"\n",
      "HTTP Request: POST http://127.0.0.1:8080/embed \"HTTP/1.1 200 OK\"\n"
     ]
    },
    {
     "name": "stderr",
     "output_type": "stream",
     "text": [
      "\r",
      "Generating embeddings:  38%|████████████████████████████████████████████████████████████████████                                                                                                             | 740/1924 [04:45<07:23,  2.67it/s]"
     ]
    },
    {
     "name": "stdout",
     "output_type": "stream",
     "text": [
      "INFO:httpx:HTTP Request: POST http://127.0.0.1:8080/embed \"HTTP/1.1 200 OK\"\n",
      "HTTP Request: POST http://127.0.0.1:8080/embed \"HTTP/1.1 200 OK\"\n",
      "HTTP Request: POST http://127.0.0.1:8080/embed \"HTTP/1.1 200 OK\"\n",
      "HTTP Request: POST http://127.0.0.1:8080/embed \"HTTP/1.1 200 OK\"\n"
     ]
    },
    {
     "name": "stderr",
     "output_type": "stream",
     "text": [
      "\r",
      "Generating embeddings:  39%|████████████████████████████████████████████████████████████████████▉                                                                                                            | 750/1924 [04:49<07:23,  2.65it/s]"
     ]
    },
    {
     "name": "stdout",
     "output_type": "stream",
     "text": [
      "INFO:httpx:HTTP Request: POST http://127.0.0.1:8080/embed \"HTTP/1.1 200 OK\"\n",
      "HTTP Request: POST http://127.0.0.1:8080/embed \"HTTP/1.1 200 OK\"\n",
      "HTTP Request: POST http://127.0.0.1:8080/embed \"HTTP/1.1 200 OK\"\n",
      "HTTP Request: POST http://127.0.0.1:8080/embed \"HTTP/1.1 200 OK\"\n"
     ]
    },
    {
     "name": "stderr",
     "output_type": "stream",
     "text": [
      "\r",
      "Generating embeddings:  40%|█████████████████████████████████████████████████████████████████████▉                                                                                                           | 760/1924 [04:53<07:29,  2.59it/s]"
     ]
    },
    {
     "name": "stdout",
     "output_type": "stream",
     "text": [
      "INFO:httpx:HTTP Request: POST http://127.0.0.1:8080/embed \"HTTP/1.1 200 OK\"\n",
      "HTTP Request: POST http://127.0.0.1:8080/embed \"HTTP/1.1 200 OK\"\n",
      "HTTP Request: POST http://127.0.0.1:8080/embed \"HTTP/1.1 200 OK\"\n",
      "HTTP Request: POST http://127.0.0.1:8080/embed \"HTTP/1.1 200 OK\"\n"
     ]
    },
    {
     "name": "stderr",
     "output_type": "stream",
     "text": [
      "\r",
      "Generating embeddings:  40%|██████████████████████████████████████████████████████████████████████▊                                                                                                          | 770/1924 [04:57<07:16,  2.64it/s]"
     ]
    },
    {
     "name": "stdout",
     "output_type": "stream",
     "text": [
      "INFO:httpx:HTTP Request: POST http://127.0.0.1:8080/embed \"HTTP/1.1 200 OK\"\n",
      "HTTP Request: POST http://127.0.0.1:8080/embed \"HTTP/1.1 200 OK\"\n",
      "HTTP Request: POST http://127.0.0.1:8080/embed \"HTTP/1.1 200 OK\"\n",
      "HTTP Request: POST http://127.0.0.1:8080/embed \"HTTP/1.1 200 OK\"\n"
     ]
    },
    {
     "name": "stderr",
     "output_type": "stream",
     "text": [
      "\r",
      "Generating embeddings:  41%|███████████████████████████████████████████████████████████████████████▊                                                                                                         | 780/1924 [05:00<07:05,  2.69it/s]"
     ]
    },
    {
     "name": "stdout",
     "output_type": "stream",
     "text": [
      "INFO:httpx:HTTP Request: POST http://127.0.0.1:8080/embed \"HTTP/1.1 200 OK\"\n",
      "HTTP Request: POST http://127.0.0.1:8080/embed \"HTTP/1.1 200 OK\"\n",
      "HTTP Request: POST http://127.0.0.1:8080/embed \"HTTP/1.1 200 OK\"\n",
      "HTTP Request: POST http://127.0.0.1:8080/embed \"HTTP/1.1 200 OK\"\n"
     ]
    },
    {
     "name": "stderr",
     "output_type": "stream",
     "text": [
      "\r",
      "Generating embeddings:  41%|████████████████████████████████████████████████████████████████████████▋                                                                                                        | 790/1924 [05:04<07:04,  2.67it/s]"
     ]
    },
    {
     "name": "stdout",
     "output_type": "stream",
     "text": [
      "INFO:httpx:HTTP Request: POST http://127.0.0.1:8080/embed \"HTTP/1.1 200 OK\"\n",
      "HTTP Request: POST http://127.0.0.1:8080/embed \"HTTP/1.1 200 OK\"\n",
      "HTTP Request: POST http://127.0.0.1:8080/embed \"HTTP/1.1 200 OK\"\n",
      "HTTP Request: POST http://127.0.0.1:8080/embed \"HTTP/1.1 200 OK\"\n"
     ]
    },
    {
     "name": "stderr",
     "output_type": "stream",
     "text": [
      "\r",
      "Generating embeddings:  42%|█████████████████████████████████████████████████████████████████████████▌                                                                                                       | 800/1924 [05:08<07:02,  2.66it/s]"
     ]
    },
    {
     "name": "stdout",
     "output_type": "stream",
     "text": [
      "INFO:httpx:HTTP Request: POST http://127.0.0.1:8080/embed \"HTTP/1.1 200 OK\"\n",
      "HTTP Request: POST http://127.0.0.1:8080/embed \"HTTP/1.1 200 OK\"\n",
      "HTTP Request: POST http://127.0.0.1:8080/embed \"HTTP/1.1 200 OK\"\n",
      "HTTP Request: POST http://127.0.0.1:8080/embed \"HTTP/1.1 200 OK\"\n"
     ]
    },
    {
     "name": "stderr",
     "output_type": "stream",
     "text": [
      "\r",
      "Generating embeddings:  42%|██████████████████████████████████████████████████████████████████████████▌                                                                                                      | 810/1924 [05:12<06:57,  2.67it/s]"
     ]
    },
    {
     "name": "stdout",
     "output_type": "stream",
     "text": [
      "INFO:httpx:HTTP Request: POST http://127.0.0.1:8080/embed \"HTTP/1.1 200 OK\"\n",
      "HTTP Request: POST http://127.0.0.1:8080/embed \"HTTP/1.1 200 OK\"\n",
      "HTTP Request: POST http://127.0.0.1:8080/embed \"HTTP/1.1 200 OK\"\n",
      "HTTP Request: POST http://127.0.0.1:8080/embed \"HTTP/1.1 200 OK\"\n"
     ]
    },
    {
     "name": "stderr",
     "output_type": "stream",
     "text": [
      "\r",
      "Generating embeddings:  43%|███████████████████████████████████████████████████████████████████████████▍                                                                                                     | 820/1924 [05:15<06:47,  2.71it/s]"
     ]
    },
    {
     "name": "stdout",
     "output_type": "stream",
     "text": [
      "INFO:httpx:HTTP Request: POST http://127.0.0.1:8080/embed \"HTTP/1.1 200 OK\"\n",
      "HTTP Request: POST http://127.0.0.1:8080/embed \"HTTP/1.1 200 OK\"\n",
      "HTTP Request: POST http://127.0.0.1:8080/embed \"HTTP/1.1 200 OK\"\n",
      "HTTP Request: POST http://127.0.0.1:8080/embed \"HTTP/1.1 200 OK\"\n"
     ]
    },
    {
     "name": "stderr",
     "output_type": "stream",
     "text": [
      "\r",
      "Generating embeddings:  43%|████████████████████████████████████████████████████████████████████████████▎                                                                                                    | 830/1924 [05:19<06:37,  2.75it/s]"
     ]
    },
    {
     "name": "stdout",
     "output_type": "stream",
     "text": [
      "INFO:httpx:HTTP Request: POST http://127.0.0.1:8080/embed \"HTTP/1.1 200 OK\"\n",
      "HTTP Request: POST http://127.0.0.1:8080/embed \"HTTP/1.1 200 OK\"\n",
      "HTTP Request: POST http://127.0.0.1:8080/embed \"HTTP/1.1 200 OK\"\n",
      "HTTP Request: POST http://127.0.0.1:8080/embed \"HTTP/1.1 200 OK\"\n"
     ]
    },
    {
     "name": "stderr",
     "output_type": "stream",
     "text": [
      "\r",
      "Generating embeddings:  44%|█████████████████████████████████████████████████████████████████████████████▎                                                                                                   | 840/1924 [05:22<06:39,  2.71it/s]"
     ]
    },
    {
     "name": "stdout",
     "output_type": "stream",
     "text": [
      "INFO:httpx:HTTP Request: POST http://127.0.0.1:8080/embed \"HTTP/1.1 200 OK\"\n",
      "HTTP Request: POST http://127.0.0.1:8080/embed \"HTTP/1.1 200 OK\"\n",
      "HTTP Request: POST http://127.0.0.1:8080/embed \"HTTP/1.1 200 OK\"\n",
      "HTTP Request: POST http://127.0.0.1:8080/embed \"HTTP/1.1 200 OK\"\n"
     ]
    },
    {
     "name": "stderr",
     "output_type": "stream",
     "text": [
      "\r",
      "Generating embeddings:  44%|██████████████████████████████████████████████████████████████████████████████▏                                                                                                  | 850/1924 [05:26<06:43,  2.66it/s]"
     ]
    },
    {
     "name": "stdout",
     "output_type": "stream",
     "text": [
      "INFO:httpx:HTTP Request: POST http://127.0.0.1:8080/embed \"HTTP/1.1 200 OK\"\n",
      "HTTP Request: POST http://127.0.0.1:8080/embed \"HTTP/1.1 200 OK\"\n",
      "HTTP Request: POST http://127.0.0.1:8080/embed \"HTTP/1.1 200 OK\"\n",
      "HTTP Request: POST http://127.0.0.1:8080/embed \"HTTP/1.1 200 OK\"\n"
     ]
    },
    {
     "name": "stderr",
     "output_type": "stream",
     "text": [
      "\r",
      "Generating embeddings:  45%|███████████████████████████████████████████████████████████████████████████████                                                                                                  | 860/1924 [05:30<06:46,  2.62it/s]"
     ]
    },
    {
     "name": "stdout",
     "output_type": "stream",
     "text": [
      "INFO:httpx:HTTP Request: POST http://127.0.0.1:8080/embed \"HTTP/1.1 200 OK\"\n",
      "HTTP Request: POST http://127.0.0.1:8080/embed \"HTTP/1.1 200 OK\"\n",
      "HTTP Request: POST http://127.0.0.1:8080/embed \"HTTP/1.1 200 OK\"\n",
      "HTTP Request: POST http://127.0.0.1:8080/embed \"HTTP/1.1 200 OK\"\n"
     ]
    },
    {
     "name": "stderr",
     "output_type": "stream",
     "text": [
      "\r",
      "Generating embeddings:  45%|████████████████████████████████████████████████████████████████████████████████                                                                                                 | 870/1924 [05:34<06:36,  2.66it/s]"
     ]
    },
    {
     "name": "stdout",
     "output_type": "stream",
     "text": [
      "INFO:httpx:HTTP Request: POST http://127.0.0.1:8080/embed \"HTTP/1.1 200 OK\"\n",
      "HTTP Request: POST http://127.0.0.1:8080/embed \"HTTP/1.1 200 OK\"\n",
      "HTTP Request: POST http://127.0.0.1:8080/embed \"HTTP/1.1 200 OK\"\n",
      "HTTP Request: POST http://127.0.0.1:8080/embed \"HTTP/1.1 200 OK\"\n"
     ]
    },
    {
     "name": "stderr",
     "output_type": "stream",
     "text": [
      "\r",
      "Generating embeddings:  46%|████████████████████████████████████████████████████████████████████████████████▉                                                                                                | 880/1924 [05:37<06:23,  2.72it/s]"
     ]
    },
    {
     "name": "stdout",
     "output_type": "stream",
     "text": [
      "INFO:httpx:HTTP Request: POST http://127.0.0.1:8080/embed \"HTTP/1.1 200 OK\"\n",
      "HTTP Request: POST http://127.0.0.1:8080/embed \"HTTP/1.1 200 OK\"\n",
      "HTTP Request: POST http://127.0.0.1:8080/embed \"HTTP/1.1 200 OK\"\n",
      "HTTP Request: POST http://127.0.0.1:8080/embed \"HTTP/1.1 200 OK\"\n"
     ]
    },
    {
     "name": "stderr",
     "output_type": "stream",
     "text": [
      "\r",
      "Generating embeddings:  46%|█████████████████████████████████████████████████████████████████████████████████▉                                                                                               | 890/1924 [05:41<06:28,  2.66it/s]"
     ]
    },
    {
     "name": "stdout",
     "output_type": "stream",
     "text": [
      "INFO:httpx:HTTP Request: POST http://127.0.0.1:8080/embed \"HTTP/1.1 200 OK\"\n",
      "HTTP Request: POST http://127.0.0.1:8080/embed \"HTTP/1.1 200 OK\"\n",
      "HTTP Request: POST http://127.0.0.1:8080/embed \"HTTP/1.1 200 OK\"\n",
      "HTTP Request: POST http://127.0.0.1:8080/embed \"HTTP/1.1 200 OK\"\n"
     ]
    },
    {
     "name": "stderr",
     "output_type": "stream",
     "text": [
      "\r",
      "Generating embeddings:  47%|██████████████████████████████████████████████████████████████████████████████████▊                                                                                              | 900/1924 [05:45<06:21,  2.68it/s]"
     ]
    },
    {
     "name": "stdout",
     "output_type": "stream",
     "text": [
      "INFO:httpx:HTTP Request: POST http://127.0.0.1:8080/embed \"HTTP/1.1 200 OK\"\n",
      "HTTP Request: POST http://127.0.0.1:8080/embed \"HTTP/1.1 200 OK\"\n",
      "HTTP Request: POST http://127.0.0.1:8080/embed \"HTTP/1.1 200 OK\"\n",
      "HTTP Request: POST http://127.0.0.1:8080/embed \"HTTP/1.1 200 OK\"\n"
     ]
    },
    {
     "name": "stderr",
     "output_type": "stream",
     "text": [
      "\r",
      "Generating embeddings:  47%|███████████████████████████████████████████████████████████████████████████████████▋                                                                                             | 910/1924 [05:49<06:17,  2.69it/s]"
     ]
    },
    {
     "name": "stdout",
     "output_type": "stream",
     "text": [
      "INFO:httpx:HTTP Request: POST http://127.0.0.1:8080/embed \"HTTP/1.1 200 OK\"\n",
      "HTTP Request: POST http://127.0.0.1:8080/embed \"HTTP/1.1 200 OK\"\n",
      "HTTP Request: POST http://127.0.0.1:8080/embed \"HTTP/1.1 200 OK\"\n",
      "HTTP Request: POST http://127.0.0.1:8080/embed \"HTTP/1.1 200 OK\"\n"
     ]
    },
    {
     "name": "stderr",
     "output_type": "stream",
     "text": [
      "\r",
      "Generating embeddings:  48%|████████████████████████████████████████████████████████████████████████████████████▋                                                                                            | 920/1924 [05:52<06:15,  2.67it/s]"
     ]
    },
    {
     "name": "stdout",
     "output_type": "stream",
     "text": [
      "INFO:httpx:HTTP Request: POST http://127.0.0.1:8080/embed \"HTTP/1.1 200 OK\"\n",
      "HTTP Request: POST http://127.0.0.1:8080/embed \"HTTP/1.1 200 OK\"\n",
      "HTTP Request: POST http://127.0.0.1:8080/embed \"HTTP/1.1 200 OK\"\n",
      "HTTP Request: POST http://127.0.0.1:8080/embed \"HTTP/1.1 200 OK\"\n"
     ]
    },
    {
     "name": "stderr",
     "output_type": "stream",
     "text": [
      "\r",
      "Generating embeddings:  48%|█████████████████████████████████████████████████████████████████████████████████████▌                                                                                           | 930/1924 [05:56<06:11,  2.67it/s]"
     ]
    },
    {
     "name": "stdout",
     "output_type": "stream",
     "text": [
      "INFO:httpx:HTTP Request: POST http://127.0.0.1:8080/embed \"HTTP/1.1 200 OK\"\n",
      "HTTP Request: POST http://127.0.0.1:8080/embed \"HTTP/1.1 200 OK\"\n",
      "HTTP Request: POST http://127.0.0.1:8080/embed \"HTTP/1.1 200 OK\"\n",
      "HTTP Request: POST http://127.0.0.1:8080/embed \"HTTP/1.1 200 OK\"\n"
     ]
    },
    {
     "name": "stderr",
     "output_type": "stream",
     "text": [
      "\r",
      "Generating embeddings:  49%|██████████████████████████████████████████████████████████████████████████████████████▍                                                                                          | 940/1924 [06:00<06:08,  2.67it/s]"
     ]
    },
    {
     "name": "stdout",
     "output_type": "stream",
     "text": [
      "INFO:httpx:HTTP Request: POST http://127.0.0.1:8080/embed \"HTTP/1.1 200 OK\"\n",
      "HTTP Request: POST http://127.0.0.1:8080/embed \"HTTP/1.1 200 OK\"\n",
      "HTTP Request: POST http://127.0.0.1:8080/embed \"HTTP/1.1 200 OK\"\n",
      "HTTP Request: POST http://127.0.0.1:8080/embed \"HTTP/1.1 200 OK\"\n"
     ]
    },
    {
     "name": "stderr",
     "output_type": "stream",
     "text": [
      "\r",
      "Generating embeddings:  49%|███████████████████████████████████████████████████████████████████████████████████████▍                                                                                         | 950/1924 [06:04<06:00,  2.70it/s]"
     ]
    },
    {
     "name": "stdout",
     "output_type": "stream",
     "text": [
      "INFO:httpx:HTTP Request: POST http://127.0.0.1:8080/embed \"HTTP/1.1 200 OK\"\n",
      "HTTP Request: POST http://127.0.0.1:8080/embed \"HTTP/1.1 200 OK\"\n",
      "HTTP Request: POST http://127.0.0.1:8080/embed \"HTTP/1.1 200 OK\"\n",
      "HTTP Request: POST http://127.0.0.1:8080/embed \"HTTP/1.1 200 OK\"\n"
     ]
    },
    {
     "name": "stderr",
     "output_type": "stream",
     "text": [
      "\r",
      "Generating embeddings:  50%|████████████████████████████████████████████████████████████████████████████████████████▎                                                                                        | 960/1924 [06:07<05:51,  2.74it/s]"
     ]
    },
    {
     "name": "stdout",
     "output_type": "stream",
     "text": [
      "INFO:httpx:HTTP Request: POST http://127.0.0.1:8080/embed \"HTTP/1.1 200 OK\"\n",
      "HTTP Request: POST http://127.0.0.1:8080/embed \"HTTP/1.1 200 OK\"\n",
      "HTTP Request: POST http://127.0.0.1:8080/embed \"HTTP/1.1 200 OK\"\n",
      "HTTP Request: POST http://127.0.0.1:8080/embed \"HTTP/1.1 200 OK\"\n"
     ]
    },
    {
     "name": "stderr",
     "output_type": "stream",
     "text": [
      "\r",
      "Generating embeddings:  50%|█████████████████████████████████████████████████████████████████████████████████████████▏                                                                                       | 970/1924 [06:11<05:51,  2.71it/s]"
     ]
    },
    {
     "name": "stdout",
     "output_type": "stream",
     "text": [
      "INFO:httpx:HTTP Request: POST http://127.0.0.1:8080/embed \"HTTP/1.1 200 OK\"\n",
      "HTTP Request: POST http://127.0.0.1:8080/embed \"HTTP/1.1 200 OK\"\n",
      "HTTP Request: POST http://127.0.0.1:8080/embed \"HTTP/1.1 200 OK\"\n",
      "HTTP Request: POST http://127.0.0.1:8080/embed \"HTTP/1.1 200 OK\"\n"
     ]
    },
    {
     "name": "stderr",
     "output_type": "stream",
     "text": [
      "\r",
      "Generating embeddings:  51%|██████████████████████████████████████████████████████████████████████████████████████████▏                                                                                      | 980/1924 [06:15<05:52,  2.68it/s]"
     ]
    },
    {
     "name": "stdout",
     "output_type": "stream",
     "text": [
      "INFO:httpx:HTTP Request: POST http://127.0.0.1:8080/embed \"HTTP/1.1 200 OK\"\n",
      "HTTP Request: POST http://127.0.0.1:8080/embed \"HTTP/1.1 200 OK\"\n",
      "HTTP Request: POST http://127.0.0.1:8080/embed \"HTTP/1.1 200 OK\"\n",
      "HTTP Request: POST http://127.0.0.1:8080/embed \"HTTP/1.1 200 OK\"\n"
     ]
    },
    {
     "name": "stderr",
     "output_type": "stream",
     "text": [
      "\r",
      "Generating embeddings:  51%|███████████████████████████████████████████████████████████████████████████████████████████                                                                                      | 990/1924 [06:19<05:52,  2.65it/s]"
     ]
    },
    {
     "name": "stdout",
     "output_type": "stream",
     "text": [
      "INFO:httpx:HTTP Request: POST http://127.0.0.1:8080/embed \"HTTP/1.1 200 OK\"\n",
      "HTTP Request: POST http://127.0.0.1:8080/embed \"HTTP/1.1 200 OK\"\n",
      "HTTP Request: POST http://127.0.0.1:8080/embed \"HTTP/1.1 200 OK\"\n",
      "HTTP Request: POST http://127.0.0.1:8080/embed \"HTTP/1.1 200 OK\"\n"
     ]
    },
    {
     "name": "stderr",
     "output_type": "stream",
     "text": [
      "\r",
      "Generating embeddings:  52%|███████████████████████████████████████████████████████████████████████████████████████████▍                                                                                    | 1000/1924 [06:23<05:58,  2.57it/s]"
     ]
    },
    {
     "name": "stdout",
     "output_type": "stream",
     "text": [
      "INFO:httpx:HTTP Request: POST http://127.0.0.1:8080/embed \"HTTP/1.1 200 OK\"\n",
      "HTTP Request: POST http://127.0.0.1:8080/embed \"HTTP/1.1 200 OK\"\n",
      "HTTP Request: POST http://127.0.0.1:8080/embed \"HTTP/1.1 200 OK\"\n",
      "HTTP Request: POST http://127.0.0.1:8080/embed \"HTTP/1.1 200 OK\"\n"
     ]
    },
    {
     "name": "stderr",
     "output_type": "stream",
     "text": [
      "\r",
      "Generating embeddings:  52%|████████████████████████████████████████████████████████████████████████████████████████████▍                                                                                   | 1010/1924 [06:26<05:45,  2.64it/s]"
     ]
    },
    {
     "name": "stdout",
     "output_type": "stream",
     "text": [
      "INFO:httpx:HTTP Request: POST http://127.0.0.1:8080/embed \"HTTP/1.1 200 OK\"\n",
      "HTTP Request: POST http://127.0.0.1:8080/embed \"HTTP/1.1 200 OK\"\n",
      "HTTP Request: POST http://127.0.0.1:8080/embed \"HTTP/1.1 200 OK\"\n",
      "HTTP Request: POST http://127.0.0.1:8080/embed \"HTTP/1.1 200 OK\"\n"
     ]
    },
    {
     "name": "stderr",
     "output_type": "stream",
     "text": [
      "\r",
      "Generating embeddings:  53%|█████████████████████████████████████████████████████████████████████████████████████████████▎                                                                                  | 1020/1924 [06:30<05:39,  2.66it/s]"
     ]
    },
    {
     "name": "stdout",
     "output_type": "stream",
     "text": [
      "INFO:httpx:HTTP Request: POST http://127.0.0.1:8080/embed \"HTTP/1.1 200 OK\"\n",
      "HTTP Request: POST http://127.0.0.1:8080/embed \"HTTP/1.1 200 OK\"\n",
      "HTTP Request: POST http://127.0.0.1:8080/embed \"HTTP/1.1 200 OK\"\n",
      "HTTP Request: POST http://127.0.0.1:8080/embed \"HTTP/1.1 200 OK\"\n"
     ]
    },
    {
     "name": "stderr",
     "output_type": "stream",
     "text": [
      "\r",
      "Generating embeddings:  54%|██████████████████████████████████████████████████████████████████████████████████████████████▏                                                                                 | 1030/1924 [06:34<05:33,  2.68it/s]"
     ]
    },
    {
     "name": "stdout",
     "output_type": "stream",
     "text": [
      "INFO:httpx:HTTP Request: POST http://127.0.0.1:8080/embed \"HTTP/1.1 200 OK\"\n",
      "HTTP Request: POST http://127.0.0.1:8080/embed \"HTTP/1.1 200 OK\"\n",
      "HTTP Request: POST http://127.0.0.1:8080/embed \"HTTP/1.1 200 OK\"\n",
      "HTTP Request: POST http://127.0.0.1:8080/embed \"HTTP/1.1 200 OK\"\n"
     ]
    },
    {
     "name": "stderr",
     "output_type": "stream",
     "text": [
      "\r",
      "Generating embeddings:  54%|███████████████████████████████████████████████████████████████████████████████████████████████▏                                                                                | 1040/1924 [06:37<05:32,  2.66it/s]"
     ]
    },
    {
     "name": "stdout",
     "output_type": "stream",
     "text": [
      "INFO:httpx:HTTP Request: POST http://127.0.0.1:8080/embed \"HTTP/1.1 200 OK\"\n",
      "HTTP Request: POST http://127.0.0.1:8080/embed \"HTTP/1.1 200 OK\"\n",
      "HTTP Request: POST http://127.0.0.1:8080/embed \"HTTP/1.1 200 OK\"\n",
      "HTTP Request: POST http://127.0.0.1:8080/embed \"HTTP/1.1 200 OK\"\n"
     ]
    },
    {
     "name": "stderr",
     "output_type": "stream",
     "text": [
      "\r",
      "Generating embeddings:  55%|████████████████████████████████████████████████████████████████████████████████████████████████                                                                                | 1050/1924 [06:42<05:35,  2.60it/s]"
     ]
    },
    {
     "name": "stdout",
     "output_type": "stream",
     "text": [
      "INFO:httpx:HTTP Request: POST http://127.0.0.1:8080/embed \"HTTP/1.1 200 OK\"\n",
      "HTTP Request: POST http://127.0.0.1:8080/embed \"HTTP/1.1 200 OK\"\n",
      "HTTP Request: POST http://127.0.0.1:8080/embed \"HTTP/1.1 200 OK\"\n",
      "HTTP Request: POST http://127.0.0.1:8080/embed \"HTTP/1.1 200 OK\"\n"
     ]
    },
    {
     "name": "stderr",
     "output_type": "stream",
     "text": [
      "\r",
      "Generating embeddings:  55%|████████████████████████████████████████████████████████████████████████████████████████████████▉                                                                               | 1060/1924 [06:45<05:23,  2.67it/s]"
     ]
    },
    {
     "name": "stdout",
     "output_type": "stream",
     "text": [
      "INFO:httpx:HTTP Request: POST http://127.0.0.1:8080/embed \"HTTP/1.1 200 OK\"\n",
      "HTTP Request: POST http://127.0.0.1:8080/embed \"HTTP/1.1 200 OK\"\n",
      "HTTP Request: POST http://127.0.0.1:8080/embed \"HTTP/1.1 200 OK\"\n",
      "HTTP Request: POST http://127.0.0.1:8080/embed \"HTTP/1.1 200 OK\"\n"
     ]
    },
    {
     "name": "stderr",
     "output_type": "stream",
     "text": [
      "\r",
      "Generating embeddings:  56%|█████████████████████████████████████████████████████████████████████████████████████████████████▉                                                                              | 1070/1924 [06:49<05:18,  2.68it/s]"
     ]
    },
    {
     "name": "stdout",
     "output_type": "stream",
     "text": [
      "INFO:httpx:HTTP Request: POST http://127.0.0.1:8080/embed \"HTTP/1.1 200 OK\"\n",
      "HTTP Request: POST http://127.0.0.1:8080/embed \"HTTP/1.1 200 OK\"\n",
      "HTTP Request: POST http://127.0.0.1:8080/embed \"HTTP/1.1 200 OK\"\n",
      "HTTP Request: POST http://127.0.0.1:8080/embed \"HTTP/1.1 200 OK\"\n"
     ]
    },
    {
     "name": "stderr",
     "output_type": "stream",
     "text": [
      "\r",
      "Generating embeddings:  56%|██████████████████████████████████████████████████████████████████████████████████████████████████▊                                                                             | 1080/1924 [06:53<05:15,  2.67it/s]"
     ]
    },
    {
     "name": "stdout",
     "output_type": "stream",
     "text": [
      "INFO:httpx:HTTP Request: POST http://127.0.0.1:8080/embed \"HTTP/1.1 200 OK\"\n",
      "HTTP Request: POST http://127.0.0.1:8080/embed \"HTTP/1.1 200 OK\"\n",
      "HTTP Request: POST http://127.0.0.1:8080/embed \"HTTP/1.1 200 OK\"\n",
      "HTTP Request: POST http://127.0.0.1:8080/embed \"HTTP/1.1 200 OK\"\n"
     ]
    },
    {
     "name": "stderr",
     "output_type": "stream",
     "text": [
      "\r",
      "Generating embeddings:  57%|███████████████████████████████████████████████████████████████████████████████████████████████████▋                                                                            | 1090/1924 [06:56<05:18,  2.62it/s]"
     ]
    },
    {
     "name": "stdout",
     "output_type": "stream",
     "text": [
      "INFO:httpx:HTTP Request: POST http://127.0.0.1:8080/embed \"HTTP/1.1 200 OK\"\n",
      "HTTP Request: POST http://127.0.0.1:8080/embed \"HTTP/1.1 200 OK\"\n",
      "HTTP Request: POST http://127.0.0.1:8080/embed \"HTTP/1.1 200 OK\"\n",
      "HTTP Request: POST http://127.0.0.1:8080/embed \"HTTP/1.1 200 OK\"\n"
     ]
    },
    {
     "name": "stderr",
     "output_type": "stream",
     "text": [
      "\r",
      "Generating embeddings:  57%|████████████████████████████████████████████████████████████████████████████████████████████████████▌                                                                           | 1100/1924 [07:00<05:15,  2.61it/s]"
     ]
    },
    {
     "name": "stdout",
     "output_type": "stream",
     "text": [
      "INFO:httpx:HTTP Request: POST http://127.0.0.1:8080/embed \"HTTP/1.1 200 OK\"\n",
      "HTTP Request: POST http://127.0.0.1:8080/embed \"HTTP/1.1 200 OK\"\n",
      "HTTP Request: POST http://127.0.0.1:8080/embed \"HTTP/1.1 200 OK\"\n",
      "HTTP Request: POST http://127.0.0.1:8080/embed \"HTTP/1.1 200 OK\"\n"
     ]
    },
    {
     "name": "stderr",
     "output_type": "stream",
     "text": [
      "\r",
      "Generating embeddings:  58%|█████████████████████████████████████████████████████████████████████████████████████████████████████▌                                                                          | 1110/1924 [07:04<05:11,  2.62it/s]"
     ]
    },
    {
     "name": "stdout",
     "output_type": "stream",
     "text": [
      "INFO:httpx:HTTP Request: POST http://127.0.0.1:8080/embed \"HTTP/1.1 200 OK\"\n",
      "HTTP Request: POST http://127.0.0.1:8080/embed \"HTTP/1.1 200 OK\"\n",
      "HTTP Request: POST http://127.0.0.1:8080/embed \"HTTP/1.1 200 OK\"\n",
      "HTTP Request: POST http://127.0.0.1:8080/embed \"HTTP/1.1 200 OK\"\n"
     ]
    },
    {
     "name": "stderr",
     "output_type": "stream",
     "text": [
      "\r",
      "Generating embeddings:  58%|██████████████████████████████████████████████████████████████████████████████████████████████████████▍                                                                         | 1120/1924 [07:08<05:11,  2.59it/s]"
     ]
    },
    {
     "name": "stdout",
     "output_type": "stream",
     "text": [
      "INFO:httpx:HTTP Request: POST http://127.0.0.1:8080/embed \"HTTP/1.1 200 OK\"\n",
      "HTTP Request: POST http://127.0.0.1:8080/embed \"HTTP/1.1 200 OK\"\n",
      "HTTP Request: POST http://127.0.0.1:8080/embed \"HTTP/1.1 200 OK\"\n",
      "HTTP Request: POST http://127.0.0.1:8080/embed \"HTTP/1.1 200 OK\"\n"
     ]
    },
    {
     "name": "stderr",
     "output_type": "stream",
     "text": [
      "\r",
      "Generating embeddings:  59%|███████████████████████████████████████████████████████████████████████████████████████████████████████▎                                                                        | 1130/1924 [07:12<05:01,  2.63it/s]"
     ]
    },
    {
     "name": "stdout",
     "output_type": "stream",
     "text": [
      "INFO:httpx:HTTP Request: POST http://127.0.0.1:8080/embed \"HTTP/1.1 200 OK\"\n",
      "HTTP Request: POST http://127.0.0.1:8080/embed \"HTTP/1.1 200 OK\"\n",
      "HTTP Request: POST http://127.0.0.1:8080/embed \"HTTP/1.1 200 OK\"\n",
      "HTTP Request: POST http://127.0.0.1:8080/embed \"HTTP/1.1 200 OK\"\n"
     ]
    },
    {
     "name": "stderr",
     "output_type": "stream",
     "text": [
      "\r",
      "Generating embeddings:  59%|████████████████████████████████████████████████████████████████████████████████████████████████████████▎                                                                       | 1140/1924 [07:15<04:53,  2.67it/s]"
     ]
    },
    {
     "name": "stdout",
     "output_type": "stream",
     "text": [
      "INFO:httpx:HTTP Request: POST http://127.0.0.1:8080/embed \"HTTP/1.1 200 OK\"\n",
      "HTTP Request: POST http://127.0.0.1:8080/embed \"HTTP/1.1 200 OK\"\n",
      "HTTP Request: POST http://127.0.0.1:8080/embed \"HTTP/1.1 200 OK\"\n",
      "HTTP Request: POST http://127.0.0.1:8080/embed \"HTTP/1.1 200 OK\"\n"
     ]
    },
    {
     "name": "stderr",
     "output_type": "stream",
     "text": [
      "\r",
      "Generating embeddings:  60%|█████████████████████████████████████████████████████████████████████████████████████████████████████████▏                                                                      | 1150/1924 [07:19<04:52,  2.65it/s]"
     ]
    },
    {
     "name": "stdout",
     "output_type": "stream",
     "text": [
      "INFO:httpx:HTTP Request: POST http://127.0.0.1:8080/embed \"HTTP/1.1 200 OK\"\n",
      "HTTP Request: POST http://127.0.0.1:8080/embed \"HTTP/1.1 200 OK\"\n",
      "HTTP Request: POST http://127.0.0.1:8080/embed \"HTTP/1.1 200 OK\"\n",
      "HTTP Request: POST http://127.0.0.1:8080/embed \"HTTP/1.1 200 OK\"\n"
     ]
    },
    {
     "name": "stderr",
     "output_type": "stream",
     "text": [
      "\r",
      "Generating embeddings:  60%|██████████████████████████████████████████████████████████████████████████████████████████████████████████                                                                      | 1160/1924 [07:23<04:48,  2.65it/s]"
     ]
    },
    {
     "name": "stdout",
     "output_type": "stream",
     "text": [
      "INFO:httpx:HTTP Request: POST http://127.0.0.1:8080/embed \"HTTP/1.1 200 OK\"\n",
      "HTTP Request: POST http://127.0.0.1:8080/embed \"HTTP/1.1 200 OK\"\n",
      "HTTP Request: POST http://127.0.0.1:8080/embed \"HTTP/1.1 200 OK\"\n",
      "HTTP Request: POST http://127.0.0.1:8080/embed \"HTTP/1.1 200 OK\"\n"
     ]
    },
    {
     "name": "stderr",
     "output_type": "stream",
     "text": [
      "\r",
      "Generating embeddings:  61%|███████████████████████████████████████████████████████████████████████████████████████████████████████████                                                                     | 1170/1924 [07:27<04:40,  2.69it/s]"
     ]
    },
    {
     "name": "stdout",
     "output_type": "stream",
     "text": [
      "INFO:httpx:HTTP Request: POST http://127.0.0.1:8080/embed \"HTTP/1.1 200 OK\"\n",
      "HTTP Request: POST http://127.0.0.1:8080/embed \"HTTP/1.1 200 OK\"\n",
      "HTTP Request: POST http://127.0.0.1:8080/embed \"HTTP/1.1 200 OK\"\n",
      "HTTP Request: POST http://127.0.0.1:8080/embed \"HTTP/1.1 200 OK\"\n"
     ]
    },
    {
     "name": "stderr",
     "output_type": "stream",
     "text": [
      "\r",
      "Generating embeddings:  61%|███████████████████████████████████████████████████████████████████████████████████████████████████████████▉                                                                    | 1180/1924 [07:30<04:36,  2.69it/s]"
     ]
    },
    {
     "name": "stdout",
     "output_type": "stream",
     "text": [
      "INFO:httpx:HTTP Request: POST http://127.0.0.1:8080/embed \"HTTP/1.1 200 OK\"\n",
      "HTTP Request: POST http://127.0.0.1:8080/embed \"HTTP/1.1 200 OK\"\n",
      "HTTP Request: POST http://127.0.0.1:8080/embed \"HTTP/1.1 200 OK\"\n",
      "HTTP Request: POST http://127.0.0.1:8080/embed \"HTTP/1.1 200 OK\"\n"
     ]
    },
    {
     "name": "stderr",
     "output_type": "stream",
     "text": [
      "\r",
      "Generating embeddings:  62%|████████████████████████████████████████████████████████████████████████████████████████████████████████████▊                                                                   | 1190/1924 [07:34<04:35,  2.66it/s]"
     ]
    },
    {
     "name": "stdout",
     "output_type": "stream",
     "text": [
      "INFO:httpx:HTTP Request: POST http://127.0.0.1:8080/embed \"HTTP/1.1 200 OK\"\n",
      "HTTP Request: POST http://127.0.0.1:8080/embed \"HTTP/1.1 200 OK\"\n",
      "HTTP Request: POST http://127.0.0.1:8080/embed \"HTTP/1.1 200 OK\"\n",
      "HTTP Request: POST http://127.0.0.1:8080/embed \"HTTP/1.1 200 OK\"\n"
     ]
    },
    {
     "name": "stderr",
     "output_type": "stream",
     "text": [
      "\r",
      "Generating embeddings:  62%|█████████████████████████████████████████████████████████████████████████████████████████████████████████████▊                                                                  | 1200/1924 [07:38<04:31,  2.67it/s]"
     ]
    },
    {
     "name": "stdout",
     "output_type": "stream",
     "text": [
      "INFO:httpx:HTTP Request: POST http://127.0.0.1:8080/embed \"HTTP/1.1 200 OK\"\n",
      "HTTP Request: POST http://127.0.0.1:8080/embed \"HTTP/1.1 200 OK\"\n",
      "HTTP Request: POST http://127.0.0.1:8080/embed \"HTTP/1.1 200 OK\"\n",
      "HTTP Request: POST http://127.0.0.1:8080/embed \"HTTP/1.1 200 OK\"\n"
     ]
    },
    {
     "name": "stderr",
     "output_type": "stream",
     "text": [
      "\r",
      "Generating embeddings:  63%|██████████████████████████████████████████████████████████████████████████████████████████████████████████████▋                                                                 | 1210/1924 [07:42<04:28,  2.66it/s]"
     ]
    },
    {
     "name": "stdout",
     "output_type": "stream",
     "text": [
      "INFO:httpx:HTTP Request: POST http://127.0.0.1:8080/embed \"HTTP/1.1 200 OK\"\n",
      "HTTP Request: POST http://127.0.0.1:8080/embed \"HTTP/1.1 200 OK\"\n",
      "HTTP Request: POST http://127.0.0.1:8080/embed \"HTTP/1.1 200 OK\"\n",
      "HTTP Request: POST http://127.0.0.1:8080/embed \"HTTP/1.1 200 OK\"\n"
     ]
    },
    {
     "name": "stderr",
     "output_type": "stream",
     "text": [
      "\r",
      "Generating embeddings:  63%|███████████████████████████████████████████████████████████████████████████████████████████████████████████████▌                                                                | 1220/1924 [07:46<04:27,  2.63it/s]"
     ]
    },
    {
     "name": "stdout",
     "output_type": "stream",
     "text": [
      "INFO:httpx:HTTP Request: POST http://127.0.0.1:8080/embed \"HTTP/1.1 200 OK\"\n",
      "HTTP Request: POST http://127.0.0.1:8080/embed \"HTTP/1.1 200 OK\"\n",
      "HTTP Request: POST http://127.0.0.1:8080/embed \"HTTP/1.1 200 OK\"\n",
      "HTTP Request: POST http://127.0.0.1:8080/embed \"HTTP/1.1 200 OK\"\n"
     ]
    },
    {
     "name": "stderr",
     "output_type": "stream",
     "text": [
      "\r",
      "Generating embeddings:  64%|████████████████████████████████████████████████████████████████████████████████████████████████████████████████▌                                                               | 1230/1924 [07:49<04:23,  2.63it/s]"
     ]
    },
    {
     "name": "stdout",
     "output_type": "stream",
     "text": [
      "INFO:httpx:HTTP Request: POST http://127.0.0.1:8080/embed \"HTTP/1.1 200 OK\"\n",
      "HTTP Request: POST http://127.0.0.1:8080/embed \"HTTP/1.1 200 OK\"\n",
      "HTTP Request: POST http://127.0.0.1:8080/embed \"HTTP/1.1 200 OK\"\n",
      "HTTP Request: POST http://127.0.0.1:8080/embed \"HTTP/1.1 200 OK\"\n"
     ]
    },
    {
     "name": "stderr",
     "output_type": "stream",
     "text": [
      "\r",
      "Generating embeddings:  64%|█████████████████████████████████████████████████████████████████████████████████████████████████████████████████▍                                                              | 1240/1924 [07:53<04:24,  2.59it/s]"
     ]
    },
    {
     "name": "stdout",
     "output_type": "stream",
     "text": [
      "INFO:httpx:HTTP Request: POST http://127.0.0.1:8080/embed \"HTTP/1.1 200 OK\"\n",
      "HTTP Request: POST http://127.0.0.1:8080/embed \"HTTP/1.1 200 OK\"\n",
      "HTTP Request: POST http://127.0.0.1:8080/embed \"HTTP/1.1 200 OK\"\n",
      "HTTP Request: POST http://127.0.0.1:8080/embed \"HTTP/1.1 200 OK\"\n"
     ]
    },
    {
     "name": "stderr",
     "output_type": "stream",
     "text": [
      "\r",
      "Generating embeddings:  65%|██████████████████████████████████████████████████████████████████████████████████████████████████████████████████▎                                                             | 1250/1924 [07:57<04:12,  2.67it/s]"
     ]
    },
    {
     "name": "stdout",
     "output_type": "stream",
     "text": [
      "INFO:httpx:HTTP Request: POST http://127.0.0.1:8080/embed \"HTTP/1.1 200 OK\"\n",
      "HTTP Request: POST http://127.0.0.1:8080/embed \"HTTP/1.1 200 OK\"\n",
      "HTTP Request: POST http://127.0.0.1:8080/embed \"HTTP/1.1 200 OK\"\n",
      "HTTP Request: POST http://127.0.0.1:8080/embed \"HTTP/1.1 200 OK\"\n"
     ]
    },
    {
     "name": "stderr",
     "output_type": "stream",
     "text": [
      "\r",
      "Generating embeddings:  65%|███████████████████████████████████████████████████████████████████████████████████████████████████████████████████▎                                                            | 1260/1924 [08:01<04:09,  2.67it/s]"
     ]
    },
    {
     "name": "stdout",
     "output_type": "stream",
     "text": [
      "INFO:httpx:HTTP Request: POST http://127.0.0.1:8080/embed \"HTTP/1.1 200 OK\"\n",
      "HTTP Request: POST http://127.0.0.1:8080/embed \"HTTP/1.1 200 OK\"\n",
      "HTTP Request: POST http://127.0.0.1:8080/embed \"HTTP/1.1 200 OK\"\n",
      "HTTP Request: POST http://127.0.0.1:8080/embed \"HTTP/1.1 200 OK\"\n"
     ]
    },
    {
     "name": "stderr",
     "output_type": "stream",
     "text": [
      "\r",
      "Generating embeddings:  66%|████████████████████████████████████████████████████████████████████████████████████████████████████████████████████▏                                                           | 1270/1924 [08:04<04:06,  2.65it/s]"
     ]
    },
    {
     "name": "stdout",
     "output_type": "stream",
     "text": [
      "INFO:httpx:HTTP Request: POST http://127.0.0.1:8080/embed \"HTTP/1.1 200 OK\"\n",
      "HTTP Request: POST http://127.0.0.1:8080/embed \"HTTP/1.1 200 OK\"\n",
      "HTTP Request: POST http://127.0.0.1:8080/embed \"HTTP/1.1 200 OK\"\n",
      "HTTP Request: POST http://127.0.0.1:8080/embed \"HTTP/1.1 200 OK\"\n"
     ]
    },
    {
     "name": "stderr",
     "output_type": "stream",
     "text": [
      "\r",
      "Generating embeddings:  67%|█████████████████████████████████████████████████████████████████████████████████████████████████████████████████████                                                           | 1280/1924 [08:08<04:01,  2.66it/s]"
     ]
    },
    {
     "name": "stdout",
     "output_type": "stream",
     "text": [
      "INFO:httpx:HTTP Request: POST http://127.0.0.1:8080/embed \"HTTP/1.1 200 OK\"\n",
      "HTTP Request: POST http://127.0.0.1:8080/embed \"HTTP/1.1 200 OK\"\n",
      "HTTP Request: POST http://127.0.0.1:8080/embed \"HTTP/1.1 200 OK\"\n",
      "HTTP Request: POST http://127.0.0.1:8080/embed \"HTTP/1.1 200 OK\"\n"
     ]
    },
    {
     "name": "stderr",
     "output_type": "stream",
     "text": [
      "\r",
      "Generating embeddings:  67%|██████████████████████████████████████████████████████████████████████████████████████████████████████████████████████                                                          | 1290/1924 [08:12<04:02,  2.61it/s]"
     ]
    },
    {
     "name": "stdout",
     "output_type": "stream",
     "text": [
      "INFO:httpx:HTTP Request: POST http://127.0.0.1:8080/embed \"HTTP/1.1 200 OK\"\n",
      "HTTP Request: POST http://127.0.0.1:8080/embed \"HTTP/1.1 200 OK\"\n",
      "HTTP Request: POST http://127.0.0.1:8080/embed \"HTTP/1.1 200 OK\"\n",
      "HTTP Request: POST http://127.0.0.1:8080/embed \"HTTP/1.1 200 OK\"\n"
     ]
    },
    {
     "name": "stderr",
     "output_type": "stream",
     "text": [
      "\r",
      "Generating embeddings:  68%|██████████████████████████████████████████████████████████████████████████████████████████████████████████████████████▉                                                         | 1300/1924 [08:16<03:56,  2.63it/s]"
     ]
    },
    {
     "name": "stdout",
     "output_type": "stream",
     "text": [
      "INFO:httpx:HTTP Request: POST http://127.0.0.1:8080/embed \"HTTP/1.1 200 OK\"\n",
      "HTTP Request: POST http://127.0.0.1:8080/embed \"HTTP/1.1 200 OK\"\n",
      "HTTP Request: POST http://127.0.0.1:8080/embed \"HTTP/1.1 200 OK\"\n",
      "HTTP Request: POST http://127.0.0.1:8080/embed \"HTTP/1.1 200 OK\"\n"
     ]
    },
    {
     "name": "stderr",
     "output_type": "stream",
     "text": [
      "\r",
      "Generating embeddings:  68%|███████████████████████████████████████████████████████████████████████████████████████████████████████████████████████▊                                                        | 1310/1924 [08:19<03:49,  2.68it/s]"
     ]
    },
    {
     "name": "stdout",
     "output_type": "stream",
     "text": [
      "INFO:httpx:HTTP Request: POST http://127.0.0.1:8080/embed \"HTTP/1.1 200 OK\"\n",
      "HTTP Request: POST http://127.0.0.1:8080/embed \"HTTP/1.1 200 OK\"\n",
      "HTTP Request: POST http://127.0.0.1:8080/embed \"HTTP/1.1 200 OK\"\n",
      "HTTP Request: POST http://127.0.0.1:8080/embed \"HTTP/1.1 200 OK\"\n"
     ]
    },
    {
     "name": "stderr",
     "output_type": "stream",
     "text": [
      "\r",
      "Generating embeddings:  69%|████████████████████████████████████████████████████████████████████████████████████████████████████████████████████████▋                                                       | 1320/1924 [08:23<03:44,  2.69it/s]"
     ]
    },
    {
     "name": "stdout",
     "output_type": "stream",
     "text": [
      "INFO:httpx:HTTP Request: POST http://127.0.0.1:8080/embed \"HTTP/1.1 200 OK\"\n",
      "HTTP Request: POST http://127.0.0.1:8080/embed \"HTTP/1.1 200 OK\"\n",
      "HTTP Request: POST http://127.0.0.1:8080/embed \"HTTP/1.1 200 OK\"\n",
      "HTTP Request: POST http://127.0.0.1:8080/embed \"HTTP/1.1 200 OK\"\n"
     ]
    },
    {
     "name": "stderr",
     "output_type": "stream",
     "text": [
      "\r",
      "Generating embeddings:  69%|█████████████████████████████████████████████████████████████████████████████████████████████████████████████████████████▋                                                      | 1330/1924 [08:27<03:50,  2.58it/s]"
     ]
    },
    {
     "name": "stdout",
     "output_type": "stream",
     "text": [
      "INFO:httpx:HTTP Request: POST http://127.0.0.1:8080/embed \"HTTP/1.1 200 OK\"\n",
      "HTTP Request: POST http://127.0.0.1:8080/embed \"HTTP/1.1 200 OK\"\n",
      "HTTP Request: POST http://127.0.0.1:8080/embed \"HTTP/1.1 200 OK\"\n",
      "HTTP Request: POST http://127.0.0.1:8080/embed \"HTTP/1.1 200 OK\"\n"
     ]
    },
    {
     "name": "stderr",
     "output_type": "stream",
     "text": [
      "\r",
      "Generating embeddings:  70%|██████████████████████████████████████████████████████████████████████████████████████████████████████████████████████████▌                                                     | 1340/1924 [08:31<03:48,  2.55it/s]"
     ]
    },
    {
     "name": "stdout",
     "output_type": "stream",
     "text": [
      "INFO:httpx:HTTP Request: POST http://127.0.0.1:8080/embed \"HTTP/1.1 200 OK\"\n",
      "HTTP Request: POST http://127.0.0.1:8080/embed \"HTTP/1.1 200 OK\"\n",
      "HTTP Request: POST http://127.0.0.1:8080/embed \"HTTP/1.1 200 OK\"\n",
      "HTTP Request: POST http://127.0.0.1:8080/embed \"HTTP/1.1 200 OK\"\n"
     ]
    },
    {
     "name": "stderr",
     "output_type": "stream",
     "text": [
      "\r",
      "Generating embeddings:  70%|███████████████████████████████████████████████████████████████████████████████████████████████████████████████████████████▍                                                    | 1350/1924 [08:35<03:43,  2.56it/s]"
     ]
    },
    {
     "name": "stdout",
     "output_type": "stream",
     "text": [
      "INFO:httpx:HTTP Request: POST http://127.0.0.1:8080/embed \"HTTP/1.1 200 OK\"\n",
      "HTTP Request: POST http://127.0.0.1:8080/embed \"HTTP/1.1 200 OK\"\n",
      "HTTP Request: POST http://127.0.0.1:8080/embed \"HTTP/1.1 200 OK\"\n",
      "HTTP Request: POST http://127.0.0.1:8080/embed \"HTTP/1.1 200 OK\"\n"
     ]
    },
    {
     "name": "stderr",
     "output_type": "stream",
     "text": [
      "\r",
      "Generating embeddings:  71%|████████████████████████████████████████████████████████████████████████████████████████████████████████████████████████████▍                                                   | 1360/1924 [08:39<03:35,  2.61it/s]"
     ]
    },
    {
     "name": "stdout",
     "output_type": "stream",
     "text": [
      "INFO:httpx:HTTP Request: POST http://127.0.0.1:8080/embed \"HTTP/1.1 200 OK\"\n",
      "HTTP Request: POST http://127.0.0.1:8080/embed \"HTTP/1.1 200 OK\"\n",
      "HTTP Request: POST http://127.0.0.1:8080/embed \"HTTP/1.1 200 OK\"\n",
      "HTTP Request: POST http://127.0.0.1:8080/embed \"HTTP/1.1 200 OK\"\n"
     ]
    },
    {
     "name": "stderr",
     "output_type": "stream",
     "text": [
      "\r",
      "Generating embeddings:  71%|█████████████████████████████████████████████████████████████████████████████████████████████████████████████████████████████▎                                                  | 1370/1924 [08:42<03:27,  2.67it/s]"
     ]
    },
    {
     "name": "stdout",
     "output_type": "stream",
     "text": [
      "INFO:httpx:HTTP Request: POST http://127.0.0.1:8080/embed \"HTTP/1.1 200 OK\"\n",
      "HTTP Request: POST http://127.0.0.1:8080/embed \"HTTP/1.1 200 OK\"\n",
      "HTTP Request: POST http://127.0.0.1:8080/embed \"HTTP/1.1 200 OK\"\n",
      "HTTP Request: POST http://127.0.0.1:8080/embed \"HTTP/1.1 200 OK\"\n"
     ]
    },
    {
     "name": "stderr",
     "output_type": "stream",
     "text": [
      "\r",
      "Generating embeddings:  72%|██████████████████████████████████████████████████████████████████████████████████████████████████████████████████████████████▏                                                 | 1380/1924 [08:46<03:23,  2.68it/s]"
     ]
    },
    {
     "name": "stdout",
     "output_type": "stream",
     "text": [
      "INFO:httpx:HTTP Request: POST http://127.0.0.1:8080/embed \"HTTP/1.1 200 OK\"\n",
      "HTTP Request: POST http://127.0.0.1:8080/embed \"HTTP/1.1 200 OK\"\n",
      "HTTP Request: POST http://127.0.0.1:8080/embed \"HTTP/1.1 200 OK\"\n",
      "HTTP Request: POST http://127.0.0.1:8080/embed \"HTTP/1.1 200 OK\"\n"
     ]
    },
    {
     "name": "stderr",
     "output_type": "stream",
     "text": [
      "\r",
      "Generating embeddings:  72%|███████████████████████████████████████████████████████████████████████████████████████████████████████████████████████████████▏                                                | 1390/1924 [08:50<03:19,  2.68it/s]"
     ]
    },
    {
     "name": "stdout",
     "output_type": "stream",
     "text": [
      "INFO:httpx:HTTP Request: POST http://127.0.0.1:8080/embed \"HTTP/1.1 200 OK\"\n",
      "HTTP Request: POST http://127.0.0.1:8080/embed \"HTTP/1.1 200 OK\"\n",
      "HTTP Request: POST http://127.0.0.1:8080/embed \"HTTP/1.1 200 OK\"\n",
      "HTTP Request: POST http://127.0.0.1:8080/embed \"HTTP/1.1 200 OK\"\n"
     ]
    },
    {
     "name": "stderr",
     "output_type": "stream",
     "text": [
      "\r",
      "Generating embeddings:  73%|████████████████████████████████████████████████████████████████████████████████████████████████████████████████████████████████                                                | 1400/1924 [08:54<03:14,  2.70it/s]"
     ]
    },
    {
     "name": "stdout",
     "output_type": "stream",
     "text": [
      "INFO:httpx:HTTP Request: POST http://127.0.0.1:8080/embed \"HTTP/1.1 200 OK\"\n",
      "HTTP Request: POST http://127.0.0.1:8080/embed \"HTTP/1.1 200 OK\"\n",
      "HTTP Request: POST http://127.0.0.1:8080/embed \"HTTP/1.1 200 OK\"\n",
      "HTTP Request: POST http://127.0.0.1:8080/embed \"HTTP/1.1 200 OK\"\n"
     ]
    },
    {
     "name": "stderr",
     "output_type": "stream",
     "text": [
      "\r",
      "Generating embeddings:  73%|████████████████████████████████████████████████████████████████████████████████████████████████████████████████████████████████▉                                               | 1410/1924 [08:57<03:09,  2.71it/s]"
     ]
    },
    {
     "name": "stdout",
     "output_type": "stream",
     "text": [
      "INFO:httpx:HTTP Request: POST http://127.0.0.1:8080/embed \"HTTP/1.1 200 OK\"\n",
      "HTTP Request: POST http://127.0.0.1:8080/embed \"HTTP/1.1 200 OK\"\n",
      "HTTP Request: POST http://127.0.0.1:8080/embed \"HTTP/1.1 200 OK\"\n",
      "HTTP Request: POST http://127.0.0.1:8080/embed \"HTTP/1.1 200 OK\"\n"
     ]
    },
    {
     "name": "stderr",
     "output_type": "stream",
     "text": [
      "\r",
      "Generating embeddings:  74%|█████████████████████████████████████████████████████████████████████████████████████████████████████████████████████████████████▉                                              | 1420/1924 [09:01<03:05,  2.71it/s]"
     ]
    },
    {
     "name": "stdout",
     "output_type": "stream",
     "text": [
      "INFO:httpx:HTTP Request: POST http://127.0.0.1:8080/embed \"HTTP/1.1 200 OK\"\n",
      "HTTP Request: POST http://127.0.0.1:8080/embed \"HTTP/1.1 200 OK\"\n",
      "HTTP Request: POST http://127.0.0.1:8080/embed \"HTTP/1.1 200 OK\"\n",
      "HTTP Request: POST http://127.0.0.1:8080/embed \"HTTP/1.1 200 OK\"\n"
     ]
    },
    {
     "name": "stderr",
     "output_type": "stream",
     "text": [
      "\r",
      "Generating embeddings:  74%|██████████████████████████████████████████████████████████████████████████████████████████████████████████████████████████████████▊                                             | 1430/1924 [09:05<03:04,  2.67it/s]"
     ]
    },
    {
     "name": "stdout",
     "output_type": "stream",
     "text": [
      "INFO:httpx:HTTP Request: POST http://127.0.0.1:8080/embed \"HTTP/1.1 200 OK\"\n",
      "HTTP Request: POST http://127.0.0.1:8080/embed \"HTTP/1.1 200 OK\"\n",
      "HTTP Request: POST http://127.0.0.1:8080/embed \"HTTP/1.1 200 OK\"\n",
      "HTTP Request: POST http://127.0.0.1:8080/embed \"HTTP/1.1 200 OK\"\n"
     ]
    },
    {
     "name": "stderr",
     "output_type": "stream",
     "text": [
      "\r",
      "Generating embeddings:  75%|███████████████████████████████████████████████████████████████████████████████████████████████████████████████████████████████████▋                                            | 1440/1924 [09:08<03:00,  2.68it/s]"
     ]
    },
    {
     "name": "stdout",
     "output_type": "stream",
     "text": [
      "INFO:httpx:HTTP Request: POST http://127.0.0.1:8080/embed \"HTTP/1.1 200 OK\"\n",
      "HTTP Request: POST http://127.0.0.1:8080/embed \"HTTP/1.1 200 OK\"\n",
      "HTTP Request: POST http://127.0.0.1:8080/embed \"HTTP/1.1 200 OK\"\n",
      "HTTP Request: POST http://127.0.0.1:8080/embed \"HTTP/1.1 200 OK\"\n"
     ]
    },
    {
     "name": "stderr",
     "output_type": "stream",
     "text": [
      "\r",
      "Generating embeddings:  75%|████████████████████████████████████████████████████████████████████████████████████████████████████████████████████████████████████▋                                           | 1450/1924 [09:12<02:55,  2.70it/s]"
     ]
    },
    {
     "name": "stdout",
     "output_type": "stream",
     "text": [
      "INFO:httpx:HTTP Request: POST http://127.0.0.1:8080/embed \"HTTP/1.1 200 OK\"\n",
      "HTTP Request: POST http://127.0.0.1:8080/embed \"HTTP/1.1 200 OK\"\n",
      "HTTP Request: POST http://127.0.0.1:8080/embed \"HTTP/1.1 200 OK\"\n",
      "HTTP Request: POST http://127.0.0.1:8080/embed \"HTTP/1.1 200 OK\"\n"
     ]
    },
    {
     "name": "stderr",
     "output_type": "stream",
     "text": [
      "\r",
      "Generating embeddings:  76%|█████████████████████████████████████████████████████████████████████████████████████████████████████████████████████████████████████▌                                          | 1460/1924 [09:16<02:53,  2.68it/s]"
     ]
    },
    {
     "name": "stdout",
     "output_type": "stream",
     "text": [
      "INFO:httpx:HTTP Request: POST http://127.0.0.1:8080/embed \"HTTP/1.1 200 OK\"\n",
      "HTTP Request: POST http://127.0.0.1:8080/embed \"HTTP/1.1 200 OK\"\n",
      "HTTP Request: POST http://127.0.0.1:8080/embed \"HTTP/1.1 200 OK\"\n",
      "HTTP Request: POST http://127.0.0.1:8080/embed \"HTTP/1.1 200 OK\"\n"
     ]
    },
    {
     "name": "stderr",
     "output_type": "stream",
     "text": [
      "\r",
      "Generating embeddings:  76%|██████████████████████████████████████████████████████████████████████████████████████████████████████████████████████████████████████▍                                         | 1470/1924 [09:20<02:49,  2.67it/s]"
     ]
    },
    {
     "name": "stdout",
     "output_type": "stream",
     "text": [
      "INFO:httpx:HTTP Request: POST http://127.0.0.1:8080/embed \"HTTP/1.1 200 OK\"\n",
      "HTTP Request: POST http://127.0.0.1:8080/embed \"HTTP/1.1 200 OK\"\n",
      "HTTP Request: POST http://127.0.0.1:8080/embed \"HTTP/1.1 200 OK\"\n",
      "HTTP Request: POST http://127.0.0.1:8080/embed \"HTTP/1.1 200 OK\"\n"
     ]
    },
    {
     "name": "stderr",
     "output_type": "stream",
     "text": [
      "\r",
      "Generating embeddings:  77%|███████████████████████████████████████████████████████████████████████████████████████████████████████████████████████████████████████▍                                        | 1480/1924 [09:23<02:42,  2.73it/s]"
     ]
    },
    {
     "name": "stdout",
     "output_type": "stream",
     "text": [
      "INFO:httpx:HTTP Request: POST http://127.0.0.1:8080/embed \"HTTP/1.1 200 OK\"\n",
      "HTTP Request: POST http://127.0.0.1:8080/embed \"HTTP/1.1 200 OK\"\n",
      "HTTP Request: POST http://127.0.0.1:8080/embed \"HTTP/1.1 200 OK\"\n",
      "HTTP Request: POST http://127.0.0.1:8080/embed \"HTTP/1.1 200 OK\"\n"
     ]
    },
    {
     "name": "stderr",
     "output_type": "stream",
     "text": [
      "\r",
      "Generating embeddings:  77%|████████████████████████████████████████████████████████████████████████████████████████████████████████████████████████████████████████▎                                       | 1490/1924 [09:27<02:38,  2.73it/s]"
     ]
    },
    {
     "name": "stdout",
     "output_type": "stream",
     "text": [
      "INFO:httpx:HTTP Request: POST http://127.0.0.1:8080/embed \"HTTP/1.1 200 OK\"\n",
      "HTTP Request: POST http://127.0.0.1:8080/embed \"HTTP/1.1 200 OK\"\n",
      "HTTP Request: POST http://127.0.0.1:8080/embed \"HTTP/1.1 200 OK\"\n",
      "HTTP Request: POST http://127.0.0.1:8080/embed \"HTTP/1.1 200 OK\"\n"
     ]
    },
    {
     "name": "stderr",
     "output_type": "stream",
     "text": [
      "\r",
      "Generating embeddings:  78%|█████████████████████████████████████████████████████████████████████████████████████████████████████████████████████████████████████████▏                                      | 1500/1924 [09:30<02:31,  2.79it/s]"
     ]
    },
    {
     "name": "stdout",
     "output_type": "stream",
     "text": [
      "INFO:httpx:HTTP Request: POST http://127.0.0.1:8080/embed \"HTTP/1.1 200 OK\"\n",
      "HTTP Request: POST http://127.0.0.1:8080/embed \"HTTP/1.1 200 OK\"\n",
      "HTTP Request: POST http://127.0.0.1:8080/embed \"HTTP/1.1 200 OK\"\n",
      "HTTP Request: POST http://127.0.0.1:8080/embed \"HTTP/1.1 200 OK\"\n"
     ]
    },
    {
     "name": "stderr",
     "output_type": "stream",
     "text": [
      "\r",
      "Generating embeddings:  78%|██████████████████████████████████████████████████████████████████████████████████████████████████████████████████████████████████████████▏                                     | 1510/1924 [09:34<02:30,  2.75it/s]"
     ]
    },
    {
     "name": "stdout",
     "output_type": "stream",
     "text": [
      "INFO:httpx:HTTP Request: POST http://127.0.0.1:8080/embed \"HTTP/1.1 200 OK\"\n",
      "HTTP Request: POST http://127.0.0.1:8080/embed \"HTTP/1.1 200 OK\"\n",
      "HTTP Request: POST http://127.0.0.1:8080/embed \"HTTP/1.1 200 OK\"\n",
      "HTTP Request: POST http://127.0.0.1:8080/embed \"HTTP/1.1 200 OK\"\n"
     ]
    },
    {
     "name": "stderr",
     "output_type": "stream",
     "text": [
      "\r",
      "Generating embeddings:  79%|███████████████████████████████████████████████████████████████████████████████████████████████████████████████████████████████████████████                                     | 1520/1924 [09:38<02:25,  2.77it/s]"
     ]
    },
    {
     "name": "stdout",
     "output_type": "stream",
     "text": [
      "INFO:httpx:HTTP Request: POST http://127.0.0.1:8080/embed \"HTTP/1.1 200 OK\"\n",
      "HTTP Request: POST http://127.0.0.1:8080/embed \"HTTP/1.1 200 OK\"\n",
      "HTTP Request: POST http://127.0.0.1:8080/embed \"HTTP/1.1 200 OK\"\n",
      "HTTP Request: POST http://127.0.0.1:8080/embed \"HTTP/1.1 200 OK\"\n"
     ]
    },
    {
     "name": "stderr",
     "output_type": "stream",
     "text": [
      "\r",
      "Generating embeddings:  80%|███████████████████████████████████████████████████████████████████████████████████████████████████████████████████████████████████████████▉                                    | 1530/1924 [09:41<02:23,  2.75it/s]"
     ]
    },
    {
     "name": "stdout",
     "output_type": "stream",
     "text": [
      "INFO:httpx:HTTP Request: POST http://127.0.0.1:8080/embed \"HTTP/1.1 200 OK\"\n",
      "HTTP Request: POST http://127.0.0.1:8080/embed \"HTTP/1.1 200 OK\"\n",
      "HTTP Request: POST http://127.0.0.1:8080/embed \"HTTP/1.1 200 OK\"\n",
      "HTTP Request: POST http://127.0.0.1:8080/embed \"HTTP/1.1 200 OK\"\n"
     ]
    },
    {
     "name": "stderr",
     "output_type": "stream",
     "text": [
      "\r",
      "Generating embeddings:  80%|████████████████████████████████████████████████████████████████████████████████████████████████████████████████████████████████████████████▊                                   | 1540/1924 [09:45<02:20,  2.73it/s]"
     ]
    },
    {
     "name": "stdout",
     "output_type": "stream",
     "text": [
      "INFO:httpx:HTTP Request: POST http://127.0.0.1:8080/embed \"HTTP/1.1 200 OK\"\n",
      "HTTP Request: POST http://127.0.0.1:8080/embed \"HTTP/1.1 200 OK\"\n",
      "HTTP Request: POST http://127.0.0.1:8080/embed \"HTTP/1.1 200 OK\"\n",
      "HTTP Request: POST http://127.0.0.1:8080/embed \"HTTP/1.1 200 OK\"\n"
     ]
    },
    {
     "name": "stderr",
     "output_type": "stream",
     "text": [
      "\r",
      "Generating embeddings:  81%|█████████████████████████████████████████████████████████████████████████████████████████████████████████████████████████████████████████████▊                                  | 1550/1924 [09:49<02:17,  2.72it/s]"
     ]
    },
    {
     "name": "stdout",
     "output_type": "stream",
     "text": [
      "INFO:httpx:HTTP Request: POST http://127.0.0.1:8080/embed \"HTTP/1.1 200 OK\"\n",
      "HTTP Request: POST http://127.0.0.1:8080/embed \"HTTP/1.1 200 OK\"\n",
      "HTTP Request: POST http://127.0.0.1:8080/embed \"HTTP/1.1 200 OK\"\n",
      "HTTP Request: POST http://127.0.0.1:8080/embed \"HTTP/1.1 200 OK\"\n"
     ]
    },
    {
     "name": "stderr",
     "output_type": "stream",
     "text": [
      "\r",
      "Generating embeddings:  81%|██████████████████████████████████████████████████████████████████████████████████████████████████████████████████████████████████████████████▋                                 | 1560/1924 [09:52<02:13,  2.72it/s]"
     ]
    },
    {
     "name": "stdout",
     "output_type": "stream",
     "text": [
      "INFO:httpx:HTTP Request: POST http://127.0.0.1:8080/embed \"HTTP/1.1 200 OK\"\n",
      "HTTP Request: POST http://127.0.0.1:8080/embed \"HTTP/1.1 200 OK\"\n",
      "HTTP Request: POST http://127.0.0.1:8080/embed \"HTTP/1.1 200 OK\"\n",
      "HTTP Request: POST http://127.0.0.1:8080/embed \"HTTP/1.1 200 OK\"\n"
     ]
    },
    {
     "name": "stderr",
     "output_type": "stream",
     "text": [
      "\r",
      "Generating embeddings:  82%|███████████████████████████████████████████████████████████████████████████████████████████████████████████████████████████████████████████████▌                                | 1570/1924 [09:56<02:10,  2.72it/s]"
     ]
    },
    {
     "name": "stdout",
     "output_type": "stream",
     "text": [
      "INFO:httpx:HTTP Request: POST http://127.0.0.1:8080/embed \"HTTP/1.1 200 OK\"\n",
      "HTTP Request: POST http://127.0.0.1:8080/embed \"HTTP/1.1 200 OK\"\n",
      "HTTP Request: POST http://127.0.0.1:8080/embed \"HTTP/1.1 200 OK\"\n",
      "HTTP Request: POST http://127.0.0.1:8080/embed \"HTTP/1.1 200 OK\"\n"
     ]
    },
    {
     "name": "stderr",
     "output_type": "stream",
     "text": [
      "\r",
      "Generating embeddings:  82%|████████████████████████████████████████████████████████████████████████████████████████████████████████████████████████████████████████████████▌                               | 1580/1924 [10:00<02:09,  2.65it/s]"
     ]
    },
    {
     "name": "stdout",
     "output_type": "stream",
     "text": [
      "INFO:httpx:HTTP Request: POST http://127.0.0.1:8080/embed \"HTTP/1.1 200 OK\"\n",
      "HTTP Request: POST http://127.0.0.1:8080/embed \"HTTP/1.1 200 OK\"\n",
      "HTTP Request: POST http://127.0.0.1:8080/embed \"HTTP/1.1 200 OK\"\n",
      "HTTP Request: POST http://127.0.0.1:8080/embed \"HTTP/1.1 200 OK\"\n"
     ]
    },
    {
     "name": "stderr",
     "output_type": "stream",
     "text": [
      "\r",
      "Generating embeddings:  83%|█████████████████████████████████████████████████████████████████████████████████████████████████████████████████████████████████████████████████▍                              | 1590/1924 [10:04<02:07,  2.62it/s]"
     ]
    },
    {
     "name": "stdout",
     "output_type": "stream",
     "text": [
      "INFO:httpx:HTTP Request: POST http://127.0.0.1:8080/embed \"HTTP/1.1 200 OK\"\n",
      "HTTP Request: POST http://127.0.0.1:8080/embed \"HTTP/1.1 200 OK\"\n",
      "HTTP Request: POST http://127.0.0.1:8080/embed \"HTTP/1.1 200 OK\"\n",
      "HTTP Request: POST http://127.0.0.1:8080/embed \"HTTP/1.1 200 OK\"\n"
     ]
    },
    {
     "name": "stderr",
     "output_type": "stream",
     "text": [
      "\r",
      "Generating embeddings:  83%|██████████████████████████████████████████████████████████████████████████████████████████████████████████████████████████████████████████████████▎                             | 1600/1924 [10:08<02:03,  2.62it/s]"
     ]
    },
    {
     "name": "stdout",
     "output_type": "stream",
     "text": [
      "INFO:httpx:HTTP Request: POST http://127.0.0.1:8080/embed \"HTTP/1.1 200 OK\"\n",
      "HTTP Request: POST http://127.0.0.1:8080/embed \"HTTP/1.1 200 OK\"\n",
      "HTTP Request: POST http://127.0.0.1:8080/embed \"HTTP/1.1 200 OK\"\n",
      "HTTP Request: POST http://127.0.0.1:8080/embed \"HTTP/1.1 200 OK\"\n"
     ]
    },
    {
     "name": "stderr",
     "output_type": "stream",
     "text": [
      "\r",
      "Generating embeddings:  84%|███████████████████████████████████████████████████████████████████████████████████████████████████████████████████████████████████████████████████▎                            | 1610/1924 [10:12<02:02,  2.57it/s]"
     ]
    },
    {
     "name": "stdout",
     "output_type": "stream",
     "text": [
      "INFO:httpx:HTTP Request: POST http://127.0.0.1:8080/embed \"HTTP/1.1 200 OK\"\n",
      "HTTP Request: POST http://127.0.0.1:8080/embed \"HTTP/1.1 200 OK\"\n",
      "HTTP Request: POST http://127.0.0.1:8080/embed \"HTTP/1.1 200 OK\"\n",
      "HTTP Request: POST http://127.0.0.1:8080/embed \"HTTP/1.1 200 OK\"\n"
     ]
    },
    {
     "name": "stderr",
     "output_type": "stream",
     "text": [
      "\r",
      "Generating embeddings:  84%|████████████████████████████████████████████████████████████████████████████████████████████████████████████████████████████████████████████████████▏                           | 1620/1924 [10:16<01:58,  2.57it/s]"
     ]
    },
    {
     "name": "stdout",
     "output_type": "stream",
     "text": [
      "INFO:httpx:HTTP Request: POST http://127.0.0.1:8080/embed \"HTTP/1.1 200 OK\"\n",
      "HTTP Request: POST http://127.0.0.1:8080/embed \"HTTP/1.1 200 OK\"\n",
      "HTTP Request: POST http://127.0.0.1:8080/embed \"HTTP/1.1 200 OK\"\n",
      "HTTP Request: POST http://127.0.0.1:8080/embed \"HTTP/1.1 200 OK\"\n"
     ]
    },
    {
     "name": "stderr",
     "output_type": "stream",
     "text": [
      "\r",
      "Generating embeddings:  85%|█████████████████████████████████████████████████████████████████████████████████████████████████████████████████████████████████████████████████████                           | 1630/1924 [10:19<01:50,  2.66it/s]"
     ]
    },
    {
     "name": "stdout",
     "output_type": "stream",
     "text": [
      "INFO:httpx:HTTP Request: POST http://127.0.0.1:8080/embed \"HTTP/1.1 200 OK\"\n",
      "HTTP Request: POST http://127.0.0.1:8080/embed \"HTTP/1.1 200 OK\"\n",
      "HTTP Request: POST http://127.0.0.1:8080/embed \"HTTP/1.1 200 OK\"\n",
      "HTTP Request: POST http://127.0.0.1:8080/embed \"HTTP/1.1 200 OK\"\n"
     ]
    },
    {
     "name": "stderr",
     "output_type": "stream",
     "text": [
      "\r",
      "Generating embeddings:  85%|██████████████████████████████████████████████████████████████████████████████████████████████████████████████████████████████████████████████████████                          | 1640/1924 [10:23<01:46,  2.67it/s]"
     ]
    },
    {
     "name": "stdout",
     "output_type": "stream",
     "text": [
      "INFO:httpx:HTTP Request: POST http://127.0.0.1:8080/embed \"HTTP/1.1 200 OK\"\n",
      "HTTP Request: POST http://127.0.0.1:8080/embed \"HTTP/1.1 200 OK\"\n",
      "HTTP Request: POST http://127.0.0.1:8080/embed \"HTTP/1.1 200 OK\"\n",
      "HTTP Request: POST http://127.0.0.1:8080/embed \"HTTP/1.1 200 OK\"\n"
     ]
    },
    {
     "name": "stderr",
     "output_type": "stream",
     "text": [
      "\r",
      "Generating embeddings:  86%|██████████████████████████████████████████████████████████████████████████████████████████████████████████████████████████████████████████████████████▉                         | 1650/1924 [10:27<01:44,  2.63it/s]"
     ]
    },
    {
     "name": "stdout",
     "output_type": "stream",
     "text": [
      "INFO:httpx:HTTP Request: POST http://127.0.0.1:8080/embed \"HTTP/1.1 200 OK\"\n",
      "HTTP Request: POST http://127.0.0.1:8080/embed \"HTTP/1.1 200 OK\"\n",
      "HTTP Request: POST http://127.0.0.1:8080/embed \"HTTP/1.1 200 OK\"\n",
      "HTTP Request: POST http://127.0.0.1:8080/embed \"HTTP/1.1 200 OK\"\n"
     ]
    },
    {
     "name": "stderr",
     "output_type": "stream",
     "text": [
      "\r",
      "Generating embeddings:  86%|███████████████████████████████████████████████████████████████████████████████████████████████████████████████████████████████████████████████████████▊                        | 1660/1924 [10:31<01:41,  2.61it/s]"
     ]
    },
    {
     "name": "stdout",
     "output_type": "stream",
     "text": [
      "INFO:httpx:HTTP Request: POST http://127.0.0.1:8080/embed \"HTTP/1.1 200 OK\"\n",
      "HTTP Request: POST http://127.0.0.1:8080/embed \"HTTP/1.1 200 OK\"\n",
      "HTTP Request: POST http://127.0.0.1:8080/embed \"HTTP/1.1 200 OK\"\n",
      "HTTP Request: POST http://127.0.0.1:8080/embed \"HTTP/1.1 200 OK\"\n"
     ]
    },
    {
     "name": "stderr",
     "output_type": "stream",
     "text": [
      "\r",
      "Generating embeddings:  87%|████████████████████████████████████████████████████████████████████████████████████████████████████████████████████████████████████████████████████████▊                       | 1670/1924 [10:34<01:36,  2.62it/s]"
     ]
    },
    {
     "name": "stdout",
     "output_type": "stream",
     "text": [
      "INFO:httpx:HTTP Request: POST http://127.0.0.1:8080/embed \"HTTP/1.1 200 OK\"\n",
      "HTTP Request: POST http://127.0.0.1:8080/embed \"HTTP/1.1 200 OK\"\n",
      "HTTP Request: POST http://127.0.0.1:8080/embed \"HTTP/1.1 200 OK\"\n",
      "HTTP Request: POST http://127.0.0.1:8080/embed \"HTTP/1.1 200 OK\"\n"
     ]
    },
    {
     "name": "stderr",
     "output_type": "stream",
     "text": [
      "\r",
      "Generating embeddings:  87%|█████████████████████████████████████████████████████████████████████████████████████████████████████████████████████████████████████████████████████████▋                      | 1680/1924 [10:38<01:31,  2.65it/s]"
     ]
    },
    {
     "name": "stdout",
     "output_type": "stream",
     "text": [
      "INFO:httpx:HTTP Request: POST http://127.0.0.1:8080/embed \"HTTP/1.1 200 OK\"\n",
      "HTTP Request: POST http://127.0.0.1:8080/embed \"HTTP/1.1 200 OK\"\n",
      "HTTP Request: POST http://127.0.0.1:8080/embed \"HTTP/1.1 200 OK\"\n",
      "HTTP Request: POST http://127.0.0.1:8080/embed \"HTTP/1.1 200 OK\"\n"
     ]
    },
    {
     "name": "stderr",
     "output_type": "stream",
     "text": [
      "\r",
      "Generating embeddings:  88%|██████████████████████████████████████████████████████████████████████████████████████████████████████████████████████████████████████████████████████████▌                     | 1690/1924 [10:42<01:27,  2.67it/s]"
     ]
    },
    {
     "name": "stdout",
     "output_type": "stream",
     "text": [
      "INFO:httpx:HTTP Request: POST http://127.0.0.1:8080/embed \"HTTP/1.1 200 OK\"\n",
      "HTTP Request: POST http://127.0.0.1:8080/embed \"HTTP/1.1 200 OK\"\n",
      "HTTP Request: POST http://127.0.0.1:8080/embed \"HTTP/1.1 200 OK\"\n",
      "HTTP Request: POST http://127.0.0.1:8080/embed \"HTTP/1.1 200 OK\"\n"
     ]
    },
    {
     "name": "stderr",
     "output_type": "stream",
     "text": [
      "\r",
      "Generating embeddings:  88%|███████████████████████████████████████████████████████████████████████████████████████████████████████████████████████████████████████████████████████████▌                    | 1700/1924 [10:45<01:23,  2.69it/s]"
     ]
    },
    {
     "name": "stdout",
     "output_type": "stream",
     "text": [
      "INFO:httpx:HTTP Request: POST http://127.0.0.1:8080/embed \"HTTP/1.1 200 OK\"\n",
      "HTTP Request: POST http://127.0.0.1:8080/embed \"HTTP/1.1 200 OK\"\n",
      "HTTP Request: POST http://127.0.0.1:8080/embed \"HTTP/1.1 200 OK\"\n",
      "HTTP Request: POST http://127.0.0.1:8080/embed \"HTTP/1.1 200 OK\"\n"
     ]
    },
    {
     "name": "stderr",
     "output_type": "stream",
     "text": [
      "\r",
      "Generating embeddings:  89%|████████████████████████████████████████████████████████████████████████████████████████████████████████████████████████████████████████████████████████████▍                   | 1710/1924 [10:49<01:20,  2.65it/s]"
     ]
    },
    {
     "name": "stdout",
     "output_type": "stream",
     "text": [
      "INFO:httpx:HTTP Request: POST http://127.0.0.1:8080/embed \"HTTP/1.1 200 OK\"\n",
      "HTTP Request: POST http://127.0.0.1:8080/embed \"HTTP/1.1 200 OK\"\n",
      "HTTP Request: POST http://127.0.0.1:8080/embed \"HTTP/1.1 200 OK\"\n",
      "HTTP Request: POST http://127.0.0.1:8080/embed \"HTTP/1.1 200 OK\"\n"
     ]
    },
    {
     "name": "stderr",
     "output_type": "stream",
     "text": [
      "\r",
      "Generating embeddings:  89%|█████████████████████████████████████████████████████████████████████████████████████████████████████████████████████████████████████████████████████████████▎                  | 1720/1924 [10:53<01:17,  2.65it/s]"
     ]
    },
    {
     "name": "stdout",
     "output_type": "stream",
     "text": [
      "INFO:httpx:HTTP Request: POST http://127.0.0.1:8080/embed \"HTTP/1.1 200 OK\"\n",
      "HTTP Request: POST http://127.0.0.1:8080/embed \"HTTP/1.1 200 OK\"\n",
      "HTTP Request: POST http://127.0.0.1:8080/embed \"HTTP/1.1 200 OK\"\n",
      "HTTP Request: POST http://127.0.0.1:8080/embed \"HTTP/1.1 200 OK\"\n"
     ]
    },
    {
     "name": "stderr",
     "output_type": "stream",
     "text": [
      "\r",
      "Generating embeddings:  90%|██████████████████████████████████████████████████████████████████████████████████████████████████████████████████████████████████████████████████████████████▎                 | 1730/1924 [10:57<01:12,  2.66it/s]"
     ]
    },
    {
     "name": "stdout",
     "output_type": "stream",
     "text": [
      "INFO:httpx:HTTP Request: POST http://127.0.0.1:8080/embed \"HTTP/1.1 200 OK\"\n",
      "HTTP Request: POST http://127.0.0.1:8080/embed \"HTTP/1.1 200 OK\"\n",
      "HTTP Request: POST http://127.0.0.1:8080/embed \"HTTP/1.1 200 OK\"\n",
      "HTTP Request: POST http://127.0.0.1:8080/embed \"HTTP/1.1 200 OK\"\n"
     ]
    },
    {
     "name": "stderr",
     "output_type": "stream",
     "text": [
      "\r",
      "Generating embeddings:  90%|███████████████████████████████████████████████████████████████████████████████████████████████████████████████████████████████████████████████████████████████▏                | 1740/1924 [11:00<01:08,  2.68it/s]"
     ]
    },
    {
     "name": "stdout",
     "output_type": "stream",
     "text": [
      "INFO:httpx:HTTP Request: POST http://127.0.0.1:8080/embed \"HTTP/1.1 200 OK\"\n",
      "HTTP Request: POST http://127.0.0.1:8080/embed \"HTTP/1.1 200 OK\"\n",
      "HTTP Request: POST http://127.0.0.1:8080/embed \"HTTP/1.1 200 OK\"\n",
      "HTTP Request: POST http://127.0.0.1:8080/embed \"HTTP/1.1 200 OK\"\n"
     ]
    },
    {
     "name": "stderr",
     "output_type": "stream",
     "text": [
      "\r",
      "Generating embeddings:  91%|████████████████████████████████████████████████████████████████████████████████████████████████████████████████████████████████████████████████████████████████                | 1750/1924 [11:04<01:03,  2.73it/s]"
     ]
    },
    {
     "name": "stdout",
     "output_type": "stream",
     "text": [
      "INFO:httpx:HTTP Request: POST http://127.0.0.1:8080/embed \"HTTP/1.1 200 OK\"\n",
      "HTTP Request: POST http://127.0.0.1:8080/embed \"HTTP/1.1 200 OK\"\n",
      "HTTP Request: POST http://127.0.0.1:8080/embed \"HTTP/1.1 200 OK\"\n",
      "HTTP Request: POST http://127.0.0.1:8080/embed \"HTTP/1.1 200 OK\"\n"
     ]
    },
    {
     "name": "stderr",
     "output_type": "stream",
     "text": [
      "\r",
      "Generating embeddings:  91%|████████████████████████████████████████████████████████████████████████████████████████████████████████████████████████████████████████████████████████████████▉               | 1760/1924 [11:08<01:00,  2.71it/s]"
     ]
    },
    {
     "name": "stdout",
     "output_type": "stream",
     "text": [
      "INFO:httpx:HTTP Request: POST http://127.0.0.1:8080/embed \"HTTP/1.1 200 OK\"\n",
      "HTTP Request: POST http://127.0.0.1:8080/embed \"HTTP/1.1 200 OK\"\n",
      "HTTP Request: POST http://127.0.0.1:8080/embed \"HTTP/1.1 200 OK\"\n",
      "HTTP Request: POST http://127.0.0.1:8080/embed \"HTTP/1.1 200 OK\"\n"
     ]
    },
    {
     "name": "stderr",
     "output_type": "stream",
     "text": [
      "\r",
      "Generating embeddings:  92%|█████████████████████████████████████████████████████████████████████████████████████████████████████████████████████████████████████████████████████████████████▉              | 1770/1924 [11:12<00:57,  2.69it/s]"
     ]
    },
    {
     "name": "stdout",
     "output_type": "stream",
     "text": [
      "INFO:httpx:HTTP Request: POST http://127.0.0.1:8080/embed \"HTTP/1.1 200 OK\"\n",
      "HTTP Request: POST http://127.0.0.1:8080/embed \"HTTP/1.1 200 OK\"\n",
      "HTTP Request: POST http://127.0.0.1:8080/embed \"HTTP/1.1 200 OK\"\n",
      "HTTP Request: POST http://127.0.0.1:8080/embed \"HTTP/1.1 200 OK\"\n"
     ]
    },
    {
     "name": "stderr",
     "output_type": "stream",
     "text": [
      "\r",
      "Generating embeddings:  93%|██████████████████████████████████████████████████████████████████████████████████████████████████████████████████████████████████████████████████████████████████▊             | 1780/1924 [11:15<00:52,  2.75it/s]"
     ]
    },
    {
     "name": "stdout",
     "output_type": "stream",
     "text": [
      "INFO:httpx:HTTP Request: POST http://127.0.0.1:8080/embed \"HTTP/1.1 200 OK\"\n",
      "HTTP Request: POST http://127.0.0.1:8080/embed \"HTTP/1.1 200 OK\"\n",
      "HTTP Request: POST http://127.0.0.1:8080/embed \"HTTP/1.1 200 OK\"\n",
      "HTTP Request: POST http://127.0.0.1:8080/embed \"HTTP/1.1 200 OK\"\n"
     ]
    },
    {
     "name": "stderr",
     "output_type": "stream",
     "text": [
      "\r",
      "Generating embeddings:  93%|███████████████████████████████████████████████████████████████████████████████████████████████████████████████████████████████████████████████████████████████████▋            | 1790/1924 [11:19<00:49,  2.69it/s]"
     ]
    },
    {
     "name": "stdout",
     "output_type": "stream",
     "text": [
      "INFO:httpx:HTTP Request: POST http://127.0.0.1:8080/embed \"HTTP/1.1 200 OK\"\n",
      "HTTP Request: POST http://127.0.0.1:8080/embed \"HTTP/1.1 200 OK\"\n",
      "HTTP Request: POST http://127.0.0.1:8080/embed \"HTTP/1.1 200 OK\"\n",
      "HTTP Request: POST http://127.0.0.1:8080/embed \"HTTP/1.1 200 OK\"\n"
     ]
    },
    {
     "name": "stderr",
     "output_type": "stream",
     "text": [
      "\r",
      "Generating embeddings:  94%|████████████████████████████████████████████████████████████████████████████████████████████████████████████████████████████████████████████████████████████████████▋           | 1800/1924 [11:22<00:44,  2.76it/s]"
     ]
    },
    {
     "name": "stdout",
     "output_type": "stream",
     "text": [
      "INFO:httpx:HTTP Request: POST http://127.0.0.1:8080/embed \"HTTP/1.1 200 OK\"\n",
      "HTTP Request: POST http://127.0.0.1:8080/embed \"HTTP/1.1 200 OK\"\n",
      "HTTP Request: POST http://127.0.0.1:8080/embed \"HTTP/1.1 200 OK\"\n",
      "HTTP Request: POST http://127.0.0.1:8080/embed \"HTTP/1.1 200 OK\"\n"
     ]
    },
    {
     "name": "stderr",
     "output_type": "stream",
     "text": [
      "\r",
      "Generating embeddings:  94%|█████████████████████████████████████████████████████████████████████████████████████████████████████████████████████████████████████████████████████████████████████▌          | 1810/1924 [11:26<00:41,  2.73it/s]"
     ]
    },
    {
     "name": "stdout",
     "output_type": "stream",
     "text": [
      "INFO:httpx:HTTP Request: POST http://127.0.0.1:8080/embed \"HTTP/1.1 200 OK\"\n",
      "HTTP Request: POST http://127.0.0.1:8080/embed \"HTTP/1.1 200 OK\"\n",
      "HTTP Request: POST http://127.0.0.1:8080/embed \"HTTP/1.1 200 OK\"\n",
      "HTTP Request: POST http://127.0.0.1:8080/embed \"HTTP/1.1 200 OK\"\n"
     ]
    },
    {
     "name": "stderr",
     "output_type": "stream",
     "text": [
      "\r",
      "Generating embeddings:  95%|██████████████████████████████████████████████████████████████████████████████████████████████████████████████████████████████████████████████████████████████████████▍         | 1820/1924 [11:30<00:38,  2.73it/s]"
     ]
    },
    {
     "name": "stdout",
     "output_type": "stream",
     "text": [
      "INFO:httpx:HTTP Request: POST http://127.0.0.1:8080/embed \"HTTP/1.1 200 OK\"\n",
      "HTTP Request: POST http://127.0.0.1:8080/embed \"HTTP/1.1 200 OK\"\n",
      "HTTP Request: POST http://127.0.0.1:8080/embed \"HTTP/1.1 200 OK\"\n",
      "HTTP Request: POST http://127.0.0.1:8080/embed \"HTTP/1.1 200 OK\"\n"
     ]
    },
    {
     "name": "stderr",
     "output_type": "stream",
     "text": [
      "\r",
      "Generating embeddings:  95%|███████████████████████████████████████████████████████████████████████████████████████████████████████████████████████████████████████████████████████████████████████▍        | 1830/1924 [11:33<00:34,  2.73it/s]"
     ]
    },
    {
     "name": "stdout",
     "output_type": "stream",
     "text": [
      "INFO:httpx:HTTP Request: POST http://127.0.0.1:8080/embed \"HTTP/1.1 200 OK\"\n",
      "HTTP Request: POST http://127.0.0.1:8080/embed \"HTTP/1.1 200 OK\"\n",
      "HTTP Request: POST http://127.0.0.1:8080/embed \"HTTP/1.1 200 OK\"\n",
      "HTTP Request: POST http://127.0.0.1:8080/embed \"HTTP/1.1 200 OK\"\n"
     ]
    },
    {
     "name": "stderr",
     "output_type": "stream",
     "text": [
      "\r",
      "Generating embeddings:  96%|████████████████████████████████████████████████████████████████████████████████████████████████████████████████████████████████████████████████████████████████████████▎       | 1840/1924 [11:37<00:31,  2.65it/s]"
     ]
    },
    {
     "name": "stdout",
     "output_type": "stream",
     "text": [
      "INFO:httpx:HTTP Request: POST http://127.0.0.1:8080/embed \"HTTP/1.1 200 OK\"\n",
      "HTTP Request: POST http://127.0.0.1:8080/embed \"HTTP/1.1 200 OK\"\n",
      "HTTP Request: POST http://127.0.0.1:8080/embed \"HTTP/1.1 200 OK\"\n",
      "HTTP Request: POST http://127.0.0.1:8080/embed \"HTTP/1.1 200 OK\"\n"
     ]
    },
    {
     "name": "stderr",
     "output_type": "stream",
     "text": [
      "\r",
      "Generating embeddings:  96%|█████████████████████████████████████████████████████████████████████████████████████████████████████████████████████████████████████████████████████████████████████████▏      | 1850/1924 [11:41<00:27,  2.67it/s]"
     ]
    },
    {
     "name": "stdout",
     "output_type": "stream",
     "text": [
      "INFO:httpx:HTTP Request: POST http://127.0.0.1:8080/embed \"HTTP/1.1 200 OK\"\n",
      "HTTP Request: POST http://127.0.0.1:8080/embed \"HTTP/1.1 200 OK\"\n",
      "HTTP Request: POST http://127.0.0.1:8080/embed \"HTTP/1.1 200 OK\"\n",
      "HTTP Request: POST http://127.0.0.1:8080/embed \"HTTP/1.1 200 OK\"\n"
     ]
    },
    {
     "name": "stderr",
     "output_type": "stream",
     "text": [
      "\r",
      "Generating embeddings:  97%|██████████████████████████████████████████████████████████████████████████████████████████████████████████████████████████████████████████████████████████████████████████▏     | 1860/1924 [11:45<00:23,  2.70it/s]"
     ]
    },
    {
     "name": "stdout",
     "output_type": "stream",
     "text": [
      "INFO:httpx:HTTP Request: POST http://127.0.0.1:8080/embed \"HTTP/1.1 200 OK\"\n",
      "HTTP Request: POST http://127.0.0.1:8080/embed \"HTTP/1.1 200 OK\"\n",
      "HTTP Request: POST http://127.0.0.1:8080/embed \"HTTP/1.1 200 OK\"\n",
      "HTTP Request: POST http://127.0.0.1:8080/embed \"HTTP/1.1 200 OK\"\n"
     ]
    },
    {
     "name": "stderr",
     "output_type": "stream",
     "text": [
      "\r",
      "Generating embeddings:  97%|███████████████████████████████████████████████████████████████████████████████████████████████████████████████████████████████████████████████████████████████████████████     | 1870/1924 [11:49<00:20,  2.68it/s]"
     ]
    },
    {
     "name": "stdout",
     "output_type": "stream",
     "text": [
      "INFO:httpx:HTTP Request: POST http://127.0.0.1:8080/embed \"HTTP/1.1 200 OK\"\n",
      "HTTP Request: POST http://127.0.0.1:8080/embed \"HTTP/1.1 200 OK\"\n",
      "HTTP Request: POST http://127.0.0.1:8080/embed \"HTTP/1.1 200 OK\"\n",
      "HTTP Request: POST http://127.0.0.1:8080/embed \"HTTP/1.1 200 OK\"\n"
     ]
    },
    {
     "name": "stderr",
     "output_type": "stream",
     "text": [
      "\r",
      "Generating embeddings:  98%|███████████████████████████████████████████████████████████████████████████████████████████████████████████████████████████████████████████████████████████████████████████▉    | 1880/1924 [11:52<00:16,  2.66it/s]"
     ]
    },
    {
     "name": "stdout",
     "output_type": "stream",
     "text": [
      "INFO:httpx:HTTP Request: POST http://127.0.0.1:8080/embed \"HTTP/1.1 200 OK\"\n",
      "HTTP Request: POST http://127.0.0.1:8080/embed \"HTTP/1.1 200 OK\"\n",
      "HTTP Request: POST http://127.0.0.1:8080/embed \"HTTP/1.1 200 OK\"\n",
      "HTTP Request: POST http://127.0.0.1:8080/embed \"HTTP/1.1 200 OK\"\n"
     ]
    },
    {
     "name": "stderr",
     "output_type": "stream",
     "text": [
      "\r",
      "Generating embeddings:  98%|████████████████████████████████████████████████████████████████████████████████████████████████████████████████████████████████████████████████████████████████████████████▉   | 1890/1924 [11:56<00:12,  2.69it/s]"
     ]
    },
    {
     "name": "stdout",
     "output_type": "stream",
     "text": [
      "INFO:httpx:HTTP Request: POST http://127.0.0.1:8080/embed \"HTTP/1.1 200 OK\"\n",
      "HTTP Request: POST http://127.0.0.1:8080/embed \"HTTP/1.1 200 OK\"\n",
      "HTTP Request: POST http://127.0.0.1:8080/embed \"HTTP/1.1 200 OK\"\n",
      "HTTP Request: POST http://127.0.0.1:8080/embed \"HTTP/1.1 200 OK\"\n"
     ]
    },
    {
     "name": "stderr",
     "output_type": "stream",
     "text": [
      "\r",
      "Generating embeddings:  99%|█████████████████████████████████████████████████████████████████████████████████████████████████████████████████████████████████████████████████████████████████████████████▊  | 1900/1924 [12:00<00:09,  2.63it/s]"
     ]
    },
    {
     "name": "stdout",
     "output_type": "stream",
     "text": [
      "INFO:httpx:HTTP Request: POST http://127.0.0.1:8080/embed \"HTTP/1.1 200 OK\"\n",
      "HTTP Request: POST http://127.0.0.1:8080/embed \"HTTP/1.1 200 OK\"\n",
      "HTTP Request: POST http://127.0.0.1:8080/embed \"HTTP/1.1 200 OK\"\n",
      "HTTP Request: POST http://127.0.0.1:8080/embed \"HTTP/1.1 200 OK\"\n"
     ]
    },
    {
     "name": "stderr",
     "output_type": "stream",
     "text": [
      "\r",
      "Generating embeddings:  99%|██████████████████████████████████████████████████████████████████████████████████████████████████████████████████████████████████████████████████████████████████████████████▋ | 1910/1924 [12:04<00:05,  2.66it/s]"
     ]
    },
    {
     "name": "stdout",
     "output_type": "stream",
     "text": [
      "INFO:httpx:HTTP Request: POST http://127.0.0.1:8080/embed \"HTTP/1.1 200 OK\"\n",
      "HTTP Request: POST http://127.0.0.1:8080/embed \"HTTP/1.1 200 OK\"\n",
      "HTTP Request: POST http://127.0.0.1:8080/embed \"HTTP/1.1 200 OK\"\n",
      "HTTP Request: POST http://127.0.0.1:8080/embed \"HTTP/1.1 200 OK\"\n"
     ]
    },
    {
     "name": "stderr",
     "output_type": "stream",
     "text": [
      "\r",
      "Generating embeddings: 100%|███████████████████████████████████████████████████████████████████████████████████████████████████████████████████████████████████████████████████████████████████████████████▋| 1920/1924 [12:07<00:01,  2.70it/s]"
     ]
    },
    {
     "name": "stdout",
     "output_type": "stream",
     "text": [
      "INFO:httpx:HTTP Request: POST http://127.0.0.1:8080/embed \"HTTP/1.1 200 OK\"\n",
      "HTTP Request: POST http://127.0.0.1:8080/embed \"HTTP/1.1 200 OK\"\n",
      "HTTP Request: POST http://127.0.0.1:8080/embed \"HTTP/1.1 200 OK\"\n",
      "HTTP Request: POST http://127.0.0.1:8080/embed \"HTTP/1.1 200 OK\"\n"
     ]
    },
    {
     "name": "stderr",
     "output_type": "stream",
     "text": [
      "Generating embeddings: 100%|████████████████████████████████████████████████████████████████████████████████████████████████████████████████████████████████████████████████████████████████████████████████| 1924/1924 [12:09<00:00,  2.64it/s]\n"
     ]
    }
   ],
   "source": [
    "from llama_index import VectorStoreIndex\n",
    "\n",
    "index = VectorStoreIndex(\n",
    "    nodes=nodes,\n",
    "    service_context=service_context,\n",
    "    show_progress=True\n",
    ")"
   ]
  },
  {
   "cell_type": "markdown",
   "id": "03bc08f0",
   "metadata": {},
   "source": [
    "## first test with query engine. and create a easy test UI with gradio.\n",
    "Note that if debug=True is enbaled, it will run continuously "
   ]
  },
  {
   "cell_type": "code",
   "execution_count": 39,
   "id": "e954fa4e",
   "metadata": {},
   "outputs": [],
   "source": [
    "query_engine = index.as_query_engine()"
   ]
  },
  {
   "cell_type": "code",
   "execution_count": 38,
   "id": "3e444bf7",
   "metadata": {},
   "outputs": [
    {
     "name": "stdout",
     "output_type": "stream",
     "text": [
      "Closing server running on port: 4747\n",
      "Closing server running on port: 4747\n",
      "Running on local URL:  http://127.0.0.1:4747\n",
      "\n",
      "To create a public link, set `share=True` in `launch()`.\n"
     ]
    },
    {
     "data": {
      "text/html": [
       "<div><iframe src=\"http://127.0.0.1:4747/\" width=\"100%\" height=\"500\" allow=\"autoplay; camera; microphone; clipboard-read; clipboard-write;\" frameborder=\"0\" allowfullscreen></iframe></div>"
      ],
      "text/plain": [
       "<IPython.core.display.HTML object>"
      ]
     },
     "metadata": {},
     "output_type": "display_data"
    },
    {
     "name": "stdout",
     "output_type": "stream",
     "text": [
      "INFO:httpx:HTTP Request: POST http://127.0.0.1:8080/embed \"HTTP/1.1 200 OK\"\n",
      "HTTP Request: POST http://127.0.0.1:8080/embed \"HTTP/1.1 200 OK\"\n",
      "HTTP Request: POST http://127.0.0.1:8080/embed \"HTTP/1.1 200 OK\"\n",
      "HTTP Request: POST http://127.0.0.1:8080/embed \"HTTP/1.1 200 OK\"\n"
     ]
    },
    {
     "name": "stderr",
     "output_type": "stream",
     "text": [
      "Llama.generate: prefix-match hit\n",
      "\n",
      "llama_print_timings:        load time =  136420.82 ms\n",
      "llama_print_timings:      sample time =      29.97 ms /   134 runs   (    0.22 ms per token,  4470.69 tokens per second)\n",
      "llama_print_timings: prompt eval time =  257034.65 ms /  1481 tokens (  173.55 ms per token,     5.76 tokens per second)\n",
      "llama_print_timings:        eval time =  104101.59 ms /   133 runs   (  782.72 ms per token,     1.28 tokens per second)\n",
      "llama_print_timings:       total time =  361604.44 ms\n"
     ]
    },
    {
     "name": "stdout",
     "output_type": "stream",
     "text": [
      "Keyboard interruption in main thread... closing server.\n"
     ]
    },
    {
     "data": {
      "text/plain": []
     },
     "execution_count": 38,
     "metadata": {},
     "output_type": "execute_result"
    }
   ],
   "source": [
    "import os\n",
    "import gradio as gr\n",
    "def generate(input):\n",
    "    output = query_engine.query(input)\n",
    "    return output\n",
    "\n",
    "demo = gr.Interface(fn=generate, inputs=[gr.Textbox(label=\"Prompt\")], outputs=[gr.Textbox(label=\"Completion\")])\n",
    "gr.close_all()\n",
    "demo.launch(share=False, server_port=int(4747), debug=True)"
   ]
  },
  {
   "cell_type": "markdown",
   "id": "c9b844d5",
   "metadata": {},
   "source": [
    "## Now, we try different options like recurrsive Retriver, saving index in Redis store and neo4j graph"
   ]
  },
  {
   "cell_type": "code",
   "execution_count": 35,
   "id": "71bacd19",
   "metadata": {},
   "outputs": [],
   "source": [
    "from llama_index import (\n",
    "    KnowledgeGraphIndex,\n",
    "    LLMPredictor,\n",
    "    ServiceContext,\n",
    "    SimpleDirectoryReader,\n",
    ")\n",
    "\n",
    "from IPython.display import Markdown, display"
   ]
  },
  {
   "cell_type": "code",
   "execution_count": 41,
   "id": "1cee78af",
   "metadata": {},
   "outputs": [],
   "source": [
    "for idx, node in enumerate(nodes):\n",
    "    node.id_ = f\"node-{idx}\""
   ]
  },
  {
   "cell_type": "code",
   "execution_count": 43,
   "id": "497de078",
   "metadata": {},
   "outputs": [],
   "source": [
    "query_engine = index.as_query_engine(similarity_top_k=2)"
   ]
  },
  {
   "cell_type": "code",
   "execution_count": 44,
   "id": "406757c6",
   "metadata": {},
   "outputs": [],
   "source": [
    "base_retriever = index.as_retriever(similarity_top_k=2)"
   ]
  },
  {
   "cell_type": "code",
   "execution_count": 45,
   "id": "e2ff8802",
   "metadata": {},
   "outputs": [
    {
     "name": "stdout",
     "output_type": "stream",
     "text": [
      "INFO:httpx:HTTP Request: POST http://127.0.0.1:8080/embed \"HTTP/1.1 200 OK\"\n",
      "HTTP Request: POST http://127.0.0.1:8080/embed \"HTTP/1.1 200 OK\"\n",
      "HTTP Request: POST http://127.0.0.1:8080/embed \"HTTP/1.1 200 OK\"\n",
      "HTTP Request: POST http://127.0.0.1:8080/embed \"HTTP/1.1 200 OK\"\n"
     ]
    }
   ],
   "source": [
    "retrievals = base_retriever.retrieve(\n",
    "    \"Can you tell me about india pakistan match?\"\n",
    ")\n"
   ]
  },
  {
   "cell_type": "code",
   "execution_count": 47,
   "id": "c4b30adc",
   "metadata": {},
   "outputs": [
    {
     "data": {
      "text/markdown": [
       "**Node ID:** 587377c1-920a-4879-bc7c-f046bd821733<br>**Similarity:** 0.7316831226917937<br>**Text:** __1:32\n",
       "\n",
       "Urooj Mumtaz bemoans Pakistan's batting\n",
       "\n",
       "](/cricket-videos/urooj-mumtaz-bemoans-pakistan-batting-vs-india-1403225)\n",
       "\n",
       " _ **India** 192 for 3 (Rohit 86, Shreyas 53*) beat **Pakistan** 191 (Babar\n",
       "50, Rizwan 49, Bumrah 2-19, Kuldeep 2-35, Jadeja 2-38) by seven wickets _  \n",
       "\n",
       "The game that always promises and rarely delivers came and went once more,\n",
       "promising plenty at various stages, and ultimately delivering what a blue mass\n",
       "of humanity had come to see: a crushing India win. A stunning middle-overs\n",
       "collapse from Pakistan which had them lose eight wickets for 36 runs turned\n",
       "what should have been an enthralling run chase into a dull formality.\n",
       "\n",
       "Each India bowler played a part in their own way, five different players\n",
       "splitting the ten Pakistan wickets evenly. With Pakistan folding for 191,\n",
       "India - spearheaded by captain<br>"
      ],
      "text/plain": [
       "<IPython.core.display.Markdown object>"
      ]
     },
     "metadata": {},
     "output_type": "display_data"
    },
    {
     "data": {
      "text/markdown": [
       "**Node ID:** 8ccf46e6-a068-4956-8ab8-b5081d0a2560<br>**Similarity:** 0.7135040271385101<br>**Text:** Images\n",
       "\n",
       "__\n",
       "\n",
       "__Language\n",
       "\n",
       "English __\n",
       "\n",
       "Win Probability\n",
       "\n",
       "IND 100%\n",
       "\n",
       "PAKIND\n",
       "\n",
       "100%50%100%PAK InningsIND Innings\n",
       "\n",
       "Over 31 • IND 192/3\n",
       "\n",
       "India won by 7 wickets (with 117 balls remaining)\n",
       "\n",
       "![](https://wassets.hscicdn.com/static/images/lazyimage-noaspect.svg)Powered\n",
       "by Smart Stats\n",
       "\n",
       "Match Coverage\n",
       "\n",
       "[All Match News __](/series/icc-cricket-world-cup-2023-24-1367856/india-vs-\n",
       "pakistan-12th-match-1384403/match-news \"All Match News\")\n",
       "\n",
       "[\n",
       "\n",
       "## PCB files complaint with ICC over'inappropriate conduct by spectators' at\n",
       "India vs Pakistan game\n",
       "\n",
       "The PCB has also \"lodged another formal protest\" over delays in visas for\n",
       "Pakistani journalists and absence of a visa policy for Pakistan fans\n",
       "\n",
       "![PCB files complaint with ICC over 'inappropriate conduct by spectators' at\n",
       "India vs Pakistan<br>"
      ],
      "text/plain": [
       "<IPython.core.display.Markdown object>"
      ]
     },
     "metadata": {},
     "output_type": "display_data"
    }
   ],
   "source": [
    "from llama_index.response.notebook_utils import display_source_node\n",
    "for n in retrievals:\n",
    "    display_source_node(n, source_length=1500)"
   ]
  },
  {
   "cell_type": "code",
   "execution_count": 49,
   "id": "3a04483a",
   "metadata": {},
   "outputs": [],
   "source": [
    "from llama_index.query_engine import RetrieverQueryEngine\n",
    "query_engine_base = RetrieverQueryEngine.from_args(\n",
    "    base_retriever, service_context=service_context\n",
    ")"
   ]
  },
  {
   "cell_type": "code",
   "execution_count": 51,
   "id": "b95d4728",
   "metadata": {},
   "outputs": [
    {
     "name": "stdout",
     "output_type": "stream",
     "text": [
      "INFO:httpx:HTTP Request: POST http://127.0.0.1:8080/embed \"HTTP/1.1 200 OK\"\n",
      "HTTP Request: POST http://127.0.0.1:8080/embed \"HTTP/1.1 200 OK\"\n",
      "HTTP Request: POST http://127.0.0.1:8080/embed \"HTTP/1.1 200 OK\"\n",
      "HTTP Request: POST http://127.0.0.1:8080/embed \"HTTP/1.1 200 OK\"\n"
     ]
    },
    {
     "name": "stderr",
     "output_type": "stream",
     "text": [
      "Llama.generate: prefix-match hit\n"
     ]
    },
    {
     "name": "stdout",
     "output_type": "stream",
     "text": [
      " Of course! The most recent India-Pakistan match was played on March 22nd, 2023, at the World Cup in India. Pakistan batted first and scored 191 runs, with Babar Azam scoring 50 runs and Rizwan scoring 49 runs. In response, India scored 192 for 3, with Rohit Sharma scoring 86 runs and Shreyas Iyer scoring 53 runs. India won the match by seven wickets, with five different Indian bowlers taking five Pakistan wickets evenly. The game was a one-sided affair as Pakistan collapsed in the middle overs, losing eight wickets for 36 runs and ultimately delivering what many had come to see: a crushing India win.\n",
      "time taken {t} 90.01344418525696\n"
     ]
    },
    {
     "name": "stderr",
     "output_type": "stream",
     "text": [
      "\n",
      "llama_print_timings:        load time =  136420.82 ms\n",
      "llama_print_timings:      sample time =      29.19 ms /   174 runs   (    0.17 ms per token,  5961.97 tokens per second)\n",
      "llama_print_timings: prompt eval time =       0.00 ms /     1 tokens (    0.00 ms per token,      inf tokens per second)\n",
      "llama_print_timings:        eval time =   89054.06 ms /   174 runs   (  511.80 ms per token,     1.95 tokens per second)\n",
      "llama_print_timings:       total time =   89512.23 ms\n"
     ]
    }
   ],
   "source": [
    "import time\n",
    "\n",
    "start = time.time()\n",
    "response = query_engine_base.query(\n",
    "    \"Can you tell me about india pakistan match?\"\n",
    ")\n",
    "t = time.time() - start\n",
    "print(str(response))\n",
    "print(\"time taken {t}\", t)\n"
   ]
  },
  {
   "cell_type": "code",
   "execution_count": 82,
   "id": "f4e36656",
   "metadata": {},
   "outputs": [],
   "source": [
    "# let's make multiple chunk size. But our local embedding does not like any size more than 512 so will keep smaller.\n",
    "from llama_index.schema import IndexNode\n",
    "sub_chunk_sizes = [256]\n",
    "sub_node_parsers = [\n",
    "    SimpleNodeParser.from_defaults(chunk_size=c) for c in sub_chunk_sizes\n",
    "]\n",
    "\n",
    "all_nodes = []\n",
    "i = 0\n",
    "for base_node in nodes:\n",
    "    for n in sub_node_parsers:\n",
    "        #print(i)\n",
    "        i += 1\n",
    "        sub_nodes = n.get_nodes_from_documents([base_node])\n",
    "        sub_inodes = [\n",
    "            IndexNode.from_text_node(sn, base_node.node_id) for sn in sub_nodes\n",
    "        ]\n",
    "        all_nodes.extend(sub_inodes)\n",
    "    # also add original node to node\n",
    "    original_node = IndexNode.from_text_node(base_node, base_node.node_id)\n",
    "    #print(type(original_node))\n",
    "    all_nodes.append(original_node)"
   ]
  },
  {
   "cell_type": "code",
   "execution_count": 67,
   "id": "efce1448",
   "metadata": {},
   "outputs": [
    {
     "data": {
      "text/plain": [
       "1924"
      ]
     },
     "execution_count": 67,
     "metadata": {},
     "output_type": "execute_result"
    }
   ],
   "source": [
    "len(nodes)"
   ]
  },
  {
   "cell_type": "code",
   "execution_count": 78,
   "id": "8f0f7e73",
   "metadata": {},
   "outputs": [
    {
     "name": "stderr",
     "output_type": "stream",
     "text": [
      "\r",
      "Generating embeddings:   0%|                                                                                                                                                                                           | 0/3848 [00:00<?, ?it/s]"
     ]
    },
    {
     "name": "stdout",
     "output_type": "stream",
     "text": [
      "INFO:httpx:HTTP Request: POST http://127.0.0.1:8080/embed \"HTTP/1.1 200 OK\"\n",
      "HTTP Request: POST http://127.0.0.1:8080/embed \"HTTP/1.1 200 OK\"\n",
      "HTTP Request: POST http://127.0.0.1:8080/embed \"HTTP/1.1 200 OK\"\n",
      "HTTP Request: POST http://127.0.0.1:8080/embed \"HTTP/1.1 200 OK\"\n"
     ]
    },
    {
     "name": "stderr",
     "output_type": "stream",
     "text": [
      "\r",
      "Generating embeddings:   0%|▍                                                                                                                                                                                 | 10/3848 [00:03<23:48,  2.69it/s]"
     ]
    },
    {
     "name": "stdout",
     "output_type": "stream",
     "text": [
      "INFO:httpx:HTTP Request: POST http://127.0.0.1:8080/embed \"HTTP/1.1 200 OK\"\n",
      "HTTP Request: POST http://127.0.0.1:8080/embed \"HTTP/1.1 200 OK\"\n",
      "HTTP Request: POST http://127.0.0.1:8080/embed \"HTTP/1.1 200 OK\"\n",
      "HTTP Request: POST http://127.0.0.1:8080/embed \"HTTP/1.1 200 OK\"\n"
     ]
    },
    {
     "name": "stderr",
     "output_type": "stream",
     "text": [
      "\r",
      "Generating embeddings:   1%|▉                                                                                                                                                                                 | 20/3848 [00:07<22:56,  2.78it/s]"
     ]
    },
    {
     "name": "stdout",
     "output_type": "stream",
     "text": [
      "INFO:httpx:HTTP Request: POST http://127.0.0.1:8080/embed \"HTTP/1.1 200 OK\"\n",
      "HTTP Request: POST http://127.0.0.1:8080/embed \"HTTP/1.1 200 OK\"\n",
      "HTTP Request: POST http://127.0.0.1:8080/embed \"HTTP/1.1 200 OK\"\n",
      "HTTP Request: POST http://127.0.0.1:8080/embed \"HTTP/1.1 200 OK\"\n"
     ]
    },
    {
     "name": "stderr",
     "output_type": "stream",
     "text": [
      "\r",
      "Generating embeddings:   1%|█▍                                                                                                                                                                                | 30/3848 [00:10<22:30,  2.83it/s]"
     ]
    },
    {
     "name": "stdout",
     "output_type": "stream",
     "text": [
      "INFO:httpx:HTTP Request: POST http://127.0.0.1:8080/embed \"HTTP/1.1 200 OK\"\n",
      "HTTP Request: POST http://127.0.0.1:8080/embed \"HTTP/1.1 200 OK\"\n",
      "HTTP Request: POST http://127.0.0.1:8080/embed \"HTTP/1.1 200 OK\"\n",
      "HTTP Request: POST http://127.0.0.1:8080/embed \"HTTP/1.1 200 OK\"\n"
     ]
    },
    {
     "name": "stderr",
     "output_type": "stream",
     "text": [
      "\r",
      "Generating embeddings:   1%|█▊                                                                                                                                                                                | 40/3848 [00:14<23:06,  2.75it/s]"
     ]
    },
    {
     "name": "stdout",
     "output_type": "stream",
     "text": [
      "INFO:httpx:HTTP Request: POST http://127.0.0.1:8080/embed \"HTTP/1.1 200 OK\"\n",
      "HTTP Request: POST http://127.0.0.1:8080/embed \"HTTP/1.1 200 OK\"\n",
      "HTTP Request: POST http://127.0.0.1:8080/embed \"HTTP/1.1 200 OK\"\n",
      "HTTP Request: POST http://127.0.0.1:8080/embed \"HTTP/1.1 200 OK\"\n"
     ]
    },
    {
     "name": "stderr",
     "output_type": "stream",
     "text": [
      "\r",
      "Generating embeddings:   1%|██▎                                                                                                                                                                               | 50/3848 [00:18<23:54,  2.65it/s]"
     ]
    },
    {
     "name": "stdout",
     "output_type": "stream",
     "text": [
      "INFO:httpx:HTTP Request: POST http://127.0.0.1:8080/embed \"HTTP/1.1 200 OK\"\n",
      "HTTP Request: POST http://127.0.0.1:8080/embed \"HTTP/1.1 200 OK\"\n",
      "HTTP Request: POST http://127.0.0.1:8080/embed \"HTTP/1.1 200 OK\"\n",
      "HTTP Request: POST http://127.0.0.1:8080/embed \"HTTP/1.1 200 OK\"\n"
     ]
    },
    {
     "name": "stderr",
     "output_type": "stream",
     "text": [
      "\r",
      "Generating embeddings:   2%|██▊                                                                                                                                                                               | 60/3848 [00:22<23:35,  2.68it/s]"
     ]
    },
    {
     "name": "stdout",
     "output_type": "stream",
     "text": [
      "INFO:httpx:HTTP Request: POST http://127.0.0.1:8080/embed \"HTTP/1.1 200 OK\"\n",
      "HTTP Request: POST http://127.0.0.1:8080/embed \"HTTP/1.1 200 OK\"\n",
      "HTTP Request: POST http://127.0.0.1:8080/embed \"HTTP/1.1 200 OK\"\n",
      "HTTP Request: POST http://127.0.0.1:8080/embed \"HTTP/1.1 200 OK\"\n"
     ]
    },
    {
     "name": "stderr",
     "output_type": "stream",
     "text": [
      "\r",
      "Generating embeddings:   2%|███▏                                                                                                                                                                              | 70/3848 [00:26<23:47,  2.65it/s]"
     ]
    },
    {
     "name": "stdout",
     "output_type": "stream",
     "text": [
      "INFO:httpx:HTTP Request: POST http://127.0.0.1:8080/embed \"HTTP/1.1 200 OK\"\n",
      "HTTP Request: POST http://127.0.0.1:8080/embed \"HTTP/1.1 200 OK\"\n",
      "HTTP Request: POST http://127.0.0.1:8080/embed \"HTTP/1.1 200 OK\"\n",
      "HTTP Request: POST http://127.0.0.1:8080/embed \"HTTP/1.1 200 OK\"\n"
     ]
    },
    {
     "name": "stderr",
     "output_type": "stream",
     "text": [
      "\r",
      "Generating embeddings:   2%|███▋                                                                                                                                                                              | 80/3848 [00:29<23:02,  2.73it/s]"
     ]
    },
    {
     "name": "stdout",
     "output_type": "stream",
     "text": [
      "INFO:httpx:HTTP Request: POST http://127.0.0.1:8080/embed \"HTTP/1.1 200 OK\"\n",
      "HTTP Request: POST http://127.0.0.1:8080/embed \"HTTP/1.1 200 OK\"\n",
      "HTTP Request: POST http://127.0.0.1:8080/embed \"HTTP/1.1 200 OK\"\n",
      "HTTP Request: POST http://127.0.0.1:8080/embed \"HTTP/1.1 200 OK\"\n"
     ]
    },
    {
     "name": "stderr",
     "output_type": "stream",
     "text": [
      "\r",
      "Generating embeddings:   2%|████▏                                                                                                                                                                             | 90/3848 [00:33<22:52,  2.74it/s]"
     ]
    },
    {
     "name": "stdout",
     "output_type": "stream",
     "text": [
      "INFO:httpx:HTTP Request: POST http://127.0.0.1:8080/embed \"HTTP/1.1 200 OK\"\n",
      "HTTP Request: POST http://127.0.0.1:8080/embed \"HTTP/1.1 200 OK\"\n",
      "HTTP Request: POST http://127.0.0.1:8080/embed \"HTTP/1.1 200 OK\"\n",
      "HTTP Request: POST http://127.0.0.1:8080/embed \"HTTP/1.1 200 OK\"\n"
     ]
    },
    {
     "name": "stderr",
     "output_type": "stream",
     "text": [
      "\r",
      "Generating embeddings:   3%|████▌                                                                                                                                                                            | 100/3848 [00:36<23:13,  2.69it/s]"
     ]
    },
    {
     "name": "stdout",
     "output_type": "stream",
     "text": [
      "INFO:httpx:HTTP Request: POST http://127.0.0.1:8080/embed \"HTTP/1.1 200 OK\"\n",
      "HTTP Request: POST http://127.0.0.1:8080/embed \"HTTP/1.1 200 OK\"\n",
      "HTTP Request: POST http://127.0.0.1:8080/embed \"HTTP/1.1 200 OK\"\n",
      "HTTP Request: POST http://127.0.0.1:8080/embed \"HTTP/1.1 200 OK\"\n"
     ]
    },
    {
     "name": "stderr",
     "output_type": "stream",
     "text": [
      "\r",
      "Generating embeddings:   3%|█████                                                                                                                                                                            | 110/3848 [00:40<23:27,  2.66it/s]"
     ]
    },
    {
     "name": "stdout",
     "output_type": "stream",
     "text": [
      "INFO:httpx:HTTP Request: POST http://127.0.0.1:8080/embed \"HTTP/1.1 200 OK\"\n",
      "HTTP Request: POST http://127.0.0.1:8080/embed \"HTTP/1.1 200 OK\"\n",
      "HTTP Request: POST http://127.0.0.1:8080/embed \"HTTP/1.1 200 OK\"\n",
      "HTTP Request: POST http://127.0.0.1:8080/embed \"HTTP/1.1 200 OK\"\n"
     ]
    },
    {
     "name": "stderr",
     "output_type": "stream",
     "text": [
      "\r",
      "Generating embeddings:   3%|█████▌                                                                                                                                                                           | 120/3848 [00:44<22:44,  2.73it/s]"
     ]
    },
    {
     "name": "stdout",
     "output_type": "stream",
     "text": [
      "INFO:httpx:HTTP Request: POST http://127.0.0.1:8080/embed \"HTTP/1.1 200 OK\"\n",
      "HTTP Request: POST http://127.0.0.1:8080/embed \"HTTP/1.1 200 OK\"\n",
      "HTTP Request: POST http://127.0.0.1:8080/embed \"HTTP/1.1 200 OK\"\n",
      "HTTP Request: POST http://127.0.0.1:8080/embed \"HTTP/1.1 200 OK\"\n"
     ]
    },
    {
     "name": "stderr",
     "output_type": "stream",
     "text": [
      "\r",
      "Generating embeddings:   3%|█████▉                                                                                                                                                                           | 130/3848 [00:47<22:28,  2.76it/s]"
     ]
    },
    {
     "name": "stdout",
     "output_type": "stream",
     "text": [
      "INFO:httpx:HTTP Request: POST http://127.0.0.1:8080/embed \"HTTP/1.1 200 OK\"\n",
      "HTTP Request: POST http://127.0.0.1:8080/embed \"HTTP/1.1 200 OK\"\n",
      "HTTP Request: POST http://127.0.0.1:8080/embed \"HTTP/1.1 200 OK\"\n",
      "HTTP Request: POST http://127.0.0.1:8080/embed \"HTTP/1.1 200 OK\"\n"
     ]
    },
    {
     "name": "stderr",
     "output_type": "stream",
     "text": [
      "\r",
      "Generating embeddings:   4%|██████▍                                                                                                                                                                          | 140/3848 [00:51<22:37,  2.73it/s]"
     ]
    },
    {
     "name": "stdout",
     "output_type": "stream",
     "text": [
      "INFO:httpx:HTTP Request: POST http://127.0.0.1:8080/embed \"HTTP/1.1 200 OK\"\n",
      "HTTP Request: POST http://127.0.0.1:8080/embed \"HTTP/1.1 200 OK\"\n",
      "HTTP Request: POST http://127.0.0.1:8080/embed \"HTTP/1.1 200 OK\"\n",
      "HTTP Request: POST http://127.0.0.1:8080/embed \"HTTP/1.1 200 OK\"\n"
     ]
    },
    {
     "name": "stderr",
     "output_type": "stream",
     "text": [
      "\r",
      "Generating embeddings:   4%|██████▉                                                                                                                                                                          | 150/3848 [00:55<22:53,  2.69it/s]"
     ]
    },
    {
     "name": "stdout",
     "output_type": "stream",
     "text": [
      "INFO:httpx:HTTP Request: POST http://127.0.0.1:8080/embed \"HTTP/1.1 200 OK\"\n",
      "HTTP Request: POST http://127.0.0.1:8080/embed \"HTTP/1.1 200 OK\"\n",
      "HTTP Request: POST http://127.0.0.1:8080/embed \"HTTP/1.1 200 OK\"\n",
      "HTTP Request: POST http://127.0.0.1:8080/embed \"HTTP/1.1 200 OK\"\n"
     ]
    },
    {
     "name": "stderr",
     "output_type": "stream",
     "text": [
      "\r",
      "Generating embeddings:   4%|███████▎                                                                                                                                                                         | 160/3848 [00:59<23:17,  2.64it/s]"
     ]
    },
    {
     "name": "stdout",
     "output_type": "stream",
     "text": [
      "INFO:httpx:HTTP Request: POST http://127.0.0.1:8080/embed \"HTTP/1.1 200 OK\"\n",
      "HTTP Request: POST http://127.0.0.1:8080/embed \"HTTP/1.1 200 OK\"\n",
      "HTTP Request: POST http://127.0.0.1:8080/embed \"HTTP/1.1 200 OK\"\n",
      "HTTP Request: POST http://127.0.0.1:8080/embed \"HTTP/1.1 200 OK\"\n"
     ]
    },
    {
     "name": "stderr",
     "output_type": "stream",
     "text": [
      "\r",
      "Generating embeddings:   4%|███████▊                                                                                                                                                                         | 170/3848 [01:02<22:55,  2.67it/s]"
     ]
    },
    {
     "name": "stdout",
     "output_type": "stream",
     "text": [
      "INFO:httpx:HTTP Request: POST http://127.0.0.1:8080/embed \"HTTP/1.1 200 OK\"\n",
      "HTTP Request: POST http://127.0.0.1:8080/embed \"HTTP/1.1 200 OK\"\n",
      "HTTP Request: POST http://127.0.0.1:8080/embed \"HTTP/1.1 200 OK\"\n",
      "HTTP Request: POST http://127.0.0.1:8080/embed \"HTTP/1.1 200 OK\"\n"
     ]
    },
    {
     "name": "stderr",
     "output_type": "stream",
     "text": [
      "\r",
      "Generating embeddings:   5%|████████▎                                                                                                                                                                        | 180/3848 [01:06<22:31,  2.71it/s]"
     ]
    },
    {
     "name": "stdout",
     "output_type": "stream",
     "text": [
      "INFO:httpx:HTTP Request: POST http://127.0.0.1:8080/embed \"HTTP/1.1 200 OK\"\n",
      "HTTP Request: POST http://127.0.0.1:8080/embed \"HTTP/1.1 200 OK\"\n",
      "HTTP Request: POST http://127.0.0.1:8080/embed \"HTTP/1.1 200 OK\"\n",
      "HTTP Request: POST http://127.0.0.1:8080/embed \"HTTP/1.1 200 OK\"\n"
     ]
    },
    {
     "name": "stderr",
     "output_type": "stream",
     "text": [
      "\r",
      "Generating embeddings:   5%|████████▋                                                                                                                                                                        | 190/3848 [01:10<22:47,  2.67it/s]"
     ]
    },
    {
     "name": "stdout",
     "output_type": "stream",
     "text": [
      "INFO:httpx:HTTP Request: POST http://127.0.0.1:8080/embed \"HTTP/1.1 200 OK\"\n",
      "HTTP Request: POST http://127.0.0.1:8080/embed \"HTTP/1.1 200 OK\"\n",
      "HTTP Request: POST http://127.0.0.1:8080/embed \"HTTP/1.1 200 OK\"\n",
      "HTTP Request: POST http://127.0.0.1:8080/embed \"HTTP/1.1 200 OK\"\n"
     ]
    },
    {
     "name": "stderr",
     "output_type": "stream",
     "text": [
      "\r",
      "Generating embeddings:   5%|█████████▏                                                                                                                                                                       | 200/3848 [01:15<24:53,  2.44it/s]"
     ]
    },
    {
     "name": "stdout",
     "output_type": "stream",
     "text": [
      "INFO:httpx:HTTP Request: POST http://127.0.0.1:8080/embed \"HTTP/1.1 200 OK\"\n",
      "HTTP Request: POST http://127.0.0.1:8080/embed \"HTTP/1.1 200 OK\"\n",
      "HTTP Request: POST http://127.0.0.1:8080/embed \"HTTP/1.1 200 OK\"\n",
      "HTTP Request: POST http://127.0.0.1:8080/embed \"HTTP/1.1 200 OK\"\n"
     ]
    },
    {
     "name": "stderr",
     "output_type": "stream",
     "text": [
      "\r",
      "Generating embeddings:   5%|█████████▋                                                                                                                                                                       | 210/3848 [01:19<25:20,  2.39it/s]"
     ]
    },
    {
     "name": "stdout",
     "output_type": "stream",
     "text": [
      "INFO:httpx:HTTP Request: POST http://127.0.0.1:8080/embed \"HTTP/1.1 200 OK\"\n",
      "HTTP Request: POST http://127.0.0.1:8080/embed \"HTTP/1.1 200 OK\"\n",
      "HTTP Request: POST http://127.0.0.1:8080/embed \"HTTP/1.1 200 OK\"\n",
      "HTTP Request: POST http://127.0.0.1:8080/embed \"HTTP/1.1 200 OK\"\n"
     ]
    },
    {
     "name": "stderr",
     "output_type": "stream",
     "text": [
      "\r",
      "Generating embeddings:   6%|██████████                                                                                                                                                                       | 220/3848 [01:25<28:09,  2.15it/s]"
     ]
    },
    {
     "name": "stdout",
     "output_type": "stream",
     "text": [
      "INFO:httpx:HTTP Request: POST http://127.0.0.1:8080/embed \"HTTP/1.1 200 OK\"\n",
      "HTTP Request: POST http://127.0.0.1:8080/embed \"HTTP/1.1 200 OK\"\n",
      "HTTP Request: POST http://127.0.0.1:8080/embed \"HTTP/1.1 200 OK\"\n",
      "HTTP Request: POST http://127.0.0.1:8080/embed \"HTTP/1.1 200 OK\"\n"
     ]
    },
    {
     "name": "stderr",
     "output_type": "stream",
     "text": [
      "\r",
      "Generating embeddings:   6%|██████████▌                                                                                                                                                                      | 230/3848 [01:29<27:39,  2.18it/s]"
     ]
    },
    {
     "name": "stdout",
     "output_type": "stream",
     "text": [
      "INFO:httpx:HTTP Request: POST http://127.0.0.1:8080/embed \"HTTP/1.1 200 OK\"\n",
      "HTTP Request: POST http://127.0.0.1:8080/embed \"HTTP/1.1 200 OK\"\n",
      "HTTP Request: POST http://127.0.0.1:8080/embed \"HTTP/1.1 200 OK\"\n",
      "HTTP Request: POST http://127.0.0.1:8080/embed \"HTTP/1.1 200 OK\"\n"
     ]
    },
    {
     "name": "stderr",
     "output_type": "stream",
     "text": [
      "\r",
      "Generating embeddings:   6%|███████████                                                                                                                                                                      | 240/3848 [01:34<28:31,  2.11it/s]"
     ]
    },
    {
     "name": "stdout",
     "output_type": "stream",
     "text": [
      "INFO:httpx:HTTP Request: POST http://127.0.0.1:8080/embed \"HTTP/1.1 200 OK\"\n",
      "HTTP Request: POST http://127.0.0.1:8080/embed \"HTTP/1.1 200 OK\"\n",
      "HTTP Request: POST http://127.0.0.1:8080/embed \"HTTP/1.1 200 OK\"\n",
      "HTTP Request: POST http://127.0.0.1:8080/embed \"HTTP/1.1 200 OK\"\n"
     ]
    },
    {
     "name": "stderr",
     "output_type": "stream",
     "text": [
      "\r",
      "Generating embeddings:   6%|███████████▍                                                                                                                                                                     | 250/3848 [01:39<27:10,  2.21it/s]"
     ]
    },
    {
     "name": "stdout",
     "output_type": "stream",
     "text": [
      "INFO:httpx:HTTP Request: POST http://127.0.0.1:8080/embed \"HTTP/1.1 200 OK\"\n",
      "HTTP Request: POST http://127.0.0.1:8080/embed \"HTTP/1.1 200 OK\"\n",
      "HTTP Request: POST http://127.0.0.1:8080/embed \"HTTP/1.1 200 OK\"\n",
      "HTTP Request: POST http://127.0.0.1:8080/embed \"HTTP/1.1 200 OK\"\n"
     ]
    },
    {
     "name": "stderr",
     "output_type": "stream",
     "text": [
      "\r",
      "Generating embeddings:   7%|███████████▉                                                                                                                                                                     | 260/3848 [01:43<27:16,  2.19it/s]"
     ]
    },
    {
     "name": "stdout",
     "output_type": "stream",
     "text": [
      "INFO:httpx:HTTP Request: POST http://127.0.0.1:8080/embed \"HTTP/1.1 200 OK\"\n",
      "HTTP Request: POST http://127.0.0.1:8080/embed \"HTTP/1.1 200 OK\"\n",
      "HTTP Request: POST http://127.0.0.1:8080/embed \"HTTP/1.1 200 OK\"\n",
      "HTTP Request: POST http://127.0.0.1:8080/embed \"HTTP/1.1 200 OK\"\n"
     ]
    },
    {
     "name": "stderr",
     "output_type": "stream",
     "text": [
      "\r",
      "Generating embeddings:   7%|████████████▍                                                                                                                                                                    | 270/3848 [01:47<25:50,  2.31it/s]"
     ]
    },
    {
     "name": "stdout",
     "output_type": "stream",
     "text": [
      "INFO:httpx:HTTP Request: POST http://127.0.0.1:8080/embed \"HTTP/1.1 200 OK\"\n",
      "HTTP Request: POST http://127.0.0.1:8080/embed \"HTTP/1.1 200 OK\"\n",
      "HTTP Request: POST http://127.0.0.1:8080/embed \"HTTP/1.1 200 OK\"\n",
      "HTTP Request: POST http://127.0.0.1:8080/embed \"HTTP/1.1 200 OK\"\n"
     ]
    },
    {
     "name": "stderr",
     "output_type": "stream",
     "text": [
      "\r",
      "Generating embeddings:   7%|████████████▉                                                                                                                                                                    | 280/3848 [01:51<24:53,  2.39it/s]"
     ]
    },
    {
     "name": "stdout",
     "output_type": "stream",
     "text": [
      "INFO:httpx:HTTP Request: POST http://127.0.0.1:8080/embed \"HTTP/1.1 200 OK\"\n",
      "HTTP Request: POST http://127.0.0.1:8080/embed \"HTTP/1.1 200 OK\"\n",
      "HTTP Request: POST http://127.0.0.1:8080/embed \"HTTP/1.1 200 OK\"\n",
      "HTTP Request: POST http://127.0.0.1:8080/embed \"HTTP/1.1 200 OK\"\n"
     ]
    },
    {
     "name": "stderr",
     "output_type": "stream",
     "text": [
      "\r",
      "Generating embeddings:   8%|█████████████▎                                                                                                                                                                   | 290/3848 [01:55<23:59,  2.47it/s]"
     ]
    },
    {
     "name": "stdout",
     "output_type": "stream",
     "text": [
      "INFO:httpx:HTTP Request: POST http://127.0.0.1:8080/embed \"HTTP/1.1 200 OK\"\n",
      "HTTP Request: POST http://127.0.0.1:8080/embed \"HTTP/1.1 200 OK\"\n",
      "HTTP Request: POST http://127.0.0.1:8080/embed \"HTTP/1.1 200 OK\"\n",
      "HTTP Request: POST http://127.0.0.1:8080/embed \"HTTP/1.1 200 OK\"\n"
     ]
    },
    {
     "name": "stderr",
     "output_type": "stream",
     "text": [
      "\r",
      "Generating embeddings:   8%|█████████████▊                                                                                                                                                                   | 300/3848 [01:58<23:48,  2.48it/s]"
     ]
    },
    {
     "name": "stdout",
     "output_type": "stream",
     "text": [
      "INFO:httpx:HTTP Request: POST http://127.0.0.1:8080/embed \"HTTP/1.1 200 OK\"\n",
      "HTTP Request: POST http://127.0.0.1:8080/embed \"HTTP/1.1 200 OK\"\n",
      "HTTP Request: POST http://127.0.0.1:8080/embed \"HTTP/1.1 200 OK\"\n",
      "HTTP Request: POST http://127.0.0.1:8080/embed \"HTTP/1.1 200 OK\"\n"
     ]
    },
    {
     "name": "stderr",
     "output_type": "stream",
     "text": [
      "\r",
      "Generating embeddings:   8%|██████████████▎                                                                                                                                                                  | 310/3848 [02:02<23:32,  2.51it/s]"
     ]
    },
    {
     "name": "stdout",
     "output_type": "stream",
     "text": [
      "INFO:httpx:HTTP Request: POST http://127.0.0.1:8080/embed \"HTTP/1.1 200 OK\"\n",
      "HTTP Request: POST http://127.0.0.1:8080/embed \"HTTP/1.1 200 OK\"\n",
      "HTTP Request: POST http://127.0.0.1:8080/embed \"HTTP/1.1 200 OK\"\n",
      "HTTP Request: POST http://127.0.0.1:8080/embed \"HTTP/1.1 200 OK\"\n"
     ]
    },
    {
     "name": "stderr",
     "output_type": "stream",
     "text": [
      "\r",
      "Generating embeddings:   8%|██████████████▋                                                                                                                                                                  | 320/3848 [02:06<23:05,  2.55it/s]"
     ]
    },
    {
     "name": "stdout",
     "output_type": "stream",
     "text": [
      "INFO:httpx:HTTP Request: POST http://127.0.0.1:8080/embed \"HTTP/1.1 200 OK\"\n",
      "HTTP Request: POST http://127.0.0.1:8080/embed \"HTTP/1.1 200 OK\"\n",
      "HTTP Request: POST http://127.0.0.1:8080/embed \"HTTP/1.1 200 OK\"\n",
      "HTTP Request: POST http://127.0.0.1:8080/embed \"HTTP/1.1 200 OK\"\n"
     ]
    },
    {
     "name": "stderr",
     "output_type": "stream",
     "text": [
      "\r",
      "Generating embeddings:   9%|███████████████▏                                                                                                                                                                 | 330/3848 [02:10<23:39,  2.48it/s]"
     ]
    },
    {
     "name": "stdout",
     "output_type": "stream",
     "text": [
      "INFO:httpx:HTTP Request: POST http://127.0.0.1:8080/embed \"HTTP/1.1 200 OK\"\n",
      "HTTP Request: POST http://127.0.0.1:8080/embed \"HTTP/1.1 200 OK\"\n",
      "HTTP Request: POST http://127.0.0.1:8080/embed \"HTTP/1.1 200 OK\"\n",
      "HTTP Request: POST http://127.0.0.1:8080/embed \"HTTP/1.1 200 OK\"\n"
     ]
    },
    {
     "name": "stderr",
     "output_type": "stream",
     "text": [
      "\r",
      "Generating embeddings:   9%|███████████████▋                                                                                                                                                                 | 340/3848 [02:15<24:08,  2.42it/s]"
     ]
    },
    {
     "name": "stdout",
     "output_type": "stream",
     "text": [
      "INFO:httpx:HTTP Request: POST http://127.0.0.1:8080/embed \"HTTP/1.1 200 OK\"\n",
      "HTTP Request: POST http://127.0.0.1:8080/embed \"HTTP/1.1 200 OK\"\n",
      "HTTP Request: POST http://127.0.0.1:8080/embed \"HTTP/1.1 200 OK\"\n",
      "HTTP Request: POST http://127.0.0.1:8080/embed \"HTTP/1.1 200 OK\"\n"
     ]
    },
    {
     "name": "stderr",
     "output_type": "stream",
     "text": [
      "\r",
      "Generating embeddings:   9%|████████████████                                                                                                                                                                 | 350/3848 [02:20<25:04,  2.33it/s]"
     ]
    },
    {
     "name": "stdout",
     "output_type": "stream",
     "text": [
      "INFO:httpx:HTTP Request: POST http://127.0.0.1:8080/embed \"HTTP/1.1 200 OK\"\n",
      "HTTP Request: POST http://127.0.0.1:8080/embed \"HTTP/1.1 200 OK\"\n",
      "HTTP Request: POST http://127.0.0.1:8080/embed \"HTTP/1.1 200 OK\"\n",
      "HTTP Request: POST http://127.0.0.1:8080/embed \"HTTP/1.1 200 OK\"\n"
     ]
    },
    {
     "name": "stderr",
     "output_type": "stream",
     "text": [
      "\r",
      "Generating embeddings:   9%|████████████████▌                                                                                                                                                                | 360/3848 [02:24<24:31,  2.37it/s]"
     ]
    },
    {
     "name": "stdout",
     "output_type": "stream",
     "text": [
      "INFO:httpx:HTTP Request: POST http://127.0.0.1:8080/embed \"HTTP/1.1 200 OK\"\n",
      "HTTP Request: POST http://127.0.0.1:8080/embed \"HTTP/1.1 200 OK\"\n",
      "HTTP Request: POST http://127.0.0.1:8080/embed \"HTTP/1.1 200 OK\"\n",
      "HTTP Request: POST http://127.0.0.1:8080/embed \"HTTP/1.1 200 OK\"\n"
     ]
    },
    {
     "name": "stderr",
     "output_type": "stream",
     "text": [
      "\r",
      "Generating embeddings:  10%|█████████████████                                                                                                                                                                | 370/3848 [02:27<23:38,  2.45it/s]"
     ]
    },
    {
     "name": "stdout",
     "output_type": "stream",
     "text": [
      "INFO:httpx:HTTP Request: POST http://127.0.0.1:8080/embed \"HTTP/1.1 200 OK\"\n",
      "HTTP Request: POST http://127.0.0.1:8080/embed \"HTTP/1.1 200 OK\"\n",
      "HTTP Request: POST http://127.0.0.1:8080/embed \"HTTP/1.1 200 OK\"\n",
      "HTTP Request: POST http://127.0.0.1:8080/embed \"HTTP/1.1 200 OK\"\n"
     ]
    },
    {
     "name": "stderr",
     "output_type": "stream",
     "text": [
      "\r",
      "Generating embeddings:  10%|█████████████████▍                                                                                                                                                               | 380/3848 [02:31<23:02,  2.51it/s]"
     ]
    },
    {
     "name": "stdout",
     "output_type": "stream",
     "text": [
      "INFO:httpx:HTTP Request: POST http://127.0.0.1:8080/embed \"HTTP/1.1 200 OK\"\n",
      "HTTP Request: POST http://127.0.0.1:8080/embed \"HTTP/1.1 200 OK\"\n",
      "HTTP Request: POST http://127.0.0.1:8080/embed \"HTTP/1.1 200 OK\"\n",
      "HTTP Request: POST http://127.0.0.1:8080/embed \"HTTP/1.1 200 OK\"\n"
     ]
    },
    {
     "name": "stderr",
     "output_type": "stream",
     "text": [
      "\r",
      "Generating embeddings:  10%|█████████████████▉                                                                                                                                                               | 390/3848 [02:35<22:51,  2.52it/s]"
     ]
    },
    {
     "name": "stdout",
     "output_type": "stream",
     "text": [
      "INFO:httpx:HTTP Request: POST http://127.0.0.1:8080/embed \"HTTP/1.1 200 OK\"\n",
      "HTTP Request: POST http://127.0.0.1:8080/embed \"HTTP/1.1 200 OK\"\n",
      "HTTP Request: POST http://127.0.0.1:8080/embed \"HTTP/1.1 200 OK\"\n",
      "HTTP Request: POST http://127.0.0.1:8080/embed \"HTTP/1.1 200 OK\"\n"
     ]
    },
    {
     "name": "stderr",
     "output_type": "stream",
     "text": [
      "\r",
      "Generating embeddings:  10%|██████████████████▍                                                                                                                                                              | 400/3848 [02:39<23:02,  2.49it/s]"
     ]
    },
    {
     "name": "stdout",
     "output_type": "stream",
     "text": [
      "INFO:httpx:HTTP Request: POST http://127.0.0.1:8080/embed \"HTTP/1.1 200 OK\"\n",
      "HTTP Request: POST http://127.0.0.1:8080/embed \"HTTP/1.1 200 OK\"\n",
      "HTTP Request: POST http://127.0.0.1:8080/embed \"HTTP/1.1 200 OK\"\n",
      "HTTP Request: POST http://127.0.0.1:8080/embed \"HTTP/1.1 200 OK\"\n"
     ]
    },
    {
     "name": "stderr",
     "output_type": "stream",
     "text": [
      "\r",
      "Generating embeddings:  11%|██████████████████▊                                                                                                                                                              | 410/3848 [02:43<21:59,  2.60it/s]"
     ]
    },
    {
     "name": "stdout",
     "output_type": "stream",
     "text": [
      "INFO:httpx:HTTP Request: POST http://127.0.0.1:8080/embed \"HTTP/1.1 200 OK\"\n",
      "HTTP Request: POST http://127.0.0.1:8080/embed \"HTTP/1.1 200 OK\"\n",
      "HTTP Request: POST http://127.0.0.1:8080/embed \"HTTP/1.1 200 OK\"\n",
      "HTTP Request: POST http://127.0.0.1:8080/embed \"HTTP/1.1 200 OK\"\n"
     ]
    },
    {
     "name": "stderr",
     "output_type": "stream",
     "text": [
      "\r",
      "Generating embeddings:  11%|███████████████████▎                                                                                                                                                             | 420/3848 [02:47<22:12,  2.57it/s]"
     ]
    },
    {
     "name": "stdout",
     "output_type": "stream",
     "text": [
      "INFO:httpx:HTTP Request: POST http://127.0.0.1:8080/embed \"HTTP/1.1 200 OK\"\n",
      "HTTP Request: POST http://127.0.0.1:8080/embed \"HTTP/1.1 200 OK\"\n",
      "HTTP Request: POST http://127.0.0.1:8080/embed \"HTTP/1.1 200 OK\"\n",
      "HTTP Request: POST http://127.0.0.1:8080/embed \"HTTP/1.1 200 OK\"\n"
     ]
    },
    {
     "name": "stderr",
     "output_type": "stream",
     "text": [
      "\r",
      "Generating embeddings:  11%|███████████████████▊                                                                                                                                                             | 430/3848 [02:50<21:20,  2.67it/s]"
     ]
    },
    {
     "name": "stdout",
     "output_type": "stream",
     "text": [
      "INFO:httpx:HTTP Request: POST http://127.0.0.1:8080/embed \"HTTP/1.1 200 OK\"\n",
      "HTTP Request: POST http://127.0.0.1:8080/embed \"HTTP/1.1 200 OK\"\n",
      "HTTP Request: POST http://127.0.0.1:8080/embed \"HTTP/1.1 200 OK\"\n",
      "HTTP Request: POST http://127.0.0.1:8080/embed \"HTTP/1.1 200 OK\"\n"
     ]
    },
    {
     "name": "stderr",
     "output_type": "stream",
     "text": [
      "\r",
      "Generating embeddings:  11%|████████████████████▏                                                                                                                                                            | 440/3848 [02:54<21:47,  2.61it/s]"
     ]
    },
    {
     "name": "stdout",
     "output_type": "stream",
     "text": [
      "INFO:httpx:HTTP Request: POST http://127.0.0.1:8080/embed \"HTTP/1.1 200 OK\"\n",
      "HTTP Request: POST http://127.0.0.1:8080/embed \"HTTP/1.1 200 OK\"\n",
      "HTTP Request: POST http://127.0.0.1:8080/embed \"HTTP/1.1 200 OK\"\n",
      "HTTP Request: POST http://127.0.0.1:8080/embed \"HTTP/1.1 200 OK\"\n"
     ]
    },
    {
     "name": "stderr",
     "output_type": "stream",
     "text": [
      "\r",
      "Generating embeddings:  12%|████████████████████▋                                                                                                                                                            | 450/3848 [02:58<21:58,  2.58it/s]"
     ]
    },
    {
     "name": "stdout",
     "output_type": "stream",
     "text": [
      "INFO:httpx:HTTP Request: POST http://127.0.0.1:8080/embed \"HTTP/1.1 200 OK\"\n",
      "HTTP Request: POST http://127.0.0.1:8080/embed \"HTTP/1.1 200 OK\"\n",
      "HTTP Request: POST http://127.0.0.1:8080/embed \"HTTP/1.1 200 OK\"\n",
      "HTTP Request: POST http://127.0.0.1:8080/embed \"HTTP/1.1 200 OK\"\n"
     ]
    },
    {
     "name": "stderr",
     "output_type": "stream",
     "text": [
      "\r",
      "Generating embeddings:  12%|█████████████████████▏                                                                                                                                                           | 460/3848 [03:02<22:19,  2.53it/s]"
     ]
    },
    {
     "name": "stdout",
     "output_type": "stream",
     "text": [
      "INFO:httpx:HTTP Request: POST http://127.0.0.1:8080/embed \"HTTP/1.1 200 OK\"\n",
      "HTTP Request: POST http://127.0.0.1:8080/embed \"HTTP/1.1 200 OK\"\n",
      "HTTP Request: POST http://127.0.0.1:8080/embed \"HTTP/1.1 200 OK\"\n",
      "HTTP Request: POST http://127.0.0.1:8080/embed \"HTTP/1.1 200 OK\"\n"
     ]
    },
    {
     "name": "stderr",
     "output_type": "stream",
     "text": [
      "\r",
      "Generating embeddings:  12%|█████████████████████▌                                                                                                                                                           | 470/3848 [03:06<21:48,  2.58it/s]"
     ]
    },
    {
     "name": "stdout",
     "output_type": "stream",
     "text": [
      "INFO:httpx:HTTP Request: POST http://127.0.0.1:8080/embed \"HTTP/1.1 200 OK\"\n",
      "HTTP Request: POST http://127.0.0.1:8080/embed \"HTTP/1.1 200 OK\"\n",
      "HTTP Request: POST http://127.0.0.1:8080/embed \"HTTP/1.1 200 OK\"\n",
      "HTTP Request: POST http://127.0.0.1:8080/embed \"HTTP/1.1 200 OK\"\n"
     ]
    },
    {
     "name": "stderr",
     "output_type": "stream",
     "text": [
      "\r",
      "Generating embeddings:  12%|██████████████████████                                                                                                                                                           | 480/3848 [03:10<21:45,  2.58it/s]"
     ]
    },
    {
     "name": "stdout",
     "output_type": "stream",
     "text": [
      "INFO:httpx:HTTP Request: POST http://127.0.0.1:8080/embed \"HTTP/1.1 200 OK\"\n",
      "HTTP Request: POST http://127.0.0.1:8080/embed \"HTTP/1.1 200 OK\"\n",
      "HTTP Request: POST http://127.0.0.1:8080/embed \"HTTP/1.1 200 OK\"\n",
      "HTTP Request: POST http://127.0.0.1:8080/embed \"HTTP/1.1 200 OK\"\n"
     ]
    },
    {
     "name": "stderr",
     "output_type": "stream",
     "text": [
      "\r",
      "Generating embeddings:  13%|██████████████████████▌                                                                                                                                                          | 490/3848 [03:14<22:27,  2.49it/s]"
     ]
    },
    {
     "name": "stdout",
     "output_type": "stream",
     "text": [
      "INFO:httpx:HTTP Request: POST http://127.0.0.1:8080/embed \"HTTP/1.1 200 OK\"\n",
      "HTTP Request: POST http://127.0.0.1:8080/embed \"HTTP/1.1 200 OK\"\n",
      "HTTP Request: POST http://127.0.0.1:8080/embed \"HTTP/1.1 200 OK\"\n",
      "HTTP Request: POST http://127.0.0.1:8080/embed \"HTTP/1.1 200 OK\"\n"
     ]
    },
    {
     "name": "stderr",
     "output_type": "stream",
     "text": [
      "\r",
      "Generating embeddings:  13%|██████████████████████▉                                                                                                                                                          | 500/3848 [03:18<22:18,  2.50it/s]"
     ]
    },
    {
     "name": "stdout",
     "output_type": "stream",
     "text": [
      "INFO:httpx:HTTP Request: POST http://127.0.0.1:8080/embed \"HTTP/1.1 200 OK\"\n",
      "HTTP Request: POST http://127.0.0.1:8080/embed \"HTTP/1.1 200 OK\"\n",
      "HTTP Request: POST http://127.0.0.1:8080/embed \"HTTP/1.1 200 OK\"\n",
      "HTTP Request: POST http://127.0.0.1:8080/embed \"HTTP/1.1 200 OK\"\n"
     ]
    },
    {
     "name": "stderr",
     "output_type": "stream",
     "text": [
      "\r",
      "Generating embeddings:  13%|███████████████████████▍                                                                                                                                                         | 510/3848 [03:22<22:32,  2.47it/s]"
     ]
    },
    {
     "name": "stdout",
     "output_type": "stream",
     "text": [
      "INFO:httpx:HTTP Request: POST http://127.0.0.1:8080/embed \"HTTP/1.1 200 OK\"\n",
      "HTTP Request: POST http://127.0.0.1:8080/embed \"HTTP/1.1 200 OK\"\n",
      "HTTP Request: POST http://127.0.0.1:8080/embed \"HTTP/1.1 200 OK\"\n",
      "HTTP Request: POST http://127.0.0.1:8080/embed \"HTTP/1.1 200 OK\"\n"
     ]
    },
    {
     "name": "stderr",
     "output_type": "stream",
     "text": [
      "\r",
      "Generating embeddings:  14%|███████████████████████▉                                                                                                                                                         | 520/3848 [03:26<22:15,  2.49it/s]"
     ]
    },
    {
     "name": "stdout",
     "output_type": "stream",
     "text": [
      "INFO:httpx:HTTP Request: POST http://127.0.0.1:8080/embed \"HTTP/1.1 200 OK\"\n",
      "HTTP Request: POST http://127.0.0.1:8080/embed \"HTTP/1.1 200 OK\"\n",
      "HTTP Request: POST http://127.0.0.1:8080/embed \"HTTP/1.1 200 OK\"\n",
      "HTTP Request: POST http://127.0.0.1:8080/embed \"HTTP/1.1 200 OK\"\n"
     ]
    },
    {
     "name": "stderr",
     "output_type": "stream",
     "text": [
      "\r",
      "Generating embeddings:  14%|████████████████████████▍                                                                                                                                                        | 530/3848 [03:30<21:58,  2.52it/s]"
     ]
    },
    {
     "name": "stdout",
     "output_type": "stream",
     "text": [
      "INFO:httpx:HTTP Request: POST http://127.0.0.1:8080/embed \"HTTP/1.1 200 OK\"\n",
      "HTTP Request: POST http://127.0.0.1:8080/embed \"HTTP/1.1 200 OK\"\n",
      "HTTP Request: POST http://127.0.0.1:8080/embed \"HTTP/1.1 200 OK\"\n",
      "HTTP Request: POST http://127.0.0.1:8080/embed \"HTTP/1.1 200 OK\"\n"
     ]
    },
    {
     "name": "stderr",
     "output_type": "stream",
     "text": [
      "\r",
      "Generating embeddings:  14%|████████████████████████▊                                                                                                                                                        | 540/3848 [03:33<21:01,  2.62it/s]"
     ]
    },
    {
     "name": "stdout",
     "output_type": "stream",
     "text": [
      "INFO:httpx:HTTP Request: POST http://127.0.0.1:8080/embed \"HTTP/1.1 200 OK\"\n",
      "HTTP Request: POST http://127.0.0.1:8080/embed \"HTTP/1.1 200 OK\"\n",
      "HTTP Request: POST http://127.0.0.1:8080/embed \"HTTP/1.1 200 OK\"\n",
      "HTTP Request: POST http://127.0.0.1:8080/embed \"HTTP/1.1 200 OK\"\n"
     ]
    },
    {
     "name": "stderr",
     "output_type": "stream",
     "text": [
      "\r",
      "Generating embeddings:  14%|█████████████████████████▎                                                                                                                                                       | 550/3848 [03:37<20:50,  2.64it/s]"
     ]
    },
    {
     "name": "stdout",
     "output_type": "stream",
     "text": [
      "INFO:httpx:HTTP Request: POST http://127.0.0.1:8080/embed \"HTTP/1.1 200 OK\"\n",
      "HTTP Request: POST http://127.0.0.1:8080/embed \"HTTP/1.1 200 OK\"\n",
      "HTTP Request: POST http://127.0.0.1:8080/embed \"HTTP/1.1 200 OK\"\n",
      "HTTP Request: POST http://127.0.0.1:8080/embed \"HTTP/1.1 200 OK\"\n"
     ]
    },
    {
     "name": "stderr",
     "output_type": "stream",
     "text": [
      "\r",
      "Generating embeddings:  15%|█████████████████████████▊                                                                                                                                                       | 560/3848 [03:41<20:53,  2.62it/s]"
     ]
    },
    {
     "name": "stdout",
     "output_type": "stream",
     "text": [
      "INFO:httpx:HTTP Request: POST http://127.0.0.1:8080/embed \"HTTP/1.1 200 OK\"\n",
      "HTTP Request: POST http://127.0.0.1:8080/embed \"HTTP/1.1 200 OK\"\n",
      "HTTP Request: POST http://127.0.0.1:8080/embed \"HTTP/1.1 200 OK\"\n",
      "HTTP Request: POST http://127.0.0.1:8080/embed \"HTTP/1.1 200 OK\"\n"
     ]
    },
    {
     "name": "stderr",
     "output_type": "stream",
     "text": [
      "\r",
      "Generating embeddings:  15%|██████████████████████████▏                                                                                                                                                      | 570/3848 [03:45<20:57,  2.61it/s]"
     ]
    },
    {
     "name": "stdout",
     "output_type": "stream",
     "text": [
      "INFO:httpx:HTTP Request: POST http://127.0.0.1:8080/embed \"HTTP/1.1 200 OK\"\n",
      "HTTP Request: POST http://127.0.0.1:8080/embed \"HTTP/1.1 200 OK\"\n",
      "HTTP Request: POST http://127.0.0.1:8080/embed \"HTTP/1.1 200 OK\"\n",
      "HTTP Request: POST http://127.0.0.1:8080/embed \"HTTP/1.1 200 OK\"\n"
     ]
    },
    {
     "name": "stderr",
     "output_type": "stream",
     "text": [
      "\r",
      "Generating embeddings:  15%|██████████████████████████▋                                                                                                                                                      | 580/3848 [03:49<21:28,  2.54it/s]"
     ]
    },
    {
     "name": "stdout",
     "output_type": "stream",
     "text": [
      "INFO:httpx:HTTP Request: POST http://127.0.0.1:8080/embed \"HTTP/1.1 200 OK\"\n",
      "HTTP Request: POST http://127.0.0.1:8080/embed \"HTTP/1.1 200 OK\"\n",
      "HTTP Request: POST http://127.0.0.1:8080/embed \"HTTP/1.1 200 OK\"\n",
      "HTTP Request: POST http://127.0.0.1:8080/embed \"HTTP/1.1 200 OK\"\n"
     ]
    },
    {
     "name": "stderr",
     "output_type": "stream",
     "text": [
      "\r",
      "Generating embeddings:  15%|███████████████████████████▏                                                                                                                                                     | 590/3848 [03:53<21:20,  2.54it/s]"
     ]
    },
    {
     "name": "stdout",
     "output_type": "stream",
     "text": [
      "INFO:httpx:HTTP Request: POST http://127.0.0.1:8080/embed \"HTTP/1.1 200 OK\"\n",
      "HTTP Request: POST http://127.0.0.1:8080/embed \"HTTP/1.1 200 OK\"\n",
      "HTTP Request: POST http://127.0.0.1:8080/embed \"HTTP/1.1 200 OK\"\n",
      "HTTP Request: POST http://127.0.0.1:8080/embed \"HTTP/1.1 200 OK\"\n"
     ]
    },
    {
     "name": "stderr",
     "output_type": "stream",
     "text": [
      "\r",
      "Generating embeddings:  16%|███████████████████████████▌                                                                                                                                                     | 600/3848 [03:57<21:26,  2.53it/s]"
     ]
    },
    {
     "name": "stdout",
     "output_type": "stream",
     "text": [
      "INFO:httpx:HTTP Request: POST http://127.0.0.1:8080/embed \"HTTP/1.1 200 OK\"\n",
      "HTTP Request: POST http://127.0.0.1:8080/embed \"HTTP/1.1 200 OK\"\n",
      "HTTP Request: POST http://127.0.0.1:8080/embed \"HTTP/1.1 200 OK\"\n",
      "HTTP Request: POST http://127.0.0.1:8080/embed \"HTTP/1.1 200 OK\"\n"
     ]
    },
    {
     "name": "stderr",
     "output_type": "stream",
     "text": [
      "\r",
      "Generating embeddings:  16%|████████████████████████████                                                                                                                                                     | 610/3848 [04:01<21:37,  2.50it/s]"
     ]
    },
    {
     "name": "stdout",
     "output_type": "stream",
     "text": [
      "INFO:httpx:HTTP Request: POST http://127.0.0.1:8080/embed \"HTTP/1.1 200 OK\"\n",
      "HTTP Request: POST http://127.0.0.1:8080/embed \"HTTP/1.1 200 OK\"\n",
      "HTTP Request: POST http://127.0.0.1:8080/embed \"HTTP/1.1 200 OK\"\n",
      "HTTP Request: POST http://127.0.0.1:8080/embed \"HTTP/1.1 200 OK\"\n"
     ]
    },
    {
     "name": "stderr",
     "output_type": "stream",
     "text": [
      "\r",
      "Generating embeddings:  16%|████████████████████████████▌                                                                                                                                                    | 620/3848 [04:05<21:28,  2.50it/s]"
     ]
    },
    {
     "name": "stdout",
     "output_type": "stream",
     "text": [
      "INFO:httpx:HTTP Request: POST http://127.0.0.1:8080/embed \"HTTP/1.1 200 OK\"\n",
      "HTTP Request: POST http://127.0.0.1:8080/embed \"HTTP/1.1 200 OK\"\n",
      "HTTP Request: POST http://127.0.0.1:8080/embed \"HTTP/1.1 200 OK\"\n",
      "HTTP Request: POST http://127.0.0.1:8080/embed \"HTTP/1.1 200 OK\"\n"
     ]
    },
    {
     "name": "stderr",
     "output_type": "stream",
     "text": [
      "\r",
      "Generating embeddings:  16%|████████████████████████████▉                                                                                                                                                    | 630/3848 [04:09<21:11,  2.53it/s]"
     ]
    },
    {
     "name": "stdout",
     "output_type": "stream",
     "text": [
      "INFO:httpx:HTTP Request: POST http://127.0.0.1:8080/embed \"HTTP/1.1 200 OK\"\n",
      "HTTP Request: POST http://127.0.0.1:8080/embed \"HTTP/1.1 200 OK\"\n",
      "HTTP Request: POST http://127.0.0.1:8080/embed \"HTTP/1.1 200 OK\"\n",
      "HTTP Request: POST http://127.0.0.1:8080/embed \"HTTP/1.1 200 OK\"\n"
     ]
    },
    {
     "name": "stderr",
     "output_type": "stream",
     "text": [
      "\r",
      "Generating embeddings:  17%|█████████████████████████████▍                                                                                                                                                   | 640/3848 [04:12<20:21,  2.63it/s]"
     ]
    },
    {
     "name": "stdout",
     "output_type": "stream",
     "text": [
      "INFO:httpx:HTTP Request: POST http://127.0.0.1:8080/embed \"HTTP/1.1 200 OK\"\n",
      "HTTP Request: POST http://127.0.0.1:8080/embed \"HTTP/1.1 200 OK\"\n",
      "HTTP Request: POST http://127.0.0.1:8080/embed \"HTTP/1.1 200 OK\"\n",
      "HTTP Request: POST http://127.0.0.1:8080/embed \"HTTP/1.1 200 OK\"\n"
     ]
    },
    {
     "name": "stderr",
     "output_type": "stream",
     "text": [
      "\r",
      "Generating embeddings:  17%|█████████████████████████████▉                                                                                                                                                   | 650/3848 [04:16<20:35,  2.59it/s]"
     ]
    },
    {
     "name": "stdout",
     "output_type": "stream",
     "text": [
      "INFO:httpx:HTTP Request: POST http://127.0.0.1:8080/embed \"HTTP/1.1 200 OK\"\n",
      "HTTP Request: POST http://127.0.0.1:8080/embed \"HTTP/1.1 200 OK\"\n",
      "HTTP Request: POST http://127.0.0.1:8080/embed \"HTTP/1.1 200 OK\"\n",
      "HTTP Request: POST http://127.0.0.1:8080/embed \"HTTP/1.1 200 OK\"\n"
     ]
    },
    {
     "name": "stderr",
     "output_type": "stream",
     "text": [
      "\r",
      "Generating embeddings:  17%|██████████████████████████████▎                                                                                                                                                  | 660/3848 [04:21<22:10,  2.40it/s]"
     ]
    },
    {
     "name": "stdout",
     "output_type": "stream",
     "text": [
      "INFO:httpx:HTTP Request: POST http://127.0.0.1:8080/embed \"HTTP/1.1 200 OK\"\n",
      "HTTP Request: POST http://127.0.0.1:8080/embed \"HTTP/1.1 200 OK\"\n",
      "HTTP Request: POST http://127.0.0.1:8080/embed \"HTTP/1.1 200 OK\"\n",
      "HTTP Request: POST http://127.0.0.1:8080/embed \"HTTP/1.1 200 OK\"\n"
     ]
    },
    {
     "name": "stderr",
     "output_type": "stream",
     "text": [
      "\r",
      "Generating embeddings:  17%|██████████████████████████████▊                                                                                                                                                  | 670/3848 [04:26<22:39,  2.34it/s]"
     ]
    },
    {
     "name": "stdout",
     "output_type": "stream",
     "text": [
      "INFO:httpx:HTTP Request: POST http://127.0.0.1:8080/embed \"HTTP/1.1 200 OK\"\n",
      "HTTP Request: POST http://127.0.0.1:8080/embed \"HTTP/1.1 200 OK\"\n",
      "HTTP Request: POST http://127.0.0.1:8080/embed \"HTTP/1.1 200 OK\"\n",
      "HTTP Request: POST http://127.0.0.1:8080/embed \"HTTP/1.1 200 OK\"\n"
     ]
    },
    {
     "name": "stderr",
     "output_type": "stream",
     "text": [
      "\r",
      "Generating embeddings:  18%|███████████████████████████████▎                                                                                                                                                 | 680/3848 [04:31<24:21,  2.17it/s]"
     ]
    },
    {
     "name": "stdout",
     "output_type": "stream",
     "text": [
      "INFO:httpx:HTTP Request: POST http://127.0.0.1:8080/embed \"HTTP/1.1 200 OK\"\n",
      "HTTP Request: POST http://127.0.0.1:8080/embed \"HTTP/1.1 200 OK\"\n",
      "HTTP Request: POST http://127.0.0.1:8080/embed \"HTTP/1.1 200 OK\"\n",
      "HTTP Request: POST http://127.0.0.1:8080/embed \"HTTP/1.1 200 OK\"\n"
     ]
    },
    {
     "name": "stderr",
     "output_type": "stream",
     "text": [
      "\r",
      "Generating embeddings:  18%|███████████████████████████████▋                                                                                                                                                 | 690/3848 [04:39<29:02,  1.81it/s]"
     ]
    },
    {
     "name": "stdout",
     "output_type": "stream",
     "text": [
      "INFO:httpx:HTTP Request: POST http://127.0.0.1:8080/embed \"HTTP/1.1 200 OK\"\n",
      "HTTP Request: POST http://127.0.0.1:8080/embed \"HTTP/1.1 200 OK\"\n",
      "HTTP Request: POST http://127.0.0.1:8080/embed \"HTTP/1.1 200 OK\"\n",
      "HTTP Request: POST http://127.0.0.1:8080/embed \"HTTP/1.1 200 OK\"\n"
     ]
    },
    {
     "name": "stderr",
     "output_type": "stream",
     "text": [
      "\r",
      "Generating embeddings:  18%|████████████████████████████████▏                                                                                                                                                | 700/3848 [04:48<34:38,  1.51it/s]"
     ]
    },
    {
     "name": "stdout",
     "output_type": "stream",
     "text": [
      "INFO:httpx:HTTP Request: POST http://127.0.0.1:8080/embed \"HTTP/1.1 200 OK\"\n",
      "HTTP Request: POST http://127.0.0.1:8080/embed \"HTTP/1.1 200 OK\"\n",
      "HTTP Request: POST http://127.0.0.1:8080/embed \"HTTP/1.1 200 OK\"\n",
      "HTTP Request: POST http://127.0.0.1:8080/embed \"HTTP/1.1 200 OK\"\n"
     ]
    },
    {
     "name": "stderr",
     "output_type": "stream",
     "text": [
      "\r",
      "Generating embeddings:  18%|████████████████████████████████▋                                                                                                                                                | 710/3848 [04:54<33:20,  1.57it/s]"
     ]
    },
    {
     "name": "stdout",
     "output_type": "stream",
     "text": [
      "INFO:httpx:HTTP Request: POST http://127.0.0.1:8080/embed \"HTTP/1.1 200 OK\"\n",
      "HTTP Request: POST http://127.0.0.1:8080/embed \"HTTP/1.1 200 OK\"\n",
      "HTTP Request: POST http://127.0.0.1:8080/embed \"HTTP/1.1 200 OK\"\n",
      "HTTP Request: POST http://127.0.0.1:8080/embed \"HTTP/1.1 200 OK\"\n"
     ]
    },
    {
     "name": "stderr",
     "output_type": "stream",
     "text": [
      "\r",
      "Generating embeddings:  19%|█████████████████████████████████                                                                                                                                                | 720/3848 [05:01<34:48,  1.50it/s]"
     ]
    },
    {
     "name": "stdout",
     "output_type": "stream",
     "text": [
      "INFO:httpx:HTTP Request: POST http://127.0.0.1:8080/embed \"HTTP/1.1 200 OK\"\n",
      "HTTP Request: POST http://127.0.0.1:8080/embed \"HTTP/1.1 200 OK\"\n",
      "HTTP Request: POST http://127.0.0.1:8080/embed \"HTTP/1.1 200 OK\"\n",
      "HTTP Request: POST http://127.0.0.1:8080/embed \"HTTP/1.1 200 OK\"\n"
     ]
    },
    {
     "name": "stderr",
     "output_type": "stream",
     "text": [
      "\r",
      "Generating embeddings:  19%|█████████████████████████████████▌                                                                                                                                               | 730/3848 [05:07<33:41,  1.54it/s]"
     ]
    },
    {
     "name": "stdout",
     "output_type": "stream",
     "text": [
      "INFO:httpx:HTTP Request: POST http://127.0.0.1:8080/embed \"HTTP/1.1 200 OK\"\n",
      "HTTP Request: POST http://127.0.0.1:8080/embed \"HTTP/1.1 200 OK\"\n",
      "HTTP Request: POST http://127.0.0.1:8080/embed \"HTTP/1.1 200 OK\"\n",
      "HTTP Request: POST http://127.0.0.1:8080/embed \"HTTP/1.1 200 OK\"\n"
     ]
    },
    {
     "name": "stderr",
     "output_type": "stream",
     "text": [
      "\r",
      "Generating embeddings:  19%|██████████████████████████████████                                                                                                                                               | 740/3848 [05:13<33:01,  1.57it/s]"
     ]
    },
    {
     "name": "stdout",
     "output_type": "stream",
     "text": [
      "INFO:httpx:HTTP Request: POST http://127.0.0.1:8080/embed \"HTTP/1.1 200 OK\"\n",
      "HTTP Request: POST http://127.0.0.1:8080/embed \"HTTP/1.1 200 OK\"\n",
      "HTTP Request: POST http://127.0.0.1:8080/embed \"HTTP/1.1 200 OK\"\n",
      "HTTP Request: POST http://127.0.0.1:8080/embed \"HTTP/1.1 200 OK\"\n"
     ]
    },
    {
     "name": "stderr",
     "output_type": "stream",
     "text": [
      "\r",
      "Generating embeddings:  19%|██████████████████████████████████▍                                                                                                                                              | 750/3848 [05:20<32:57,  1.57it/s]"
     ]
    },
    {
     "name": "stdout",
     "output_type": "stream",
     "text": [
      "INFO:httpx:HTTP Request: POST http://127.0.0.1:8080/embed \"HTTP/1.1 200 OK\"\n",
      "HTTP Request: POST http://127.0.0.1:8080/embed \"HTTP/1.1 200 OK\"\n",
      "HTTP Request: POST http://127.0.0.1:8080/embed \"HTTP/1.1 200 OK\"\n",
      "HTTP Request: POST http://127.0.0.1:8080/embed \"HTTP/1.1 200 OK\"\n"
     ]
    },
    {
     "name": "stderr",
     "output_type": "stream",
     "text": [
      "\r",
      "Generating embeddings:  20%|██████████████████████████████████▉                                                                                                                                              | 760/3848 [05:27<33:59,  1.51it/s]"
     ]
    },
    {
     "name": "stdout",
     "output_type": "stream",
     "text": [
      "INFO:httpx:HTTP Request: POST http://127.0.0.1:8080/embed \"HTTP/1.1 200 OK\"\n",
      "HTTP Request: POST http://127.0.0.1:8080/embed \"HTTP/1.1 200 OK\"\n",
      "HTTP Request: POST http://127.0.0.1:8080/embed \"HTTP/1.1 200 OK\"\n",
      "HTTP Request: POST http://127.0.0.1:8080/embed \"HTTP/1.1 200 OK\"\n"
     ]
    },
    {
     "name": "stderr",
     "output_type": "stream",
     "text": [
      "\r",
      "Generating embeddings:  20%|███████████████████████████████████▍                                                                                                                                             | 770/3848 [05:34<34:45,  1.48it/s]"
     ]
    },
    {
     "name": "stdout",
     "output_type": "stream",
     "text": [
      "INFO:httpx:HTTP Request: POST http://127.0.0.1:8080/embed \"HTTP/1.1 200 OK\"\n",
      "HTTP Request: POST http://127.0.0.1:8080/embed \"HTTP/1.1 200 OK\"\n",
      "HTTP Request: POST http://127.0.0.1:8080/embed \"HTTP/1.1 200 OK\"\n",
      "HTTP Request: POST http://127.0.0.1:8080/embed \"HTTP/1.1 200 OK\"\n"
     ]
    },
    {
     "name": "stderr",
     "output_type": "stream",
     "text": [
      "\r",
      "Generating embeddings:  20%|███████████████████████████████████▉                                                                                                                                             | 780/3848 [05:41<34:20,  1.49it/s]"
     ]
    },
    {
     "name": "stdout",
     "output_type": "stream",
     "text": [
      "INFO:httpx:HTTP Request: POST http://127.0.0.1:8080/embed \"HTTP/1.1 200 OK\"\n",
      "HTTP Request: POST http://127.0.0.1:8080/embed \"HTTP/1.1 200 OK\"\n",
      "HTTP Request: POST http://127.0.0.1:8080/embed \"HTTP/1.1 200 OK\"\n",
      "HTTP Request: POST http://127.0.0.1:8080/embed \"HTTP/1.1 200 OK\"\n"
     ]
    },
    {
     "name": "stderr",
     "output_type": "stream",
     "text": [
      "\r",
      "Generating embeddings:  21%|████████████████████████████████████▎                                                                                                                                            | 790/3848 [05:47<33:35,  1.52it/s]"
     ]
    },
    {
     "name": "stdout",
     "output_type": "stream",
     "text": [
      "INFO:httpx:HTTP Request: POST http://127.0.0.1:8080/embed \"HTTP/1.1 200 OK\"\n",
      "HTTP Request: POST http://127.0.0.1:8080/embed \"HTTP/1.1 200 OK\"\n",
      "HTTP Request: POST http://127.0.0.1:8080/embed \"HTTP/1.1 200 OK\"\n",
      "HTTP Request: POST http://127.0.0.1:8080/embed \"HTTP/1.1 200 OK\"\n"
     ]
    },
    {
     "name": "stderr",
     "output_type": "stream",
     "text": [
      "\r",
      "Generating embeddings:  21%|████████████████████████████████████▊                                                                                                                                            | 800/3848 [05:53<32:39,  1.56it/s]"
     ]
    },
    {
     "name": "stdout",
     "output_type": "stream",
     "text": [
      "INFO:httpx:HTTP Request: POST http://127.0.0.1:8080/embed \"HTTP/1.1 200 OK\"\n",
      "HTTP Request: POST http://127.0.0.1:8080/embed \"HTTP/1.1 200 OK\"\n",
      "HTTP Request: POST http://127.0.0.1:8080/embed \"HTTP/1.1 200 OK\"\n",
      "HTTP Request: POST http://127.0.0.1:8080/embed \"HTTP/1.1 200 OK\"\n"
     ]
    },
    {
     "name": "stderr",
     "output_type": "stream",
     "text": [
      "\r",
      "Generating embeddings:  21%|█████████████████████████████████████▎                                                                                                                                           | 810/3848 [06:00<32:57,  1.54it/s]"
     ]
    },
    {
     "name": "stdout",
     "output_type": "stream",
     "text": [
      "INFO:httpx:HTTP Request: POST http://127.0.0.1:8080/embed \"HTTP/1.1 200 OK\"\n",
      "HTTP Request: POST http://127.0.0.1:8080/embed \"HTTP/1.1 200 OK\"\n",
      "HTTP Request: POST http://127.0.0.1:8080/embed \"HTTP/1.1 200 OK\"\n",
      "HTTP Request: POST http://127.0.0.1:8080/embed \"HTTP/1.1 200 OK\"\n"
     ]
    },
    {
     "name": "stderr",
     "output_type": "stream",
     "text": [
      "\r",
      "Generating embeddings:  21%|█████████████████████████████████████▋                                                                                                                                           | 820/3848 [06:05<30:43,  1.64it/s]"
     ]
    },
    {
     "name": "stdout",
     "output_type": "stream",
     "text": [
      "INFO:httpx:HTTP Request: POST http://127.0.0.1:8080/embed \"HTTP/1.1 200 OK\"\n",
      "HTTP Request: POST http://127.0.0.1:8080/embed \"HTTP/1.1 200 OK\"\n",
      "HTTP Request: POST http://127.0.0.1:8080/embed \"HTTP/1.1 200 OK\"\n",
      "HTTP Request: POST http://127.0.0.1:8080/embed \"HTTP/1.1 200 OK\"\n"
     ]
    },
    {
     "name": "stderr",
     "output_type": "stream",
     "text": [
      "\r",
      "Generating embeddings:  22%|██████████████████████████████████████▏                                                                                                                                          | 830/3848 [06:10<29:34,  1.70it/s]"
     ]
    },
    {
     "name": "stdout",
     "output_type": "stream",
     "text": [
      "INFO:httpx:HTTP Request: POST http://127.0.0.1:8080/embed \"HTTP/1.1 200 OK\"\n",
      "HTTP Request: POST http://127.0.0.1:8080/embed \"HTTP/1.1 200 OK\"\n",
      "HTTP Request: POST http://127.0.0.1:8080/embed \"HTTP/1.1 200 OK\"\n",
      "HTTP Request: POST http://127.0.0.1:8080/embed \"HTTP/1.1 200 OK\"\n"
     ]
    },
    {
     "name": "stderr",
     "output_type": "stream",
     "text": [
      "\r",
      "Generating embeddings:  22%|██████████████████████████████████████▋                                                                                                                                          | 840/3848 [06:15<27:59,  1.79it/s]"
     ]
    },
    {
     "name": "stdout",
     "output_type": "stream",
     "text": [
      "INFO:httpx:HTTP Request: POST http://127.0.0.1:8080/embed \"HTTP/1.1 200 OK\"\n",
      "HTTP Request: POST http://127.0.0.1:8080/embed \"HTTP/1.1 200 OK\"\n",
      "HTTP Request: POST http://127.0.0.1:8080/embed \"HTTP/1.1 200 OK\"\n",
      "HTTP Request: POST http://127.0.0.1:8080/embed \"HTTP/1.1 200 OK\"\n"
     ]
    },
    {
     "name": "stderr",
     "output_type": "stream",
     "text": [
      "\r",
      "Generating embeddings:  22%|███████████████████████████████████████                                                                                                                                          | 850/3848 [06:19<25:33,  1.96it/s]"
     ]
    },
    {
     "name": "stdout",
     "output_type": "stream",
     "text": [
      "INFO:httpx:HTTP Request: POST http://127.0.0.1:8080/embed \"HTTP/1.1 200 OK\"\n",
      "HTTP Request: POST http://127.0.0.1:8080/embed \"HTTP/1.1 200 OK\"\n",
      "HTTP Request: POST http://127.0.0.1:8080/embed \"HTTP/1.1 200 OK\"\n",
      "HTTP Request: POST http://127.0.0.1:8080/embed \"HTTP/1.1 200 OK\"\n"
     ]
    },
    {
     "name": "stderr",
     "output_type": "stream",
     "text": [
      "\r",
      "Generating embeddings:  22%|███████████████████████████████████████▌                                                                                                                                         | 860/3848 [06:23<24:05,  2.07it/s]"
     ]
    },
    {
     "name": "stdout",
     "output_type": "stream",
     "text": [
      "INFO:httpx:HTTP Request: POST http://127.0.0.1:8080/embed \"HTTP/1.1 200 OK\"\n",
      "HTTP Request: POST http://127.0.0.1:8080/embed \"HTTP/1.1 200 OK\"\n",
      "HTTP Request: POST http://127.0.0.1:8080/embed \"HTTP/1.1 200 OK\"\n",
      "HTTP Request: POST http://127.0.0.1:8080/embed \"HTTP/1.1 200 OK\"\n"
     ]
    },
    {
     "name": "stderr",
     "output_type": "stream",
     "text": [
      "\r",
      "Generating embeddings:  23%|████████████████████████████████████████                                                                                                                                         | 870/3848 [06:27<22:44,  2.18it/s]"
     ]
    },
    {
     "name": "stdout",
     "output_type": "stream",
     "text": [
      "INFO:httpx:HTTP Request: POST http://127.0.0.1:8080/embed \"HTTP/1.1 200 OK\"\n",
      "HTTP Request: POST http://127.0.0.1:8080/embed \"HTTP/1.1 200 OK\"\n",
      "HTTP Request: POST http://127.0.0.1:8080/embed \"HTTP/1.1 200 OK\"\n",
      "HTTP Request: POST http://127.0.0.1:8080/embed \"HTTP/1.1 200 OK\"\n"
     ]
    },
    {
     "name": "stderr",
     "output_type": "stream",
     "text": [
      "\r",
      "Generating embeddings:  23%|████████████████████████████████████████▍                                                                                                                                        | 880/3848 [06:31<21:47,  2.27it/s]"
     ]
    },
    {
     "name": "stdout",
     "output_type": "stream",
     "text": [
      "INFO:httpx:HTTP Request: POST http://127.0.0.1:8080/embed \"HTTP/1.1 200 OK\"\n",
      "HTTP Request: POST http://127.0.0.1:8080/embed \"HTTP/1.1 200 OK\"\n",
      "HTTP Request: POST http://127.0.0.1:8080/embed \"HTTP/1.1 200 OK\"\n",
      "HTTP Request: POST http://127.0.0.1:8080/embed \"HTTP/1.1 200 OK\"\n"
     ]
    },
    {
     "name": "stderr",
     "output_type": "stream",
     "text": [
      "\r",
      "Generating embeddings:  23%|████████████████████████████████████████▉                                                                                                                                        | 890/3848 [06:35<20:59,  2.35it/s]"
     ]
    },
    {
     "name": "stdout",
     "output_type": "stream",
     "text": [
      "INFO:httpx:HTTP Request: POST http://127.0.0.1:8080/embed \"HTTP/1.1 200 OK\"\n",
      "HTTP Request: POST http://127.0.0.1:8080/embed \"HTTP/1.1 200 OK\"\n",
      "HTTP Request: POST http://127.0.0.1:8080/embed \"HTTP/1.1 200 OK\"\n",
      "HTTP Request: POST http://127.0.0.1:8080/embed \"HTTP/1.1 200 OK\"\n"
     ]
    },
    {
     "name": "stderr",
     "output_type": "stream",
     "text": [
      "\r",
      "Generating embeddings:  23%|█████████████████████████████████████████▍                                                                                                                                       | 900/3848 [06:39<20:32,  2.39it/s]"
     ]
    },
    {
     "name": "stdout",
     "output_type": "stream",
     "text": [
      "INFO:httpx:HTTP Request: POST http://127.0.0.1:8080/embed \"HTTP/1.1 200 OK\"\n",
      "HTTP Request: POST http://127.0.0.1:8080/embed \"HTTP/1.1 200 OK\"\n",
      "HTTP Request: POST http://127.0.0.1:8080/embed \"HTTP/1.1 200 OK\"\n",
      "HTTP Request: POST http://127.0.0.1:8080/embed \"HTTP/1.1 200 OK\"\n"
     ]
    },
    {
     "name": "stderr",
     "output_type": "stream",
     "text": [
      "\r",
      "Generating embeddings:  24%|█████████████████████████████████████████▊                                                                                                                                       | 910/3848 [06:43<20:24,  2.40it/s]"
     ]
    },
    {
     "name": "stdout",
     "output_type": "stream",
     "text": [
      "INFO:httpx:HTTP Request: POST http://127.0.0.1:8080/embed \"HTTP/1.1 200 OK\"\n",
      "HTTP Request: POST http://127.0.0.1:8080/embed \"HTTP/1.1 200 OK\"\n",
      "HTTP Request: POST http://127.0.0.1:8080/embed \"HTTP/1.1 200 OK\"\n",
      "HTTP Request: POST http://127.0.0.1:8080/embed \"HTTP/1.1 200 OK\"\n"
     ]
    },
    {
     "name": "stderr",
     "output_type": "stream",
     "text": [
      "\r",
      "Generating embeddings:  24%|██████████████████████████████████████████▎                                                                                                                                      | 920/3848 [06:47<20:08,  2.42it/s]"
     ]
    },
    {
     "name": "stdout",
     "output_type": "stream",
     "text": [
      "INFO:httpx:HTTP Request: POST http://127.0.0.1:8080/embed \"HTTP/1.1 200 OK\"\n",
      "HTTP Request: POST http://127.0.0.1:8080/embed \"HTTP/1.1 200 OK\"\n",
      "HTTP Request: POST http://127.0.0.1:8080/embed \"HTTP/1.1 200 OK\"\n",
      "HTTP Request: POST http://127.0.0.1:8080/embed \"HTTP/1.1 200 OK\"\n"
     ]
    },
    {
     "name": "stderr",
     "output_type": "stream",
     "text": [
      "\r",
      "Generating embeddings:  24%|██████████████████████████████████████████▊                                                                                                                                      | 930/3848 [06:52<21:06,  2.30it/s]"
     ]
    },
    {
     "name": "stdout",
     "output_type": "stream",
     "text": [
      "INFO:httpx:HTTP Request: POST http://127.0.0.1:8080/embed \"HTTP/1.1 200 OK\"\n",
      "HTTP Request: POST http://127.0.0.1:8080/embed \"HTTP/1.1 200 OK\"\n",
      "HTTP Request: POST http://127.0.0.1:8080/embed \"HTTP/1.1 200 OK\"\n",
      "HTTP Request: POST http://127.0.0.1:8080/embed \"HTTP/1.1 200 OK\"\n"
     ]
    },
    {
     "name": "stderr",
     "output_type": "stream",
     "text": [
      "\r",
      "Generating embeddings:  24%|███████████████████████████████████████████▏                                                                                                                                     | 940/3848 [06:57<21:47,  2.22it/s]"
     ]
    },
    {
     "name": "stdout",
     "output_type": "stream",
     "text": [
      "INFO:httpx:HTTP Request: POST http://127.0.0.1:8080/embed \"HTTP/1.1 200 OK\"\n",
      "HTTP Request: POST http://127.0.0.1:8080/embed \"HTTP/1.1 200 OK\"\n",
      "HTTP Request: POST http://127.0.0.1:8080/embed \"HTTP/1.1 200 OK\"\n",
      "HTTP Request: POST http://127.0.0.1:8080/embed \"HTTP/1.1 200 OK\"\n"
     ]
    },
    {
     "name": "stderr",
     "output_type": "stream",
     "text": [
      "\r",
      "Generating embeddings:  25%|███████████████████████████████████████████▋                                                                                                                                     | 950/3848 [07:02<21:56,  2.20it/s]"
     ]
    },
    {
     "name": "stdout",
     "output_type": "stream",
     "text": [
      "INFO:httpx:HTTP Request: POST http://127.0.0.1:8080/embed \"HTTP/1.1 200 OK\"\n",
      "HTTP Request: POST http://127.0.0.1:8080/embed \"HTTP/1.1 200 OK\"\n",
      "HTTP Request: POST http://127.0.0.1:8080/embed \"HTTP/1.1 200 OK\"\n",
      "HTTP Request: POST http://127.0.0.1:8080/embed \"HTTP/1.1 200 OK\"\n"
     ]
    },
    {
     "name": "stderr",
     "output_type": "stream",
     "text": [
      "\r",
      "Generating embeddings:  25%|████████████████████████████████████████████▏                                                                                                                                    | 960/3848 [07:08<23:46,  2.02it/s]"
     ]
    },
    {
     "name": "stdout",
     "output_type": "stream",
     "text": [
      "INFO:httpx:HTTP Request: POST http://127.0.0.1:8080/embed \"HTTP/1.1 200 OK\"\n",
      "HTTP Request: POST http://127.0.0.1:8080/embed \"HTTP/1.1 200 OK\"\n",
      "HTTP Request: POST http://127.0.0.1:8080/embed \"HTTP/1.1 200 OK\"\n",
      "HTTP Request: POST http://127.0.0.1:8080/embed \"HTTP/1.1 200 OK\"\n"
     ]
    },
    {
     "name": "stderr",
     "output_type": "stream",
     "text": [
      "\r",
      "Generating embeddings:  25%|████████████████████████████████████████████▌                                                                                                                                    | 970/3848 [07:14<25:29,  1.88it/s]"
     ]
    },
    {
     "name": "stdout",
     "output_type": "stream",
     "text": [
      "INFO:httpx:HTTP Request: POST http://127.0.0.1:8080/embed \"HTTP/1.1 200 OK\"\n",
      "HTTP Request: POST http://127.0.0.1:8080/embed \"HTTP/1.1 200 OK\"\n",
      "HTTP Request: POST http://127.0.0.1:8080/embed \"HTTP/1.1 200 OK\"\n",
      "HTTP Request: POST http://127.0.0.1:8080/embed \"HTTP/1.1 200 OK\"\n"
     ]
    },
    {
     "name": "stderr",
     "output_type": "stream",
     "text": [
      "\r",
      "Generating embeddings:  25%|█████████████████████████████████████████████                                                                                                                                    | 980/3848 [07:21<28:20,  1.69it/s]"
     ]
    },
    {
     "name": "stdout",
     "output_type": "stream",
     "text": [
      "INFO:httpx:HTTP Request: POST http://127.0.0.1:8080/embed \"HTTP/1.1 200 OK\"\n",
      "HTTP Request: POST http://127.0.0.1:8080/embed \"HTTP/1.1 200 OK\"\n",
      "HTTP Request: POST http://127.0.0.1:8080/embed \"HTTP/1.1 200 OK\"\n",
      "HTTP Request: POST http://127.0.0.1:8080/embed \"HTTP/1.1 200 OK\"\n"
     ]
    },
    {
     "name": "stderr",
     "output_type": "stream",
     "text": [
      "\r",
      "Generating embeddings:  26%|█████████████████████████████████████████████▌                                                                                                                                   | 990/3848 [07:27<27:29,  1.73it/s]"
     ]
    },
    {
     "name": "stdout",
     "output_type": "stream",
     "text": [
      "INFO:httpx:HTTP Request: POST http://127.0.0.1:8080/embed \"HTTP/1.1 200 OK\"\n",
      "HTTP Request: POST http://127.0.0.1:8080/embed \"HTTP/1.1 200 OK\"\n",
      "HTTP Request: POST http://127.0.0.1:8080/embed \"HTTP/1.1 200 OK\"\n",
      "HTTP Request: POST http://127.0.0.1:8080/embed \"HTTP/1.1 200 OK\"\n"
     ]
    },
    {
     "name": "stderr",
     "output_type": "stream",
     "text": [
      "\r",
      "Generating embeddings:  26%|█████████████████████████████████████████████▋                                                                                                                                  | 1000/3848 [07:35<31:16,  1.52it/s]"
     ]
    },
    {
     "name": "stdout",
     "output_type": "stream",
     "text": [
      "INFO:httpx:HTTP Request: POST http://127.0.0.1:8080/embed \"HTTP/1.1 200 OK\"\n",
      "HTTP Request: POST http://127.0.0.1:8080/embed \"HTTP/1.1 200 OK\"\n",
      "HTTP Request: POST http://127.0.0.1:8080/embed \"HTTP/1.1 200 OK\"\n",
      "HTTP Request: POST http://127.0.0.1:8080/embed \"HTTP/1.1 200 OK\"\n"
     ]
    },
    {
     "name": "stderr",
     "output_type": "stream",
     "text": [
      "\r",
      "Generating embeddings:  26%|██████████████████████████████████████████████▏                                                                                                                                 | 1010/3848 [07:41<30:44,  1.54it/s]"
     ]
    },
    {
     "name": "stdout",
     "output_type": "stream",
     "text": [
      "INFO:httpx:HTTP Request: POST http://127.0.0.1:8080/embed \"HTTP/1.1 200 OK\"\n",
      "HTTP Request: POST http://127.0.0.1:8080/embed \"HTTP/1.1 200 OK\"\n",
      "HTTP Request: POST http://127.0.0.1:8080/embed \"HTTP/1.1 200 OK\"\n",
      "HTTP Request: POST http://127.0.0.1:8080/embed \"HTTP/1.1 200 OK\"\n"
     ]
    },
    {
     "name": "stderr",
     "output_type": "stream",
     "text": [
      "\r",
      "Generating embeddings:  27%|██████████████████████████████████████████████▋                                                                                                                                 | 1020/3848 [07:46<28:36,  1.65it/s]"
     ]
    },
    {
     "name": "stdout",
     "output_type": "stream",
     "text": [
      "INFO:httpx:HTTP Request: POST http://127.0.0.1:8080/embed \"HTTP/1.1 200 OK\"\n",
      "HTTP Request: POST http://127.0.0.1:8080/embed \"HTTP/1.1 200 OK\"\n",
      "HTTP Request: POST http://127.0.0.1:8080/embed \"HTTP/1.1 200 OK\"\n",
      "HTTP Request: POST http://127.0.0.1:8080/embed \"HTTP/1.1 200 OK\"\n"
     ]
    },
    {
     "name": "stderr",
     "output_type": "stream",
     "text": [
      "\r",
      "Generating embeddings:  27%|███████████████████████████████████████████████                                                                                                                                 | 1030/3848 [07:52<27:23,  1.71it/s]"
     ]
    },
    {
     "name": "stdout",
     "output_type": "stream",
     "text": [
      "INFO:httpx:HTTP Request: POST http://127.0.0.1:8080/embed \"HTTP/1.1 200 OK\"\n",
      "HTTP Request: POST http://127.0.0.1:8080/embed \"HTTP/1.1 200 OK\"\n",
      "HTTP Request: POST http://127.0.0.1:8080/embed \"HTTP/1.1 200 OK\"\n",
      "HTTP Request: POST http://127.0.0.1:8080/embed \"HTTP/1.1 200 OK\"\n"
     ]
    },
    {
     "name": "stderr",
     "output_type": "stream",
     "text": [
      "\r",
      "Generating embeddings:  27%|███████████████████████████████████████████████▌                                                                                                                                | 1040/3848 [07:57<27:06,  1.73it/s]"
     ]
    },
    {
     "name": "stdout",
     "output_type": "stream",
     "text": [
      "INFO:httpx:HTTP Request: POST http://127.0.0.1:8080/embed \"HTTP/1.1 200 OK\"\n",
      "HTTP Request: POST http://127.0.0.1:8080/embed \"HTTP/1.1 200 OK\"\n",
      "HTTP Request: POST http://127.0.0.1:8080/embed \"HTTP/1.1 200 OK\"\n",
      "HTTP Request: POST http://127.0.0.1:8080/embed \"HTTP/1.1 200 OK\"\n"
     ]
    },
    {
     "name": "stderr",
     "output_type": "stream",
     "text": [
      "\r",
      "Generating embeddings:  27%|████████████████████████████████████████████████                                                                                                                                | 1050/3848 [08:04<28:41,  1.63it/s]"
     ]
    },
    {
     "name": "stdout",
     "output_type": "stream",
     "text": [
      "INFO:httpx:HTTP Request: POST http://127.0.0.1:8080/embed \"HTTP/1.1 200 OK\"\n",
      "HTTP Request: POST http://127.0.0.1:8080/embed \"HTTP/1.1 200 OK\"\n",
      "HTTP Request: POST http://127.0.0.1:8080/embed \"HTTP/1.1 200 OK\"\n",
      "HTTP Request: POST http://127.0.0.1:8080/embed \"HTTP/1.1 200 OK\"\n"
     ]
    },
    {
     "name": "stderr",
     "output_type": "stream",
     "text": [
      "\r",
      "Generating embeddings:  28%|████████████████████████████████████████████████▍                                                                                                                               | 1060/3848 [08:10<28:12,  1.65it/s]"
     ]
    },
    {
     "name": "stdout",
     "output_type": "stream",
     "text": [
      "INFO:httpx:HTTP Request: POST http://127.0.0.1:8080/embed \"HTTP/1.1 200 OK\"\n",
      "HTTP Request: POST http://127.0.0.1:8080/embed \"HTTP/1.1 200 OK\"\n",
      "HTTP Request: POST http://127.0.0.1:8080/embed \"HTTP/1.1 200 OK\"\n",
      "HTTP Request: POST http://127.0.0.1:8080/embed \"HTTP/1.1 200 OK\"\n"
     ]
    },
    {
     "name": "stderr",
     "output_type": "stream",
     "text": [
      "\r",
      "Generating embeddings:  28%|████████████████████████████████████████████████▉                                                                                                                               | 1070/3848 [08:17<28:51,  1.60it/s]"
     ]
    },
    {
     "name": "stdout",
     "output_type": "stream",
     "text": [
      "INFO:httpx:HTTP Request: POST http://127.0.0.1:8080/embed \"HTTP/1.1 200 OK\"\n",
      "HTTP Request: POST http://127.0.0.1:8080/embed \"HTTP/1.1 200 OK\"\n",
      "HTTP Request: POST http://127.0.0.1:8080/embed \"HTTP/1.1 200 OK\"\n",
      "HTTP Request: POST http://127.0.0.1:8080/embed \"HTTP/1.1 200 OK\"\n"
     ]
    },
    {
     "name": "stderr",
     "output_type": "stream",
     "text": [
      "\r",
      "Generating embeddings:  28%|█████████████████████████████████████████████████▍                                                                                                                              | 1080/3848 [08:21<26:14,  1.76it/s]"
     ]
    },
    {
     "name": "stdout",
     "output_type": "stream",
     "text": [
      "INFO:httpx:HTTP Request: POST http://127.0.0.1:8080/embed \"HTTP/1.1 200 OK\"\n",
      "HTTP Request: POST http://127.0.0.1:8080/embed \"HTTP/1.1 200 OK\"\n",
      "HTTP Request: POST http://127.0.0.1:8080/embed \"HTTP/1.1 200 OK\"\n",
      "HTTP Request: POST http://127.0.0.1:8080/embed \"HTTP/1.1 200 OK\"\n"
     ]
    },
    {
     "name": "stderr",
     "output_type": "stream",
     "text": [
      "\r",
      "Generating embeddings:  28%|█████████████████████████████████████████████████▊                                                                                                                              | 1090/3848 [08:27<25:38,  1.79it/s]"
     ]
    },
    {
     "name": "stdout",
     "output_type": "stream",
     "text": [
      "INFO:httpx:HTTP Request: POST http://127.0.0.1:8080/embed \"HTTP/1.1 200 OK\"\n",
      "HTTP Request: POST http://127.0.0.1:8080/embed \"HTTP/1.1 200 OK\"\n",
      "HTTP Request: POST http://127.0.0.1:8080/embed \"HTTP/1.1 200 OK\"\n",
      "HTTP Request: POST http://127.0.0.1:8080/embed \"HTTP/1.1 200 OK\"\n"
     ]
    },
    {
     "name": "stderr",
     "output_type": "stream",
     "text": [
      "\r",
      "Generating embeddings:  29%|██████████████████████████████████████████████████▎                                                                                                                             | 1100/3848 [08:31<23:48,  1.92it/s]"
     ]
    },
    {
     "name": "stdout",
     "output_type": "stream",
     "text": [
      "INFO:httpx:HTTP Request: POST http://127.0.0.1:8080/embed \"HTTP/1.1 200 OK\"\n",
      "HTTP Request: POST http://127.0.0.1:8080/embed \"HTTP/1.1 200 OK\"\n",
      "HTTP Request: POST http://127.0.0.1:8080/embed \"HTTP/1.1 200 OK\"\n",
      "HTTP Request: POST http://127.0.0.1:8080/embed \"HTTP/1.1 200 OK\"\n"
     ]
    },
    {
     "name": "stderr",
     "output_type": "stream",
     "text": [
      "\r",
      "Generating embeddings:  29%|██████████████████████████████████████████████████▊                                                                                                                             | 1110/3848 [08:35<22:33,  2.02it/s]"
     ]
    },
    {
     "name": "stdout",
     "output_type": "stream",
     "text": [
      "INFO:httpx:HTTP Request: POST http://127.0.0.1:8080/embed \"HTTP/1.1 200 OK\"\n",
      "HTTP Request: POST http://127.0.0.1:8080/embed \"HTTP/1.1 200 OK\"\n",
      "HTTP Request: POST http://127.0.0.1:8080/embed \"HTTP/1.1 200 OK\"\n",
      "HTTP Request: POST http://127.0.0.1:8080/embed \"HTTP/1.1 200 OK\"\n"
     ]
    },
    {
     "name": "stderr",
     "output_type": "stream",
     "text": [
      "\r",
      "Generating embeddings:  29%|███████████████████████████████████████████████████▏                                                                                                                            | 1120/3848 [08:40<22:02,  2.06it/s]"
     ]
    },
    {
     "name": "stdout",
     "output_type": "stream",
     "text": [
      "INFO:httpx:HTTP Request: POST http://127.0.0.1:8080/embed \"HTTP/1.1 200 OK\"\n",
      "HTTP Request: POST http://127.0.0.1:8080/embed \"HTTP/1.1 200 OK\"\n",
      "HTTP Request: POST http://127.0.0.1:8080/embed \"HTTP/1.1 200 OK\"\n",
      "HTTP Request: POST http://127.0.0.1:8080/embed \"HTTP/1.1 200 OK\"\n"
     ]
    },
    {
     "name": "stderr",
     "output_type": "stream",
     "text": [
      "\r",
      "Generating embeddings:  29%|███████████████████████████████████████████████████▋                                                                                                                            | 1130/3848 [08:45<21:47,  2.08it/s]"
     ]
    },
    {
     "name": "stdout",
     "output_type": "stream",
     "text": [
      "INFO:httpx:HTTP Request: POST http://127.0.0.1:8080/embed \"HTTP/1.1 200 OK\"\n",
      "HTTP Request: POST http://127.0.0.1:8080/embed \"HTTP/1.1 200 OK\"\n",
      "HTTP Request: POST http://127.0.0.1:8080/embed \"HTTP/1.1 200 OK\"\n",
      "HTTP Request: POST http://127.0.0.1:8080/embed \"HTTP/1.1 200 OK\"\n"
     ]
    },
    {
     "name": "stderr",
     "output_type": "stream",
     "text": [
      "\r",
      "Generating embeddings:  30%|████████████████████████████████████████████████████▏                                                                                                                           | 1140/3848 [08:49<21:09,  2.13it/s]"
     ]
    },
    {
     "name": "stdout",
     "output_type": "stream",
     "text": [
      "INFO:httpx:HTTP Request: POST http://127.0.0.1:8080/embed \"HTTP/1.1 200 OK\"\n",
      "HTTP Request: POST http://127.0.0.1:8080/embed \"HTTP/1.1 200 OK\"\n",
      "HTTP Request: POST http://127.0.0.1:8080/embed \"HTTP/1.1 200 OK\"\n",
      "HTTP Request: POST http://127.0.0.1:8080/embed \"HTTP/1.1 200 OK\"\n"
     ]
    },
    {
     "name": "stderr",
     "output_type": "stream",
     "text": [
      "\r",
      "Generating embeddings:  30%|████████████████████████████████████████████████████▌                                                                                                                           | 1150/3848 [08:53<20:32,  2.19it/s]"
     ]
    },
    {
     "name": "stdout",
     "output_type": "stream",
     "text": [
      "INFO:httpx:HTTP Request: POST http://127.0.0.1:8080/embed \"HTTP/1.1 200 OK\"\n",
      "HTTP Request: POST http://127.0.0.1:8080/embed \"HTTP/1.1 200 OK\"\n",
      "HTTP Request: POST http://127.0.0.1:8080/embed \"HTTP/1.1 200 OK\"\n",
      "HTTP Request: POST http://127.0.0.1:8080/embed \"HTTP/1.1 200 OK\"\n"
     ]
    },
    {
     "name": "stderr",
     "output_type": "stream",
     "text": [
      "\r",
      "Generating embeddings:  30%|█████████████████████████████████████████████████████                                                                                                                           | 1160/3848 [08:58<20:47,  2.16it/s]"
     ]
    },
    {
     "name": "stdout",
     "output_type": "stream",
     "text": [
      "INFO:httpx:HTTP Request: POST http://127.0.0.1:8080/embed \"HTTP/1.1 200 OK\"\n",
      "HTTP Request: POST http://127.0.0.1:8080/embed \"HTTP/1.1 200 OK\"\n",
      "HTTP Request: POST http://127.0.0.1:8080/embed \"HTTP/1.1 200 OK\"\n",
      "HTTP Request: POST http://127.0.0.1:8080/embed \"HTTP/1.1 200 OK\"\n"
     ]
    },
    {
     "name": "stderr",
     "output_type": "stream",
     "text": [
      "\r",
      "Generating embeddings:  30%|█████████████████████████████████████████████████████▌                                                                                                                          | 1170/3848 [09:02<20:10,  2.21it/s]"
     ]
    },
    {
     "name": "stdout",
     "output_type": "stream",
     "text": [
      "INFO:httpx:HTTP Request: POST http://127.0.0.1:8080/embed \"HTTP/1.1 200 OK\"\n",
      "HTTP Request: POST http://127.0.0.1:8080/embed \"HTTP/1.1 200 OK\"\n",
      "HTTP Request: POST http://127.0.0.1:8080/embed \"HTTP/1.1 200 OK\"\n",
      "HTTP Request: POST http://127.0.0.1:8080/embed \"HTTP/1.1 200 OK\"\n"
     ]
    },
    {
     "name": "stderr",
     "output_type": "stream",
     "text": [
      "\r",
      "Generating embeddings:  31%|█████████████████████████████████████████████████████▉                                                                                                                          | 1180/3848 [09:06<19:19,  2.30it/s]"
     ]
    },
    {
     "name": "stdout",
     "output_type": "stream",
     "text": [
      "INFO:httpx:HTTP Request: POST http://127.0.0.1:8080/embed \"HTTP/1.1 200 OK\"\n",
      "HTTP Request: POST http://127.0.0.1:8080/embed \"HTTP/1.1 200 OK\"\n",
      "HTTP Request: POST http://127.0.0.1:8080/embed \"HTTP/1.1 200 OK\"\n",
      "HTTP Request: POST http://127.0.0.1:8080/embed \"HTTP/1.1 200 OK\"\n"
     ]
    },
    {
     "name": "stderr",
     "output_type": "stream",
     "text": [
      "\r",
      "Generating embeddings:  31%|██████████████████████████████████████████████████████▍                                                                                                                         | 1190/3848 [09:10<18:09,  2.44it/s]"
     ]
    },
    {
     "name": "stdout",
     "output_type": "stream",
     "text": [
      "INFO:httpx:HTTP Request: POST http://127.0.0.1:8080/embed \"HTTP/1.1 200 OK\"\n",
      "HTTP Request: POST http://127.0.0.1:8080/embed \"HTTP/1.1 200 OK\"\n",
      "HTTP Request: POST http://127.0.0.1:8080/embed \"HTTP/1.1 200 OK\"\n",
      "HTTP Request: POST http://127.0.0.1:8080/embed \"HTTP/1.1 200 OK\"\n"
     ]
    },
    {
     "name": "stderr",
     "output_type": "stream",
     "text": [
      "\r",
      "Generating embeddings:  31%|██████████████████████████████████████████████████████▉                                                                                                                         | 1200/3848 [09:14<18:33,  2.38it/s]"
     ]
    },
    {
     "name": "stdout",
     "output_type": "stream",
     "text": [
      "INFO:httpx:HTTP Request: POST http://127.0.0.1:8080/embed \"HTTP/1.1 200 OK\"\n",
      "HTTP Request: POST http://127.0.0.1:8080/embed \"HTTP/1.1 200 OK\"\n",
      "HTTP Request: POST http://127.0.0.1:8080/embed \"HTTP/1.1 200 OK\"\n",
      "HTTP Request: POST http://127.0.0.1:8080/embed \"HTTP/1.1 200 OK\"\n"
     ]
    },
    {
     "name": "stderr",
     "output_type": "stream",
     "text": [
      "\r",
      "Generating embeddings:  31%|███████████████████████████████████████████████████████▎                                                                                                                        | 1210/3848 [09:19<18:35,  2.37it/s]"
     ]
    },
    {
     "name": "stdout",
     "output_type": "stream",
     "text": [
      "INFO:httpx:HTTP Request: POST http://127.0.0.1:8080/embed \"HTTP/1.1 200 OK\"\n",
      "HTTP Request: POST http://127.0.0.1:8080/embed \"HTTP/1.1 200 OK\"\n",
      "HTTP Request: POST http://127.0.0.1:8080/embed \"HTTP/1.1 200 OK\"\n",
      "HTTP Request: POST http://127.0.0.1:8080/embed \"HTTP/1.1 200 OK\"\n"
     ]
    },
    {
     "name": "stderr",
     "output_type": "stream",
     "text": [
      "\r",
      "Generating embeddings:  32%|███████████████████████████████████████████████████████▊                                                                                                                        | 1220/3848 [09:23<18:58,  2.31it/s]"
     ]
    },
    {
     "name": "stdout",
     "output_type": "stream",
     "text": [
      "INFO:httpx:HTTP Request: POST http://127.0.0.1:8080/embed \"HTTP/1.1 200 OK\"\n",
      "HTTP Request: POST http://127.0.0.1:8080/embed \"HTTP/1.1 200 OK\"\n",
      "HTTP Request: POST http://127.0.0.1:8080/embed \"HTTP/1.1 200 OK\"\n",
      "HTTP Request: POST http://127.0.0.1:8080/embed \"HTTP/1.1 200 OK\"\n"
     ]
    },
    {
     "name": "stderr",
     "output_type": "stream",
     "text": [
      "\r",
      "Generating embeddings:  32%|████████████████████████████████████████████████████████▎                                                                                                                       | 1230/3848 [09:27<18:18,  2.38it/s]"
     ]
    },
    {
     "name": "stdout",
     "output_type": "stream",
     "text": [
      "INFO:httpx:HTTP Request: POST http://127.0.0.1:8080/embed \"HTTP/1.1 200 OK\"\n",
      "HTTP Request: POST http://127.0.0.1:8080/embed \"HTTP/1.1 200 OK\"\n",
      "HTTP Request: POST http://127.0.0.1:8080/embed \"HTTP/1.1 200 OK\"\n",
      "HTTP Request: POST http://127.0.0.1:8080/embed \"HTTP/1.1 200 OK\"\n"
     ]
    },
    {
     "name": "stderr",
     "output_type": "stream",
     "text": [
      "\r",
      "Generating embeddings:  32%|████████████████████████████████████████████████████████▋                                                                                                                       | 1240/3848 [09:32<19:27,  2.23it/s]"
     ]
    },
    {
     "name": "stdout",
     "output_type": "stream",
     "text": [
      "INFO:httpx:HTTP Request: POST http://127.0.0.1:8080/embed \"HTTP/1.1 200 OK\"\n",
      "HTTP Request: POST http://127.0.0.1:8080/embed \"HTTP/1.1 200 OK\"\n",
      "HTTP Request: POST http://127.0.0.1:8080/embed \"HTTP/1.1 200 OK\"\n",
      "HTTP Request: POST http://127.0.0.1:8080/embed \"HTTP/1.1 200 OK\"\n"
     ]
    },
    {
     "name": "stderr",
     "output_type": "stream",
     "text": [
      "\r",
      "Generating embeddings:  32%|█████████████████████████████████████████████████████████▏                                                                                                                      | 1250/3848 [09:36<19:05,  2.27it/s]"
     ]
    },
    {
     "name": "stdout",
     "output_type": "stream",
     "text": [
      "INFO:httpx:HTTP Request: POST http://127.0.0.1:8080/embed \"HTTP/1.1 200 OK\"\n",
      "HTTP Request: POST http://127.0.0.1:8080/embed \"HTTP/1.1 200 OK\"\n",
      "HTTP Request: POST http://127.0.0.1:8080/embed \"HTTP/1.1 200 OK\"\n",
      "HTTP Request: POST http://127.0.0.1:8080/embed \"HTTP/1.1 200 OK\"\n"
     ]
    },
    {
     "name": "stderr",
     "output_type": "stream",
     "text": [
      "\r",
      "Generating embeddings:  33%|█████████████████████████████████████████████████████████▋                                                                                                                      | 1260/3848 [09:41<18:51,  2.29it/s]"
     ]
    },
    {
     "name": "stdout",
     "output_type": "stream",
     "text": [
      "INFO:httpx:HTTP Request: POST http://127.0.0.1:8080/embed \"HTTP/1.1 200 OK\"\n",
      "HTTP Request: POST http://127.0.0.1:8080/embed \"HTTP/1.1 200 OK\"\n",
      "HTTP Request: POST http://127.0.0.1:8080/embed \"HTTP/1.1 200 OK\"\n",
      "HTTP Request: POST http://127.0.0.1:8080/embed \"HTTP/1.1 200 OK\"\n"
     ]
    },
    {
     "name": "stderr",
     "output_type": "stream",
     "text": [
      "\r",
      "Generating embeddings:  33%|██████████████████████████████████████████████████████████                                                                                                                      | 1270/3848 [09:45<19:22,  2.22it/s]"
     ]
    },
    {
     "name": "stdout",
     "output_type": "stream",
     "text": [
      "INFO:httpx:HTTP Request: POST http://127.0.0.1:8080/embed \"HTTP/1.1 200 OK\"\n",
      "HTTP Request: POST http://127.0.0.1:8080/embed \"HTTP/1.1 200 OK\"\n",
      "HTTP Request: POST http://127.0.0.1:8080/embed \"HTTP/1.1 200 OK\"\n",
      "HTTP Request: POST http://127.0.0.1:8080/embed \"HTTP/1.1 200 OK\"\n"
     ]
    },
    {
     "name": "stderr",
     "output_type": "stream",
     "text": [
      "\r",
      "Generating embeddings:  33%|██████████████████████████████████████████████████████████▌                                                                                                                     | 1280/3848 [09:50<19:07,  2.24it/s]"
     ]
    },
    {
     "name": "stdout",
     "output_type": "stream",
     "text": [
      "INFO:httpx:HTTP Request: POST http://127.0.0.1:8080/embed \"HTTP/1.1 200 OK\"\n",
      "HTTP Request: POST http://127.0.0.1:8080/embed \"HTTP/1.1 200 OK\"\n",
      "HTTP Request: POST http://127.0.0.1:8080/embed \"HTTP/1.1 200 OK\"\n",
      "HTTP Request: POST http://127.0.0.1:8080/embed \"HTTP/1.1 200 OK\"\n"
     ]
    },
    {
     "name": "stderr",
     "output_type": "stream",
     "text": [
      "\r",
      "Generating embeddings:  34%|███████████████████████████████████████████████████████████                                                                                                                     | 1290/3848 [09:54<18:30,  2.30it/s]"
     ]
    },
    {
     "name": "stdout",
     "output_type": "stream",
     "text": [
      "INFO:httpx:HTTP Request: POST http://127.0.0.1:8080/embed \"HTTP/1.1 200 OK\"\n",
      "HTTP Request: POST http://127.0.0.1:8080/embed \"HTTP/1.1 200 OK\"\n",
      "HTTP Request: POST http://127.0.0.1:8080/embed \"HTTP/1.1 200 OK\"\n",
      "HTTP Request: POST http://127.0.0.1:8080/embed \"HTTP/1.1 200 OK\"\n"
     ]
    },
    {
     "name": "stderr",
     "output_type": "stream",
     "text": [
      "\r",
      "Generating embeddings:  34%|███████████████████████████████████████████████████████████▍                                                                                                                    | 1300/3848 [09:58<18:10,  2.34it/s]"
     ]
    },
    {
     "name": "stdout",
     "output_type": "stream",
     "text": [
      "INFO:httpx:HTTP Request: POST http://127.0.0.1:8080/embed \"HTTP/1.1 200 OK\"\n",
      "HTTP Request: POST http://127.0.0.1:8080/embed \"HTTP/1.1 200 OK\"\n",
      "HTTP Request: POST http://127.0.0.1:8080/embed \"HTTP/1.1 200 OK\"\n",
      "HTTP Request: POST http://127.0.0.1:8080/embed \"HTTP/1.1 200 OK\"\n"
     ]
    },
    {
     "name": "stderr",
     "output_type": "stream",
     "text": [
      "\r",
      "Generating embeddings:  34%|███████████████████████████████████████████████████████████▉                                                                                                                    | 1310/3848 [10:02<17:45,  2.38it/s]"
     ]
    },
    {
     "name": "stdout",
     "output_type": "stream",
     "text": [
      "INFO:httpx:HTTP Request: POST http://127.0.0.1:8080/embed \"HTTP/1.1 200 OK\"\n",
      "HTTP Request: POST http://127.0.0.1:8080/embed \"HTTP/1.1 200 OK\"\n",
      "HTTP Request: POST http://127.0.0.1:8080/embed \"HTTP/1.1 200 OK\"\n",
      "HTTP Request: POST http://127.0.0.1:8080/embed \"HTTP/1.1 200 OK\"\n"
     ]
    },
    {
     "name": "stderr",
     "output_type": "stream",
     "text": [
      "\r",
      "Generating embeddings:  34%|████████████████████████████████████████████████████████████▎                                                                                                                   | 1320/3848 [10:06<17:30,  2.41it/s]"
     ]
    },
    {
     "name": "stdout",
     "output_type": "stream",
     "text": [
      "INFO:httpx:HTTP Request: POST http://127.0.0.1:8080/embed \"HTTP/1.1 200 OK\"\n",
      "HTTP Request: POST http://127.0.0.1:8080/embed \"HTTP/1.1 200 OK\"\n",
      "HTTP Request: POST http://127.0.0.1:8080/embed \"HTTP/1.1 200 OK\"\n",
      "HTTP Request: POST http://127.0.0.1:8080/embed \"HTTP/1.1 200 OK\"\n"
     ]
    },
    {
     "name": "stderr",
     "output_type": "stream",
     "text": [
      "\r",
      "Generating embeddings:  35%|████████████████████████████████████████████████████████████▊                                                                                                                   | 1330/3848 [10:10<17:23,  2.41it/s]"
     ]
    },
    {
     "name": "stdout",
     "output_type": "stream",
     "text": [
      "INFO:httpx:HTTP Request: POST http://127.0.0.1:8080/embed \"HTTP/1.1 200 OK\"\n",
      "HTTP Request: POST http://127.0.0.1:8080/embed \"HTTP/1.1 200 OK\"\n",
      "HTTP Request: POST http://127.0.0.1:8080/embed \"HTTP/1.1 200 OK\"\n",
      "HTTP Request: POST http://127.0.0.1:8080/embed \"HTTP/1.1 200 OK\"\n"
     ]
    },
    {
     "name": "stderr",
     "output_type": "stream",
     "text": [
      "\r",
      "Generating embeddings:  35%|█████████████████████████████████████████████████████████████▎                                                                                                                  | 1340/3848 [10:14<17:15,  2.42it/s]"
     ]
    },
    {
     "name": "stdout",
     "output_type": "stream",
     "text": [
      "INFO:httpx:HTTP Request: POST http://127.0.0.1:8080/embed \"HTTP/1.1 200 OK\"\n",
      "HTTP Request: POST http://127.0.0.1:8080/embed \"HTTP/1.1 200 OK\"\n",
      "HTTP Request: POST http://127.0.0.1:8080/embed \"HTTP/1.1 200 OK\"\n",
      "HTTP Request: POST http://127.0.0.1:8080/embed \"HTTP/1.1 200 OK\"\n"
     ]
    },
    {
     "name": "stderr",
     "output_type": "stream",
     "text": [
      "\r",
      "Generating embeddings:  35%|█████████████████████████████████████████████████████████████▋                                                                                                                  | 1350/3848 [10:18<17:00,  2.45it/s]"
     ]
    },
    {
     "name": "stdout",
     "output_type": "stream",
     "text": [
      "INFO:httpx:HTTP Request: POST http://127.0.0.1:8080/embed \"HTTP/1.1 200 OK\"\n",
      "HTTP Request: POST http://127.0.0.1:8080/embed \"HTTP/1.1 200 OK\"\n",
      "HTTP Request: POST http://127.0.0.1:8080/embed \"HTTP/1.1 200 OK\"\n",
      "HTTP Request: POST http://127.0.0.1:8080/embed \"HTTP/1.1 200 OK\"\n"
     ]
    },
    {
     "name": "stderr",
     "output_type": "stream",
     "text": [
      "\r",
      "Generating embeddings:  35%|██████████████████████████████████████████████████████████████▏                                                                                                                 | 1360/3848 [10:23<17:38,  2.35it/s]"
     ]
    },
    {
     "name": "stdout",
     "output_type": "stream",
     "text": [
      "INFO:httpx:HTTP Request: POST http://127.0.0.1:8080/embed \"HTTP/1.1 200 OK\"\n",
      "HTTP Request: POST http://127.0.0.1:8080/embed \"HTTP/1.1 200 OK\"\n",
      "HTTP Request: POST http://127.0.0.1:8080/embed \"HTTP/1.1 200 OK\"\n",
      "HTTP Request: POST http://127.0.0.1:8080/embed \"HTTP/1.1 200 OK\"\n"
     ]
    },
    {
     "name": "stderr",
     "output_type": "stream",
     "text": [
      "\r",
      "Generating embeddings:  36%|██████████████████████████████████████████████████████████████▋                                                                                                                 | 1370/3848 [10:27<17:38,  2.34it/s]"
     ]
    },
    {
     "name": "stdout",
     "output_type": "stream",
     "text": [
      "INFO:httpx:HTTP Request: POST http://127.0.0.1:8080/embed \"HTTP/1.1 200 OK\"\n",
      "HTTP Request: POST http://127.0.0.1:8080/embed \"HTTP/1.1 200 OK\"\n",
      "HTTP Request: POST http://127.0.0.1:8080/embed \"HTTP/1.1 200 OK\"\n",
      "HTTP Request: POST http://127.0.0.1:8080/embed \"HTTP/1.1 200 OK\"\n"
     ]
    },
    {
     "name": "stderr",
     "output_type": "stream",
     "text": [
      "\r",
      "Generating embeddings:  36%|███████████████████████████████████████████████████████████████                                                                                                                 | 1380/3848 [10:31<17:25,  2.36it/s]"
     ]
    },
    {
     "name": "stdout",
     "output_type": "stream",
     "text": [
      "INFO:httpx:HTTP Request: POST http://127.0.0.1:8080/embed \"HTTP/1.1 200 OK\"\n",
      "HTTP Request: POST http://127.0.0.1:8080/embed \"HTTP/1.1 200 OK\"\n",
      "HTTP Request: POST http://127.0.0.1:8080/embed \"HTTP/1.1 200 OK\"\n",
      "HTTP Request: POST http://127.0.0.1:8080/embed \"HTTP/1.1 200 OK\"\n"
     ]
    },
    {
     "name": "stderr",
     "output_type": "stream",
     "text": [
      "\r",
      "Generating embeddings:  36%|███████████████████████████████████████████████████████████████▌                                                                                                                | 1390/3848 [10:36<17:17,  2.37it/s]"
     ]
    },
    {
     "name": "stdout",
     "output_type": "stream",
     "text": [
      "INFO:httpx:HTTP Request: POST http://127.0.0.1:8080/embed \"HTTP/1.1 200 OK\"\n",
      "HTTP Request: POST http://127.0.0.1:8080/embed \"HTTP/1.1 200 OK\"\n",
      "HTTP Request: POST http://127.0.0.1:8080/embed \"HTTP/1.1 200 OK\"\n",
      "HTTP Request: POST http://127.0.0.1:8080/embed \"HTTP/1.1 200 OK\"\n"
     ]
    },
    {
     "name": "stderr",
     "output_type": "stream",
     "text": [
      "\r",
      "Generating embeddings:  36%|████████████████████████████████████████████████████████████████                                                                                                                | 1400/3848 [10:41<18:31,  2.20it/s]"
     ]
    },
    {
     "name": "stdout",
     "output_type": "stream",
     "text": [
      "INFO:httpx:HTTP Request: POST http://127.0.0.1:8080/embed \"HTTP/1.1 200 OK\"\n",
      "HTTP Request: POST http://127.0.0.1:8080/embed \"HTTP/1.1 200 OK\"\n",
      "HTTP Request: POST http://127.0.0.1:8080/embed \"HTTP/1.1 200 OK\"\n",
      "HTTP Request: POST http://127.0.0.1:8080/embed \"HTTP/1.1 200 OK\"\n"
     ]
    },
    {
     "name": "stderr",
     "output_type": "stream",
     "text": [
      "\r",
      "Generating embeddings:  37%|████████████████████████████████████████████████████████████████▍                                                                                                               | 1410/3848 [10:46<18:58,  2.14it/s]"
     ]
    },
    {
     "name": "stdout",
     "output_type": "stream",
     "text": [
      "INFO:httpx:HTTP Request: POST http://127.0.0.1:8080/embed \"HTTP/1.1 200 OK\"\n",
      "HTTP Request: POST http://127.0.0.1:8080/embed \"HTTP/1.1 200 OK\"\n",
      "HTTP Request: POST http://127.0.0.1:8080/embed \"HTTP/1.1 200 OK\"\n",
      "HTTP Request: POST http://127.0.0.1:8080/embed \"HTTP/1.1 200 OK\"\n"
     ]
    },
    {
     "name": "stderr",
     "output_type": "stream",
     "text": [
      "\r",
      "Generating embeddings:  37%|████████████████████████████████████████████████████████████████▉                                                                                                               | 1420/3848 [10:52<20:17,  1.99it/s]"
     ]
    },
    {
     "name": "stdout",
     "output_type": "stream",
     "text": [
      "INFO:httpx:HTTP Request: POST http://127.0.0.1:8080/embed \"HTTP/1.1 200 OK\"\n",
      "HTTP Request: POST http://127.0.0.1:8080/embed \"HTTP/1.1 200 OK\"\n",
      "HTTP Request: POST http://127.0.0.1:8080/embed \"HTTP/1.1 200 OK\"\n",
      "HTTP Request: POST http://127.0.0.1:8080/embed \"HTTP/1.1 200 OK\"\n"
     ]
    },
    {
     "name": "stderr",
     "output_type": "stream",
     "text": [
      "\r",
      "Generating embeddings:  37%|█████████████████████████████████████████████████████████████████▍                                                                                                              | 1430/3848 [10:56<20:00,  2.01it/s]"
     ]
    },
    {
     "name": "stdout",
     "output_type": "stream",
     "text": [
      "INFO:httpx:HTTP Request: POST http://127.0.0.1:8080/embed \"HTTP/1.1 200 OK\"\n",
      "HTTP Request: POST http://127.0.0.1:8080/embed \"HTTP/1.1 200 OK\"\n",
      "HTTP Request: POST http://127.0.0.1:8080/embed \"HTTP/1.1 200 OK\"\n",
      "HTTP Request: POST http://127.0.0.1:8080/embed \"HTTP/1.1 200 OK\"\n"
     ]
    },
    {
     "name": "stderr",
     "output_type": "stream",
     "text": [
      "\r",
      "Generating embeddings:  37%|█████████████████████████████████████████████████████████████████▊                                                                                                              | 1440/3848 [11:01<19:21,  2.07it/s]"
     ]
    },
    {
     "name": "stdout",
     "output_type": "stream",
     "text": [
      "INFO:httpx:HTTP Request: POST http://127.0.0.1:8080/embed \"HTTP/1.1 200 OK\"\n",
      "HTTP Request: POST http://127.0.0.1:8080/embed \"HTTP/1.1 200 OK\"\n",
      "HTTP Request: POST http://127.0.0.1:8080/embed \"HTTP/1.1 200 OK\"\n",
      "HTTP Request: POST http://127.0.0.1:8080/embed \"HTTP/1.1 200 OK\"\n"
     ]
    },
    {
     "name": "stderr",
     "output_type": "stream",
     "text": [
      "\r",
      "Generating embeddings:  38%|██████████████████████████████████████████████████████████████████▎                                                                                                             | 1450/3848 [11:06<19:25,  2.06it/s]"
     ]
    },
    {
     "name": "stdout",
     "output_type": "stream",
     "text": [
      "INFO:httpx:HTTP Request: POST http://127.0.0.1:8080/embed \"HTTP/1.1 200 OK\"\n",
      "HTTP Request: POST http://127.0.0.1:8080/embed \"HTTP/1.1 200 OK\"\n",
      "HTTP Request: POST http://127.0.0.1:8080/embed \"HTTP/1.1 200 OK\"\n",
      "HTTP Request: POST http://127.0.0.1:8080/embed \"HTTP/1.1 200 OK\"\n"
     ]
    },
    {
     "name": "stderr",
     "output_type": "stream",
     "text": [
      "\r",
      "Generating embeddings:  38%|██████████████████████████████████████████████████████████████████▊                                                                                                             | 1460/3848 [11:11<20:08,  1.98it/s]"
     ]
    },
    {
     "name": "stdout",
     "output_type": "stream",
     "text": [
      "INFO:httpx:HTTP Request: POST http://127.0.0.1:8080/embed \"HTTP/1.1 200 OK\"\n",
      "HTTP Request: POST http://127.0.0.1:8080/embed \"HTTP/1.1 200 OK\"\n",
      "HTTP Request: POST http://127.0.0.1:8080/embed \"HTTP/1.1 200 OK\"\n",
      "HTTP Request: POST http://127.0.0.1:8080/embed \"HTTP/1.1 200 OK\"\n"
     ]
    },
    {
     "name": "stderr",
     "output_type": "stream",
     "text": [
      "\r",
      "Generating embeddings:  38%|███████████████████████████████████████████████████████████████████▏                                                                                                            | 1470/3848 [11:18<21:34,  1.84it/s]"
     ]
    },
    {
     "name": "stdout",
     "output_type": "stream",
     "text": [
      "INFO:httpx:HTTP Request: POST http://127.0.0.1:8080/embed \"HTTP/1.1 200 OK\"\n",
      "HTTP Request: POST http://127.0.0.1:8080/embed \"HTTP/1.1 200 OK\"\n",
      "HTTP Request: POST http://127.0.0.1:8080/embed \"HTTP/1.1 200 OK\"\n",
      "HTTP Request: POST http://127.0.0.1:8080/embed \"HTTP/1.1 200 OK\"\n"
     ]
    },
    {
     "name": "stderr",
     "output_type": "stream",
     "text": [
      "\r",
      "Generating embeddings:  38%|███████████████████████████████████████████████████████████████████▋                                                                                                            | 1480/3848 [11:23<21:05,  1.87it/s]"
     ]
    },
    {
     "name": "stdout",
     "output_type": "stream",
     "text": [
      "INFO:httpx:HTTP Request: POST http://127.0.0.1:8080/embed \"HTTP/1.1 200 OK\"\n",
      "HTTP Request: POST http://127.0.0.1:8080/embed \"HTTP/1.1 200 OK\"\n",
      "HTTP Request: POST http://127.0.0.1:8080/embed \"HTTP/1.1 200 OK\"\n",
      "HTTP Request: POST http://127.0.0.1:8080/embed \"HTTP/1.1 200 OK\"\n"
     ]
    },
    {
     "name": "stderr",
     "output_type": "stream",
     "text": [
      "\r",
      "Generating embeddings:  39%|████████████████████████████████████████████████████████████████████▏                                                                                                           | 1490/3848 [11:29<22:17,  1.76it/s]"
     ]
    },
    {
     "name": "stdout",
     "output_type": "stream",
     "text": [
      "INFO:httpx:HTTP Request: POST http://127.0.0.1:8080/embed \"HTTP/1.1 200 OK\"\n",
      "HTTP Request: POST http://127.0.0.1:8080/embed \"HTTP/1.1 200 OK\"\n",
      "HTTP Request: POST http://127.0.0.1:8080/embed \"HTTP/1.1 200 OK\"\n",
      "HTTP Request: POST http://127.0.0.1:8080/embed \"HTTP/1.1 200 OK\"\n"
     ]
    },
    {
     "name": "stderr",
     "output_type": "stream",
     "text": [
      "\r",
      "Generating embeddings:  39%|████████████████████████████████████████████████████████████████████▌                                                                                                           | 1500/3848 [11:35<21:57,  1.78it/s]"
     ]
    },
    {
     "name": "stdout",
     "output_type": "stream",
     "text": [
      "INFO:httpx:HTTP Request: POST http://127.0.0.1:8080/embed \"HTTP/1.1 200 OK\"\n",
      "HTTP Request: POST http://127.0.0.1:8080/embed \"HTTP/1.1 200 OK\"\n",
      "HTTP Request: POST http://127.0.0.1:8080/embed \"HTTP/1.1 200 OK\"\n",
      "HTTP Request: POST http://127.0.0.1:8080/embed \"HTTP/1.1 200 OK\"\n"
     ]
    },
    {
     "name": "stderr",
     "output_type": "stream",
     "text": [
      "\r",
      "Generating embeddings:  39%|█████████████████████████████████████████████████████████████████████                                                                                                           | 1510/3848 [11:41<22:17,  1.75it/s]"
     ]
    },
    {
     "name": "stdout",
     "output_type": "stream",
     "text": [
      "INFO:httpx:HTTP Request: POST http://127.0.0.1:8080/embed \"HTTP/1.1 200 OK\"\n",
      "HTTP Request: POST http://127.0.0.1:8080/embed \"HTTP/1.1 200 OK\"\n",
      "HTTP Request: POST http://127.0.0.1:8080/embed \"HTTP/1.1 200 OK\"\n",
      "HTTP Request: POST http://127.0.0.1:8080/embed \"HTTP/1.1 200 OK\"\n"
     ]
    },
    {
     "name": "stderr",
     "output_type": "stream",
     "text": [
      "\r",
      "Generating embeddings:  40%|█████████████████████████████████████████████████████████████████████▌                                                                                                          | 1520/3848 [11:46<22:09,  1.75it/s]"
     ]
    },
    {
     "name": "stdout",
     "output_type": "stream",
     "text": [
      "INFO:httpx:HTTP Request: POST http://127.0.0.1:8080/embed \"HTTP/1.1 200 OK\"\n",
      "HTTP Request: POST http://127.0.0.1:8080/embed \"HTTP/1.1 200 OK\"\n",
      "HTTP Request: POST http://127.0.0.1:8080/embed \"HTTP/1.1 200 OK\"\n",
      "HTTP Request: POST http://127.0.0.1:8080/embed \"HTTP/1.1 200 OK\"\n"
     ]
    },
    {
     "name": "stderr",
     "output_type": "stream",
     "text": [
      "\r",
      "Generating embeddings:  40%|█████████████████████████████████████████████████████████████████████▉                                                                                                          | 1530/3848 [11:52<21:44,  1.78it/s]"
     ]
    },
    {
     "name": "stdout",
     "output_type": "stream",
     "text": [
      "INFO:httpx:HTTP Request: POST http://127.0.0.1:8080/embed \"HTTP/1.1 200 OK\"\n",
      "HTTP Request: POST http://127.0.0.1:8080/embed \"HTTP/1.1 200 OK\"\n",
      "HTTP Request: POST http://127.0.0.1:8080/embed \"HTTP/1.1 200 OK\"\n",
      "HTTP Request: POST http://127.0.0.1:8080/embed \"HTTP/1.1 200 OK\"\n"
     ]
    },
    {
     "name": "stderr",
     "output_type": "stream",
     "text": [
      "\r",
      "Generating embeddings:  40%|██████████████████████████████████████████████████████████████████████▍                                                                                                         | 1540/3848 [11:57<21:04,  1.82it/s]"
     ]
    },
    {
     "name": "stdout",
     "output_type": "stream",
     "text": [
      "INFO:httpx:HTTP Request: POST http://127.0.0.1:8080/embed \"HTTP/1.1 200 OK\"\n",
      "HTTP Request: POST http://127.0.0.1:8080/embed \"HTTP/1.1 200 OK\"\n",
      "HTTP Request: POST http://127.0.0.1:8080/embed \"HTTP/1.1 200 OK\"\n",
      "HTTP Request: POST http://127.0.0.1:8080/embed \"HTTP/1.1 200 OK\"\n"
     ]
    },
    {
     "name": "stderr",
     "output_type": "stream",
     "text": [
      "\r",
      "Generating embeddings:  40%|██████████████████████████████████████████████████████████████████████▉                                                                                                         | 1550/3848 [12:02<20:16,  1.89it/s]"
     ]
    },
    {
     "name": "stdout",
     "output_type": "stream",
     "text": [
      "INFO:httpx:HTTP Request: POST http://127.0.0.1:8080/embed \"HTTP/1.1 200 OK\"\n",
      "HTTP Request: POST http://127.0.0.1:8080/embed \"HTTP/1.1 200 OK\"\n",
      "HTTP Request: POST http://127.0.0.1:8080/embed \"HTTP/1.1 200 OK\"\n",
      "HTTP Request: POST http://127.0.0.1:8080/embed \"HTTP/1.1 200 OK\"\n"
     ]
    },
    {
     "name": "stderr",
     "output_type": "stream",
     "text": [
      "\r",
      "Generating embeddings:  41%|███████████████████████████████████████████████████████████████████████▎                                                                                                        | 1560/3848 [12:07<19:45,  1.93it/s]"
     ]
    },
    {
     "name": "stdout",
     "output_type": "stream",
     "text": [
      "INFO:httpx:HTTP Request: POST http://127.0.0.1:8080/embed \"HTTP/1.1 200 OK\"\n",
      "HTTP Request: POST http://127.0.0.1:8080/embed \"HTTP/1.1 200 OK\"\n",
      "HTTP Request: POST http://127.0.0.1:8080/embed \"HTTP/1.1 200 OK\"\n",
      "HTTP Request: POST http://127.0.0.1:8080/embed \"HTTP/1.1 200 OK\"\n"
     ]
    },
    {
     "name": "stderr",
     "output_type": "stream",
     "text": [
      "\r",
      "Generating embeddings:  41%|███████████████████████████████████████████████████████████████████████▊                                                                                                        | 1570/3848 [12:12<19:35,  1.94it/s]"
     ]
    },
    {
     "name": "stdout",
     "output_type": "stream",
     "text": [
      "INFO:httpx:HTTP Request: POST http://127.0.0.1:8080/embed \"HTTP/1.1 200 OK\"\n",
      "HTTP Request: POST http://127.0.0.1:8080/embed \"HTTP/1.1 200 OK\"\n",
      "HTTP Request: POST http://127.0.0.1:8080/embed \"HTTP/1.1 200 OK\"\n",
      "HTTP Request: POST http://127.0.0.1:8080/embed \"HTTP/1.1 200 OK\"\n"
     ]
    },
    {
     "name": "stderr",
     "output_type": "stream",
     "text": [
      "\r",
      "Generating embeddings:  41%|████████████████████████████████████████████████████████████████████████▎                                                                                                       | 1580/3848 [12:17<19:46,  1.91it/s]"
     ]
    },
    {
     "name": "stdout",
     "output_type": "stream",
     "text": [
      "INFO:httpx:HTTP Request: POST http://127.0.0.1:8080/embed \"HTTP/1.1 200 OK\"\n",
      "HTTP Request: POST http://127.0.0.1:8080/embed \"HTTP/1.1 200 OK\"\n",
      "HTTP Request: POST http://127.0.0.1:8080/embed \"HTTP/1.1 200 OK\"\n",
      "HTTP Request: POST http://127.0.0.1:8080/embed \"HTTP/1.1 200 OK\"\n"
     ]
    },
    {
     "name": "stderr",
     "output_type": "stream",
     "text": [
      "\r",
      "Generating embeddings:  41%|████████████████████████████████████████████████████████████████████████▋                                                                                                       | 1590/3848 [12:22<19:35,  1.92it/s]"
     ]
    },
    {
     "name": "stdout",
     "output_type": "stream",
     "text": [
      "INFO:httpx:HTTP Request: POST http://127.0.0.1:8080/embed \"HTTP/1.1 200 OK\"\n",
      "HTTP Request: POST http://127.0.0.1:8080/embed \"HTTP/1.1 200 OK\"\n",
      "HTTP Request: POST http://127.0.0.1:8080/embed \"HTTP/1.1 200 OK\"\n",
      "HTTP Request: POST http://127.0.0.1:8080/embed \"HTTP/1.1 200 OK\"\n"
     ]
    },
    {
     "name": "stderr",
     "output_type": "stream",
     "text": [
      "\r",
      "Generating embeddings:  42%|█████████████████████████████████████████████████████████████████████████▏                                                                                                      | 1600/3848 [12:28<19:19,  1.94it/s]"
     ]
    },
    {
     "name": "stdout",
     "output_type": "stream",
     "text": [
      "INFO:httpx:HTTP Request: POST http://127.0.0.1:8080/embed \"HTTP/1.1 200 OK\"\n",
      "HTTP Request: POST http://127.0.0.1:8080/embed \"HTTP/1.1 200 OK\"\n",
      "HTTP Request: POST http://127.0.0.1:8080/embed \"HTTP/1.1 200 OK\"\n",
      "HTTP Request: POST http://127.0.0.1:8080/embed \"HTTP/1.1 200 OK\"\n"
     ]
    },
    {
     "name": "stderr",
     "output_type": "stream",
     "text": [
      "\r",
      "Generating embeddings:  42%|█████████████████████████████████████████████████████████████████████████▋                                                                                                      | 1610/3848 [12:32<18:54,  1.97it/s]"
     ]
    },
    {
     "name": "stdout",
     "output_type": "stream",
     "text": [
      "INFO:httpx:HTTP Request: POST http://127.0.0.1:8080/embed \"HTTP/1.1 200 OK\"\n",
      "HTTP Request: POST http://127.0.0.1:8080/embed \"HTTP/1.1 200 OK\"\n",
      "HTTP Request: POST http://127.0.0.1:8080/embed \"HTTP/1.1 200 OK\"\n",
      "HTTP Request: POST http://127.0.0.1:8080/embed \"HTTP/1.1 200 OK\"\n"
     ]
    },
    {
     "name": "stderr",
     "output_type": "stream",
     "text": [
      "\r",
      "Generating embeddings:  42%|██████████████████████████████████████████████████████████████████████████                                                                                                      | 1620/3848 [12:38<18:54,  1.96it/s]"
     ]
    },
    {
     "name": "stdout",
     "output_type": "stream",
     "text": [
      "INFO:httpx:HTTP Request: POST http://127.0.0.1:8080/embed \"HTTP/1.1 200 OK\"\n",
      "HTTP Request: POST http://127.0.0.1:8080/embed \"HTTP/1.1 200 OK\"\n",
      "HTTP Request: POST http://127.0.0.1:8080/embed \"HTTP/1.1 200 OK\"\n",
      "HTTP Request: POST http://127.0.0.1:8080/embed \"HTTP/1.1 200 OK\"\n"
     ]
    },
    {
     "name": "stderr",
     "output_type": "stream",
     "text": [
      "\r",
      "Generating embeddings:  42%|██████████████████████████████████████████████████████████████████████████▌                                                                                                     | 1630/3848 [12:42<18:30,  2.00it/s]"
     ]
    },
    {
     "name": "stdout",
     "output_type": "stream",
     "text": [
      "INFO:httpx:HTTP Request: POST http://127.0.0.1:8080/embed \"HTTP/1.1 200 OK\"\n",
      "HTTP Request: POST http://127.0.0.1:8080/embed \"HTTP/1.1 200 OK\"\n",
      "HTTP Request: POST http://127.0.0.1:8080/embed \"HTTP/1.1 200 OK\"\n",
      "HTTP Request: POST http://127.0.0.1:8080/embed \"HTTP/1.1 200 OK\"\n"
     ]
    },
    {
     "name": "stderr",
     "output_type": "stream",
     "text": [
      "\r",
      "Generating embeddings:  43%|███████████████████████████████████████████████████████████████████████████                                                                                                     | 1640/3848 [12:47<18:09,  2.03it/s]"
     ]
    },
    {
     "name": "stdout",
     "output_type": "stream",
     "text": [
      "INFO:httpx:HTTP Request: POST http://127.0.0.1:8080/embed \"HTTP/1.1 200 OK\"\n",
      "HTTP Request: POST http://127.0.0.1:8080/embed \"HTTP/1.1 200 OK\"\n",
      "HTTP Request: POST http://127.0.0.1:8080/embed \"HTTP/1.1 200 OK\"\n",
      "HTTP Request: POST http://127.0.0.1:8080/embed \"HTTP/1.1 200 OK\"\n"
     ]
    },
    {
     "name": "stderr",
     "output_type": "stream",
     "text": [
      "\r",
      "Generating embeddings:  43%|███████████████████████████████████████████████████████████████████████████▍                                                                                                    | 1650/3848 [12:51<17:04,  2.15it/s]"
     ]
    },
    {
     "name": "stdout",
     "output_type": "stream",
     "text": [
      "INFO:httpx:HTTP Request: POST http://127.0.0.1:8080/embed \"HTTP/1.1 200 OK\"\n",
      "HTTP Request: POST http://127.0.0.1:8080/embed \"HTTP/1.1 200 OK\"\n",
      "HTTP Request: POST http://127.0.0.1:8080/embed \"HTTP/1.1 200 OK\"\n",
      "HTTP Request: POST http://127.0.0.1:8080/embed \"HTTP/1.1 200 OK\"\n"
     ]
    },
    {
     "name": "stderr",
     "output_type": "stream",
     "text": [
      "\r",
      "Generating embeddings:  43%|███████████████████████████████████████████████████████████████████████████▉                                                                                                    | 1660/3848 [12:56<17:27,  2.09it/s]"
     ]
    },
    {
     "name": "stdout",
     "output_type": "stream",
     "text": [
      "INFO:httpx:HTTP Request: POST http://127.0.0.1:8080/embed \"HTTP/1.1 200 OK\"\n",
      "HTTP Request: POST http://127.0.0.1:8080/embed \"HTTP/1.1 200 OK\"\n",
      "HTTP Request: POST http://127.0.0.1:8080/embed \"HTTP/1.1 200 OK\"\n",
      "HTTP Request: POST http://127.0.0.1:8080/embed \"HTTP/1.1 200 OK\"\n"
     ]
    },
    {
     "name": "stderr",
     "output_type": "stream",
     "text": [
      "\r",
      "Generating embeddings:  43%|████████████████████████████████████████████████████████████████████████████▍                                                                                                   | 1670/3848 [13:01<17:52,  2.03it/s]"
     ]
    },
    {
     "name": "stdout",
     "output_type": "stream",
     "text": [
      "INFO:httpx:HTTP Request: POST http://127.0.0.1:8080/embed \"HTTP/1.1 200 OK\"\n",
      "HTTP Request: POST http://127.0.0.1:8080/embed \"HTTP/1.1 200 OK\"\n",
      "HTTP Request: POST http://127.0.0.1:8080/embed \"HTTP/1.1 200 OK\"\n",
      "HTTP Request: POST http://127.0.0.1:8080/embed \"HTTP/1.1 200 OK\"\n"
     ]
    },
    {
     "name": "stderr",
     "output_type": "stream",
     "text": [
      "\r",
      "Generating embeddings:  44%|████████████████████████████████████████████████████████████████████████████▊                                                                                                   | 1680/3848 [13:07<17:55,  2.02it/s]"
     ]
    },
    {
     "name": "stdout",
     "output_type": "stream",
     "text": [
      "INFO:httpx:HTTP Request: POST http://127.0.0.1:8080/embed \"HTTP/1.1 200 OK\"\n",
      "HTTP Request: POST http://127.0.0.1:8080/embed \"HTTP/1.1 200 OK\"\n",
      "HTTP Request: POST http://127.0.0.1:8080/embed \"HTTP/1.1 200 OK\"\n",
      "HTTP Request: POST http://127.0.0.1:8080/embed \"HTTP/1.1 200 OK\"\n"
     ]
    },
    {
     "name": "stderr",
     "output_type": "stream",
     "text": [
      "\r",
      "Generating embeddings:  44%|█████████████████████████████████████████████████████████████████████████████▎                                                                                                  | 1690/3848 [13:11<17:32,  2.05it/s]"
     ]
    },
    {
     "name": "stdout",
     "output_type": "stream",
     "text": [
      "INFO:httpx:HTTP Request: POST http://127.0.0.1:8080/embed \"HTTP/1.1 200 OK\"\n",
      "HTTP Request: POST http://127.0.0.1:8080/embed \"HTTP/1.1 200 OK\"\n",
      "HTTP Request: POST http://127.0.0.1:8080/embed \"HTTP/1.1 200 OK\"\n",
      "HTTP Request: POST http://127.0.0.1:8080/embed \"HTTP/1.1 200 OK\"\n"
     ]
    },
    {
     "name": "stderr",
     "output_type": "stream",
     "text": [
      "\r",
      "Generating embeddings:  44%|█████████████████████████████████████████████████████████████████████████████▊                                                                                                  | 1700/3848 [13:17<18:30,  1.93it/s]"
     ]
    },
    {
     "name": "stdout",
     "output_type": "stream",
     "text": [
      "INFO:httpx:HTTP Request: POST http://127.0.0.1:8080/embed \"HTTP/1.1 200 OK\"\n",
      "HTTP Request: POST http://127.0.0.1:8080/embed \"HTTP/1.1 200 OK\"\n",
      "HTTP Request: POST http://127.0.0.1:8080/embed \"HTTP/1.1 200 OK\"\n",
      "HTTP Request: POST http://127.0.0.1:8080/embed \"HTTP/1.1 200 OK\"\n"
     ]
    },
    {
     "name": "stderr",
     "output_type": "stream",
     "text": [
      "\r",
      "Generating embeddings:  44%|██████████████████████████████████████████████████████████████████████████████▏                                                                                                 | 1710/3848 [13:22<18:38,  1.91it/s]"
     ]
    },
    {
     "name": "stdout",
     "output_type": "stream",
     "text": [
      "INFO:httpx:HTTP Request: POST http://127.0.0.1:8080/embed \"HTTP/1.1 200 OK\"\n",
      "HTTP Request: POST http://127.0.0.1:8080/embed \"HTTP/1.1 200 OK\"\n",
      "HTTP Request: POST http://127.0.0.1:8080/embed \"HTTP/1.1 200 OK\"\n",
      "HTTP Request: POST http://127.0.0.1:8080/embed \"HTTP/1.1 200 OK\"\n"
     ]
    },
    {
     "name": "stderr",
     "output_type": "stream",
     "text": [
      "\r",
      "Generating embeddings:  45%|██████████████████████████████████████████████████████████████████████████████▋                                                                                                 | 1720/3848 [13:28<18:32,  1.91it/s]"
     ]
    },
    {
     "name": "stdout",
     "output_type": "stream",
     "text": [
      "INFO:httpx:HTTP Request: POST http://127.0.0.1:8080/embed \"HTTP/1.1 200 OK\"\n",
      "HTTP Request: POST http://127.0.0.1:8080/embed \"HTTP/1.1 200 OK\"\n",
      "HTTP Request: POST http://127.0.0.1:8080/embed \"HTTP/1.1 200 OK\"\n",
      "HTTP Request: POST http://127.0.0.1:8080/embed \"HTTP/1.1 200 OK\"\n"
     ]
    },
    {
     "name": "stderr",
     "output_type": "stream",
     "text": [
      "\r",
      "Generating embeddings:  45%|███████████████████████████████████████████████████████████████████████████████▏                                                                                                | 1730/3848 [13:33<18:32,  1.90it/s]"
     ]
    },
    {
     "name": "stdout",
     "output_type": "stream",
     "text": [
      "INFO:httpx:HTTP Request: POST http://127.0.0.1:8080/embed \"HTTP/1.1 200 OK\"\n",
      "HTTP Request: POST http://127.0.0.1:8080/embed \"HTTP/1.1 200 OK\"\n",
      "HTTP Request: POST http://127.0.0.1:8080/embed \"HTTP/1.1 200 OK\"\n",
      "HTTP Request: POST http://127.0.0.1:8080/embed \"HTTP/1.1 200 OK\"\n"
     ]
    },
    {
     "name": "stderr",
     "output_type": "stream",
     "text": [
      "\r",
      "Generating embeddings:  45%|███████████████████████████████████████████████████████████████████████████████▌                                                                                                | 1740/3848 [13:38<18:11,  1.93it/s]"
     ]
    },
    {
     "name": "stdout",
     "output_type": "stream",
     "text": [
      "INFO:httpx:HTTP Request: POST http://127.0.0.1:8080/embed \"HTTP/1.1 200 OK\"\n",
      "HTTP Request: POST http://127.0.0.1:8080/embed \"HTTP/1.1 200 OK\"\n",
      "HTTP Request: POST http://127.0.0.1:8080/embed \"HTTP/1.1 200 OK\"\n",
      "HTTP Request: POST http://127.0.0.1:8080/embed \"HTTP/1.1 200 OK\"\n"
     ]
    },
    {
     "name": "stderr",
     "output_type": "stream",
     "text": [
      "\r",
      "Generating embeddings:  45%|████████████████████████████████████████████████████████████████████████████████                                                                                                | 1750/3848 [13:43<17:35,  1.99it/s]"
     ]
    },
    {
     "name": "stdout",
     "output_type": "stream",
     "text": [
      "INFO:httpx:HTTP Request: POST http://127.0.0.1:8080/embed \"HTTP/1.1 200 OK\"\n",
      "HTTP Request: POST http://127.0.0.1:8080/embed \"HTTP/1.1 200 OK\"\n",
      "HTTP Request: POST http://127.0.0.1:8080/embed \"HTTP/1.1 200 OK\"\n",
      "HTTP Request: POST http://127.0.0.1:8080/embed \"HTTP/1.1 200 OK\"\n"
     ]
    },
    {
     "name": "stderr",
     "output_type": "stream",
     "text": [
      "\r",
      "Generating embeddings:  46%|████████████████████████████████████████████████████████████████████████████████▍                                                                                               | 1760/3848 [13:47<17:04,  2.04it/s]"
     ]
    },
    {
     "name": "stdout",
     "output_type": "stream",
     "text": [
      "INFO:httpx:HTTP Request: POST http://127.0.0.1:8080/embed \"HTTP/1.1 200 OK\"\n",
      "HTTP Request: POST http://127.0.0.1:8080/embed \"HTTP/1.1 200 OK\"\n",
      "HTTP Request: POST http://127.0.0.1:8080/embed \"HTTP/1.1 200 OK\"\n",
      "HTTP Request: POST http://127.0.0.1:8080/embed \"HTTP/1.1 200 OK\"\n"
     ]
    },
    {
     "name": "stderr",
     "output_type": "stream",
     "text": [
      "\r",
      "Generating embeddings:  46%|████████████████████████████████████████████████████████████████████████████████▉                                                                                               | 1770/3848 [13:54<18:49,  1.84it/s]"
     ]
    },
    {
     "name": "stdout",
     "output_type": "stream",
     "text": [
      "INFO:httpx:HTTP Request: POST http://127.0.0.1:8080/embed \"HTTP/1.1 200 OK\"\n",
      "HTTP Request: POST http://127.0.0.1:8080/embed \"HTTP/1.1 200 OK\"\n",
      "HTTP Request: POST http://127.0.0.1:8080/embed \"HTTP/1.1 200 OK\"\n",
      "HTTP Request: POST http://127.0.0.1:8080/embed \"HTTP/1.1 200 OK\"\n"
     ]
    },
    {
     "name": "stderr",
     "output_type": "stream",
     "text": [
      "\r",
      "Generating embeddings:  46%|█████████████████████████████████████████████████████████████████████████████████▍                                                                                              | 1780/3848 [13:59<18:32,  1.86it/s]"
     ]
    },
    {
     "name": "stdout",
     "output_type": "stream",
     "text": [
      "INFO:httpx:HTTP Request: POST http://127.0.0.1:8080/embed \"HTTP/1.1 200 OK\"\n",
      "HTTP Request: POST http://127.0.0.1:8080/embed \"HTTP/1.1 200 OK\"\n",
      "HTTP Request: POST http://127.0.0.1:8080/embed \"HTTP/1.1 200 OK\"\n",
      "HTTP Request: POST http://127.0.0.1:8080/embed \"HTTP/1.1 200 OK\"\n"
     ]
    },
    {
     "name": "stderr",
     "output_type": "stream",
     "text": [
      "\r",
      "Generating embeddings:  47%|█████████████████████████████████████████████████████████████████████████████████▊                                                                                              | 1790/3848 [14:05<18:36,  1.84it/s]"
     ]
    },
    {
     "name": "stdout",
     "output_type": "stream",
     "text": [
      "INFO:httpx:HTTP Request: POST http://127.0.0.1:8080/embed \"HTTP/1.1 200 OK\"\n",
      "HTTP Request: POST http://127.0.0.1:8080/embed \"HTTP/1.1 200 OK\"\n",
      "HTTP Request: POST http://127.0.0.1:8080/embed \"HTTP/1.1 200 OK\"\n",
      "HTTP Request: POST http://127.0.0.1:8080/embed \"HTTP/1.1 200 OK\"\n"
     ]
    },
    {
     "name": "stderr",
     "output_type": "stream",
     "text": [
      "\r",
      "Generating embeddings:  47%|██████████████████████████████████████████████████████████████████████████████████▎                                                                                             | 1800/3848 [14:10<18:15,  1.87it/s]"
     ]
    },
    {
     "name": "stdout",
     "output_type": "stream",
     "text": [
      "INFO:httpx:HTTP Request: POST http://127.0.0.1:8080/embed \"HTTP/1.1 200 OK\"\n",
      "HTTP Request: POST http://127.0.0.1:8080/embed \"HTTP/1.1 200 OK\"\n",
      "HTTP Request: POST http://127.0.0.1:8080/embed \"HTTP/1.1 200 OK\"\n",
      "HTTP Request: POST http://127.0.0.1:8080/embed \"HTTP/1.1 200 OK\"\n"
     ]
    },
    {
     "name": "stderr",
     "output_type": "stream",
     "text": [
      "\r",
      "Generating embeddings:  47%|██████████████████████████████████████████████████████████████████████████████████▊                                                                                             | 1810/3848 [14:16<18:40,  1.82it/s]"
     ]
    },
    {
     "name": "stdout",
     "output_type": "stream",
     "text": [
      "INFO:httpx:HTTP Request: POST http://127.0.0.1:8080/embed \"HTTP/1.1 200 OK\"\n",
      "HTTP Request: POST http://127.0.0.1:8080/embed \"HTTP/1.1 200 OK\"\n",
      "HTTP Request: POST http://127.0.0.1:8080/embed \"HTTP/1.1 200 OK\"\n",
      "HTTP Request: POST http://127.0.0.1:8080/embed \"HTTP/1.1 200 OK\"\n"
     ]
    },
    {
     "name": "stderr",
     "output_type": "stream",
     "text": [
      "\r",
      "Generating embeddings:  47%|███████████████████████████████████████████████████████████████████████████████████▏                                                                                            | 1820/3848 [14:22<19:05,  1.77it/s]"
     ]
    },
    {
     "name": "stdout",
     "output_type": "stream",
     "text": [
      "INFO:httpx:HTTP Request: POST http://127.0.0.1:8080/embed \"HTTP/1.1 200 OK\"\n",
      "HTTP Request: POST http://127.0.0.1:8080/embed \"HTTP/1.1 200 OK\"\n",
      "HTTP Request: POST http://127.0.0.1:8080/embed \"HTTP/1.1 200 OK\"\n",
      "HTTP Request: POST http://127.0.0.1:8080/embed \"HTTP/1.1 200 OK\"\n"
     ]
    },
    {
     "name": "stderr",
     "output_type": "stream",
     "text": [
      "\r",
      "Generating embeddings:  48%|███████████████████████████████████████████████████████████████████████████████████▋                                                                                            | 1830/3848 [14:28<19:37,  1.71it/s]"
     ]
    },
    {
     "name": "stdout",
     "output_type": "stream",
     "text": [
      "INFO:httpx:HTTP Request: POST http://127.0.0.1:8080/embed \"HTTP/1.1 200 OK\"\n",
      "HTTP Request: POST http://127.0.0.1:8080/embed \"HTTP/1.1 200 OK\"\n",
      "HTTP Request: POST http://127.0.0.1:8080/embed \"HTTP/1.1 200 OK\"\n",
      "HTTP Request: POST http://127.0.0.1:8080/embed \"HTTP/1.1 200 OK\"\n"
     ]
    },
    {
     "name": "stderr",
     "output_type": "stream",
     "text": [
      "\r",
      "Generating embeddings:  48%|████████████████████████████████████████████████████████████████████████████████████▏                                                                                           | 1840/3848 [14:34<19:58,  1.67it/s]"
     ]
    },
    {
     "name": "stdout",
     "output_type": "stream",
     "text": [
      "INFO:httpx:HTTP Request: POST http://127.0.0.1:8080/embed \"HTTP/1.1 200 OK\"\n",
      "HTTP Request: POST http://127.0.0.1:8080/embed \"HTTP/1.1 200 OK\"\n",
      "HTTP Request: POST http://127.0.0.1:8080/embed \"HTTP/1.1 200 OK\"\n",
      "HTTP Request: POST http://127.0.0.1:8080/embed \"HTTP/1.1 200 OK\"\n"
     ]
    },
    {
     "name": "stderr",
     "output_type": "stream",
     "text": [
      "\r",
      "Generating embeddings:  48%|████████████████████████████████████████████████████████████████████████████████████▌                                                                                           | 1850/3848 [14:40<20:03,  1.66it/s]"
     ]
    },
    {
     "name": "stdout",
     "output_type": "stream",
     "text": [
      "INFO:httpx:HTTP Request: POST http://127.0.0.1:8080/embed \"HTTP/1.1 200 OK\"\n",
      "HTTP Request: POST http://127.0.0.1:8080/embed \"HTTP/1.1 200 OK\"\n",
      "HTTP Request: POST http://127.0.0.1:8080/embed \"HTTP/1.1 200 OK\"\n",
      "HTTP Request: POST http://127.0.0.1:8080/embed \"HTTP/1.1 200 OK\"\n"
     ]
    },
    {
     "name": "stderr",
     "output_type": "stream",
     "text": [
      "\r",
      "Generating embeddings:  48%|█████████████████████████████████████████████████████████████████████████████████████                                                                                           | 1860/3848 [14:46<19:02,  1.74it/s]"
     ]
    },
    {
     "name": "stdout",
     "output_type": "stream",
     "text": [
      "INFO:httpx:HTTP Request: POST http://127.0.0.1:8080/embed \"HTTP/1.1 200 OK\"\n",
      "HTTP Request: POST http://127.0.0.1:8080/embed \"HTTP/1.1 200 OK\"\n",
      "HTTP Request: POST http://127.0.0.1:8080/embed \"HTTP/1.1 200 OK\"\n",
      "HTTP Request: POST http://127.0.0.1:8080/embed \"HTTP/1.1 200 OK\"\n"
     ]
    },
    {
     "name": "stderr",
     "output_type": "stream",
     "text": [
      "\r",
      "Generating embeddings:  49%|█████████████████████████████████████████████████████████████████████████████████████▌                                                                                          | 1870/3848 [14:50<18:05,  1.82it/s]"
     ]
    },
    {
     "name": "stdout",
     "output_type": "stream",
     "text": [
      "INFO:httpx:HTTP Request: POST http://127.0.0.1:8080/embed \"HTTP/1.1 200 OK\"\n",
      "HTTP Request: POST http://127.0.0.1:8080/embed \"HTTP/1.1 200 OK\"\n",
      "HTTP Request: POST http://127.0.0.1:8080/embed \"HTTP/1.1 200 OK\"\n",
      "HTTP Request: POST http://127.0.0.1:8080/embed \"HTTP/1.1 200 OK\"\n"
     ]
    },
    {
     "name": "stderr",
     "output_type": "stream",
     "text": [
      "\r",
      "Generating embeddings:  49%|█████████████████████████████████████████████████████████████████████████████████████▉                                                                                          | 1880/3848 [14:56<18:09,  1.81it/s]"
     ]
    },
    {
     "name": "stdout",
     "output_type": "stream",
     "text": [
      "INFO:httpx:HTTP Request: POST http://127.0.0.1:8080/embed \"HTTP/1.1 200 OK\"\n",
      "HTTP Request: POST http://127.0.0.1:8080/embed \"HTTP/1.1 200 OK\"\n",
      "HTTP Request: POST http://127.0.0.1:8080/embed \"HTTP/1.1 200 OK\"\n",
      "HTTP Request: POST http://127.0.0.1:8080/embed \"HTTP/1.1 200 OK\"\n"
     ]
    },
    {
     "name": "stderr",
     "output_type": "stream",
     "text": [
      "\r",
      "Generating embeddings:  49%|██████████████████████████████████████████████████████████████████████████████████████▍                                                                                         | 1890/3848 [15:01<17:31,  1.86it/s]"
     ]
    },
    {
     "name": "stdout",
     "output_type": "stream",
     "text": [
      "INFO:httpx:HTTP Request: POST http://127.0.0.1:8080/embed \"HTTP/1.1 200 OK\"\n",
      "HTTP Request: POST http://127.0.0.1:8080/embed \"HTTP/1.1 200 OK\"\n",
      "HTTP Request: POST http://127.0.0.1:8080/embed \"HTTP/1.1 200 OK\"\n",
      "HTTP Request: POST http://127.0.0.1:8080/embed \"HTTP/1.1 200 OK\"\n"
     ]
    },
    {
     "name": "stderr",
     "output_type": "stream",
     "text": [
      "\r",
      "Generating embeddings:  49%|██████████████████████████████████████████████████████████████████████████████████████▉                                                                                         | 1900/3848 [15:06<16:47,  1.93it/s]"
     ]
    },
    {
     "name": "stdout",
     "output_type": "stream",
     "text": [
      "INFO:httpx:HTTP Request: POST http://127.0.0.1:8080/embed \"HTTP/1.1 200 OK\"\n",
      "HTTP Request: POST http://127.0.0.1:8080/embed \"HTTP/1.1 200 OK\"\n",
      "HTTP Request: POST http://127.0.0.1:8080/embed \"HTTP/1.1 200 OK\"\n",
      "HTTP Request: POST http://127.0.0.1:8080/embed \"HTTP/1.1 200 OK\"\n"
     ]
    },
    {
     "name": "stderr",
     "output_type": "stream",
     "text": [
      "\r",
      "Generating embeddings:  50%|███████████████████████████████████████████████████████████████████████████████████████▎                                                                                        | 1910/3848 [15:10<15:50,  2.04it/s]"
     ]
    },
    {
     "name": "stdout",
     "output_type": "stream",
     "text": [
      "INFO:httpx:HTTP Request: POST http://127.0.0.1:8080/embed \"HTTP/1.1 200 OK\"\n",
      "HTTP Request: POST http://127.0.0.1:8080/embed \"HTTP/1.1 200 OK\"\n",
      "HTTP Request: POST http://127.0.0.1:8080/embed \"HTTP/1.1 200 OK\"\n",
      "HTTP Request: POST http://127.0.0.1:8080/embed \"HTTP/1.1 200 OK\"\n"
     ]
    },
    {
     "name": "stderr",
     "output_type": "stream",
     "text": [
      "\r",
      "Generating embeddings:  50%|███████████████████████████████████████████████████████████████████████████████████████▊                                                                                        | 1920/3848 [15:15<15:50,  2.03it/s]"
     ]
    },
    {
     "name": "stdout",
     "output_type": "stream",
     "text": [
      "INFO:httpx:HTTP Request: POST http://127.0.0.1:8080/embed \"HTTP/1.1 200 OK\"\n",
      "HTTP Request: POST http://127.0.0.1:8080/embed \"HTTP/1.1 200 OK\"\n",
      "HTTP Request: POST http://127.0.0.1:8080/embed \"HTTP/1.1 200 OK\"\n",
      "HTTP Request: POST http://127.0.0.1:8080/embed \"HTTP/1.1 200 OK\"\n"
     ]
    },
    {
     "name": "stderr",
     "output_type": "stream",
     "text": [
      "\r",
      "Generating embeddings:  50%|████████████████████████████████████████████████████████████████████████████████████████▎                                                                                       | 1930/3848 [15:20<15:36,  2.05it/s]"
     ]
    },
    {
     "name": "stdout",
     "output_type": "stream",
     "text": [
      "INFO:httpx:HTTP Request: POST http://127.0.0.1:8080/embed \"HTTP/1.1 200 OK\"\n",
      "HTTP Request: POST http://127.0.0.1:8080/embed \"HTTP/1.1 200 OK\"\n",
      "HTTP Request: POST http://127.0.0.1:8080/embed \"HTTP/1.1 200 OK\"\n",
      "HTTP Request: POST http://127.0.0.1:8080/embed \"HTTP/1.1 200 OK\"\n"
     ]
    },
    {
     "name": "stderr",
     "output_type": "stream",
     "text": [
      "\r",
      "Generating embeddings:  50%|████████████████████████████████████████████████████████████████████████████████████████▋                                                                                       | 1940/3848 [15:25<15:50,  2.01it/s]"
     ]
    },
    {
     "name": "stdout",
     "output_type": "stream",
     "text": [
      "INFO:httpx:HTTP Request: POST http://127.0.0.1:8080/embed \"HTTP/1.1 200 OK\"\n",
      "HTTP Request: POST http://127.0.0.1:8080/embed \"HTTP/1.1 200 OK\"\n",
      "HTTP Request: POST http://127.0.0.1:8080/embed \"HTTP/1.1 200 OK\"\n",
      "HTTP Request: POST http://127.0.0.1:8080/embed \"HTTP/1.1 200 OK\"\n"
     ]
    },
    {
     "name": "stderr",
     "output_type": "stream",
     "text": [
      "\r",
      "Generating embeddings:  51%|█████████████████████████████████████████████████████████████████████████████████████████▏                                                                                      | 1950/3848 [15:30<15:32,  2.04it/s]"
     ]
    },
    {
     "name": "stdout",
     "output_type": "stream",
     "text": [
      "INFO:httpx:HTTP Request: POST http://127.0.0.1:8080/embed \"HTTP/1.1 200 OK\"\n",
      "HTTP Request: POST http://127.0.0.1:8080/embed \"HTTP/1.1 200 OK\"\n",
      "HTTP Request: POST http://127.0.0.1:8080/embed \"HTTP/1.1 200 OK\"\n",
      "HTTP Request: POST http://127.0.0.1:8080/embed \"HTTP/1.1 200 OK\"\n"
     ]
    },
    {
     "name": "stderr",
     "output_type": "stream",
     "text": [
      "\r",
      "Generating embeddings:  51%|█████████████████████████████████████████████████████████████████████████████████████████▋                                                                                      | 1960/3848 [15:35<15:30,  2.03it/s]"
     ]
    },
    {
     "name": "stdout",
     "output_type": "stream",
     "text": [
      "INFO:httpx:HTTP Request: POST http://127.0.0.1:8080/embed \"HTTP/1.1 200 OK\"\n",
      "HTTP Request: POST http://127.0.0.1:8080/embed \"HTTP/1.1 200 OK\"\n",
      "HTTP Request: POST http://127.0.0.1:8080/embed \"HTTP/1.1 200 OK\"\n",
      "HTTP Request: POST http://127.0.0.1:8080/embed \"HTTP/1.1 200 OK\"\n"
     ]
    },
    {
     "name": "stderr",
     "output_type": "stream",
     "text": [
      "\r",
      "Generating embeddings:  51%|██████████████████████████████████████████████████████████████████████████████████████████                                                                                      | 1970/3848 [15:40<15:25,  2.03it/s]"
     ]
    },
    {
     "name": "stdout",
     "output_type": "stream",
     "text": [
      "INFO:httpx:HTTP Request: POST http://127.0.0.1:8080/embed \"HTTP/1.1 200 OK\"\n",
      "HTTP Request: POST http://127.0.0.1:8080/embed \"HTTP/1.1 200 OK\"\n",
      "HTTP Request: POST http://127.0.0.1:8080/embed \"HTTP/1.1 200 OK\"\n",
      "HTTP Request: POST http://127.0.0.1:8080/embed \"HTTP/1.1 200 OK\"\n"
     ]
    },
    {
     "name": "stderr",
     "output_type": "stream",
     "text": [
      "\r",
      "Generating embeddings:  51%|██████████████████████████████████████████████████████████████████████████████████████████▌                                                                                     | 1980/3848 [15:44<14:43,  2.11it/s]"
     ]
    },
    {
     "name": "stdout",
     "output_type": "stream",
     "text": [
      "INFO:httpx:HTTP Request: POST http://127.0.0.1:8080/embed \"HTTP/1.1 200 OK\"\n",
      "HTTP Request: POST http://127.0.0.1:8080/embed \"HTTP/1.1 200 OK\"\n",
      "HTTP Request: POST http://127.0.0.1:8080/embed \"HTTP/1.1 200 OK\"\n",
      "HTTP Request: POST http://127.0.0.1:8080/embed \"HTTP/1.1 200 OK\"\n"
     ]
    },
    {
     "name": "stderr",
     "output_type": "stream",
     "text": [
      "\r",
      "Generating embeddings:  52%|███████████████████████████████████████████████████████████████████████████████████████████                                                                                     | 1990/3848 [15:49<15:01,  2.06it/s]"
     ]
    },
    {
     "name": "stdout",
     "output_type": "stream",
     "text": [
      "INFO:httpx:HTTP Request: POST http://127.0.0.1:8080/embed \"HTTP/1.1 200 OK\"\n",
      "HTTP Request: POST http://127.0.0.1:8080/embed \"HTTP/1.1 200 OK\"\n",
      "HTTP Request: POST http://127.0.0.1:8080/embed \"HTTP/1.1 200 OK\"\n",
      "HTTP Request: POST http://127.0.0.1:8080/embed \"HTTP/1.1 200 OK\"\n"
     ]
    },
    {
     "name": "stderr",
     "output_type": "stream",
     "text": [
      "\r",
      "Generating embeddings:  52%|███████████████████████████████████████████████████████████████████████████████████████████▍                                                                                    | 2000/3848 [15:54<14:37,  2.11it/s]"
     ]
    },
    {
     "name": "stdout",
     "output_type": "stream",
     "text": [
      "INFO:httpx:HTTP Request: POST http://127.0.0.1:8080/embed \"HTTP/1.1 200 OK\"\n",
      "HTTP Request: POST http://127.0.0.1:8080/embed \"HTTP/1.1 200 OK\"\n",
      "HTTP Request: POST http://127.0.0.1:8080/embed \"HTTP/1.1 200 OK\"\n",
      "HTTP Request: POST http://127.0.0.1:8080/embed \"HTTP/1.1 200 OK\"\n"
     ]
    },
    {
     "name": "stderr",
     "output_type": "stream",
     "text": [
      "\r",
      "Generating embeddings:  52%|███████████████████████████████████████████████████████████████████████████████████████████▉                                                                                    | 2010/3848 [15:58<14:23,  2.13it/s]"
     ]
    },
    {
     "name": "stdout",
     "output_type": "stream",
     "text": [
      "INFO:httpx:HTTP Request: POST http://127.0.0.1:8080/embed \"HTTP/1.1 200 OK\"\n",
      "HTTP Request: POST http://127.0.0.1:8080/embed \"HTTP/1.1 200 OK\"\n",
      "HTTP Request: POST http://127.0.0.1:8080/embed \"HTTP/1.1 200 OK\"\n",
      "HTTP Request: POST http://127.0.0.1:8080/embed \"HTTP/1.1 200 OK\"\n"
     ]
    },
    {
     "name": "stderr",
     "output_type": "stream",
     "text": [
      "\r",
      "Generating embeddings:  52%|████████████████████████████████████████████████████████████████████████████████████████████▍                                                                                   | 2020/3848 [16:02<13:53,  2.19it/s]"
     ]
    },
    {
     "name": "stdout",
     "output_type": "stream",
     "text": [
      "INFO:httpx:HTTP Request: POST http://127.0.0.1:8080/embed \"HTTP/1.1 200 OK\"\n",
      "HTTP Request: POST http://127.0.0.1:8080/embed \"HTTP/1.1 200 OK\"\n",
      "HTTP Request: POST http://127.0.0.1:8080/embed \"HTTP/1.1 200 OK\"\n",
      "HTTP Request: POST http://127.0.0.1:8080/embed \"HTTP/1.1 200 OK\"\n"
     ]
    },
    {
     "name": "stderr",
     "output_type": "stream",
     "text": [
      "\r",
      "Generating embeddings:  53%|████████████████████████████████████████████████████████████████████████████████████████████▊                                                                                   | 2030/3848 [16:07<13:50,  2.19it/s]"
     ]
    },
    {
     "name": "stdout",
     "output_type": "stream",
     "text": [
      "INFO:httpx:HTTP Request: POST http://127.0.0.1:8080/embed \"HTTP/1.1 200 OK\"\n",
      "HTTP Request: POST http://127.0.0.1:8080/embed \"HTTP/1.1 200 OK\"\n",
      "HTTP Request: POST http://127.0.0.1:8080/embed \"HTTP/1.1 200 OK\"\n",
      "HTTP Request: POST http://127.0.0.1:8080/embed \"HTTP/1.1 200 OK\"\n"
     ]
    },
    {
     "name": "stderr",
     "output_type": "stream",
     "text": [
      "\r",
      "Generating embeddings:  53%|█████████████████████████████████████████████████████████████████████████████████████████████▎                                                                                  | 2040/3848 [16:12<13:50,  2.18it/s]"
     ]
    },
    {
     "name": "stdout",
     "output_type": "stream",
     "text": [
      "INFO:httpx:HTTP Request: POST http://127.0.0.1:8080/embed \"HTTP/1.1 200 OK\"\n",
      "HTTP Request: POST http://127.0.0.1:8080/embed \"HTTP/1.1 200 OK\"\n",
      "HTTP Request: POST http://127.0.0.1:8080/embed \"HTTP/1.1 200 OK\"\n",
      "HTTP Request: POST http://127.0.0.1:8080/embed \"HTTP/1.1 200 OK\"\n"
     ]
    },
    {
     "name": "stderr",
     "output_type": "stream",
     "text": [
      "\r",
      "Generating embeddings:  53%|█████████████████████████████████████████████████████████████████████████████████████████████▊                                                                                  | 2050/3848 [16:16<13:59,  2.14it/s]"
     ]
    },
    {
     "name": "stdout",
     "output_type": "stream",
     "text": [
      "INFO:httpx:HTTP Request: POST http://127.0.0.1:8080/embed \"HTTP/1.1 200 OK\"\n",
      "HTTP Request: POST http://127.0.0.1:8080/embed \"HTTP/1.1 200 OK\"\n",
      "HTTP Request: POST http://127.0.0.1:8080/embed \"HTTP/1.1 200 OK\"\n",
      "HTTP Request: POST http://127.0.0.1:8080/embed \"HTTP/1.1 200 OK\"\n"
     ]
    },
    {
     "name": "stderr",
     "output_type": "stream",
     "text": [
      "\r",
      "Generating embeddings:  54%|██████████████████████████████████████████████████████████████████████████████████████████████▏                                                                                 | 2060/3848 [16:20<13:18,  2.24it/s]"
     ]
    },
    {
     "name": "stdout",
     "output_type": "stream",
     "text": [
      "INFO:httpx:HTTP Request: POST http://127.0.0.1:8080/embed \"HTTP/1.1 200 OK\"\n",
      "HTTP Request: POST http://127.0.0.1:8080/embed \"HTTP/1.1 200 OK\"\n",
      "HTTP Request: POST http://127.0.0.1:8080/embed \"HTTP/1.1 200 OK\"\n",
      "HTTP Request: POST http://127.0.0.1:8080/embed \"HTTP/1.1 200 OK\"\n"
     ]
    },
    {
     "name": "stderr",
     "output_type": "stream",
     "text": [
      "\r",
      "Generating embeddings:  54%|██████████████████████████████████████████████████████████████████████████████████████████████▋                                                                                 | 2070/3848 [16:25<13:32,  2.19it/s]"
     ]
    },
    {
     "name": "stdout",
     "output_type": "stream",
     "text": [
      "INFO:httpx:HTTP Request: POST http://127.0.0.1:8080/embed \"HTTP/1.1 200 OK\"\n",
      "HTTP Request: POST http://127.0.0.1:8080/embed \"HTTP/1.1 200 OK\"\n",
      "HTTP Request: POST http://127.0.0.1:8080/embed \"HTTP/1.1 200 OK\"\n",
      "HTTP Request: POST http://127.0.0.1:8080/embed \"HTTP/1.1 200 OK\"\n"
     ]
    },
    {
     "name": "stderr",
     "output_type": "stream",
     "text": [
      "\r",
      "Generating embeddings:  54%|███████████████████████████████████████████████████████████████████████████████████████████████▏                                                                                | 2080/3848 [16:30<13:33,  2.17it/s]"
     ]
    },
    {
     "name": "stdout",
     "output_type": "stream",
     "text": [
      "INFO:httpx:HTTP Request: POST http://127.0.0.1:8080/embed \"HTTP/1.1 200 OK\"\n",
      "HTTP Request: POST http://127.0.0.1:8080/embed \"HTTP/1.1 200 OK\"\n",
      "HTTP Request: POST http://127.0.0.1:8080/embed \"HTTP/1.1 200 OK\"\n",
      "HTTP Request: POST http://127.0.0.1:8080/embed \"HTTP/1.1 200 OK\"\n"
     ]
    },
    {
     "name": "stderr",
     "output_type": "stream",
     "text": [
      "\r",
      "Generating embeddings:  54%|███████████████████████████████████████████████████████████████████████████████████████████████▌                                                                                | 2090/3848 [16:34<13:23,  2.19it/s]"
     ]
    },
    {
     "name": "stdout",
     "output_type": "stream",
     "text": [
      "INFO:httpx:HTTP Request: POST http://127.0.0.1:8080/embed \"HTTP/1.1 200 OK\"\n",
      "HTTP Request: POST http://127.0.0.1:8080/embed \"HTTP/1.1 200 OK\"\n",
      "HTTP Request: POST http://127.0.0.1:8080/embed \"HTTP/1.1 200 OK\"\n",
      "HTTP Request: POST http://127.0.0.1:8080/embed \"HTTP/1.1 200 OK\"\n"
     ]
    },
    {
     "name": "stderr",
     "output_type": "stream",
     "text": [
      "\r",
      "Generating embeddings:  55%|████████████████████████████████████████████████████████████████████████████████████████████████                                                                                | 2100/3848 [16:39<13:08,  2.22it/s]"
     ]
    },
    {
     "name": "stdout",
     "output_type": "stream",
     "text": [
      "INFO:httpx:HTTP Request: POST http://127.0.0.1:8080/embed \"HTTP/1.1 200 OK\"\n",
      "HTTP Request: POST http://127.0.0.1:8080/embed \"HTTP/1.1 200 OK\"\n",
      "HTTP Request: POST http://127.0.0.1:8080/embed \"HTTP/1.1 200 OK\"\n",
      "HTTP Request: POST http://127.0.0.1:8080/embed \"HTTP/1.1 200 OK\"\n"
     ]
    },
    {
     "name": "stderr",
     "output_type": "stream",
     "text": [
      "\r",
      "Generating embeddings:  55%|████████████████████████████████████████████████████████████████████████████████████████████████▌                                                                               | 2110/3848 [16:43<12:51,  2.25it/s]"
     ]
    },
    {
     "name": "stdout",
     "output_type": "stream",
     "text": [
      "INFO:httpx:HTTP Request: POST http://127.0.0.1:8080/embed \"HTTP/1.1 200 OK\"\n",
      "HTTP Request: POST http://127.0.0.1:8080/embed \"HTTP/1.1 200 OK\"\n",
      "HTTP Request: POST http://127.0.0.1:8080/embed \"HTTP/1.1 200 OK\"\n",
      "HTTP Request: POST http://127.0.0.1:8080/embed \"HTTP/1.1 200 OK\"\n"
     ]
    },
    {
     "name": "stderr",
     "output_type": "stream",
     "text": [
      "\r",
      "Generating embeddings:  55%|████████████████████████████████████████████████████████████████████████████████████████████████▉                                                                               | 2120/3848 [16:47<12:24,  2.32it/s]"
     ]
    },
    {
     "name": "stdout",
     "output_type": "stream",
     "text": [
      "INFO:httpx:HTTP Request: POST http://127.0.0.1:8080/embed \"HTTP/1.1 200 OK\"\n",
      "HTTP Request: POST http://127.0.0.1:8080/embed \"HTTP/1.1 200 OK\"\n",
      "HTTP Request: POST http://127.0.0.1:8080/embed \"HTTP/1.1 200 OK\"\n",
      "HTTP Request: POST http://127.0.0.1:8080/embed \"HTTP/1.1 200 OK\"\n"
     ]
    },
    {
     "name": "stderr",
     "output_type": "stream",
     "text": [
      "\r",
      "Generating embeddings:  55%|█████████████████████████████████████████████████████████████████████████████████████████████████▍                                                                              | 2130/3848 [16:52<12:26,  2.30it/s]"
     ]
    },
    {
     "name": "stdout",
     "output_type": "stream",
     "text": [
      "INFO:httpx:HTTP Request: POST http://127.0.0.1:8080/embed \"HTTP/1.1 200 OK\"\n",
      "HTTP Request: POST http://127.0.0.1:8080/embed \"HTTP/1.1 200 OK\"\n",
      "HTTP Request: POST http://127.0.0.1:8080/embed \"HTTP/1.1 200 OK\"\n",
      "HTTP Request: POST http://127.0.0.1:8080/embed \"HTTP/1.1 200 OK\"\n"
     ]
    },
    {
     "name": "stderr",
     "output_type": "stream",
     "text": [
      "\r",
      "Generating embeddings:  56%|█████████████████████████████████████████████████████████████████████████████████████████████████▉                                                                              | 2140/3848 [16:56<12:37,  2.25it/s]"
     ]
    },
    {
     "name": "stdout",
     "output_type": "stream",
     "text": [
      "INFO:httpx:HTTP Request: POST http://127.0.0.1:8080/embed \"HTTP/1.1 200 OK\"\n",
      "HTTP Request: POST http://127.0.0.1:8080/embed \"HTTP/1.1 200 OK\"\n",
      "HTTP Request: POST http://127.0.0.1:8080/embed \"HTTP/1.1 200 OK\"\n",
      "HTTP Request: POST http://127.0.0.1:8080/embed \"HTTP/1.1 200 OK\"\n"
     ]
    },
    {
     "name": "stderr",
     "output_type": "stream",
     "text": [
      "\r",
      "Generating embeddings:  56%|██████████████████████████████████████████████████████████████████████████████████████████████████▎                                                                             | 2150/3848 [17:01<12:48,  2.21it/s]"
     ]
    },
    {
     "name": "stdout",
     "output_type": "stream",
     "text": [
      "INFO:httpx:HTTP Request: POST http://127.0.0.1:8080/embed \"HTTP/1.1 200 OK\"\n",
      "HTTP Request: POST http://127.0.0.1:8080/embed \"HTTP/1.1 200 OK\"\n",
      "HTTP Request: POST http://127.0.0.1:8080/embed \"HTTP/1.1 200 OK\"\n",
      "HTTP Request: POST http://127.0.0.1:8080/embed \"HTTP/1.1 200 OK\"\n"
     ]
    },
    {
     "name": "stderr",
     "output_type": "stream",
     "text": [
      "\r",
      "Generating embeddings:  56%|██████████████████████████████████████████████████████████████████████████████████████████████████▊                                                                             | 2160/3848 [17:05<12:37,  2.23it/s]"
     ]
    },
    {
     "name": "stdout",
     "output_type": "stream",
     "text": [
      "INFO:httpx:HTTP Request: POST http://127.0.0.1:8080/embed \"HTTP/1.1 200 OK\"\n",
      "HTTP Request: POST http://127.0.0.1:8080/embed \"HTTP/1.1 200 OK\"\n",
      "HTTP Request: POST http://127.0.0.1:8080/embed \"HTTP/1.1 200 OK\"\n",
      "HTTP Request: POST http://127.0.0.1:8080/embed \"HTTP/1.1 200 OK\"\n"
     ]
    },
    {
     "name": "stderr",
     "output_type": "stream",
     "text": [
      "\r",
      "Generating embeddings:  56%|███████████████████████████████████████████████████████████████████████████████████████████████████▎                                                                            | 2170/3848 [17:10<13:02,  2.15it/s]"
     ]
    },
    {
     "name": "stdout",
     "output_type": "stream",
     "text": [
      "INFO:httpx:HTTP Request: POST http://127.0.0.1:8080/embed \"HTTP/1.1 200 OK\"\n",
      "HTTP Request: POST http://127.0.0.1:8080/embed \"HTTP/1.1 200 OK\"\n",
      "HTTP Request: POST http://127.0.0.1:8080/embed \"HTTP/1.1 200 OK\"\n",
      "HTTP Request: POST http://127.0.0.1:8080/embed \"HTTP/1.1 200 OK\"\n"
     ]
    },
    {
     "name": "stderr",
     "output_type": "stream",
     "text": [
      "\r",
      "Generating embeddings:  57%|███████████████████████████████████████████████████████████████████████████████████████████████████▋                                                                            | 2180/3848 [17:15<13:12,  2.11it/s]"
     ]
    },
    {
     "name": "stdout",
     "output_type": "stream",
     "text": [
      "INFO:httpx:HTTP Request: POST http://127.0.0.1:8080/embed \"HTTP/1.1 200 OK\"\n",
      "HTTP Request: POST http://127.0.0.1:8080/embed \"HTTP/1.1 200 OK\"\n",
      "HTTP Request: POST http://127.0.0.1:8080/embed \"HTTP/1.1 200 OK\"\n",
      "HTTP Request: POST http://127.0.0.1:8080/embed \"HTTP/1.1 200 OK\"\n"
     ]
    },
    {
     "name": "stderr",
     "output_type": "stream",
     "text": [
      "\r",
      "Generating embeddings:  57%|████████████████████████████████████████████████████████████████████████████████████████████████████▏                                                                           | 2190/3848 [17:20<12:58,  2.13it/s]"
     ]
    },
    {
     "name": "stdout",
     "output_type": "stream",
     "text": [
      "INFO:httpx:HTTP Request: POST http://127.0.0.1:8080/embed \"HTTP/1.1 200 OK\"\n",
      "HTTP Request: POST http://127.0.0.1:8080/embed \"HTTP/1.1 200 OK\"\n",
      "HTTP Request: POST http://127.0.0.1:8080/embed \"HTTP/1.1 200 OK\"\n",
      "HTTP Request: POST http://127.0.0.1:8080/embed \"HTTP/1.1 200 OK\"\n"
     ]
    },
    {
     "name": "stderr",
     "output_type": "stream",
     "text": [
      "\r",
      "Generating embeddings:  57%|████████████████████████████████████████████████████████████████████████████████████████████████████▌                                                                           | 2200/3848 [17:25<12:55,  2.13it/s]"
     ]
    },
    {
     "name": "stdout",
     "output_type": "stream",
     "text": [
      "INFO:httpx:HTTP Request: POST http://127.0.0.1:8080/embed \"HTTP/1.1 200 OK\"\n",
      "HTTP Request: POST http://127.0.0.1:8080/embed \"HTTP/1.1 200 OK\"\n",
      "HTTP Request: POST http://127.0.0.1:8080/embed \"HTTP/1.1 200 OK\"\n",
      "HTTP Request: POST http://127.0.0.1:8080/embed \"HTTP/1.1 200 OK\"\n"
     ]
    },
    {
     "name": "stderr",
     "output_type": "stream",
     "text": [
      "\r",
      "Generating embeddings:  57%|█████████████████████████████████████████████████████████████████████████████████████████████████████                                                                           | 2210/3848 [17:30<13:04,  2.09it/s]"
     ]
    },
    {
     "name": "stdout",
     "output_type": "stream",
     "text": [
      "INFO:httpx:HTTP Request: POST http://127.0.0.1:8080/embed \"HTTP/1.1 200 OK\"\n",
      "HTTP Request: POST http://127.0.0.1:8080/embed \"HTTP/1.1 200 OK\"\n",
      "HTTP Request: POST http://127.0.0.1:8080/embed \"HTTP/1.1 200 OK\"\n",
      "HTTP Request: POST http://127.0.0.1:8080/embed \"HTTP/1.1 200 OK\"\n"
     ]
    },
    {
     "name": "stderr",
     "output_type": "stream",
     "text": [
      "\r",
      "Generating embeddings:  58%|█████████████████████████████████████████████████████████████████████████████████████████████████████▌                                                                          | 2220/3848 [17:34<12:33,  2.16it/s]"
     ]
    },
    {
     "name": "stdout",
     "output_type": "stream",
     "text": [
      "INFO:httpx:HTTP Request: POST http://127.0.0.1:8080/embed \"HTTP/1.1 200 OK\"\n",
      "HTTP Request: POST http://127.0.0.1:8080/embed \"HTTP/1.1 200 OK\"\n",
      "HTTP Request: POST http://127.0.0.1:8080/embed \"HTTP/1.1 200 OK\"\n",
      "HTTP Request: POST http://127.0.0.1:8080/embed \"HTTP/1.1 200 OK\"\n"
     ]
    },
    {
     "name": "stderr",
     "output_type": "stream",
     "text": [
      "\r",
      "Generating embeddings:  58%|█████████████████████████████████████████████████████████████████████████████████████████████████████▉                                                                          | 2230/3848 [17:39<12:33,  2.15it/s]"
     ]
    },
    {
     "name": "stdout",
     "output_type": "stream",
     "text": [
      "INFO:httpx:HTTP Request: POST http://127.0.0.1:8080/embed \"HTTP/1.1 200 OK\"\n",
      "HTTP Request: POST http://127.0.0.1:8080/embed \"HTTP/1.1 200 OK\"\n",
      "HTTP Request: POST http://127.0.0.1:8080/embed \"HTTP/1.1 200 OK\"\n",
      "HTTP Request: POST http://127.0.0.1:8080/embed \"HTTP/1.1 200 OK\"\n"
     ]
    },
    {
     "name": "stderr",
     "output_type": "stream",
     "text": [
      "\r",
      "Generating embeddings:  58%|██████████████████████████████████████████████████████████████████████████████████████████████████████▍                                                                         | 2240/3848 [17:43<12:29,  2.15it/s]"
     ]
    },
    {
     "name": "stdout",
     "output_type": "stream",
     "text": [
      "INFO:httpx:HTTP Request: POST http://127.0.0.1:8080/embed \"HTTP/1.1 200 OK\"\n",
      "HTTP Request: POST http://127.0.0.1:8080/embed \"HTTP/1.1 200 OK\"\n",
      "HTTP Request: POST http://127.0.0.1:8080/embed \"HTTP/1.1 200 OK\"\n",
      "HTTP Request: POST http://127.0.0.1:8080/embed \"HTTP/1.1 200 OK\"\n"
     ]
    },
    {
     "name": "stderr",
     "output_type": "stream",
     "text": [
      "\r",
      "Generating embeddings:  58%|██████████████████████████████████████████████████████████████████████████████████████████████████████▉                                                                         | 2250/3848 [17:48<12:25,  2.14it/s]"
     ]
    },
    {
     "name": "stdout",
     "output_type": "stream",
     "text": [
      "INFO:httpx:HTTP Request: POST http://127.0.0.1:8080/embed \"HTTP/1.1 200 OK\"\n",
      "HTTP Request: POST http://127.0.0.1:8080/embed \"HTTP/1.1 200 OK\"\n",
      "HTTP Request: POST http://127.0.0.1:8080/embed \"HTTP/1.1 200 OK\"\n",
      "HTTP Request: POST http://127.0.0.1:8080/embed \"HTTP/1.1 200 OK\"\n"
     ]
    },
    {
     "name": "stderr",
     "output_type": "stream",
     "text": [
      "\r",
      "Generating embeddings:  59%|███████████████████████████████████████████████████████████████████████████████████████████████████████▎                                                                        | 2260/3848 [17:52<11:51,  2.23it/s]"
     ]
    },
    {
     "name": "stdout",
     "output_type": "stream",
     "text": [
      "INFO:httpx:HTTP Request: POST http://127.0.0.1:8080/embed \"HTTP/1.1 200 OK\"\n",
      "HTTP Request: POST http://127.0.0.1:8080/embed \"HTTP/1.1 200 OK\"\n",
      "HTTP Request: POST http://127.0.0.1:8080/embed \"HTTP/1.1 200 OK\"\n",
      "HTTP Request: POST http://127.0.0.1:8080/embed \"HTTP/1.1 200 OK\"\n"
     ]
    },
    {
     "name": "stderr",
     "output_type": "stream",
     "text": [
      "\r",
      "Generating embeddings:  59%|███████████████████████████████████████████████████████████████████████████████████████████████████████▊                                                                        | 2270/3848 [17:57<11:51,  2.22it/s]"
     ]
    },
    {
     "name": "stdout",
     "output_type": "stream",
     "text": [
      "INFO:httpx:HTTP Request: POST http://127.0.0.1:8080/embed \"HTTP/1.1 200 OK\"\n",
      "HTTP Request: POST http://127.0.0.1:8080/embed \"HTTP/1.1 200 OK\"\n",
      "HTTP Request: POST http://127.0.0.1:8080/embed \"HTTP/1.1 200 OK\"\n",
      "HTTP Request: POST http://127.0.0.1:8080/embed \"HTTP/1.1 200 OK\"\n"
     ]
    },
    {
     "name": "stderr",
     "output_type": "stream",
     "text": [
      "\r",
      "Generating embeddings:  59%|████████████████████████████████████████████████████████████████████████████████████████████████████████▎                                                                       | 2280/3848 [18:01<11:28,  2.28it/s]"
     ]
    },
    {
     "name": "stdout",
     "output_type": "stream",
     "text": [
      "INFO:httpx:HTTP Request: POST http://127.0.0.1:8080/embed \"HTTP/1.1 200 OK\"\n",
      "HTTP Request: POST http://127.0.0.1:8080/embed \"HTTP/1.1 200 OK\"\n",
      "HTTP Request: POST http://127.0.0.1:8080/embed \"HTTP/1.1 200 OK\"\n",
      "HTTP Request: POST http://127.0.0.1:8080/embed \"HTTP/1.1 200 OK\"\n"
     ]
    },
    {
     "name": "stderr",
     "output_type": "stream",
     "text": [
      "\r",
      "Generating embeddings:  60%|████████████████████████████████████████████████████████████████████████████████████████████████████████▋                                                                       | 2290/3848 [18:05<11:34,  2.24it/s]"
     ]
    },
    {
     "name": "stdout",
     "output_type": "stream",
     "text": [
      "INFO:httpx:HTTP Request: POST http://127.0.0.1:8080/embed \"HTTP/1.1 200 OK\"\n",
      "HTTP Request: POST http://127.0.0.1:8080/embed \"HTTP/1.1 200 OK\"\n",
      "HTTP Request: POST http://127.0.0.1:8080/embed \"HTTP/1.1 200 OK\"\n",
      "HTTP Request: POST http://127.0.0.1:8080/embed \"HTTP/1.1 200 OK\"\n"
     ]
    },
    {
     "name": "stderr",
     "output_type": "stream",
     "text": [
      "\r",
      "Generating embeddings:  60%|█████████████████████████████████████████████████████████████████████████████████████████████████████████▏                                                                      | 2300/3848 [18:10<11:56,  2.16it/s]"
     ]
    },
    {
     "name": "stdout",
     "output_type": "stream",
     "text": [
      "INFO:httpx:HTTP Request: POST http://127.0.0.1:8080/embed \"HTTP/1.1 200 OK\"\n",
      "HTTP Request: POST http://127.0.0.1:8080/embed \"HTTP/1.1 200 OK\"\n",
      "HTTP Request: POST http://127.0.0.1:8080/embed \"HTTP/1.1 200 OK\"\n",
      "HTTP Request: POST http://127.0.0.1:8080/embed \"HTTP/1.1 200 OK\"\n"
     ]
    },
    {
     "name": "stderr",
     "output_type": "stream",
     "text": [
      "\r",
      "Generating embeddings:  60%|█████████████████████████████████████████████████████████████████████████████████████████████████████████▋                                                                      | 2310/3848 [18:15<12:16,  2.09it/s]"
     ]
    },
    {
     "name": "stdout",
     "output_type": "stream",
     "text": [
      "INFO:httpx:HTTP Request: POST http://127.0.0.1:8080/embed \"HTTP/1.1 200 OK\"\n",
      "HTTP Request: POST http://127.0.0.1:8080/embed \"HTTP/1.1 200 OK\"\n",
      "HTTP Request: POST http://127.0.0.1:8080/embed \"HTTP/1.1 200 OK\"\n",
      "HTTP Request: POST http://127.0.0.1:8080/embed \"HTTP/1.1 200 OK\"\n"
     ]
    },
    {
     "name": "stderr",
     "output_type": "stream",
     "text": [
      "\r",
      "Generating embeddings:  60%|██████████████████████████████████████████████████████████████████████████████████████████████████████████                                                                      | 2320/3848 [18:20<12:04,  2.11it/s]"
     ]
    },
    {
     "name": "stdout",
     "output_type": "stream",
     "text": [
      "INFO:httpx:HTTP Request: POST http://127.0.0.1:8080/embed \"HTTP/1.1 200 OK\"\n",
      "HTTP Request: POST http://127.0.0.1:8080/embed \"HTTP/1.1 200 OK\"\n",
      "HTTP Request: POST http://127.0.0.1:8080/embed \"HTTP/1.1 200 OK\"\n",
      "HTTP Request: POST http://127.0.0.1:8080/embed \"HTTP/1.1 200 OK\"\n"
     ]
    },
    {
     "name": "stderr",
     "output_type": "stream",
     "text": [
      "\r",
      "Generating embeddings:  61%|██████████████████████████████████████████████████████████████████████████████████████████████████████████▌                                                                     | 2330/3848 [18:25<11:58,  2.11it/s]"
     ]
    },
    {
     "name": "stdout",
     "output_type": "stream",
     "text": [
      "INFO:httpx:HTTP Request: POST http://127.0.0.1:8080/embed \"HTTP/1.1 200 OK\"\n",
      "HTTP Request: POST http://127.0.0.1:8080/embed \"HTTP/1.1 200 OK\"\n",
      "HTTP Request: POST http://127.0.0.1:8080/embed \"HTTP/1.1 200 OK\"\n",
      "HTTP Request: POST http://127.0.0.1:8080/embed \"HTTP/1.1 200 OK\"\n"
     ]
    },
    {
     "name": "stderr",
     "output_type": "stream",
     "text": [
      "\r",
      "Generating embeddings:  61%|███████████████████████████████████████████████████████████████████████████████████████████████████████████                                                                     | 2340/3848 [18:29<11:48,  2.13it/s]"
     ]
    },
    {
     "name": "stdout",
     "output_type": "stream",
     "text": [
      "INFO:httpx:HTTP Request: POST http://127.0.0.1:8080/embed \"HTTP/1.1 200 OK\"\n",
      "HTTP Request: POST http://127.0.0.1:8080/embed \"HTTP/1.1 200 OK\"\n",
      "HTTP Request: POST http://127.0.0.1:8080/embed \"HTTP/1.1 200 OK\"\n",
      "HTTP Request: POST http://127.0.0.1:8080/embed \"HTTP/1.1 200 OK\"\n"
     ]
    },
    {
     "name": "stderr",
     "output_type": "stream",
     "text": [
      "\r",
      "Generating embeddings:  61%|███████████████████████████████████████████████████████████████████████████████████████████████████████████▍                                                                    | 2350/3848 [18:34<11:39,  2.14it/s]"
     ]
    },
    {
     "name": "stdout",
     "output_type": "stream",
     "text": [
      "INFO:httpx:HTTP Request: POST http://127.0.0.1:8080/embed \"HTTP/1.1 200 OK\"\n",
      "HTTP Request: POST http://127.0.0.1:8080/embed \"HTTP/1.1 200 OK\"\n",
      "HTTP Request: POST http://127.0.0.1:8080/embed \"HTTP/1.1 200 OK\"\n",
      "HTTP Request: POST http://127.0.0.1:8080/embed \"HTTP/1.1 200 OK\"\n"
     ]
    },
    {
     "name": "stderr",
     "output_type": "stream",
     "text": [
      "\r",
      "Generating embeddings:  61%|███████████████████████████████████████████████████████████████████████████████████████████████████████████▉                                                                    | 2360/3848 [18:38<11:05,  2.23it/s]"
     ]
    },
    {
     "name": "stdout",
     "output_type": "stream",
     "text": [
      "INFO:httpx:HTTP Request: POST http://127.0.0.1:8080/embed \"HTTP/1.1 200 OK\"\n",
      "HTTP Request: POST http://127.0.0.1:8080/embed \"HTTP/1.1 200 OK\"\n",
      "HTTP Request: POST http://127.0.0.1:8080/embed \"HTTP/1.1 200 OK\"\n",
      "HTTP Request: POST http://127.0.0.1:8080/embed \"HTTP/1.1 200 OK\"\n"
     ]
    },
    {
     "name": "stderr",
     "output_type": "stream",
     "text": [
      "\r",
      "Generating embeddings:  62%|████████████████████████████████████████████████████████████████████████████████████████████████████████████▍                                                                   | 2370/3848 [18:42<11:00,  2.24it/s]"
     ]
    },
    {
     "name": "stdout",
     "output_type": "stream",
     "text": [
      "INFO:httpx:HTTP Request: POST http://127.0.0.1:8080/embed \"HTTP/1.1 200 OK\"\n",
      "HTTP Request: POST http://127.0.0.1:8080/embed \"HTTP/1.1 200 OK\"\n",
      "HTTP Request: POST http://127.0.0.1:8080/embed \"HTTP/1.1 200 OK\"\n",
      "HTTP Request: POST http://127.0.0.1:8080/embed \"HTTP/1.1 200 OK\"\n"
     ]
    },
    {
     "name": "stderr",
     "output_type": "stream",
     "text": [
      "\r",
      "Generating embeddings:  62%|████████████████████████████████████████████████████████████████████████████████████████████████████████████▊                                                                   | 2380/3848 [18:47<11:08,  2.20it/s]"
     ]
    },
    {
     "name": "stdout",
     "output_type": "stream",
     "text": [
      "INFO:httpx:HTTP Request: POST http://127.0.0.1:8080/embed \"HTTP/1.1 200 OK\"\n",
      "HTTP Request: POST http://127.0.0.1:8080/embed \"HTTP/1.1 200 OK\"\n",
      "HTTP Request: POST http://127.0.0.1:8080/embed \"HTTP/1.1 200 OK\"\n",
      "HTTP Request: POST http://127.0.0.1:8080/embed \"HTTP/1.1 200 OK\"\n"
     ]
    },
    {
     "name": "stderr",
     "output_type": "stream",
     "text": [
      "\r",
      "Generating embeddings:  62%|█████████████████████████████████████████████████████████████████████████████████████████████████████████████▎                                                                  | 2390/3848 [18:52<11:10,  2.17it/s]"
     ]
    },
    {
     "name": "stdout",
     "output_type": "stream",
     "text": [
      "INFO:httpx:HTTP Request: POST http://127.0.0.1:8080/embed \"HTTP/1.1 200 OK\"\n",
      "HTTP Request: POST http://127.0.0.1:8080/embed \"HTTP/1.1 200 OK\"\n",
      "HTTP Request: POST http://127.0.0.1:8080/embed \"HTTP/1.1 200 OK\"\n",
      "HTTP Request: POST http://127.0.0.1:8080/embed \"HTTP/1.1 200 OK\"\n"
     ]
    },
    {
     "name": "stderr",
     "output_type": "stream",
     "text": [
      "\r",
      "Generating embeddings:  62%|█████████████████████████████████████████████████████████████████████████████████████████████████████████████▊                                                                  | 2400/3848 [18:56<11:02,  2.18it/s]"
     ]
    },
    {
     "name": "stdout",
     "output_type": "stream",
     "text": [
      "INFO:httpx:HTTP Request: POST http://127.0.0.1:8080/embed \"HTTP/1.1 200 OK\"\n",
      "HTTP Request: POST http://127.0.0.1:8080/embed \"HTTP/1.1 200 OK\"\n",
      "HTTP Request: POST http://127.0.0.1:8080/embed \"HTTP/1.1 200 OK\"\n",
      "HTTP Request: POST http://127.0.0.1:8080/embed \"HTTP/1.1 200 OK\"\n"
     ]
    },
    {
     "name": "stderr",
     "output_type": "stream",
     "text": [
      "\r",
      "Generating embeddings:  63%|██████████████████████████████████████████████████████████████████████████████████████████████████████████████▏                                                                 | 2410/3848 [19:01<11:04,  2.16it/s]"
     ]
    },
    {
     "name": "stdout",
     "output_type": "stream",
     "text": [
      "INFO:httpx:HTTP Request: POST http://127.0.0.1:8080/embed \"HTTP/1.1 200 OK\"\n",
      "HTTP Request: POST http://127.0.0.1:8080/embed \"HTTP/1.1 200 OK\"\n",
      "HTTP Request: POST http://127.0.0.1:8080/embed \"HTTP/1.1 200 OK\"\n",
      "HTTP Request: POST http://127.0.0.1:8080/embed \"HTTP/1.1 200 OK\"\n"
     ]
    },
    {
     "name": "stderr",
     "output_type": "stream",
     "text": [
      "\r",
      "Generating embeddings:  63%|██████████████████████████████████████████████████████████████████████████████████████████████████████████████▋                                                                 | 2420/3848 [19:06<11:00,  2.16it/s]"
     ]
    },
    {
     "name": "stdout",
     "output_type": "stream",
     "text": [
      "INFO:httpx:HTTP Request: POST http://127.0.0.1:8080/embed \"HTTP/1.1 200 OK\"\n",
      "HTTP Request: POST http://127.0.0.1:8080/embed \"HTTP/1.1 200 OK\"\n",
      "HTTP Request: POST http://127.0.0.1:8080/embed \"HTTP/1.1 200 OK\"\n",
      "HTTP Request: POST http://127.0.0.1:8080/embed \"HTTP/1.1 200 OK\"\n"
     ]
    },
    {
     "name": "stderr",
     "output_type": "stream",
     "text": [
      "\r",
      "Generating embeddings:  63%|███████████████████████████████████████████████████████████████████████████████████████████████████████████████▏                                                                | 2430/3848 [19:11<11:08,  2.12it/s]"
     ]
    },
    {
     "name": "stdout",
     "output_type": "stream",
     "text": [
      "INFO:httpx:HTTP Request: POST http://127.0.0.1:8080/embed \"HTTP/1.1 200 OK\"\n",
      "HTTP Request: POST http://127.0.0.1:8080/embed \"HTTP/1.1 200 OK\"\n",
      "HTTP Request: POST http://127.0.0.1:8080/embed \"HTTP/1.1 200 OK\"\n",
      "HTTP Request: POST http://127.0.0.1:8080/embed \"HTTP/1.1 200 OK\"\n"
     ]
    },
    {
     "name": "stderr",
     "output_type": "stream",
     "text": [
      "\r",
      "Generating embeddings:  63%|███████████████████████████████████████████████████████████████████████████████████████████████████████████████▌                                                                | 2440/3848 [19:16<11:26,  2.05it/s]"
     ]
    },
    {
     "name": "stdout",
     "output_type": "stream",
     "text": [
      "INFO:httpx:HTTP Request: POST http://127.0.0.1:8080/embed \"HTTP/1.1 200 OK\"\n",
      "HTTP Request: POST http://127.0.0.1:8080/embed \"HTTP/1.1 200 OK\"\n",
      "HTTP Request: POST http://127.0.0.1:8080/embed \"HTTP/1.1 200 OK\"\n",
      "HTTP Request: POST http://127.0.0.1:8080/embed \"HTTP/1.1 200 OK\"\n"
     ]
    },
    {
     "name": "stderr",
     "output_type": "stream",
     "text": [
      "\r",
      "Generating embeddings:  64%|████████████████████████████████████████████████████████████████████████████████████████████████████████████████                                                                | 2450/3848 [19:21<11:19,  2.06it/s]"
     ]
    },
    {
     "name": "stdout",
     "output_type": "stream",
     "text": [
      "INFO:httpx:HTTP Request: POST http://127.0.0.1:8080/embed \"HTTP/1.1 200 OK\"\n",
      "HTTP Request: POST http://127.0.0.1:8080/embed \"HTTP/1.1 200 OK\"\n",
      "HTTP Request: POST http://127.0.0.1:8080/embed \"HTTP/1.1 200 OK\"\n",
      "HTTP Request: POST http://127.0.0.1:8080/embed \"HTTP/1.1 200 OK\"\n"
     ]
    },
    {
     "name": "stderr",
     "output_type": "stream",
     "text": [
      "\r",
      "Generating embeddings:  64%|████████████████████████████████████████████████████████████████████████████████████████████████████████████████▌                                                               | 2460/3848 [19:26<11:12,  2.07it/s]"
     ]
    },
    {
     "name": "stdout",
     "output_type": "stream",
     "text": [
      "INFO:httpx:HTTP Request: POST http://127.0.0.1:8080/embed \"HTTP/1.1 200 OK\"\n",
      "HTTP Request: POST http://127.0.0.1:8080/embed \"HTTP/1.1 200 OK\"\n",
      "HTTP Request: POST http://127.0.0.1:8080/embed \"HTTP/1.1 200 OK\"\n",
      "HTTP Request: POST http://127.0.0.1:8080/embed \"HTTP/1.1 200 OK\"\n"
     ]
    },
    {
     "name": "stderr",
     "output_type": "stream",
     "text": [
      "\r",
      "Generating embeddings:  64%|████████████████████████████████████████████████████████████████████████████████████████████████████████████████▉                                                               | 2470/3848 [19:31<11:13,  2.05it/s]"
     ]
    },
    {
     "name": "stdout",
     "output_type": "stream",
     "text": [
      "INFO:httpx:HTTP Request: POST http://127.0.0.1:8080/embed \"HTTP/1.1 200 OK\"\n",
      "HTTP Request: POST http://127.0.0.1:8080/embed \"HTTP/1.1 200 OK\"\n",
      "HTTP Request: POST http://127.0.0.1:8080/embed \"HTTP/1.1 200 OK\"\n",
      "HTTP Request: POST http://127.0.0.1:8080/embed \"HTTP/1.1 200 OK\"\n"
     ]
    },
    {
     "name": "stderr",
     "output_type": "stream",
     "text": [
      "\r",
      "Generating embeddings:  64%|█████████████████████████████████████████████████████████████████████████████████████████████████████████████████▍                                                              | 2480/3848 [19:35<10:56,  2.08it/s]"
     ]
    },
    {
     "name": "stdout",
     "output_type": "stream",
     "text": [
      "INFO:httpx:HTTP Request: POST http://127.0.0.1:8080/embed \"HTTP/1.1 200 OK\"\n",
      "HTTP Request: POST http://127.0.0.1:8080/embed \"HTTP/1.1 200 OK\"\n",
      "HTTP Request: POST http://127.0.0.1:8080/embed \"HTTP/1.1 200 OK\"\n",
      "HTTP Request: POST http://127.0.0.1:8080/embed \"HTTP/1.1 200 OK\"\n"
     ]
    },
    {
     "name": "stderr",
     "output_type": "stream",
     "text": [
      "\r",
      "Generating embeddings:  65%|█████████████████████████████████████████████████████████████████████████████████████████████████████████████████▉                                                              | 2490/3848 [19:40<10:51,  2.09it/s]"
     ]
    },
    {
     "name": "stdout",
     "output_type": "stream",
     "text": [
      "INFO:httpx:HTTP Request: POST http://127.0.0.1:8080/embed \"HTTP/1.1 200 OK\"\n",
      "HTTP Request: POST http://127.0.0.1:8080/embed \"HTTP/1.1 200 OK\"\n",
      "HTTP Request: POST http://127.0.0.1:8080/embed \"HTTP/1.1 200 OK\"\n",
      "HTTP Request: POST http://127.0.0.1:8080/embed \"HTTP/1.1 200 OK\"\n"
     ]
    },
    {
     "name": "stderr",
     "output_type": "stream",
     "text": [
      "\r",
      "Generating embeddings:  65%|██████████████████████████████████████████████████████████████████████████████████████████████████████████████████▎                                                             | 2500/3848 [19:44<10:18,  2.18it/s]"
     ]
    },
    {
     "name": "stdout",
     "output_type": "stream",
     "text": [
      "INFO:httpx:HTTP Request: POST http://127.0.0.1:8080/embed \"HTTP/1.1 200 OK\"\n",
      "HTTP Request: POST http://127.0.0.1:8080/embed \"HTTP/1.1 200 OK\"\n",
      "HTTP Request: POST http://127.0.0.1:8080/embed \"HTTP/1.1 200 OK\"\n",
      "HTTP Request: POST http://127.0.0.1:8080/embed \"HTTP/1.1 200 OK\"\n"
     ]
    },
    {
     "name": "stderr",
     "output_type": "stream",
     "text": [
      "\r",
      "Generating embeddings:  65%|██████████████████████████████████████████████████████████████████████████████████████████████████████████████████▊                                                             | 2510/3848 [19:49<10:13,  2.18it/s]"
     ]
    },
    {
     "name": "stdout",
     "output_type": "stream",
     "text": [
      "INFO:httpx:HTTP Request: POST http://127.0.0.1:8080/embed \"HTTP/1.1 200 OK\"\n",
      "HTTP Request: POST http://127.0.0.1:8080/embed \"HTTP/1.1 200 OK\"\n",
      "HTTP Request: POST http://127.0.0.1:8080/embed \"HTTP/1.1 200 OK\"\n",
      "HTTP Request: POST http://127.0.0.1:8080/embed \"HTTP/1.1 200 OK\"\n"
     ]
    },
    {
     "name": "stderr",
     "output_type": "stream",
     "text": [
      "\r",
      "Generating embeddings:  65%|███████████████████████████████████████████████████████████████████████████████████████████████████████████████████▎                                                            | 2520/3848 [19:53<10:13,  2.16it/s]"
     ]
    },
    {
     "name": "stdout",
     "output_type": "stream",
     "text": [
      "INFO:httpx:HTTP Request: POST http://127.0.0.1:8080/embed \"HTTP/1.1 200 OK\"\n",
      "HTTP Request: POST http://127.0.0.1:8080/embed \"HTTP/1.1 200 OK\"\n",
      "HTTP Request: POST http://127.0.0.1:8080/embed \"HTTP/1.1 200 OK\"\n",
      "HTTP Request: POST http://127.0.0.1:8080/embed \"HTTP/1.1 200 OK\"\n"
     ]
    },
    {
     "name": "stderr",
     "output_type": "stream",
     "text": [
      "\r",
      "Generating embeddings:  66%|███████████████████████████████████████████████████████████████████████████████████████████████████████████████████▋                                                            | 2530/3848 [19:58<10:16,  2.14it/s]"
     ]
    },
    {
     "name": "stdout",
     "output_type": "stream",
     "text": [
      "INFO:httpx:HTTP Request: POST http://127.0.0.1:8080/embed \"HTTP/1.1 200 OK\"\n",
      "HTTP Request: POST http://127.0.0.1:8080/embed \"HTTP/1.1 200 OK\"\n",
      "HTTP Request: POST http://127.0.0.1:8080/embed \"HTTP/1.1 200 OK\"\n",
      "HTTP Request: POST http://127.0.0.1:8080/embed \"HTTP/1.1 200 OK\"\n"
     ]
    },
    {
     "name": "stderr",
     "output_type": "stream",
     "text": [
      "\r",
      "Generating embeddings:  66%|████████████████████████████████████████████████████████████████████████████████████████████████████████████████████▏                                                           | 2540/3848 [20:03<09:59,  2.18it/s]"
     ]
    },
    {
     "name": "stdout",
     "output_type": "stream",
     "text": [
      "INFO:httpx:HTTP Request: POST http://127.0.0.1:8080/embed \"HTTP/1.1 200 OK\"\n",
      "HTTP Request: POST http://127.0.0.1:8080/embed \"HTTP/1.1 200 OK\"\n",
      "HTTP Request: POST http://127.0.0.1:8080/embed \"HTTP/1.1 200 OK\"\n",
      "HTTP Request: POST http://127.0.0.1:8080/embed \"HTTP/1.1 200 OK\"\n"
     ]
    },
    {
     "name": "stderr",
     "output_type": "stream",
     "text": [
      "\r",
      "Generating embeddings:  66%|████████████████████████████████████████████████████████████████████████████████████████████████████████████████████▋                                                           | 2550/3848 [20:07<09:59,  2.16it/s]"
     ]
    },
    {
     "name": "stdout",
     "output_type": "stream",
     "text": [
      "INFO:httpx:HTTP Request: POST http://127.0.0.1:8080/embed \"HTTP/1.1 200 OK\"\n",
      "HTTP Request: POST http://127.0.0.1:8080/embed \"HTTP/1.1 200 OK\"\n",
      "HTTP Request: POST http://127.0.0.1:8080/embed \"HTTP/1.1 200 OK\"\n",
      "HTTP Request: POST http://127.0.0.1:8080/embed \"HTTP/1.1 200 OK\"\n"
     ]
    },
    {
     "name": "stderr",
     "output_type": "stream",
     "text": [
      "\r",
      "Generating embeddings:  67%|█████████████████████████████████████████████████████████████████████████████████████████████████████████████████████                                                           | 2560/3848 [20:12<09:50,  2.18it/s]"
     ]
    },
    {
     "name": "stdout",
     "output_type": "stream",
     "text": [
      "INFO:httpx:HTTP Request: POST http://127.0.0.1:8080/embed \"HTTP/1.1 200 OK\"\n",
      "HTTP Request: POST http://127.0.0.1:8080/embed \"HTTP/1.1 200 OK\"\n",
      "HTTP Request: POST http://127.0.0.1:8080/embed \"HTTP/1.1 200 OK\"\n",
      "HTTP Request: POST http://127.0.0.1:8080/embed \"HTTP/1.1 200 OK\"\n"
     ]
    },
    {
     "name": "stderr",
     "output_type": "stream",
     "text": [
      "\r",
      "Generating embeddings:  67%|█████████████████████████████████████████████████████████████████████████████████████████████████████████████████████▌                                                          | 2570/3848 [20:17<10:00,  2.13it/s]"
     ]
    },
    {
     "name": "stdout",
     "output_type": "stream",
     "text": [
      "INFO:httpx:HTTP Request: POST http://127.0.0.1:8080/embed \"HTTP/1.1 200 OK\"\n",
      "HTTP Request: POST http://127.0.0.1:8080/embed \"HTTP/1.1 200 OK\"\n",
      "HTTP Request: POST http://127.0.0.1:8080/embed \"HTTP/1.1 200 OK\"\n",
      "HTTP Request: POST http://127.0.0.1:8080/embed \"HTTP/1.1 200 OK\"\n"
     ]
    },
    {
     "name": "stderr",
     "output_type": "stream",
     "text": [
      "\r",
      "Generating embeddings:  67%|██████████████████████████████████████████████████████████████████████████████████████████████████████████████████████                                                          | 2580/3848 [20:22<10:23,  2.04it/s]"
     ]
    },
    {
     "name": "stdout",
     "output_type": "stream",
     "text": [
      "INFO:httpx:HTTP Request: POST http://127.0.0.1:8080/embed \"HTTP/1.1 200 OK\"\n",
      "HTTP Request: POST http://127.0.0.1:8080/embed \"HTTP/1.1 200 OK\"\n",
      "HTTP Request: POST http://127.0.0.1:8080/embed \"HTTP/1.1 200 OK\"\n",
      "HTTP Request: POST http://127.0.0.1:8080/embed \"HTTP/1.1 200 OK\"\n"
     ]
    },
    {
     "name": "stderr",
     "output_type": "stream",
     "text": [
      "\r",
      "Generating embeddings:  67%|██████████████████████████████████████████████████████████████████████████████████████████████████████████████████████▍                                                         | 2590/3848 [20:27<10:04,  2.08it/s]"
     ]
    },
    {
     "name": "stdout",
     "output_type": "stream",
     "text": [
      "INFO:httpx:HTTP Request: POST http://127.0.0.1:8080/embed \"HTTP/1.1 200 OK\"\n",
      "HTTP Request: POST http://127.0.0.1:8080/embed \"HTTP/1.1 200 OK\"\n",
      "HTTP Request: POST http://127.0.0.1:8080/embed \"HTTP/1.1 200 OK\"\n",
      "HTTP Request: POST http://127.0.0.1:8080/embed \"HTTP/1.1 200 OK\"\n"
     ]
    },
    {
     "name": "stderr",
     "output_type": "stream",
     "text": [
      "\r",
      "Generating embeddings:  68%|██████████████████████████████████████████████████████████████████████████████████████████████████████████████████████▉                                                         | 2600/3848 [20:31<09:46,  2.13it/s]"
     ]
    },
    {
     "name": "stdout",
     "output_type": "stream",
     "text": [
      "INFO:httpx:HTTP Request: POST http://127.0.0.1:8080/embed \"HTTP/1.1 200 OK\"\n",
      "HTTP Request: POST http://127.0.0.1:8080/embed \"HTTP/1.1 200 OK\"\n",
      "HTTP Request: POST http://127.0.0.1:8080/embed \"HTTP/1.1 200 OK\"\n",
      "HTTP Request: POST http://127.0.0.1:8080/embed \"HTTP/1.1 200 OK\"\n"
     ]
    },
    {
     "name": "stderr",
     "output_type": "stream",
     "text": [
      "\r",
      "Generating embeddings:  68%|███████████████████████████████████████████████████████████████████████████████████████████████████████████████████████▍                                                        | 2610/3848 [20:36<09:31,  2.17it/s]"
     ]
    },
    {
     "name": "stdout",
     "output_type": "stream",
     "text": [
      "INFO:httpx:HTTP Request: POST http://127.0.0.1:8080/embed \"HTTP/1.1 200 OK\"\n",
      "HTTP Request: POST http://127.0.0.1:8080/embed \"HTTP/1.1 200 OK\"\n",
      "HTTP Request: POST http://127.0.0.1:8080/embed \"HTTP/1.1 200 OK\"\n",
      "HTTP Request: POST http://127.0.0.1:8080/embed \"HTTP/1.1 200 OK\"\n"
     ]
    },
    {
     "name": "stderr",
     "output_type": "stream",
     "text": [
      "\r",
      "Generating embeddings:  68%|███████████████████████████████████████████████████████████████████████████████████████████████████████████████████████▊                                                        | 2620/3848 [20:40<09:27,  2.17it/s]"
     ]
    },
    {
     "name": "stdout",
     "output_type": "stream",
     "text": [
      "INFO:httpx:HTTP Request: POST http://127.0.0.1:8080/embed \"HTTP/1.1 200 OK\"\n",
      "HTTP Request: POST http://127.0.0.1:8080/embed \"HTTP/1.1 200 OK\"\n",
      "HTTP Request: POST http://127.0.0.1:8080/embed \"HTTP/1.1 200 OK\"\n",
      "HTTP Request: POST http://127.0.0.1:8080/embed \"HTTP/1.1 200 OK\"\n"
     ]
    },
    {
     "name": "stderr",
     "output_type": "stream",
     "text": [
      "\r",
      "Generating embeddings:  68%|████████████████████████████████████████████████████████████████████████████████████████████████████████████████████████▎                                                       | 2630/3848 [20:45<09:32,  2.13it/s]"
     ]
    },
    {
     "name": "stdout",
     "output_type": "stream",
     "text": [
      "INFO:httpx:HTTP Request: POST http://127.0.0.1:8080/embed \"HTTP/1.1 200 OK\"\n",
      "HTTP Request: POST http://127.0.0.1:8080/embed \"HTTP/1.1 200 OK\"\n",
      "HTTP Request: POST http://127.0.0.1:8080/embed \"HTTP/1.1 200 OK\"\n",
      "HTTP Request: POST http://127.0.0.1:8080/embed \"HTTP/1.1 200 OK\"\n"
     ]
    },
    {
     "name": "stderr",
     "output_type": "stream",
     "text": [
      "\r",
      "Generating embeddings:  69%|████████████████████████████████████████████████████████████████████████████████████████████████████████████████████████▋                                                       | 2640/3848 [20:50<09:31,  2.11it/s]"
     ]
    },
    {
     "name": "stdout",
     "output_type": "stream",
     "text": [
      "INFO:httpx:HTTP Request: POST http://127.0.0.1:8080/embed \"HTTP/1.1 200 OK\"\n",
      "HTTP Request: POST http://127.0.0.1:8080/embed \"HTTP/1.1 200 OK\"\n",
      "HTTP Request: POST http://127.0.0.1:8080/embed \"HTTP/1.1 200 OK\"\n",
      "HTTP Request: POST http://127.0.0.1:8080/embed \"HTTP/1.1 200 OK\"\n"
     ]
    },
    {
     "name": "stderr",
     "output_type": "stream",
     "text": [
      "\r",
      "Generating embeddings:  69%|█████████████████████████████████████████████████████████████████████████████████████████████████████████████████████████▏                                                      | 2650/3848 [20:54<09:19,  2.14it/s]"
     ]
    },
    {
     "name": "stdout",
     "output_type": "stream",
     "text": [
      "INFO:httpx:HTTP Request: POST http://127.0.0.1:8080/embed \"HTTP/1.1 200 OK\"\n",
      "HTTP Request: POST http://127.0.0.1:8080/embed \"HTTP/1.1 200 OK\"\n",
      "HTTP Request: POST http://127.0.0.1:8080/embed \"HTTP/1.1 200 OK\"\n",
      "HTTP Request: POST http://127.0.0.1:8080/embed \"HTTP/1.1 200 OK\"\n"
     ]
    },
    {
     "name": "stderr",
     "output_type": "stream",
     "text": [
      "\r",
      "Generating embeddings:  69%|█████████████████████████████████████████████████████████████████████████████████████████████████████████████████████████▋                                                      | 2660/3848 [21:00<09:37,  2.06it/s]"
     ]
    },
    {
     "name": "stdout",
     "output_type": "stream",
     "text": [
      "INFO:httpx:HTTP Request: POST http://127.0.0.1:8080/embed \"HTTP/1.1 200 OK\"\n",
      "HTTP Request: POST http://127.0.0.1:8080/embed \"HTTP/1.1 200 OK\"\n",
      "HTTP Request: POST http://127.0.0.1:8080/embed \"HTTP/1.1 200 OK\"\n",
      "HTTP Request: POST http://127.0.0.1:8080/embed \"HTTP/1.1 200 OK\"\n"
     ]
    },
    {
     "name": "stderr",
     "output_type": "stream",
     "text": [
      "\r",
      "Generating embeddings:  69%|██████████████████████████████████████████████████████████████████████████████████████████████████████████████████████████                                                      | 2670/3848 [21:05<09:38,  2.04it/s]"
     ]
    },
    {
     "name": "stdout",
     "output_type": "stream",
     "text": [
      "INFO:httpx:HTTP Request: POST http://127.0.0.1:8080/embed \"HTTP/1.1 200 OK\"\n",
      "HTTP Request: POST http://127.0.0.1:8080/embed \"HTTP/1.1 200 OK\"\n",
      "HTTP Request: POST http://127.0.0.1:8080/embed \"HTTP/1.1 200 OK\"\n",
      "HTTP Request: POST http://127.0.0.1:8080/embed \"HTTP/1.1 200 OK\"\n"
     ]
    },
    {
     "name": "stderr",
     "output_type": "stream",
     "text": [
      "\r",
      "Generating embeddings:  70%|██████████████████████████████████████████████████████████████████████████████████████████████████████████████████████████▌                                                     | 2680/3848 [21:10<09:48,  1.99it/s]"
     ]
    },
    {
     "name": "stdout",
     "output_type": "stream",
     "text": [
      "INFO:httpx:HTTP Request: POST http://127.0.0.1:8080/embed \"HTTP/1.1 200 OK\"\n",
      "HTTP Request: POST http://127.0.0.1:8080/embed \"HTTP/1.1 200 OK\"\n",
      "HTTP Request: POST http://127.0.0.1:8080/embed \"HTTP/1.1 200 OK\"\n",
      "HTTP Request: POST http://127.0.0.1:8080/embed \"HTTP/1.1 200 OK\"\n"
     ]
    },
    {
     "name": "stderr",
     "output_type": "stream",
     "text": [
      "\r",
      "Generating embeddings:  70%|███████████████████████████████████████████████████████████████████████████████████████████████████████████████████████████                                                     | 2690/3848 [21:15<09:54,  1.95it/s]"
     ]
    },
    {
     "name": "stdout",
     "output_type": "stream",
     "text": [
      "INFO:httpx:HTTP Request: POST http://127.0.0.1:8080/embed \"HTTP/1.1 200 OK\"\n",
      "HTTP Request: POST http://127.0.0.1:8080/embed \"HTTP/1.1 200 OK\"\n",
      "HTTP Request: POST http://127.0.0.1:8080/embed \"HTTP/1.1 200 OK\"\n",
      "HTTP Request: POST http://127.0.0.1:8080/embed \"HTTP/1.1 200 OK\"\n"
     ]
    },
    {
     "name": "stderr",
     "output_type": "stream",
     "text": [
      "\r",
      "Generating embeddings:  70%|███████████████████████████████████████████████████████████████████████████████████████████████████████████████████████████▍                                                    | 2700/3848 [21:21<10:12,  1.87it/s]"
     ]
    },
    {
     "name": "stdout",
     "output_type": "stream",
     "text": [
      "INFO:httpx:HTTP Request: POST http://127.0.0.1:8080/embed \"HTTP/1.1 200 OK\"\n",
      "HTTP Request: POST http://127.0.0.1:8080/embed \"HTTP/1.1 200 OK\"\n",
      "HTTP Request: POST http://127.0.0.1:8080/embed \"HTTP/1.1 200 OK\"\n",
      "HTTP Request: POST http://127.0.0.1:8080/embed \"HTTP/1.1 200 OK\"\n"
     ]
    },
    {
     "name": "stderr",
     "output_type": "stream",
     "text": [
      "\r",
      "Generating embeddings:  70%|███████████████████████████████████████████████████████████████████████████████████████████████████████████████████████████▉                                                    | 2710/3848 [21:26<09:55,  1.91it/s]"
     ]
    },
    {
     "name": "stdout",
     "output_type": "stream",
     "text": [
      "INFO:httpx:HTTP Request: POST http://127.0.0.1:8080/embed \"HTTP/1.1 200 OK\"\n",
      "HTTP Request: POST http://127.0.0.1:8080/embed \"HTTP/1.1 200 OK\"\n",
      "HTTP Request: POST http://127.0.0.1:8080/embed \"HTTP/1.1 200 OK\"\n",
      "HTTP Request: POST http://127.0.0.1:8080/embed \"HTTP/1.1 200 OK\"\n"
     ]
    },
    {
     "name": "stderr",
     "output_type": "stream",
     "text": [
      "\r",
      "Generating embeddings:  71%|████████████████████████████████████████████████████████████████████████████████████████████████████████████████████████████▍                                                   | 2720/3848 [21:31<09:37,  1.95it/s]"
     ]
    },
    {
     "name": "stdout",
     "output_type": "stream",
     "text": [
      "INFO:httpx:HTTP Request: POST http://127.0.0.1:8080/embed \"HTTP/1.1 200 OK\"\n",
      "HTTP Request: POST http://127.0.0.1:8080/embed \"HTTP/1.1 200 OK\"\n",
      "HTTP Request: POST http://127.0.0.1:8080/embed \"HTTP/1.1 200 OK\"\n",
      "HTTP Request: POST http://127.0.0.1:8080/embed \"HTTP/1.1 200 OK\"\n"
     ]
    },
    {
     "name": "stderr",
     "output_type": "stream",
     "text": [
      "\r",
      "Generating embeddings:  71%|████████████████████████████████████████████████████████████████████████████████████████████████████████████████████████████▊                                                   | 2730/3848 [21:36<09:18,  2.00it/s]"
     ]
    },
    {
     "name": "stdout",
     "output_type": "stream",
     "text": [
      "INFO:httpx:HTTP Request: POST http://127.0.0.1:8080/embed \"HTTP/1.1 200 OK\"\n",
      "HTTP Request: POST http://127.0.0.1:8080/embed \"HTTP/1.1 200 OK\"\n",
      "HTTP Request: POST http://127.0.0.1:8080/embed \"HTTP/1.1 200 OK\"\n",
      "HTTP Request: POST http://127.0.0.1:8080/embed \"HTTP/1.1 200 OK\"\n"
     ]
    },
    {
     "name": "stderr",
     "output_type": "stream",
     "text": [
      "\r",
      "Generating embeddings:  71%|█████████████████████████████████████████████████████████████████████████████████████████████████████████████████████████████▎                                                  | 2740/3848 [21:41<09:10,  2.01it/s]"
     ]
    },
    {
     "name": "stdout",
     "output_type": "stream",
     "text": [
      "INFO:httpx:HTTP Request: POST http://127.0.0.1:8080/embed \"HTTP/1.1 200 OK\"\n",
      "HTTP Request: POST http://127.0.0.1:8080/embed \"HTTP/1.1 200 OK\"\n",
      "HTTP Request: POST http://127.0.0.1:8080/embed \"HTTP/1.1 200 OK\"\n",
      "HTTP Request: POST http://127.0.0.1:8080/embed \"HTTP/1.1 200 OK\"\n"
     ]
    },
    {
     "name": "stderr",
     "output_type": "stream",
     "text": [
      "\r",
      "Generating embeddings:  71%|█████████████████████████████████████████████████████████████████████████████████████████████████████████████████████████████▊                                                  | 2750/3848 [21:46<09:02,  2.03it/s]"
     ]
    },
    {
     "name": "stdout",
     "output_type": "stream",
     "text": [
      "INFO:httpx:HTTP Request: POST http://127.0.0.1:8080/embed \"HTTP/1.1 200 OK\"\n",
      "HTTP Request: POST http://127.0.0.1:8080/embed \"HTTP/1.1 200 OK\"\n",
      "HTTP Request: POST http://127.0.0.1:8080/embed \"HTTP/1.1 200 OK\"\n",
      "HTTP Request: POST http://127.0.0.1:8080/embed \"HTTP/1.1 200 OK\"\n"
     ]
    },
    {
     "name": "stderr",
     "output_type": "stream",
     "text": [
      "\r",
      "Generating embeddings:  72%|██████████████████████████████████████████████████████████████████████████████████████████████████████████████████████████████▏                                                 | 2760/3848 [21:50<08:49,  2.05it/s]"
     ]
    },
    {
     "name": "stdout",
     "output_type": "stream",
     "text": [
      "INFO:httpx:HTTP Request: POST http://127.0.0.1:8080/embed \"HTTP/1.1 200 OK\"\n",
      "HTTP Request: POST http://127.0.0.1:8080/embed \"HTTP/1.1 200 OK\"\n",
      "HTTP Request: POST http://127.0.0.1:8080/embed \"HTTP/1.1 200 OK\"\n",
      "HTTP Request: POST http://127.0.0.1:8080/embed \"HTTP/1.1 200 OK\"\n"
     ]
    },
    {
     "name": "stderr",
     "output_type": "stream",
     "text": [
      "\r",
      "Generating embeddings:  72%|██████████████████████████████████████████████████████████████████████████████████████████████████████████████████████████████▋                                                 | 2770/3848 [21:55<08:37,  2.08it/s]"
     ]
    },
    {
     "name": "stdout",
     "output_type": "stream",
     "text": [
      "INFO:httpx:HTTP Request: POST http://127.0.0.1:8080/embed \"HTTP/1.1 200 OK\"\n",
      "HTTP Request: POST http://127.0.0.1:8080/embed \"HTTP/1.1 200 OK\"\n",
      "HTTP Request: POST http://127.0.0.1:8080/embed \"HTTP/1.1 200 OK\"\n",
      "HTTP Request: POST http://127.0.0.1:8080/embed \"HTTP/1.1 200 OK\"\n"
     ]
    },
    {
     "name": "stderr",
     "output_type": "stream",
     "text": [
      "\r",
      "Generating embeddings:  72%|███████████████████████████████████████████████████████████████████████████████████████████████████████████████████████████████▏                                                | 2780/3848 [22:00<08:29,  2.10it/s]"
     ]
    },
    {
     "name": "stdout",
     "output_type": "stream",
     "text": [
      "INFO:httpx:HTTP Request: POST http://127.0.0.1:8080/embed \"HTTP/1.1 200 OK\"\n",
      "HTTP Request: POST http://127.0.0.1:8080/embed \"HTTP/1.1 200 OK\"\n",
      "HTTP Request: POST http://127.0.0.1:8080/embed \"HTTP/1.1 200 OK\"\n",
      "HTTP Request: POST http://127.0.0.1:8080/embed \"HTTP/1.1 200 OK\"\n"
     ]
    },
    {
     "name": "stderr",
     "output_type": "stream",
     "text": [
      "\r",
      "Generating embeddings:  73%|███████████████████████████████████████████████████████████████████████████████████████████████████████████████████████████████▌                                                | 2790/3848 [22:04<08:18,  2.12it/s]"
     ]
    },
    {
     "name": "stdout",
     "output_type": "stream",
     "text": [
      "INFO:httpx:HTTP Request: POST http://127.0.0.1:8080/embed \"HTTP/1.1 200 OK\"\n",
      "HTTP Request: POST http://127.0.0.1:8080/embed \"HTTP/1.1 200 OK\"\n",
      "HTTP Request: POST http://127.0.0.1:8080/embed \"HTTP/1.1 200 OK\"\n",
      "HTTP Request: POST http://127.0.0.1:8080/embed \"HTTP/1.1 200 OK\"\n"
     ]
    },
    {
     "name": "stderr",
     "output_type": "stream",
     "text": [
      "\r",
      "Generating embeddings:  73%|████████████████████████████████████████████████████████████████████████████████████████████████████████████████████████████████                                                | 2800/3848 [22:09<08:19,  2.10it/s]"
     ]
    },
    {
     "name": "stdout",
     "output_type": "stream",
     "text": [
      "INFO:httpx:HTTP Request: POST http://127.0.0.1:8080/embed \"HTTP/1.1 200 OK\"\n",
      "HTTP Request: POST http://127.0.0.1:8080/embed \"HTTP/1.1 200 OK\"\n",
      "HTTP Request: POST http://127.0.0.1:8080/embed \"HTTP/1.1 200 OK\"\n",
      "HTTP Request: POST http://127.0.0.1:8080/embed \"HTTP/1.1 200 OK\"\n"
     ]
    },
    {
     "name": "stderr",
     "output_type": "stream",
     "text": [
      "\r",
      "Generating embeddings:  73%|████████████████████████████████████████████████████████████████████████████████████████████████████████████████████████████████▌                                               | 2810/3848 [22:14<08:20,  2.07it/s]"
     ]
    },
    {
     "name": "stdout",
     "output_type": "stream",
     "text": [
      "INFO:httpx:HTTP Request: POST http://127.0.0.1:8080/embed \"HTTP/1.1 200 OK\"\n",
      "HTTP Request: POST http://127.0.0.1:8080/embed \"HTTP/1.1 200 OK\"\n",
      "HTTP Request: POST http://127.0.0.1:8080/embed \"HTTP/1.1 200 OK\"\n",
      "HTTP Request: POST http://127.0.0.1:8080/embed \"HTTP/1.1 200 OK\"\n"
     ]
    },
    {
     "name": "stderr",
     "output_type": "stream",
     "text": [
      "\r",
      "Generating embeddings:  73%|████████████████████████████████████████████████████████████████████████████████████████████████████████████████████████████████▉                                               | 2820/3848 [22:19<08:18,  2.06it/s]"
     ]
    },
    {
     "name": "stdout",
     "output_type": "stream",
     "text": [
      "INFO:httpx:HTTP Request: POST http://127.0.0.1:8080/embed \"HTTP/1.1 200 OK\"\n",
      "HTTP Request: POST http://127.0.0.1:8080/embed \"HTTP/1.1 200 OK\"\n",
      "HTTP Request: POST http://127.0.0.1:8080/embed \"HTTP/1.1 200 OK\"\n",
      "HTTP Request: POST http://127.0.0.1:8080/embed \"HTTP/1.1 200 OK\"\n"
     ]
    },
    {
     "name": "stderr",
     "output_type": "stream",
     "text": [
      "\r",
      "Generating embeddings:  74%|█████████████████████████████████████████████████████████████████████████████████████████████████████████████████████████████████▍                                              | 2830/3848 [22:24<08:23,  2.02it/s]"
     ]
    },
    {
     "name": "stdout",
     "output_type": "stream",
     "text": [
      "INFO:httpx:HTTP Request: POST http://127.0.0.1:8080/embed \"HTTP/1.1 200 OK\"\n",
      "HTTP Request: POST http://127.0.0.1:8080/embed \"HTTP/1.1 200 OK\"\n",
      "HTTP Request: POST http://127.0.0.1:8080/embed \"HTTP/1.1 200 OK\"\n",
      "HTTP Request: POST http://127.0.0.1:8080/embed \"HTTP/1.1 200 OK\"\n"
     ]
    },
    {
     "name": "stderr",
     "output_type": "stream",
     "text": [
      "\r",
      "Generating embeddings:  74%|█████████████████████████████████████████████████████████████████████████████████████████████████████████████████████████████████▉                                              | 2840/3848 [22:29<08:05,  2.07it/s]"
     ]
    },
    {
     "name": "stdout",
     "output_type": "stream",
     "text": [
      "INFO:httpx:HTTP Request: POST http://127.0.0.1:8080/embed \"HTTP/1.1 200 OK\"\n",
      "HTTP Request: POST http://127.0.0.1:8080/embed \"HTTP/1.1 200 OK\"\n",
      "HTTP Request: POST http://127.0.0.1:8080/embed \"HTTP/1.1 200 OK\"\n",
      "HTTP Request: POST http://127.0.0.1:8080/embed \"HTTP/1.1 200 OK\"\n"
     ]
    },
    {
     "name": "stderr",
     "output_type": "stream",
     "text": [
      "\r",
      "Generating embeddings:  74%|██████████████████████████████████████████████████████████████████████████████████████████████████████████████████████████████████▎                                             | 2850/3848 [22:33<07:48,  2.13it/s]"
     ]
    },
    {
     "name": "stdout",
     "output_type": "stream",
     "text": [
      "INFO:httpx:HTTP Request: POST http://127.0.0.1:8080/embed \"HTTP/1.1 200 OK\"\n",
      "HTTP Request: POST http://127.0.0.1:8080/embed \"HTTP/1.1 200 OK\"\n",
      "HTTP Request: POST http://127.0.0.1:8080/embed \"HTTP/1.1 200 OK\"\n",
      "HTTP Request: POST http://127.0.0.1:8080/embed \"HTTP/1.1 200 OK\"\n"
     ]
    },
    {
     "name": "stderr",
     "output_type": "stream",
     "text": [
      "\r",
      "Generating embeddings:  74%|██████████████████████████████████████████████████████████████████████████████████████████████████████████████████████████████████▊                                             | 2860/3848 [22:37<07:33,  2.18it/s]"
     ]
    },
    {
     "name": "stdout",
     "output_type": "stream",
     "text": [
      "INFO:httpx:HTTP Request: POST http://127.0.0.1:8080/embed \"HTTP/1.1 200 OK\"\n",
      "HTTP Request: POST http://127.0.0.1:8080/embed \"HTTP/1.1 200 OK\"\n",
      "HTTP Request: POST http://127.0.0.1:8080/embed \"HTTP/1.1 200 OK\"\n",
      "HTTP Request: POST http://127.0.0.1:8080/embed \"HTTP/1.1 200 OK\"\n"
     ]
    },
    {
     "name": "stderr",
     "output_type": "stream",
     "text": [
      "\r",
      "Generating embeddings:  75%|███████████████████████████████████████████████████████████████████████████████████████████████████████████████████████████████████▎                                            | 2870/3848 [22:42<07:30,  2.17it/s]"
     ]
    },
    {
     "name": "stdout",
     "output_type": "stream",
     "text": [
      "INFO:httpx:HTTP Request: POST http://127.0.0.1:8080/embed \"HTTP/1.1 200 OK\"\n",
      "HTTP Request: POST http://127.0.0.1:8080/embed \"HTTP/1.1 200 OK\"\n",
      "HTTP Request: POST http://127.0.0.1:8080/embed \"HTTP/1.1 200 OK\"\n",
      "HTTP Request: POST http://127.0.0.1:8080/embed \"HTTP/1.1 200 OK\"\n"
     ]
    },
    {
     "name": "stderr",
     "output_type": "stream",
     "text": [
      "\r",
      "Generating embeddings:  75%|███████████████████████████████████████████████████████████████████████████████████████████████████████████████████████████████████▋                                            | 2880/3848 [22:47<07:24,  2.18it/s]"
     ]
    },
    {
     "name": "stdout",
     "output_type": "stream",
     "text": [
      "INFO:httpx:HTTP Request: POST http://127.0.0.1:8080/embed \"HTTP/1.1 200 OK\"\n",
      "HTTP Request: POST http://127.0.0.1:8080/embed \"HTTP/1.1 200 OK\"\n",
      "HTTP Request: POST http://127.0.0.1:8080/embed \"HTTP/1.1 200 OK\"\n",
      "HTTP Request: POST http://127.0.0.1:8080/embed \"HTTP/1.1 200 OK\"\n"
     ]
    },
    {
     "name": "stderr",
     "output_type": "stream",
     "text": [
      "\r",
      "Generating embeddings:  75%|████████████████████████████████████████████████████████████████████████████████████████████████████████████████████████████████████▏                                           | 2890/3848 [22:51<07:21,  2.17it/s]"
     ]
    },
    {
     "name": "stdout",
     "output_type": "stream",
     "text": [
      "INFO:httpx:HTTP Request: POST http://127.0.0.1:8080/embed \"HTTP/1.1 200 OK\"\n",
      "HTTP Request: POST http://127.0.0.1:8080/embed \"HTTP/1.1 200 OK\"\n",
      "HTTP Request: POST http://127.0.0.1:8080/embed \"HTTP/1.1 200 OK\"\n",
      "HTTP Request: POST http://127.0.0.1:8080/embed \"HTTP/1.1 200 OK\"\n"
     ]
    },
    {
     "name": "stderr",
     "output_type": "stream",
     "text": [
      "\r",
      "Generating embeddings:  75%|████████████████████████████████████████████████████████████████████████████████████████████████████████████████████████████████████▋                                           | 2900/3848 [22:56<07:17,  2.17it/s]"
     ]
    },
    {
     "name": "stdout",
     "output_type": "stream",
     "text": [
      "INFO:httpx:HTTP Request: POST http://127.0.0.1:8080/embed \"HTTP/1.1 200 OK\"\n",
      "HTTP Request: POST http://127.0.0.1:8080/embed \"HTTP/1.1 200 OK\"\n",
      "HTTP Request: POST http://127.0.0.1:8080/embed \"HTTP/1.1 200 OK\"\n",
      "HTTP Request: POST http://127.0.0.1:8080/embed \"HTTP/1.1 200 OK\"\n"
     ]
    },
    {
     "name": "stderr",
     "output_type": "stream",
     "text": [
      "\r",
      "Generating embeddings:  76%|█████████████████████████████████████████████████████████████████████████████████████████████████████████████████████████████████████                                           | 2910/3848 [23:01<07:14,  2.16it/s]"
     ]
    },
    {
     "name": "stdout",
     "output_type": "stream",
     "text": [
      "INFO:httpx:HTTP Request: POST http://127.0.0.1:8080/embed \"HTTP/1.1 200 OK\"\n",
      "HTTP Request: POST http://127.0.0.1:8080/embed \"HTTP/1.1 200 OK\"\n",
      "HTTP Request: POST http://127.0.0.1:8080/embed \"HTTP/1.1 200 OK\"\n",
      "HTTP Request: POST http://127.0.0.1:8080/embed \"HTTP/1.1 200 OK\"\n"
     ]
    },
    {
     "name": "stderr",
     "output_type": "stream",
     "text": [
      "\r",
      "Generating embeddings:  76%|█████████████████████████████████████████████████████████████████████████████████████████████████████████████████████████████████████▌                                          | 2920/3848 [23:05<07:14,  2.13it/s]"
     ]
    },
    {
     "name": "stdout",
     "output_type": "stream",
     "text": [
      "INFO:httpx:HTTP Request: POST http://127.0.0.1:8080/embed \"HTTP/1.1 200 OK\"\n",
      "HTTP Request: POST http://127.0.0.1:8080/embed \"HTTP/1.1 200 OK\"\n",
      "HTTP Request: POST http://127.0.0.1:8080/embed \"HTTP/1.1 200 OK\"\n",
      "HTTP Request: POST http://127.0.0.1:8080/embed \"HTTP/1.1 200 OK\"\n"
     ]
    },
    {
     "name": "stderr",
     "output_type": "stream",
     "text": [
      "\r",
      "Generating embeddings:  76%|██████████████████████████████████████████████████████████████████████████████████████████████████████████████████████████████████████                                          | 2930/3848 [23:11<07:37,  2.01it/s]"
     ]
    },
    {
     "name": "stdout",
     "output_type": "stream",
     "text": [
      "INFO:httpx:HTTP Request: POST http://127.0.0.1:8080/embed \"HTTP/1.1 200 OK\"\n",
      "HTTP Request: POST http://127.0.0.1:8080/embed \"HTTP/1.1 200 OK\"\n",
      "HTTP Request: POST http://127.0.0.1:8080/embed \"HTTP/1.1 200 OK\"\n",
      "HTTP Request: POST http://127.0.0.1:8080/embed \"HTTP/1.1 200 OK\"\n"
     ]
    },
    {
     "name": "stderr",
     "output_type": "stream",
     "text": [
      "\r",
      "Generating embeddings:  76%|██████████████████████████████████████████████████████████████████████████████████████████████████████████████████████████████████████▍                                         | 2940/3848 [23:16<07:31,  2.01it/s]"
     ]
    },
    {
     "name": "stdout",
     "output_type": "stream",
     "text": [
      "INFO:httpx:HTTP Request: POST http://127.0.0.1:8080/embed \"HTTP/1.1 200 OK\"\n",
      "HTTP Request: POST http://127.0.0.1:8080/embed \"HTTP/1.1 200 OK\"\n",
      "HTTP Request: POST http://127.0.0.1:8080/embed \"HTTP/1.1 200 OK\"\n",
      "HTTP Request: POST http://127.0.0.1:8080/embed \"HTTP/1.1 200 OK\"\n"
     ]
    },
    {
     "name": "stderr",
     "output_type": "stream",
     "text": [
      "\r",
      "Generating embeddings:  77%|██████████████████████████████████████████████████████████████████████████████████████████████████████████████████████████████████████▉                                         | 2950/3848 [23:21<07:17,  2.05it/s]"
     ]
    },
    {
     "name": "stdout",
     "output_type": "stream",
     "text": [
      "INFO:httpx:HTTP Request: POST http://127.0.0.1:8080/embed \"HTTP/1.1 200 OK\"\n",
      "HTTP Request: POST http://127.0.0.1:8080/embed \"HTTP/1.1 200 OK\"\n",
      "HTTP Request: POST http://127.0.0.1:8080/embed \"HTTP/1.1 200 OK\"\n",
      "HTTP Request: POST http://127.0.0.1:8080/embed \"HTTP/1.1 200 OK\"\n"
     ]
    },
    {
     "name": "stderr",
     "output_type": "stream",
     "text": [
      "\r",
      "Generating embeddings:  77%|███████████████████████████████████████████████████████████████████████████████████████████████████████████████████████████████████████▍                                        | 2960/3848 [23:25<07:02,  2.10it/s]"
     ]
    },
    {
     "name": "stdout",
     "output_type": "stream",
     "text": [
      "INFO:httpx:HTTP Request: POST http://127.0.0.1:8080/embed \"HTTP/1.1 200 OK\"\n",
      "HTTP Request: POST http://127.0.0.1:8080/embed \"HTTP/1.1 200 OK\"\n",
      "HTTP Request: POST http://127.0.0.1:8080/embed \"HTTP/1.1 200 OK\"\n",
      "HTTP Request: POST http://127.0.0.1:8080/embed \"HTTP/1.1 200 OK\"\n"
     ]
    },
    {
     "name": "stderr",
     "output_type": "stream",
     "text": [
      "\r",
      "Generating embeddings:  77%|███████████████████████████████████████████████████████████████████████████████████████████████████████████████████████████████████████▊                                        | 2970/3848 [23:30<07:01,  2.08it/s]"
     ]
    },
    {
     "name": "stdout",
     "output_type": "stream",
     "text": [
      "INFO:httpx:HTTP Request: POST http://127.0.0.1:8080/embed \"HTTP/1.1 200 OK\"\n",
      "HTTP Request: POST http://127.0.0.1:8080/embed \"HTTP/1.1 200 OK\"\n",
      "HTTP Request: POST http://127.0.0.1:8080/embed \"HTTP/1.1 200 OK\"\n",
      "HTTP Request: POST http://127.0.0.1:8080/embed \"HTTP/1.1 200 OK\"\n"
     ]
    },
    {
     "name": "stderr",
     "output_type": "stream",
     "text": [
      "\r",
      "Generating embeddings:  77%|████████████████████████████████████████████████████████████████████████████████████████████████████████████████████████████████████████▎                                       | 2980/3848 [23:34<06:40,  2.17it/s]"
     ]
    },
    {
     "name": "stdout",
     "output_type": "stream",
     "text": [
      "INFO:httpx:HTTP Request: POST http://127.0.0.1:8080/embed \"HTTP/1.1 200 OK\"\n",
      "HTTP Request: POST http://127.0.0.1:8080/embed \"HTTP/1.1 200 OK\"\n",
      "HTTP Request: POST http://127.0.0.1:8080/embed \"HTTP/1.1 200 OK\"\n",
      "HTTP Request: POST http://127.0.0.1:8080/embed \"HTTP/1.1 200 OK\"\n"
     ]
    },
    {
     "name": "stderr",
     "output_type": "stream",
     "text": [
      "\r",
      "Generating embeddings:  78%|████████████████████████████████████████████████████████████████████████████████████████████████████████████████████████████████████████▊                                       | 2990/3848 [23:38<06:21,  2.25it/s]"
     ]
    },
    {
     "name": "stdout",
     "output_type": "stream",
     "text": [
      "INFO:httpx:HTTP Request: POST http://127.0.0.1:8080/embed \"HTTP/1.1 200 OK\"\n",
      "HTTP Request: POST http://127.0.0.1:8080/embed \"HTTP/1.1 200 OK\"\n",
      "HTTP Request: POST http://127.0.0.1:8080/embed \"HTTP/1.1 200 OK\"\n",
      "HTTP Request: POST http://127.0.0.1:8080/embed \"HTTP/1.1 200 OK\"\n"
     ]
    },
    {
     "name": "stderr",
     "output_type": "stream",
     "text": [
      "\r",
      "Generating embeddings:  78%|█████████████████████████████████████████████████████████████████████████████████████████████████████████████████████████████████████████▏                                      | 3000/3848 [23:43<06:29,  2.18it/s]"
     ]
    },
    {
     "name": "stdout",
     "output_type": "stream",
     "text": [
      "INFO:httpx:HTTP Request: POST http://127.0.0.1:8080/embed \"HTTP/1.1 200 OK\"\n",
      "HTTP Request: POST http://127.0.0.1:8080/embed \"HTTP/1.1 200 OK\"\n",
      "HTTP Request: POST http://127.0.0.1:8080/embed \"HTTP/1.1 200 OK\"\n",
      "HTTP Request: POST http://127.0.0.1:8080/embed \"HTTP/1.1 200 OK\"\n"
     ]
    },
    {
     "name": "stderr",
     "output_type": "stream",
     "text": [
      "\r",
      "Generating embeddings:  78%|█████████████████████████████████████████████████████████████████████████████████████████████████████████████████████████████████████████▋                                      | 3010/3848 [23:48<06:39,  2.10it/s]"
     ]
    },
    {
     "name": "stdout",
     "output_type": "stream",
     "text": [
      "INFO:httpx:HTTP Request: POST http://127.0.0.1:8080/embed \"HTTP/1.1 200 OK\"\n",
      "HTTP Request: POST http://127.0.0.1:8080/embed \"HTTP/1.1 200 OK\"\n",
      "HTTP Request: POST http://127.0.0.1:8080/embed \"HTTP/1.1 200 OK\"\n",
      "HTTP Request: POST http://127.0.0.1:8080/embed \"HTTP/1.1 200 OK\"\n"
     ]
    },
    {
     "name": "stderr",
     "output_type": "stream",
     "text": [
      "\r",
      "Generating embeddings:  78%|██████████████████████████████████████████████████████████████████████████████████████████████████████████████████████████████████████████▏                                     | 3020/3848 [23:54<06:45,  2.04it/s]"
     ]
    },
    {
     "name": "stdout",
     "output_type": "stream",
     "text": [
      "INFO:httpx:HTTP Request: POST http://127.0.0.1:8080/embed \"HTTP/1.1 200 OK\"\n",
      "HTTP Request: POST http://127.0.0.1:8080/embed \"HTTP/1.1 200 OK\"\n",
      "HTTP Request: POST http://127.0.0.1:8080/embed \"HTTP/1.1 200 OK\"\n",
      "HTTP Request: POST http://127.0.0.1:8080/embed \"HTTP/1.1 200 OK\"\n"
     ]
    },
    {
     "name": "stderr",
     "output_type": "stream",
     "text": [
      "\r",
      "Generating embeddings:  79%|██████████████████████████████████████████████████████████████████████████████████████████████████████████████████████████████████████████▌                                     | 3030/3848 [23:59<06:56,  1.96it/s]"
     ]
    },
    {
     "name": "stdout",
     "output_type": "stream",
     "text": [
      "INFO:httpx:HTTP Request: POST http://127.0.0.1:8080/embed \"HTTP/1.1 200 OK\"\n",
      "HTTP Request: POST http://127.0.0.1:8080/embed \"HTTP/1.1 200 OK\"\n",
      "HTTP Request: POST http://127.0.0.1:8080/embed \"HTTP/1.1 200 OK\"\n",
      "HTTP Request: POST http://127.0.0.1:8080/embed \"HTTP/1.1 200 OK\"\n"
     ]
    },
    {
     "name": "stderr",
     "output_type": "stream",
     "text": [
      "\r",
      "Generating embeddings:  79%|███████████████████████████████████████████████████████████████████████████████████████████████████████████████████████████████████████████                                     | 3040/3848 [24:04<06:55,  1.95it/s]"
     ]
    },
    {
     "name": "stdout",
     "output_type": "stream",
     "text": [
      "INFO:httpx:HTTP Request: POST http://127.0.0.1:8080/embed \"HTTP/1.1 200 OK\"\n",
      "HTTP Request: POST http://127.0.0.1:8080/embed \"HTTP/1.1 200 OK\"\n",
      "HTTP Request: POST http://127.0.0.1:8080/embed \"HTTP/1.1 200 OK\"\n",
      "HTTP Request: POST http://127.0.0.1:8080/embed \"HTTP/1.1 200 OK\"\n"
     ]
    },
    {
     "name": "stderr",
     "output_type": "stream",
     "text": [
      "\r",
      "Generating embeddings:  79%|███████████████████████████████████████████████████████████████████████████████████████████████████████████████████████████████████████████▌                                    | 3050/3848 [24:10<06:56,  1.92it/s]"
     ]
    },
    {
     "name": "stdout",
     "output_type": "stream",
     "text": [
      "INFO:httpx:HTTP Request: POST http://127.0.0.1:8080/embed \"HTTP/1.1 200 OK\"\n",
      "HTTP Request: POST http://127.0.0.1:8080/embed \"HTTP/1.1 200 OK\"\n",
      "HTTP Request: POST http://127.0.0.1:8080/embed \"HTTP/1.1 200 OK\"\n",
      "HTTP Request: POST http://127.0.0.1:8080/embed \"HTTP/1.1 200 OK\"\n"
     ]
    },
    {
     "name": "stderr",
     "output_type": "stream",
     "text": [
      "\r",
      "Generating embeddings:  80%|███████████████████████████████████████████████████████████████████████████████████████████████████████████████████████████████████████████▉                                    | 3060/3848 [24:16<07:08,  1.84it/s]"
     ]
    },
    {
     "name": "stdout",
     "output_type": "stream",
     "text": [
      "INFO:httpx:HTTP Request: POST http://127.0.0.1:8080/embed \"HTTP/1.1 200 OK\"\n",
      "HTTP Request: POST http://127.0.0.1:8080/embed \"HTTP/1.1 200 OK\"\n",
      "HTTP Request: POST http://127.0.0.1:8080/embed \"HTTP/1.1 200 OK\"\n",
      "HTTP Request: POST http://127.0.0.1:8080/embed \"HTTP/1.1 200 OK\"\n"
     ]
    },
    {
     "name": "stderr",
     "output_type": "stream",
     "text": [
      "\r",
      "Generating embeddings:  80%|████████████████████████████████████████████████████████████████████████████████████████████████████████████████████████████████████████████▍                                   | 3070/3848 [24:22<07:23,  1.76it/s]"
     ]
    },
    {
     "name": "stdout",
     "output_type": "stream",
     "text": [
      "INFO:httpx:HTTP Request: POST http://127.0.0.1:8080/embed \"HTTP/1.1 200 OK\"\n",
      "HTTP Request: POST http://127.0.0.1:8080/embed \"HTTP/1.1 200 OK\"\n",
      "HTTP Request: POST http://127.0.0.1:8080/embed \"HTTP/1.1 200 OK\"\n",
      "HTTP Request: POST http://127.0.0.1:8080/embed \"HTTP/1.1 200 OK\"\n"
     ]
    },
    {
     "name": "stderr",
     "output_type": "stream",
     "text": [
      "\r",
      "Generating embeddings:  80%|████████████████████████████████████████████████████████████████████████████████████████████████████████████████████████████████████████████▊                                   | 3080/3848 [24:27<07:00,  1.83it/s]"
     ]
    },
    {
     "name": "stdout",
     "output_type": "stream",
     "text": [
      "INFO:httpx:HTTP Request: POST http://127.0.0.1:8080/embed \"HTTP/1.1 200 OK\"\n",
      "HTTP Request: POST http://127.0.0.1:8080/embed \"HTTP/1.1 200 OK\"\n",
      "HTTP Request: POST http://127.0.0.1:8080/embed \"HTTP/1.1 200 OK\"\n",
      "HTTP Request: POST http://127.0.0.1:8080/embed \"HTTP/1.1 200 OK\"\n"
     ]
    },
    {
     "name": "stderr",
     "output_type": "stream",
     "text": [
      "\r",
      "Generating embeddings:  80%|█████████████████████████████████████████████████████████████████████████████████████████████████████████████████████████████████████████████▎                                  | 3090/3848 [24:33<07:08,  1.77it/s]"
     ]
    },
    {
     "name": "stdout",
     "output_type": "stream",
     "text": [
      "INFO:httpx:HTTP Request: POST http://127.0.0.1:8080/embed \"HTTP/1.1 200 OK\"\n",
      "HTTP Request: POST http://127.0.0.1:8080/embed \"HTTP/1.1 200 OK\"\n",
      "HTTP Request: POST http://127.0.0.1:8080/embed \"HTTP/1.1 200 OK\"\n",
      "HTTP Request: POST http://127.0.0.1:8080/embed \"HTTP/1.1 200 OK\"\n"
     ]
    },
    {
     "name": "stderr",
     "output_type": "stream",
     "text": [
      "\r",
      "Generating embeddings:  81%|█████████████████████████████████████████████████████████████████████████████████████████████████████████████████████████████████████████████▊                                  | 3100/3848 [24:38<06:49,  1.83it/s]"
     ]
    },
    {
     "name": "stdout",
     "output_type": "stream",
     "text": [
      "INFO:httpx:HTTP Request: POST http://127.0.0.1:8080/embed \"HTTP/1.1 200 OK\"\n",
      "HTTP Request: POST http://127.0.0.1:8080/embed \"HTTP/1.1 200 OK\"\n",
      "HTTP Request: POST http://127.0.0.1:8080/embed \"HTTP/1.1 200 OK\"\n",
      "HTTP Request: POST http://127.0.0.1:8080/embed \"HTTP/1.1 200 OK\"\n"
     ]
    },
    {
     "name": "stderr",
     "output_type": "stream",
     "text": [
      "\r",
      "Generating embeddings:  81%|██████████████████████████████████████████████████████████████████████████████████████████████████████████████████████████████████████████████▏                                 | 3110/3848 [24:43<06:31,  1.89it/s]"
     ]
    },
    {
     "name": "stdout",
     "output_type": "stream",
     "text": [
      "INFO:httpx:HTTP Request: POST http://127.0.0.1:8080/embed \"HTTP/1.1 200 OK\"\n",
      "HTTP Request: POST http://127.0.0.1:8080/embed \"HTTP/1.1 200 OK\"\n",
      "HTTP Request: POST http://127.0.0.1:8080/embed \"HTTP/1.1 200 OK\"\n",
      "HTTP Request: POST http://127.0.0.1:8080/embed \"HTTP/1.1 200 OK\"\n"
     ]
    },
    {
     "name": "stderr",
     "output_type": "stream",
     "text": [
      "\r",
      "Generating embeddings:  81%|██████████████████████████████████████████████████████████████████████████████████████████████████████████████████████████████████████████████▋                                 | 3120/3848 [24:48<06:17,  1.93it/s]"
     ]
    },
    {
     "name": "stdout",
     "output_type": "stream",
     "text": [
      "INFO:httpx:HTTP Request: POST http://127.0.0.1:8080/embed \"HTTP/1.1 200 OK\"\n",
      "HTTP Request: POST http://127.0.0.1:8080/embed \"HTTP/1.1 200 OK\"\n",
      "HTTP Request: POST http://127.0.0.1:8080/embed \"HTTP/1.1 200 OK\"\n",
      "HTTP Request: POST http://127.0.0.1:8080/embed \"HTTP/1.1 200 OK\"\n"
     ]
    },
    {
     "name": "stderr",
     "output_type": "stream",
     "text": [
      "\r",
      "Generating embeddings:  81%|███████████████████████████████████████████████████████████████████████████████████████████████████████████████████████████████████████████████▏                                | 3130/3848 [24:53<06:04,  1.97it/s]"
     ]
    },
    {
     "name": "stdout",
     "output_type": "stream",
     "text": [
      "INFO:httpx:HTTP Request: POST http://127.0.0.1:8080/embed \"HTTP/1.1 200 OK\"\n",
      "HTTP Request: POST http://127.0.0.1:8080/embed \"HTTP/1.1 200 OK\"\n",
      "HTTP Request: POST http://127.0.0.1:8080/embed \"HTTP/1.1 200 OK\"\n",
      "HTTP Request: POST http://127.0.0.1:8080/embed \"HTTP/1.1 200 OK\"\n"
     ]
    },
    {
     "name": "stderr",
     "output_type": "stream",
     "text": [
      "\r",
      "Generating embeddings:  82%|███████████████████████████████████████████████████████████████████████████████████████████████████████████████████████████████████████████████▌                                | 3140/3848 [24:57<05:51,  2.02it/s]"
     ]
    },
    {
     "name": "stdout",
     "output_type": "stream",
     "text": [
      "INFO:httpx:HTTP Request: POST http://127.0.0.1:8080/embed \"HTTP/1.1 200 OK\"\n",
      "HTTP Request: POST http://127.0.0.1:8080/embed \"HTTP/1.1 200 OK\"\n",
      "HTTP Request: POST http://127.0.0.1:8080/embed \"HTTP/1.1 200 OK\"\n",
      "HTTP Request: POST http://127.0.0.1:8080/embed \"HTTP/1.1 200 OK\"\n"
     ]
    },
    {
     "name": "stderr",
     "output_type": "stream",
     "text": [
      "\r",
      "Generating embeddings:  82%|████████████████████████████████████████████████████████████████████████████████████████████████████████████████████████████████████████████████                                | 3150/3848 [25:03<05:49,  1.99it/s]"
     ]
    },
    {
     "name": "stdout",
     "output_type": "stream",
     "text": [
      "INFO:httpx:HTTP Request: POST http://127.0.0.1:8080/embed \"HTTP/1.1 200 OK\"\n",
      "HTTP Request: POST http://127.0.0.1:8080/embed \"HTTP/1.1 200 OK\"\n",
      "HTTP Request: POST http://127.0.0.1:8080/embed \"HTTP/1.1 200 OK\"\n",
      "HTTP Request: POST http://127.0.0.1:8080/embed \"HTTP/1.1 200 OK\"\n"
     ]
    },
    {
     "name": "stderr",
     "output_type": "stream",
     "text": [
      "\r",
      "Generating embeddings:  82%|████████████████████████████████████████████████████████████████████████████████████████████████████████████████████████████████████████████████▌                               | 3160/3848 [25:07<05:42,  2.01it/s]"
     ]
    },
    {
     "name": "stdout",
     "output_type": "stream",
     "text": [
      "INFO:httpx:HTTP Request: POST http://127.0.0.1:8080/embed \"HTTP/1.1 200 OK\"\n",
      "HTTP Request: POST http://127.0.0.1:8080/embed \"HTTP/1.1 200 OK\"\n",
      "HTTP Request: POST http://127.0.0.1:8080/embed \"HTTP/1.1 200 OK\"\n",
      "HTTP Request: POST http://127.0.0.1:8080/embed \"HTTP/1.1 200 OK\"\n"
     ]
    },
    {
     "name": "stderr",
     "output_type": "stream",
     "text": [
      "\r",
      "Generating embeddings:  82%|████████████████████████████████████████████████████████████████████████████████████████████████████████████████████████████████████████████████▉                               | 3170/3848 [25:13<05:42,  1.98it/s]"
     ]
    },
    {
     "name": "stdout",
     "output_type": "stream",
     "text": [
      "INFO:httpx:HTTP Request: POST http://127.0.0.1:8080/embed \"HTTP/1.1 200 OK\"\n",
      "HTTP Request: POST http://127.0.0.1:8080/embed \"HTTP/1.1 200 OK\"\n",
      "HTTP Request: POST http://127.0.0.1:8080/embed \"HTTP/1.1 200 OK\"\n",
      "HTTP Request: POST http://127.0.0.1:8080/embed \"HTTP/1.1 200 OK\"\n"
     ]
    },
    {
     "name": "stderr",
     "output_type": "stream",
     "text": [
      "\r",
      "Generating embeddings:  83%|█████████████████████████████████████████████████████████████████████████████████████████████████████████████████████████████████████████████████▍                              | 3180/3848 [25:17<05:30,  2.02it/s]"
     ]
    },
    {
     "name": "stdout",
     "output_type": "stream",
     "text": [
      "INFO:httpx:HTTP Request: POST http://127.0.0.1:8080/embed \"HTTP/1.1 200 OK\"\n",
      "HTTP Request: POST http://127.0.0.1:8080/embed \"HTTP/1.1 200 OK\"\n",
      "HTTP Request: POST http://127.0.0.1:8080/embed \"HTTP/1.1 200 OK\"\n",
      "HTTP Request: POST http://127.0.0.1:8080/embed \"HTTP/1.1 200 OK\"\n"
     ]
    },
    {
     "name": "stderr",
     "output_type": "stream",
     "text": [
      "\r",
      "Generating embeddings:  83%|█████████████████████████████████████████████████████████████████████████████████████████████████████████████████████████████████████████████████▉                              | 3190/3848 [25:22<05:15,  2.08it/s]"
     ]
    },
    {
     "name": "stdout",
     "output_type": "stream",
     "text": [
      "INFO:httpx:HTTP Request: POST http://127.0.0.1:8080/embed \"HTTP/1.1 200 OK\"\n",
      "HTTP Request: POST http://127.0.0.1:8080/embed \"HTTP/1.1 200 OK\"\n",
      "HTTP Request: POST http://127.0.0.1:8080/embed \"HTTP/1.1 200 OK\"\n",
      "HTTP Request: POST http://127.0.0.1:8080/embed \"HTTP/1.1 200 OK\"\n"
     ]
    },
    {
     "name": "stderr",
     "output_type": "stream",
     "text": [
      "\r",
      "Generating embeddings:  83%|██████████████████████████████████████████████████████████████████████████████████████████████████████████████████████████████████████████████████▎                             | 3200/3848 [25:26<04:59,  2.16it/s]"
     ]
    },
    {
     "name": "stdout",
     "output_type": "stream",
     "text": [
      "INFO:httpx:HTTP Request: POST http://127.0.0.1:8080/embed \"HTTP/1.1 200 OK\"\n",
      "HTTP Request: POST http://127.0.0.1:8080/embed \"HTTP/1.1 200 OK\"\n",
      "HTTP Request: POST http://127.0.0.1:8080/embed \"HTTP/1.1 200 OK\"\n",
      "HTTP Request: POST http://127.0.0.1:8080/embed \"HTTP/1.1 200 OK\"\n"
     ]
    },
    {
     "name": "stderr",
     "output_type": "stream",
     "text": [
      "\r",
      "Generating embeddings:  83%|██████████████████████████████████████████████████████████████████████████████████████████████████████████████████████████████████████████████████▊                             | 3210/3848 [25:31<04:53,  2.17it/s]"
     ]
    },
    {
     "name": "stdout",
     "output_type": "stream",
     "text": [
      "INFO:httpx:HTTP Request: POST http://127.0.0.1:8080/embed \"HTTP/1.1 200 OK\"\n",
      "HTTP Request: POST http://127.0.0.1:8080/embed \"HTTP/1.1 200 OK\"\n",
      "HTTP Request: POST http://127.0.0.1:8080/embed \"HTTP/1.1 200 OK\"\n",
      "HTTP Request: POST http://127.0.0.1:8080/embed \"HTTP/1.1 200 OK\"\n"
     ]
    },
    {
     "name": "stderr",
     "output_type": "stream",
     "text": [
      "\r",
      "Generating embeddings:  84%|███████████████████████████████████████████████████████████████████████████████████████████████████████████████████████████████████████████████████▎                            | 3220/3848 [25:36<04:56,  2.12it/s]"
     ]
    },
    {
     "name": "stdout",
     "output_type": "stream",
     "text": [
      "INFO:httpx:HTTP Request: POST http://127.0.0.1:8080/embed \"HTTP/1.1 200 OK\"\n",
      "HTTP Request: POST http://127.0.0.1:8080/embed \"HTTP/1.1 200 OK\"\n",
      "HTTP Request: POST http://127.0.0.1:8080/embed \"HTTP/1.1 200 OK\"\n",
      "HTTP Request: POST http://127.0.0.1:8080/embed \"HTTP/1.1 200 OK\"\n"
     ]
    },
    {
     "name": "stderr",
     "output_type": "stream",
     "text": [
      "\r",
      "Generating embeddings:  84%|███████████████████████████████████████████████████████████████████████████████████████████████████████████████████████████████████████████████████▋                            | 3230/3848 [25:39<04:31,  2.28it/s]"
     ]
    },
    {
     "name": "stdout",
     "output_type": "stream",
     "text": [
      "INFO:httpx:HTTP Request: POST http://127.0.0.1:8080/embed \"HTTP/1.1 200 OK\"\n",
      "HTTP Request: POST http://127.0.0.1:8080/embed \"HTTP/1.1 200 OK\"\n",
      "HTTP Request: POST http://127.0.0.1:8080/embed \"HTTP/1.1 200 OK\"\n",
      "HTTP Request: POST http://127.0.0.1:8080/embed \"HTTP/1.1 200 OK\"\n"
     ]
    },
    {
     "name": "stderr",
     "output_type": "stream",
     "text": [
      "\r",
      "Generating embeddings:  84%|████████████████████████████████████████████████████████████████████████████████████████████████████████████████████████████████████████████████████▏                           | 3240/3848 [25:44<04:35,  2.21it/s]"
     ]
    },
    {
     "name": "stdout",
     "output_type": "stream",
     "text": [
      "INFO:httpx:HTTP Request: POST http://127.0.0.1:8080/embed \"HTTP/1.1 200 OK\"\n",
      "HTTP Request: POST http://127.0.0.1:8080/embed \"HTTP/1.1 200 OK\"\n",
      "HTTP Request: POST http://127.0.0.1:8080/embed \"HTTP/1.1 200 OK\"\n",
      "HTTP Request: POST http://127.0.0.1:8080/embed \"HTTP/1.1 200 OK\"\n"
     ]
    },
    {
     "name": "stderr",
     "output_type": "stream",
     "text": [
      "\r",
      "Generating embeddings:  84%|████████████████████████████████████████████████████████████████████████████████████████████████████████████████████████████████████████████████████▋                           | 3250/3848 [25:48<04:25,  2.25it/s]"
     ]
    },
    {
     "name": "stdout",
     "output_type": "stream",
     "text": [
      "INFO:httpx:HTTP Request: POST http://127.0.0.1:8080/embed \"HTTP/1.1 200 OK\"\n",
      "HTTP Request: POST http://127.0.0.1:8080/embed \"HTTP/1.1 200 OK\"\n",
      "HTTP Request: POST http://127.0.0.1:8080/embed \"HTTP/1.1 200 OK\"\n",
      "HTTP Request: POST http://127.0.0.1:8080/embed \"HTTP/1.1 200 OK\"\n"
     ]
    },
    {
     "name": "stderr",
     "output_type": "stream",
     "text": [
      "\r",
      "Generating embeddings:  85%|█████████████████████████████████████████████████████████████████████████████████████████████████████████████████████████████████████████████████████                           | 3260/3848 [25:53<04:19,  2.26it/s]"
     ]
    },
    {
     "name": "stdout",
     "output_type": "stream",
     "text": [
      "INFO:httpx:HTTP Request: POST http://127.0.0.1:8080/embed \"HTTP/1.1 200 OK\"\n",
      "HTTP Request: POST http://127.0.0.1:8080/embed \"HTTP/1.1 200 OK\"\n",
      "HTTP Request: POST http://127.0.0.1:8080/embed \"HTTP/1.1 200 OK\"\n",
      "HTTP Request: POST http://127.0.0.1:8080/embed \"HTTP/1.1 200 OK\"\n"
     ]
    },
    {
     "name": "stderr",
     "output_type": "stream",
     "text": [
      "\r",
      "Generating embeddings:  85%|█████████████████████████████████████████████████████████████████████████████████████████████████████████████████████████████████████████████████████▌                          | 3270/3848 [25:57<04:16,  2.26it/s]"
     ]
    },
    {
     "name": "stdout",
     "output_type": "stream",
     "text": [
      "INFO:httpx:HTTP Request: POST http://127.0.0.1:8080/embed \"HTTP/1.1 200 OK\"\n",
      "HTTP Request: POST http://127.0.0.1:8080/embed \"HTTP/1.1 200 OK\"\n",
      "HTTP Request: POST http://127.0.0.1:8080/embed \"HTTP/1.1 200 OK\"\n",
      "HTTP Request: POST http://127.0.0.1:8080/embed \"HTTP/1.1 200 OK\"\n"
     ]
    },
    {
     "name": "stderr",
     "output_type": "stream",
     "text": [
      "\r",
      "Generating embeddings:  85%|██████████████████████████████████████████████████████████████████████████████████████████████████████████████████████████████████████████████████████                          | 3280/3848 [26:02<04:12,  2.25it/s]"
     ]
    },
    {
     "name": "stdout",
     "output_type": "stream",
     "text": [
      "INFO:httpx:HTTP Request: POST http://127.0.0.1:8080/embed \"HTTP/1.1 200 OK\"\n",
      "HTTP Request: POST http://127.0.0.1:8080/embed \"HTTP/1.1 200 OK\"\n",
      "HTTP Request: POST http://127.0.0.1:8080/embed \"HTTP/1.1 200 OK\"\n",
      "HTTP Request: POST http://127.0.0.1:8080/embed \"HTTP/1.1 200 OK\"\n"
     ]
    },
    {
     "name": "stderr",
     "output_type": "stream",
     "text": [
      "\r",
      "Generating embeddings:  85%|██████████████████████████████████████████████████████████████████████████████████████████████████████████████████████████████████████████████████████▍                         | 3290/3848 [26:06<04:12,  2.21it/s]"
     ]
    },
    {
     "name": "stdout",
     "output_type": "stream",
     "text": [
      "INFO:httpx:HTTP Request: POST http://127.0.0.1:8080/embed \"HTTP/1.1 200 OK\"\n",
      "HTTP Request: POST http://127.0.0.1:8080/embed \"HTTP/1.1 200 OK\"\n",
      "HTTP Request: POST http://127.0.0.1:8080/embed \"HTTP/1.1 200 OK\"\n",
      "HTTP Request: POST http://127.0.0.1:8080/embed \"HTTP/1.1 200 OK\"\n"
     ]
    },
    {
     "name": "stderr",
     "output_type": "stream",
     "text": [
      "\r",
      "Generating embeddings:  86%|██████████████████████████████████████████████████████████████████████████████████████████████████████████████████████████████████████████████████████▉                         | 3300/3848 [26:11<04:09,  2.20it/s]"
     ]
    },
    {
     "name": "stdout",
     "output_type": "stream",
     "text": [
      "INFO:httpx:HTTP Request: POST http://127.0.0.1:8080/embed \"HTTP/1.1 200 OK\"\n",
      "HTTP Request: POST http://127.0.0.1:8080/embed \"HTTP/1.1 200 OK\"\n",
      "HTTP Request: POST http://127.0.0.1:8080/embed \"HTTP/1.1 200 OK\"\n",
      "HTTP Request: POST http://127.0.0.1:8080/embed \"HTTP/1.1 200 OK\"\n"
     ]
    },
    {
     "name": "stderr",
     "output_type": "stream",
     "text": [
      "\r",
      "Generating embeddings:  86%|███████████████████████████████████████████████████████████████████████████████████████████████████████████████████████████████████████████████████████▍                        | 3310/3848 [26:16<04:15,  2.11it/s]"
     ]
    },
    {
     "name": "stdout",
     "output_type": "stream",
     "text": [
      "INFO:httpx:HTTP Request: POST http://127.0.0.1:8080/embed \"HTTP/1.1 200 OK\"\n",
      "HTTP Request: POST http://127.0.0.1:8080/embed \"HTTP/1.1 200 OK\"\n",
      "HTTP Request: POST http://127.0.0.1:8080/embed \"HTTP/1.1 200 OK\"\n",
      "HTTP Request: POST http://127.0.0.1:8080/embed \"HTTP/1.1 200 OK\"\n"
     ]
    },
    {
     "name": "stderr",
     "output_type": "stream",
     "text": [
      "\r",
      "Generating embeddings:  86%|███████████████████████████████████████████████████████████████████████████████████████████████████████████████████████████████████████████████████████▊                        | 3320/3848 [26:21<04:11,  2.10it/s]"
     ]
    },
    {
     "name": "stdout",
     "output_type": "stream",
     "text": [
      "INFO:httpx:HTTP Request: POST http://127.0.0.1:8080/embed \"HTTP/1.1 200 OK\"\n",
      "HTTP Request: POST http://127.0.0.1:8080/embed \"HTTP/1.1 200 OK\"\n",
      "HTTP Request: POST http://127.0.0.1:8080/embed \"HTTP/1.1 200 OK\"\n",
      "HTTP Request: POST http://127.0.0.1:8080/embed \"HTTP/1.1 200 OK\"\n"
     ]
    },
    {
     "name": "stderr",
     "output_type": "stream",
     "text": [
      "\r",
      "Generating embeddings:  87%|████████████████████████████████████████████████████████████████████████████████████████████████████████████████████████████████████████████████████████▎                       | 3330/3848 [26:26<04:07,  2.09it/s]"
     ]
    },
    {
     "name": "stdout",
     "output_type": "stream",
     "text": [
      "INFO:httpx:HTTP Request: POST http://127.0.0.1:8080/embed \"HTTP/1.1 200 OK\"\n",
      "HTTP Request: POST http://127.0.0.1:8080/embed \"HTTP/1.1 200 OK\"\n",
      "HTTP Request: POST http://127.0.0.1:8080/embed \"HTTP/1.1 200 OK\"\n",
      "HTTP Request: POST http://127.0.0.1:8080/embed \"HTTP/1.1 200 OK\"\n"
     ]
    },
    {
     "name": "stderr",
     "output_type": "stream",
     "text": [
      "\r",
      "Generating embeddings:  87%|████████████████████████████████████████████████████████████████████████████████████████████████████████████████████████████████████████████████████████▊                       | 3340/3848 [26:30<04:01,  2.10it/s]"
     ]
    },
    {
     "name": "stdout",
     "output_type": "stream",
     "text": [
      "INFO:httpx:HTTP Request: POST http://127.0.0.1:8080/embed \"HTTP/1.1 200 OK\"\n",
      "HTTP Request: POST http://127.0.0.1:8080/embed \"HTTP/1.1 200 OK\"\n",
      "HTTP Request: POST http://127.0.0.1:8080/embed \"HTTP/1.1 200 OK\"\n",
      "HTTP Request: POST http://127.0.0.1:8080/embed \"HTTP/1.1 200 OK\"\n"
     ]
    },
    {
     "name": "stderr",
     "output_type": "stream",
     "text": [
      "\r",
      "Generating embeddings:  87%|█████████████████████████████████████████████████████████████████████████████████████████████████████████████████████████████████████████████████████████▏                      | 3350/3848 [26:35<03:51,  2.15it/s]"
     ]
    },
    {
     "name": "stdout",
     "output_type": "stream",
     "text": [
      "INFO:httpx:HTTP Request: POST http://127.0.0.1:8080/embed \"HTTP/1.1 200 OK\"\n",
      "HTTP Request: POST http://127.0.0.1:8080/embed \"HTTP/1.1 200 OK\"\n",
      "HTTP Request: POST http://127.0.0.1:8080/embed \"HTTP/1.1 200 OK\"\n",
      "HTTP Request: POST http://127.0.0.1:8080/embed \"HTTP/1.1 200 OK\"\n"
     ]
    },
    {
     "name": "stderr",
     "output_type": "stream",
     "text": [
      "\r",
      "Generating embeddings:  87%|█████████████████████████████████████████████████████████████████████████████████████████████████████████████████████████████████████████████████████████▋                      | 3360/3848 [26:40<03:54,  2.08it/s]"
     ]
    },
    {
     "name": "stdout",
     "output_type": "stream",
     "text": [
      "INFO:httpx:HTTP Request: POST http://127.0.0.1:8080/embed \"HTTP/1.1 200 OK\"\n",
      "HTTP Request: POST http://127.0.0.1:8080/embed \"HTTP/1.1 200 OK\"\n",
      "HTTP Request: POST http://127.0.0.1:8080/embed \"HTTP/1.1 200 OK\"\n",
      "HTTP Request: POST http://127.0.0.1:8080/embed \"HTTP/1.1 200 OK\"\n"
     ]
    },
    {
     "name": "stderr",
     "output_type": "stream",
     "text": [
      "\r",
      "Generating embeddings:  88%|██████████████████████████████████████████████████████████████████████████████████████████████████████████████████████████████████████████████████████████▏                     | 3370/3848 [26:44<03:43,  2.14it/s]"
     ]
    },
    {
     "name": "stdout",
     "output_type": "stream",
     "text": [
      "INFO:httpx:HTTP Request: POST http://127.0.0.1:8080/embed \"HTTP/1.1 200 OK\"\n",
      "HTTP Request: POST http://127.0.0.1:8080/embed \"HTTP/1.1 200 OK\"\n",
      "HTTP Request: POST http://127.0.0.1:8080/embed \"HTTP/1.1 200 OK\"\n",
      "HTTP Request: POST http://127.0.0.1:8080/embed \"HTTP/1.1 200 OK\"\n"
     ]
    },
    {
     "name": "stderr",
     "output_type": "stream",
     "text": [
      "\r",
      "Generating embeddings:  88%|██████████████████████████████████████████████████████████████████████████████████████████████████████████████████████████████████████████████████████████▌                     | 3380/3848 [26:49<03:37,  2.16it/s]"
     ]
    },
    {
     "name": "stdout",
     "output_type": "stream",
     "text": [
      "INFO:httpx:HTTP Request: POST http://127.0.0.1:8080/embed \"HTTP/1.1 200 OK\"\n",
      "HTTP Request: POST http://127.0.0.1:8080/embed \"HTTP/1.1 200 OK\"\n",
      "HTTP Request: POST http://127.0.0.1:8080/embed \"HTTP/1.1 200 OK\"\n",
      "HTTP Request: POST http://127.0.0.1:8080/embed \"HTTP/1.1 200 OK\"\n"
     ]
    },
    {
     "name": "stderr",
     "output_type": "stream",
     "text": [
      "\r",
      "Generating embeddings:  88%|███████████████████████████████████████████████████████████████████████████████████████████████████████████████████████████████████████████████████████████                     | 3390/3848 [26:53<03:29,  2.19it/s]"
     ]
    },
    {
     "name": "stdout",
     "output_type": "stream",
     "text": [
      "INFO:httpx:HTTP Request: POST http://127.0.0.1:8080/embed \"HTTP/1.1 200 OK\"\n",
      "HTTP Request: POST http://127.0.0.1:8080/embed \"HTTP/1.1 200 OK\"\n",
      "HTTP Request: POST http://127.0.0.1:8080/embed \"HTTP/1.1 200 OK\"\n",
      "HTTP Request: POST http://127.0.0.1:8080/embed \"HTTP/1.1 200 OK\"\n"
     ]
    },
    {
     "name": "stderr",
     "output_type": "stream",
     "text": [
      "\r",
      "Generating embeddings:  88%|███████████████████████████████████████████████████████████████████████████████████████████████████████████████████████████████████████████████████████████▌                    | 3400/3848 [26:58<03:25,  2.18it/s]"
     ]
    },
    {
     "name": "stdout",
     "output_type": "stream",
     "text": [
      "INFO:httpx:HTTP Request: POST http://127.0.0.1:8080/embed \"HTTP/1.1 200 OK\"\n",
      "HTTP Request: POST http://127.0.0.1:8080/embed \"HTTP/1.1 200 OK\"\n",
      "HTTP Request: POST http://127.0.0.1:8080/embed \"HTTP/1.1 200 OK\"\n",
      "HTTP Request: POST http://127.0.0.1:8080/embed \"HTTP/1.1 200 OK\"\n"
     ]
    },
    {
     "name": "stderr",
     "output_type": "stream",
     "text": [
      "\r",
      "Generating embeddings:  89%|███████████████████████████████████████████████████████████████████████████████████████████████████████████████████████████████████████████████████████████▉                    | 3410/3848 [27:03<03:28,  2.10it/s]"
     ]
    },
    {
     "name": "stdout",
     "output_type": "stream",
     "text": [
      "INFO:httpx:HTTP Request: POST http://127.0.0.1:8080/embed \"HTTP/1.1 200 OK\"\n",
      "HTTP Request: POST http://127.0.0.1:8080/embed \"HTTP/1.1 200 OK\"\n",
      "HTTP Request: POST http://127.0.0.1:8080/embed \"HTTP/1.1 200 OK\"\n",
      "HTTP Request: POST http://127.0.0.1:8080/embed \"HTTP/1.1 200 OK\"\n"
     ]
    },
    {
     "name": "stderr",
     "output_type": "stream",
     "text": [
      "\r",
      "Generating embeddings:  89%|████████████████████████████████████████████████████████████████████████████████████████████████████████████████████████████████████████████████████████████▍                   | 3420/3848 [27:08<03:23,  2.10it/s]"
     ]
    },
    {
     "name": "stdout",
     "output_type": "stream",
     "text": [
      "INFO:httpx:HTTP Request: POST http://127.0.0.1:8080/embed \"HTTP/1.1 200 OK\"\n",
      "HTTP Request: POST http://127.0.0.1:8080/embed \"HTTP/1.1 200 OK\"\n",
      "HTTP Request: POST http://127.0.0.1:8080/embed \"HTTP/1.1 200 OK\"\n",
      "HTTP Request: POST http://127.0.0.1:8080/embed \"HTTP/1.1 200 OK\"\n"
     ]
    },
    {
     "name": "stderr",
     "output_type": "stream",
     "text": [
      "\r",
      "Generating embeddings:  89%|████████████████████████████████████████████████████████████████████████████████████████████████████████████████████████████████████████████████████████████▉                   | 3430/3848 [27:13<03:21,  2.08it/s]"
     ]
    },
    {
     "name": "stdout",
     "output_type": "stream",
     "text": [
      "INFO:httpx:HTTP Request: POST http://127.0.0.1:8080/embed \"HTTP/1.1 200 OK\"\n",
      "HTTP Request: POST http://127.0.0.1:8080/embed \"HTTP/1.1 200 OK\"\n",
      "HTTP Request: POST http://127.0.0.1:8080/embed \"HTTP/1.1 200 OK\"\n",
      "HTTP Request: POST http://127.0.0.1:8080/embed \"HTTP/1.1 200 OK\"\n"
     ]
    },
    {
     "name": "stderr",
     "output_type": "stream",
     "text": [
      "\r",
      "Generating embeddings:  89%|█████████████████████████████████████████████████████████████████████████████████████████████████████████████████████████████████████████████████████████████▎                  | 3440/3848 [27:18<03:16,  2.07it/s]"
     ]
    },
    {
     "name": "stdout",
     "output_type": "stream",
     "text": [
      "INFO:httpx:HTTP Request: POST http://127.0.0.1:8080/embed \"HTTP/1.1 200 OK\"\n",
      "HTTP Request: POST http://127.0.0.1:8080/embed \"HTTP/1.1 200 OK\"\n",
      "HTTP Request: POST http://127.0.0.1:8080/embed \"HTTP/1.1 200 OK\"\n",
      "HTTP Request: POST http://127.0.0.1:8080/embed \"HTTP/1.1 200 OK\"\n"
     ]
    },
    {
     "name": "stderr",
     "output_type": "stream",
     "text": [
      "\r",
      "Generating embeddings:  90%|█████████████████████████████████████████████████████████████████████████████████████████████████████████████████████████████████████████████████████████████▊                  | 3450/3848 [27:22<03:09,  2.10it/s]"
     ]
    },
    {
     "name": "stdout",
     "output_type": "stream",
     "text": [
      "INFO:httpx:HTTP Request: POST http://127.0.0.1:8080/embed \"HTTP/1.1 200 OK\"\n",
      "HTTP Request: POST http://127.0.0.1:8080/embed \"HTTP/1.1 200 OK\"\n",
      "HTTP Request: POST http://127.0.0.1:8080/embed \"HTTP/1.1 200 OK\"\n",
      "HTTP Request: POST http://127.0.0.1:8080/embed \"HTTP/1.1 200 OK\"\n"
     ]
    },
    {
     "name": "stderr",
     "output_type": "stream",
     "text": [
      "\r",
      "Generating embeddings:  90%|██████████████████████████████████████████████████████████████████████████████████████████████████████████████████████████████████████████████████████████████▎                 | 3460/3848 [27:27<03:01,  2.14it/s]"
     ]
    },
    {
     "name": "stdout",
     "output_type": "stream",
     "text": [
      "INFO:httpx:HTTP Request: POST http://127.0.0.1:8080/embed \"HTTP/1.1 200 OK\"\n",
      "HTTP Request: POST http://127.0.0.1:8080/embed \"HTTP/1.1 200 OK\"\n",
      "HTTP Request: POST http://127.0.0.1:8080/embed \"HTTP/1.1 200 OK\"\n",
      "HTTP Request: POST http://127.0.0.1:8080/embed \"HTTP/1.1 200 OK\"\n"
     ]
    },
    {
     "name": "stderr",
     "output_type": "stream",
     "text": [
      "\r",
      "Generating embeddings:  90%|██████████████████████████████████████████████████████████████████████████████████████████████████████████████████████████████████████████████████████████████▋                 | 3470/3848 [27:32<03:00,  2.10it/s]"
     ]
    },
    {
     "name": "stdout",
     "output_type": "stream",
     "text": [
      "INFO:httpx:HTTP Request: POST http://127.0.0.1:8080/embed \"HTTP/1.1 200 OK\"\n",
      "HTTP Request: POST http://127.0.0.1:8080/embed \"HTTP/1.1 200 OK\"\n",
      "HTTP Request: POST http://127.0.0.1:8080/embed \"HTTP/1.1 200 OK\"\n",
      "HTTP Request: POST http://127.0.0.1:8080/embed \"HTTP/1.1 200 OK\"\n"
     ]
    },
    {
     "name": "stderr",
     "output_type": "stream",
     "text": [
      "\r",
      "Generating embeddings:  90%|███████████████████████████████████████████████████████████████████████████████████████████████████████████████████████████████████████████████████████████████▏                | 3480/3848 [27:36<02:49,  2.17it/s]"
     ]
    },
    {
     "name": "stdout",
     "output_type": "stream",
     "text": [
      "INFO:httpx:HTTP Request: POST http://127.0.0.1:8080/embed \"HTTP/1.1 200 OK\"\n",
      "HTTP Request: POST http://127.0.0.1:8080/embed \"HTTP/1.1 200 OK\"\n",
      "HTTP Request: POST http://127.0.0.1:8080/embed \"HTTP/1.1 200 OK\"\n",
      "HTTP Request: POST http://127.0.0.1:8080/embed \"HTTP/1.1 200 OK\"\n"
     ]
    },
    {
     "name": "stderr",
     "output_type": "stream",
     "text": [
      "\r",
      "Generating embeddings:  91%|███████████████████████████████████████████████████████████████████████████████████████████████████████████████████████████████████████████████████████████████▋                | 3490/3848 [27:41<02:44,  2.17it/s]"
     ]
    },
    {
     "name": "stdout",
     "output_type": "stream",
     "text": [
      "INFO:httpx:HTTP Request: POST http://127.0.0.1:8080/embed \"HTTP/1.1 200 OK\"\n",
      "HTTP Request: POST http://127.0.0.1:8080/embed \"HTTP/1.1 200 OK\"\n",
      "HTTP Request: POST http://127.0.0.1:8080/embed \"HTTP/1.1 200 OK\"\n",
      "HTTP Request: POST http://127.0.0.1:8080/embed \"HTTP/1.1 200 OK\"\n"
     ]
    },
    {
     "name": "stderr",
     "output_type": "stream",
     "text": [
      "\r",
      "Generating embeddings:  91%|████████████████████████████████████████████████████████████████████████████████████████████████████████████████████████████████████████████████████████████████                | 3500/3848 [27:45<02:37,  2.21it/s]"
     ]
    },
    {
     "name": "stdout",
     "output_type": "stream",
     "text": [
      "INFO:httpx:HTTP Request: POST http://127.0.0.1:8080/embed \"HTTP/1.1 200 OK\"\n",
      "HTTP Request: POST http://127.0.0.1:8080/embed \"HTTP/1.1 200 OK\"\n",
      "HTTP Request: POST http://127.0.0.1:8080/embed \"HTTP/1.1 200 OK\"\n",
      "HTTP Request: POST http://127.0.0.1:8080/embed \"HTTP/1.1 200 OK\"\n"
     ]
    },
    {
     "name": "stderr",
     "output_type": "stream",
     "text": [
      "\r",
      "Generating embeddings:  91%|████████████████████████████████████████████████████████████████████████████████████████████████████████████████████████████████████████████████████████████████▌               | 3510/3848 [27:50<02:33,  2.20it/s]"
     ]
    },
    {
     "name": "stdout",
     "output_type": "stream",
     "text": [
      "INFO:httpx:HTTP Request: POST http://127.0.0.1:8080/embed \"HTTP/1.1 200 OK\"\n",
      "HTTP Request: POST http://127.0.0.1:8080/embed \"HTTP/1.1 200 OK\"\n",
      "HTTP Request: POST http://127.0.0.1:8080/embed \"HTTP/1.1 200 OK\"\n",
      "HTTP Request: POST http://127.0.0.1:8080/embed \"HTTP/1.1 200 OK\"\n"
     ]
    },
    {
     "name": "stderr",
     "output_type": "stream",
     "text": [
      "\r",
      "Generating embeddings:  91%|████████████████████████████████████████████████████████████████████████████████████████████████████████████████████████████████████████████████████████████████▉               | 3520/3848 [27:54<02:27,  2.23it/s]"
     ]
    },
    {
     "name": "stdout",
     "output_type": "stream",
     "text": [
      "INFO:httpx:HTTP Request: POST http://127.0.0.1:8080/embed \"HTTP/1.1 200 OK\"\n",
      "HTTP Request: POST http://127.0.0.1:8080/embed \"HTTP/1.1 200 OK\"\n",
      "HTTP Request: POST http://127.0.0.1:8080/embed \"HTTP/1.1 200 OK\"\n",
      "HTTP Request: POST http://127.0.0.1:8080/embed \"HTTP/1.1 200 OK\"\n"
     ]
    },
    {
     "name": "stderr",
     "output_type": "stream",
     "text": [
      "\r",
      "Generating embeddings:  92%|█████████████████████████████████████████████████████████████████████████████████████████████████████████████████████████████████████████████████████████████████▍              | 3530/3848 [27:58<02:22,  2.24it/s]"
     ]
    },
    {
     "name": "stdout",
     "output_type": "stream",
     "text": [
      "INFO:httpx:HTTP Request: POST http://127.0.0.1:8080/embed \"HTTP/1.1 200 OK\"\n",
      "HTTP Request: POST http://127.0.0.1:8080/embed \"HTTP/1.1 200 OK\"\n",
      "HTTP Request: POST http://127.0.0.1:8080/embed \"HTTP/1.1 200 OK\"\n",
      "HTTP Request: POST http://127.0.0.1:8080/embed \"HTTP/1.1 200 OK\"\n"
     ]
    },
    {
     "name": "stderr",
     "output_type": "stream",
     "text": [
      "\r",
      "Generating embeddings:  92%|█████████████████████████████████████████████████████████████████████████████████████████████████████████████████████████████████████████████████████████████████▉              | 3540/3848 [28:03<02:15,  2.27it/s]"
     ]
    },
    {
     "name": "stdout",
     "output_type": "stream",
     "text": [
      "INFO:httpx:HTTP Request: POST http://127.0.0.1:8080/embed \"HTTP/1.1 200 OK\"\n",
      "HTTP Request: POST http://127.0.0.1:8080/embed \"HTTP/1.1 200 OK\"\n",
      "HTTP Request: POST http://127.0.0.1:8080/embed \"HTTP/1.1 200 OK\"\n",
      "HTTP Request: POST http://127.0.0.1:8080/embed \"HTTP/1.1 200 OK\"\n"
     ]
    },
    {
     "name": "stderr",
     "output_type": "stream",
     "text": [
      "\r",
      "Generating embeddings:  92%|██████████████████████████████████████████████████████████████████████████████████████████████████████████████████████████████████████████████████████████████████▎             | 3550/3848 [28:07<02:11,  2.27it/s]"
     ]
    },
    {
     "name": "stdout",
     "output_type": "stream",
     "text": [
      "INFO:httpx:HTTP Request: POST http://127.0.0.1:8080/embed \"HTTP/1.1 200 OK\"\n",
      "HTTP Request: POST http://127.0.0.1:8080/embed \"HTTP/1.1 200 OK\"\n",
      "HTTP Request: POST http://127.0.0.1:8080/embed \"HTTP/1.1 200 OK\"\n",
      "HTTP Request: POST http://127.0.0.1:8080/embed \"HTTP/1.1 200 OK\"\n"
     ]
    },
    {
     "name": "stderr",
     "output_type": "stream",
     "text": [
      "\r",
      "Generating embeddings:  93%|██████████████████████████████████████████████████████████████████████████████████████████████████████████████████████████████████████████████████████████████████▊             | 3560/3848 [28:11<02:03,  2.33it/s]"
     ]
    },
    {
     "name": "stdout",
     "output_type": "stream",
     "text": [
      "INFO:httpx:HTTP Request: POST http://127.0.0.1:8080/embed \"HTTP/1.1 200 OK\"\n",
      "HTTP Request: POST http://127.0.0.1:8080/embed \"HTTP/1.1 200 OK\"\n",
      "HTTP Request: POST http://127.0.0.1:8080/embed \"HTTP/1.1 200 OK\"\n",
      "HTTP Request: POST http://127.0.0.1:8080/embed \"HTTP/1.1 200 OK\"\n"
     ]
    },
    {
     "name": "stderr",
     "output_type": "stream",
     "text": [
      "\r",
      "Generating embeddings:  93%|███████████████████████████████████████████████████████████████████████████████████████████████████████████████████████████████████████████████████████████████████▎            | 3570/3848 [28:15<01:57,  2.36it/s]"
     ]
    },
    {
     "name": "stdout",
     "output_type": "stream",
     "text": [
      "INFO:httpx:HTTP Request: POST http://127.0.0.1:8080/embed \"HTTP/1.1 200 OK\"\n",
      "HTTP Request: POST http://127.0.0.1:8080/embed \"HTTP/1.1 200 OK\"\n",
      "HTTP Request: POST http://127.0.0.1:8080/embed \"HTTP/1.1 200 OK\"\n",
      "HTTP Request: POST http://127.0.0.1:8080/embed \"HTTP/1.1 200 OK\"\n"
     ]
    },
    {
     "name": "stderr",
     "output_type": "stream",
     "text": [
      "\r",
      "Generating embeddings:  93%|███████████████████████████████████████████████████████████████████████████████████████████████████████████████████████████████████████████████████████████████████▋            | 3580/3848 [28:20<01:56,  2.31it/s]"
     ]
    },
    {
     "name": "stdout",
     "output_type": "stream",
     "text": [
      "INFO:httpx:HTTP Request: POST http://127.0.0.1:8080/embed \"HTTP/1.1 200 OK\"\n",
      "HTTP Request: POST http://127.0.0.1:8080/embed \"HTTP/1.1 200 OK\"\n",
      "HTTP Request: POST http://127.0.0.1:8080/embed \"HTTP/1.1 200 OK\"\n",
      "HTTP Request: POST http://127.0.0.1:8080/embed \"HTTP/1.1 200 OK\"\n"
     ]
    },
    {
     "name": "stderr",
     "output_type": "stream",
     "text": [
      "\r",
      "Generating embeddings:  93%|████████████████████████████████████████████████████████████████████████████████████████████████████████████████████████████████████████████████████████████████████▏           | 3590/3848 [28:24<01:52,  2.29it/s]"
     ]
    },
    {
     "name": "stdout",
     "output_type": "stream",
     "text": [
      "INFO:httpx:HTTP Request: POST http://127.0.0.1:8080/embed \"HTTP/1.1 200 OK\"\n",
      "HTTP Request: POST http://127.0.0.1:8080/embed \"HTTP/1.1 200 OK\"\n",
      "HTTP Request: POST http://127.0.0.1:8080/embed \"HTTP/1.1 200 OK\"\n",
      "HTTP Request: POST http://127.0.0.1:8080/embed \"HTTP/1.1 200 OK\"\n"
     ]
    },
    {
     "name": "stderr",
     "output_type": "stream",
     "text": [
      "\r",
      "Generating embeddings:  94%|████████████████████████████████████████████████████████████████████████████████████████████████████████████████████████████████████████████████████████████████████▋           | 3600/3848 [28:29<01:48,  2.29it/s]"
     ]
    },
    {
     "name": "stdout",
     "output_type": "stream",
     "text": [
      "INFO:httpx:HTTP Request: POST http://127.0.0.1:8080/embed \"HTTP/1.1 200 OK\"\n",
      "HTTP Request: POST http://127.0.0.1:8080/embed \"HTTP/1.1 200 OK\"\n",
      "HTTP Request: POST http://127.0.0.1:8080/embed \"HTTP/1.1 200 OK\"\n",
      "HTTP Request: POST http://127.0.0.1:8080/embed \"HTTP/1.1 200 OK\"\n"
     ]
    },
    {
     "name": "stderr",
     "output_type": "stream",
     "text": [
      "\r",
      "Generating embeddings:  94%|█████████████████████████████████████████████████████████████████████████████████████████████████████████████████████████████████████████████████████████████████████           | 3610/3848 [28:33<01:46,  2.23it/s]"
     ]
    },
    {
     "name": "stdout",
     "output_type": "stream",
     "text": [
      "INFO:httpx:HTTP Request: POST http://127.0.0.1:8080/embed \"HTTP/1.1 200 OK\"\n",
      "HTTP Request: POST http://127.0.0.1:8080/embed \"HTTP/1.1 200 OK\"\n",
      "HTTP Request: POST http://127.0.0.1:8080/embed \"HTTP/1.1 200 OK\"\n",
      "HTTP Request: POST http://127.0.0.1:8080/embed \"HTTP/1.1 200 OK\"\n"
     ]
    },
    {
     "name": "stderr",
     "output_type": "stream",
     "text": [
      "\r",
      "Generating embeddings:  94%|█████████████████████████████████████████████████████████████████████████████████████████████████████████████████████████████████████████████████████████████████████▌          | 3620/3848 [28:38<01:45,  2.16it/s]"
     ]
    },
    {
     "name": "stdout",
     "output_type": "stream",
     "text": [
      "INFO:httpx:HTTP Request: POST http://127.0.0.1:8080/embed \"HTTP/1.1 200 OK\"\n",
      "HTTP Request: POST http://127.0.0.1:8080/embed \"HTTP/1.1 200 OK\"\n",
      "HTTP Request: POST http://127.0.0.1:8080/embed \"HTTP/1.1 200 OK\"\n",
      "HTTP Request: POST http://127.0.0.1:8080/embed \"HTTP/1.1 200 OK\"\n"
     ]
    },
    {
     "name": "stderr",
     "output_type": "stream",
     "text": [
      "\r",
      "Generating embeddings:  94%|██████████████████████████████████████████████████████████████████████████████████████████████████████████████████████████████████████████████████████████████████████          | 3630/3848 [28:43<01:44,  2.09it/s]"
     ]
    },
    {
     "name": "stdout",
     "output_type": "stream",
     "text": [
      "INFO:httpx:HTTP Request: POST http://127.0.0.1:8080/embed \"HTTP/1.1 200 OK\"\n",
      "HTTP Request: POST http://127.0.0.1:8080/embed \"HTTP/1.1 200 OK\"\n",
      "HTTP Request: POST http://127.0.0.1:8080/embed \"HTTP/1.1 200 OK\"\n",
      "HTTP Request: POST http://127.0.0.1:8080/embed \"HTTP/1.1 200 OK\"\n"
     ]
    },
    {
     "name": "stderr",
     "output_type": "stream",
     "text": [
      "\r",
      "Generating embeddings:  95%|██████████████████████████████████████████████████████████████████████████████████████████████████████████████████████████████████████████████████████████████████████▍         | 3640/3848 [28:48<01:40,  2.07it/s]"
     ]
    },
    {
     "name": "stdout",
     "output_type": "stream",
     "text": [
      "INFO:httpx:HTTP Request: POST http://127.0.0.1:8080/embed \"HTTP/1.1 200 OK\"\n",
      "HTTP Request: POST http://127.0.0.1:8080/embed \"HTTP/1.1 200 OK\"\n",
      "HTTP Request: POST http://127.0.0.1:8080/embed \"HTTP/1.1 200 OK\"\n",
      "HTTP Request: POST http://127.0.0.1:8080/embed \"HTTP/1.1 200 OK\"\n"
     ]
    },
    {
     "name": "stderr",
     "output_type": "stream",
     "text": [
      "\r",
      "Generating embeddings:  95%|██████████████████████████████████████████████████████████████████████████████████████████████████████████████████████████████████████████████████████████████████████▉         | 3650/3848 [28:53<01:33,  2.11it/s]"
     ]
    },
    {
     "name": "stdout",
     "output_type": "stream",
     "text": [
      "INFO:httpx:HTTP Request: POST http://127.0.0.1:8080/embed \"HTTP/1.1 200 OK\"\n",
      "HTTP Request: POST http://127.0.0.1:8080/embed \"HTTP/1.1 200 OK\"\n",
      "HTTP Request: POST http://127.0.0.1:8080/embed \"HTTP/1.1 200 OK\"\n",
      "HTTP Request: POST http://127.0.0.1:8080/embed \"HTTP/1.1 200 OK\"\n"
     ]
    },
    {
     "name": "stderr",
     "output_type": "stream",
     "text": [
      "\r",
      "Generating embeddings:  95%|███████████████████████████████████████████████████████████████████████████████████████████████████████████████████████████████████████████████████████████████████████▍        | 3660/3848 [28:58<01:28,  2.12it/s]"
     ]
    },
    {
     "name": "stdout",
     "output_type": "stream",
     "text": [
      "INFO:httpx:HTTP Request: POST http://127.0.0.1:8080/embed \"HTTP/1.1 200 OK\"\n",
      "HTTP Request: POST http://127.0.0.1:8080/embed \"HTTP/1.1 200 OK\"\n",
      "HTTP Request: POST http://127.0.0.1:8080/embed \"HTTP/1.1 200 OK\"\n",
      "HTTP Request: POST http://127.0.0.1:8080/embed \"HTTP/1.1 200 OK\"\n"
     ]
    },
    {
     "name": "stderr",
     "output_type": "stream",
     "text": [
      "\r",
      "Generating embeddings:  95%|███████████████████████████████████████████████████████████████████████████████████████████████████████████████████████████████████████████████████████████████████████▊        | 3670/3848 [29:02<01:22,  2.17it/s]"
     ]
    },
    {
     "name": "stdout",
     "output_type": "stream",
     "text": [
      "INFO:httpx:HTTP Request: POST http://127.0.0.1:8080/embed \"HTTP/1.1 200 OK\"\n",
      "HTTP Request: POST http://127.0.0.1:8080/embed \"HTTP/1.1 200 OK\"\n",
      "HTTP Request: POST http://127.0.0.1:8080/embed \"HTTP/1.1 200 OK\"\n",
      "HTTP Request: POST http://127.0.0.1:8080/embed \"HTTP/1.1 200 OK\"\n"
     ]
    },
    {
     "name": "stderr",
     "output_type": "stream",
     "text": [
      "\r",
      "Generating embeddings:  96%|████████████████████████████████████████████████████████████████████████████████████████████████████████████████████████████████████████████████████████████████████████▎       | 3680/3848 [29:07<01:19,  2.10it/s]"
     ]
    },
    {
     "name": "stdout",
     "output_type": "stream",
     "text": [
      "INFO:httpx:HTTP Request: POST http://127.0.0.1:8080/embed \"HTTP/1.1 200 OK\"\n",
      "HTTP Request: POST http://127.0.0.1:8080/embed \"HTTP/1.1 200 OK\"\n",
      "HTTP Request: POST http://127.0.0.1:8080/embed \"HTTP/1.1 200 OK\"\n",
      "HTTP Request: POST http://127.0.0.1:8080/embed \"HTTP/1.1 200 OK\"\n"
     ]
    },
    {
     "name": "stderr",
     "output_type": "stream",
     "text": [
      "\r",
      "Generating embeddings:  96%|████████████████████████████████████████████████████████████████████████████████████████████████████████████████████████████████████████████████████████████████████████▊       | 3690/3848 [29:11<01:13,  2.14it/s]"
     ]
    },
    {
     "name": "stdout",
     "output_type": "stream",
     "text": [
      "INFO:httpx:HTTP Request: POST http://127.0.0.1:8080/embed \"HTTP/1.1 200 OK\"\n",
      "HTTP Request: POST http://127.0.0.1:8080/embed \"HTTP/1.1 200 OK\"\n",
      "HTTP Request: POST http://127.0.0.1:8080/embed \"HTTP/1.1 200 OK\"\n",
      "HTTP Request: POST http://127.0.0.1:8080/embed \"HTTP/1.1 200 OK\"\n"
     ]
    },
    {
     "name": "stderr",
     "output_type": "stream",
     "text": [
      "\r",
      "Generating embeddings:  96%|█████████████████████████████████████████████████████████████████████████████████████████████████████████████████████████████████████████████████████████████████████████▏      | 3700/3848 [29:16<01:07,  2.18it/s]"
     ]
    },
    {
     "name": "stdout",
     "output_type": "stream",
     "text": [
      "INFO:httpx:HTTP Request: POST http://127.0.0.1:8080/embed \"HTTP/1.1 200 OK\"\n",
      "HTTP Request: POST http://127.0.0.1:8080/embed \"HTTP/1.1 200 OK\"\n",
      "HTTP Request: POST http://127.0.0.1:8080/embed \"HTTP/1.1 200 OK\"\n",
      "HTTP Request: POST http://127.0.0.1:8080/embed \"HTTP/1.1 200 OK\"\n"
     ]
    },
    {
     "name": "stderr",
     "output_type": "stream",
     "text": [
      "\r",
      "Generating embeddings:  96%|█████████████████████████████████████████████████████████████████████████████████████████████████████████████████████████████████████████████████████████████████████████▋      | 3710/3848 [29:20<01:03,  2.18it/s]"
     ]
    },
    {
     "name": "stdout",
     "output_type": "stream",
     "text": [
      "INFO:httpx:HTTP Request: POST http://127.0.0.1:8080/embed \"HTTP/1.1 200 OK\"\n",
      "HTTP Request: POST http://127.0.0.1:8080/embed \"HTTP/1.1 200 OK\"\n",
      "HTTP Request: POST http://127.0.0.1:8080/embed \"HTTP/1.1 200 OK\"\n",
      "HTTP Request: POST http://127.0.0.1:8080/embed \"HTTP/1.1 200 OK\"\n"
     ]
    },
    {
     "name": "stderr",
     "output_type": "stream",
     "text": [
      "\r",
      "Generating embeddings:  97%|██████████████████████████████████████████████████████████████████████████████████████████████████████████████████████████████████████████████████████████████████████████▏     | 3720/3848 [29:25<00:58,  2.18it/s]"
     ]
    },
    {
     "name": "stdout",
     "output_type": "stream",
     "text": [
      "INFO:httpx:HTTP Request: POST http://127.0.0.1:8080/embed \"HTTP/1.1 200 OK\"\n",
      "HTTP Request: POST http://127.0.0.1:8080/embed \"HTTP/1.1 200 OK\"\n",
      "HTTP Request: POST http://127.0.0.1:8080/embed \"HTTP/1.1 200 OK\"\n",
      "HTTP Request: POST http://127.0.0.1:8080/embed \"HTTP/1.1 200 OK\"\n"
     ]
    },
    {
     "name": "stderr",
     "output_type": "stream",
     "text": [
      "\r",
      "Generating embeddings:  97%|██████████████████████████████████████████████████████████████████████████████████████████████████████████████████████████████████████████████████████████████████████████▌     | 3730/3848 [29:30<00:54,  2.16it/s]"
     ]
    },
    {
     "name": "stdout",
     "output_type": "stream",
     "text": [
      "INFO:httpx:HTTP Request: POST http://127.0.0.1:8080/embed \"HTTP/1.1 200 OK\"\n",
      "HTTP Request: POST http://127.0.0.1:8080/embed \"HTTP/1.1 200 OK\"\n",
      "HTTP Request: POST http://127.0.0.1:8080/embed \"HTTP/1.1 200 OK\"\n",
      "HTTP Request: POST http://127.0.0.1:8080/embed \"HTTP/1.1 200 OK\"\n"
     ]
    },
    {
     "name": "stderr",
     "output_type": "stream",
     "text": [
      "\r",
      "Generating embeddings:  97%|███████████████████████████████████████████████████████████████████████████████████████████████████████████████████████████████████████████████████████████████████████████     | 3740/3848 [29:34<00:48,  2.21it/s]"
     ]
    },
    {
     "name": "stdout",
     "output_type": "stream",
     "text": [
      "INFO:httpx:HTTP Request: POST http://127.0.0.1:8080/embed \"HTTP/1.1 200 OK\"\n",
      "HTTP Request: POST http://127.0.0.1:8080/embed \"HTTP/1.1 200 OK\"\n",
      "HTTP Request: POST http://127.0.0.1:8080/embed \"HTTP/1.1 200 OK\"\n",
      "HTTP Request: POST http://127.0.0.1:8080/embed \"HTTP/1.1 200 OK\"\n"
     ]
    },
    {
     "name": "stderr",
     "output_type": "stream",
     "text": [
      "\r",
      "Generating embeddings:  97%|███████████████████████████████████████████████████████████████████████████████████████████████████████████████████████████████████████████████████████████████████████████▌    | 3750/3848 [29:39<00:44,  2.21it/s]"
     ]
    },
    {
     "name": "stdout",
     "output_type": "stream",
     "text": [
      "INFO:httpx:HTTP Request: POST http://127.0.0.1:8080/embed \"HTTP/1.1 200 OK\"\n",
      "HTTP Request: POST http://127.0.0.1:8080/embed \"HTTP/1.1 200 OK\"\n",
      "HTTP Request: POST http://127.0.0.1:8080/embed \"HTTP/1.1 200 OK\"\n",
      "HTTP Request: POST http://127.0.0.1:8080/embed \"HTTP/1.1 200 OK\"\n"
     ]
    },
    {
     "name": "stderr",
     "output_type": "stream",
     "text": [
      "\r",
      "Generating embeddings:  98%|███████████████████████████████████████████████████████████████████████████████████████████████████████████████████████████████████████████████████████████████████████████▉    | 3760/3848 [29:43<00:39,  2.22it/s]"
     ]
    },
    {
     "name": "stdout",
     "output_type": "stream",
     "text": [
      "INFO:httpx:HTTP Request: POST http://127.0.0.1:8080/embed \"HTTP/1.1 200 OK\"\n",
      "HTTP Request: POST http://127.0.0.1:8080/embed \"HTTP/1.1 200 OK\"\n",
      "HTTP Request: POST http://127.0.0.1:8080/embed \"HTTP/1.1 200 OK\"\n",
      "HTTP Request: POST http://127.0.0.1:8080/embed \"HTTP/1.1 200 OK\"\n"
     ]
    },
    {
     "name": "stderr",
     "output_type": "stream",
     "text": [
      "\r",
      "Generating embeddings:  98%|████████████████████████████████████████████████████████████████████████████████████████████████████████████████████████████████████████████████████████████████████████████▍   | 3770/3848 [29:48<00:35,  2.19it/s]"
     ]
    },
    {
     "name": "stdout",
     "output_type": "stream",
     "text": [
      "INFO:httpx:HTTP Request: POST http://127.0.0.1:8080/embed \"HTTP/1.1 200 OK\"\n",
      "HTTP Request: POST http://127.0.0.1:8080/embed \"HTTP/1.1 200 OK\"\n",
      "HTTP Request: POST http://127.0.0.1:8080/embed \"HTTP/1.1 200 OK\"\n",
      "HTTP Request: POST http://127.0.0.1:8080/embed \"HTTP/1.1 200 OK\"\n"
     ]
    },
    {
     "name": "stderr",
     "output_type": "stream",
     "text": [
      "\r",
      "Generating embeddings:  98%|████████████████████████████████████████████████████████████████████████████████████████████████████████████████████████████████████████████████████████████████████████████▉   | 3780/3848 [29:52<00:30,  2.20it/s]"
     ]
    },
    {
     "name": "stdout",
     "output_type": "stream",
     "text": [
      "INFO:httpx:HTTP Request: POST http://127.0.0.1:8080/embed \"HTTP/1.1 200 OK\"\n",
      "HTTP Request: POST http://127.0.0.1:8080/embed \"HTTP/1.1 200 OK\"\n",
      "HTTP Request: POST http://127.0.0.1:8080/embed \"HTTP/1.1 200 OK\"\n",
      "HTTP Request: POST http://127.0.0.1:8080/embed \"HTTP/1.1 200 OK\"\n"
     ]
    },
    {
     "name": "stderr",
     "output_type": "stream",
     "text": [
      "\r",
      "Generating embeddings:  98%|█████████████████████████████████████████████████████████████████████████████████████████████████████████████████████████████████████████████████████████████████████████████▎  | 3790/3848 [29:57<00:26,  2.20it/s]"
     ]
    },
    {
     "name": "stdout",
     "output_type": "stream",
     "text": [
      "INFO:httpx:HTTP Request: POST http://127.0.0.1:8080/embed \"HTTP/1.1 200 OK\"\n",
      "HTTP Request: POST http://127.0.0.1:8080/embed \"HTTP/1.1 200 OK\"\n",
      "HTTP Request: POST http://127.0.0.1:8080/embed \"HTTP/1.1 200 OK\"\n",
      "HTTP Request: POST http://127.0.0.1:8080/embed \"HTTP/1.1 200 OK\"\n"
     ]
    },
    {
     "name": "stderr",
     "output_type": "stream",
     "text": [
      "\r",
      "Generating embeddings:  99%|█████████████████████████████████████████████████████████████████████████████████████████████████████████████████████████████████████████████████████████████████████████████▊  | 3800/3848 [30:01<00:21,  2.18it/s]"
     ]
    },
    {
     "name": "stdout",
     "output_type": "stream",
     "text": [
      "INFO:httpx:HTTP Request: POST http://127.0.0.1:8080/embed \"HTTP/1.1 200 OK\"\n",
      "HTTP Request: POST http://127.0.0.1:8080/embed \"HTTP/1.1 200 OK\"\n",
      "HTTP Request: POST http://127.0.0.1:8080/embed \"HTTP/1.1 200 OK\"\n",
      "HTTP Request: POST http://127.0.0.1:8080/embed \"HTTP/1.1 200 OK\"\n"
     ]
    },
    {
     "name": "stderr",
     "output_type": "stream",
     "text": [
      "\r",
      "Generating embeddings:  99%|██████████████████████████████████████████████████████████████████████████████████████████████████████████████████████████████████████████████████████████████████████████████▎ | 3810/3848 [30:06<00:17,  2.22it/s]"
     ]
    },
    {
     "name": "stdout",
     "output_type": "stream",
     "text": [
      "INFO:httpx:HTTP Request: POST http://127.0.0.1:8080/embed \"HTTP/1.1 200 OK\"\n",
      "HTTP Request: POST http://127.0.0.1:8080/embed \"HTTP/1.1 200 OK\"\n",
      "HTTP Request: POST http://127.0.0.1:8080/embed \"HTTP/1.1 200 OK\"\n",
      "HTTP Request: POST http://127.0.0.1:8080/embed \"HTTP/1.1 200 OK\"\n"
     ]
    },
    {
     "name": "stderr",
     "output_type": "stream",
     "text": [
      "\r",
      "Generating embeddings:  99%|██████████████████████████████████████████████████████████████████████████████████████████████████████████████████████████████████████████████████████████████████████████████▋ | 3820/3848 [30:10<00:12,  2.20it/s]"
     ]
    },
    {
     "name": "stdout",
     "output_type": "stream",
     "text": [
      "INFO:httpx:HTTP Request: POST http://127.0.0.1:8080/embed \"HTTP/1.1 200 OK\"\n",
      "HTTP Request: POST http://127.0.0.1:8080/embed \"HTTP/1.1 200 OK\"\n",
      "HTTP Request: POST http://127.0.0.1:8080/embed \"HTTP/1.1 200 OK\"\n",
      "HTTP Request: POST http://127.0.0.1:8080/embed \"HTTP/1.1 200 OK\"\n"
     ]
    },
    {
     "name": "stderr",
     "output_type": "stream",
     "text": [
      "\r",
      "Generating embeddings: 100%|███████████████████████████████████████████████████████████████████████████████████████████████████████████████████████████████████████████████████████████████████████████████▏| 3830/3848 [30:15<00:08,  2.23it/s]"
     ]
    },
    {
     "name": "stdout",
     "output_type": "stream",
     "text": [
      "INFO:httpx:HTTP Request: POST http://127.0.0.1:8080/embed \"HTTP/1.1 200 OK\"\n",
      "HTTP Request: POST http://127.0.0.1:8080/embed \"HTTP/1.1 200 OK\"\n",
      "HTTP Request: POST http://127.0.0.1:8080/embed \"HTTP/1.1 200 OK\"\n",
      "HTTP Request: POST http://127.0.0.1:8080/embed \"HTTP/1.1 200 OK\"\n"
     ]
    },
    {
     "name": "stderr",
     "output_type": "stream",
     "text": [
      "\r",
      "Generating embeddings: 100%|███████████████████████████████████████████████████████████████████████████████████████████████████████████████████████████████████████████████████████████████████████████████▋| 3840/3848 [30:20<00:03,  2.17it/s]"
     ]
    },
    {
     "name": "stdout",
     "output_type": "stream",
     "text": [
      "INFO:httpx:HTTP Request: POST http://127.0.0.1:8080/embed \"HTTP/1.1 200 OK\"\n",
      "HTTP Request: POST http://127.0.0.1:8080/embed \"HTTP/1.1 200 OK\"\n",
      "HTTP Request: POST http://127.0.0.1:8080/embed \"HTTP/1.1 200 OK\"\n",
      "HTTP Request: POST http://127.0.0.1:8080/embed \"HTTP/1.1 200 OK\"\n"
     ]
    },
    {
     "name": "stderr",
     "output_type": "stream",
     "text": [
      "Generating embeddings: 100%|████████████████████████████████████████████████████████████████████████████████████████████████████████████████████████████████████████████████████████████████████████████████| 3848/3848 [30:24<00:00,  2.11it/s]\n"
     ]
    }
   ],
   "source": [
    "all_nodes_dict = {n.node_id: n for n in all_nodes}\n",
    "vector_index_chunk = VectorStoreIndex(\n",
    "    all_nodes, service_context=service_context, show_progress=True\n",
    ")"
   ]
  },
  {
   "cell_type": "code",
   "execution_count": 87,
   "id": "14037bc8",
   "metadata": {},
   "outputs": [],
   "source": [
    "from llama_index.retrievers import RecursiveRetriever\n",
    "vector_retriever_chunk = vector_index_chunk.as_retriever(similarity_top_k=5)\n",
    "retriever_chunk = RecursiveRetriever(\n",
    "    \"vector\",\n",
    "    retriever_dict={\"vector\": vector_retriever_chunk},\n",
    "    node_dict=all_nodes_dict,\n",
    "    verbose=True,\n",
    ")"
   ]
  },
  {
   "cell_type": "code",
   "execution_count": 88,
   "id": "08839227",
   "metadata": {},
   "outputs": [
    {
     "name": "stdout",
     "output_type": "stream",
     "text": [
      "\u001b[1;3;34mRetrieving with query id None: Can you tell me about india pakistan match?\n",
      "\u001b[0mINFO:httpx:HTTP Request: POST http://127.0.0.1:8080/embed \"HTTP/1.1 200 OK\"\n",
      "HTTP Request: POST http://127.0.0.1:8080/embed \"HTTP/1.1 200 OK\"\n",
      "HTTP Request: POST http://127.0.0.1:8080/embed \"HTTP/1.1 200 OK\"\n",
      "HTTP Request: POST http://127.0.0.1:8080/embed \"HTTP/1.1 200 OK\"\n",
      "\u001b[1;3;38;5;200mRetrieved node with id, entering: node-685\n",
      "\u001b[0m\u001b[1;3;34mRetrieving with query id node-685: Can you tell me about india pakistan match?\n",
      "\u001b[0m\u001b[1;3;38;5;200mRetrieved node with id, entering: node-746\n",
      "\u001b[0m\u001b[1;3;34mRetrieving with query id node-746: Can you tell me about india pakistan match?\n",
      "\u001b[0m\u001b[1;3;38;5;200mRetrieved node with id, entering: node-642\n",
      "\u001b[0m\u001b[1;3;34mRetrieving with query id node-642: Can you tell me about india pakistan match?\n",
      "\u001b[0m"
     ]
    },
    {
     "data": {
      "text/markdown": [
       "**Node ID:** node-685<br>**Similarity:** 0.731683132465524<br>**Text:** __1:32\n",
       "\n",
       "Urooj Mumtaz bemoans Pakistan's batting\n",
       "\n",
       "](/cricket-videos/urooj-mumtaz-bemoans-pakistan-batting-vs-india-1403225)\n",
       "\n",
       " _ **India** 192 for 3 (Rohit 86, Shreyas 53*) beat **Pakistan** 191 (Babar\n",
       "50, Rizwan 49, Bumrah 2-19, Kuldeep 2-35, Jadeja 2-38) by seven wickets _  \n",
       "\n",
       "The game that always promises and rarely delivers came and went once more,\n",
       "promising plenty at various stages, and ultimately delivering what a blue mass\n",
       "of humanity had come to see: a crushing India win. A stunning middle-overs\n",
       "collapse from Pakistan which had them lose eight wickets for 36 runs turned\n",
       "what should have been an enthralling run chase into a dull formality.\n",
       "\n",
       "Each India bowler played a part in their own way, five different players\n",
       "splitting the ten Pakistan wickets evenly. With Pakistan folding for 191,\n",
       "India - spearheaded by captain<br>"
      ],
      "text/plain": [
       "<IPython.core.display.Markdown object>"
      ]
     },
     "metadata": {},
     "output_type": "display_data"
    },
    {
     "data": {
      "text/markdown": [
       "**Node ID:** node-746<br>**Similarity:** 0.7135040470884344<br>**Text:** Images\n",
       "\n",
       "__\n",
       "\n",
       "__Language\n",
       "\n",
       "English __\n",
       "\n",
       "Win Probability\n",
       "\n",
       "IND 100%\n",
       "\n",
       "PAKIND\n",
       "\n",
       "100%50%100%PAK InningsIND Innings\n",
       "\n",
       "Over 31 • IND 192/3\n",
       "\n",
       "India won by 7 wickets (with 117 balls remaining)\n",
       "\n",
       "![](https://wassets.hscicdn.com/static/images/lazyimage-noaspect.svg)Powered\n",
       "by Smart Stats\n",
       "\n",
       "Match Coverage\n",
       "\n",
       "[All Match News __](/series/icc-cricket-world-cup-2023-24-1367856/india-vs-\n",
       "pakistan-12th-match-1384403/match-news \"All Match News\")\n",
       "\n",
       "[\n",
       "\n",
       "## PCB files complaint with ICC over'inappropriate conduct by spectators' at\n",
       "India vs Pakistan game\n",
       "\n",
       "The PCB has also \"lodged another formal protest\" over delays in visas for\n",
       "Pakistani journalists and absence of a visa policy for Pakistan fans\n",
       "\n",
       "![PCB files complaint with ICC over 'inappropriate conduct by spectators' at\n",
       "India vs Pakistan<br>"
      ],
      "text/plain": [
       "<IPython.core.display.Markdown object>"
      ]
     },
     "metadata": {},
     "output_type": "display_data"
    },
    {
     "data": {
      "text/markdown": [
       "**Node ID:** node-642<br>**Similarity:** 0.709095042826496<br>**Text:** Smart Stats\n",
       "\n",
       "Match Coverage\n",
       "\n",
       "[All Match News __](/series/icc-cricket-world-cup-2023-24-1367856/india-vs-\n",
       "pakistan-12th-match-1384403/match-news \"All Match News\")\n",
       "\n",
       "[\n",
       "\n",
       "## PCB files complaint with ICC over'inappropriate conduct by spectators' at\n",
       "India vs Pakistan game\n",
       "\n",
       "The PCB has also \"lodged another formal protest\" over delays in visas for\n",
       "Pakistani journalists and absence of a visa policy for Pakistan fans\n",
       "\n",
       "![PCB files complaint with ICC over 'inappropriate conduct by spectators' at\n",
       "India vs Pakistan game](https://wassets.hscicdn.com/static/images/lazyimage-\n",
       "noaspect.svg)](/story/world-cup-india-vs-pakistan-pcb-files-complaint-with-\n",
       "icc-over-inappropriate-conduct-by-spectators-1403871)\n",
       "\n",
       "[\n",
       "\n",
       "## ICC chair Barclay on Arthur remark: 'Will review all criticisms'\n",
       "\n",
       "\"We will just take it as it plays out, get to the end<br>"
      ],
      "text/plain": [
       "<IPython.core.display.Markdown object>"
      ]
     },
     "metadata": {},
     "output_type": "display_data"
    }
   ],
   "source": [
    "nodes = retriever_chunk.retrieve(\n",
    "    \"Can you tell me about india pakistan match?\"\n",
    ")\n",
    "for node in nodes:\n",
    "    display_source_node(node, source_length=2000)"
   ]
  },
  {
   "cell_type": "code",
   "execution_count": 89,
   "id": "ecc5294a",
   "metadata": {},
   "outputs": [],
   "source": [
    "query_engine_chunk = RetrieverQueryEngine.from_args(\n",
    "    retriever_chunk, service_context=service_context\n",
    ")"
   ]
  },
  {
   "cell_type": "code",
   "execution_count": 86,
   "id": "086ff3ce",
   "metadata": {},
   "outputs": [
    {
     "name": "stdout",
     "output_type": "stream",
     "text": [
      "\u001b[1;3;34mRetrieving with query id None: Can you tell me about india pakistan match?\n",
      "\u001b[0mINFO:httpx:HTTP Request: POST http://127.0.0.1:8080/embed \"HTTP/1.1 200 OK\"\n",
      "HTTP Request: POST http://127.0.0.1:8080/embed \"HTTP/1.1 200 OK\"\n",
      "HTTP Request: POST http://127.0.0.1:8080/embed \"HTTP/1.1 200 OK\"\n",
      "HTTP Request: POST http://127.0.0.1:8080/embed \"HTTP/1.1 200 OK\"\n",
      "\u001b[1;3;38;5;200mRetrieved node with id, entering: node-685\n",
      "\u001b[0m\u001b[1;3;34mRetrieving with query id node-685: Can you tell me about india pakistan match?\n",
      "\u001b[0m"
     ]
    },
    {
     "name": "stderr",
     "output_type": "stream",
     "text": [
      "Llama.generate: prefix-match hit\n"
     ]
    },
    {
     "name": "stdout",
     "output_type": "stream",
     "text": [
      " Of course! The most recent India vs Pakistan cricket match was played on March 14th, 2022, at the Dubai International Cricket Stadium in Dubai, United Arab Emirates. India won the match by seven wickets, with Rohit Sharma scoring 86 runs and Shreyas Iyer contributing 53 runs to their team's total of 192 for 3. Pakistan struggled in their chase, losing eight wickets for 36 runs and ultimately falling short by seven wickets. The match was a one-day international (ODI) as part of the ICC Men's Cricket World Cup Super League.\n"
     ]
    },
    {
     "name": "stderr",
     "output_type": "stream",
     "text": [
      "\n",
      "llama_print_timings:        load time =  136420.82 ms\n",
      "llama_print_timings:      sample time =      46.58 ms /   150 runs   (    0.31 ms per token,  3220.40 tokens per second)\n",
      "llama_print_timings: prompt eval time =   36376.94 ms /    35 tokens ( 1039.34 ms per token,     0.96 tokens per second)\n",
      "llama_print_timings:        eval time =  176282.15 ms /   149 runs   ( 1183.10 ms per token,     0.85 tokens per second)\n",
      "llama_print_timings:       total time =  213413.23 ms\n"
     ]
    }
   ],
   "source": [
    "start = time.time()\n",
    "\n",
    "response = query_engine_chunk.query(\n",
    "    \"who won the match between India and Pakistan in 2023 world cup?\"\n",
    ")\n",
    "\n",
    "t = time.time() - start\n",
    "\n",
    "print(str(response))"
   ]
  },
  {
   "cell_type": "code",
   "execution_count": 102,
   "id": "541ad77b",
   "metadata": {},
   "outputs": [],
   "source": [
    "from llama_index.vector_stores import RedisVectorStore"
   ]
  },
  {
   "cell_type": "code",
   "execution_count": 107,
   "id": "29d71b9e",
   "metadata": {},
   "outputs": [],
   "source": [
    "vector_store = RedisVectorStore(\n",
    "    index_name=\"idx_icc_cwc2023_india\",\n",
    "    index_prefix=\"sports_\",\n",
    "    redis_url=\"redis://localhost:6379\",\n",
    "    overwrite=True,\n",
    ")"
   ]
  },
  {
   "cell_type": "code",
   "execution_count": 108,
   "id": "59740a49",
   "metadata": {},
   "outputs": [],
   "source": [
    "from llama_index.storage.storage_context import StorageContext\n",
    "storage_context = StorageContext.from_defaults(vector_store=vector_store)"
   ]
  },
  {
   "cell_type": "code",
   "execution_count": 109,
   "id": "8d70aadf",
   "metadata": {},
   "outputs": [
    {
     "name": "stderr",
     "output_type": "stream",
     "text": [
      "\r",
      "Generating embeddings:   0%|                                                                                                                                                                                           | 0/3848 [00:00<?, ?it/s]"
     ]
    },
    {
     "name": "stdout",
     "output_type": "stream",
     "text": [
      "INFO:httpx:HTTP Request: POST http://127.0.0.1:8080/embed \"HTTP/1.1 200 OK\"\n",
      "HTTP Request: POST http://127.0.0.1:8080/embed \"HTTP/1.1 200 OK\"\n",
      "HTTP Request: POST http://127.0.0.1:8080/embed \"HTTP/1.1 200 OK\"\n",
      "HTTP Request: POST http://127.0.0.1:8080/embed \"HTTP/1.1 200 OK\"\n"
     ]
    },
    {
     "name": "stderr",
     "output_type": "stream",
     "text": [
      "\r",
      "Generating embeddings:   0%|▍                                                                                                                                                                                 | 10/3848 [00:08<52:10,  1.23it/s]"
     ]
    },
    {
     "name": "stdout",
     "output_type": "stream",
     "text": [
      "INFO:httpx:HTTP Request: POST http://127.0.0.1:8080/embed \"HTTP/1.1 200 OK\"\n",
      "HTTP Request: POST http://127.0.0.1:8080/embed \"HTTP/1.1 200 OK\"\n",
      "HTTP Request: POST http://127.0.0.1:8080/embed \"HTTP/1.1 200 OK\"\n",
      "HTTP Request: POST http://127.0.0.1:8080/embed \"HTTP/1.1 200 OK\"\n"
     ]
    },
    {
     "name": "stderr",
     "output_type": "stream",
     "text": [
      "\r",
      "Generating embeddings:   1%|▉                                                                                                                                                                                 | 20/3848 [00:16<53:13,  1.20it/s]"
     ]
    },
    {
     "name": "stdout",
     "output_type": "stream",
     "text": [
      "INFO:httpx:HTTP Request: POST http://127.0.0.1:8080/embed \"HTTP/1.1 200 OK\"\n",
      "HTTP Request: POST http://127.0.0.1:8080/embed \"HTTP/1.1 200 OK\"\n",
      "HTTP Request: POST http://127.0.0.1:8080/embed \"HTTP/1.1 200 OK\"\n",
      "HTTP Request: POST http://127.0.0.1:8080/embed \"HTTP/1.1 200 OK\"\n"
     ]
    },
    {
     "name": "stderr",
     "output_type": "stream",
     "text": [
      "\r",
      "Generating embeddings:   1%|█▍                                                                                                                                                                                | 30/3848 [00:25<55:10,  1.15it/s]"
     ]
    },
    {
     "name": "stdout",
     "output_type": "stream",
     "text": [
      "INFO:httpx:HTTP Request: POST http://127.0.0.1:8080/embed \"HTTP/1.1 200 OK\"\n",
      "HTTP Request: POST http://127.0.0.1:8080/embed \"HTTP/1.1 200 OK\"\n",
      "HTTP Request: POST http://127.0.0.1:8080/embed \"HTTP/1.1 200 OK\"\n",
      "HTTP Request: POST http://127.0.0.1:8080/embed \"HTTP/1.1 200 OK\"\n"
     ]
    },
    {
     "name": "stderr",
     "output_type": "stream",
     "text": [
      "\r",
      "Generating embeddings:   1%|█▊                                                                                                                                                                                | 40/3848 [00:35<58:09,  1.09it/s]"
     ]
    },
    {
     "name": "stdout",
     "output_type": "stream",
     "text": [
      "INFO:httpx:HTTP Request: POST http://127.0.0.1:8080/embed \"HTTP/1.1 200 OK\"\n",
      "HTTP Request: POST http://127.0.0.1:8080/embed \"HTTP/1.1 200 OK\"\n",
      "HTTP Request: POST http://127.0.0.1:8080/embed \"HTTP/1.1 200 OK\"\n",
      "HTTP Request: POST http://127.0.0.1:8080/embed \"HTTP/1.1 200 OK\"\n"
     ]
    },
    {
     "name": "stderr",
     "output_type": "stream",
     "text": [
      "\r",
      "Generating embeddings:   1%|██▎                                                                                                                                                                               | 50/3848 [00:45<59:24,  1.07it/s]"
     ]
    },
    {
     "name": "stdout",
     "output_type": "stream",
     "text": [
      "INFO:httpx:HTTP Request: POST http://127.0.0.1:8080/embed \"HTTP/1.1 200 OK\"\n",
      "HTTP Request: POST http://127.0.0.1:8080/embed \"HTTP/1.1 200 OK\"\n",
      "HTTP Request: POST http://127.0.0.1:8080/embed \"HTTP/1.1 200 OK\"\n",
      "HTTP Request: POST http://127.0.0.1:8080/embed \"HTTP/1.1 200 OK\"\n"
     ]
    },
    {
     "name": "stderr",
     "output_type": "stream",
     "text": [
      "\r",
      "Generating embeddings:   2%|██▊                                                                                                                                                                               | 60/3848 [00:54<59:14,  1.07it/s]"
     ]
    },
    {
     "name": "stdout",
     "output_type": "stream",
     "text": [
      "INFO:httpx:HTTP Request: POST http://127.0.0.1:8080/embed \"HTTP/1.1 200 OK\"\n",
      "HTTP Request: POST http://127.0.0.1:8080/embed \"HTTP/1.1 200 OK\"\n",
      "HTTP Request: POST http://127.0.0.1:8080/embed \"HTTP/1.1 200 OK\"\n",
      "HTTP Request: POST http://127.0.0.1:8080/embed \"HTTP/1.1 200 OK\"\n"
     ]
    },
    {
     "name": "stderr",
     "output_type": "stream",
     "text": [
      "\r",
      "Generating embeddings:   2%|███▏                                                                                                                                                                              | 70/3848 [01:02<56:19,  1.12it/s]"
     ]
    },
    {
     "name": "stdout",
     "output_type": "stream",
     "text": [
      "INFO:httpx:HTTP Request: POST http://127.0.0.1:8080/embed \"HTTP/1.1 200 OK\"\n",
      "HTTP Request: POST http://127.0.0.1:8080/embed \"HTTP/1.1 200 OK\"\n",
      "HTTP Request: POST http://127.0.0.1:8080/embed \"HTTP/1.1 200 OK\"\n",
      "HTTP Request: POST http://127.0.0.1:8080/embed \"HTTP/1.1 200 OK\"\n"
     ]
    },
    {
     "name": "stderr",
     "output_type": "stream",
     "text": [
      "\r",
      "Generating embeddings:   2%|███▋                                                                                                                                                                              | 80/3848 [01:10<53:06,  1.18it/s]"
     ]
    },
    {
     "name": "stdout",
     "output_type": "stream",
     "text": [
      "INFO:httpx:HTTP Request: POST http://127.0.0.1:8080/embed \"HTTP/1.1 200 OK\"\n",
      "HTTP Request: POST http://127.0.0.1:8080/embed \"HTTP/1.1 200 OK\"\n",
      "HTTP Request: POST http://127.0.0.1:8080/embed \"HTTP/1.1 200 OK\"\n",
      "HTTP Request: POST http://127.0.0.1:8080/embed \"HTTP/1.1 200 OK\"\n"
     ]
    },
    {
     "name": "stderr",
     "output_type": "stream",
     "text": [
      "\r",
      "Generating embeddings:   2%|████▏                                                                                                                                                                             | 90/3848 [01:17<50:32,  1.24it/s]"
     ]
    },
    {
     "name": "stdout",
     "output_type": "stream",
     "text": [
      "INFO:httpx:HTTP Request: POST http://127.0.0.1:8080/embed \"HTTP/1.1 200 OK\"\n",
      "HTTP Request: POST http://127.0.0.1:8080/embed \"HTTP/1.1 200 OK\"\n",
      "HTTP Request: POST http://127.0.0.1:8080/embed \"HTTP/1.1 200 OK\"\n",
      "HTTP Request: POST http://127.0.0.1:8080/embed \"HTTP/1.1 200 OK\"\n"
     ]
    },
    {
     "name": "stderr",
     "output_type": "stream",
     "text": [
      "\r",
      "Generating embeddings:   3%|████▌                                                                                                                                                                            | 100/3848 [01:24<48:38,  1.28it/s]"
     ]
    },
    {
     "name": "stdout",
     "output_type": "stream",
     "text": [
      "INFO:httpx:HTTP Request: POST http://127.0.0.1:8080/embed \"HTTP/1.1 200 OK\"\n",
      "HTTP Request: POST http://127.0.0.1:8080/embed \"HTTP/1.1 200 OK\"\n",
      "HTTP Request: POST http://127.0.0.1:8080/embed \"HTTP/1.1 200 OK\"\n",
      "HTTP Request: POST http://127.0.0.1:8080/embed \"HTTP/1.1 200 OK\"\n"
     ]
    },
    {
     "name": "stderr",
     "output_type": "stream",
     "text": [
      "\r",
      "Generating embeddings:   3%|█████                                                                                                                                                                            | 110/3848 [01:32<48:17,  1.29it/s]"
     ]
    },
    {
     "name": "stdout",
     "output_type": "stream",
     "text": [
      "INFO:httpx:HTTP Request: POST http://127.0.0.1:8080/embed \"HTTP/1.1 200 OK\"\n",
      "HTTP Request: POST http://127.0.0.1:8080/embed \"HTTP/1.1 200 OK\"\n",
      "HTTP Request: POST http://127.0.0.1:8080/embed \"HTTP/1.1 200 OK\"\n",
      "HTTP Request: POST http://127.0.0.1:8080/embed \"HTTP/1.1 200 OK\"\n"
     ]
    },
    {
     "name": "stderr",
     "output_type": "stream",
     "text": [
      "\r",
      "Generating embeddings:   3%|█████▌                                                                                                                                                                           | 120/3848 [01:38<45:57,  1.35it/s]"
     ]
    },
    {
     "name": "stdout",
     "output_type": "stream",
     "text": [
      "INFO:httpx:HTTP Request: POST http://127.0.0.1:8080/embed \"HTTP/1.1 200 OK\"\n",
      "HTTP Request: POST http://127.0.0.1:8080/embed \"HTTP/1.1 200 OK\"\n",
      "HTTP Request: POST http://127.0.0.1:8080/embed \"HTTP/1.1 200 OK\"\n",
      "HTTP Request: POST http://127.0.0.1:8080/embed \"HTTP/1.1 200 OK\"\n"
     ]
    },
    {
     "name": "stderr",
     "output_type": "stream",
     "text": [
      "\r",
      "Generating embeddings:   3%|█████▉                                                                                                                                                                           | 130/3848 [01:45<43:40,  1.42it/s]"
     ]
    },
    {
     "name": "stdout",
     "output_type": "stream",
     "text": [
      "INFO:httpx:HTTP Request: POST http://127.0.0.1:8080/embed \"HTTP/1.1 200 OK\"\n",
      "HTTP Request: POST http://127.0.0.1:8080/embed \"HTTP/1.1 200 OK\"\n",
      "HTTP Request: POST http://127.0.0.1:8080/embed \"HTTP/1.1 200 OK\"\n",
      "HTTP Request: POST http://127.0.0.1:8080/embed \"HTTP/1.1 200 OK\"\n"
     ]
    },
    {
     "name": "stderr",
     "output_type": "stream",
     "text": [
      "\r",
      "Generating embeddings:   4%|██████▍                                                                                                                                                                          | 140/3848 [01:51<41:55,  1.47it/s]"
     ]
    },
    {
     "name": "stdout",
     "output_type": "stream",
     "text": [
      "INFO:httpx:HTTP Request: POST http://127.0.0.1:8080/embed \"HTTP/1.1 200 OK\"\n",
      "HTTP Request: POST http://127.0.0.1:8080/embed \"HTTP/1.1 200 OK\"\n",
      "HTTP Request: POST http://127.0.0.1:8080/embed \"HTTP/1.1 200 OK\"\n",
      "HTTP Request: POST http://127.0.0.1:8080/embed \"HTTP/1.1 200 OK\"\n"
     ]
    },
    {
     "name": "stderr",
     "output_type": "stream",
     "text": [
      "\r",
      "Generating embeddings:   4%|██████▉                                                                                                                                                                          | 150/3848 [01:57<40:53,  1.51it/s]"
     ]
    },
    {
     "name": "stdout",
     "output_type": "stream",
     "text": [
      "INFO:httpx:HTTP Request: POST http://127.0.0.1:8080/embed \"HTTP/1.1 200 OK\"\n",
      "HTTP Request: POST http://127.0.0.1:8080/embed \"HTTP/1.1 200 OK\"\n",
      "HTTP Request: POST http://127.0.0.1:8080/embed \"HTTP/1.1 200 OK\"\n",
      "HTTP Request: POST http://127.0.0.1:8080/embed \"HTTP/1.1 200 OK\"\n"
     ]
    },
    {
     "name": "stderr",
     "output_type": "stream",
     "text": [
      "\r",
      "Generating embeddings:   4%|███████▎                                                                                                                                                                         | 160/3848 [02:04<40:37,  1.51it/s]"
     ]
    },
    {
     "name": "stdout",
     "output_type": "stream",
     "text": [
      "INFO:httpx:HTTP Request: POST http://127.0.0.1:8080/embed \"HTTP/1.1 200 OK\"\n",
      "HTTP Request: POST http://127.0.0.1:8080/embed \"HTTP/1.1 200 OK\"\n",
      "HTTP Request: POST http://127.0.0.1:8080/embed \"HTTP/1.1 200 OK\"\n",
      "HTTP Request: POST http://127.0.0.1:8080/embed \"HTTP/1.1 200 OK\"\n"
     ]
    },
    {
     "name": "stderr",
     "output_type": "stream",
     "text": [
      "\r",
      "Generating embeddings:   4%|███████▊                                                                                                                                                                         | 170/3848 [02:10<39:26,  1.55it/s]"
     ]
    },
    {
     "name": "stdout",
     "output_type": "stream",
     "text": [
      "INFO:httpx:HTTP Request: POST http://127.0.0.1:8080/embed \"HTTP/1.1 200 OK\"\n",
      "HTTP Request: POST http://127.0.0.1:8080/embed \"HTTP/1.1 200 OK\"\n",
      "HTTP Request: POST http://127.0.0.1:8080/embed \"HTTP/1.1 200 OK\"\n",
      "HTTP Request: POST http://127.0.0.1:8080/embed \"HTTP/1.1 200 OK\"\n"
     ]
    },
    {
     "name": "stderr",
     "output_type": "stream",
     "text": [
      "\r",
      "Generating embeddings:   5%|████████▎                                                                                                                                                                        | 180/3848 [02:16<38:39,  1.58it/s]"
     ]
    },
    {
     "name": "stdout",
     "output_type": "stream",
     "text": [
      "INFO:httpx:HTTP Request: POST http://127.0.0.1:8080/embed \"HTTP/1.1 200 OK\"\n",
      "HTTP Request: POST http://127.0.0.1:8080/embed \"HTTP/1.1 200 OK\"\n",
      "HTTP Request: POST http://127.0.0.1:8080/embed \"HTTP/1.1 200 OK\"\n",
      "HTTP Request: POST http://127.0.0.1:8080/embed \"HTTP/1.1 200 OK\"\n"
     ]
    },
    {
     "name": "stderr",
     "output_type": "stream",
     "text": [
      "\r",
      "Generating embeddings:   5%|████████▋                                                                                                                                                                        | 190/3848 [02:22<37:41,  1.62it/s]"
     ]
    },
    {
     "name": "stdout",
     "output_type": "stream",
     "text": [
      "INFO:httpx:HTTP Request: POST http://127.0.0.1:8080/embed \"HTTP/1.1 200 OK\"\n",
      "HTTP Request: POST http://127.0.0.1:8080/embed \"HTTP/1.1 200 OK\"\n",
      "HTTP Request: POST http://127.0.0.1:8080/embed \"HTTP/1.1 200 OK\"\n",
      "HTTP Request: POST http://127.0.0.1:8080/embed \"HTTP/1.1 200 OK\"\n"
     ]
    },
    {
     "name": "stderr",
     "output_type": "stream",
     "text": [
      "\r",
      "Generating embeddings:   5%|█████████▏                                                                                                                                                                       | 200/3848 [02:28<37:14,  1.63it/s]"
     ]
    },
    {
     "name": "stdout",
     "output_type": "stream",
     "text": [
      "INFO:httpx:HTTP Request: POST http://127.0.0.1:8080/embed \"HTTP/1.1 200 OK\"\n",
      "HTTP Request: POST http://127.0.0.1:8080/embed \"HTTP/1.1 200 OK\"\n",
      "HTTP Request: POST http://127.0.0.1:8080/embed \"HTTP/1.1 200 OK\"\n",
      "HTTP Request: POST http://127.0.0.1:8080/embed \"HTTP/1.1 200 OK\"\n"
     ]
    },
    {
     "name": "stderr",
     "output_type": "stream",
     "text": [
      "\r",
      "Generating embeddings:   5%|█████████▋                                                                                                                                                                       | 210/3848 [02:34<38:16,  1.58it/s]"
     ]
    },
    {
     "name": "stdout",
     "output_type": "stream",
     "text": [
      "INFO:httpx:HTTP Request: POST http://127.0.0.1:8080/embed \"HTTP/1.1 200 OK\"\n",
      "HTTP Request: POST http://127.0.0.1:8080/embed \"HTTP/1.1 200 OK\"\n",
      "HTTP Request: POST http://127.0.0.1:8080/embed \"HTTP/1.1 200 OK\"\n",
      "HTTP Request: POST http://127.0.0.1:8080/embed \"HTTP/1.1 200 OK\"\n"
     ]
    },
    {
     "name": "stderr",
     "output_type": "stream",
     "text": [
      "\r",
      "Generating embeddings:   6%|██████████                                                                                                                                                                       | 220/3848 [02:41<38:29,  1.57it/s]"
     ]
    },
    {
     "name": "stdout",
     "output_type": "stream",
     "text": [
      "INFO:httpx:HTTP Request: POST http://127.0.0.1:8080/embed \"HTTP/1.1 200 OK\"\n",
      "HTTP Request: POST http://127.0.0.1:8080/embed \"HTTP/1.1 200 OK\"\n",
      "HTTP Request: POST http://127.0.0.1:8080/embed \"HTTP/1.1 200 OK\"\n",
      "HTTP Request: POST http://127.0.0.1:8080/embed \"HTTP/1.1 200 OK\"\n"
     ]
    },
    {
     "name": "stderr",
     "output_type": "stream",
     "text": [
      "\r",
      "Generating embeddings:   6%|██████████▌                                                                                                                                                                      | 230/3848 [02:47<38:41,  1.56it/s]"
     ]
    },
    {
     "name": "stdout",
     "output_type": "stream",
     "text": [
      "INFO:httpx:HTTP Request: POST http://127.0.0.1:8080/embed \"HTTP/1.1 200 OK\"\n",
      "HTTP Request: POST http://127.0.0.1:8080/embed \"HTTP/1.1 200 OK\"\n",
      "HTTP Request: POST http://127.0.0.1:8080/embed \"HTTP/1.1 200 OK\"\n",
      "HTTP Request: POST http://127.0.0.1:8080/embed \"HTTP/1.1 200 OK\"\n"
     ]
    },
    {
     "name": "stderr",
     "output_type": "stream",
     "text": [
      "\r",
      "Generating embeddings:   6%|███████████                                                                                                                                                                      | 240/3848 [02:56<42:17,  1.42it/s]"
     ]
    },
    {
     "name": "stdout",
     "output_type": "stream",
     "text": [
      "INFO:httpx:HTTP Request: POST http://127.0.0.1:8080/embed \"HTTP/1.1 200 OK\"\n",
      "HTTP Request: POST http://127.0.0.1:8080/embed \"HTTP/1.1 200 OK\"\n",
      "HTTP Request: POST http://127.0.0.1:8080/embed \"HTTP/1.1 200 OK\"\n",
      "HTTP Request: POST http://127.0.0.1:8080/embed \"HTTP/1.1 200 OK\"\n"
     ]
    },
    {
     "name": "stderr",
     "output_type": "stream",
     "text": [
      "\r",
      "Generating embeddings:   6%|███████████▍                                                                                                                                                                     | 250/3848 [03:02<41:04,  1.46it/s]"
     ]
    },
    {
     "name": "stdout",
     "output_type": "stream",
     "text": [
      "INFO:httpx:HTTP Request: POST http://127.0.0.1:8080/embed \"HTTP/1.1 200 OK\"\n",
      "HTTP Request: POST http://127.0.0.1:8080/embed \"HTTP/1.1 200 OK\"\n",
      "HTTP Request: POST http://127.0.0.1:8080/embed \"HTTP/1.1 200 OK\"\n",
      "HTTP Request: POST http://127.0.0.1:8080/embed \"HTTP/1.1 200 OK\"\n"
     ]
    },
    {
     "name": "stderr",
     "output_type": "stream",
     "text": [
      "\r",
      "Generating embeddings:   7%|███████████▉                                                                                                                                                                     | 260/3848 [03:09<40:30,  1.48it/s]"
     ]
    },
    {
     "name": "stdout",
     "output_type": "stream",
     "text": [
      "INFO:httpx:HTTP Request: POST http://127.0.0.1:8080/embed \"HTTP/1.1 200 OK\"\n",
      "HTTP Request: POST http://127.0.0.1:8080/embed \"HTTP/1.1 200 OK\"\n",
      "HTTP Request: POST http://127.0.0.1:8080/embed \"HTTP/1.1 200 OK\"\n",
      "HTTP Request: POST http://127.0.0.1:8080/embed \"HTTP/1.1 200 OK\"\n"
     ]
    },
    {
     "name": "stderr",
     "output_type": "stream",
     "text": [
      "\r",
      "Generating embeddings:   7%|████████████▍                                                                                                                                                                    | 270/3848 [03:15<39:51,  1.50it/s]"
     ]
    },
    {
     "name": "stdout",
     "output_type": "stream",
     "text": [
      "INFO:httpx:HTTP Request: POST http://127.0.0.1:8080/embed \"HTTP/1.1 200 OK\"\n",
      "HTTP Request: POST http://127.0.0.1:8080/embed \"HTTP/1.1 200 OK\"\n",
      "HTTP Request: POST http://127.0.0.1:8080/embed \"HTTP/1.1 200 OK\"\n",
      "HTTP Request: POST http://127.0.0.1:8080/embed \"HTTP/1.1 200 OK\"\n"
     ]
    },
    {
     "name": "stderr",
     "output_type": "stream",
     "text": [
      "\r",
      "Generating embeddings:   7%|████████████▉                                                                                                                                                                    | 280/3848 [03:22<39:40,  1.50it/s]"
     ]
    },
    {
     "name": "stdout",
     "output_type": "stream",
     "text": [
      "INFO:httpx:HTTP Request: POST http://127.0.0.1:8080/embed \"HTTP/1.1 200 OK\"\n",
      "HTTP Request: POST http://127.0.0.1:8080/embed \"HTTP/1.1 200 OK\"\n",
      "HTTP Request: POST http://127.0.0.1:8080/embed \"HTTP/1.1 200 OK\"\n",
      "HTTP Request: POST http://127.0.0.1:8080/embed \"HTTP/1.1 200 OK\"\n"
     ]
    },
    {
     "name": "stderr",
     "output_type": "stream",
     "text": [
      "\r",
      "Generating embeddings:   8%|█████████████▎                                                                                                                                                                   | 290/3848 [03:28<37:50,  1.57it/s]"
     ]
    },
    {
     "name": "stdout",
     "output_type": "stream",
     "text": [
      "INFO:httpx:HTTP Request: POST http://127.0.0.1:8080/embed \"HTTP/1.1 200 OK\"\n",
      "HTTP Request: POST http://127.0.0.1:8080/embed \"HTTP/1.1 200 OK\"\n",
      "HTTP Request: POST http://127.0.0.1:8080/embed \"HTTP/1.1 200 OK\"\n",
      "HTTP Request: POST http://127.0.0.1:8080/embed \"HTTP/1.1 200 OK\"\n"
     ]
    },
    {
     "name": "stderr",
     "output_type": "stream",
     "text": [
      "\r",
      "Generating embeddings:   8%|█████████████▊                                                                                                                                                                   | 300/3848 [03:34<38:34,  1.53it/s]"
     ]
    },
    {
     "name": "stdout",
     "output_type": "stream",
     "text": [
      "INFO:httpx:HTTP Request: POST http://127.0.0.1:8080/embed \"HTTP/1.1 200 OK\"\n",
      "HTTP Request: POST http://127.0.0.1:8080/embed \"HTTP/1.1 200 OK\"\n",
      "HTTP Request: POST http://127.0.0.1:8080/embed \"HTTP/1.1 200 OK\"\n",
      "HTTP Request: POST http://127.0.0.1:8080/embed \"HTTP/1.1 200 OK\"\n"
     ]
    },
    {
     "name": "stderr",
     "output_type": "stream",
     "text": [
      "\r",
      "Generating embeddings:   8%|██████████████▎                                                                                                                                                                  | 310/3848 [03:41<38:49,  1.52it/s]"
     ]
    },
    {
     "name": "stdout",
     "output_type": "stream",
     "text": [
      "INFO:httpx:HTTP Request: POST http://127.0.0.1:8080/embed \"HTTP/1.1 200 OK\"\n",
      "HTTP Request: POST http://127.0.0.1:8080/embed \"HTTP/1.1 200 OK\"\n",
      "HTTP Request: POST http://127.0.0.1:8080/embed \"HTTP/1.1 200 OK\"\n",
      "HTTP Request: POST http://127.0.0.1:8080/embed \"HTTP/1.1 200 OK\"\n"
     ]
    },
    {
     "name": "stderr",
     "output_type": "stream",
     "text": [
      "\r",
      "Generating embeddings:   8%|██████████████▋                                                                                                                                                                  | 320/3848 [03:48<39:24,  1.49it/s]"
     ]
    },
    {
     "name": "stdout",
     "output_type": "stream",
     "text": [
      "INFO:httpx:HTTP Request: POST http://127.0.0.1:8080/embed \"HTTP/1.1 200 OK\"\n",
      "HTTP Request: POST http://127.0.0.1:8080/embed \"HTTP/1.1 200 OK\"\n",
      "HTTP Request: POST http://127.0.0.1:8080/embed \"HTTP/1.1 200 OK\"\n",
      "HTTP Request: POST http://127.0.0.1:8080/embed \"HTTP/1.1 200 OK\"\n"
     ]
    },
    {
     "name": "stderr",
     "output_type": "stream",
     "text": [
      "\r",
      "Generating embeddings:   9%|███████████████▏                                                                                                                                                                 | 330/3848 [03:55<40:09,  1.46it/s]"
     ]
    },
    {
     "name": "stdout",
     "output_type": "stream",
     "text": [
      "INFO:httpx:HTTP Request: POST http://127.0.0.1:8080/embed \"HTTP/1.1 200 OK\"\n",
      "HTTP Request: POST http://127.0.0.1:8080/embed \"HTTP/1.1 200 OK\"\n",
      "HTTP Request: POST http://127.0.0.1:8080/embed \"HTTP/1.1 200 OK\"\n",
      "HTTP Request: POST http://127.0.0.1:8080/embed \"HTTP/1.1 200 OK\"\n"
     ]
    },
    {
     "name": "stderr",
     "output_type": "stream",
     "text": [
      "\r",
      "Generating embeddings:   9%|███████████████▋                                                                                                                                                                 | 340/3848 [04:02<38:55,  1.50it/s]"
     ]
    },
    {
     "name": "stdout",
     "output_type": "stream",
     "text": [
      "INFO:httpx:HTTP Request: POST http://127.0.0.1:8080/embed \"HTTP/1.1 200 OK\"\n",
      "HTTP Request: POST http://127.0.0.1:8080/embed \"HTTP/1.1 200 OK\"\n",
      "HTTP Request: POST http://127.0.0.1:8080/embed \"HTTP/1.1 200 OK\"\n",
      "HTTP Request: POST http://127.0.0.1:8080/embed \"HTTP/1.1 200 OK\"\n"
     ]
    },
    {
     "name": "stderr",
     "output_type": "stream",
     "text": [
      "\r",
      "Generating embeddings:   9%|████████████████                                                                                                                                                                 | 350/3848 [04:08<38:51,  1.50it/s]"
     ]
    },
    {
     "name": "stdout",
     "output_type": "stream",
     "text": [
      "INFO:httpx:HTTP Request: POST http://127.0.0.1:8080/embed \"HTTP/1.1 200 OK\"\n",
      "HTTP Request: POST http://127.0.0.1:8080/embed \"HTTP/1.1 200 OK\"\n",
      "HTTP Request: POST http://127.0.0.1:8080/embed \"HTTP/1.1 200 OK\"\n",
      "HTTP Request: POST http://127.0.0.1:8080/embed \"HTTP/1.1 200 OK\"\n"
     ]
    },
    {
     "name": "stderr",
     "output_type": "stream",
     "text": [
      "\r",
      "Generating embeddings:   9%|████████████████▌                                                                                                                                                                | 360/3848 [04:15<38:47,  1.50it/s]"
     ]
    },
    {
     "name": "stdout",
     "output_type": "stream",
     "text": [
      "INFO:httpx:HTTP Request: POST http://127.0.0.1:8080/embed \"HTTP/1.1 200 OK\"\n",
      "HTTP Request: POST http://127.0.0.1:8080/embed \"HTTP/1.1 200 OK\"\n",
      "HTTP Request: POST http://127.0.0.1:8080/embed \"HTTP/1.1 200 OK\"\n",
      "HTTP Request: POST http://127.0.0.1:8080/embed \"HTTP/1.1 200 OK\"\n"
     ]
    },
    {
     "name": "stderr",
     "output_type": "stream",
     "text": [
      "\r",
      "Generating embeddings:  10%|█████████████████                                                                                                                                                                | 370/3848 [04:22<38:37,  1.50it/s]"
     ]
    },
    {
     "name": "stdout",
     "output_type": "stream",
     "text": [
      "INFO:httpx:HTTP Request: POST http://127.0.0.1:8080/embed \"HTTP/1.1 200 OK\"\n",
      "HTTP Request: POST http://127.0.0.1:8080/embed \"HTTP/1.1 200 OK\"\n",
      "HTTP Request: POST http://127.0.0.1:8080/embed \"HTTP/1.1 200 OK\"\n",
      "HTTP Request: POST http://127.0.0.1:8080/embed \"HTTP/1.1 200 OK\"\n"
     ]
    },
    {
     "name": "stderr",
     "output_type": "stream",
     "text": [
      "\r",
      "Generating embeddings:  10%|█████████████████▍                                                                                                                                                               | 380/3848 [04:28<38:01,  1.52it/s]"
     ]
    },
    {
     "name": "stdout",
     "output_type": "stream",
     "text": [
      "INFO:httpx:HTTP Request: POST http://127.0.0.1:8080/embed \"HTTP/1.1 200 OK\"\n",
      "HTTP Request: POST http://127.0.0.1:8080/embed \"HTTP/1.1 200 OK\"\n",
      "HTTP Request: POST http://127.0.0.1:8080/embed \"HTTP/1.1 200 OK\"\n",
      "HTTP Request: POST http://127.0.0.1:8080/embed \"HTTP/1.1 200 OK\"\n"
     ]
    },
    {
     "name": "stderr",
     "output_type": "stream",
     "text": [
      "\r",
      "Generating embeddings:  10%|█████████████████▉                                                                                                                                                               | 390/3848 [04:35<38:30,  1.50it/s]"
     ]
    },
    {
     "name": "stdout",
     "output_type": "stream",
     "text": [
      "INFO:httpx:HTTP Request: POST http://127.0.0.1:8080/embed \"HTTP/1.1 200 OK\"\n",
      "HTTP Request: POST http://127.0.0.1:8080/embed \"HTTP/1.1 200 OK\"\n",
      "HTTP Request: POST http://127.0.0.1:8080/embed \"HTTP/1.1 200 OK\"\n",
      "HTTP Request: POST http://127.0.0.1:8080/embed \"HTTP/1.1 200 OK\"\n"
     ]
    },
    {
     "name": "stderr",
     "output_type": "stream",
     "text": [
      "\r",
      "Generating embeddings:  10%|██████████████████▍                                                                                                                                                              | 400/3848 [04:42<39:14,  1.46it/s]"
     ]
    },
    {
     "name": "stdout",
     "output_type": "stream",
     "text": [
      "INFO:httpx:HTTP Request: POST http://127.0.0.1:8080/embed \"HTTP/1.1 200 OK\"\n",
      "HTTP Request: POST http://127.0.0.1:8080/embed \"HTTP/1.1 200 OK\"\n",
      "HTTP Request: POST http://127.0.0.1:8080/embed \"HTTP/1.1 200 OK\"\n",
      "HTTP Request: POST http://127.0.0.1:8080/embed \"HTTP/1.1 200 OK\"\n"
     ]
    },
    {
     "name": "stderr",
     "output_type": "stream",
     "text": [
      "\r",
      "Generating embeddings:  11%|██████████████████▊                                                                                                                                                              | 410/3848 [04:48<37:18,  1.54it/s]"
     ]
    },
    {
     "name": "stdout",
     "output_type": "stream",
     "text": [
      "INFO:httpx:HTTP Request: POST http://127.0.0.1:8080/embed \"HTTP/1.1 200 OK\"\n",
      "HTTP Request: POST http://127.0.0.1:8080/embed \"HTTP/1.1 200 OK\"\n",
      "HTTP Request: POST http://127.0.0.1:8080/embed \"HTTP/1.1 200 OK\"\n",
      "HTTP Request: POST http://127.0.0.1:8080/embed \"HTTP/1.1 200 OK\"\n"
     ]
    },
    {
     "name": "stderr",
     "output_type": "stream",
     "text": [
      "\r",
      "Generating embeddings:  11%|███████████████████▎                                                                                                                                                             | 420/3848 [04:55<38:26,  1.49it/s]"
     ]
    },
    {
     "name": "stdout",
     "output_type": "stream",
     "text": [
      "INFO:httpx:HTTP Request: POST http://127.0.0.1:8080/embed \"HTTP/1.1 200 OK\"\n",
      "HTTP Request: POST http://127.0.0.1:8080/embed \"HTTP/1.1 200 OK\"\n",
      "HTTP Request: POST http://127.0.0.1:8080/embed \"HTTP/1.1 200 OK\"\n",
      "HTTP Request: POST http://127.0.0.1:8080/embed \"HTTP/1.1 200 OK\"\n"
     ]
    },
    {
     "name": "stderr",
     "output_type": "stream",
     "text": [
      "\r",
      "Generating embeddings:  11%|███████████████████▊                                                                                                                                                             | 430/3848 [05:01<36:09,  1.58it/s]"
     ]
    },
    {
     "name": "stdout",
     "output_type": "stream",
     "text": [
      "INFO:httpx:HTTP Request: POST http://127.0.0.1:8080/embed \"HTTP/1.1 200 OK\"\n",
      "HTTP Request: POST http://127.0.0.1:8080/embed \"HTTP/1.1 200 OK\"\n",
      "HTTP Request: POST http://127.0.0.1:8080/embed \"HTTP/1.1 200 OK\"\n",
      "HTTP Request: POST http://127.0.0.1:8080/embed \"HTTP/1.1 200 OK\"\n"
     ]
    },
    {
     "name": "stderr",
     "output_type": "stream",
     "text": [
      "\r",
      "Generating embeddings:  11%|████████████████████▏                                                                                                                                                            | 440/3848 [05:06<34:32,  1.64it/s]"
     ]
    },
    {
     "name": "stdout",
     "output_type": "stream",
     "text": [
      "INFO:httpx:HTTP Request: POST http://127.0.0.1:8080/embed \"HTTP/1.1 200 OK\"\n",
      "HTTP Request: POST http://127.0.0.1:8080/embed \"HTTP/1.1 200 OK\"\n",
      "HTTP Request: POST http://127.0.0.1:8080/embed \"HTTP/1.1 200 OK\"\n",
      "HTTP Request: POST http://127.0.0.1:8080/embed \"HTTP/1.1 200 OK\"\n"
     ]
    },
    {
     "name": "stderr",
     "output_type": "stream",
     "text": [
      "\r",
      "Generating embeddings:  12%|████████████████████▋                                                                                                                                                            | 450/3848 [05:13<35:37,  1.59it/s]"
     ]
    },
    {
     "name": "stdout",
     "output_type": "stream",
     "text": [
      "INFO:httpx:HTTP Request: POST http://127.0.0.1:8080/embed \"HTTP/1.1 200 OK\"\n",
      "HTTP Request: POST http://127.0.0.1:8080/embed \"HTTP/1.1 200 OK\"\n",
      "HTTP Request: POST http://127.0.0.1:8080/embed \"HTTP/1.1 200 OK\"\n",
      "HTTP Request: POST http://127.0.0.1:8080/embed \"HTTP/1.1 200 OK\"\n"
     ]
    },
    {
     "name": "stderr",
     "output_type": "stream",
     "text": [
      "\r",
      "Generating embeddings:  12%|█████████████████████▏                                                                                                                                                           | 460/3848 [05:20<36:26,  1.55it/s]"
     ]
    },
    {
     "name": "stdout",
     "output_type": "stream",
     "text": [
      "INFO:httpx:HTTP Request: POST http://127.0.0.1:8080/embed \"HTTP/1.1 200 OK\"\n",
      "HTTP Request: POST http://127.0.0.1:8080/embed \"HTTP/1.1 200 OK\"\n",
      "HTTP Request: POST http://127.0.0.1:8080/embed \"HTTP/1.1 200 OK\"\n",
      "HTTP Request: POST http://127.0.0.1:8080/embed \"HTTP/1.1 200 OK\"\n"
     ]
    },
    {
     "name": "stderr",
     "output_type": "stream",
     "text": [
      "\r",
      "Generating embeddings:  12%|█████████████████████▌                                                                                                                                                           | 470/3848 [05:25<35:00,  1.61it/s]"
     ]
    },
    {
     "name": "stdout",
     "output_type": "stream",
     "text": [
      "INFO:httpx:HTTP Request: POST http://127.0.0.1:8080/embed \"HTTP/1.1 200 OK\"\n",
      "HTTP Request: POST http://127.0.0.1:8080/embed \"HTTP/1.1 200 OK\"\n",
      "HTTP Request: POST http://127.0.0.1:8080/embed \"HTTP/1.1 200 OK\"\n",
      "HTTP Request: POST http://127.0.0.1:8080/embed \"HTTP/1.1 200 OK\"\n"
     ]
    },
    {
     "name": "stderr",
     "output_type": "stream",
     "text": [
      "\r",
      "Generating embeddings:  12%|██████████████████████                                                                                                                                                           | 480/3848 [05:32<35:21,  1.59it/s]"
     ]
    },
    {
     "name": "stdout",
     "output_type": "stream",
     "text": [
      "INFO:httpx:HTTP Request: POST http://127.0.0.1:8080/embed \"HTTP/1.1 200 OK\"\n",
      "HTTP Request: POST http://127.0.0.1:8080/embed \"HTTP/1.1 200 OK\"\n",
      "HTTP Request: POST http://127.0.0.1:8080/embed \"HTTP/1.1 200 OK\"\n",
      "HTTP Request: POST http://127.0.0.1:8080/embed \"HTTP/1.1 200 OK\"\n"
     ]
    },
    {
     "name": "stderr",
     "output_type": "stream",
     "text": [
      "\r",
      "Generating embeddings:  13%|██████████████████████▌                                                                                                                                                          | 490/3848 [05:39<36:43,  1.52it/s]"
     ]
    },
    {
     "name": "stdout",
     "output_type": "stream",
     "text": [
      "INFO:httpx:HTTP Request: POST http://127.0.0.1:8080/embed \"HTTP/1.1 200 OK\"\n",
      "HTTP Request: POST http://127.0.0.1:8080/embed \"HTTP/1.1 200 OK\"\n",
      "HTTP Request: POST http://127.0.0.1:8080/embed \"HTTP/1.1 200 OK\"\n",
      "HTTP Request: POST http://127.0.0.1:8080/embed \"HTTP/1.1 200 OK\"\n"
     ]
    },
    {
     "name": "stderr",
     "output_type": "stream",
     "text": [
      "\r",
      "Generating embeddings:  13%|██████████████████████▉                                                                                                                                                          | 500/3848 [05:46<37:44,  1.48it/s]"
     ]
    },
    {
     "name": "stdout",
     "output_type": "stream",
     "text": [
      "INFO:httpx:HTTP Request: POST http://127.0.0.1:8080/embed \"HTTP/1.1 200 OK\"\n",
      "HTTP Request: POST http://127.0.0.1:8080/embed \"HTTP/1.1 200 OK\"\n",
      "HTTP Request: POST http://127.0.0.1:8080/embed \"HTTP/1.1 200 OK\"\n",
      "HTTP Request: POST http://127.0.0.1:8080/embed \"HTTP/1.1 200 OK\"\n"
     ]
    },
    {
     "name": "stderr",
     "output_type": "stream",
     "text": [
      "\r",
      "Generating embeddings:  13%|███████████████████████▍                                                                                                                                                         | 510/3848 [05:54<39:49,  1.40it/s]"
     ]
    },
    {
     "name": "stdout",
     "output_type": "stream",
     "text": [
      "INFO:httpx:HTTP Request: POST http://127.0.0.1:8080/embed \"HTTP/1.1 200 OK\"\n",
      "HTTP Request: POST http://127.0.0.1:8080/embed \"HTTP/1.1 200 OK\"\n",
      "HTTP Request: POST http://127.0.0.1:8080/embed \"HTTP/1.1 200 OK\"\n",
      "HTTP Request: POST http://127.0.0.1:8080/embed \"HTTP/1.1 200 OK\"\n"
     ]
    },
    {
     "name": "stderr",
     "output_type": "stream",
     "text": [
      "\r",
      "Generating embeddings:  14%|███████████████████████▉                                                                                                                                                         | 520/3848 [06:01<39:35,  1.40it/s]"
     ]
    },
    {
     "name": "stdout",
     "output_type": "stream",
     "text": [
      "INFO:httpx:HTTP Request: POST http://127.0.0.1:8080/embed \"HTTP/1.1 200 OK\"\n",
      "HTTP Request: POST http://127.0.0.1:8080/embed \"HTTP/1.1 200 OK\"\n",
      "HTTP Request: POST http://127.0.0.1:8080/embed \"HTTP/1.1 200 OK\"\n",
      "HTTP Request: POST http://127.0.0.1:8080/embed \"HTTP/1.1 200 OK\"\n"
     ]
    },
    {
     "name": "stderr",
     "output_type": "stream",
     "text": [
      "\r",
      "Generating embeddings:  14%|████████████████████████▍                                                                                                                                                        | 530/3848 [06:08<38:41,  1.43it/s]"
     ]
    },
    {
     "name": "stdout",
     "output_type": "stream",
     "text": [
      "INFO:httpx:HTTP Request: POST http://127.0.0.1:8080/embed \"HTTP/1.1 200 OK\"\n",
      "HTTP Request: POST http://127.0.0.1:8080/embed \"HTTP/1.1 200 OK\"\n",
      "HTTP Request: POST http://127.0.0.1:8080/embed \"HTTP/1.1 200 OK\"\n",
      "HTTP Request: POST http://127.0.0.1:8080/embed \"HTTP/1.1 200 OK\"\n"
     ]
    },
    {
     "name": "stderr",
     "output_type": "stream",
     "text": [
      "\r",
      "Generating embeddings:  14%|████████████████████████▊                                                                                                                                                        | 540/3848 [06:14<37:05,  1.49it/s]"
     ]
    },
    {
     "name": "stdout",
     "output_type": "stream",
     "text": [
      "INFO:httpx:HTTP Request: POST http://127.0.0.1:8080/embed \"HTTP/1.1 200 OK\"\n",
      "HTTP Request: POST http://127.0.0.1:8080/embed \"HTTP/1.1 200 OK\"\n",
      "HTTP Request: POST http://127.0.0.1:8080/embed \"HTTP/1.1 200 OK\"\n",
      "HTTP Request: POST http://127.0.0.1:8080/embed \"HTTP/1.1 200 OK\"\n"
     ]
    },
    {
     "name": "stderr",
     "output_type": "stream",
     "text": [
      "\r",
      "Generating embeddings:  14%|█████████████████████████▎                                                                                                                                                       | 550/3848 [06:21<36:59,  1.49it/s]"
     ]
    },
    {
     "name": "stdout",
     "output_type": "stream",
     "text": [
      "INFO:httpx:HTTP Request: POST http://127.0.0.1:8080/embed \"HTTP/1.1 200 OK\"\n",
      "HTTP Request: POST http://127.0.0.1:8080/embed \"HTTP/1.1 200 OK\"\n",
      "HTTP Request: POST http://127.0.0.1:8080/embed \"HTTP/1.1 200 OK\"\n",
      "HTTP Request: POST http://127.0.0.1:8080/embed \"HTTP/1.1 200 OK\"\n"
     ]
    },
    {
     "name": "stderr",
     "output_type": "stream",
     "text": [
      "\r",
      "Generating embeddings:  15%|█████████████████████████▊                                                                                                                                                       | 560/3848 [06:28<37:29,  1.46it/s]"
     ]
    },
    {
     "name": "stdout",
     "output_type": "stream",
     "text": [
      "INFO:httpx:HTTP Request: POST http://127.0.0.1:8080/embed \"HTTP/1.1 200 OK\"\n",
      "HTTP Request: POST http://127.0.0.1:8080/embed \"HTTP/1.1 200 OK\"\n",
      "HTTP Request: POST http://127.0.0.1:8080/embed \"HTTP/1.1 200 OK\"\n",
      "HTTP Request: POST http://127.0.0.1:8080/embed \"HTTP/1.1 200 OK\"\n"
     ]
    },
    {
     "name": "stderr",
     "output_type": "stream",
     "text": [
      "\r",
      "Generating embeddings:  15%|██████████████████████████▏                                                                                                                                                      | 570/3848 [06:35<37:57,  1.44it/s]"
     ]
    },
    {
     "name": "stdout",
     "output_type": "stream",
     "text": [
      "INFO:httpx:HTTP Request: POST http://127.0.0.1:8080/embed \"HTTP/1.1 200 OK\"\n",
      "HTTP Request: POST http://127.0.0.1:8080/embed \"HTTP/1.1 200 OK\"\n",
      "HTTP Request: POST http://127.0.0.1:8080/embed \"HTTP/1.1 200 OK\"\n",
      "HTTP Request: POST http://127.0.0.1:8080/embed \"HTTP/1.1 200 OK\"\n"
     ]
    },
    {
     "name": "stderr",
     "output_type": "stream",
     "text": [
      "\r",
      "Generating embeddings:  15%|██████████████████████████▋                                                                                                                                                      | 580/3848 [06:42<37:46,  1.44it/s]"
     ]
    },
    {
     "name": "stdout",
     "output_type": "stream",
     "text": [
      "INFO:httpx:HTTP Request: POST http://127.0.0.1:8080/embed \"HTTP/1.1 200 OK\"\n",
      "HTTP Request: POST http://127.0.0.1:8080/embed \"HTTP/1.1 200 OK\"\n",
      "HTTP Request: POST http://127.0.0.1:8080/embed \"HTTP/1.1 200 OK\"\n",
      "HTTP Request: POST http://127.0.0.1:8080/embed \"HTTP/1.1 200 OK\"\n"
     ]
    },
    {
     "name": "stderr",
     "output_type": "stream",
     "text": [
      "\r",
      "Generating embeddings:  15%|███████████████████████████▏                                                                                                                                                     | 590/3848 [06:49<37:38,  1.44it/s]"
     ]
    },
    {
     "name": "stdout",
     "output_type": "stream",
     "text": [
      "INFO:httpx:HTTP Request: POST http://127.0.0.1:8080/embed \"HTTP/1.1 200 OK\"\n",
      "HTTP Request: POST http://127.0.0.1:8080/embed \"HTTP/1.1 200 OK\"\n",
      "HTTP Request: POST http://127.0.0.1:8080/embed \"HTTP/1.1 200 OK\"\n",
      "HTTP Request: POST http://127.0.0.1:8080/embed \"HTTP/1.1 200 OK\"\n"
     ]
    },
    {
     "name": "stderr",
     "output_type": "stream",
     "text": [
      "\r",
      "Generating embeddings:  16%|███████████████████████████▌                                                                                                                                                     | 600/3848 [06:56<37:06,  1.46it/s]"
     ]
    },
    {
     "name": "stdout",
     "output_type": "stream",
     "text": [
      "INFO:httpx:HTTP Request: POST http://127.0.0.1:8080/embed \"HTTP/1.1 200 OK\"\n",
      "HTTP Request: POST http://127.0.0.1:8080/embed \"HTTP/1.1 200 OK\"\n",
      "HTTP Request: POST http://127.0.0.1:8080/embed \"HTTP/1.1 200 OK\"\n",
      "HTTP Request: POST http://127.0.0.1:8080/embed \"HTTP/1.1 200 OK\"\n"
     ]
    },
    {
     "name": "stderr",
     "output_type": "stream",
     "text": [
      "\r",
      "Generating embeddings:  16%|████████████████████████████                                                                                                                                                     | 610/3848 [07:03<37:39,  1.43it/s]"
     ]
    },
    {
     "name": "stdout",
     "output_type": "stream",
     "text": [
      "INFO:httpx:HTTP Request: POST http://127.0.0.1:8080/embed \"HTTP/1.1 200 OK\"\n",
      "HTTP Request: POST http://127.0.0.1:8080/embed \"HTTP/1.1 200 OK\"\n",
      "HTTP Request: POST http://127.0.0.1:8080/embed \"HTTP/1.1 200 OK\"\n",
      "HTTP Request: POST http://127.0.0.1:8080/embed \"HTTP/1.1 200 OK\"\n"
     ]
    },
    {
     "name": "stderr",
     "output_type": "stream",
     "text": [
      "\r",
      "Generating embeddings:  16%|████████████████████████████▌                                                                                                                                                    | 620/3848 [07:09<36:49,  1.46it/s]"
     ]
    },
    {
     "name": "stdout",
     "output_type": "stream",
     "text": [
      "INFO:httpx:HTTP Request: POST http://127.0.0.1:8080/embed \"HTTP/1.1 200 OK\"\n",
      "HTTP Request: POST http://127.0.0.1:8080/embed \"HTTP/1.1 200 OK\"\n",
      "HTTP Request: POST http://127.0.0.1:8080/embed \"HTTP/1.1 200 OK\"\n",
      "HTTP Request: POST http://127.0.0.1:8080/embed \"HTTP/1.1 200 OK\"\n"
     ]
    },
    {
     "name": "stderr",
     "output_type": "stream",
     "text": [
      "\r",
      "Generating embeddings:  16%|████████████████████████████▉                                                                                                                                                    | 630/3848 [07:16<35:55,  1.49it/s]"
     ]
    },
    {
     "name": "stdout",
     "output_type": "stream",
     "text": [
      "INFO:httpx:HTTP Request: POST http://127.0.0.1:8080/embed \"HTTP/1.1 200 OK\"\n",
      "HTTP Request: POST http://127.0.0.1:8080/embed \"HTTP/1.1 200 OK\"\n",
      "HTTP Request: POST http://127.0.0.1:8080/embed \"HTTP/1.1 200 OK\"\n",
      "HTTP Request: POST http://127.0.0.1:8080/embed \"HTTP/1.1 200 OK\"\n"
     ]
    },
    {
     "name": "stderr",
     "output_type": "stream",
     "text": [
      "\r",
      "Generating embeddings:  17%|█████████████████████████████▍                                                                                                                                                   | 640/3848 [07:22<34:28,  1.55it/s]"
     ]
    },
    {
     "name": "stdout",
     "output_type": "stream",
     "text": [
      "INFO:httpx:HTTP Request: POST http://127.0.0.1:8080/embed \"HTTP/1.1 200 OK\"\n",
      "HTTP Request: POST http://127.0.0.1:8080/embed \"HTTP/1.1 200 OK\"\n",
      "HTTP Request: POST http://127.0.0.1:8080/embed \"HTTP/1.1 200 OK\"\n",
      "HTTP Request: POST http://127.0.0.1:8080/embed \"HTTP/1.1 200 OK\"\n"
     ]
    },
    {
     "name": "stderr",
     "output_type": "stream",
     "text": [
      "\r",
      "Generating embeddings:  17%|█████████████████████████████▉                                                                                                                                                   | 650/3848 [07:28<33:51,  1.57it/s]"
     ]
    },
    {
     "name": "stdout",
     "output_type": "stream",
     "text": [
      "INFO:httpx:HTTP Request: POST http://127.0.0.1:8080/embed \"HTTP/1.1 200 OK\"\n",
      "HTTP Request: POST http://127.0.0.1:8080/embed \"HTTP/1.1 200 OK\"\n",
      "HTTP Request: POST http://127.0.0.1:8080/embed \"HTTP/1.1 200 OK\"\n",
      "HTTP Request: POST http://127.0.0.1:8080/embed \"HTTP/1.1 200 OK\"\n"
     ]
    },
    {
     "name": "stderr",
     "output_type": "stream",
     "text": [
      "\r",
      "Generating embeddings:  17%|██████████████████████████████▎                                                                                                                                                  | 660/3848 [07:35<34:31,  1.54it/s]"
     ]
    },
    {
     "name": "stdout",
     "output_type": "stream",
     "text": [
      "INFO:httpx:HTTP Request: POST http://127.0.0.1:8080/embed \"HTTP/1.1 200 OK\"\n",
      "HTTP Request: POST http://127.0.0.1:8080/embed \"HTTP/1.1 200 OK\"\n",
      "HTTP Request: POST http://127.0.0.1:8080/embed \"HTTP/1.1 200 OK\"\n",
      "HTTP Request: POST http://127.0.0.1:8080/embed \"HTTP/1.1 200 OK\"\n"
     ]
    },
    {
     "name": "stderr",
     "output_type": "stream",
     "text": [
      "\r",
      "Generating embeddings:  17%|██████████████████████████████▊                                                                                                                                                  | 670/3848 [07:41<34:21,  1.54it/s]"
     ]
    },
    {
     "name": "stdout",
     "output_type": "stream",
     "text": [
      "INFO:httpx:HTTP Request: POST http://127.0.0.1:8080/embed \"HTTP/1.1 200 OK\"\n",
      "HTTP Request: POST http://127.0.0.1:8080/embed \"HTTP/1.1 200 OK\"\n",
      "HTTP Request: POST http://127.0.0.1:8080/embed \"HTTP/1.1 200 OK\"\n",
      "HTTP Request: POST http://127.0.0.1:8080/embed \"HTTP/1.1 200 OK\"\n"
     ]
    },
    {
     "name": "stderr",
     "output_type": "stream",
     "text": [
      "\r",
      "Generating embeddings:  18%|███████████████████████████████▎                                                                                                                                                 | 680/3848 [07:48<34:59,  1.51it/s]"
     ]
    },
    {
     "name": "stdout",
     "output_type": "stream",
     "text": [
      "INFO:httpx:HTTP Request: POST http://127.0.0.1:8080/embed \"HTTP/1.1 200 OK\"\n",
      "HTTP Request: POST http://127.0.0.1:8080/embed \"HTTP/1.1 200 OK\"\n",
      "HTTP Request: POST http://127.0.0.1:8080/embed \"HTTP/1.1 200 OK\"\n",
      "HTTP Request: POST http://127.0.0.1:8080/embed \"HTTP/1.1 200 OK\"\n"
     ]
    },
    {
     "name": "stderr",
     "output_type": "stream",
     "text": [
      "\r",
      "Generating embeddings:  18%|███████████████████████████████▋                                                                                                                                                 | 690/3848 [07:55<35:13,  1.49it/s]"
     ]
    },
    {
     "name": "stdout",
     "output_type": "stream",
     "text": [
      "INFO:httpx:HTTP Request: POST http://127.0.0.1:8080/embed \"HTTP/1.1 200 OK\"\n",
      "HTTP Request: POST http://127.0.0.1:8080/embed \"HTTP/1.1 200 OK\"\n",
      "HTTP Request: POST http://127.0.0.1:8080/embed \"HTTP/1.1 200 OK\"\n",
      "HTTP Request: POST http://127.0.0.1:8080/embed \"HTTP/1.1 200 OK\"\n"
     ]
    },
    {
     "name": "stderr",
     "output_type": "stream",
     "text": [
      "\r",
      "Generating embeddings:  18%|████████████████████████████████▏                                                                                                                                                | 700/3848 [08:02<35:06,  1.49it/s]"
     ]
    },
    {
     "name": "stdout",
     "output_type": "stream",
     "text": [
      "INFO:httpx:HTTP Request: POST http://127.0.0.1:8080/embed \"HTTP/1.1 200 OK\"\n",
      "HTTP Request: POST http://127.0.0.1:8080/embed \"HTTP/1.1 200 OK\"\n",
      "HTTP Request: POST http://127.0.0.1:8080/embed \"HTTP/1.1 200 OK\"\n",
      "HTTP Request: POST http://127.0.0.1:8080/embed \"HTTP/1.1 200 OK\"\n"
     ]
    },
    {
     "name": "stderr",
     "output_type": "stream",
     "text": [
      "\r",
      "Generating embeddings:  18%|████████████████████████████████▋                                                                                                                                                | 710/3848 [08:08<34:42,  1.51it/s]"
     ]
    },
    {
     "name": "stdout",
     "output_type": "stream",
     "text": [
      "INFO:httpx:HTTP Request: POST http://127.0.0.1:8080/embed \"HTTP/1.1 200 OK\"\n",
      "HTTP Request: POST http://127.0.0.1:8080/embed \"HTTP/1.1 200 OK\"\n",
      "HTTP Request: POST http://127.0.0.1:8080/embed \"HTTP/1.1 200 OK\"\n",
      "HTTP Request: POST http://127.0.0.1:8080/embed \"HTTP/1.1 200 OK\"\n"
     ]
    },
    {
     "name": "stderr",
     "output_type": "stream",
     "text": [
      "\r",
      "Generating embeddings:  19%|█████████████████████████████████                                                                                                                                                | 720/3848 [08:14<33:42,  1.55it/s]"
     ]
    },
    {
     "name": "stdout",
     "output_type": "stream",
     "text": [
      "INFO:httpx:HTTP Request: POST http://127.0.0.1:8080/embed \"HTTP/1.1 200 OK\"\n",
      "HTTP Request: POST http://127.0.0.1:8080/embed \"HTTP/1.1 200 OK\"\n",
      "HTTP Request: POST http://127.0.0.1:8080/embed \"HTTP/1.1 200 OK\"\n",
      "HTTP Request: POST http://127.0.0.1:8080/embed \"HTTP/1.1 200 OK\"\n"
     ]
    },
    {
     "name": "stderr",
     "output_type": "stream",
     "text": [
      "\r",
      "Generating embeddings:  19%|█████████████████████████████████▌                                                                                                                                               | 730/3848 [08:20<32:42,  1.59it/s]"
     ]
    },
    {
     "name": "stdout",
     "output_type": "stream",
     "text": [
      "INFO:httpx:HTTP Request: POST http://127.0.0.1:8080/embed \"HTTP/1.1 200 OK\"\n",
      "HTTP Request: POST http://127.0.0.1:8080/embed \"HTTP/1.1 200 OK\"\n",
      "HTTP Request: POST http://127.0.0.1:8080/embed \"HTTP/1.1 200 OK\"\n",
      "HTTP Request: POST http://127.0.0.1:8080/embed \"HTTP/1.1 200 OK\"\n"
     ]
    },
    {
     "name": "stderr",
     "output_type": "stream",
     "text": [
      "\r",
      "Generating embeddings:  19%|██████████████████████████████████                                                                                                                                               | 740/3848 [08:26<32:22,  1.60it/s]"
     ]
    },
    {
     "name": "stdout",
     "output_type": "stream",
     "text": [
      "INFO:httpx:HTTP Request: POST http://127.0.0.1:8080/embed \"HTTP/1.1 200 OK\"\n",
      "HTTP Request: POST http://127.0.0.1:8080/embed \"HTTP/1.1 200 OK\"\n",
      "HTTP Request: POST http://127.0.0.1:8080/embed \"HTTP/1.1 200 OK\"\n",
      "HTTP Request: POST http://127.0.0.1:8080/embed \"HTTP/1.1 200 OK\"\n"
     ]
    },
    {
     "name": "stderr",
     "output_type": "stream",
     "text": [
      "\r",
      "Generating embeddings:  19%|██████████████████████████████████▍                                                                                                                                              | 750/3848 [08:32<31:53,  1.62it/s]"
     ]
    },
    {
     "name": "stdout",
     "output_type": "stream",
     "text": [
      "INFO:httpx:HTTP Request: POST http://127.0.0.1:8080/embed \"HTTP/1.1 200 OK\"\n",
      "HTTP Request: POST http://127.0.0.1:8080/embed \"HTTP/1.1 200 OK\"\n",
      "HTTP Request: POST http://127.0.0.1:8080/embed \"HTTP/1.1 200 OK\"\n",
      "HTTP Request: POST http://127.0.0.1:8080/embed \"HTTP/1.1 200 OK\"\n"
     ]
    },
    {
     "name": "stderr",
     "output_type": "stream",
     "text": [
      "\r",
      "Generating embeddings:  20%|██████████████████████████████████▉                                                                                                                                              | 760/3848 [08:39<32:28,  1.59it/s]"
     ]
    },
    {
     "name": "stdout",
     "output_type": "stream",
     "text": [
      "INFO:httpx:HTTP Request: POST http://127.0.0.1:8080/embed \"HTTP/1.1 200 OK\"\n",
      "HTTP Request: POST http://127.0.0.1:8080/embed \"HTTP/1.1 200 OK\"\n",
      "HTTP Request: POST http://127.0.0.1:8080/embed \"HTTP/1.1 200 OK\"\n",
      "HTTP Request: POST http://127.0.0.1:8080/embed \"HTTP/1.1 200 OK\"\n"
     ]
    },
    {
     "name": "stderr",
     "output_type": "stream",
     "text": [
      "\r",
      "Generating embeddings:  20%|███████████████████████████████████▍                                                                                                                                             | 770/3848 [08:45<32:53,  1.56it/s]"
     ]
    },
    {
     "name": "stdout",
     "output_type": "stream",
     "text": [
      "INFO:httpx:HTTP Request: POST http://127.0.0.1:8080/embed \"HTTP/1.1 200 OK\"\n",
      "HTTP Request: POST http://127.0.0.1:8080/embed \"HTTP/1.1 200 OK\"\n",
      "HTTP Request: POST http://127.0.0.1:8080/embed \"HTTP/1.1 200 OK\"\n",
      "HTTP Request: POST http://127.0.0.1:8080/embed \"HTTP/1.1 200 OK\"\n"
     ]
    },
    {
     "name": "stderr",
     "output_type": "stream",
     "text": [
      "\r",
      "Generating embeddings:  20%|███████████████████████████████████▉                                                                                                                                             | 780/3848 [08:52<32:52,  1.56it/s]"
     ]
    },
    {
     "name": "stdout",
     "output_type": "stream",
     "text": [
      "INFO:httpx:HTTP Request: POST http://127.0.0.1:8080/embed \"HTTP/1.1 200 OK\"\n",
      "HTTP Request: POST http://127.0.0.1:8080/embed \"HTTP/1.1 200 OK\"\n",
      "HTTP Request: POST http://127.0.0.1:8080/embed \"HTTP/1.1 200 OK\"\n",
      "HTTP Request: POST http://127.0.0.1:8080/embed \"HTTP/1.1 200 OK\"\n"
     ]
    },
    {
     "name": "stderr",
     "output_type": "stream",
     "text": [
      "\r",
      "Generating embeddings:  21%|████████████████████████████████████▎                                                                                                                                            | 790/3848 [08:59<33:32,  1.52it/s]"
     ]
    },
    {
     "name": "stdout",
     "output_type": "stream",
     "text": [
      "INFO:httpx:HTTP Request: POST http://127.0.0.1:8080/embed \"HTTP/1.1 200 OK\"\n",
      "HTTP Request: POST http://127.0.0.1:8080/embed \"HTTP/1.1 200 OK\"\n",
      "HTTP Request: POST http://127.0.0.1:8080/embed \"HTTP/1.1 200 OK\"\n",
      "HTTP Request: POST http://127.0.0.1:8080/embed \"HTTP/1.1 200 OK\"\n"
     ]
    },
    {
     "name": "stderr",
     "output_type": "stream",
     "text": [
      "\r",
      "Generating embeddings:  21%|████████████████████████████████████▊                                                                                                                                            | 800/3848 [09:05<33:14,  1.53it/s]"
     ]
    },
    {
     "name": "stdout",
     "output_type": "stream",
     "text": [
      "INFO:httpx:HTTP Request: POST http://127.0.0.1:8080/embed \"HTTP/1.1 200 OK\"\n",
      "HTTP Request: POST http://127.0.0.1:8080/embed \"HTTP/1.1 200 OK\"\n",
      "HTTP Request: POST http://127.0.0.1:8080/embed \"HTTP/1.1 200 OK\"\n",
      "HTTP Request: POST http://127.0.0.1:8080/embed \"HTTP/1.1 200 OK\"\n"
     ]
    },
    {
     "name": "stderr",
     "output_type": "stream",
     "text": [
      "\r",
      "Generating embeddings:  21%|█████████████████████████████████████▎                                                                                                                                           | 810/3848 [09:12<33:01,  1.53it/s]"
     ]
    },
    {
     "name": "stdout",
     "output_type": "stream",
     "text": [
      "INFO:httpx:HTTP Request: POST http://127.0.0.1:8080/embed \"HTTP/1.1 200 OK\"\n",
      "HTTP Request: POST http://127.0.0.1:8080/embed \"HTTP/1.1 200 OK\"\n",
      "HTTP Request: POST http://127.0.0.1:8080/embed \"HTTP/1.1 200 OK\"\n",
      "HTTP Request: POST http://127.0.0.1:8080/embed \"HTTP/1.1 200 OK\"\n"
     ]
    },
    {
     "name": "stderr",
     "output_type": "stream",
     "text": [
      "\r",
      "Generating embeddings:  21%|█████████████████████████████████████▋                                                                                                                                           | 820/3848 [09:18<32:33,  1.55it/s]"
     ]
    },
    {
     "name": "stdout",
     "output_type": "stream",
     "text": [
      "INFO:httpx:HTTP Request: POST http://127.0.0.1:8080/embed \"HTTP/1.1 200 OK\"\n",
      "HTTP Request: POST http://127.0.0.1:8080/embed \"HTTP/1.1 200 OK\"\n",
      "HTTP Request: POST http://127.0.0.1:8080/embed \"HTTP/1.1 200 OK\"\n",
      "HTTP Request: POST http://127.0.0.1:8080/embed \"HTTP/1.1 200 OK\"\n"
     ]
    },
    {
     "name": "stderr",
     "output_type": "stream",
     "text": [
      "\r",
      "Generating embeddings:  22%|██████████████████████████████████████▏                                                                                                                                          | 830/3848 [09:24<31:36,  1.59it/s]"
     ]
    },
    {
     "name": "stdout",
     "output_type": "stream",
     "text": [
      "INFO:httpx:HTTP Request: POST http://127.0.0.1:8080/embed \"HTTP/1.1 200 OK\"\n",
      "HTTP Request: POST http://127.0.0.1:8080/embed \"HTTP/1.1 200 OK\"\n",
      "HTTP Request: POST http://127.0.0.1:8080/embed \"HTTP/1.1 200 OK\"\n",
      "HTTP Request: POST http://127.0.0.1:8080/embed \"HTTP/1.1 200 OK\"\n"
     ]
    },
    {
     "name": "stderr",
     "output_type": "stream",
     "text": [
      "\r",
      "Generating embeddings:  22%|██████████████████████████████████████▋                                                                                                                                          | 840/3848 [09:30<30:41,  1.63it/s]"
     ]
    },
    {
     "name": "stdout",
     "output_type": "stream",
     "text": [
      "INFO:httpx:HTTP Request: POST http://127.0.0.1:8080/embed \"HTTP/1.1 200 OK\"\n",
      "HTTP Request: POST http://127.0.0.1:8080/embed \"HTTP/1.1 200 OK\"\n",
      "HTTP Request: POST http://127.0.0.1:8080/embed \"HTTP/1.1 200 OK\"\n",
      "HTTP Request: POST http://127.0.0.1:8080/embed \"HTTP/1.1 200 OK\"\n"
     ]
    },
    {
     "name": "stderr",
     "output_type": "stream",
     "text": [
      "\r",
      "Generating embeddings:  22%|███████████████████████████████████████                                                                                                                                          | 850/3848 [09:35<29:53,  1.67it/s]"
     ]
    },
    {
     "name": "stdout",
     "output_type": "stream",
     "text": [
      "INFO:httpx:HTTP Request: POST http://127.0.0.1:8080/embed \"HTTP/1.1 200 OK\"\n",
      "HTTP Request: POST http://127.0.0.1:8080/embed \"HTTP/1.1 200 OK\"\n",
      "HTTP Request: POST http://127.0.0.1:8080/embed \"HTTP/1.1 200 OK\"\n",
      "HTTP Request: POST http://127.0.0.1:8080/embed \"HTTP/1.1 200 OK\"\n"
     ]
    },
    {
     "name": "stderr",
     "output_type": "stream",
     "text": [
      "\r",
      "Generating embeddings:  22%|███████████████████████████████████████▌                                                                                                                                         | 860/3848 [09:41<29:37,  1.68it/s]"
     ]
    },
    {
     "name": "stdout",
     "output_type": "stream",
     "text": [
      "INFO:httpx:HTTP Request: POST http://127.0.0.1:8080/embed \"HTTP/1.1 200 OK\"\n",
      "HTTP Request: POST http://127.0.0.1:8080/embed \"HTTP/1.1 200 OK\"\n",
      "HTTP Request: POST http://127.0.0.1:8080/embed \"HTTP/1.1 200 OK\"\n",
      "HTTP Request: POST http://127.0.0.1:8080/embed \"HTTP/1.1 200 OK\"\n"
     ]
    },
    {
     "name": "stderr",
     "output_type": "stream",
     "text": [
      "\r",
      "Generating embeddings:  23%|████████████████████████████████████████                                                                                                                                         | 870/3848 [09:47<29:34,  1.68it/s]"
     ]
    },
    {
     "name": "stdout",
     "output_type": "stream",
     "text": [
      "INFO:httpx:HTTP Request: POST http://127.0.0.1:8080/embed \"HTTP/1.1 200 OK\"\n",
      "HTTP Request: POST http://127.0.0.1:8080/embed \"HTTP/1.1 200 OK\"\n",
      "HTTP Request: POST http://127.0.0.1:8080/embed \"HTTP/1.1 200 OK\"\n",
      "HTTP Request: POST http://127.0.0.1:8080/embed \"HTTP/1.1 200 OK\"\n"
     ]
    },
    {
     "name": "stderr",
     "output_type": "stream",
     "text": [
      "\r",
      "Generating embeddings:  23%|████████████████████████████████████████▍                                                                                                                                        | 880/3848 [09:54<29:58,  1.65it/s]"
     ]
    },
    {
     "name": "stdout",
     "output_type": "stream",
     "text": [
      "INFO:httpx:HTTP Request: POST http://127.0.0.1:8080/embed \"HTTP/1.1 200 OK\"\n",
      "HTTP Request: POST http://127.0.0.1:8080/embed \"HTTP/1.1 200 OK\"\n",
      "HTTP Request: POST http://127.0.0.1:8080/embed \"HTTP/1.1 200 OK\"\n",
      "HTTP Request: POST http://127.0.0.1:8080/embed \"HTTP/1.1 200 OK\"\n"
     ]
    },
    {
     "name": "stderr",
     "output_type": "stream",
     "text": [
      "\r",
      "Generating embeddings:  23%|████████████████████████████████████████▉                                                                                                                                        | 890/3848 [10:00<29:49,  1.65it/s]"
     ]
    },
    {
     "name": "stdout",
     "output_type": "stream",
     "text": [
      "INFO:httpx:HTTP Request: POST http://127.0.0.1:8080/embed \"HTTP/1.1 200 OK\"\n",
      "HTTP Request: POST http://127.0.0.1:8080/embed \"HTTP/1.1 200 OK\"\n",
      "HTTP Request: POST http://127.0.0.1:8080/embed \"HTTP/1.1 200 OK\"\n",
      "HTTP Request: POST http://127.0.0.1:8080/embed \"HTTP/1.1 200 OK\"\n"
     ]
    },
    {
     "name": "stderr",
     "output_type": "stream",
     "text": [
      "\r",
      "Generating embeddings:  23%|█████████████████████████████████████████▍                                                                                                                                       | 900/3848 [10:06<30:56,  1.59it/s]"
     ]
    },
    {
     "name": "stdout",
     "output_type": "stream",
     "text": [
      "INFO:httpx:HTTP Request: POST http://127.0.0.1:8080/embed \"HTTP/1.1 200 OK\"\n",
      "HTTP Request: POST http://127.0.0.1:8080/embed \"HTTP/1.1 200 OK\"\n",
      "HTTP Request: POST http://127.0.0.1:8080/embed \"HTTP/1.1 200 OK\"\n",
      "HTTP Request: POST http://127.0.0.1:8080/embed \"HTTP/1.1 200 OK\"\n"
     ]
    },
    {
     "name": "stderr",
     "output_type": "stream",
     "text": [
      "\r",
      "Generating embeddings:  24%|█████████████████████████████████████████▊                                                                                                                                       | 910/3848 [10:13<30:35,  1.60it/s]"
     ]
    },
    {
     "name": "stdout",
     "output_type": "stream",
     "text": [
      "INFO:httpx:HTTP Request: POST http://127.0.0.1:8080/embed \"HTTP/1.1 200 OK\"\n",
      "HTTP Request: POST http://127.0.0.1:8080/embed \"HTTP/1.1 200 OK\"\n",
      "HTTP Request: POST http://127.0.0.1:8080/embed \"HTTP/1.1 200 OK\"\n",
      "HTTP Request: POST http://127.0.0.1:8080/embed \"HTTP/1.1 200 OK\"\n"
     ]
    },
    {
     "name": "stderr",
     "output_type": "stream",
     "text": [
      "\r",
      "Generating embeddings:  24%|██████████████████████████████████████████▎                                                                                                                                      | 920/3848 [10:19<30:33,  1.60it/s]"
     ]
    },
    {
     "name": "stdout",
     "output_type": "stream",
     "text": [
      "INFO:httpx:HTTP Request: POST http://127.0.0.1:8080/embed \"HTTP/1.1 200 OK\"\n",
      "HTTP Request: POST http://127.0.0.1:8080/embed \"HTTP/1.1 200 OK\"\n",
      "HTTP Request: POST http://127.0.0.1:8080/embed \"HTTP/1.1 200 OK\"\n",
      "HTTP Request: POST http://127.0.0.1:8080/embed \"HTTP/1.1 200 OK\"\n"
     ]
    },
    {
     "name": "stderr",
     "output_type": "stream",
     "text": [
      "\r",
      "Generating embeddings:  24%|██████████████████████████████████████████▊                                                                                                                                      | 930/3848 [10:25<30:55,  1.57it/s]"
     ]
    },
    {
     "name": "stdout",
     "output_type": "stream",
     "text": [
      "INFO:httpx:HTTP Request: POST http://127.0.0.1:8080/embed \"HTTP/1.1 200 OK\"\n",
      "HTTP Request: POST http://127.0.0.1:8080/embed \"HTTP/1.1 200 OK\"\n",
      "HTTP Request: POST http://127.0.0.1:8080/embed \"HTTP/1.1 200 OK\"\n",
      "HTTP Request: POST http://127.0.0.1:8080/embed \"HTTP/1.1 200 OK\"\n"
     ]
    },
    {
     "name": "stderr",
     "output_type": "stream",
     "text": [
      "\r",
      "Generating embeddings:  24%|███████████████████████████████████████████▏                                                                                                                                     | 940/3848 [10:32<31:35,  1.53it/s]"
     ]
    },
    {
     "name": "stdout",
     "output_type": "stream",
     "text": [
      "INFO:httpx:HTTP Request: POST http://127.0.0.1:8080/embed \"HTTP/1.1 200 OK\"\n",
      "HTTP Request: POST http://127.0.0.1:8080/embed \"HTTP/1.1 200 OK\"\n",
      "HTTP Request: POST http://127.0.0.1:8080/embed \"HTTP/1.1 200 OK\"\n",
      "HTTP Request: POST http://127.0.0.1:8080/embed \"HTTP/1.1 200 OK\"\n"
     ]
    },
    {
     "name": "stderr",
     "output_type": "stream",
     "text": [
      "\r",
      "Generating embeddings:  25%|███████████████████████████████████████████▋                                                                                                                                     | 950/3848 [10:39<32:16,  1.50it/s]"
     ]
    },
    {
     "name": "stdout",
     "output_type": "stream",
     "text": [
      "INFO:httpx:HTTP Request: POST http://127.0.0.1:8080/embed \"HTTP/1.1 200 OK\"\n",
      "HTTP Request: POST http://127.0.0.1:8080/embed \"HTTP/1.1 200 OK\"\n",
      "HTTP Request: POST http://127.0.0.1:8080/embed \"HTTP/1.1 200 OK\"\n",
      "HTTP Request: POST http://127.0.0.1:8080/embed \"HTTP/1.1 200 OK\"\n"
     ]
    },
    {
     "name": "stderr",
     "output_type": "stream",
     "text": [
      "\r",
      "Generating embeddings:  25%|████████████████████████████████████████████▏                                                                                                                                    | 960/3848 [10:45<30:51,  1.56it/s]"
     ]
    },
    {
     "name": "stdout",
     "output_type": "stream",
     "text": [
      "INFO:httpx:HTTP Request: POST http://127.0.0.1:8080/embed \"HTTP/1.1 200 OK\"\n",
      "HTTP Request: POST http://127.0.0.1:8080/embed \"HTTP/1.1 200 OK\"\n",
      "HTTP Request: POST http://127.0.0.1:8080/embed \"HTTP/1.1 200 OK\"\n",
      "HTTP Request: POST http://127.0.0.1:8080/embed \"HTTP/1.1 200 OK\"\n"
     ]
    },
    {
     "name": "stderr",
     "output_type": "stream",
     "text": [
      "\r",
      "Generating embeddings:  25%|████████████████████████████████████████████▌                                                                                                                                    | 970/3848 [10:51<29:30,  1.63it/s]"
     ]
    },
    {
     "name": "stdout",
     "output_type": "stream",
     "text": [
      "INFO:httpx:HTTP Request: POST http://127.0.0.1:8080/embed \"HTTP/1.1 200 OK\"\n",
      "HTTP Request: POST http://127.0.0.1:8080/embed \"HTTP/1.1 200 OK\"\n",
      "HTTP Request: POST http://127.0.0.1:8080/embed \"HTTP/1.1 200 OK\"\n",
      "HTTP Request: POST http://127.0.0.1:8080/embed \"HTTP/1.1 200 OK\"\n"
     ]
    },
    {
     "name": "stderr",
     "output_type": "stream",
     "text": [
      "\r",
      "Generating embeddings:  25%|█████████████████████████████████████████████                                                                                                                                    | 980/3848 [10:56<28:34,  1.67it/s]"
     ]
    },
    {
     "name": "stdout",
     "output_type": "stream",
     "text": [
      "INFO:httpx:HTTP Request: POST http://127.0.0.1:8080/embed \"HTTP/1.1 200 OK\"\n",
      "HTTP Request: POST http://127.0.0.1:8080/embed \"HTTP/1.1 200 OK\"\n",
      "HTTP Request: POST http://127.0.0.1:8080/embed \"HTTP/1.1 200 OK\"\n",
      "HTTP Request: POST http://127.0.0.1:8080/embed \"HTTP/1.1 200 OK\"\n"
     ]
    },
    {
     "name": "stderr",
     "output_type": "stream",
     "text": [
      "\r",
      "Generating embeddings:  26%|█████████████████████████████████████████████▌                                                                                                                                   | 990/3848 [11:02<27:35,  1.73it/s]"
     ]
    },
    {
     "name": "stdout",
     "output_type": "stream",
     "text": [
      "INFO:httpx:HTTP Request: POST http://127.0.0.1:8080/embed \"HTTP/1.1 200 OK\"\n",
      "HTTP Request: POST http://127.0.0.1:8080/embed \"HTTP/1.1 200 OK\"\n",
      "HTTP Request: POST http://127.0.0.1:8080/embed \"HTTP/1.1 200 OK\"\n",
      "HTTP Request: POST http://127.0.0.1:8080/embed \"HTTP/1.1 200 OK\"\n"
     ]
    },
    {
     "name": "stderr",
     "output_type": "stream",
     "text": [
      "\r",
      "Generating embeddings:  26%|█████████████████████████████████████████████▋                                                                                                                                  | 1000/3848 [11:08<27:59,  1.70it/s]"
     ]
    },
    {
     "name": "stdout",
     "output_type": "stream",
     "text": [
      "INFO:httpx:HTTP Request: POST http://127.0.0.1:8080/embed \"HTTP/1.1 200 OK\"\n",
      "HTTP Request: POST http://127.0.0.1:8080/embed \"HTTP/1.1 200 OK\"\n",
      "HTTP Request: POST http://127.0.0.1:8080/embed \"HTTP/1.1 200 OK\"\n",
      "HTTP Request: POST http://127.0.0.1:8080/embed \"HTTP/1.1 200 OK\"\n"
     ]
    },
    {
     "name": "stderr",
     "output_type": "stream",
     "text": [
      "\r",
      "Generating embeddings:  26%|██████████████████████████████████████████████▏                                                                                                                                 | 1010/3848 [11:15<29:05,  1.63it/s]"
     ]
    },
    {
     "name": "stdout",
     "output_type": "stream",
     "text": [
      "INFO:httpx:HTTP Request: POST http://127.0.0.1:8080/embed \"HTTP/1.1 200 OK\"\n",
      "HTTP Request: POST http://127.0.0.1:8080/embed \"HTTP/1.1 200 OK\"\n",
      "HTTP Request: POST http://127.0.0.1:8080/embed \"HTTP/1.1 200 OK\"\n",
      "HTTP Request: POST http://127.0.0.1:8080/embed \"HTTP/1.1 200 OK\"\n"
     ]
    },
    {
     "name": "stderr",
     "output_type": "stream",
     "text": [
      "\r",
      "Generating embeddings:  27%|██████████████████████████████████████████████▋                                                                                                                                 | 1020/3848 [11:21<29:51,  1.58it/s]"
     ]
    },
    {
     "name": "stdout",
     "output_type": "stream",
     "text": [
      "INFO:httpx:HTTP Request: POST http://127.0.0.1:8080/embed \"HTTP/1.1 200 OK\"\n",
      "HTTP Request: POST http://127.0.0.1:8080/embed \"HTTP/1.1 200 OK\"\n",
      "HTTP Request: POST http://127.0.0.1:8080/embed \"HTTP/1.1 200 OK\"\n",
      "HTTP Request: POST http://127.0.0.1:8080/embed \"HTTP/1.1 200 OK\"\n"
     ]
    },
    {
     "name": "stderr",
     "output_type": "stream",
     "text": [
      "\r",
      "Generating embeddings:  27%|███████████████████████████████████████████████                                                                                                                                 | 1030/3848 [11:28<29:39,  1.58it/s]"
     ]
    },
    {
     "name": "stdout",
     "output_type": "stream",
     "text": [
      "INFO:httpx:HTTP Request: POST http://127.0.0.1:8080/embed \"HTTP/1.1 200 OK\"\n",
      "HTTP Request: POST http://127.0.0.1:8080/embed \"HTTP/1.1 200 OK\"\n",
      "HTTP Request: POST http://127.0.0.1:8080/embed \"HTTP/1.1 200 OK\"\n",
      "HTTP Request: POST http://127.0.0.1:8080/embed \"HTTP/1.1 200 OK\"\n"
     ]
    },
    {
     "name": "stderr",
     "output_type": "stream",
     "text": [
      "\r",
      "Generating embeddings:  27%|███████████████████████████████████████████████▌                                                                                                                                | 1040/3848 [11:34<29:37,  1.58it/s]"
     ]
    },
    {
     "name": "stdout",
     "output_type": "stream",
     "text": [
      "INFO:httpx:HTTP Request: POST http://127.0.0.1:8080/embed \"HTTP/1.1 200 OK\"\n",
      "HTTP Request: POST http://127.0.0.1:8080/embed \"HTTP/1.1 200 OK\"\n",
      "HTTP Request: POST http://127.0.0.1:8080/embed \"HTTP/1.1 200 OK\"\n",
      "HTTP Request: POST http://127.0.0.1:8080/embed \"HTTP/1.1 200 OK\"\n"
     ]
    },
    {
     "name": "stderr",
     "output_type": "stream",
     "text": [
      "\r",
      "Generating embeddings:  27%|████████████████████████████████████████████████                                                                                                                                | 1050/3848 [11:40<29:23,  1.59it/s]"
     ]
    },
    {
     "name": "stdout",
     "output_type": "stream",
     "text": [
      "INFO:httpx:HTTP Request: POST http://127.0.0.1:8080/embed \"HTTP/1.1 200 OK\"\n",
      "HTTP Request: POST http://127.0.0.1:8080/embed \"HTTP/1.1 200 OK\"\n",
      "HTTP Request: POST http://127.0.0.1:8080/embed \"HTTP/1.1 200 OK\"\n",
      "HTTP Request: POST http://127.0.0.1:8080/embed \"HTTP/1.1 200 OK\"\n"
     ]
    },
    {
     "name": "stderr",
     "output_type": "stream",
     "text": [
      "\r",
      "Generating embeddings:  28%|████████████████████████████████████████████████▍                                                                                                                               | 1060/3848 [11:46<28:46,  1.61it/s]"
     ]
    },
    {
     "name": "stdout",
     "output_type": "stream",
     "text": [
      "INFO:httpx:HTTP Request: POST http://127.0.0.1:8080/embed \"HTTP/1.1 200 OK\"\n",
      "HTTP Request: POST http://127.0.0.1:8080/embed \"HTTP/1.1 200 OK\"\n",
      "HTTP Request: POST http://127.0.0.1:8080/embed \"HTTP/1.1 200 OK\"\n",
      "HTTP Request: POST http://127.0.0.1:8080/embed \"HTTP/1.1 200 OK\"\n"
     ]
    },
    {
     "name": "stderr",
     "output_type": "stream",
     "text": [
      "\r",
      "Generating embeddings:  28%|████████████████████████████████████████████████▉                                                                                                                               | 1070/3848 [11:53<28:55,  1.60it/s]"
     ]
    },
    {
     "name": "stdout",
     "output_type": "stream",
     "text": [
      "INFO:httpx:HTTP Request: POST http://127.0.0.1:8080/embed \"HTTP/1.1 200 OK\"\n",
      "HTTP Request: POST http://127.0.0.1:8080/embed \"HTTP/1.1 200 OK\"\n",
      "HTTP Request: POST http://127.0.0.1:8080/embed \"HTTP/1.1 200 OK\"\n",
      "HTTP Request: POST http://127.0.0.1:8080/embed \"HTTP/1.1 200 OK\"\n"
     ]
    },
    {
     "name": "stderr",
     "output_type": "stream",
     "text": [
      "\r",
      "Generating embeddings:  28%|█████████████████████████████████████████████████▍                                                                                                                              | 1080/3848 [11:58<28:14,  1.63it/s]"
     ]
    },
    {
     "name": "stdout",
     "output_type": "stream",
     "text": [
      "INFO:httpx:HTTP Request: POST http://127.0.0.1:8080/embed \"HTTP/1.1 200 OK\"\n",
      "HTTP Request: POST http://127.0.0.1:8080/embed \"HTTP/1.1 200 OK\"\n",
      "HTTP Request: POST http://127.0.0.1:8080/embed \"HTTP/1.1 200 OK\"\n",
      "HTTP Request: POST http://127.0.0.1:8080/embed \"HTTP/1.1 200 OK\"\n"
     ]
    },
    {
     "name": "stderr",
     "output_type": "stream",
     "text": [
      "\r",
      "Generating embeddings:  28%|█████████████████████████████████████████████████▊                                                                                                                              | 1090/3848 [12:05<28:14,  1.63it/s]"
     ]
    },
    {
     "name": "stdout",
     "output_type": "stream",
     "text": [
      "INFO:httpx:HTTP Request: POST http://127.0.0.1:8080/embed \"HTTP/1.1 200 OK\"\n",
      "HTTP Request: POST http://127.0.0.1:8080/embed \"HTTP/1.1 200 OK\"\n",
      "HTTP Request: POST http://127.0.0.1:8080/embed \"HTTP/1.1 200 OK\"\n",
      "HTTP Request: POST http://127.0.0.1:8080/embed \"HTTP/1.1 200 OK\"\n"
     ]
    },
    {
     "name": "stderr",
     "output_type": "stream",
     "text": [
      "\r",
      "Generating embeddings:  29%|██████████████████████████████████████████████████▎                                                                                                                             | 1100/3848 [12:11<28:17,  1.62it/s]"
     ]
    },
    {
     "name": "stdout",
     "output_type": "stream",
     "text": [
      "INFO:httpx:HTTP Request: POST http://127.0.0.1:8080/embed \"HTTP/1.1 200 OK\"\n",
      "HTTP Request: POST http://127.0.0.1:8080/embed \"HTTP/1.1 200 OK\"\n",
      "HTTP Request: POST http://127.0.0.1:8080/embed \"HTTP/1.1 200 OK\"\n",
      "HTTP Request: POST http://127.0.0.1:8080/embed \"HTTP/1.1 200 OK\"\n"
     ]
    },
    {
     "name": "stderr",
     "output_type": "stream",
     "text": [
      "\r",
      "Generating embeddings:  29%|██████████████████████████████████████████████████▊                                                                                                                             | 1110/3848 [12:17<28:30,  1.60it/s]"
     ]
    },
    {
     "name": "stdout",
     "output_type": "stream",
     "text": [
      "INFO:httpx:HTTP Request: POST http://127.0.0.1:8080/embed \"HTTP/1.1 200 OK\"\n",
      "HTTP Request: POST http://127.0.0.1:8080/embed \"HTTP/1.1 200 OK\"\n",
      "HTTP Request: POST http://127.0.0.1:8080/embed \"HTTP/1.1 200 OK\"\n",
      "HTTP Request: POST http://127.0.0.1:8080/embed \"HTTP/1.1 200 OK\"\n"
     ]
    },
    {
     "name": "stderr",
     "output_type": "stream",
     "text": [
      "\r",
      "Generating embeddings:  29%|███████████████████████████████████████████████████▏                                                                                                                            | 1120/3848 [12:24<28:44,  1.58it/s]"
     ]
    },
    {
     "name": "stdout",
     "output_type": "stream",
     "text": [
      "INFO:httpx:HTTP Request: POST http://127.0.0.1:8080/embed \"HTTP/1.1 200 OK\"\n",
      "HTTP Request: POST http://127.0.0.1:8080/embed \"HTTP/1.1 200 OK\"\n",
      "HTTP Request: POST http://127.0.0.1:8080/embed \"HTTP/1.1 200 OK\"\n",
      "HTTP Request: POST http://127.0.0.1:8080/embed \"HTTP/1.1 200 OK\"\n"
     ]
    },
    {
     "name": "stderr",
     "output_type": "stream",
     "text": [
      "\r",
      "Generating embeddings:  29%|███████████████████████████████████████████████████▋                                                                                                                            | 1130/3848 [12:30<28:55,  1.57it/s]"
     ]
    },
    {
     "name": "stdout",
     "output_type": "stream",
     "text": [
      "INFO:httpx:HTTP Request: POST http://127.0.0.1:8080/embed \"HTTP/1.1 200 OK\"\n",
      "HTTP Request: POST http://127.0.0.1:8080/embed \"HTTP/1.1 200 OK\"\n",
      "HTTP Request: POST http://127.0.0.1:8080/embed \"HTTP/1.1 200 OK\"\n",
      "HTTP Request: POST http://127.0.0.1:8080/embed \"HTTP/1.1 200 OK\"\n"
     ]
    },
    {
     "name": "stderr",
     "output_type": "stream",
     "text": [
      "\r",
      "Generating embeddings:  30%|████████████████████████████████████████████████████▏                                                                                                                           | 1140/3848 [12:36<28:38,  1.58it/s]"
     ]
    },
    {
     "name": "stdout",
     "output_type": "stream",
     "text": [
      "INFO:httpx:HTTP Request: POST http://127.0.0.1:8080/embed \"HTTP/1.1 200 OK\"\n",
      "HTTP Request: POST http://127.0.0.1:8080/embed \"HTTP/1.1 200 OK\"\n",
      "HTTP Request: POST http://127.0.0.1:8080/embed \"HTTP/1.1 200 OK\"\n",
      "HTTP Request: POST http://127.0.0.1:8080/embed \"HTTP/1.1 200 OK\"\n"
     ]
    },
    {
     "name": "stderr",
     "output_type": "stream",
     "text": [
      "\r",
      "Generating embeddings:  30%|████████████████████████████████████████████████████▌                                                                                                                           | 1150/3848 [12:43<29:03,  1.55it/s]"
     ]
    },
    {
     "name": "stdout",
     "output_type": "stream",
     "text": [
      "INFO:httpx:HTTP Request: POST http://127.0.0.1:8080/embed \"HTTP/1.1 200 OK\"\n",
      "HTTP Request: POST http://127.0.0.1:8080/embed \"HTTP/1.1 200 OK\"\n",
      "HTTP Request: POST http://127.0.0.1:8080/embed \"HTTP/1.1 200 OK\"\n",
      "HTTP Request: POST http://127.0.0.1:8080/embed \"HTTP/1.1 200 OK\"\n"
     ]
    },
    {
     "name": "stderr",
     "output_type": "stream",
     "text": [
      "\r",
      "Generating embeddings:  30%|█████████████████████████████████████████████████████                                                                                                                           | 1160/3848 [12:50<29:33,  1.52it/s]"
     ]
    },
    {
     "name": "stdout",
     "output_type": "stream",
     "text": [
      "INFO:httpx:HTTP Request: POST http://127.0.0.1:8080/embed \"HTTP/1.1 200 OK\"\n",
      "HTTP Request: POST http://127.0.0.1:8080/embed \"HTTP/1.1 200 OK\"\n",
      "HTTP Request: POST http://127.0.0.1:8080/embed \"HTTP/1.1 200 OK\"\n",
      "HTTP Request: POST http://127.0.0.1:8080/embed \"HTTP/1.1 200 OK\"\n"
     ]
    },
    {
     "name": "stderr",
     "output_type": "stream",
     "text": [
      "\r",
      "Generating embeddings:  30%|█████████████████████████████████████████████████████▌                                                                                                                          | 1170/3848 [12:56<28:44,  1.55it/s]"
     ]
    },
    {
     "name": "stdout",
     "output_type": "stream",
     "text": [
      "INFO:httpx:HTTP Request: POST http://127.0.0.1:8080/embed \"HTTP/1.1 200 OK\"\n",
      "HTTP Request: POST http://127.0.0.1:8080/embed \"HTTP/1.1 200 OK\"\n",
      "HTTP Request: POST http://127.0.0.1:8080/embed \"HTTP/1.1 200 OK\"\n",
      "HTTP Request: POST http://127.0.0.1:8080/embed \"HTTP/1.1 200 OK\"\n"
     ]
    },
    {
     "name": "stderr",
     "output_type": "stream",
     "text": [
      "\r",
      "Generating embeddings:  31%|█████████████████████████████████████████████████████▉                                                                                                                          | 1180/3848 [13:02<28:08,  1.58it/s]"
     ]
    },
    {
     "name": "stdout",
     "output_type": "stream",
     "text": [
      "INFO:httpx:HTTP Request: POST http://127.0.0.1:8080/embed \"HTTP/1.1 200 OK\"\n",
      "HTTP Request: POST http://127.0.0.1:8080/embed \"HTTP/1.1 200 OK\"\n",
      "HTTP Request: POST http://127.0.0.1:8080/embed \"HTTP/1.1 200 OK\"\n",
      "HTTP Request: POST http://127.0.0.1:8080/embed \"HTTP/1.1 200 OK\"\n"
     ]
    },
    {
     "name": "stderr",
     "output_type": "stream",
     "text": [
      "\r",
      "Generating embeddings:  31%|██████████████████████████████████████████████████████▍                                                                                                                         | 1190/3848 [13:08<26:47,  1.65it/s]"
     ]
    },
    {
     "name": "stdout",
     "output_type": "stream",
     "text": [
      "INFO:httpx:HTTP Request: POST http://127.0.0.1:8080/embed \"HTTP/1.1 200 OK\"\n",
      "HTTP Request: POST http://127.0.0.1:8080/embed \"HTTP/1.1 200 OK\"\n",
      "HTTP Request: POST http://127.0.0.1:8080/embed \"HTTP/1.1 200 OK\"\n",
      "HTTP Request: POST http://127.0.0.1:8080/embed \"HTTP/1.1 200 OK\"\n"
     ]
    },
    {
     "name": "stderr",
     "output_type": "stream",
     "text": [
      "\r",
      "Generating embeddings:  31%|██████████████████████████████████████████████████████▉                                                                                                                         | 1200/3848 [13:14<26:38,  1.66it/s]"
     ]
    },
    {
     "name": "stdout",
     "output_type": "stream",
     "text": [
      "INFO:httpx:HTTP Request: POST http://127.0.0.1:8080/embed \"HTTP/1.1 200 OK\"\n",
      "HTTP Request: POST http://127.0.0.1:8080/embed \"HTTP/1.1 200 OK\"\n",
      "HTTP Request: POST http://127.0.0.1:8080/embed \"HTTP/1.1 200 OK\"\n",
      "HTTP Request: POST http://127.0.0.1:8080/embed \"HTTP/1.1 200 OK\"\n"
     ]
    },
    {
     "name": "stderr",
     "output_type": "stream",
     "text": [
      "\r",
      "Generating embeddings:  31%|███████████████████████████████████████████████████████▎                                                                                                                        | 1210/3848 [13:20<27:20,  1.61it/s]"
     ]
    },
    {
     "name": "stdout",
     "output_type": "stream",
     "text": [
      "INFO:httpx:HTTP Request: POST http://127.0.0.1:8080/embed \"HTTP/1.1 200 OK\"\n",
      "HTTP Request: POST http://127.0.0.1:8080/embed \"HTTP/1.1 200 OK\"\n",
      "HTTP Request: POST http://127.0.0.1:8080/embed \"HTTP/1.1 200 OK\"\n",
      "HTTP Request: POST http://127.0.0.1:8080/embed \"HTTP/1.1 200 OK\"\n"
     ]
    },
    {
     "name": "stderr",
     "output_type": "stream",
     "text": [
      "\r",
      "Generating embeddings:  32%|███████████████████████████████████████████████████████▊                                                                                                                        | 1220/3848 [13:27<27:27,  1.59it/s]"
     ]
    },
    {
     "name": "stdout",
     "output_type": "stream",
     "text": [
      "INFO:httpx:HTTP Request: POST http://127.0.0.1:8080/embed \"HTTP/1.1 200 OK\"\n",
      "HTTP Request: POST http://127.0.0.1:8080/embed \"HTTP/1.1 200 OK\"\n",
      "HTTP Request: POST http://127.0.0.1:8080/embed \"HTTP/1.1 200 OK\"\n",
      "HTTP Request: POST http://127.0.0.1:8080/embed \"HTTP/1.1 200 OK\"\n"
     ]
    },
    {
     "name": "stderr",
     "output_type": "stream",
     "text": [
      "\r",
      "Generating embeddings:  32%|████████████████████████████████████████████████████████▎                                                                                                                       | 1230/3848 [13:33<27:41,  1.58it/s]"
     ]
    },
    {
     "name": "stdout",
     "output_type": "stream",
     "text": [
      "INFO:httpx:HTTP Request: POST http://127.0.0.1:8080/embed \"HTTP/1.1 200 OK\"\n",
      "HTTP Request: POST http://127.0.0.1:8080/embed \"HTTP/1.1 200 OK\"\n",
      "HTTP Request: POST http://127.0.0.1:8080/embed \"HTTP/1.1 200 OK\"\n",
      "HTTP Request: POST http://127.0.0.1:8080/embed \"HTTP/1.1 200 OK\"\n"
     ]
    },
    {
     "name": "stderr",
     "output_type": "stream",
     "text": [
      "\r",
      "Generating embeddings:  32%|████████████████████████████████████████████████████████▋                                                                                                                       | 1240/3848 [13:40<28:21,  1.53it/s]"
     ]
    },
    {
     "name": "stdout",
     "output_type": "stream",
     "text": [
      "INFO:httpx:HTTP Request: POST http://127.0.0.1:8080/embed \"HTTP/1.1 200 OK\"\n",
      "HTTP Request: POST http://127.0.0.1:8080/embed \"HTTP/1.1 200 OK\"\n",
      "HTTP Request: POST http://127.0.0.1:8080/embed \"HTTP/1.1 200 OK\"\n",
      "HTTP Request: POST http://127.0.0.1:8080/embed \"HTTP/1.1 200 OK\"\n"
     ]
    },
    {
     "name": "stderr",
     "output_type": "stream",
     "text": [
      "\r",
      "Generating embeddings:  32%|█████████████████████████████████████████████████████████▏                                                                                                                      | 1250/3848 [13:47<28:18,  1.53it/s]"
     ]
    },
    {
     "name": "stdout",
     "output_type": "stream",
     "text": [
      "INFO:httpx:HTTP Request: POST http://127.0.0.1:8080/embed \"HTTP/1.1 200 OK\"\n",
      "HTTP Request: POST http://127.0.0.1:8080/embed \"HTTP/1.1 200 OK\"\n",
      "HTTP Request: POST http://127.0.0.1:8080/embed \"HTTP/1.1 200 OK\"\n",
      "HTTP Request: POST http://127.0.0.1:8080/embed \"HTTP/1.1 200 OK\"\n"
     ]
    },
    {
     "name": "stderr",
     "output_type": "stream",
     "text": [
      "\r",
      "Generating embeddings:  33%|█████████████████████████████████████████████████████████▋                                                                                                                      | 1260/3848 [13:53<28:01,  1.54it/s]"
     ]
    },
    {
     "name": "stdout",
     "output_type": "stream",
     "text": [
      "INFO:httpx:HTTP Request: POST http://127.0.0.1:8080/embed \"HTTP/1.1 200 OK\"\n",
      "HTTP Request: POST http://127.0.0.1:8080/embed \"HTTP/1.1 200 OK\"\n",
      "HTTP Request: POST http://127.0.0.1:8080/embed \"HTTP/1.1 200 OK\"\n",
      "HTTP Request: POST http://127.0.0.1:8080/embed \"HTTP/1.1 200 OK\"\n"
     ]
    },
    {
     "name": "stderr",
     "output_type": "stream",
     "text": [
      "\r",
      "Generating embeddings:  33%|██████████████████████████████████████████████████████████                                                                                                                      | 1270/3848 [13:59<27:42,  1.55it/s]"
     ]
    },
    {
     "name": "stdout",
     "output_type": "stream",
     "text": [
      "INFO:httpx:HTTP Request: POST http://127.0.0.1:8080/embed \"HTTP/1.1 200 OK\"\n",
      "HTTP Request: POST http://127.0.0.1:8080/embed \"HTTP/1.1 200 OK\"\n",
      "HTTP Request: POST http://127.0.0.1:8080/embed \"HTTP/1.1 200 OK\"\n",
      "HTTP Request: POST http://127.0.0.1:8080/embed \"HTTP/1.1 200 OK\"\n"
     ]
    },
    {
     "name": "stderr",
     "output_type": "stream",
     "text": [
      "\r",
      "Generating embeddings:  33%|██████████████████████████████████████████████████████████▌                                                                                                                     | 1280/3848 [14:05<26:43,  1.60it/s]"
     ]
    },
    {
     "name": "stdout",
     "output_type": "stream",
     "text": [
      "INFO:httpx:HTTP Request: POST http://127.0.0.1:8080/embed \"HTTP/1.1 200 OK\"\n",
      "HTTP Request: POST http://127.0.0.1:8080/embed \"HTTP/1.1 200 OK\"\n",
      "HTTP Request: POST http://127.0.0.1:8080/embed \"HTTP/1.1 200 OK\"\n",
      "HTTP Request: POST http://127.0.0.1:8080/embed \"HTTP/1.1 200 OK\"\n"
     ]
    },
    {
     "name": "stderr",
     "output_type": "stream",
     "text": [
      "\r",
      "Generating embeddings:  34%|███████████████████████████████████████████████████████████                                                                                                                     | 1290/3848 [14:12<26:47,  1.59it/s]"
     ]
    },
    {
     "name": "stdout",
     "output_type": "stream",
     "text": [
      "INFO:httpx:HTTP Request: POST http://127.0.0.1:8080/embed \"HTTP/1.1 200 OK\"\n",
      "HTTP Request: POST http://127.0.0.1:8080/embed \"HTTP/1.1 200 OK\"\n",
      "HTTP Request: POST http://127.0.0.1:8080/embed \"HTTP/1.1 200 OK\"\n",
      "HTTP Request: POST http://127.0.0.1:8080/embed \"HTTP/1.1 200 OK\"\n"
     ]
    },
    {
     "name": "stderr",
     "output_type": "stream",
     "text": [
      "\r",
      "Generating embeddings:  34%|███████████████████████████████████████████████████████████▍                                                                                                                    | 1300/3848 [14:19<27:44,  1.53it/s]"
     ]
    },
    {
     "name": "stdout",
     "output_type": "stream",
     "text": [
      "INFO:httpx:HTTP Request: POST http://127.0.0.1:8080/embed \"HTTP/1.1 200 OK\"\n",
      "HTTP Request: POST http://127.0.0.1:8080/embed \"HTTP/1.1 200 OK\"\n",
      "HTTP Request: POST http://127.0.0.1:8080/embed \"HTTP/1.1 200 OK\"\n",
      "HTTP Request: POST http://127.0.0.1:8080/embed \"HTTP/1.1 200 OK\"\n"
     ]
    },
    {
     "name": "stderr",
     "output_type": "stream",
     "text": [
      "\r",
      "Generating embeddings:  34%|███████████████████████████████████████████████████████████▉                                                                                                                    | 1310/3848 [14:25<26:46,  1.58it/s]"
     ]
    },
    {
     "name": "stdout",
     "output_type": "stream",
     "text": [
      "INFO:httpx:HTTP Request: POST http://127.0.0.1:8080/embed \"HTTP/1.1 200 OK\"\n",
      "HTTP Request: POST http://127.0.0.1:8080/embed \"HTTP/1.1 200 OK\"\n",
      "HTTP Request: POST http://127.0.0.1:8080/embed \"HTTP/1.1 200 OK\"\n",
      "HTTP Request: POST http://127.0.0.1:8080/embed \"HTTP/1.1 200 OK\"\n"
     ]
    },
    {
     "name": "stderr",
     "output_type": "stream",
     "text": [
      "\r",
      "Generating embeddings:  34%|████████████████████████████████████████████████████████████▎                                                                                                                   | 1320/3848 [14:30<25:46,  1.63it/s]"
     ]
    },
    {
     "name": "stdout",
     "output_type": "stream",
     "text": [
      "INFO:httpx:HTTP Request: POST http://127.0.0.1:8080/embed \"HTTP/1.1 200 OK\"\n",
      "HTTP Request: POST http://127.0.0.1:8080/embed \"HTTP/1.1 200 OK\"\n",
      "HTTP Request: POST http://127.0.0.1:8080/embed \"HTTP/1.1 200 OK\"\n",
      "HTTP Request: POST http://127.0.0.1:8080/embed \"HTTP/1.1 200 OK\"\n"
     ]
    },
    {
     "name": "stderr",
     "output_type": "stream",
     "text": [
      "\r",
      "Generating embeddings:  35%|████████████████████████████████████████████████████████████▊                                                                                                                   | 1330/3848 [14:37<26:06,  1.61it/s]"
     ]
    },
    {
     "name": "stdout",
     "output_type": "stream",
     "text": [
      "INFO:httpx:HTTP Request: POST http://127.0.0.1:8080/embed \"HTTP/1.1 200 OK\"\n",
      "HTTP Request: POST http://127.0.0.1:8080/embed \"HTTP/1.1 200 OK\"\n",
      "HTTP Request: POST http://127.0.0.1:8080/embed \"HTTP/1.1 200 OK\"\n",
      "HTTP Request: POST http://127.0.0.1:8080/embed \"HTTP/1.1 200 OK\"\n"
     ]
    },
    {
     "name": "stderr",
     "output_type": "stream",
     "text": [
      "\r",
      "Generating embeddings:  35%|█████████████████████████████████████████████████████████████▎                                                                                                                  | 1340/3848 [14:43<26:27,  1.58it/s]"
     ]
    },
    {
     "name": "stdout",
     "output_type": "stream",
     "text": [
      "INFO:httpx:HTTP Request: POST http://127.0.0.1:8080/embed \"HTTP/1.1 200 OK\"\n",
      "HTTP Request: POST http://127.0.0.1:8080/embed \"HTTP/1.1 200 OK\"\n",
      "HTTP Request: POST http://127.0.0.1:8080/embed \"HTTP/1.1 200 OK\"\n",
      "HTTP Request: POST http://127.0.0.1:8080/embed \"HTTP/1.1 200 OK\"\n"
     ]
    },
    {
     "name": "stderr",
     "output_type": "stream",
     "text": [
      "\r",
      "Generating embeddings:  35%|█████████████████████████████████████████████████████████████▋                                                                                                                  | 1350/3848 [14:49<26:06,  1.59it/s]"
     ]
    },
    {
     "name": "stdout",
     "output_type": "stream",
     "text": [
      "INFO:httpx:HTTP Request: POST http://127.0.0.1:8080/embed \"HTTP/1.1 200 OK\"\n",
      "HTTP Request: POST http://127.0.0.1:8080/embed \"HTTP/1.1 200 OK\"\n",
      "HTTP Request: POST http://127.0.0.1:8080/embed \"HTTP/1.1 200 OK\"\n",
      "HTTP Request: POST http://127.0.0.1:8080/embed \"HTTP/1.1 200 OK\"\n"
     ]
    },
    {
     "name": "stderr",
     "output_type": "stream",
     "text": [
      "\r",
      "Generating embeddings:  35%|██████████████████████████████████████████████████████████████▏                                                                                                                 | 1360/3848 [14:56<26:24,  1.57it/s]"
     ]
    },
    {
     "name": "stdout",
     "output_type": "stream",
     "text": [
      "INFO:httpx:HTTP Request: POST http://127.0.0.1:8080/embed \"HTTP/1.1 200 OK\"\n",
      "HTTP Request: POST http://127.0.0.1:8080/embed \"HTTP/1.1 200 OK\"\n",
      "HTTP Request: POST http://127.0.0.1:8080/embed \"HTTP/1.1 200 OK\"\n",
      "HTTP Request: POST http://127.0.0.1:8080/embed \"HTTP/1.1 200 OK\"\n"
     ]
    },
    {
     "name": "stderr",
     "output_type": "stream",
     "text": [
      "\r",
      "Generating embeddings:  36%|██████████████████████████████████████████████████████████████▋                                                                                                                 | 1370/3848 [15:03<27:06,  1.52it/s]"
     ]
    },
    {
     "name": "stdout",
     "output_type": "stream",
     "text": [
      "INFO:httpx:HTTP Request: POST http://127.0.0.1:8080/embed \"HTTP/1.1 200 OK\"\n",
      "HTTP Request: POST http://127.0.0.1:8080/embed \"HTTP/1.1 200 OK\"\n",
      "HTTP Request: POST http://127.0.0.1:8080/embed \"HTTP/1.1 200 OK\"\n",
      "HTTP Request: POST http://127.0.0.1:8080/embed \"HTTP/1.1 200 OK\"\n"
     ]
    },
    {
     "name": "stderr",
     "output_type": "stream",
     "text": [
      "\r",
      "Generating embeddings:  36%|███████████████████████████████████████████████████████████████                                                                                                                 | 1380/3848 [15:10<27:18,  1.51it/s]"
     ]
    },
    {
     "name": "stdout",
     "output_type": "stream",
     "text": [
      "INFO:httpx:HTTP Request: POST http://127.0.0.1:8080/embed \"HTTP/1.1 200 OK\"\n",
      "HTTP Request: POST http://127.0.0.1:8080/embed \"HTTP/1.1 200 OK\"\n",
      "HTTP Request: POST http://127.0.0.1:8080/embed \"HTTP/1.1 200 OK\"\n",
      "HTTP Request: POST http://127.0.0.1:8080/embed \"HTTP/1.1 200 OK\"\n"
     ]
    },
    {
     "name": "stderr",
     "output_type": "stream",
     "text": [
      "\r",
      "Generating embeddings:  36%|███████████████████████████████████████████████████████████████▌                                                                                                                | 1390/3848 [15:17<27:35,  1.49it/s]"
     ]
    },
    {
     "name": "stdout",
     "output_type": "stream",
     "text": [
      "INFO:httpx:HTTP Request: POST http://127.0.0.1:8080/embed \"HTTP/1.1 200 OK\"\n",
      "HTTP Request: POST http://127.0.0.1:8080/embed \"HTTP/1.1 200 OK\"\n",
      "HTTP Request: POST http://127.0.0.1:8080/embed \"HTTP/1.1 200 OK\"\n",
      "HTTP Request: POST http://127.0.0.1:8080/embed \"HTTP/1.1 200 OK\"\n"
     ]
    },
    {
     "name": "stderr",
     "output_type": "stream",
     "text": [
      "\r",
      "Generating embeddings:  36%|████████████████████████████████████████████████████████████████                                                                                                                | 1400/3848 [15:24<27:32,  1.48it/s]"
     ]
    },
    {
     "name": "stdout",
     "output_type": "stream",
     "text": [
      "INFO:httpx:HTTP Request: POST http://127.0.0.1:8080/embed \"HTTP/1.1 200 OK\"\n",
      "HTTP Request: POST http://127.0.0.1:8080/embed \"HTTP/1.1 200 OK\"\n",
      "HTTP Request: POST http://127.0.0.1:8080/embed \"HTTP/1.1 200 OK\"\n",
      "HTTP Request: POST http://127.0.0.1:8080/embed \"HTTP/1.1 200 OK\"\n"
     ]
    },
    {
     "name": "stderr",
     "output_type": "stream",
     "text": [
      "\r",
      "Generating embeddings:  37%|████████████████████████████████████████████████████████████████▍                                                                                                               | 1410/3848 [15:30<26:44,  1.52it/s]"
     ]
    },
    {
     "name": "stdout",
     "output_type": "stream",
     "text": [
      "INFO:httpx:HTTP Request: POST http://127.0.0.1:8080/embed \"HTTP/1.1 200 OK\"\n",
      "HTTP Request: POST http://127.0.0.1:8080/embed \"HTTP/1.1 200 OK\"\n",
      "HTTP Request: POST http://127.0.0.1:8080/embed \"HTTP/1.1 200 OK\"\n",
      "HTTP Request: POST http://127.0.0.1:8080/embed \"HTTP/1.1 200 OK\"\n"
     ]
    },
    {
     "name": "stderr",
     "output_type": "stream",
     "text": [
      "\r",
      "Generating embeddings:  37%|████████████████████████████████████████████████████████████████▉                                                                                                               | 1420/3848 [15:37<27:53,  1.45it/s]"
     ]
    },
    {
     "name": "stdout",
     "output_type": "stream",
     "text": [
      "INFO:httpx:HTTP Request: POST http://127.0.0.1:8080/embed \"HTTP/1.1 200 OK\"\n",
      "HTTP Request: POST http://127.0.0.1:8080/embed \"HTTP/1.1 200 OK\"\n",
      "HTTP Request: POST http://127.0.0.1:8080/embed \"HTTP/1.1 200 OK\"\n",
      "HTTP Request: POST http://127.0.0.1:8080/embed \"HTTP/1.1 200 OK\"\n"
     ]
    },
    {
     "name": "stderr",
     "output_type": "stream",
     "text": [
      "\r",
      "Generating embeddings:  37%|█████████████████████████████████████████████████████████████████▍                                                                                                              | 1430/3848 [15:44<27:32,  1.46it/s]"
     ]
    },
    {
     "name": "stdout",
     "output_type": "stream",
     "text": [
      "INFO:httpx:HTTP Request: POST http://127.0.0.1:8080/embed \"HTTP/1.1 200 OK\"\n",
      "HTTP Request: POST http://127.0.0.1:8080/embed \"HTTP/1.1 200 OK\"\n",
      "HTTP Request: POST http://127.0.0.1:8080/embed \"HTTP/1.1 200 OK\"\n",
      "HTTP Request: POST http://127.0.0.1:8080/embed \"HTTP/1.1 200 OK\"\n"
     ]
    },
    {
     "name": "stderr",
     "output_type": "stream",
     "text": [
      "\r",
      "Generating embeddings:  37%|█████████████████████████████████████████████████████████████████▊                                                                                                              | 1440/3848 [15:51<27:27,  1.46it/s]"
     ]
    },
    {
     "name": "stdout",
     "output_type": "stream",
     "text": [
      "INFO:httpx:HTTP Request: POST http://127.0.0.1:8080/embed \"HTTP/1.1 200 OK\"\n",
      "HTTP Request: POST http://127.0.0.1:8080/embed \"HTTP/1.1 200 OK\"\n",
      "HTTP Request: POST http://127.0.0.1:8080/embed \"HTTP/1.1 200 OK\"\n",
      "HTTP Request: POST http://127.0.0.1:8080/embed \"HTTP/1.1 200 OK\"\n"
     ]
    },
    {
     "name": "stderr",
     "output_type": "stream",
     "text": [
      "\r",
      "Generating embeddings:  38%|██████████████████████████████████████████████████████████████████▎                                                                                                             | 1450/3848 [15:57<26:40,  1.50it/s]"
     ]
    },
    {
     "name": "stdout",
     "output_type": "stream",
     "text": [
      "INFO:httpx:HTTP Request: POST http://127.0.0.1:8080/embed \"HTTP/1.1 200 OK\"\n",
      "HTTP Request: POST http://127.0.0.1:8080/embed \"HTTP/1.1 200 OK\"\n",
      "HTTP Request: POST http://127.0.0.1:8080/embed \"HTTP/1.1 200 OK\"\n",
      "HTTP Request: POST http://127.0.0.1:8080/embed \"HTTP/1.1 200 OK\"\n"
     ]
    },
    {
     "name": "stderr",
     "output_type": "stream",
     "text": [
      "\r",
      "Generating embeddings:  38%|██████████████████████████████████████████████████████████████████▊                                                                                                             | 1460/3848 [16:04<26:36,  1.50it/s]"
     ]
    },
    {
     "name": "stdout",
     "output_type": "stream",
     "text": [
      "INFO:httpx:HTTP Request: POST http://127.0.0.1:8080/embed \"HTTP/1.1 200 OK\"\n",
      "HTTP Request: POST http://127.0.0.1:8080/embed \"HTTP/1.1 200 OK\"\n",
      "HTTP Request: POST http://127.0.0.1:8080/embed \"HTTP/1.1 200 OK\"\n",
      "HTTP Request: POST http://127.0.0.1:8080/embed \"HTTP/1.1 200 OK\"\n"
     ]
    },
    {
     "name": "stderr",
     "output_type": "stream",
     "text": [
      "\r",
      "Generating embeddings:  38%|███████████████████████████████████████████████████████████████████▏                                                                                                            | 1470/3848 [16:11<26:31,  1.49it/s]"
     ]
    },
    {
     "name": "stdout",
     "output_type": "stream",
     "text": [
      "INFO:httpx:HTTP Request: POST http://127.0.0.1:8080/embed \"HTTP/1.1 200 OK\"\n",
      "HTTP Request: POST http://127.0.0.1:8080/embed \"HTTP/1.1 200 OK\"\n",
      "HTTP Request: POST http://127.0.0.1:8080/embed \"HTTP/1.1 200 OK\"\n",
      "HTTP Request: POST http://127.0.0.1:8080/embed \"HTTP/1.1 200 OK\"\n"
     ]
    },
    {
     "name": "stderr",
     "output_type": "stream",
     "text": [
      "\r",
      "Generating embeddings:  38%|███████████████████████████████████████████████████████████████████▋                                                                                                            | 1480/3848 [16:17<26:24,  1.49it/s]"
     ]
    },
    {
     "name": "stdout",
     "output_type": "stream",
     "text": [
      "INFO:httpx:HTTP Request: POST http://127.0.0.1:8080/embed \"HTTP/1.1 200 OK\"\n",
      "HTTP Request: POST http://127.0.0.1:8080/embed \"HTTP/1.1 200 OK\"\n",
      "HTTP Request: POST http://127.0.0.1:8080/embed \"HTTP/1.1 200 OK\"\n",
      "HTTP Request: POST http://127.0.0.1:8080/embed \"HTTP/1.1 200 OK\"\n"
     ]
    },
    {
     "name": "stderr",
     "output_type": "stream",
     "text": [
      "\r",
      "Generating embeddings:  39%|████████████████████████████████████████████████████████████████████▏                                                                                                           | 1490/3848 [16:25<27:28,  1.43it/s]"
     ]
    },
    {
     "name": "stdout",
     "output_type": "stream",
     "text": [
      "INFO:httpx:HTTP Request: POST http://127.0.0.1:8080/embed \"HTTP/1.1 200 OK\"\n",
      "HTTP Request: POST http://127.0.0.1:8080/embed \"HTTP/1.1 200 OK\"\n",
      "HTTP Request: POST http://127.0.0.1:8080/embed \"HTTP/1.1 200 OK\"\n",
      "HTTP Request: POST http://127.0.0.1:8080/embed \"HTTP/1.1 200 OK\"\n"
     ]
    },
    {
     "name": "stderr",
     "output_type": "stream",
     "text": [
      "\r",
      "Generating embeddings:  39%|████████████████████████████████████████████████████████████████████▌                                                                                                           | 1500/3848 [16:31<26:28,  1.48it/s]"
     ]
    },
    {
     "name": "stdout",
     "output_type": "stream",
     "text": [
      "INFO:httpx:HTTP Request: POST http://127.0.0.1:8080/embed \"HTTP/1.1 200 OK\"\n",
      "HTTP Request: POST http://127.0.0.1:8080/embed \"HTTP/1.1 200 OK\"\n",
      "HTTP Request: POST http://127.0.0.1:8080/embed \"HTTP/1.1 200 OK\"\n",
      "HTTP Request: POST http://127.0.0.1:8080/embed \"HTTP/1.1 200 OK\"\n"
     ]
    },
    {
     "name": "stderr",
     "output_type": "stream",
     "text": [
      "\r",
      "Generating embeddings:  39%|█████████████████████████████████████████████████████████████████████                                                                                                           | 1510/3848 [16:38<26:15,  1.48it/s]"
     ]
    },
    {
     "name": "stdout",
     "output_type": "stream",
     "text": [
      "INFO:httpx:HTTP Request: POST http://127.0.0.1:8080/embed \"HTTP/1.1 200 OK\"\n",
      "HTTP Request: POST http://127.0.0.1:8080/embed \"HTTP/1.1 200 OK\"\n",
      "HTTP Request: POST http://127.0.0.1:8080/embed \"HTTP/1.1 200 OK\"\n",
      "HTTP Request: POST http://127.0.0.1:8080/embed \"HTTP/1.1 200 OK\"\n"
     ]
    },
    {
     "name": "stderr",
     "output_type": "stream",
     "text": [
      "\r",
      "Generating embeddings:  40%|█████████████████████████████████████████████████████████████████████▌                                                                                                          | 1520/3848 [16:44<25:48,  1.50it/s]"
     ]
    },
    {
     "name": "stdout",
     "output_type": "stream",
     "text": [
      "INFO:httpx:HTTP Request: POST http://127.0.0.1:8080/embed \"HTTP/1.1 200 OK\"\n",
      "HTTP Request: POST http://127.0.0.1:8080/embed \"HTTP/1.1 200 OK\"\n",
      "HTTP Request: POST http://127.0.0.1:8080/embed \"HTTP/1.1 200 OK\"\n",
      "HTTP Request: POST http://127.0.0.1:8080/embed \"HTTP/1.1 200 OK\"\n"
     ]
    },
    {
     "name": "stderr",
     "output_type": "stream",
     "text": [
      "\r",
      "Generating embeddings:  40%|█████████████████████████████████████████████████████████████████████▉                                                                                                          | 1530/3848 [16:51<26:08,  1.48it/s]"
     ]
    },
    {
     "name": "stdout",
     "output_type": "stream",
     "text": [
      "INFO:httpx:HTTP Request: POST http://127.0.0.1:8080/embed \"HTTP/1.1 200 OK\"\n",
      "HTTP Request: POST http://127.0.0.1:8080/embed \"HTTP/1.1 200 OK\"\n",
      "HTTP Request: POST http://127.0.0.1:8080/embed \"HTTP/1.1 200 OK\"\n",
      "HTTP Request: POST http://127.0.0.1:8080/embed \"HTTP/1.1 200 OK\"\n"
     ]
    },
    {
     "name": "stderr",
     "output_type": "stream",
     "text": [
      "\r",
      "Generating embeddings:  40%|██████████████████████████████████████████████████████████████████████▍                                                                                                         | 1540/3848 [16:58<25:58,  1.48it/s]"
     ]
    },
    {
     "name": "stdout",
     "output_type": "stream",
     "text": [
      "INFO:httpx:HTTP Request: POST http://127.0.0.1:8080/embed \"HTTP/1.1 200 OK\"\n",
      "HTTP Request: POST http://127.0.0.1:8080/embed \"HTTP/1.1 200 OK\"\n",
      "HTTP Request: POST http://127.0.0.1:8080/embed \"HTTP/1.1 200 OK\"\n",
      "HTTP Request: POST http://127.0.0.1:8080/embed \"HTTP/1.1 200 OK\"\n"
     ]
    },
    {
     "name": "stderr",
     "output_type": "stream",
     "text": [
      "\r",
      "Generating embeddings:  40%|██████████████████████████████████████████████████████████████████████▉                                                                                                         | 1550/3848 [17:05<26:01,  1.47it/s]"
     ]
    },
    {
     "name": "stdout",
     "output_type": "stream",
     "text": [
      "INFO:httpx:HTTP Request: POST http://127.0.0.1:8080/embed \"HTTP/1.1 200 OK\"\n",
      "HTTP Request: POST http://127.0.0.1:8080/embed \"HTTP/1.1 200 OK\"\n",
      "HTTP Request: POST http://127.0.0.1:8080/embed \"HTTP/1.1 200 OK\"\n",
      "HTTP Request: POST http://127.0.0.1:8080/embed \"HTTP/1.1 200 OK\"\n"
     ]
    },
    {
     "name": "stderr",
     "output_type": "stream",
     "text": [
      "\r",
      "Generating embeddings:  41%|███████████████████████████████████████████████████████████████████████▎                                                                                                        | 1560/3848 [17:12<26:29,  1.44it/s]"
     ]
    },
    {
     "name": "stdout",
     "output_type": "stream",
     "text": [
      "INFO:httpx:HTTP Request: POST http://127.0.0.1:8080/embed \"HTTP/1.1 200 OK\"\n",
      "HTTP Request: POST http://127.0.0.1:8080/embed \"HTTP/1.1 200 OK\"\n",
      "HTTP Request: POST http://127.0.0.1:8080/embed \"HTTP/1.1 200 OK\"\n",
      "HTTP Request: POST http://127.0.0.1:8080/embed \"HTTP/1.1 200 OK\"\n"
     ]
    },
    {
     "name": "stderr",
     "output_type": "stream",
     "text": [
      "\r",
      "Generating embeddings:  41%|███████████████████████████████████████████████████████████████████████▊                                                                                                        | 1570/3848 [17:20<27:02,  1.40it/s]"
     ]
    },
    {
     "name": "stdout",
     "output_type": "stream",
     "text": [
      "INFO:httpx:HTTP Request: POST http://127.0.0.1:8080/embed \"HTTP/1.1 200 OK\"\n",
      "HTTP Request: POST http://127.0.0.1:8080/embed \"HTTP/1.1 200 OK\"\n",
      "HTTP Request: POST http://127.0.0.1:8080/embed \"HTTP/1.1 200 OK\"\n",
      "HTTP Request: POST http://127.0.0.1:8080/embed \"HTTP/1.1 200 OK\"\n"
     ]
    },
    {
     "name": "stderr",
     "output_type": "stream",
     "text": [
      "\r",
      "Generating embeddings:  41%|████████████████████████████████████████████████████████████████████████▎                                                                                                       | 1580/3848 [17:27<26:52,  1.41it/s]"
     ]
    },
    {
     "name": "stdout",
     "output_type": "stream",
     "text": [
      "INFO:httpx:HTTP Request: POST http://127.0.0.1:8080/embed \"HTTP/1.1 200 OK\"\n",
      "HTTP Request: POST http://127.0.0.1:8080/embed \"HTTP/1.1 200 OK\"\n",
      "HTTP Request: POST http://127.0.0.1:8080/embed \"HTTP/1.1 200 OK\"\n",
      "HTTP Request: POST http://127.0.0.1:8080/embed \"HTTP/1.1 200 OK\"\n"
     ]
    },
    {
     "name": "stderr",
     "output_type": "stream",
     "text": [
      "\r",
      "Generating embeddings:  41%|████████████████████████████████████████████████████████████████████████▋                                                                                                       | 1590/3848 [17:35<27:19,  1.38it/s]"
     ]
    },
    {
     "name": "stdout",
     "output_type": "stream",
     "text": [
      "INFO:httpx:HTTP Request: POST http://127.0.0.1:8080/embed \"HTTP/1.1 200 OK\"\n",
      "HTTP Request: POST http://127.0.0.1:8080/embed \"HTTP/1.1 200 OK\"\n",
      "HTTP Request: POST http://127.0.0.1:8080/embed \"HTTP/1.1 200 OK\"\n",
      "HTTP Request: POST http://127.0.0.1:8080/embed \"HTTP/1.1 200 OK\"\n"
     ]
    },
    {
     "name": "stderr",
     "output_type": "stream",
     "text": [
      "\r",
      "Generating embeddings:  42%|█████████████████████████████████████████████████████████████████████████▏                                                                                                      | 1600/3848 [17:42<27:12,  1.38it/s]"
     ]
    },
    {
     "name": "stdout",
     "output_type": "stream",
     "text": [
      "INFO:httpx:HTTP Request: POST http://127.0.0.1:8080/embed \"HTTP/1.1 200 OK\"\n",
      "HTTP Request: POST http://127.0.0.1:8080/embed \"HTTP/1.1 200 OK\"\n",
      "HTTP Request: POST http://127.0.0.1:8080/embed \"HTTP/1.1 200 OK\"\n",
      "HTTP Request: POST http://127.0.0.1:8080/embed \"HTTP/1.1 200 OK\"\n"
     ]
    },
    {
     "name": "stderr",
     "output_type": "stream",
     "text": [
      "\r",
      "Generating embeddings:  42%|█████████████████████████████████████████████████████████████████████████▋                                                                                                      | 1610/3848 [17:50<27:47,  1.34it/s]"
     ]
    },
    {
     "name": "stdout",
     "output_type": "stream",
     "text": [
      "INFO:httpx:HTTP Request: POST http://127.0.0.1:8080/embed \"HTTP/1.1 200 OK\"\n",
      "HTTP Request: POST http://127.0.0.1:8080/embed \"HTTP/1.1 200 OK\"\n",
      "HTTP Request: POST http://127.0.0.1:8080/embed \"HTTP/1.1 200 OK\"\n",
      "HTTP Request: POST http://127.0.0.1:8080/embed \"HTTP/1.1 200 OK\"\n"
     ]
    },
    {
     "name": "stderr",
     "output_type": "stream",
     "text": [
      "\r",
      "Generating embeddings:  42%|██████████████████████████████████████████████████████████████████████████                                                                                                      | 1620/3848 [17:59<29:25,  1.26it/s]"
     ]
    },
    {
     "name": "stdout",
     "output_type": "stream",
     "text": [
      "INFO:httpx:HTTP Request: POST http://127.0.0.1:8080/embed \"HTTP/1.1 200 OK\"\n",
      "HTTP Request: POST http://127.0.0.1:8080/embed \"HTTP/1.1 200 OK\"\n",
      "HTTP Request: POST http://127.0.0.1:8080/embed \"HTTP/1.1 200 OK\"\n",
      "HTTP Request: POST http://127.0.0.1:8080/embed \"HTTP/1.1 200 OK\"\n"
     ]
    },
    {
     "name": "stderr",
     "output_type": "stream",
     "text": [
      "\r",
      "Generating embeddings:  42%|██████████████████████████████████████████████████████████████████████████▌                                                                                                     | 1630/3848 [18:06<28:01,  1.32it/s]"
     ]
    },
    {
     "name": "stdout",
     "output_type": "stream",
     "text": [
      "INFO:httpx:HTTP Request: POST http://127.0.0.1:8080/embed \"HTTP/1.1 200 OK\"\n",
      "HTTP Request: POST http://127.0.0.1:8080/embed \"HTTP/1.1 200 OK\"\n",
      "HTTP Request: POST http://127.0.0.1:8080/embed \"HTTP/1.1 200 OK\"\n",
      "HTTP Request: POST http://127.0.0.1:8080/embed \"HTTP/1.1 200 OK\"\n"
     ]
    },
    {
     "name": "stderr",
     "output_type": "stream",
     "text": [
      "\r",
      "Generating embeddings:  43%|███████████████████████████████████████████████████████████████████████████                                                                                                     | 1640/3848 [18:13<27:34,  1.33it/s]"
     ]
    },
    {
     "name": "stdout",
     "output_type": "stream",
     "text": [
      "INFO:httpx:HTTP Request: POST http://127.0.0.1:8080/embed \"HTTP/1.1 200 OK\"\n",
      "HTTP Request: POST http://127.0.0.1:8080/embed \"HTTP/1.1 200 OK\"\n",
      "HTTP Request: POST http://127.0.0.1:8080/embed \"HTTP/1.1 200 OK\"\n",
      "HTTP Request: POST http://127.0.0.1:8080/embed \"HTTP/1.1 200 OK\"\n"
     ]
    },
    {
     "name": "stderr",
     "output_type": "stream",
     "text": [
      "\r",
      "Generating embeddings:  43%|███████████████████████████████████████████████████████████████████████████▍                                                                                                    | 1650/3848 [18:20<27:28,  1.33it/s]"
     ]
    },
    {
     "name": "stdout",
     "output_type": "stream",
     "text": [
      "INFO:httpx:HTTP Request: POST http://127.0.0.1:8080/embed \"HTTP/1.1 200 OK\"\n",
      "HTTP Request: POST http://127.0.0.1:8080/embed \"HTTP/1.1 200 OK\"\n",
      "HTTP Request: POST http://127.0.0.1:8080/embed \"HTTP/1.1 200 OK\"\n",
      "HTTP Request: POST http://127.0.0.1:8080/embed \"HTTP/1.1 200 OK\"\n"
     ]
    },
    {
     "name": "stderr",
     "output_type": "stream",
     "text": [
      "\r",
      "Generating embeddings:  43%|███████████████████████████████████████████████████████████████████████████▉                                                                                                    | 1660/3848 [18:29<28:57,  1.26it/s]"
     ]
    },
    {
     "name": "stdout",
     "output_type": "stream",
     "text": [
      "INFO:httpx:HTTP Request: POST http://127.0.0.1:8080/embed \"HTTP/1.1 200 OK\"\n",
      "HTTP Request: POST http://127.0.0.1:8080/embed \"HTTP/1.1 200 OK\"\n",
      "HTTP Request: POST http://127.0.0.1:8080/embed \"HTTP/1.1 200 OK\"\n",
      "HTTP Request: POST http://127.0.0.1:8080/embed \"HTTP/1.1 200 OK\"\n"
     ]
    },
    {
     "name": "stderr",
     "output_type": "stream",
     "text": [
      "\r",
      "Generating embeddings:  43%|████████████████████████████████████████████████████████████████████████████▍                                                                                                   | 1670/3848 [18:40<31:28,  1.15it/s]"
     ]
    },
    {
     "name": "stdout",
     "output_type": "stream",
     "text": [
      "INFO:httpx:HTTP Request: POST http://127.0.0.1:8080/embed \"HTTP/1.1 200 OK\"\n",
      "HTTP Request: POST http://127.0.0.1:8080/embed \"HTTP/1.1 200 OK\"\n",
      "HTTP Request: POST http://127.0.0.1:8080/embed \"HTTP/1.1 200 OK\"\n",
      "HTTP Request: POST http://127.0.0.1:8080/embed \"HTTP/1.1 200 OK\"\n"
     ]
    },
    {
     "name": "stderr",
     "output_type": "stream",
     "text": [
      "\r",
      "Generating embeddings:  44%|████████████████████████████████████████████████████████████████████████████▊                                                                                                   | 1680/3848 [18:50<32:51,  1.10it/s]"
     ]
    },
    {
     "name": "stdout",
     "output_type": "stream",
     "text": [
      "INFO:httpx:HTTP Request: POST http://127.0.0.1:8080/embed \"HTTP/1.1 200 OK\"\n",
      "HTTP Request: POST http://127.0.0.1:8080/embed \"HTTP/1.1 200 OK\"\n",
      "HTTP Request: POST http://127.0.0.1:8080/embed \"HTTP/1.1 200 OK\"\n",
      "HTTP Request: POST http://127.0.0.1:8080/embed \"HTTP/1.1 200 OK\"\n"
     ]
    },
    {
     "name": "stderr",
     "output_type": "stream",
     "text": [
      "\r",
      "Generating embeddings:  44%|█████████████████████████████████████████████████████████████████████████████▎                                                                                                  | 1690/3848 [19:00<34:13,  1.05it/s]"
     ]
    },
    {
     "name": "stdout",
     "output_type": "stream",
     "text": [
      "INFO:httpx:HTTP Request: POST http://127.0.0.1:8080/embed \"HTTP/1.1 200 OK\"\n",
      "HTTP Request: POST http://127.0.0.1:8080/embed \"HTTP/1.1 200 OK\"\n",
      "HTTP Request: POST http://127.0.0.1:8080/embed \"HTTP/1.1 200 OK\"\n",
      "HTTP Request: POST http://127.0.0.1:8080/embed \"HTTP/1.1 200 OK\"\n"
     ]
    },
    {
     "name": "stderr",
     "output_type": "stream",
     "text": [
      "\r",
      "Generating embeddings:  44%|█████████████████████████████████████████████████████████████████████████████▊                                                                                                  | 1700/3848 [19:13<37:19,  1.04s/it]"
     ]
    },
    {
     "name": "stdout",
     "output_type": "stream",
     "text": [
      "INFO:httpx:HTTP Request: POST http://127.0.0.1:8080/embed \"HTTP/1.1 200 OK\"\n",
      "HTTP Request: POST http://127.0.0.1:8080/embed \"HTTP/1.1 200 OK\"\n",
      "HTTP Request: POST http://127.0.0.1:8080/embed \"HTTP/1.1 200 OK\"\n",
      "HTTP Request: POST http://127.0.0.1:8080/embed \"HTTP/1.1 200 OK\"\n"
     ]
    },
    {
     "name": "stderr",
     "output_type": "stream",
     "text": [
      "\r",
      "Generating embeddings:  44%|██████████████████████████████████████████████████████████████████████████████▏                                                                                                 | 1710/3848 [19:24<37:27,  1.05s/it]"
     ]
    },
    {
     "name": "stdout",
     "output_type": "stream",
     "text": [
      "INFO:httpx:HTTP Request: POST http://127.0.0.1:8080/embed \"HTTP/1.1 200 OK\"\n",
      "HTTP Request: POST http://127.0.0.1:8080/embed \"HTTP/1.1 200 OK\"\n",
      "HTTP Request: POST http://127.0.0.1:8080/embed \"HTTP/1.1 200 OK\"\n",
      "HTTP Request: POST http://127.0.0.1:8080/embed \"HTTP/1.1 200 OK\"\n"
     ]
    },
    {
     "name": "stderr",
     "output_type": "stream",
     "text": [
      "\r",
      "Generating embeddings:  45%|██████████████████████████████████████████████████████████████████████████████▋                                                                                                 | 1720/3848 [19:34<37:34,  1.06s/it]"
     ]
    },
    {
     "name": "stdout",
     "output_type": "stream",
     "text": [
      "INFO:httpx:HTTP Request: POST http://127.0.0.1:8080/embed \"HTTP/1.1 200 OK\"\n",
      "HTTP Request: POST http://127.0.0.1:8080/embed \"HTTP/1.1 200 OK\"\n",
      "HTTP Request: POST http://127.0.0.1:8080/embed \"HTTP/1.1 200 OK\"\n",
      "HTTP Request: POST http://127.0.0.1:8080/embed \"HTTP/1.1 200 OK\"\n"
     ]
    },
    {
     "name": "stderr",
     "output_type": "stream",
     "text": [
      "\r",
      "Generating embeddings:  45%|███████████████████████████████████████████████████████████████████████████████▏                                                                                                | 1730/3848 [19:44<36:55,  1.05s/it]"
     ]
    },
    {
     "name": "stdout",
     "output_type": "stream",
     "text": [
      "INFO:httpx:HTTP Request: POST http://127.0.0.1:8080/embed \"HTTP/1.1 200 OK\"\n",
      "HTTP Request: POST http://127.0.0.1:8080/embed \"HTTP/1.1 200 OK\"\n",
      "HTTP Request: POST http://127.0.0.1:8080/embed \"HTTP/1.1 200 OK\"\n",
      "HTTP Request: POST http://127.0.0.1:8080/embed \"HTTP/1.1 200 OK\"\n"
     ]
    },
    {
     "name": "stderr",
     "output_type": "stream",
     "text": [
      "\r",
      "Generating embeddings:  45%|███████████████████████████████████████████████████████████████████████████████▌                                                                                                | 1740/3848 [19:54<35:30,  1.01s/it]"
     ]
    },
    {
     "name": "stdout",
     "output_type": "stream",
     "text": [
      "INFO:httpx:HTTP Request: POST http://127.0.0.1:8080/embed \"HTTP/1.1 200 OK\"\n",
      "HTTP Request: POST http://127.0.0.1:8080/embed \"HTTP/1.1 200 OK\"\n",
      "HTTP Request: POST http://127.0.0.1:8080/embed \"HTTP/1.1 200 OK\"\n",
      "HTTP Request: POST http://127.0.0.1:8080/embed \"HTTP/1.1 200 OK\"\n"
     ]
    },
    {
     "name": "stderr",
     "output_type": "stream",
     "text": [
      "\r",
      "Generating embeddings:  45%|████████████████████████████████████████████████████████████████████████████████                                                                                                | 1750/3848 [20:02<33:37,  1.04it/s]"
     ]
    },
    {
     "name": "stdout",
     "output_type": "stream",
     "text": [
      "INFO:httpx:HTTP Request: POST http://127.0.0.1:8080/embed \"HTTP/1.1 200 OK\"\n",
      "HTTP Request: POST http://127.0.0.1:8080/embed \"HTTP/1.1 200 OK\"\n",
      "HTTP Request: POST http://127.0.0.1:8080/embed \"HTTP/1.1 200 OK\"\n",
      "HTTP Request: POST http://127.0.0.1:8080/embed \"HTTP/1.1 200 OK\"\n"
     ]
    },
    {
     "name": "stderr",
     "output_type": "stream",
     "text": [
      "\r",
      "Generating embeddings:  46%|████████████████████████████████████████████████████████████████████████████████▍                                                                                               | 1760/3848 [20:11<32:26,  1.07it/s]"
     ]
    },
    {
     "name": "stdout",
     "output_type": "stream",
     "text": [
      "INFO:httpx:HTTP Request: POST http://127.0.0.1:8080/embed \"HTTP/1.1 200 OK\"\n",
      "HTTP Request: POST http://127.0.0.1:8080/embed \"HTTP/1.1 200 OK\"\n",
      "HTTP Request: POST http://127.0.0.1:8080/embed \"HTTP/1.1 200 OK\"\n",
      "HTTP Request: POST http://127.0.0.1:8080/embed \"HTTP/1.1 200 OK\"\n"
     ]
    },
    {
     "name": "stderr",
     "output_type": "stream",
     "text": [
      "\r",
      "Generating embeddings:  46%|████████████████████████████████████████████████████████████████████████████████▉                                                                                               | 1770/3848 [20:21<33:34,  1.03it/s]"
     ]
    },
    {
     "name": "stdout",
     "output_type": "stream",
     "text": [
      "INFO:httpx:HTTP Request: POST http://127.0.0.1:8080/embed \"HTTP/1.1 200 OK\"\n",
      "HTTP Request: POST http://127.0.0.1:8080/embed \"HTTP/1.1 200 OK\"\n",
      "HTTP Request: POST http://127.0.0.1:8080/embed \"HTTP/1.1 200 OK\"\n",
      "HTTP Request: POST http://127.0.0.1:8080/embed \"HTTP/1.1 200 OK\"\n"
     ]
    },
    {
     "name": "stderr",
     "output_type": "stream",
     "text": [
      "\r",
      "Generating embeddings:  46%|█████████████████████████████████████████████████████████████████████████████████▍                                                                                              | 1780/3848 [20:30<32:21,  1.07it/s]"
     ]
    },
    {
     "name": "stdout",
     "output_type": "stream",
     "text": [
      "INFO:httpx:HTTP Request: POST http://127.0.0.1:8080/embed \"HTTP/1.1 200 OK\"\n",
      "HTTP Request: POST http://127.0.0.1:8080/embed \"HTTP/1.1 200 OK\"\n",
      "HTTP Request: POST http://127.0.0.1:8080/embed \"HTTP/1.1 200 OK\"\n",
      "HTTP Request: POST http://127.0.0.1:8080/embed \"HTTP/1.1 200 OK\"\n"
     ]
    },
    {
     "name": "stderr",
     "output_type": "stream",
     "text": [
      "\r",
      "Generating embeddings:  47%|█████████████████████████████████████████████████████████████████████████████████▊                                                                                              | 1790/3848 [20:40<32:20,  1.06it/s]"
     ]
    },
    {
     "name": "stdout",
     "output_type": "stream",
     "text": [
      "INFO:httpx:HTTP Request: POST http://127.0.0.1:8080/embed \"HTTP/1.1 200 OK\"\n",
      "HTTP Request: POST http://127.0.0.1:8080/embed \"HTTP/1.1 200 OK\"\n",
      "HTTP Request: POST http://127.0.0.1:8080/embed \"HTTP/1.1 200 OK\"\n",
      "HTTP Request: POST http://127.0.0.1:8080/embed \"HTTP/1.1 200 OK\"\n"
     ]
    },
    {
     "name": "stderr",
     "output_type": "stream",
     "text": [
      "\r",
      "Generating embeddings:  47%|██████████████████████████████████████████████████████████████████████████████████▎                                                                                             | 1800/3848 [20:48<31:37,  1.08it/s]"
     ]
    },
    {
     "name": "stdout",
     "output_type": "stream",
     "text": [
      "INFO:httpx:HTTP Request: POST http://127.0.0.1:8080/embed \"HTTP/1.1 200 OK\"\n",
      "HTTP Request: POST http://127.0.0.1:8080/embed \"HTTP/1.1 200 OK\"\n",
      "HTTP Request: POST http://127.0.0.1:8080/embed \"HTTP/1.1 200 OK\"\n",
      "HTTP Request: POST http://127.0.0.1:8080/embed \"HTTP/1.1 200 OK\"\n"
     ]
    },
    {
     "name": "stderr",
     "output_type": "stream",
     "text": [
      "\r",
      "Generating embeddings:  47%|██████████████████████████████████████████████████████████████████████████████████▊                                                                                             | 1810/3848 [20:57<30:51,  1.10it/s]"
     ]
    },
    {
     "name": "stdout",
     "output_type": "stream",
     "text": [
      "INFO:httpx:HTTP Request: POST http://127.0.0.1:8080/embed \"HTTP/1.1 200 OK\"\n",
      "HTTP Request: POST http://127.0.0.1:8080/embed \"HTTP/1.1 200 OK\"\n",
      "HTTP Request: POST http://127.0.0.1:8080/embed \"HTTP/1.1 200 OK\"\n",
      "HTTP Request: POST http://127.0.0.1:8080/embed \"HTTP/1.1 200 OK\"\n"
     ]
    },
    {
     "name": "stderr",
     "output_type": "stream",
     "text": [
      "\r",
      "Generating embeddings:  47%|███████████████████████████████████████████████████████████████████████████████████▏                                                                                            | 1820/3848 [21:06<30:30,  1.11it/s]"
     ]
    },
    {
     "name": "stdout",
     "output_type": "stream",
     "text": [
      "INFO:httpx:HTTP Request: POST http://127.0.0.1:8080/embed \"HTTP/1.1 200 OK\"\n",
      "HTTP Request: POST http://127.0.0.1:8080/embed \"HTTP/1.1 200 OK\"\n",
      "HTTP Request: POST http://127.0.0.1:8080/embed \"HTTP/1.1 200 OK\"\n",
      "HTTP Request: POST http://127.0.0.1:8080/embed \"HTTP/1.1 200 OK\"\n"
     ]
    },
    {
     "name": "stderr",
     "output_type": "stream",
     "text": [
      "\r",
      "Generating embeddings:  48%|███████████████████████████████████████████████████████████████████████████████████▋                                                                                            | 1830/3848 [21:14<29:35,  1.14it/s]"
     ]
    },
    {
     "name": "stdout",
     "output_type": "stream",
     "text": [
      "INFO:httpx:HTTP Request: POST http://127.0.0.1:8080/embed \"HTTP/1.1 200 OK\"\n",
      "HTTP Request: POST http://127.0.0.1:8080/embed \"HTTP/1.1 200 OK\"\n",
      "HTTP Request: POST http://127.0.0.1:8080/embed \"HTTP/1.1 200 OK\"\n",
      "HTTP Request: POST http://127.0.0.1:8080/embed \"HTTP/1.1 200 OK\"\n"
     ]
    },
    {
     "name": "stderr",
     "output_type": "stream",
     "text": [
      "\r",
      "Generating embeddings:  48%|████████████████████████████████████████████████████████████████████████████████████▏                                                                                           | 1840/3848 [21:24<30:02,  1.11it/s]"
     ]
    },
    {
     "name": "stdout",
     "output_type": "stream",
     "text": [
      "INFO:httpx:HTTP Request: POST http://127.0.0.1:8080/embed \"HTTP/1.1 200 OK\"\n",
      "HTTP Request: POST http://127.0.0.1:8080/embed \"HTTP/1.1 200 OK\"\n",
      "HTTP Request: POST http://127.0.0.1:8080/embed \"HTTP/1.1 200 OK\"\n",
      "HTTP Request: POST http://127.0.0.1:8080/embed \"HTTP/1.1 200 OK\"\n"
     ]
    },
    {
     "name": "stderr",
     "output_type": "stream",
     "text": [
      "\r",
      "Generating embeddings:  48%|████████████████████████████████████████████████████████████████████████████████████▌                                                                                           | 1850/3848 [21:33<29:51,  1.12it/s]"
     ]
    },
    {
     "name": "stdout",
     "output_type": "stream",
     "text": [
      "INFO:httpx:HTTP Request: POST http://127.0.0.1:8080/embed \"HTTP/1.1 200 OK\"\n",
      "HTTP Request: POST http://127.0.0.1:8080/embed \"HTTP/1.1 200 OK\"\n",
      "HTTP Request: POST http://127.0.0.1:8080/embed \"HTTP/1.1 200 OK\"\n",
      "HTTP Request: POST http://127.0.0.1:8080/embed \"HTTP/1.1 200 OK\"\n"
     ]
    },
    {
     "name": "stderr",
     "output_type": "stream",
     "text": [
      "\r",
      "Generating embeddings:  48%|█████████████████████████████████████████████████████████████████████████████████████                                                                                           | 1860/3848 [21:41<28:39,  1.16it/s]"
     ]
    },
    {
     "name": "stdout",
     "output_type": "stream",
     "text": [
      "INFO:httpx:HTTP Request: POST http://127.0.0.1:8080/embed \"HTTP/1.1 200 OK\"\n",
      "HTTP Request: POST http://127.0.0.1:8080/embed \"HTTP/1.1 200 OK\"\n",
      "HTTP Request: POST http://127.0.0.1:8080/embed \"HTTP/1.1 200 OK\"\n",
      "HTTP Request: POST http://127.0.0.1:8080/embed \"HTTP/1.1 200 OK\"\n"
     ]
    },
    {
     "name": "stderr",
     "output_type": "stream",
     "text": [
      "\r",
      "Generating embeddings:  49%|█████████████████████████████████████████████████████████████████████████████████████▌                                                                                          | 1870/3848 [21:48<27:21,  1.20it/s]"
     ]
    },
    {
     "name": "stdout",
     "output_type": "stream",
     "text": [
      "INFO:httpx:HTTP Request: POST http://127.0.0.1:8080/embed \"HTTP/1.1 200 OK\"\n",
      "HTTP Request: POST http://127.0.0.1:8080/embed \"HTTP/1.1 200 OK\"\n",
      "HTTP Request: POST http://127.0.0.1:8080/embed \"HTTP/1.1 200 OK\"\n",
      "HTTP Request: POST http://127.0.0.1:8080/embed \"HTTP/1.1 200 OK\"\n"
     ]
    },
    {
     "name": "stderr",
     "output_type": "stream",
     "text": [
      "\r",
      "Generating embeddings:  49%|█████████████████████████████████████████████████████████████████████████████████████▉                                                                                          | 1880/3848 [21:58<28:38,  1.15it/s]"
     ]
    },
    {
     "name": "stdout",
     "output_type": "stream",
     "text": [
      "INFO:httpx:HTTP Request: POST http://127.0.0.1:8080/embed \"HTTP/1.1 200 OK\"\n",
      "HTTP Request: POST http://127.0.0.1:8080/embed \"HTTP/1.1 200 OK\"\n",
      "HTTP Request: POST http://127.0.0.1:8080/embed \"HTTP/1.1 200 OK\"\n",
      "HTTP Request: POST http://127.0.0.1:8080/embed \"HTTP/1.1 200 OK\"\n"
     ]
    },
    {
     "name": "stderr",
     "output_type": "stream",
     "text": [
      "\r",
      "Generating embeddings:  49%|██████████████████████████████████████████████████████████████████████████████████████▍                                                                                         | 1890/3848 [22:06<28:16,  1.15it/s]"
     ]
    },
    {
     "name": "stdout",
     "output_type": "stream",
     "text": [
      "INFO:httpx:HTTP Request: POST http://127.0.0.1:8080/embed \"HTTP/1.1 200 OK\"\n",
      "HTTP Request: POST http://127.0.0.1:8080/embed \"HTTP/1.1 200 OK\"\n",
      "HTTP Request: POST http://127.0.0.1:8080/embed \"HTTP/1.1 200 OK\"\n",
      "HTTP Request: POST http://127.0.0.1:8080/embed \"HTTP/1.1 200 OK\"\n"
     ]
    },
    {
     "name": "stderr",
     "output_type": "stream",
     "text": [
      "\r",
      "Generating embeddings:  49%|██████████████████████████████████████████████████████████████████████████████████████▉                                                                                         | 1900/3848 [22:14<27:42,  1.17it/s]"
     ]
    },
    {
     "name": "stdout",
     "output_type": "stream",
     "text": [
      "INFO:httpx:HTTP Request: POST http://127.0.0.1:8080/embed \"HTTP/1.1 200 OK\"\n",
      "HTTP Request: POST http://127.0.0.1:8080/embed \"HTTP/1.1 200 OK\"\n",
      "HTTP Request: POST http://127.0.0.1:8080/embed \"HTTP/1.1 200 OK\"\n",
      "HTTP Request: POST http://127.0.0.1:8080/embed \"HTTP/1.1 200 OK\"\n"
     ]
    },
    {
     "name": "stderr",
     "output_type": "stream",
     "text": [
      "\r",
      "Generating embeddings:  50%|███████████████████████████████████████████████████████████████████████████████████████▎                                                                                        | 1910/3848 [22:22<26:30,  1.22it/s]"
     ]
    },
    {
     "name": "stdout",
     "output_type": "stream",
     "text": [
      "INFO:httpx:HTTP Request: POST http://127.0.0.1:8080/embed \"HTTP/1.1 200 OK\"\n",
      "HTTP Request: POST http://127.0.0.1:8080/embed \"HTTP/1.1 200 OK\"\n",
      "HTTP Request: POST http://127.0.0.1:8080/embed \"HTTP/1.1 200 OK\"\n",
      "HTTP Request: POST http://127.0.0.1:8080/embed \"HTTP/1.1 200 OK\"\n"
     ]
    },
    {
     "name": "stderr",
     "output_type": "stream",
     "text": [
      "\r",
      "Generating embeddings:  50%|███████████████████████████████████████████████████████████████████████████████████████▊                                                                                        | 1920/3848 [22:31<27:37,  1.16it/s]"
     ]
    },
    {
     "name": "stdout",
     "output_type": "stream",
     "text": [
      "INFO:httpx:HTTP Request: POST http://127.0.0.1:8080/embed \"HTTP/1.1 200 OK\"\n",
      "HTTP Request: POST http://127.0.0.1:8080/embed \"HTTP/1.1 200 OK\"\n",
      "HTTP Request: POST http://127.0.0.1:8080/embed \"HTTP/1.1 200 OK\"\n",
      "HTTP Request: POST http://127.0.0.1:8080/embed \"HTTP/1.1 200 OK\"\n"
     ]
    },
    {
     "name": "stderr",
     "output_type": "stream",
     "text": [
      "\r",
      "Generating embeddings:  50%|████████████████████████████████████████████████████████████████████████████████████████▎                                                                                       | 1930/3848 [22:41<27:58,  1.14it/s]"
     ]
    },
    {
     "name": "stdout",
     "output_type": "stream",
     "text": [
      "INFO:httpx:HTTP Request: POST http://127.0.0.1:8080/embed \"HTTP/1.1 200 OK\"\n",
      "HTTP Request: POST http://127.0.0.1:8080/embed \"HTTP/1.1 200 OK\"\n",
      "HTTP Request: POST http://127.0.0.1:8080/embed \"HTTP/1.1 200 OK\"\n",
      "HTTP Request: POST http://127.0.0.1:8080/embed \"HTTP/1.1 200 OK\"\n"
     ]
    },
    {
     "name": "stderr",
     "output_type": "stream",
     "text": [
      "\r",
      "Generating embeddings:  50%|████████████████████████████████████████████████████████████████████████████████████████▋                                                                                       | 1940/3848 [22:50<28:43,  1.11it/s]"
     ]
    },
    {
     "name": "stdout",
     "output_type": "stream",
     "text": [
      "INFO:httpx:HTTP Request: POST http://127.0.0.1:8080/embed \"HTTP/1.1 200 OK\"\n",
      "HTTP Request: POST http://127.0.0.1:8080/embed \"HTTP/1.1 200 OK\"\n",
      "HTTP Request: POST http://127.0.0.1:8080/embed \"HTTP/1.1 200 OK\"\n",
      "HTTP Request: POST http://127.0.0.1:8080/embed \"HTTP/1.1 200 OK\"\n"
     ]
    },
    {
     "name": "stderr",
     "output_type": "stream",
     "text": [
      "\r",
      "Generating embeddings:  51%|█████████████████████████████████████████████████████████████████████████████████████████▏                                                                                      | 1950/3848 [22:59<28:31,  1.11it/s]"
     ]
    },
    {
     "name": "stdout",
     "output_type": "stream",
     "text": [
      "INFO:httpx:HTTP Request: POST http://127.0.0.1:8080/embed \"HTTP/1.1 200 OK\"\n",
      "HTTP Request: POST http://127.0.0.1:8080/embed \"HTTP/1.1 200 OK\"\n",
      "HTTP Request: POST http://127.0.0.1:8080/embed \"HTTP/1.1 200 OK\"\n",
      "HTTP Request: POST http://127.0.0.1:8080/embed \"HTTP/1.1 200 OK\"\n"
     ]
    },
    {
     "name": "stderr",
     "output_type": "stream",
     "text": [
      "\r",
      "Generating embeddings:  51%|█████████████████████████████████████████████████████████████████████████████████████████▋                                                                                      | 1960/3848 [23:09<29:06,  1.08it/s]"
     ]
    },
    {
     "name": "stdout",
     "output_type": "stream",
     "text": [
      "INFO:httpx:HTTP Request: POST http://127.0.0.1:8080/embed \"HTTP/1.1 200 OK\"\n",
      "HTTP Request: POST http://127.0.0.1:8080/embed \"HTTP/1.1 200 OK\"\n",
      "HTTP Request: POST http://127.0.0.1:8080/embed \"HTTP/1.1 200 OK\"\n",
      "HTTP Request: POST http://127.0.0.1:8080/embed \"HTTP/1.1 200 OK\"\n"
     ]
    },
    {
     "name": "stderr",
     "output_type": "stream",
     "text": [
      "\r",
      "Generating embeddings:  51%|██████████████████████████████████████████████████████████████████████████████████████████                                                                                      | 1970/3848 [23:21<31:10,  1.00it/s]"
     ]
    },
    {
     "name": "stdout",
     "output_type": "stream",
     "text": [
      "INFO:httpx:HTTP Request: POST http://127.0.0.1:8080/embed \"HTTP/1.1 200 OK\"\n",
      "HTTP Request: POST http://127.0.0.1:8080/embed \"HTTP/1.1 200 OK\"\n",
      "HTTP Request: POST http://127.0.0.1:8080/embed \"HTTP/1.1 200 OK\"\n",
      "HTTP Request: POST http://127.0.0.1:8080/embed \"HTTP/1.1 200 OK\"\n"
     ]
    },
    {
     "name": "stderr",
     "output_type": "stream",
     "text": [
      "\r",
      "Generating embeddings:  51%|██████████████████████████████████████████████████████████████████████████████████████████▌                                                                                     | 1980/3848 [23:31<31:43,  1.02s/it]"
     ]
    },
    {
     "name": "stdout",
     "output_type": "stream",
     "text": [
      "INFO:httpx:HTTP Request: POST http://127.0.0.1:8080/embed \"HTTP/1.1 200 OK\"\n",
      "HTTP Request: POST http://127.0.0.1:8080/embed \"HTTP/1.1 200 OK\"\n",
      "HTTP Request: POST http://127.0.0.1:8080/embed \"HTTP/1.1 200 OK\"\n",
      "HTTP Request: POST http://127.0.0.1:8080/embed \"HTTP/1.1 200 OK\"\n"
     ]
    },
    {
     "name": "stderr",
     "output_type": "stream",
     "text": [
      "\r",
      "Generating embeddings:  52%|███████████████████████████████████████████████████████████████████████████████████████████                                                                                     | 1990/3848 [23:43<32:38,  1.05s/it]"
     ]
    },
    {
     "name": "stdout",
     "output_type": "stream",
     "text": [
      "INFO:httpx:HTTP Request: POST http://127.0.0.1:8080/embed \"HTTP/1.1 200 OK\"\n",
      "HTTP Request: POST http://127.0.0.1:8080/embed \"HTTP/1.1 200 OK\"\n",
      "HTTP Request: POST http://127.0.0.1:8080/embed \"HTTP/1.1 200 OK\"\n",
      "HTTP Request: POST http://127.0.0.1:8080/embed \"HTTP/1.1 200 OK\"\n"
     ]
    },
    {
     "name": "stderr",
     "output_type": "stream",
     "text": [
      "\r",
      "Generating embeddings:  52%|███████████████████████████████████████████████████████████████████████████████████████████▍                                                                                    | 2000/3848 [23:51<30:00,  1.03it/s]"
     ]
    },
    {
     "name": "stdout",
     "output_type": "stream",
     "text": [
      "INFO:httpx:HTTP Request: POST http://127.0.0.1:8080/embed \"HTTP/1.1 200 OK\"\n",
      "HTTP Request: POST http://127.0.0.1:8080/embed \"HTTP/1.1 200 OK\"\n",
      "HTTP Request: POST http://127.0.0.1:8080/embed \"HTTP/1.1 200 OK\"\n",
      "HTTP Request: POST http://127.0.0.1:8080/embed \"HTTP/1.1 200 OK\"\n"
     ]
    },
    {
     "name": "stderr",
     "output_type": "stream",
     "text": [
      "\r",
      "Generating embeddings:  52%|███████████████████████████████████████████████████████████████████████████████████████████▉                                                                                    | 2010/3848 [23:58<27:41,  1.11it/s]"
     ]
    },
    {
     "name": "stdout",
     "output_type": "stream",
     "text": [
      "INFO:httpx:HTTP Request: POST http://127.0.0.1:8080/embed \"HTTP/1.1 200 OK\"\n",
      "HTTP Request: POST http://127.0.0.1:8080/embed \"HTTP/1.1 200 OK\"\n",
      "HTTP Request: POST http://127.0.0.1:8080/embed \"HTTP/1.1 200 OK\"\n",
      "HTTP Request: POST http://127.0.0.1:8080/embed \"HTTP/1.1 200 OK\"\n"
     ]
    },
    {
     "name": "stderr",
     "output_type": "stream",
     "text": [
      "\r",
      "Generating embeddings:  52%|████████████████████████████████████████████████████████████████████████████████████████████▍                                                                                   | 2020/3848 [24:05<25:14,  1.21it/s]"
     ]
    },
    {
     "name": "stdout",
     "output_type": "stream",
     "text": [
      "INFO:httpx:HTTP Request: POST http://127.0.0.1:8080/embed \"HTTP/1.1 200 OK\"\n",
      "HTTP Request: POST http://127.0.0.1:8080/embed \"HTTP/1.1 200 OK\"\n",
      "HTTP Request: POST http://127.0.0.1:8080/embed \"HTTP/1.1 200 OK\"\n",
      "HTTP Request: POST http://127.0.0.1:8080/embed \"HTTP/1.1 200 OK\"\n"
     ]
    },
    {
     "name": "stderr",
     "output_type": "stream",
     "text": [
      "\r",
      "Generating embeddings:  53%|████████████████████████████████████████████████████████████████████████████████████████████▊                                                                                   | 2030/3848 [24:12<23:59,  1.26it/s]"
     ]
    },
    {
     "name": "stdout",
     "output_type": "stream",
     "text": [
      "INFO:httpx:HTTP Request: POST http://127.0.0.1:8080/embed \"HTTP/1.1 200 OK\"\n",
      "HTTP Request: POST http://127.0.0.1:8080/embed \"HTTP/1.1 200 OK\"\n",
      "HTTP Request: POST http://127.0.0.1:8080/embed \"HTTP/1.1 200 OK\"\n",
      "HTTP Request: POST http://127.0.0.1:8080/embed \"HTTP/1.1 200 OK\"\n"
     ]
    },
    {
     "name": "stderr",
     "output_type": "stream",
     "text": [
      "\r",
      "Generating embeddings:  53%|█████████████████████████████████████████████████████████████████████████████████████████████▎                                                                                  | 2040/3848 [24:19<23:41,  1.27it/s]"
     ]
    },
    {
     "name": "stdout",
     "output_type": "stream",
     "text": [
      "INFO:httpx:HTTP Request: POST http://127.0.0.1:8080/embed \"HTTP/1.1 200 OK\"\n",
      "HTTP Request: POST http://127.0.0.1:8080/embed \"HTTP/1.1 200 OK\"\n",
      "HTTP Request: POST http://127.0.0.1:8080/embed \"HTTP/1.1 200 OK\"\n",
      "HTTP Request: POST http://127.0.0.1:8080/embed \"HTTP/1.1 200 OK\"\n"
     ]
    },
    {
     "name": "stderr",
     "output_type": "stream",
     "text": [
      "\r",
      "Generating embeddings:  53%|█████████████████████████████████████████████████████████████████████████████████████████████▊                                                                                  | 2050/3848 [24:27<23:38,  1.27it/s]"
     ]
    },
    {
     "name": "stdout",
     "output_type": "stream",
     "text": [
      "INFO:httpx:HTTP Request: POST http://127.0.0.1:8080/embed \"HTTP/1.1 200 OK\"\n",
      "HTTP Request: POST http://127.0.0.1:8080/embed \"HTTP/1.1 200 OK\"\n",
      "HTTP Request: POST http://127.0.0.1:8080/embed \"HTTP/1.1 200 OK\"\n",
      "HTTP Request: POST http://127.0.0.1:8080/embed \"HTTP/1.1 200 OK\"\n"
     ]
    },
    {
     "name": "stderr",
     "output_type": "stream",
     "text": [
      "\r",
      "Generating embeddings:  54%|██████████████████████████████████████████████████████████████████████████████████████████████▏                                                                                 | 2060/3848 [24:34<22:49,  1.31it/s]"
     ]
    },
    {
     "name": "stdout",
     "output_type": "stream",
     "text": [
      "INFO:httpx:HTTP Request: POST http://127.0.0.1:8080/embed \"HTTP/1.1 200 OK\"\n",
      "HTTP Request: POST http://127.0.0.1:8080/embed \"HTTP/1.1 200 OK\"\n",
      "HTTP Request: POST http://127.0.0.1:8080/embed \"HTTP/1.1 200 OK\"\n",
      "HTTP Request: POST http://127.0.0.1:8080/embed \"HTTP/1.1 200 OK\"\n"
     ]
    },
    {
     "name": "stderr",
     "output_type": "stream",
     "text": [
      "\r",
      "Generating embeddings:  54%|██████████████████████████████████████████████████████████████████████████████████████████████▋                                                                                 | 2070/3848 [24:43<23:23,  1.27it/s]"
     ]
    },
    {
     "name": "stdout",
     "output_type": "stream",
     "text": [
      "INFO:httpx:HTTP Request: POST http://127.0.0.1:8080/embed \"HTTP/1.1 200 OK\"\n",
      "HTTP Request: POST http://127.0.0.1:8080/embed \"HTTP/1.1 200 OK\"\n",
      "HTTP Request: POST http://127.0.0.1:8080/embed \"HTTP/1.1 200 OK\"\n",
      "HTTP Request: POST http://127.0.0.1:8080/embed \"HTTP/1.1 200 OK\"\n"
     ]
    },
    {
     "name": "stderr",
     "output_type": "stream",
     "text": [
      "\r",
      "Generating embeddings:  54%|███████████████████████████████████████████████████████████████████████████████████████████████▏                                                                                | 2080/3848 [24:51<23:10,  1.27it/s]"
     ]
    },
    {
     "name": "stdout",
     "output_type": "stream",
     "text": [
      "INFO:httpx:HTTP Request: POST http://127.0.0.1:8080/embed \"HTTP/1.1 200 OK\"\n",
      "HTTP Request: POST http://127.0.0.1:8080/embed \"HTTP/1.1 200 OK\"\n",
      "HTTP Request: POST http://127.0.0.1:8080/embed \"HTTP/1.1 200 OK\"\n",
      "HTTP Request: POST http://127.0.0.1:8080/embed \"HTTP/1.1 200 OK\"\n"
     ]
    },
    {
     "name": "stderr",
     "output_type": "stream",
     "text": [
      "\r",
      "Generating embeddings:  54%|███████████████████████████████████████████████████████████████████████████████████████████████▌                                                                                | 2090/3848 [24:59<23:41,  1.24it/s]"
     ]
    },
    {
     "name": "stdout",
     "output_type": "stream",
     "text": [
      "INFO:httpx:HTTP Request: POST http://127.0.0.1:8080/embed \"HTTP/1.1 200 OK\"\n",
      "HTTP Request: POST http://127.0.0.1:8080/embed \"HTTP/1.1 200 OK\"\n",
      "HTTP Request: POST http://127.0.0.1:8080/embed \"HTTP/1.1 200 OK\"\n",
      "HTTP Request: POST http://127.0.0.1:8080/embed \"HTTP/1.1 200 OK\"\n"
     ]
    },
    {
     "name": "stderr",
     "output_type": "stream",
     "text": [
      "\r",
      "Generating embeddings:  55%|████████████████████████████████████████████████████████████████████████████████████████████████                                                                                | 2100/3848 [25:08<24:01,  1.21it/s]"
     ]
    },
    {
     "name": "stdout",
     "output_type": "stream",
     "text": [
      "INFO:httpx:HTTP Request: POST http://127.0.0.1:8080/embed \"HTTP/1.1 200 OK\"\n",
      "HTTP Request: POST http://127.0.0.1:8080/embed \"HTTP/1.1 200 OK\"\n",
      "HTTP Request: POST http://127.0.0.1:8080/embed \"HTTP/1.1 200 OK\"\n",
      "HTTP Request: POST http://127.0.0.1:8080/embed \"HTTP/1.1 200 OK\"\n"
     ]
    },
    {
     "name": "stderr",
     "output_type": "stream",
     "text": [
      "\r",
      "Generating embeddings:  55%|████████████████████████████████████████████████████████████████████████████████████████████████▌                                                                               | 2110/3848 [25:17<24:28,  1.18it/s]"
     ]
    },
    {
     "name": "stdout",
     "output_type": "stream",
     "text": [
      "INFO:httpx:HTTP Request: POST http://127.0.0.1:8080/embed \"HTTP/1.1 200 OK\"\n",
      "HTTP Request: POST http://127.0.0.1:8080/embed \"HTTP/1.1 200 OK\"\n",
      "HTTP Request: POST http://127.0.0.1:8080/embed \"HTTP/1.1 200 OK\"\n",
      "HTTP Request: POST http://127.0.0.1:8080/embed \"HTTP/1.1 200 OK\"\n"
     ]
    },
    {
     "name": "stderr",
     "output_type": "stream",
     "text": [
      "\r",
      "Generating embeddings:  55%|████████████████████████████████████████████████████████████████████████████████████████████████▉                                                                               | 2120/3848 [25:25<24:20,  1.18it/s]"
     ]
    },
    {
     "name": "stdout",
     "output_type": "stream",
     "text": [
      "INFO:httpx:HTTP Request: POST http://127.0.0.1:8080/embed \"HTTP/1.1 200 OK\"\n",
      "HTTP Request: POST http://127.0.0.1:8080/embed \"HTTP/1.1 200 OK\"\n",
      "HTTP Request: POST http://127.0.0.1:8080/embed \"HTTP/1.1 200 OK\"\n",
      "HTTP Request: POST http://127.0.0.1:8080/embed \"HTTP/1.1 200 OK\"\n"
     ]
    },
    {
     "name": "stderr",
     "output_type": "stream",
     "text": [
      "\r",
      "Generating embeddings:  55%|█████████████████████████████████████████████████████████████████████████████████████████████████▍                                                                              | 2130/3848 [25:33<23:22,  1.22it/s]"
     ]
    },
    {
     "name": "stdout",
     "output_type": "stream",
     "text": [
      "INFO:httpx:HTTP Request: POST http://127.0.0.1:8080/embed \"HTTP/1.1 200 OK\"\n",
      "HTTP Request: POST http://127.0.0.1:8080/embed \"HTTP/1.1 200 OK\"\n",
      "HTTP Request: POST http://127.0.0.1:8080/embed \"HTTP/1.1 200 OK\"\n",
      "HTTP Request: POST http://127.0.0.1:8080/embed \"HTTP/1.1 200 OK\"\n"
     ]
    },
    {
     "name": "stderr",
     "output_type": "stream",
     "text": [
      "\r",
      "Generating embeddings:  56%|█████████████████████████████████████████████████████████████████████████████████████████████████▉                                                                              | 2140/3848 [25:41<22:59,  1.24it/s]"
     ]
    },
    {
     "name": "stdout",
     "output_type": "stream",
     "text": [
      "INFO:httpx:HTTP Request: POST http://127.0.0.1:8080/embed \"HTTP/1.1 200 OK\"\n",
      "HTTP Request: POST http://127.0.0.1:8080/embed \"HTTP/1.1 200 OK\"\n",
      "HTTP Request: POST http://127.0.0.1:8080/embed \"HTTP/1.1 200 OK\"\n",
      "HTTP Request: POST http://127.0.0.1:8080/embed \"HTTP/1.1 200 OK\"\n"
     ]
    },
    {
     "name": "stderr",
     "output_type": "stream",
     "text": [
      "\r",
      "Generating embeddings:  56%|██████████████████████████████████████████████████████████████████████████████████████████████████▎                                                                             | 2150/3848 [25:49<22:59,  1.23it/s]"
     ]
    },
    {
     "name": "stdout",
     "output_type": "stream",
     "text": [
      "INFO:httpx:HTTP Request: POST http://127.0.0.1:8080/embed \"HTTP/1.1 200 OK\"\n",
      "HTTP Request: POST http://127.0.0.1:8080/embed \"HTTP/1.1 200 OK\"\n",
      "HTTP Request: POST http://127.0.0.1:8080/embed \"HTTP/1.1 200 OK\"\n",
      "HTTP Request: POST http://127.0.0.1:8080/embed \"HTTP/1.1 200 OK\"\n"
     ]
    },
    {
     "name": "stderr",
     "output_type": "stream",
     "text": [
      "\r",
      "Generating embeddings:  56%|██████████████████████████████████████████████████████████████████████████████████████████████████▊                                                                             | 2160/3848 [25:56<22:16,  1.26it/s]"
     ]
    },
    {
     "name": "stdout",
     "output_type": "stream",
     "text": [
      "INFO:httpx:HTTP Request: POST http://127.0.0.1:8080/embed \"HTTP/1.1 200 OK\"\n",
      "HTTP Request: POST http://127.0.0.1:8080/embed \"HTTP/1.1 200 OK\"\n",
      "HTTP Request: POST http://127.0.0.1:8080/embed \"HTTP/1.1 200 OK\"\n",
      "HTTP Request: POST http://127.0.0.1:8080/embed \"HTTP/1.1 200 OK\"\n"
     ]
    },
    {
     "name": "stderr",
     "output_type": "stream",
     "text": [
      "\r",
      "Generating embeddings:  56%|███████████████████████████████████████████████████████████████████████████████████████████████████▎                                                                            | 2170/3848 [26:04<21:44,  1.29it/s]"
     ]
    },
    {
     "name": "stdout",
     "output_type": "stream",
     "text": [
      "INFO:httpx:HTTP Request: POST http://127.0.0.1:8080/embed \"HTTP/1.1 200 OK\"\n",
      "HTTP Request: POST http://127.0.0.1:8080/embed \"HTTP/1.1 200 OK\"\n",
      "HTTP Request: POST http://127.0.0.1:8080/embed \"HTTP/1.1 200 OK\"\n",
      "HTTP Request: POST http://127.0.0.1:8080/embed \"HTTP/1.1 200 OK\"\n"
     ]
    },
    {
     "name": "stderr",
     "output_type": "stream",
     "text": [
      "\r",
      "Generating embeddings:  57%|███████████████████████████████████████████████████████████████████████████████████████████████████▋                                                                            | 2180/3848 [26:11<21:30,  1.29it/s]"
     ]
    },
    {
     "name": "stdout",
     "output_type": "stream",
     "text": [
      "INFO:httpx:HTTP Request: POST http://127.0.0.1:8080/embed \"HTTP/1.1 200 OK\"\n",
      "HTTP Request: POST http://127.0.0.1:8080/embed \"HTTP/1.1 200 OK\"\n",
      "HTTP Request: POST http://127.0.0.1:8080/embed \"HTTP/1.1 200 OK\"\n",
      "HTTP Request: POST http://127.0.0.1:8080/embed \"HTTP/1.1 200 OK\"\n"
     ]
    },
    {
     "name": "stderr",
     "output_type": "stream",
     "text": [
      "\r",
      "Generating embeddings:  57%|████████████████████████████████████████████████████████████████████████████████████████████████████▏                                                                           | 2190/3848 [26:19<21:24,  1.29it/s]"
     ]
    },
    {
     "name": "stdout",
     "output_type": "stream",
     "text": [
      "INFO:httpx:HTTP Request: POST http://127.0.0.1:8080/embed \"HTTP/1.1 200 OK\"\n",
      "HTTP Request: POST http://127.0.0.1:8080/embed \"HTTP/1.1 200 OK\"\n",
      "HTTP Request: POST http://127.0.0.1:8080/embed \"HTTP/1.1 200 OK\"\n",
      "HTTP Request: POST http://127.0.0.1:8080/embed \"HTTP/1.1 200 OK\"\n"
     ]
    },
    {
     "name": "stderr",
     "output_type": "stream",
     "text": [
      "\r",
      "Generating embeddings:  57%|████████████████████████████████████████████████████████████████████████████████████████████████████▌                                                                           | 2200/3848 [26:27<21:25,  1.28it/s]"
     ]
    },
    {
     "name": "stdout",
     "output_type": "stream",
     "text": [
      "INFO:httpx:HTTP Request: POST http://127.0.0.1:8080/embed \"HTTP/1.1 200 OK\"\n",
      "HTTP Request: POST http://127.0.0.1:8080/embed \"HTTP/1.1 200 OK\"\n",
      "HTTP Request: POST http://127.0.0.1:8080/embed \"HTTP/1.1 200 OK\"\n",
      "HTTP Request: POST http://127.0.0.1:8080/embed \"HTTP/1.1 200 OK\"\n"
     ]
    },
    {
     "name": "stderr",
     "output_type": "stream",
     "text": [
      "\r",
      "Generating embeddings:  57%|█████████████████████████████████████████████████████████████████████████████████████████████████████                                                                           | 2210/3848 [26:36<21:52,  1.25it/s]"
     ]
    },
    {
     "name": "stdout",
     "output_type": "stream",
     "text": [
      "INFO:httpx:HTTP Request: POST http://127.0.0.1:8080/embed \"HTTP/1.1 200 OK\"\n",
      "HTTP Request: POST http://127.0.0.1:8080/embed \"HTTP/1.1 200 OK\"\n",
      "HTTP Request: POST http://127.0.0.1:8080/embed \"HTTP/1.1 200 OK\"\n",
      "HTTP Request: POST http://127.0.0.1:8080/embed \"HTTP/1.1 200 OK\"\n"
     ]
    },
    {
     "name": "stderr",
     "output_type": "stream",
     "text": [
      "\r",
      "Generating embeddings:  58%|█████████████████████████████████████████████████████████████████████████████████████████████████████▌                                                                          | 2220/3848 [26:44<21:45,  1.25it/s]"
     ]
    },
    {
     "name": "stdout",
     "output_type": "stream",
     "text": [
      "INFO:httpx:HTTP Request: POST http://127.0.0.1:8080/embed \"HTTP/1.1 200 OK\"\n",
      "HTTP Request: POST http://127.0.0.1:8080/embed \"HTTP/1.1 200 OK\"\n",
      "HTTP Request: POST http://127.0.0.1:8080/embed \"HTTP/1.1 200 OK\"\n",
      "HTTP Request: POST http://127.0.0.1:8080/embed \"HTTP/1.1 200 OK\"\n"
     ]
    },
    {
     "name": "stderr",
     "output_type": "stream",
     "text": [
      "\r",
      "Generating embeddings:  58%|█████████████████████████████████████████████████████████████████████████████████████████████████████▉                                                                          | 2230/3848 [26:52<21:33,  1.25it/s]"
     ]
    },
    {
     "name": "stdout",
     "output_type": "stream",
     "text": [
      "INFO:httpx:HTTP Request: POST http://127.0.0.1:8080/embed \"HTTP/1.1 200 OK\"\n",
      "HTTP Request: POST http://127.0.0.1:8080/embed \"HTTP/1.1 200 OK\"\n",
      "HTTP Request: POST http://127.0.0.1:8080/embed \"HTTP/1.1 200 OK\"\n",
      "HTTP Request: POST http://127.0.0.1:8080/embed \"HTTP/1.1 200 OK\"\n"
     ]
    },
    {
     "name": "stderr",
     "output_type": "stream",
     "text": [
      "\r",
      "Generating embeddings:  58%|██████████████████████████████████████████████████████████████████████████████████████████████████████▍                                                                         | 2240/3848 [27:00<21:35,  1.24it/s]"
     ]
    },
    {
     "name": "stdout",
     "output_type": "stream",
     "text": [
      "INFO:httpx:HTTP Request: POST http://127.0.0.1:8080/embed \"HTTP/1.1 200 OK\"\n",
      "HTTP Request: POST http://127.0.0.1:8080/embed \"HTTP/1.1 200 OK\"\n",
      "HTTP Request: POST http://127.0.0.1:8080/embed \"HTTP/1.1 200 OK\"\n",
      "HTTP Request: POST http://127.0.0.1:8080/embed \"HTTP/1.1 200 OK\"\n"
     ]
    },
    {
     "name": "stderr",
     "output_type": "stream",
     "text": [
      "\r",
      "Generating embeddings:  58%|██████████████████████████████████████████████████████████████████████████████████████████████████████▉                                                                         | 2250/3848 [27:08<21:30,  1.24it/s]"
     ]
    },
    {
     "name": "stdout",
     "output_type": "stream",
     "text": [
      "INFO:httpx:HTTP Request: POST http://127.0.0.1:8080/embed \"HTTP/1.1 200 OK\"\n",
      "HTTP Request: POST http://127.0.0.1:8080/embed \"HTTP/1.1 200 OK\"\n",
      "HTTP Request: POST http://127.0.0.1:8080/embed \"HTTP/1.1 200 OK\"\n",
      "HTTP Request: POST http://127.0.0.1:8080/embed \"HTTP/1.1 200 OK\"\n"
     ]
    },
    {
     "name": "stderr",
     "output_type": "stream",
     "text": [
      "\r",
      "Generating embeddings:  59%|███████████████████████████████████████████████████████████████████████████████████████████████████████▎                                                                        | 2260/3848 [27:14<20:13,  1.31it/s]"
     ]
    },
    {
     "name": "stdout",
     "output_type": "stream",
     "text": [
      "INFO:httpx:HTTP Request: POST http://127.0.0.1:8080/embed \"HTTP/1.1 200 OK\"\n",
      "HTTP Request: POST http://127.0.0.1:8080/embed \"HTTP/1.1 200 OK\"\n",
      "HTTP Request: POST http://127.0.0.1:8080/embed \"HTTP/1.1 200 OK\"\n",
      "HTTP Request: POST http://127.0.0.1:8080/embed \"HTTP/1.1 200 OK\"\n"
     ]
    },
    {
     "name": "stderr",
     "output_type": "stream",
     "text": [
      "\r",
      "Generating embeddings:  59%|███████████████████████████████████████████████████████████████████████████████████████████████████████▊                                                                        | 2270/3848 [27:21<19:10,  1.37it/s]"
     ]
    },
    {
     "name": "stdout",
     "output_type": "stream",
     "text": [
      "INFO:httpx:HTTP Request: POST http://127.0.0.1:8080/embed \"HTTP/1.1 200 OK\"\n",
      "HTTP Request: POST http://127.0.0.1:8080/embed \"HTTP/1.1 200 OK\"\n",
      "HTTP Request: POST http://127.0.0.1:8080/embed \"HTTP/1.1 200 OK\"\n",
      "HTTP Request: POST http://127.0.0.1:8080/embed \"HTTP/1.1 200 OK\"\n"
     ]
    },
    {
     "name": "stderr",
     "output_type": "stream",
     "text": [
      "\r",
      "Generating embeddings:  59%|████████████████████████████████████████████████████████████████████████████████████████████████████████▎                                                                       | 2280/3848 [27:26<17:18,  1.51it/s]"
     ]
    },
    {
     "name": "stdout",
     "output_type": "stream",
     "text": [
      "INFO:httpx:HTTP Request: POST http://127.0.0.1:8080/embed \"HTTP/1.1 200 OK\"\n",
      "HTTP Request: POST http://127.0.0.1:8080/embed \"HTTP/1.1 200 OK\"\n",
      "HTTP Request: POST http://127.0.0.1:8080/embed \"HTTP/1.1 200 OK\"\n",
      "HTTP Request: POST http://127.0.0.1:8080/embed \"HTTP/1.1 200 OK\"\n"
     ]
    },
    {
     "name": "stderr",
     "output_type": "stream",
     "text": [
      "\r",
      "Generating embeddings:  60%|████████████████████████████████████████████████████████████████████████████████████████████████████████▋                                                                       | 2290/3848 [27:32<16:28,  1.58it/s]"
     ]
    },
    {
     "name": "stdout",
     "output_type": "stream",
     "text": [
      "INFO:httpx:HTTP Request: POST http://127.0.0.1:8080/embed \"HTTP/1.1 200 OK\"\n",
      "HTTP Request: POST http://127.0.0.1:8080/embed \"HTTP/1.1 200 OK\"\n",
      "HTTP Request: POST http://127.0.0.1:8080/embed \"HTTP/1.1 200 OK\"\n",
      "HTTP Request: POST http://127.0.0.1:8080/embed \"HTTP/1.1 200 OK\"\n"
     ]
    },
    {
     "name": "stderr",
     "output_type": "stream",
     "text": [
      "\r",
      "Generating embeddings:  60%|█████████████████████████████████████████████████████████████████████████████████████████████████████████▏                                                                      | 2300/3848 [27:38<16:16,  1.59it/s]"
     ]
    },
    {
     "name": "stdout",
     "output_type": "stream",
     "text": [
      "INFO:httpx:HTTP Request: POST http://127.0.0.1:8080/embed \"HTTP/1.1 200 OK\"\n",
      "HTTP Request: POST http://127.0.0.1:8080/embed \"HTTP/1.1 200 OK\"\n",
      "HTTP Request: POST http://127.0.0.1:8080/embed \"HTTP/1.1 200 OK\"\n",
      "HTTP Request: POST http://127.0.0.1:8080/embed \"HTTP/1.1 200 OK\"\n"
     ]
    },
    {
     "name": "stderr",
     "output_type": "stream",
     "text": [
      "\r",
      "Generating embeddings:  60%|█████████████████████████████████████████████████████████████████████████████████████████████████████████▋                                                                      | 2310/3848 [27:44<16:08,  1.59it/s]"
     ]
    },
    {
     "name": "stdout",
     "output_type": "stream",
     "text": [
      "INFO:httpx:HTTP Request: POST http://127.0.0.1:8080/embed \"HTTP/1.1 200 OK\"\n",
      "HTTP Request: POST http://127.0.0.1:8080/embed \"HTTP/1.1 200 OK\"\n",
      "HTTP Request: POST http://127.0.0.1:8080/embed \"HTTP/1.1 200 OK\"\n",
      "HTTP Request: POST http://127.0.0.1:8080/embed \"HTTP/1.1 200 OK\"\n"
     ]
    },
    {
     "name": "stderr",
     "output_type": "stream",
     "text": [
      "\r",
      "Generating embeddings:  60%|██████████████████████████████████████████████████████████████████████████████████████████████████████████                                                                      | 2320/3848 [27:50<15:55,  1.60it/s]"
     ]
    },
    {
     "name": "stdout",
     "output_type": "stream",
     "text": [
      "INFO:httpx:HTTP Request: POST http://127.0.0.1:8080/embed \"HTTP/1.1 200 OK\"\n",
      "HTTP Request: POST http://127.0.0.1:8080/embed \"HTTP/1.1 200 OK\"\n",
      "HTTP Request: POST http://127.0.0.1:8080/embed \"HTTP/1.1 200 OK\"\n",
      "HTTP Request: POST http://127.0.0.1:8080/embed \"HTTP/1.1 200 OK\"\n"
     ]
    },
    {
     "name": "stderr",
     "output_type": "stream",
     "text": [
      "\r",
      "Generating embeddings:  61%|██████████████████████████████████████████████████████████████████████████████████████████████████████████▌                                                                     | 2330/3848 [27:56<15:34,  1.62it/s]"
     ]
    },
    {
     "name": "stdout",
     "output_type": "stream",
     "text": [
      "INFO:httpx:HTTP Request: POST http://127.0.0.1:8080/embed \"HTTP/1.1 200 OK\"\n",
      "HTTP Request: POST http://127.0.0.1:8080/embed \"HTTP/1.1 200 OK\"\n",
      "HTTP Request: POST http://127.0.0.1:8080/embed \"HTTP/1.1 200 OK\"\n",
      "HTTP Request: POST http://127.0.0.1:8080/embed \"HTTP/1.1 200 OK\"\n"
     ]
    },
    {
     "name": "stderr",
     "output_type": "stream",
     "text": [
      "\r",
      "Generating embeddings:  61%|███████████████████████████████████████████████████████████████████████████████████████████████████████████                                                                     | 2340/3848 [28:02<15:07,  1.66it/s]"
     ]
    },
    {
     "name": "stdout",
     "output_type": "stream",
     "text": [
      "INFO:httpx:HTTP Request: POST http://127.0.0.1:8080/embed \"HTTP/1.1 200 OK\"\n",
      "HTTP Request: POST http://127.0.0.1:8080/embed \"HTTP/1.1 200 OK\"\n",
      "HTTP Request: POST http://127.0.0.1:8080/embed \"HTTP/1.1 200 OK\"\n",
      "HTTP Request: POST http://127.0.0.1:8080/embed \"HTTP/1.1 200 OK\"\n"
     ]
    },
    {
     "name": "stderr",
     "output_type": "stream",
     "text": [
      "\r",
      "Generating embeddings:  61%|███████████████████████████████████████████████████████████████████████████████████████████████████████████▍                                                                    | 2350/3848 [28:08<15:02,  1.66it/s]"
     ]
    },
    {
     "name": "stdout",
     "output_type": "stream",
     "text": [
      "INFO:httpx:HTTP Request: POST http://127.0.0.1:8080/embed \"HTTP/1.1 200 OK\"\n",
      "HTTP Request: POST http://127.0.0.1:8080/embed \"HTTP/1.1 200 OK\"\n",
      "HTTP Request: POST http://127.0.0.1:8080/embed \"HTTP/1.1 200 OK\"\n",
      "HTTP Request: POST http://127.0.0.1:8080/embed \"HTTP/1.1 200 OK\"\n"
     ]
    },
    {
     "name": "stderr",
     "output_type": "stream",
     "text": [
      "\r",
      "Generating embeddings:  61%|███████████████████████████████████████████████████████████████████████████████████████████████████████████▉                                                                    | 2360/3848 [28:13<14:25,  1.72it/s]"
     ]
    },
    {
     "name": "stdout",
     "output_type": "stream",
     "text": [
      "INFO:httpx:HTTP Request: POST http://127.0.0.1:8080/embed \"HTTP/1.1 200 OK\"\n",
      "HTTP Request: POST http://127.0.0.1:8080/embed \"HTTP/1.1 200 OK\"\n",
      "HTTP Request: POST http://127.0.0.1:8080/embed \"HTTP/1.1 200 OK\"\n",
      "HTTP Request: POST http://127.0.0.1:8080/embed \"HTTP/1.1 200 OK\"\n"
     ]
    },
    {
     "name": "stderr",
     "output_type": "stream",
     "text": [
      "\r",
      "Generating embeddings:  62%|████████████████████████████████████████████████████████████████████████████████████████████████████████████▍                                                                   | 2370/3848 [28:20<14:41,  1.68it/s]"
     ]
    },
    {
     "name": "stdout",
     "output_type": "stream",
     "text": [
      "INFO:httpx:HTTP Request: POST http://127.0.0.1:8080/embed \"HTTP/1.1 200 OK\"\n",
      "HTTP Request: POST http://127.0.0.1:8080/embed \"HTTP/1.1 200 OK\"\n",
      "HTTP Request: POST http://127.0.0.1:8080/embed \"HTTP/1.1 200 OK\"\n",
      "HTTP Request: POST http://127.0.0.1:8080/embed \"HTTP/1.1 200 OK\"\n"
     ]
    },
    {
     "name": "stderr",
     "output_type": "stream",
     "text": [
      "\r",
      "Generating embeddings:  62%|████████████████████████████████████████████████████████████████████████████████████████████████████████████▊                                                                   | 2380/3848 [28:25<14:22,  1.70it/s]"
     ]
    },
    {
     "name": "stdout",
     "output_type": "stream",
     "text": [
      "INFO:httpx:HTTP Request: POST http://127.0.0.1:8080/embed \"HTTP/1.1 200 OK\"\n",
      "HTTP Request: POST http://127.0.0.1:8080/embed \"HTTP/1.1 200 OK\"\n",
      "HTTP Request: POST http://127.0.0.1:8080/embed \"HTTP/1.1 200 OK\"\n",
      "HTTP Request: POST http://127.0.0.1:8080/embed \"HTTP/1.1 200 OK\"\n"
     ]
    },
    {
     "name": "stderr",
     "output_type": "stream",
     "text": [
      "\r",
      "Generating embeddings:  62%|█████████████████████████████████████████████████████████████████████████████████████████████████████████████▎                                                                  | 2390/3848 [28:31<13:48,  1.76it/s]"
     ]
    },
    {
     "name": "stdout",
     "output_type": "stream",
     "text": [
      "INFO:httpx:HTTP Request: POST http://127.0.0.1:8080/embed \"HTTP/1.1 200 OK\"\n",
      "HTTP Request: POST http://127.0.0.1:8080/embed \"HTTP/1.1 200 OK\"\n",
      "HTTP Request: POST http://127.0.0.1:8080/embed \"HTTP/1.1 200 OK\"\n",
      "HTTP Request: POST http://127.0.0.1:8080/embed \"HTTP/1.1 200 OK\"\n"
     ]
    },
    {
     "name": "stderr",
     "output_type": "stream",
     "text": [
      "\r",
      "Generating embeddings:  62%|█████████████████████████████████████████████████████████████████████████████████████████████████████████████▊                                                                  | 2400/3848 [28:37<14:01,  1.72it/s]"
     ]
    },
    {
     "name": "stdout",
     "output_type": "stream",
     "text": [
      "INFO:httpx:HTTP Request: POST http://127.0.0.1:8080/embed \"HTTP/1.1 200 OK\"\n",
      "HTTP Request: POST http://127.0.0.1:8080/embed \"HTTP/1.1 200 OK\"\n",
      "HTTP Request: POST http://127.0.0.1:8080/embed \"HTTP/1.1 200 OK\"\n",
      "HTTP Request: POST http://127.0.0.1:8080/embed \"HTTP/1.1 200 OK\"\n"
     ]
    },
    {
     "name": "stderr",
     "output_type": "stream",
     "text": [
      "\r",
      "Generating embeddings:  63%|██████████████████████████████████████████████████████████████████████████████████████████████████████████████▏                                                                 | 2410/3848 [28:42<13:55,  1.72it/s]"
     ]
    },
    {
     "name": "stdout",
     "output_type": "stream",
     "text": [
      "INFO:httpx:HTTP Request: POST http://127.0.0.1:8080/embed \"HTTP/1.1 200 OK\"\n",
      "HTTP Request: POST http://127.0.0.1:8080/embed \"HTTP/1.1 200 OK\"\n",
      "HTTP Request: POST http://127.0.0.1:8080/embed \"HTTP/1.1 200 OK\"\n",
      "HTTP Request: POST http://127.0.0.1:8080/embed \"HTTP/1.1 200 OK\"\n"
     ]
    },
    {
     "name": "stderr",
     "output_type": "stream",
     "text": [
      "\r",
      "Generating embeddings:  63%|██████████████████████████████████████████████████████████████████████████████████████████████████████████████▋                                                                 | 2420/3848 [28:49<14:07,  1.68it/s]"
     ]
    },
    {
     "name": "stdout",
     "output_type": "stream",
     "text": [
      "INFO:httpx:HTTP Request: POST http://127.0.0.1:8080/embed \"HTTP/1.1 200 OK\"\n",
      "HTTP Request: POST http://127.0.0.1:8080/embed \"HTTP/1.1 200 OK\"\n",
      "HTTP Request: POST http://127.0.0.1:8080/embed \"HTTP/1.1 200 OK\"\n",
      "HTTP Request: POST http://127.0.0.1:8080/embed \"HTTP/1.1 200 OK\"\n"
     ]
    },
    {
     "name": "stderr",
     "output_type": "stream",
     "text": [
      "\r",
      "Generating embeddings:  63%|███████████████████████████████████████████████████████████████████████████████████████████████████████████████▏                                                                | 2430/3848 [28:54<13:52,  1.70it/s]"
     ]
    },
    {
     "name": "stdout",
     "output_type": "stream",
     "text": [
      "INFO:httpx:HTTP Request: POST http://127.0.0.1:8080/embed \"HTTP/1.1 200 OK\"\n",
      "HTTP Request: POST http://127.0.0.1:8080/embed \"HTTP/1.1 200 OK\"\n",
      "HTTP Request: POST http://127.0.0.1:8080/embed \"HTTP/1.1 200 OK\"\n",
      "HTTP Request: POST http://127.0.0.1:8080/embed \"HTTP/1.1 200 OK\"\n"
     ]
    },
    {
     "name": "stderr",
     "output_type": "stream",
     "text": [
      "\r",
      "Generating embeddings:  63%|███████████████████████████████████████████████████████████████████████████████████████████████████████████████▌                                                                | 2440/3848 [29:01<13:57,  1.68it/s]"
     ]
    },
    {
     "name": "stdout",
     "output_type": "stream",
     "text": [
      "INFO:httpx:HTTP Request: POST http://127.0.0.1:8080/embed \"HTTP/1.1 200 OK\"\n",
      "HTTP Request: POST http://127.0.0.1:8080/embed \"HTTP/1.1 200 OK\"\n",
      "HTTP Request: POST http://127.0.0.1:8080/embed \"HTTP/1.1 200 OK\"\n",
      "HTTP Request: POST http://127.0.0.1:8080/embed \"HTTP/1.1 200 OK\"\n"
     ]
    },
    {
     "name": "stderr",
     "output_type": "stream",
     "text": [
      "\r",
      "Generating embeddings:  64%|████████████████████████████████████████████████████████████████████████████████████████████████████████████████                                                                | 2450/3848 [29:07<14:15,  1.64it/s]"
     ]
    },
    {
     "name": "stdout",
     "output_type": "stream",
     "text": [
      "INFO:httpx:HTTP Request: POST http://127.0.0.1:8080/embed \"HTTP/1.1 200 OK\"\n",
      "HTTP Request: POST http://127.0.0.1:8080/embed \"HTTP/1.1 200 OK\"\n",
      "HTTP Request: POST http://127.0.0.1:8080/embed \"HTTP/1.1 200 OK\"\n",
      "HTTP Request: POST http://127.0.0.1:8080/embed \"HTTP/1.1 200 OK\"\n"
     ]
    },
    {
     "name": "stderr",
     "output_type": "stream",
     "text": [
      "\r",
      "Generating embeddings:  64%|████████████████████████████████████████████████████████████████████████████████████████████████████████████████▌                                                               | 2460/3848 [29:13<14:17,  1.62it/s]"
     ]
    },
    {
     "name": "stdout",
     "output_type": "stream",
     "text": [
      "INFO:httpx:HTTP Request: POST http://127.0.0.1:8080/embed \"HTTP/1.1 200 OK\"\n",
      "HTTP Request: POST http://127.0.0.1:8080/embed \"HTTP/1.1 200 OK\"\n",
      "HTTP Request: POST http://127.0.0.1:8080/embed \"HTTP/1.1 200 OK\"\n",
      "HTTP Request: POST http://127.0.0.1:8080/embed \"HTTP/1.1 200 OK\"\n"
     ]
    },
    {
     "name": "stderr",
     "output_type": "stream",
     "text": [
      "\r",
      "Generating embeddings:  64%|████████████████████████████████████████████████████████████████████████████████████████████████████████████████▉                                                               | 2470/3848 [29:22<15:33,  1.48it/s]"
     ]
    },
    {
     "name": "stdout",
     "output_type": "stream",
     "text": [
      "INFO:httpx:HTTP Request: POST http://127.0.0.1:8080/embed \"HTTP/1.1 200 OK\"\n",
      "HTTP Request: POST http://127.0.0.1:8080/embed \"HTTP/1.1 200 OK\"\n",
      "HTTP Request: POST http://127.0.0.1:8080/embed \"HTTP/1.1 200 OK\"\n",
      "HTTP Request: POST http://127.0.0.1:8080/embed \"HTTP/1.1 200 OK\"\n"
     ]
    },
    {
     "name": "stderr",
     "output_type": "stream",
     "text": [
      "\r",
      "Generating embeddings:  64%|█████████████████████████████████████████████████████████████████████████████████████████████████████████████████▍                                                              | 2480/3848 [29:29<15:43,  1.45it/s]"
     ]
    },
    {
     "name": "stdout",
     "output_type": "stream",
     "text": [
      "INFO:httpx:HTTP Request: POST http://127.0.0.1:8080/embed \"HTTP/1.1 200 OK\"\n",
      "HTTP Request: POST http://127.0.0.1:8080/embed \"HTTP/1.1 200 OK\"\n",
      "HTTP Request: POST http://127.0.0.1:8080/embed \"HTTP/1.1 200 OK\"\n",
      "HTTP Request: POST http://127.0.0.1:8080/embed \"HTTP/1.1 200 OK\"\n"
     ]
    },
    {
     "name": "stderr",
     "output_type": "stream",
     "text": [
      "\r",
      "Generating embeddings:  65%|█████████████████████████████████████████████████████████████████████████████████████████████████████████████████▉                                                              | 2490/3848 [29:35<15:18,  1.48it/s]"
     ]
    },
    {
     "name": "stdout",
     "output_type": "stream",
     "text": [
      "INFO:httpx:HTTP Request: POST http://127.0.0.1:8080/embed \"HTTP/1.1 200 OK\"\n",
      "HTTP Request: POST http://127.0.0.1:8080/embed \"HTTP/1.1 200 OK\"\n",
      "HTTP Request: POST http://127.0.0.1:8080/embed \"HTTP/1.1 200 OK\"\n",
      "HTTP Request: POST http://127.0.0.1:8080/embed \"HTTP/1.1 200 OK\"\n"
     ]
    },
    {
     "name": "stderr",
     "output_type": "stream",
     "text": [
      "\r",
      "Generating embeddings:  65%|██████████████████████████████████████████████████████████████████████████████████████████████████████████████████▎                                                             | 2500/3848 [29:41<14:27,  1.55it/s]"
     ]
    },
    {
     "name": "stdout",
     "output_type": "stream",
     "text": [
      "INFO:httpx:HTTP Request: POST http://127.0.0.1:8080/embed \"HTTP/1.1 200 OK\"\n",
      "HTTP Request: POST http://127.0.0.1:8080/embed \"HTTP/1.1 200 OK\"\n",
      "HTTP Request: POST http://127.0.0.1:8080/embed \"HTTP/1.1 200 OK\"\n",
      "HTTP Request: POST http://127.0.0.1:8080/embed \"HTTP/1.1 200 OK\"\n"
     ]
    },
    {
     "name": "stderr",
     "output_type": "stream",
     "text": [
      "\r",
      "Generating embeddings:  65%|██████████████████████████████████████████████████████████████████████████████████████████████████████████████████▊                                                             | 2510/3848 [29:47<14:07,  1.58it/s]"
     ]
    },
    {
     "name": "stdout",
     "output_type": "stream",
     "text": [
      "INFO:httpx:HTTP Request: POST http://127.0.0.1:8080/embed \"HTTP/1.1 200 OK\"\n",
      "HTTP Request: POST http://127.0.0.1:8080/embed \"HTTP/1.1 200 OK\"\n",
      "HTTP Request: POST http://127.0.0.1:8080/embed \"HTTP/1.1 200 OK\"\n",
      "HTTP Request: POST http://127.0.0.1:8080/embed \"HTTP/1.1 200 OK\"\n"
     ]
    },
    {
     "name": "stderr",
     "output_type": "stream",
     "text": [
      "\r",
      "Generating embeddings:  65%|███████████████████████████████████████████████████████████████████████████████████████████████████████████████████▎                                                            | 2520/3848 [29:52<12:59,  1.70it/s]"
     ]
    },
    {
     "name": "stdout",
     "output_type": "stream",
     "text": [
      "INFO:httpx:HTTP Request: POST http://127.0.0.1:8080/embed \"HTTP/1.1 200 OK\"\n",
      "HTTP Request: POST http://127.0.0.1:8080/embed \"HTTP/1.1 200 OK\"\n",
      "HTTP Request: POST http://127.0.0.1:8080/embed \"HTTP/1.1 200 OK\"\n",
      "HTTP Request: POST http://127.0.0.1:8080/embed \"HTTP/1.1 200 OK\"\n"
     ]
    },
    {
     "name": "stderr",
     "output_type": "stream",
     "text": [
      "\r",
      "Generating embeddings:  66%|███████████████████████████████████████████████████████████████████████████████████████████████████████████████████▋                                                            | 2530/3848 [29:57<12:42,  1.73it/s]"
     ]
    },
    {
     "name": "stdout",
     "output_type": "stream",
     "text": [
      "INFO:httpx:HTTP Request: POST http://127.0.0.1:8080/embed \"HTTP/1.1 200 OK\"\n",
      "HTTP Request: POST http://127.0.0.1:8080/embed \"HTTP/1.1 200 OK\"\n",
      "HTTP Request: POST http://127.0.0.1:8080/embed \"HTTP/1.1 200 OK\"\n",
      "HTTP Request: POST http://127.0.0.1:8080/embed \"HTTP/1.1 200 OK\"\n"
     ]
    },
    {
     "name": "stderr",
     "output_type": "stream",
     "text": [
      "\r",
      "Generating embeddings:  66%|████████████████████████████████████████████████████████████████████████████████████████████████████████████████████▏                                                           | 2540/3848 [30:03<12:16,  1.78it/s]"
     ]
    },
    {
     "name": "stdout",
     "output_type": "stream",
     "text": [
      "INFO:httpx:HTTP Request: POST http://127.0.0.1:8080/embed \"HTTP/1.1 200 OK\"\n",
      "HTTP Request: POST http://127.0.0.1:8080/embed \"HTTP/1.1 200 OK\"\n",
      "HTTP Request: POST http://127.0.0.1:8080/embed \"HTTP/1.1 200 OK\"\n",
      "HTTP Request: POST http://127.0.0.1:8080/embed \"HTTP/1.1 200 OK\"\n"
     ]
    },
    {
     "name": "stderr",
     "output_type": "stream",
     "text": [
      "\r",
      "Generating embeddings:  66%|████████████████████████████████████████████████████████████████████████████████████████████████████████████████████▋                                                           | 2550/3848 [30:08<11:59,  1.80it/s]"
     ]
    },
    {
     "name": "stdout",
     "output_type": "stream",
     "text": [
      "INFO:httpx:HTTP Request: POST http://127.0.0.1:8080/embed \"HTTP/1.1 200 OK\"\n",
      "HTTP Request: POST http://127.0.0.1:8080/embed \"HTTP/1.1 200 OK\"\n",
      "HTTP Request: POST http://127.0.0.1:8080/embed \"HTTP/1.1 200 OK\"\n",
      "HTTP Request: POST http://127.0.0.1:8080/embed \"HTTP/1.1 200 OK\"\n"
     ]
    },
    {
     "name": "stderr",
     "output_type": "stream",
     "text": [
      "\r",
      "Generating embeddings:  67%|█████████████████████████████████████████████████████████████████████████████████████████████████████████████████████                                                           | 2560/3848 [30:13<11:22,  1.89it/s]"
     ]
    },
    {
     "name": "stdout",
     "output_type": "stream",
     "text": [
      "INFO:httpx:HTTP Request: POST http://127.0.0.1:8080/embed \"HTTP/1.1 200 OK\"\n",
      "HTTP Request: POST http://127.0.0.1:8080/embed \"HTTP/1.1 200 OK\"\n",
      "HTTP Request: POST http://127.0.0.1:8080/embed \"HTTP/1.1 200 OK\"\n",
      "HTTP Request: POST http://127.0.0.1:8080/embed \"HTTP/1.1 200 OK\"\n"
     ]
    },
    {
     "name": "stderr",
     "output_type": "stream",
     "text": [
      "\r",
      "Generating embeddings:  67%|█████████████████████████████████████████████████████████████████████████████████████████████████████████████████████▌                                                          | 2570/3848 [30:18<11:03,  1.93it/s]"
     ]
    },
    {
     "name": "stdout",
     "output_type": "stream",
     "text": [
      "INFO:httpx:HTTP Request: POST http://127.0.0.1:8080/embed \"HTTP/1.1 200 OK\"\n",
      "HTTP Request: POST http://127.0.0.1:8080/embed \"HTTP/1.1 200 OK\"\n",
      "HTTP Request: POST http://127.0.0.1:8080/embed \"HTTP/1.1 200 OK\"\n",
      "HTTP Request: POST http://127.0.0.1:8080/embed \"HTTP/1.1 200 OK\"\n"
     ]
    },
    {
     "name": "stderr",
     "output_type": "stream",
     "text": [
      "\r",
      "Generating embeddings:  67%|██████████████████████████████████████████████████████████████████████████████████████████████████████████████████████                                                          | 2580/3848 [30:22<10:43,  1.97it/s]"
     ]
    },
    {
     "name": "stdout",
     "output_type": "stream",
     "text": [
      "INFO:httpx:HTTP Request: POST http://127.0.0.1:8080/embed \"HTTP/1.1 200 OK\"\n",
      "HTTP Request: POST http://127.0.0.1:8080/embed \"HTTP/1.1 200 OK\"\n",
      "HTTP Request: POST http://127.0.0.1:8080/embed \"HTTP/1.1 200 OK\"\n",
      "HTTP Request: POST http://127.0.0.1:8080/embed \"HTTP/1.1 200 OK\"\n"
     ]
    },
    {
     "name": "stderr",
     "output_type": "stream",
     "text": [
      "\r",
      "Generating embeddings:  67%|██████████████████████████████████████████████████████████████████████████████████████████████████████████████████████▍                                                         | 2590/3848 [30:27<10:22,  2.02it/s]"
     ]
    },
    {
     "name": "stdout",
     "output_type": "stream",
     "text": [
      "INFO:httpx:HTTP Request: POST http://127.0.0.1:8080/embed \"HTTP/1.1 200 OK\"\n",
      "HTTP Request: POST http://127.0.0.1:8080/embed \"HTTP/1.1 200 OK\"\n",
      "HTTP Request: POST http://127.0.0.1:8080/embed \"HTTP/1.1 200 OK\"\n",
      "HTTP Request: POST http://127.0.0.1:8080/embed \"HTTP/1.1 200 OK\"\n"
     ]
    },
    {
     "name": "stderr",
     "output_type": "stream",
     "text": [
      "\r",
      "Generating embeddings:  68%|██████████████████████████████████████████████████████████████████████████████████████████████████████████████████████▉                                                         | 2600/3848 [30:32<10:04,  2.06it/s]"
     ]
    },
    {
     "name": "stdout",
     "output_type": "stream",
     "text": [
      "INFO:httpx:HTTP Request: POST http://127.0.0.1:8080/embed \"HTTP/1.1 200 OK\"\n",
      "HTTP Request: POST http://127.0.0.1:8080/embed \"HTTP/1.1 200 OK\"\n",
      "HTTP Request: POST http://127.0.0.1:8080/embed \"HTTP/1.1 200 OK\"\n",
      "HTTP Request: POST http://127.0.0.1:8080/embed \"HTTP/1.1 200 OK\"\n"
     ]
    },
    {
     "name": "stderr",
     "output_type": "stream",
     "text": [
      "\r",
      "Generating embeddings:  68%|███████████████████████████████████████████████████████████████████████████████████████████████████████████████████████▍                                                        | 2610/3848 [30:37<10:02,  2.05it/s]"
     ]
    },
    {
     "name": "stdout",
     "output_type": "stream",
     "text": [
      "INFO:httpx:HTTP Request: POST http://127.0.0.1:8080/embed \"HTTP/1.1 200 OK\"\n",
      "HTTP Request: POST http://127.0.0.1:8080/embed \"HTTP/1.1 200 OK\"\n",
      "HTTP Request: POST http://127.0.0.1:8080/embed \"HTTP/1.1 200 OK\"\n",
      "HTTP Request: POST http://127.0.0.1:8080/embed \"HTTP/1.1 200 OK\"\n"
     ]
    },
    {
     "name": "stderr",
     "output_type": "stream",
     "text": [
      "\r",
      "Generating embeddings:  68%|███████████████████████████████████████████████████████████████████████████████████████████████████████████████████████▊                                                        | 2620/3848 [30:41<09:51,  2.08it/s]"
     ]
    },
    {
     "name": "stdout",
     "output_type": "stream",
     "text": [
      "INFO:httpx:HTTP Request: POST http://127.0.0.1:8080/embed \"HTTP/1.1 200 OK\"\n",
      "HTTP Request: POST http://127.0.0.1:8080/embed \"HTTP/1.1 200 OK\"\n",
      "HTTP Request: POST http://127.0.0.1:8080/embed \"HTTP/1.1 200 OK\"\n",
      "HTTP Request: POST http://127.0.0.1:8080/embed \"HTTP/1.1 200 OK\"\n"
     ]
    },
    {
     "name": "stderr",
     "output_type": "stream",
     "text": [
      "\r",
      "Generating embeddings:  68%|████████████████████████████████████████████████████████████████████████████████████████████████████████████████████████▎                                                       | 2630/3848 [30:46<09:46,  2.08it/s]"
     ]
    },
    {
     "name": "stdout",
     "output_type": "stream",
     "text": [
      "INFO:httpx:HTTP Request: POST http://127.0.0.1:8080/embed \"HTTP/1.1 200 OK\"\n",
      "HTTP Request: POST http://127.0.0.1:8080/embed \"HTTP/1.1 200 OK\"\n",
      "HTTP Request: POST http://127.0.0.1:8080/embed \"HTTP/1.1 200 OK\"\n",
      "HTTP Request: POST http://127.0.0.1:8080/embed \"HTTP/1.1 200 OK\"\n"
     ]
    },
    {
     "name": "stderr",
     "output_type": "stream",
     "text": [
      "\r",
      "Generating embeddings:  69%|████████████████████████████████████████████████████████████████████████████████████████████████████████████████████████▋                                                       | 2640/3848 [30:51<09:47,  2.06it/s]"
     ]
    },
    {
     "name": "stdout",
     "output_type": "stream",
     "text": [
      "INFO:httpx:HTTP Request: POST http://127.0.0.1:8080/embed \"HTTP/1.1 200 OK\"\n",
      "HTTP Request: POST http://127.0.0.1:8080/embed \"HTTP/1.1 200 OK\"\n",
      "HTTP Request: POST http://127.0.0.1:8080/embed \"HTTP/1.1 200 OK\"\n",
      "HTTP Request: POST http://127.0.0.1:8080/embed \"HTTP/1.1 200 OK\"\n"
     ]
    },
    {
     "name": "stderr",
     "output_type": "stream",
     "text": [
      "\r",
      "Generating embeddings:  69%|█████████████████████████████████████████████████████████████████████████████████████████████████████████████████████████▏                                                      | 2650/3848 [30:56<09:34,  2.08it/s]"
     ]
    },
    {
     "name": "stdout",
     "output_type": "stream",
     "text": [
      "INFO:httpx:HTTP Request: POST http://127.0.0.1:8080/embed \"HTTP/1.1 200 OK\"\n",
      "HTTP Request: POST http://127.0.0.1:8080/embed \"HTTP/1.1 200 OK\"\n",
      "HTTP Request: POST http://127.0.0.1:8080/embed \"HTTP/1.1 200 OK\"\n",
      "HTTP Request: POST http://127.0.0.1:8080/embed \"HTTP/1.1 200 OK\"\n"
     ]
    },
    {
     "name": "stderr",
     "output_type": "stream",
     "text": [
      "\r",
      "Generating embeddings:  69%|█████████████████████████████████████████████████████████████████████████████████████████████████████████████████████████▋                                                      | 2660/3848 [31:01<09:46,  2.03it/s]"
     ]
    },
    {
     "name": "stdout",
     "output_type": "stream",
     "text": [
      "INFO:httpx:HTTP Request: POST http://127.0.0.1:8080/embed \"HTTP/1.1 200 OK\"\n",
      "HTTP Request: POST http://127.0.0.1:8080/embed \"HTTP/1.1 200 OK\"\n",
      "HTTP Request: POST http://127.0.0.1:8080/embed \"HTTP/1.1 200 OK\"\n",
      "HTTP Request: POST http://127.0.0.1:8080/embed \"HTTP/1.1 200 OK\"\n"
     ]
    },
    {
     "name": "stderr",
     "output_type": "stream",
     "text": [
      "\r",
      "Generating embeddings:  69%|██████████████████████████████████████████████████████████████████████████████████████████████████████████████████████████                                                      | 2670/3848 [31:06<09:34,  2.05it/s]"
     ]
    },
    {
     "name": "stdout",
     "output_type": "stream",
     "text": [
      "INFO:httpx:HTTP Request: POST http://127.0.0.1:8080/embed \"HTTP/1.1 200 OK\"\n",
      "HTTP Request: POST http://127.0.0.1:8080/embed \"HTTP/1.1 200 OK\"\n",
      "HTTP Request: POST http://127.0.0.1:8080/embed \"HTTP/1.1 200 OK\"\n",
      "HTTP Request: POST http://127.0.0.1:8080/embed \"HTTP/1.1 200 OK\"\n"
     ]
    },
    {
     "name": "stderr",
     "output_type": "stream",
     "text": [
      "\r",
      "Generating embeddings:  70%|██████████████████████████████████████████████████████████████████████████████████████████████████████████████████████████▌                                                     | 2680/3848 [31:11<09:34,  2.03it/s]"
     ]
    },
    {
     "name": "stdout",
     "output_type": "stream",
     "text": [
      "INFO:httpx:HTTP Request: POST http://127.0.0.1:8080/embed \"HTTP/1.1 200 OK\"\n",
      "HTTP Request: POST http://127.0.0.1:8080/embed \"HTTP/1.1 200 OK\"\n",
      "HTTP Request: POST http://127.0.0.1:8080/embed \"HTTP/1.1 200 OK\"\n",
      "HTTP Request: POST http://127.0.0.1:8080/embed \"HTTP/1.1 200 OK\"\n"
     ]
    },
    {
     "name": "stderr",
     "output_type": "stream",
     "text": [
      "\r",
      "Generating embeddings:  70%|███████████████████████████████████████████████████████████████████████████████████████████████████████████████████████████                                                     | 2690/3848 [31:16<09:29,  2.03it/s]"
     ]
    },
    {
     "name": "stdout",
     "output_type": "stream",
     "text": [
      "INFO:httpx:HTTP Request: POST http://127.0.0.1:8080/embed \"HTTP/1.1 200 OK\"\n",
      "HTTP Request: POST http://127.0.0.1:8080/embed \"HTTP/1.1 200 OK\"\n",
      "HTTP Request: POST http://127.0.0.1:8080/embed \"HTTP/1.1 200 OK\"\n",
      "HTTP Request: POST http://127.0.0.1:8080/embed \"HTTP/1.1 200 OK\"\n"
     ]
    },
    {
     "name": "stderr",
     "output_type": "stream",
     "text": [
      "\r",
      "Generating embeddings:  70%|███████████████████████████████████████████████████████████████████████████████████████████████████████████████████████████▍                                                    | 2700/3848 [31:21<09:27,  2.02it/s]"
     ]
    },
    {
     "name": "stdout",
     "output_type": "stream",
     "text": [
      "INFO:httpx:HTTP Request: POST http://127.0.0.1:8080/embed \"HTTP/1.1 200 OK\"\n",
      "HTTP Request: POST http://127.0.0.1:8080/embed \"HTTP/1.1 200 OK\"\n",
      "HTTP Request: POST http://127.0.0.1:8080/embed \"HTTP/1.1 200 OK\"\n",
      "HTTP Request: POST http://127.0.0.1:8080/embed \"HTTP/1.1 200 OK\"\n"
     ]
    },
    {
     "name": "stderr",
     "output_type": "stream",
     "text": [
      "\r",
      "Generating embeddings:  70%|███████████████████████████████████████████████████████████████████████████████████████████████████████████████████████████▉                                                    | 2710/3848 [31:25<09:02,  2.10it/s]"
     ]
    },
    {
     "name": "stdout",
     "output_type": "stream",
     "text": [
      "INFO:httpx:HTTP Request: POST http://127.0.0.1:8080/embed \"HTTP/1.1 200 OK\"\n",
      "HTTP Request: POST http://127.0.0.1:8080/embed \"HTTP/1.1 200 OK\"\n",
      "HTTP Request: POST http://127.0.0.1:8080/embed \"HTTP/1.1 200 OK\"\n",
      "HTTP Request: POST http://127.0.0.1:8080/embed \"HTTP/1.1 200 OK\"\n"
     ]
    },
    {
     "name": "stderr",
     "output_type": "stream",
     "text": [
      "\r",
      "Generating embeddings:  71%|████████████████████████████████████████████████████████████████████████████████████████████████████████████████████████████▍                                                   | 2720/3848 [31:29<08:45,  2.15it/s]"
     ]
    },
    {
     "name": "stdout",
     "output_type": "stream",
     "text": [
      "INFO:httpx:HTTP Request: POST http://127.0.0.1:8080/embed \"HTTP/1.1 200 OK\"\n",
      "HTTP Request: POST http://127.0.0.1:8080/embed \"HTTP/1.1 200 OK\"\n",
      "HTTP Request: POST http://127.0.0.1:8080/embed \"HTTP/1.1 200 OK\"\n",
      "HTTP Request: POST http://127.0.0.1:8080/embed \"HTTP/1.1 200 OK\"\n"
     ]
    },
    {
     "name": "stderr",
     "output_type": "stream",
     "text": [
      "\r",
      "Generating embeddings:  71%|████████████████████████████████████████████████████████████████████████████████████████████████████████████████████████████▊                                                   | 2730/3848 [31:34<08:28,  2.20it/s]"
     ]
    },
    {
     "name": "stdout",
     "output_type": "stream",
     "text": [
      "INFO:httpx:HTTP Request: POST http://127.0.0.1:8080/embed \"HTTP/1.1 200 OK\"\n",
      "HTTP Request: POST http://127.0.0.1:8080/embed \"HTTP/1.1 200 OK\"\n",
      "HTTP Request: POST http://127.0.0.1:8080/embed \"HTTP/1.1 200 OK\"\n",
      "HTTP Request: POST http://127.0.0.1:8080/embed \"HTTP/1.1 200 OK\"\n"
     ]
    },
    {
     "name": "stderr",
     "output_type": "stream",
     "text": [
      "\r",
      "Generating embeddings:  71%|█████████████████████████████████████████████████████████████████████████████████████████████████████████████████████████████▎                                                  | 2740/3848 [31:38<07:59,  2.31it/s]"
     ]
    },
    {
     "name": "stdout",
     "output_type": "stream",
     "text": [
      "INFO:httpx:HTTP Request: POST http://127.0.0.1:8080/embed \"HTTP/1.1 200 OK\"\n",
      "HTTP Request: POST http://127.0.0.1:8080/embed \"HTTP/1.1 200 OK\"\n",
      "HTTP Request: POST http://127.0.0.1:8080/embed \"HTTP/1.1 200 OK\"\n",
      "HTTP Request: POST http://127.0.0.1:8080/embed \"HTTP/1.1 200 OK\"\n"
     ]
    },
    {
     "name": "stderr",
     "output_type": "stream",
     "text": [
      "\r",
      "Generating embeddings:  71%|█████████████████████████████████████████████████████████████████████████████████████████████████████████████████████████████▊                                                  | 2750/3848 [31:42<07:56,  2.30it/s]"
     ]
    },
    {
     "name": "stdout",
     "output_type": "stream",
     "text": [
      "INFO:httpx:HTTP Request: POST http://127.0.0.1:8080/embed \"HTTP/1.1 200 OK\"\n",
      "HTTP Request: POST http://127.0.0.1:8080/embed \"HTTP/1.1 200 OK\"\n",
      "HTTP Request: POST http://127.0.0.1:8080/embed \"HTTP/1.1 200 OK\"\n",
      "HTTP Request: POST http://127.0.0.1:8080/embed \"HTTP/1.1 200 OK\"\n"
     ]
    },
    {
     "name": "stderr",
     "output_type": "stream",
     "text": [
      "\r",
      "Generating embeddings:  72%|██████████████████████████████████████████████████████████████████████████████████████████████████████████████████████████████▏                                                 | 2760/3848 [31:46<07:53,  2.30it/s]"
     ]
    },
    {
     "name": "stdout",
     "output_type": "stream",
     "text": [
      "INFO:httpx:HTTP Request: POST http://127.0.0.1:8080/embed \"HTTP/1.1 200 OK\"\n",
      "HTTP Request: POST http://127.0.0.1:8080/embed \"HTTP/1.1 200 OK\"\n",
      "HTTP Request: POST http://127.0.0.1:8080/embed \"HTTP/1.1 200 OK\"\n",
      "HTTP Request: POST http://127.0.0.1:8080/embed \"HTTP/1.1 200 OK\"\n"
     ]
    },
    {
     "name": "stderr",
     "output_type": "stream",
     "text": [
      "\r",
      "Generating embeddings:  72%|██████████████████████████████████████████████████████████████████████████████████████████████████████████████████████████████▋                                                 | 2770/3848 [31:51<07:44,  2.32it/s]"
     ]
    },
    {
     "name": "stdout",
     "output_type": "stream",
     "text": [
      "INFO:httpx:HTTP Request: POST http://127.0.0.1:8080/embed \"HTTP/1.1 200 OK\"\n",
      "HTTP Request: POST http://127.0.0.1:8080/embed \"HTTP/1.1 200 OK\"\n",
      "HTTP Request: POST http://127.0.0.1:8080/embed \"HTTP/1.1 200 OK\"\n",
      "HTTP Request: POST http://127.0.0.1:8080/embed \"HTTP/1.1 200 OK\"\n"
     ]
    },
    {
     "name": "stderr",
     "output_type": "stream",
     "text": [
      "\r",
      "Generating embeddings:  72%|███████████████████████████████████████████████████████████████████████████████████████████████████████████████████████████████▏                                                | 2780/3848 [31:55<07:48,  2.28it/s]"
     ]
    },
    {
     "name": "stdout",
     "output_type": "stream",
     "text": [
      "INFO:httpx:HTTP Request: POST http://127.0.0.1:8080/embed \"HTTP/1.1 200 OK\"\n",
      "HTTP Request: POST http://127.0.0.1:8080/embed \"HTTP/1.1 200 OK\"\n",
      "HTTP Request: POST http://127.0.0.1:8080/embed \"HTTP/1.1 200 OK\"\n",
      "HTTP Request: POST http://127.0.0.1:8080/embed \"HTTP/1.1 200 OK\"\n"
     ]
    },
    {
     "name": "stderr",
     "output_type": "stream",
     "text": [
      "\r",
      "Generating embeddings:  73%|███████████████████████████████████████████████████████████████████████████████████████████████████████████████████████████████▌                                                | 2790/3848 [32:00<07:55,  2.22it/s]"
     ]
    },
    {
     "name": "stdout",
     "output_type": "stream",
     "text": [
      "INFO:httpx:HTTP Request: POST http://127.0.0.1:8080/embed \"HTTP/1.1 200 OK\"\n",
      "HTTP Request: POST http://127.0.0.1:8080/embed \"HTTP/1.1 200 OK\"\n",
      "HTTP Request: POST http://127.0.0.1:8080/embed \"HTTP/1.1 200 OK\"\n",
      "HTTP Request: POST http://127.0.0.1:8080/embed \"HTTP/1.1 200 OK\"\n"
     ]
    },
    {
     "name": "stderr",
     "output_type": "stream",
     "text": [
      "\r",
      "Generating embeddings:  73%|████████████████████████████████████████████████████████████████████████████████████████████████████████████████████████████████                                                | 2800/3848 [32:04<07:42,  2.26it/s]"
     ]
    },
    {
     "name": "stdout",
     "output_type": "stream",
     "text": [
      "INFO:httpx:HTTP Request: POST http://127.0.0.1:8080/embed \"HTTP/1.1 200 OK\"\n",
      "HTTP Request: POST http://127.0.0.1:8080/embed \"HTTP/1.1 200 OK\"\n",
      "HTTP Request: POST http://127.0.0.1:8080/embed \"HTTP/1.1 200 OK\"\n",
      "HTTP Request: POST http://127.0.0.1:8080/embed \"HTTP/1.1 200 OK\"\n"
     ]
    },
    {
     "name": "stderr",
     "output_type": "stream",
     "text": [
      "\r",
      "Generating embeddings:  73%|████████████████████████████████████████████████████████████████████████████████████████████████████████████████████████████████▌                                               | 2810/3848 [32:09<07:45,  2.23it/s]"
     ]
    },
    {
     "name": "stdout",
     "output_type": "stream",
     "text": [
      "INFO:httpx:HTTP Request: POST http://127.0.0.1:8080/embed \"HTTP/1.1 200 OK\"\n",
      "HTTP Request: POST http://127.0.0.1:8080/embed \"HTTP/1.1 200 OK\"\n",
      "HTTP Request: POST http://127.0.0.1:8080/embed \"HTTP/1.1 200 OK\"\n",
      "HTTP Request: POST http://127.0.0.1:8080/embed \"HTTP/1.1 200 OK\"\n"
     ]
    },
    {
     "name": "stderr",
     "output_type": "stream",
     "text": [
      "\r",
      "Generating embeddings:  73%|████████████████████████████████████████████████████████████████████████████████████████████████████████████████████████████████▉                                               | 2820/3848 [32:13<07:42,  2.22it/s]"
     ]
    },
    {
     "name": "stdout",
     "output_type": "stream",
     "text": [
      "INFO:httpx:HTTP Request: POST http://127.0.0.1:8080/embed \"HTTP/1.1 200 OK\"\n",
      "HTTP Request: POST http://127.0.0.1:8080/embed \"HTTP/1.1 200 OK\"\n",
      "HTTP Request: POST http://127.0.0.1:8080/embed \"HTTP/1.1 200 OK\"\n",
      "HTTP Request: POST http://127.0.0.1:8080/embed \"HTTP/1.1 200 OK\"\n"
     ]
    },
    {
     "name": "stderr",
     "output_type": "stream",
     "text": [
      "\r",
      "Generating embeddings:  74%|█████████████████████████████████████████████████████████████████████████████████████████████████████████████████████████████████▍                                              | 2830/3848 [32:18<07:44,  2.19it/s]"
     ]
    },
    {
     "name": "stdout",
     "output_type": "stream",
     "text": [
      "INFO:httpx:HTTP Request: POST http://127.0.0.1:8080/embed \"HTTP/1.1 200 OK\"\n",
      "HTTP Request: POST http://127.0.0.1:8080/embed \"HTTP/1.1 200 OK\"\n",
      "HTTP Request: POST http://127.0.0.1:8080/embed \"HTTP/1.1 200 OK\"\n",
      "HTTP Request: POST http://127.0.0.1:8080/embed \"HTTP/1.1 200 OK\"\n"
     ]
    },
    {
     "name": "stderr",
     "output_type": "stream",
     "text": [
      "\r",
      "Generating embeddings:  74%|█████████████████████████████████████████████████████████████████████████████████████████████████████████████████████████████████▉                                              | 2840/3848 [32:22<07:35,  2.21it/s]"
     ]
    },
    {
     "name": "stdout",
     "output_type": "stream",
     "text": [
      "INFO:httpx:HTTP Request: POST http://127.0.0.1:8080/embed \"HTTP/1.1 200 OK\"\n",
      "HTTP Request: POST http://127.0.0.1:8080/embed \"HTTP/1.1 200 OK\"\n",
      "HTTP Request: POST http://127.0.0.1:8080/embed \"HTTP/1.1 200 OK\"\n",
      "HTTP Request: POST http://127.0.0.1:8080/embed \"HTTP/1.1 200 OK\"\n"
     ]
    },
    {
     "name": "stderr",
     "output_type": "stream",
     "text": [
      "\r",
      "Generating embeddings:  74%|██████████████████████████████████████████████████████████████████████████████████████████████████████████████████████████████████▎                                             | 2850/3848 [32:26<07:18,  2.28it/s]"
     ]
    },
    {
     "name": "stdout",
     "output_type": "stream",
     "text": [
      "INFO:httpx:HTTP Request: POST http://127.0.0.1:8080/embed \"HTTP/1.1 200 OK\"\n",
      "HTTP Request: POST http://127.0.0.1:8080/embed \"HTTP/1.1 200 OK\"\n",
      "HTTP Request: POST http://127.0.0.1:8080/embed \"HTTP/1.1 200 OK\"\n",
      "HTTP Request: POST http://127.0.0.1:8080/embed \"HTTP/1.1 200 OK\"\n"
     ]
    },
    {
     "name": "stderr",
     "output_type": "stream",
     "text": [
      "\r",
      "Generating embeddings:  74%|██████████████████████████████████████████████████████████████████████████████████████████████████████████████████████████████████▊                                             | 2860/3848 [32:31<07:26,  2.21it/s]"
     ]
    },
    {
     "name": "stdout",
     "output_type": "stream",
     "text": [
      "INFO:httpx:HTTP Request: POST http://127.0.0.1:8080/embed \"HTTP/1.1 200 OK\"\n",
      "HTTP Request: POST http://127.0.0.1:8080/embed \"HTTP/1.1 200 OK\"\n",
      "HTTP Request: POST http://127.0.0.1:8080/embed \"HTTP/1.1 200 OK\"\n",
      "HTTP Request: POST http://127.0.0.1:8080/embed \"HTTP/1.1 200 OK\"\n"
     ]
    },
    {
     "name": "stderr",
     "output_type": "stream",
     "text": [
      "\r",
      "Generating embeddings:  75%|███████████████████████████████████████████████████████████████████████████████████████████████████████████████████████████████████▎                                            | 2870/3848 [32:36<07:22,  2.21it/s]"
     ]
    },
    {
     "name": "stdout",
     "output_type": "stream",
     "text": [
      "INFO:httpx:HTTP Request: POST http://127.0.0.1:8080/embed \"HTTP/1.1 200 OK\"\n",
      "HTTP Request: POST http://127.0.0.1:8080/embed \"HTTP/1.1 200 OK\"\n",
      "HTTP Request: POST http://127.0.0.1:8080/embed \"HTTP/1.1 200 OK\"\n",
      "HTTP Request: POST http://127.0.0.1:8080/embed \"HTTP/1.1 200 OK\"\n"
     ]
    },
    {
     "name": "stderr",
     "output_type": "stream",
     "text": [
      "\r",
      "Generating embeddings:  75%|███████████████████████████████████████████████████████████████████████████████████████████████████████████████████████████████████▋                                            | 2880/3848 [32:40<07:14,  2.23it/s]"
     ]
    },
    {
     "name": "stdout",
     "output_type": "stream",
     "text": [
      "INFO:httpx:HTTP Request: POST http://127.0.0.1:8080/embed \"HTTP/1.1 200 OK\"\n",
      "HTTP Request: POST http://127.0.0.1:8080/embed \"HTTP/1.1 200 OK\"\n",
      "HTTP Request: POST http://127.0.0.1:8080/embed \"HTTP/1.1 200 OK\"\n",
      "HTTP Request: POST http://127.0.0.1:8080/embed \"HTTP/1.1 200 OK\"\n"
     ]
    },
    {
     "name": "stderr",
     "output_type": "stream",
     "text": [
      "\r",
      "Generating embeddings:  75%|████████████████████████████████████████████████████████████████████████████████████████████████████████████████████████████████████▏                                           | 2890/3848 [32:45<07:10,  2.23it/s]"
     ]
    },
    {
     "name": "stdout",
     "output_type": "stream",
     "text": [
      "INFO:httpx:HTTP Request: POST http://127.0.0.1:8080/embed \"HTTP/1.1 200 OK\"\n",
      "HTTP Request: POST http://127.0.0.1:8080/embed \"HTTP/1.1 200 OK\"\n",
      "HTTP Request: POST http://127.0.0.1:8080/embed \"HTTP/1.1 200 OK\"\n",
      "HTTP Request: POST http://127.0.0.1:8080/embed \"HTTP/1.1 200 OK\"\n"
     ]
    },
    {
     "name": "stderr",
     "output_type": "stream",
     "text": [
      "\r",
      "Generating embeddings:  75%|████████████████████████████████████████████████████████████████████████████████████████████████████████████████████████████████████▋                                           | 2900/3848 [32:49<07:08,  2.21it/s]"
     ]
    },
    {
     "name": "stdout",
     "output_type": "stream",
     "text": [
      "INFO:httpx:HTTP Request: POST http://127.0.0.1:8080/embed \"HTTP/1.1 200 OK\"\n",
      "HTTP Request: POST http://127.0.0.1:8080/embed \"HTTP/1.1 200 OK\"\n",
      "HTTP Request: POST http://127.0.0.1:8080/embed \"HTTP/1.1 200 OK\"\n",
      "HTTP Request: POST http://127.0.0.1:8080/embed \"HTTP/1.1 200 OK\"\n"
     ]
    },
    {
     "name": "stderr",
     "output_type": "stream",
     "text": [
      "\r",
      "Generating embeddings:  76%|█████████████████████████████████████████████████████████████████████████████████████████████████████████████████████████████████████                                           | 2910/3848 [32:55<07:36,  2.05it/s]"
     ]
    },
    {
     "name": "stdout",
     "output_type": "stream",
     "text": [
      "INFO:httpx:HTTP Request: POST http://127.0.0.1:8080/embed \"HTTP/1.1 200 OK\"\n",
      "HTTP Request: POST http://127.0.0.1:8080/embed \"HTTP/1.1 200 OK\"\n",
      "HTTP Request: POST http://127.0.0.1:8080/embed \"HTTP/1.1 200 OK\"\n",
      "HTTP Request: POST http://127.0.0.1:8080/embed \"HTTP/1.1 200 OK\"\n"
     ]
    },
    {
     "name": "stderr",
     "output_type": "stream",
     "text": [
      "\r",
      "Generating embeddings:  76%|█████████████████████████████████████████████████████████████████████████████████████████████████████████████████████████████████████▌                                          | 2920/3848 [33:00<07:36,  2.03it/s]"
     ]
    },
    {
     "name": "stdout",
     "output_type": "stream",
     "text": [
      "INFO:httpx:HTTP Request: POST http://127.0.0.1:8080/embed \"HTTP/1.1 200 OK\"\n",
      "HTTP Request: POST http://127.0.0.1:8080/embed \"HTTP/1.1 200 OK\"\n",
      "HTTP Request: POST http://127.0.0.1:8080/embed \"HTTP/1.1 200 OK\"\n",
      "HTTP Request: POST http://127.0.0.1:8080/embed \"HTTP/1.1 200 OK\"\n"
     ]
    },
    {
     "name": "stderr",
     "output_type": "stream",
     "text": [
      "\r",
      "Generating embeddings:  76%|██████████████████████████████████████████████████████████████████████████████████████████████████████████████████████████████████████                                          | 2930/3848 [33:05<07:23,  2.07it/s]"
     ]
    },
    {
     "name": "stdout",
     "output_type": "stream",
     "text": [
      "INFO:httpx:HTTP Request: POST http://127.0.0.1:8080/embed \"HTTP/1.1 200 OK\"\n",
      "HTTP Request: POST http://127.0.0.1:8080/embed \"HTTP/1.1 200 OK\"\n",
      "HTTP Request: POST http://127.0.0.1:8080/embed \"HTTP/1.1 200 OK\"\n",
      "HTTP Request: POST http://127.0.0.1:8080/embed \"HTTP/1.1 200 OK\"\n"
     ]
    },
    {
     "name": "stderr",
     "output_type": "stream",
     "text": [
      "\r",
      "Generating embeddings:  76%|██████████████████████████████████████████████████████████████████████████████████████████████████████████████████████████████████████▍                                         | 2940/3848 [33:09<07:10,  2.11it/s]"
     ]
    },
    {
     "name": "stdout",
     "output_type": "stream",
     "text": [
      "INFO:httpx:HTTP Request: POST http://127.0.0.1:8080/embed \"HTTP/1.1 200 OK\"\n",
      "HTTP Request: POST http://127.0.0.1:8080/embed \"HTTP/1.1 200 OK\"\n",
      "HTTP Request: POST http://127.0.0.1:8080/embed \"HTTP/1.1 200 OK\"\n",
      "HTTP Request: POST http://127.0.0.1:8080/embed \"HTTP/1.1 200 OK\"\n"
     ]
    },
    {
     "name": "stderr",
     "output_type": "stream",
     "text": [
      "\r",
      "Generating embeddings:  77%|██████████████████████████████████████████████████████████████████████████████████████████████████████████████████████████████████████▉                                         | 2950/3848 [33:14<06:57,  2.15it/s]"
     ]
    },
    {
     "name": "stdout",
     "output_type": "stream",
     "text": [
      "INFO:httpx:HTTP Request: POST http://127.0.0.1:8080/embed \"HTTP/1.1 200 OK\"\n",
      "HTTP Request: POST http://127.0.0.1:8080/embed \"HTTP/1.1 200 OK\"\n",
      "HTTP Request: POST http://127.0.0.1:8080/embed \"HTTP/1.1 200 OK\"\n",
      "HTTP Request: POST http://127.0.0.1:8080/embed \"HTTP/1.1 200 OK\"\n"
     ]
    },
    {
     "name": "stderr",
     "output_type": "stream",
     "text": [
      "\r",
      "Generating embeddings:  77%|███████████████████████████████████████████████████████████████████████████████████████████████████████████████████████████████████████▍                                        | 2960/3848 [33:18<06:58,  2.12it/s]"
     ]
    },
    {
     "name": "stdout",
     "output_type": "stream",
     "text": [
      "INFO:httpx:HTTP Request: POST http://127.0.0.1:8080/embed \"HTTP/1.1 200 OK\"\n",
      "HTTP Request: POST http://127.0.0.1:8080/embed \"HTTP/1.1 200 OK\"\n",
      "HTTP Request: POST http://127.0.0.1:8080/embed \"HTTP/1.1 200 OK\"\n",
      "HTTP Request: POST http://127.0.0.1:8080/embed \"HTTP/1.1 200 OK\"\n"
     ]
    },
    {
     "name": "stderr",
     "output_type": "stream",
     "text": [
      "\r",
      "Generating embeddings:  77%|███████████████████████████████████████████████████████████████████████████████████████████████████████████████████████████████████████▊                                        | 2970/3848 [33:24<07:06,  2.06it/s]"
     ]
    },
    {
     "name": "stdout",
     "output_type": "stream",
     "text": [
      "INFO:httpx:HTTP Request: POST http://127.0.0.1:8080/embed \"HTTP/1.1 200 OK\"\n",
      "HTTP Request: POST http://127.0.0.1:8080/embed \"HTTP/1.1 200 OK\"\n",
      "HTTP Request: POST http://127.0.0.1:8080/embed \"HTTP/1.1 200 OK\"\n",
      "HTTP Request: POST http://127.0.0.1:8080/embed \"HTTP/1.1 200 OK\"\n"
     ]
    },
    {
     "name": "stderr",
     "output_type": "stream",
     "text": [
      "\r",
      "Generating embeddings:  77%|████████████████████████████████████████████████████████████████████████████████████████████████████████████████████████████████████████▎                                       | 2980/3848 [33:28<06:52,  2.10it/s]"
     ]
    },
    {
     "name": "stdout",
     "output_type": "stream",
     "text": [
      "INFO:httpx:HTTP Request: POST http://127.0.0.1:8080/embed \"HTTP/1.1 200 OK\"\n",
      "HTTP Request: POST http://127.0.0.1:8080/embed \"HTTP/1.1 200 OK\"\n",
      "HTTP Request: POST http://127.0.0.1:8080/embed \"HTTP/1.1 200 OK\"\n",
      "HTTP Request: POST http://127.0.0.1:8080/embed \"HTTP/1.1 200 OK\"\n"
     ]
    },
    {
     "name": "stderr",
     "output_type": "stream",
     "text": [
      "\r",
      "Generating embeddings:  78%|████████████████████████████████████████████████████████████████████████████████████████████████████████████████████████████████████████▊                                       | 2990/3848 [33:33<06:40,  2.14it/s]"
     ]
    },
    {
     "name": "stdout",
     "output_type": "stream",
     "text": [
      "INFO:httpx:HTTP Request: POST http://127.0.0.1:8080/embed \"HTTP/1.1 200 OK\"\n",
      "HTTP Request: POST http://127.0.0.1:8080/embed \"HTTP/1.1 200 OK\"\n",
      "HTTP Request: POST http://127.0.0.1:8080/embed \"HTTP/1.1 200 OK\"\n",
      "HTTP Request: POST http://127.0.0.1:8080/embed \"HTTP/1.1 200 OK\"\n"
     ]
    },
    {
     "name": "stderr",
     "output_type": "stream",
     "text": [
      "\r",
      "Generating embeddings:  78%|█████████████████████████████████████████████████████████████████████████████████████████████████████████████████████████████████████████▏                                      | 3000/3848 [33:37<06:33,  2.15it/s]"
     ]
    },
    {
     "name": "stdout",
     "output_type": "stream",
     "text": [
      "INFO:httpx:HTTP Request: POST http://127.0.0.1:8080/embed \"HTTP/1.1 200 OK\"\n",
      "HTTP Request: POST http://127.0.0.1:8080/embed \"HTTP/1.1 200 OK\"\n",
      "HTTP Request: POST http://127.0.0.1:8080/embed \"HTTP/1.1 200 OK\"\n",
      "HTTP Request: POST http://127.0.0.1:8080/embed \"HTTP/1.1 200 OK\"\n"
     ]
    },
    {
     "name": "stderr",
     "output_type": "stream",
     "text": [
      "\r",
      "Generating embeddings:  78%|█████████████████████████████████████████████████████████████████████████████████████████████████████████████████████████████████████████▋                                      | 3010/3848 [33:42<06:39,  2.10it/s]"
     ]
    },
    {
     "name": "stdout",
     "output_type": "stream",
     "text": [
      "INFO:httpx:HTTP Request: POST http://127.0.0.1:8080/embed \"HTTP/1.1 200 OK\"\n",
      "HTTP Request: POST http://127.0.0.1:8080/embed \"HTTP/1.1 200 OK\"\n",
      "HTTP Request: POST http://127.0.0.1:8080/embed \"HTTP/1.1 200 OK\"\n",
      "HTTP Request: POST http://127.0.0.1:8080/embed \"HTTP/1.1 200 OK\"\n"
     ]
    },
    {
     "name": "stderr",
     "output_type": "stream",
     "text": [
      "\r",
      "Generating embeddings:  78%|██████████████████████████████████████████████████████████████████████████████████████████████████████████████████████████████████████████▏                                     | 3020/3848 [33:47<06:38,  2.08it/s]"
     ]
    },
    {
     "name": "stdout",
     "output_type": "stream",
     "text": [
      "INFO:httpx:HTTP Request: POST http://127.0.0.1:8080/embed \"HTTP/1.1 200 OK\"\n",
      "HTTP Request: POST http://127.0.0.1:8080/embed \"HTTP/1.1 200 OK\"\n",
      "HTTP Request: POST http://127.0.0.1:8080/embed \"HTTP/1.1 200 OK\"\n",
      "HTTP Request: POST http://127.0.0.1:8080/embed \"HTTP/1.1 200 OK\"\n"
     ]
    },
    {
     "name": "stderr",
     "output_type": "stream",
     "text": [
      "\r",
      "Generating embeddings:  79%|██████████████████████████████████████████████████████████████████████████████████████████████████████████████████████████████████████████▌                                     | 3030/3848 [33:52<06:30,  2.09it/s]"
     ]
    },
    {
     "name": "stdout",
     "output_type": "stream",
     "text": [
      "INFO:httpx:HTTP Request: POST http://127.0.0.1:8080/embed \"HTTP/1.1 200 OK\"\n",
      "HTTP Request: POST http://127.0.0.1:8080/embed \"HTTP/1.1 200 OK\"\n",
      "HTTP Request: POST http://127.0.0.1:8080/embed \"HTTP/1.1 200 OK\"\n",
      "HTTP Request: POST http://127.0.0.1:8080/embed \"HTTP/1.1 200 OK\"\n"
     ]
    },
    {
     "name": "stderr",
     "output_type": "stream",
     "text": [
      "\r",
      "Generating embeddings:  79%|███████████████████████████████████████████████████████████████████████████████████████████████████████████████████████████████████████████                                     | 3040/3848 [33:57<06:28,  2.08it/s]"
     ]
    },
    {
     "name": "stdout",
     "output_type": "stream",
     "text": [
      "INFO:httpx:HTTP Request: POST http://127.0.0.1:8080/embed \"HTTP/1.1 200 OK\"\n",
      "HTTP Request: POST http://127.0.0.1:8080/embed \"HTTP/1.1 200 OK\"\n",
      "HTTP Request: POST http://127.0.0.1:8080/embed \"HTTP/1.1 200 OK\"\n",
      "HTTP Request: POST http://127.0.0.1:8080/embed \"HTTP/1.1 200 OK\"\n"
     ]
    },
    {
     "name": "stderr",
     "output_type": "stream",
     "text": [
      "\r",
      "Generating embeddings:  79%|███████████████████████████████████████████████████████████████████████████████████████████████████████████████████████████████████████████▌                                    | 3050/3848 [34:02<06:28,  2.05it/s]"
     ]
    },
    {
     "name": "stdout",
     "output_type": "stream",
     "text": [
      "INFO:httpx:HTTP Request: POST http://127.0.0.1:8080/embed \"HTTP/1.1 200 OK\"\n",
      "HTTP Request: POST http://127.0.0.1:8080/embed \"HTTP/1.1 200 OK\"\n",
      "HTTP Request: POST http://127.0.0.1:8080/embed \"HTTP/1.1 200 OK\"\n",
      "HTTP Request: POST http://127.0.0.1:8080/embed \"HTTP/1.1 200 OK\"\n"
     ]
    },
    {
     "name": "stderr",
     "output_type": "stream",
     "text": [
      "\r",
      "Generating embeddings:  80%|███████████████████████████████████████████████████████████████████████████████████████████████████████████████████████████████████████████▉                                    | 3060/3848 [34:06<06:11,  2.12it/s]"
     ]
    },
    {
     "name": "stdout",
     "output_type": "stream",
     "text": [
      "INFO:httpx:HTTP Request: POST http://127.0.0.1:8080/embed \"HTTP/1.1 200 OK\"\n",
      "HTTP Request: POST http://127.0.0.1:8080/embed \"HTTP/1.1 200 OK\"\n",
      "HTTP Request: POST http://127.0.0.1:8080/embed \"HTTP/1.1 200 OK\"\n",
      "HTTP Request: POST http://127.0.0.1:8080/embed \"HTTP/1.1 200 OK\"\n"
     ]
    },
    {
     "name": "stderr",
     "output_type": "stream",
     "text": [
      "\r",
      "Generating embeddings:  80%|████████████████████████████████████████████████████████████████████████████████████████████████████████████████████████████████████████████▍                                   | 3070/3848 [34:11<06:08,  2.11it/s]"
     ]
    },
    {
     "name": "stdout",
     "output_type": "stream",
     "text": [
      "INFO:httpx:HTTP Request: POST http://127.0.0.1:8080/embed \"HTTP/1.1 200 OK\"\n",
      "HTTP Request: POST http://127.0.0.1:8080/embed \"HTTP/1.1 200 OK\"\n",
      "HTTP Request: POST http://127.0.0.1:8080/embed \"HTTP/1.1 200 OK\"\n",
      "HTTP Request: POST http://127.0.0.1:8080/embed \"HTTP/1.1 200 OK\"\n"
     ]
    },
    {
     "name": "stderr",
     "output_type": "stream",
     "text": [
      "\r",
      "Generating embeddings:  80%|████████████████████████████████████████████████████████████████████████████████████████████████████████████████████████████████████████████▊                                   | 3080/3848 [34:15<05:51,  2.18it/s]"
     ]
    },
    {
     "name": "stdout",
     "output_type": "stream",
     "text": [
      "INFO:httpx:HTTP Request: POST http://127.0.0.1:8080/embed \"HTTP/1.1 200 OK\"\n",
      "HTTP Request: POST http://127.0.0.1:8080/embed \"HTTP/1.1 200 OK\"\n",
      "HTTP Request: POST http://127.0.0.1:8080/embed \"HTTP/1.1 200 OK\"\n",
      "HTTP Request: POST http://127.0.0.1:8080/embed \"HTTP/1.1 200 OK\"\n"
     ]
    },
    {
     "name": "stderr",
     "output_type": "stream",
     "text": [
      "\r",
      "Generating embeddings:  80%|█████████████████████████████████████████████████████████████████████████████████████████████████████████████████████████████████████████████▎                                  | 3090/3848 [34:20<05:53,  2.15it/s]"
     ]
    },
    {
     "name": "stdout",
     "output_type": "stream",
     "text": [
      "INFO:httpx:HTTP Request: POST http://127.0.0.1:8080/embed \"HTTP/1.1 200 OK\"\n",
      "HTTP Request: POST http://127.0.0.1:8080/embed \"HTTP/1.1 200 OK\"\n",
      "HTTP Request: POST http://127.0.0.1:8080/embed \"HTTP/1.1 200 OK\"\n",
      "HTTP Request: POST http://127.0.0.1:8080/embed \"HTTP/1.1 200 OK\"\n"
     ]
    },
    {
     "name": "stderr",
     "output_type": "stream",
     "text": [
      "\r",
      "Generating embeddings:  81%|█████████████████████████████████████████████████████████████████████████████████████████████████████████████████████████████████████████████▊                                  | 3100/3848 [34:25<05:46,  2.16it/s]"
     ]
    },
    {
     "name": "stdout",
     "output_type": "stream",
     "text": [
      "INFO:httpx:HTTP Request: POST http://127.0.0.1:8080/embed \"HTTP/1.1 200 OK\"\n",
      "HTTP Request: POST http://127.0.0.1:8080/embed \"HTTP/1.1 200 OK\"\n",
      "HTTP Request: POST http://127.0.0.1:8080/embed \"HTTP/1.1 200 OK\"\n",
      "HTTP Request: POST http://127.0.0.1:8080/embed \"HTTP/1.1 200 OK\"\n"
     ]
    },
    {
     "name": "stderr",
     "output_type": "stream",
     "text": [
      "\r",
      "Generating embeddings:  81%|██████████████████████████████████████████████████████████████████████████████████████████████████████████████████████████████████████████████▏                                 | 3110/3848 [34:29<05:44,  2.15it/s]"
     ]
    },
    {
     "name": "stdout",
     "output_type": "stream",
     "text": [
      "INFO:httpx:HTTP Request: POST http://127.0.0.1:8080/embed \"HTTP/1.1 200 OK\"\n",
      "HTTP Request: POST http://127.0.0.1:8080/embed \"HTTP/1.1 200 OK\"\n",
      "HTTP Request: POST http://127.0.0.1:8080/embed \"HTTP/1.1 200 OK\"\n",
      "HTTP Request: POST http://127.0.0.1:8080/embed \"HTTP/1.1 200 OK\"\n"
     ]
    },
    {
     "name": "stderr",
     "output_type": "stream",
     "text": [
      "\r",
      "Generating embeddings:  81%|██████████████████████████████████████████████████████████████████████████████████████████████████████████████████████████████████████████████▋                                 | 3120/3848 [34:34<05:50,  2.08it/s]"
     ]
    },
    {
     "name": "stdout",
     "output_type": "stream",
     "text": [
      "INFO:httpx:HTTP Request: POST http://127.0.0.1:8080/embed \"HTTP/1.1 200 OK\"\n",
      "HTTP Request: POST http://127.0.0.1:8080/embed \"HTTP/1.1 200 OK\"\n",
      "HTTP Request: POST http://127.0.0.1:8080/embed \"HTTP/1.1 200 OK\"\n",
      "HTTP Request: POST http://127.0.0.1:8080/embed \"HTTP/1.1 200 OK\"\n"
     ]
    },
    {
     "name": "stderr",
     "output_type": "stream",
     "text": [
      "\r",
      "Generating embeddings:  81%|███████████████████████████████████████████████████████████████████████████████████████████████████████████████████████████████████████████████▏                                | 3130/3848 [34:39<05:36,  2.14it/s]"
     ]
    },
    {
     "name": "stdout",
     "output_type": "stream",
     "text": [
      "INFO:httpx:HTTP Request: POST http://127.0.0.1:8080/embed \"HTTP/1.1 200 OK\"\n",
      "HTTP Request: POST http://127.0.0.1:8080/embed \"HTTP/1.1 200 OK\"\n",
      "HTTP Request: POST http://127.0.0.1:8080/embed \"HTTP/1.1 200 OK\"\n",
      "HTTP Request: POST http://127.0.0.1:8080/embed \"HTTP/1.1 200 OK\"\n"
     ]
    },
    {
     "name": "stderr",
     "output_type": "stream",
     "text": [
      "\r",
      "Generating embeddings:  82%|███████████████████████████████████████████████████████████████████████████████████████████████████████████████████████████████████████████████▌                                | 3140/3848 [34:44<05:34,  2.12it/s]"
     ]
    },
    {
     "name": "stdout",
     "output_type": "stream",
     "text": [
      "INFO:httpx:HTTP Request: POST http://127.0.0.1:8080/embed \"HTTP/1.1 200 OK\"\n",
      "HTTP Request: POST http://127.0.0.1:8080/embed \"HTTP/1.1 200 OK\"\n",
      "HTTP Request: POST http://127.0.0.1:8080/embed \"HTTP/1.1 200 OK\"\n",
      "HTTP Request: POST http://127.0.0.1:8080/embed \"HTTP/1.1 200 OK\"\n"
     ]
    },
    {
     "name": "stderr",
     "output_type": "stream",
     "text": [
      "\r",
      "Generating embeddings:  82%|████████████████████████████████████████████████████████████████████████████████████████████████████████████████████████████████████████████████                                | 3150/3848 [34:49<05:51,  1.99it/s]"
     ]
    },
    {
     "name": "stdout",
     "output_type": "stream",
     "text": [
      "INFO:httpx:HTTP Request: POST http://127.0.0.1:8080/embed \"HTTP/1.1 200 OK\"\n",
      "HTTP Request: POST http://127.0.0.1:8080/embed \"HTTP/1.1 200 OK\"\n",
      "HTTP Request: POST http://127.0.0.1:8080/embed \"HTTP/1.1 200 OK\"\n",
      "HTTP Request: POST http://127.0.0.1:8080/embed \"HTTP/1.1 200 OK\"\n"
     ]
    },
    {
     "name": "stderr",
     "output_type": "stream",
     "text": [
      "\r",
      "Generating embeddings:  82%|████████████████████████████████████████████████████████████████████████████████████████████████████████████████████████████████████████████████▌                               | 3160/3848 [34:55<05:57,  1.92it/s]"
     ]
    },
    {
     "name": "stdout",
     "output_type": "stream",
     "text": [
      "INFO:httpx:HTTP Request: POST http://127.0.0.1:8080/embed \"HTTP/1.1 200 OK\"\n",
      "HTTP Request: POST http://127.0.0.1:8080/embed \"HTTP/1.1 200 OK\"\n",
      "HTTP Request: POST http://127.0.0.1:8080/embed \"HTTP/1.1 200 OK\"\n",
      "HTTP Request: POST http://127.0.0.1:8080/embed \"HTTP/1.1 200 OK\"\n"
     ]
    },
    {
     "name": "stderr",
     "output_type": "stream",
     "text": [
      "\r",
      "Generating embeddings:  82%|████████████████████████████████████████████████████████████████████████████████████████████████████████████████████████████████████████████████▉                               | 3170/3848 [35:00<05:58,  1.89it/s]"
     ]
    },
    {
     "name": "stdout",
     "output_type": "stream",
     "text": [
      "INFO:httpx:HTTP Request: POST http://127.0.0.1:8080/embed \"HTTP/1.1 200 OK\"\n",
      "HTTP Request: POST http://127.0.0.1:8080/embed \"HTTP/1.1 200 OK\"\n",
      "HTTP Request: POST http://127.0.0.1:8080/embed \"HTTP/1.1 200 OK\"\n",
      "HTTP Request: POST http://127.0.0.1:8080/embed \"HTTP/1.1 200 OK\"\n"
     ]
    },
    {
     "name": "stderr",
     "output_type": "stream",
     "text": [
      "\r",
      "Generating embeddings:  83%|█████████████████████████████████████████████████████████████████████████████████████████████████████████████████████████████████████████████████▍                              | 3180/3848 [35:05<05:45,  1.93it/s]"
     ]
    },
    {
     "name": "stdout",
     "output_type": "stream",
     "text": [
      "INFO:httpx:HTTP Request: POST http://127.0.0.1:8080/embed \"HTTP/1.1 200 OK\"\n",
      "HTTP Request: POST http://127.0.0.1:8080/embed \"HTTP/1.1 200 OK\"\n",
      "HTTP Request: POST http://127.0.0.1:8080/embed \"HTTP/1.1 200 OK\"\n",
      "HTTP Request: POST http://127.0.0.1:8080/embed \"HTTP/1.1 200 OK\"\n"
     ]
    },
    {
     "name": "stderr",
     "output_type": "stream",
     "text": [
      "\r",
      "Generating embeddings:  83%|█████████████████████████████████████████████████████████████████████████████████████████████████████████████████████████████████████████████████▉                              | 3190/3848 [35:10<05:37,  1.95it/s]"
     ]
    },
    {
     "name": "stdout",
     "output_type": "stream",
     "text": [
      "INFO:httpx:HTTP Request: POST http://127.0.0.1:8080/embed \"HTTP/1.1 200 OK\"\n",
      "HTTP Request: POST http://127.0.0.1:8080/embed \"HTTP/1.1 200 OK\"\n",
      "HTTP Request: POST http://127.0.0.1:8080/embed \"HTTP/1.1 200 OK\"\n",
      "HTTP Request: POST http://127.0.0.1:8080/embed \"HTTP/1.1 200 OK\"\n"
     ]
    },
    {
     "name": "stderr",
     "output_type": "stream",
     "text": [
      "\r",
      "Generating embeddings:  83%|██████████████████████████████████████████████████████████████████████████████████████████████████████████████████████████████████████████████████▎                             | 3200/3848 [35:15<05:21,  2.02it/s]"
     ]
    },
    {
     "name": "stdout",
     "output_type": "stream",
     "text": [
      "INFO:httpx:HTTP Request: POST http://127.0.0.1:8080/embed \"HTTP/1.1 200 OK\"\n",
      "HTTP Request: POST http://127.0.0.1:8080/embed \"HTTP/1.1 200 OK\"\n",
      "HTTP Request: POST http://127.0.0.1:8080/embed \"HTTP/1.1 200 OK\"\n",
      "HTTP Request: POST http://127.0.0.1:8080/embed \"HTTP/1.1 200 OK\"\n"
     ]
    },
    {
     "name": "stderr",
     "output_type": "stream",
     "text": [
      "\r",
      "Generating embeddings:  83%|██████████████████████████████████████████████████████████████████████████████████████████████████████████████████████████████████████████████████▊                             | 3210/3848 [35:20<05:12,  2.04it/s]"
     ]
    },
    {
     "name": "stdout",
     "output_type": "stream",
     "text": [
      "INFO:httpx:HTTP Request: POST http://127.0.0.1:8080/embed \"HTTP/1.1 200 OK\"\n",
      "HTTP Request: POST http://127.0.0.1:8080/embed \"HTTP/1.1 200 OK\"\n",
      "HTTP Request: POST http://127.0.0.1:8080/embed \"HTTP/1.1 200 OK\"\n",
      "HTTP Request: POST http://127.0.0.1:8080/embed \"HTTP/1.1 200 OK\"\n"
     ]
    },
    {
     "name": "stderr",
     "output_type": "stream",
     "text": [
      "\r",
      "Generating embeddings:  84%|███████████████████████████████████████████████████████████████████████████████████████████████████████████████████████████████████████████████████▎                            | 3220/3848 [35:25<05:11,  2.01it/s]"
     ]
    },
    {
     "name": "stdout",
     "output_type": "stream",
     "text": [
      "INFO:httpx:HTTP Request: POST http://127.0.0.1:8080/embed \"HTTP/1.1 200 OK\"\n",
      "HTTP Request: POST http://127.0.0.1:8080/embed \"HTTP/1.1 200 OK\"\n",
      "HTTP Request: POST http://127.0.0.1:8080/embed \"HTTP/1.1 200 OK\"\n",
      "HTTP Request: POST http://127.0.0.1:8080/embed \"HTTP/1.1 200 OK\"\n"
     ]
    },
    {
     "name": "stderr",
     "output_type": "stream",
     "text": [
      "\r",
      "Generating embeddings:  84%|███████████████████████████████████████████████████████████████████████████████████████████████████████████████████████████████████████████████████▋                            | 3230/3848 [35:30<05:14,  1.97it/s]"
     ]
    },
    {
     "name": "stdout",
     "output_type": "stream",
     "text": [
      "INFO:httpx:HTTP Request: POST http://127.0.0.1:8080/embed \"HTTP/1.1 200 OK\"\n",
      "HTTP Request: POST http://127.0.0.1:8080/embed \"HTTP/1.1 200 OK\"\n",
      "HTTP Request: POST http://127.0.0.1:8080/embed \"HTTP/1.1 200 OK\"\n",
      "HTTP Request: POST http://127.0.0.1:8080/embed \"HTTP/1.1 200 OK\"\n"
     ]
    },
    {
     "name": "stderr",
     "output_type": "stream",
     "text": [
      "\r",
      "Generating embeddings:  84%|████████████████████████████████████████████████████████████████████████████████████████████████████████████████████████████████████████████████████▏                           | 3240/3848 [35:35<05:11,  1.95it/s]"
     ]
    },
    {
     "name": "stdout",
     "output_type": "stream",
     "text": [
      "INFO:httpx:HTTP Request: POST http://127.0.0.1:8080/embed \"HTTP/1.1 200 OK\"\n",
      "HTTP Request: POST http://127.0.0.1:8080/embed \"HTTP/1.1 200 OK\"\n",
      "HTTP Request: POST http://127.0.0.1:8080/embed \"HTTP/1.1 200 OK\"\n",
      "HTTP Request: POST http://127.0.0.1:8080/embed \"HTTP/1.1 200 OK\"\n"
     ]
    },
    {
     "name": "stderr",
     "output_type": "stream",
     "text": [
      "\r",
      "Generating embeddings:  84%|████████████████████████████████████████████████████████████████████████████████████████████████████████████████████████████████████████████████████▋                           | 3250/3848 [35:40<04:56,  2.02it/s]"
     ]
    },
    {
     "name": "stdout",
     "output_type": "stream",
     "text": [
      "INFO:httpx:HTTP Request: POST http://127.0.0.1:8080/embed \"HTTP/1.1 200 OK\"\n",
      "HTTP Request: POST http://127.0.0.1:8080/embed \"HTTP/1.1 200 OK\"\n",
      "HTTP Request: POST http://127.0.0.1:8080/embed \"HTTP/1.1 200 OK\"\n",
      "HTTP Request: POST http://127.0.0.1:8080/embed \"HTTP/1.1 200 OK\"\n"
     ]
    },
    {
     "name": "stderr",
     "output_type": "stream",
     "text": [
      "\r",
      "Generating embeddings:  85%|█████████████████████████████████████████████████████████████████████████████████████████████████████████████████████████████████████████████████████                           | 3260/3848 [35:44<04:43,  2.08it/s]"
     ]
    },
    {
     "name": "stdout",
     "output_type": "stream",
     "text": [
      "INFO:httpx:HTTP Request: POST http://127.0.0.1:8080/embed \"HTTP/1.1 200 OK\"\n",
      "HTTP Request: POST http://127.0.0.1:8080/embed \"HTTP/1.1 200 OK\"\n",
      "HTTP Request: POST http://127.0.0.1:8080/embed \"HTTP/1.1 200 OK\"\n",
      "HTTP Request: POST http://127.0.0.1:8080/embed \"HTTP/1.1 200 OK\"\n"
     ]
    },
    {
     "name": "stderr",
     "output_type": "stream",
     "text": [
      "\r",
      "Generating embeddings:  85%|█████████████████████████████████████████████████████████████████████████████████████████████████████████████████████████████████████████████████████▌                          | 3270/3848 [35:49<04:30,  2.13it/s]"
     ]
    },
    {
     "name": "stdout",
     "output_type": "stream",
     "text": [
      "INFO:httpx:HTTP Request: POST http://127.0.0.1:8080/embed \"HTTP/1.1 200 OK\"\n",
      "HTTP Request: POST http://127.0.0.1:8080/embed \"HTTP/1.1 200 OK\"\n",
      "HTTP Request: POST http://127.0.0.1:8080/embed \"HTTP/1.1 200 OK\"\n",
      "HTTP Request: POST http://127.0.0.1:8080/embed \"HTTP/1.1 200 OK\"\n"
     ]
    },
    {
     "name": "stderr",
     "output_type": "stream",
     "text": [
      "\r",
      "Generating embeddings:  85%|██████████████████████████████████████████████████████████████████████████████████████████████████████████████████████████████████████████████████████                          | 3280/3848 [35:54<04:29,  2.11it/s]"
     ]
    },
    {
     "name": "stdout",
     "output_type": "stream",
     "text": [
      "INFO:httpx:HTTP Request: POST http://127.0.0.1:8080/embed \"HTTP/1.1 200 OK\"\n",
      "HTTP Request: POST http://127.0.0.1:8080/embed \"HTTP/1.1 200 OK\"\n",
      "HTTP Request: POST http://127.0.0.1:8080/embed \"HTTP/1.1 200 OK\"\n",
      "HTTP Request: POST http://127.0.0.1:8080/embed \"HTTP/1.1 200 OK\"\n"
     ]
    },
    {
     "name": "stderr",
     "output_type": "stream",
     "text": [
      "\r",
      "Generating embeddings:  85%|██████████████████████████████████████████████████████████████████████████████████████████████████████████████████████████████████████████████████████▍                         | 3290/3848 [35:59<04:27,  2.09it/s]"
     ]
    },
    {
     "name": "stdout",
     "output_type": "stream",
     "text": [
      "INFO:httpx:HTTP Request: POST http://127.0.0.1:8080/embed \"HTTP/1.1 200 OK\"\n",
      "HTTP Request: POST http://127.0.0.1:8080/embed \"HTTP/1.1 200 OK\"\n",
      "HTTP Request: POST http://127.0.0.1:8080/embed \"HTTP/1.1 200 OK\"\n",
      "HTTP Request: POST http://127.0.0.1:8080/embed \"HTTP/1.1 200 OK\"\n"
     ]
    },
    {
     "name": "stderr",
     "output_type": "stream",
     "text": [
      "\r",
      "Generating embeddings:  86%|██████████████████████████████████████████████████████████████████████████████████████████████████████████████████████████████████████████████████████▉                         | 3300/3848 [36:03<04:20,  2.11it/s]"
     ]
    },
    {
     "name": "stdout",
     "output_type": "stream",
     "text": [
      "INFO:httpx:HTTP Request: POST http://127.0.0.1:8080/embed \"HTTP/1.1 200 OK\"\n",
      "HTTP Request: POST http://127.0.0.1:8080/embed \"HTTP/1.1 200 OK\"\n",
      "HTTP Request: POST http://127.0.0.1:8080/embed \"HTTP/1.1 200 OK\"\n",
      "HTTP Request: POST http://127.0.0.1:8080/embed \"HTTP/1.1 200 OK\"\n"
     ]
    },
    {
     "name": "stderr",
     "output_type": "stream",
     "text": [
      "\r",
      "Generating embeddings:  86%|███████████████████████████████████████████████████████████████████████████████████████████████████████████████████████████████████████████████████████▍                        | 3310/3848 [36:09<04:27,  2.01it/s]"
     ]
    },
    {
     "name": "stdout",
     "output_type": "stream",
     "text": [
      "INFO:httpx:HTTP Request: POST http://127.0.0.1:8080/embed \"HTTP/1.1 200 OK\"\n",
      "HTTP Request: POST http://127.0.0.1:8080/embed \"HTTP/1.1 200 OK\"\n",
      "HTTP Request: POST http://127.0.0.1:8080/embed \"HTTP/1.1 200 OK\"\n",
      "HTTP Request: POST http://127.0.0.1:8080/embed \"HTTP/1.1 200 OK\"\n"
     ]
    },
    {
     "name": "stderr",
     "output_type": "stream",
     "text": [
      "\r",
      "Generating embeddings:  86%|███████████████████████████████████████████████████████████████████████████████████████████████████████████████████████████████████████████████████████▊                        | 3320/3848 [36:14<04:20,  2.02it/s]"
     ]
    },
    {
     "name": "stdout",
     "output_type": "stream",
     "text": [
      "INFO:httpx:HTTP Request: POST http://127.0.0.1:8080/embed \"HTTP/1.1 200 OK\"\n",
      "HTTP Request: POST http://127.0.0.1:8080/embed \"HTTP/1.1 200 OK\"\n",
      "HTTP Request: POST http://127.0.0.1:8080/embed \"HTTP/1.1 200 OK\"\n",
      "HTTP Request: POST http://127.0.0.1:8080/embed \"HTTP/1.1 200 OK\"\n"
     ]
    },
    {
     "name": "stderr",
     "output_type": "stream",
     "text": [
      "\r",
      "Generating embeddings:  87%|████████████████████████████████████████████████████████████████████████████████████████████████████████████████████████████████████████████████████████▎                       | 3330/3848 [36:19<04:15,  2.03it/s]"
     ]
    },
    {
     "name": "stdout",
     "output_type": "stream",
     "text": [
      "INFO:httpx:HTTP Request: POST http://127.0.0.1:8080/embed \"HTTP/1.1 200 OK\"\n",
      "HTTP Request: POST http://127.0.0.1:8080/embed \"HTTP/1.1 200 OK\"\n",
      "HTTP Request: POST http://127.0.0.1:8080/embed \"HTTP/1.1 200 OK\"\n",
      "HTTP Request: POST http://127.0.0.1:8080/embed \"HTTP/1.1 200 OK\"\n"
     ]
    },
    {
     "name": "stderr",
     "output_type": "stream",
     "text": [
      "\r",
      "Generating embeddings:  87%|████████████████████████████████████████████████████████████████████████████████████████████████████████████████████████████████████████████████████████▊                       | 3340/3848 [36:23<04:08,  2.04it/s]"
     ]
    },
    {
     "name": "stdout",
     "output_type": "stream",
     "text": [
      "INFO:httpx:HTTP Request: POST http://127.0.0.1:8080/embed \"HTTP/1.1 200 OK\"\n",
      "HTTP Request: POST http://127.0.0.1:8080/embed \"HTTP/1.1 200 OK\"\n",
      "HTTP Request: POST http://127.0.0.1:8080/embed \"HTTP/1.1 200 OK\"\n",
      "HTTP Request: POST http://127.0.0.1:8080/embed \"HTTP/1.1 200 OK\"\n"
     ]
    },
    {
     "name": "stderr",
     "output_type": "stream",
     "text": [
      "\r",
      "Generating embeddings:  87%|█████████████████████████████████████████████████████████████████████████████████████████████████████████████████████████████████████████████████████████▏                      | 3350/3848 [36:28<04:05,  2.03it/s]"
     ]
    },
    {
     "name": "stdout",
     "output_type": "stream",
     "text": [
      "INFO:httpx:HTTP Request: POST http://127.0.0.1:8080/embed \"HTTP/1.1 200 OK\"\n",
      "HTTP Request: POST http://127.0.0.1:8080/embed \"HTTP/1.1 200 OK\"\n",
      "HTTP Request: POST http://127.0.0.1:8080/embed \"HTTP/1.1 200 OK\"\n",
      "HTTP Request: POST http://127.0.0.1:8080/embed \"HTTP/1.1 200 OK\"\n"
     ]
    },
    {
     "name": "stderr",
     "output_type": "stream",
     "text": [
      "\r",
      "Generating embeddings:  87%|█████████████████████████████████████████████████████████████████████████████████████████████████████████████████████████████████████████████████████████▋                      | 3360/3848 [36:33<04:02,  2.01it/s]"
     ]
    },
    {
     "name": "stdout",
     "output_type": "stream",
     "text": [
      "INFO:httpx:HTTP Request: POST http://127.0.0.1:8080/embed \"HTTP/1.1 200 OK\"\n",
      "HTTP Request: POST http://127.0.0.1:8080/embed \"HTTP/1.1 200 OK\"\n",
      "HTTP Request: POST http://127.0.0.1:8080/embed \"HTTP/1.1 200 OK\"\n",
      "HTTP Request: POST http://127.0.0.1:8080/embed \"HTTP/1.1 200 OK\"\n"
     ]
    },
    {
     "name": "stderr",
     "output_type": "stream",
     "text": [
      "\r",
      "Generating embeddings:  88%|██████████████████████████████████████████████████████████████████████████████████████████████████████████████████████████████████████████████████████████▏                     | 3370/3848 [36:38<03:52,  2.06it/s]"
     ]
    },
    {
     "name": "stdout",
     "output_type": "stream",
     "text": [
      "INFO:httpx:HTTP Request: POST http://127.0.0.1:8080/embed \"HTTP/1.1 200 OK\"\n",
      "HTTP Request: POST http://127.0.0.1:8080/embed \"HTTP/1.1 200 OK\"\n",
      "HTTP Request: POST http://127.0.0.1:8080/embed \"HTTP/1.1 200 OK\"\n",
      "HTTP Request: POST http://127.0.0.1:8080/embed \"HTTP/1.1 200 OK\"\n"
     ]
    },
    {
     "name": "stderr",
     "output_type": "stream",
     "text": [
      "\r",
      "Generating embeddings:  88%|██████████████████████████████████████████████████████████████████████████████████████████████████████████████████████████████████████████████████████████▌                     | 3380/3848 [36:43<03:41,  2.11it/s]"
     ]
    },
    {
     "name": "stdout",
     "output_type": "stream",
     "text": [
      "INFO:httpx:HTTP Request: POST http://127.0.0.1:8080/embed \"HTTP/1.1 200 OK\"\n",
      "HTTP Request: POST http://127.0.0.1:8080/embed \"HTTP/1.1 200 OK\"\n",
      "HTTP Request: POST http://127.0.0.1:8080/embed \"HTTP/1.1 200 OK\"\n",
      "HTTP Request: POST http://127.0.0.1:8080/embed \"HTTP/1.1 200 OK\"\n"
     ]
    },
    {
     "name": "stderr",
     "output_type": "stream",
     "text": [
      "\r",
      "Generating embeddings:  88%|███████████████████████████████████████████████████████████████████████████████████████████████████████████████████████████████████████████████████████████                     | 3390/3848 [36:47<03:34,  2.14it/s]"
     ]
    },
    {
     "name": "stdout",
     "output_type": "stream",
     "text": [
      "INFO:httpx:HTTP Request: POST http://127.0.0.1:8080/embed \"HTTP/1.1 200 OK\"\n",
      "HTTP Request: POST http://127.0.0.1:8080/embed \"HTTP/1.1 200 OK\"\n",
      "HTTP Request: POST http://127.0.0.1:8080/embed \"HTTP/1.1 200 OK\"\n",
      "HTTP Request: POST http://127.0.0.1:8080/embed \"HTTP/1.1 200 OK\"\n"
     ]
    },
    {
     "name": "stderr",
     "output_type": "stream",
     "text": [
      "\r",
      "Generating embeddings:  88%|███████████████████████████████████████████████████████████████████████████████████████████████████████████████████████████████████████████████████████████▌                    | 3400/3848 [36:52<03:29,  2.14it/s]"
     ]
    },
    {
     "name": "stdout",
     "output_type": "stream",
     "text": [
      "INFO:httpx:HTTP Request: POST http://127.0.0.1:8080/embed \"HTTP/1.1 200 OK\"\n",
      "HTTP Request: POST http://127.0.0.1:8080/embed \"HTTP/1.1 200 OK\"\n",
      "HTTP Request: POST http://127.0.0.1:8080/embed \"HTTP/1.1 200 OK\"\n",
      "HTTP Request: POST http://127.0.0.1:8080/embed \"HTTP/1.1 200 OK\"\n"
     ]
    },
    {
     "name": "stderr",
     "output_type": "stream",
     "text": [
      "\r",
      "Generating embeddings:  89%|███████████████████████████████████████████████████████████████████████████████████████████████████████████████████████████████████████████████████████████▉                    | 3410/3848 [36:56<03:24,  2.14it/s]"
     ]
    },
    {
     "name": "stdout",
     "output_type": "stream",
     "text": [
      "INFO:httpx:HTTP Request: POST http://127.0.0.1:8080/embed \"HTTP/1.1 200 OK\"\n",
      "HTTP Request: POST http://127.0.0.1:8080/embed \"HTTP/1.1 200 OK\"\n",
      "HTTP Request: POST http://127.0.0.1:8080/embed \"HTTP/1.1 200 OK\"\n",
      "HTTP Request: POST http://127.0.0.1:8080/embed \"HTTP/1.1 200 OK\"\n"
     ]
    },
    {
     "name": "stderr",
     "output_type": "stream",
     "text": [
      "\r",
      "Generating embeddings:  89%|████████████████████████████████████████████████████████████████████████████████████████████████████████████████████████████████████████████████████████████▍                   | 3420/3848 [37:01<03:19,  2.14it/s]"
     ]
    },
    {
     "name": "stdout",
     "output_type": "stream",
     "text": [
      "INFO:httpx:HTTP Request: POST http://127.0.0.1:8080/embed \"HTTP/1.1 200 OK\"\n",
      "HTTP Request: POST http://127.0.0.1:8080/embed \"HTTP/1.1 200 OK\"\n",
      "HTTP Request: POST http://127.0.0.1:8080/embed \"HTTP/1.1 200 OK\"\n",
      "HTTP Request: POST http://127.0.0.1:8080/embed \"HTTP/1.1 200 OK\"\n"
     ]
    },
    {
     "name": "stderr",
     "output_type": "stream",
     "text": [
      "\r",
      "Generating embeddings:  89%|████████████████████████████████████████████████████████████████████████████████████████████████████████████████████████████████████████████████████████████▉                   | 3430/3848 [37:06<03:16,  2.12it/s]"
     ]
    },
    {
     "name": "stdout",
     "output_type": "stream",
     "text": [
      "INFO:httpx:HTTP Request: POST http://127.0.0.1:8080/embed \"HTTP/1.1 200 OK\"\n",
      "HTTP Request: POST http://127.0.0.1:8080/embed \"HTTP/1.1 200 OK\"\n",
      "HTTP Request: POST http://127.0.0.1:8080/embed \"HTTP/1.1 200 OK\"\n",
      "HTTP Request: POST http://127.0.0.1:8080/embed \"HTTP/1.1 200 OK\"\n"
     ]
    },
    {
     "name": "stderr",
     "output_type": "stream",
     "text": [
      "\r",
      "Generating embeddings:  89%|█████████████████████████████████████████████████████████████████████████████████████████████████████████████████████████████████████████████████████████████▎                  | 3440/3848 [37:10<03:11,  2.13it/s]"
     ]
    },
    {
     "name": "stdout",
     "output_type": "stream",
     "text": [
      "INFO:httpx:HTTP Request: POST http://127.0.0.1:8080/embed \"HTTP/1.1 200 OK\"\n",
      "HTTP Request: POST http://127.0.0.1:8080/embed \"HTTP/1.1 200 OK\"\n",
      "HTTP Request: POST http://127.0.0.1:8080/embed \"HTTP/1.1 200 OK\"\n",
      "HTTP Request: POST http://127.0.0.1:8080/embed \"HTTP/1.1 200 OK\"\n"
     ]
    },
    {
     "name": "stderr",
     "output_type": "stream",
     "text": [
      "\r",
      "Generating embeddings:  90%|█████████████████████████████████████████████████████████████████████████████████████████████████████████████████████████████████████████████████████████████▊                  | 3450/3848 [37:15<03:03,  2.17it/s]"
     ]
    },
    {
     "name": "stdout",
     "output_type": "stream",
     "text": [
      "INFO:httpx:HTTP Request: POST http://127.0.0.1:8080/embed \"HTTP/1.1 200 OK\"\n",
      "HTTP Request: POST http://127.0.0.1:8080/embed \"HTTP/1.1 200 OK\"\n",
      "HTTP Request: POST http://127.0.0.1:8080/embed \"HTTP/1.1 200 OK\"\n",
      "HTTP Request: POST http://127.0.0.1:8080/embed \"HTTP/1.1 200 OK\"\n"
     ]
    },
    {
     "name": "stderr",
     "output_type": "stream",
     "text": [
      "\r",
      "Generating embeddings:  90%|██████████████████████████████████████████████████████████████████████████████████████████████████████████████████████████████████████████████████████████████▎                 | 3460/3848 [37:20<02:59,  2.17it/s]"
     ]
    },
    {
     "name": "stdout",
     "output_type": "stream",
     "text": [
      "INFO:httpx:HTTP Request: POST http://127.0.0.1:8080/embed \"HTTP/1.1 200 OK\"\n",
      "HTTP Request: POST http://127.0.0.1:8080/embed \"HTTP/1.1 200 OK\"\n",
      "HTTP Request: POST http://127.0.0.1:8080/embed \"HTTP/1.1 200 OK\"\n",
      "HTTP Request: POST http://127.0.0.1:8080/embed \"HTTP/1.1 200 OK\"\n"
     ]
    },
    {
     "name": "stderr",
     "output_type": "stream",
     "text": [
      "\r",
      "Generating embeddings:  90%|██████████████████████████████████████████████████████████████████████████████████████████████████████████████████████████████████████████████████████████████▋                 | 3470/3848 [37:25<02:58,  2.12it/s]"
     ]
    },
    {
     "name": "stdout",
     "output_type": "stream",
     "text": [
      "INFO:httpx:HTTP Request: POST http://127.0.0.1:8080/embed \"HTTP/1.1 200 OK\"\n",
      "HTTP Request: POST http://127.0.0.1:8080/embed \"HTTP/1.1 200 OK\"\n",
      "HTTP Request: POST http://127.0.0.1:8080/embed \"HTTP/1.1 200 OK\"\n",
      "HTTP Request: POST http://127.0.0.1:8080/embed \"HTTP/1.1 200 OK\"\n"
     ]
    },
    {
     "name": "stderr",
     "output_type": "stream",
     "text": [
      "\r",
      "Generating embeddings:  90%|███████████████████████████████████████████████████████████████████████████████████████████████████████████████████████████████████████████████████████████████▏                | 3480/3848 [37:29<02:51,  2.14it/s]"
     ]
    },
    {
     "name": "stdout",
     "output_type": "stream",
     "text": [
      "INFO:httpx:HTTP Request: POST http://127.0.0.1:8080/embed \"HTTP/1.1 200 OK\"\n",
      "HTTP Request: POST http://127.0.0.1:8080/embed \"HTTP/1.1 200 OK\"\n",
      "HTTP Request: POST http://127.0.0.1:8080/embed \"HTTP/1.1 200 OK\"\n",
      "HTTP Request: POST http://127.0.0.1:8080/embed \"HTTP/1.1 200 OK\"\n"
     ]
    },
    {
     "name": "stderr",
     "output_type": "stream",
     "text": [
      "\r",
      "Generating embeddings:  91%|███████████████████████████████████████████████████████████████████████████████████████████████████████████████████████████████████████████████████████████████▋                | 3490/3848 [37:34<02:47,  2.14it/s]"
     ]
    },
    {
     "name": "stdout",
     "output_type": "stream",
     "text": [
      "INFO:httpx:HTTP Request: POST http://127.0.0.1:8080/embed \"HTTP/1.1 200 OK\"\n",
      "HTTP Request: POST http://127.0.0.1:8080/embed \"HTTP/1.1 200 OK\"\n",
      "HTTP Request: POST http://127.0.0.1:8080/embed \"HTTP/1.1 200 OK\"\n",
      "HTTP Request: POST http://127.0.0.1:8080/embed \"HTTP/1.1 200 OK\"\n"
     ]
    },
    {
     "name": "stderr",
     "output_type": "stream",
     "text": [
      "\r",
      "Generating embeddings:  91%|████████████████████████████████████████████████████████████████████████████████████████████████████████████████████████████████████████████████████████████████                | 3500/3848 [37:38<02:40,  2.17it/s]"
     ]
    },
    {
     "name": "stdout",
     "output_type": "stream",
     "text": [
      "INFO:httpx:HTTP Request: POST http://127.0.0.1:8080/embed \"HTTP/1.1 200 OK\"\n",
      "HTTP Request: POST http://127.0.0.1:8080/embed \"HTTP/1.1 200 OK\"\n",
      "HTTP Request: POST http://127.0.0.1:8080/embed \"HTTP/1.1 200 OK\"\n",
      "HTTP Request: POST http://127.0.0.1:8080/embed \"HTTP/1.1 200 OK\"\n"
     ]
    },
    {
     "name": "stderr",
     "output_type": "stream",
     "text": [
      "\r",
      "Generating embeddings:  91%|████████████████████████████████████████████████████████████████████████████████████████████████████████████████████████████████████████████████████████████████▌               | 3510/3848 [37:43<02:38,  2.13it/s]"
     ]
    },
    {
     "name": "stdout",
     "output_type": "stream",
     "text": [
      "INFO:httpx:HTTP Request: POST http://127.0.0.1:8080/embed \"HTTP/1.1 200 OK\"\n",
      "HTTP Request: POST http://127.0.0.1:8080/embed \"HTTP/1.1 200 OK\"\n",
      "HTTP Request: POST http://127.0.0.1:8080/embed \"HTTP/1.1 200 OK\"\n",
      "HTTP Request: POST http://127.0.0.1:8080/embed \"HTTP/1.1 200 OK\"\n"
     ]
    },
    {
     "name": "stderr",
     "output_type": "stream",
     "text": [
      "\r",
      "Generating embeddings:  91%|████████████████████████████████████████████████████████████████████████████████████████████████████████████████████████████████████████████████████████████████▉               | 3520/3848 [37:48<02:33,  2.13it/s]"
     ]
    },
    {
     "name": "stdout",
     "output_type": "stream",
     "text": [
      "INFO:httpx:HTTP Request: POST http://127.0.0.1:8080/embed \"HTTP/1.1 200 OK\"\n",
      "HTTP Request: POST http://127.0.0.1:8080/embed \"HTTP/1.1 200 OK\"\n",
      "HTTP Request: POST http://127.0.0.1:8080/embed \"HTTP/1.1 200 OK\"\n",
      "HTTP Request: POST http://127.0.0.1:8080/embed \"HTTP/1.1 200 OK\"\n"
     ]
    },
    {
     "name": "stderr",
     "output_type": "stream",
     "text": [
      "\r",
      "Generating embeddings:  92%|█████████████████████████████████████████████████████████████████████████████████████████████████████████████████████████████████████████████████████████████████▍              | 3530/3848 [37:52<02:28,  2.14it/s]"
     ]
    },
    {
     "name": "stdout",
     "output_type": "stream",
     "text": [
      "INFO:httpx:HTTP Request: POST http://127.0.0.1:8080/embed \"HTTP/1.1 200 OK\"\n",
      "HTTP Request: POST http://127.0.0.1:8080/embed \"HTTP/1.1 200 OK\"\n",
      "HTTP Request: POST http://127.0.0.1:8080/embed \"HTTP/1.1 200 OK\"\n",
      "HTTP Request: POST http://127.0.0.1:8080/embed \"HTTP/1.1 200 OK\"\n"
     ]
    },
    {
     "name": "stderr",
     "output_type": "stream",
     "text": [
      "\r",
      "Generating embeddings:  92%|█████████████████████████████████████████████████████████████████████████████████████████████████████████████████████████████████████████████████████████████████▉              | 3540/3848 [37:57<02:24,  2.14it/s]"
     ]
    },
    {
     "name": "stdout",
     "output_type": "stream",
     "text": [
      "INFO:httpx:HTTP Request: POST http://127.0.0.1:8080/embed \"HTTP/1.1 200 OK\"\n",
      "HTTP Request: POST http://127.0.0.1:8080/embed \"HTTP/1.1 200 OK\"\n",
      "HTTP Request: POST http://127.0.0.1:8080/embed \"HTTP/1.1 200 OK\"\n",
      "HTTP Request: POST http://127.0.0.1:8080/embed \"HTTP/1.1 200 OK\"\n"
     ]
    },
    {
     "name": "stderr",
     "output_type": "stream",
     "text": [
      "\r",
      "Generating embeddings:  92%|██████████████████████████████████████████████████████████████████████████████████████████████████████████████████████████████████████████████████████████████████▎             | 3550/3848 [38:02<02:18,  2.16it/s]"
     ]
    },
    {
     "name": "stdout",
     "output_type": "stream",
     "text": [
      "INFO:httpx:HTTP Request: POST http://127.0.0.1:8080/embed \"HTTP/1.1 200 OK\"\n",
      "HTTP Request: POST http://127.0.0.1:8080/embed \"HTTP/1.1 200 OK\"\n",
      "HTTP Request: POST http://127.0.0.1:8080/embed \"HTTP/1.1 200 OK\"\n",
      "HTTP Request: POST http://127.0.0.1:8080/embed \"HTTP/1.1 200 OK\"\n"
     ]
    },
    {
     "name": "stderr",
     "output_type": "stream",
     "text": [
      "\r",
      "Generating embeddings:  93%|██████████████████████████████████████████████████████████████████████████████████████████████████████████████████████████████████████████████████████████████████▊             | 3560/3848 [38:06<02:08,  2.24it/s]"
     ]
    },
    {
     "name": "stdout",
     "output_type": "stream",
     "text": [
      "INFO:httpx:HTTP Request: POST http://127.0.0.1:8080/embed \"HTTP/1.1 200 OK\"\n",
      "HTTP Request: POST http://127.0.0.1:8080/embed \"HTTP/1.1 200 OK\"\n",
      "HTTP Request: POST http://127.0.0.1:8080/embed \"HTTP/1.1 200 OK\"\n",
      "HTTP Request: POST http://127.0.0.1:8080/embed \"HTTP/1.1 200 OK\"\n"
     ]
    },
    {
     "name": "stderr",
     "output_type": "stream",
     "text": [
      "\r",
      "Generating embeddings:  93%|███████████████████████████████████████████████████████████████████████████████████████████████████████████████████████████████████████████████████████████████████▎            | 3570/3848 [38:11<02:09,  2.15it/s]"
     ]
    },
    {
     "name": "stdout",
     "output_type": "stream",
     "text": [
      "INFO:httpx:HTTP Request: POST http://127.0.0.1:8080/embed \"HTTP/1.1 200 OK\"\n",
      "HTTP Request: POST http://127.0.0.1:8080/embed \"HTTP/1.1 200 OK\"\n",
      "HTTP Request: POST http://127.0.0.1:8080/embed \"HTTP/1.1 200 OK\"\n",
      "HTTP Request: POST http://127.0.0.1:8080/embed \"HTTP/1.1 200 OK\"\n"
     ]
    },
    {
     "name": "stderr",
     "output_type": "stream",
     "text": [
      "\r",
      "Generating embeddings:  93%|███████████████████████████████████████████████████████████████████████████████████████████████████████████████████████████████████████████████████████████████████▋            | 3580/3848 [38:15<02:03,  2.18it/s]"
     ]
    },
    {
     "name": "stdout",
     "output_type": "stream",
     "text": [
      "INFO:httpx:HTTP Request: POST http://127.0.0.1:8080/embed \"HTTP/1.1 200 OK\"\n",
      "HTTP Request: POST http://127.0.0.1:8080/embed \"HTTP/1.1 200 OK\"\n",
      "HTTP Request: POST http://127.0.0.1:8080/embed \"HTTP/1.1 200 OK\"\n",
      "HTTP Request: POST http://127.0.0.1:8080/embed \"HTTP/1.1 200 OK\"\n"
     ]
    },
    {
     "name": "stderr",
     "output_type": "stream",
     "text": [
      "\r",
      "Generating embeddings:  93%|████████████████████████████████████████████████████████████████████████████████████████████████████████████████████████████████████████████████████████████████████▏           | 3590/3848 [38:20<01:57,  2.19it/s]"
     ]
    },
    {
     "name": "stdout",
     "output_type": "stream",
     "text": [
      "INFO:httpx:HTTP Request: POST http://127.0.0.1:8080/embed \"HTTP/1.1 200 OK\"\n",
      "HTTP Request: POST http://127.0.0.1:8080/embed \"HTTP/1.1 200 OK\"\n",
      "HTTP Request: POST http://127.0.0.1:8080/embed \"HTTP/1.1 200 OK\"\n",
      "HTTP Request: POST http://127.0.0.1:8080/embed \"HTTP/1.1 200 OK\"\n"
     ]
    },
    {
     "name": "stderr",
     "output_type": "stream",
     "text": [
      "\r",
      "Generating embeddings:  94%|████████████████████████████████████████████████████████████████████████████████████████████████████████████████████████████████████████████████████████████████████▋           | 3600/3848 [38:24<01:52,  2.20it/s]"
     ]
    },
    {
     "name": "stdout",
     "output_type": "stream",
     "text": [
      "INFO:httpx:HTTP Request: POST http://127.0.0.1:8080/embed \"HTTP/1.1 200 OK\"\n",
      "HTTP Request: POST http://127.0.0.1:8080/embed \"HTTP/1.1 200 OK\"\n",
      "HTTP Request: POST http://127.0.0.1:8080/embed \"HTTP/1.1 200 OK\"\n",
      "HTTP Request: POST http://127.0.0.1:8080/embed \"HTTP/1.1 200 OK\"\n"
     ]
    },
    {
     "name": "stderr",
     "output_type": "stream",
     "text": [
      "\r",
      "Generating embeddings:  94%|█████████████████████████████████████████████████████████████████████████████████████████████████████████████████████████████████████████████████████████████████████           | 3610/3848 [38:29<01:48,  2.20it/s]"
     ]
    },
    {
     "name": "stdout",
     "output_type": "stream",
     "text": [
      "INFO:httpx:HTTP Request: POST http://127.0.0.1:8080/embed \"HTTP/1.1 200 OK\"\n",
      "HTTP Request: POST http://127.0.0.1:8080/embed \"HTTP/1.1 200 OK\"\n",
      "HTTP Request: POST http://127.0.0.1:8080/embed \"HTTP/1.1 200 OK\"\n",
      "HTTP Request: POST http://127.0.0.1:8080/embed \"HTTP/1.1 200 OK\"\n"
     ]
    },
    {
     "name": "stderr",
     "output_type": "stream",
     "text": [
      "\r",
      "Generating embeddings:  94%|█████████████████████████████████████████████████████████████████████████████████████████████████████████████████████████████████████████████████████████████████████▌          | 3620/3848 [38:34<01:50,  2.07it/s]"
     ]
    },
    {
     "name": "stdout",
     "output_type": "stream",
     "text": [
      "INFO:httpx:HTTP Request: POST http://127.0.0.1:8080/embed \"HTTP/1.1 200 OK\"\n",
      "HTTP Request: POST http://127.0.0.1:8080/embed \"HTTP/1.1 200 OK\"\n",
      "HTTP Request: POST http://127.0.0.1:8080/embed \"HTTP/1.1 200 OK\"\n",
      "HTTP Request: POST http://127.0.0.1:8080/embed \"HTTP/1.1 200 OK\"\n"
     ]
    },
    {
     "name": "stderr",
     "output_type": "stream",
     "text": [
      "\r",
      "Generating embeddings:  94%|██████████████████████████████████████████████████████████████████████████████████████████████████████████████████████████████████████████████████████████████████████          | 3630/3848 [38:39<01:44,  2.08it/s]"
     ]
    },
    {
     "name": "stdout",
     "output_type": "stream",
     "text": [
      "INFO:httpx:HTTP Request: POST http://127.0.0.1:8080/embed \"HTTP/1.1 200 OK\"\n",
      "HTTP Request: POST http://127.0.0.1:8080/embed \"HTTP/1.1 200 OK\"\n",
      "HTTP Request: POST http://127.0.0.1:8080/embed \"HTTP/1.1 200 OK\"\n",
      "HTTP Request: POST http://127.0.0.1:8080/embed \"HTTP/1.1 200 OK\"\n"
     ]
    },
    {
     "name": "stderr",
     "output_type": "stream",
     "text": [
      "\r",
      "Generating embeddings:  95%|██████████████████████████████████████████████████████████████████████████████████████████████████████████████████████████████████████████████████████████████████████▍         | 3640/3848 [38:44<01:40,  2.08it/s]"
     ]
    },
    {
     "name": "stdout",
     "output_type": "stream",
     "text": [
      "INFO:httpx:HTTP Request: POST http://127.0.0.1:8080/embed \"HTTP/1.1 200 OK\"\n",
      "HTTP Request: POST http://127.0.0.1:8080/embed \"HTTP/1.1 200 OK\"\n",
      "HTTP Request: POST http://127.0.0.1:8080/embed \"HTTP/1.1 200 OK\"\n",
      "HTTP Request: POST http://127.0.0.1:8080/embed \"HTTP/1.1 200 OK\"\n"
     ]
    },
    {
     "name": "stderr",
     "output_type": "stream",
     "text": [
      "\r",
      "Generating embeddings:  95%|██████████████████████████████████████████████████████████████████████████████████████████████████████████████████████████████████████████████████████████████████████▉         | 3650/3848 [38:48<01:33,  2.12it/s]"
     ]
    },
    {
     "name": "stdout",
     "output_type": "stream",
     "text": [
      "INFO:httpx:HTTP Request: POST http://127.0.0.1:8080/embed \"HTTP/1.1 200 OK\"\n",
      "HTTP Request: POST http://127.0.0.1:8080/embed \"HTTP/1.1 200 OK\"\n",
      "HTTP Request: POST http://127.0.0.1:8080/embed \"HTTP/1.1 200 OK\"\n",
      "HTTP Request: POST http://127.0.0.1:8080/embed \"HTTP/1.1 200 OK\"\n"
     ]
    },
    {
     "name": "stderr",
     "output_type": "stream",
     "text": [
      "\r",
      "Generating embeddings:  95%|███████████████████████████████████████████████████████████████████████████████████████████████████████████████████████████████████████████████████████████████████████▍        | 3660/3848 [38:53<01:28,  2.12it/s]"
     ]
    },
    {
     "name": "stdout",
     "output_type": "stream",
     "text": [
      "INFO:httpx:HTTP Request: POST http://127.0.0.1:8080/embed \"HTTP/1.1 200 OK\"\n",
      "HTTP Request: POST http://127.0.0.1:8080/embed \"HTTP/1.1 200 OK\"\n",
      "HTTP Request: POST http://127.0.0.1:8080/embed \"HTTP/1.1 200 OK\"\n",
      "HTTP Request: POST http://127.0.0.1:8080/embed \"HTTP/1.1 200 OK\"\n"
     ]
    },
    {
     "name": "stderr",
     "output_type": "stream",
     "text": [
      "\r",
      "Generating embeddings:  95%|███████████████████████████████████████████████████████████████████████████████████████████████████████████████████████████████████████████████████████████████████████▊        | 3670/3848 [38:58<01:25,  2.07it/s]"
     ]
    },
    {
     "name": "stdout",
     "output_type": "stream",
     "text": [
      "INFO:httpx:HTTP Request: POST http://127.0.0.1:8080/embed \"HTTP/1.1 200 OK\"\n",
      "HTTP Request: POST http://127.0.0.1:8080/embed \"HTTP/1.1 200 OK\"\n",
      "HTTP Request: POST http://127.0.0.1:8080/embed \"HTTP/1.1 200 OK\"\n",
      "HTTP Request: POST http://127.0.0.1:8080/embed \"HTTP/1.1 200 OK\"\n"
     ]
    },
    {
     "name": "stderr",
     "output_type": "stream",
     "text": [
      "\r",
      "Generating embeddings:  96%|████████████████████████████████████████████████████████████████████████████████████████████████████████████████████████████████████████████████████████████████████████▎       | 3680/3848 [39:04<01:24,  1.99it/s]"
     ]
    },
    {
     "name": "stdout",
     "output_type": "stream",
     "text": [
      "INFO:httpx:HTTP Request: POST http://127.0.0.1:8080/embed \"HTTP/1.1 200 OK\"\n",
      "HTTP Request: POST http://127.0.0.1:8080/embed \"HTTP/1.1 200 OK\"\n",
      "HTTP Request: POST http://127.0.0.1:8080/embed \"HTTP/1.1 200 OK\"\n",
      "HTTP Request: POST http://127.0.0.1:8080/embed \"HTTP/1.1 200 OK\"\n"
     ]
    },
    {
     "name": "stderr",
     "output_type": "stream",
     "text": [
      "\r",
      "Generating embeddings:  96%|████████████████████████████████████████████████████████████████████████████████████████████████████████████████████████████████████████████████████████████████████████▊       | 3690/3848 [39:08<01:16,  2.07it/s]"
     ]
    },
    {
     "name": "stdout",
     "output_type": "stream",
     "text": [
      "INFO:httpx:HTTP Request: POST http://127.0.0.1:8080/embed \"HTTP/1.1 200 OK\"\n",
      "HTTP Request: POST http://127.0.0.1:8080/embed \"HTTP/1.1 200 OK\"\n",
      "HTTP Request: POST http://127.0.0.1:8080/embed \"HTTP/1.1 200 OK\"\n",
      "HTTP Request: POST http://127.0.0.1:8080/embed \"HTTP/1.1 200 OK\"\n"
     ]
    },
    {
     "name": "stderr",
     "output_type": "stream",
     "text": [
      "\r",
      "Generating embeddings:  96%|█████████████████████████████████████████████████████████████████████████████████████████████████████████████████████████████████████████████████████████████████████████▏      | 3700/3848 [39:13<01:11,  2.07it/s]"
     ]
    },
    {
     "name": "stdout",
     "output_type": "stream",
     "text": [
      "INFO:httpx:HTTP Request: POST http://127.0.0.1:8080/embed \"HTTP/1.1 200 OK\"\n",
      "HTTP Request: POST http://127.0.0.1:8080/embed \"HTTP/1.1 200 OK\"\n",
      "HTTP Request: POST http://127.0.0.1:8080/embed \"HTTP/1.1 200 OK\"\n",
      "HTTP Request: POST http://127.0.0.1:8080/embed \"HTTP/1.1 200 OK\"\n"
     ]
    },
    {
     "name": "stderr",
     "output_type": "stream",
     "text": [
      "\r",
      "Generating embeddings:  96%|█████████████████████████████████████████████████████████████████████████████████████████████████████████████████████████████████████████████████████████████████████████▋      | 3710/3848 [39:17<01:05,  2.12it/s]"
     ]
    },
    {
     "name": "stdout",
     "output_type": "stream",
     "text": [
      "INFO:httpx:HTTP Request: POST http://127.0.0.1:8080/embed \"HTTP/1.1 200 OK\"\n",
      "HTTP Request: POST http://127.0.0.1:8080/embed \"HTTP/1.1 200 OK\"\n",
      "HTTP Request: POST http://127.0.0.1:8080/embed \"HTTP/1.1 200 OK\"\n",
      "HTTP Request: POST http://127.0.0.1:8080/embed \"HTTP/1.1 200 OK\"\n"
     ]
    },
    {
     "name": "stderr",
     "output_type": "stream",
     "text": [
      "\r",
      "Generating embeddings:  97%|██████████████████████████████████████████████████████████████████████████████████████████████████████████████████████████████████████████████████████████████████████████▏     | 3720/3848 [39:22<01:00,  2.10it/s]"
     ]
    },
    {
     "name": "stdout",
     "output_type": "stream",
     "text": [
      "INFO:httpx:HTTP Request: POST http://127.0.0.1:8080/embed \"HTTP/1.1 200 OK\"\n",
      "HTTP Request: POST http://127.0.0.1:8080/embed \"HTTP/1.1 200 OK\"\n",
      "HTTP Request: POST http://127.0.0.1:8080/embed \"HTTP/1.1 200 OK\"\n",
      "HTTP Request: POST http://127.0.0.1:8080/embed \"HTTP/1.1 200 OK\"\n"
     ]
    },
    {
     "name": "stderr",
     "output_type": "stream",
     "text": [
      "\r",
      "Generating embeddings:  97%|██████████████████████████████████████████████████████████████████████████████████████████████████████████████████████████████████████████████████████████████████████████▌     | 3730/3848 [39:28<00:58,  2.01it/s]"
     ]
    },
    {
     "name": "stdout",
     "output_type": "stream",
     "text": [
      "INFO:httpx:HTTP Request: POST http://127.0.0.1:8080/embed \"HTTP/1.1 200 OK\"\n",
      "HTTP Request: POST http://127.0.0.1:8080/embed \"HTTP/1.1 200 OK\"\n",
      "HTTP Request: POST http://127.0.0.1:8080/embed \"HTTP/1.1 200 OK\"\n",
      "HTTP Request: POST http://127.0.0.1:8080/embed \"HTTP/1.1 200 OK\"\n"
     ]
    },
    {
     "name": "stderr",
     "output_type": "stream",
     "text": [
      "\r",
      "Generating embeddings:  97%|███████████████████████████████████████████████████████████████████████████████████████████████████████████████████████████████████████████████████████████████████████████     | 3740/3848 [39:33<00:53,  2.00it/s]"
     ]
    },
    {
     "name": "stdout",
     "output_type": "stream",
     "text": [
      "INFO:httpx:HTTP Request: POST http://127.0.0.1:8080/embed \"HTTP/1.1 200 OK\"\n",
      "HTTP Request: POST http://127.0.0.1:8080/embed \"HTTP/1.1 200 OK\"\n",
      "HTTP Request: POST http://127.0.0.1:8080/embed \"HTTP/1.1 200 OK\"\n",
      "HTTP Request: POST http://127.0.0.1:8080/embed \"HTTP/1.1 200 OK\"\n"
     ]
    },
    {
     "name": "stderr",
     "output_type": "stream",
     "text": [
      "\r",
      "Generating embeddings:  97%|███████████████████████████████████████████████████████████████████████████████████████████████████████████████████████████████████████████████████████████████████████████▌    | 3750/3848 [39:38<00:51,  1.92it/s]"
     ]
    },
    {
     "name": "stdout",
     "output_type": "stream",
     "text": [
      "INFO:httpx:HTTP Request: POST http://127.0.0.1:8080/embed \"HTTP/1.1 200 OK\"\n",
      "HTTP Request: POST http://127.0.0.1:8080/embed \"HTTP/1.1 200 OK\"\n",
      "HTTP Request: POST http://127.0.0.1:8080/embed \"HTTP/1.1 200 OK\"\n",
      "HTTP Request: POST http://127.0.0.1:8080/embed \"HTTP/1.1 200 OK\"\n"
     ]
    },
    {
     "name": "stderr",
     "output_type": "stream",
     "text": [
      "\r",
      "Generating embeddings:  98%|███████████████████████████████████████████████████████████████████████████████████████████████████████████████████████████████████████████████████████████████████████████▉    | 3760/3848 [39:43<00:44,  1.97it/s]"
     ]
    },
    {
     "name": "stdout",
     "output_type": "stream",
     "text": [
      "INFO:httpx:HTTP Request: POST http://127.0.0.1:8080/embed \"HTTP/1.1 200 OK\"\n",
      "HTTP Request: POST http://127.0.0.1:8080/embed \"HTTP/1.1 200 OK\"\n",
      "HTTP Request: POST http://127.0.0.1:8080/embed \"HTTP/1.1 200 OK\"\n",
      "HTTP Request: POST http://127.0.0.1:8080/embed \"HTTP/1.1 200 OK\"\n"
     ]
    },
    {
     "name": "stderr",
     "output_type": "stream",
     "text": [
      "\r",
      "Generating embeddings:  98%|████████████████████████████████████████████████████████████████████████████████████████████████████████████████████████████████████████████████████████████████████████████▍   | 3770/3848 [39:48<00:38,  2.04it/s]"
     ]
    },
    {
     "name": "stdout",
     "output_type": "stream",
     "text": [
      "INFO:httpx:HTTP Request: POST http://127.0.0.1:8080/embed \"HTTP/1.1 200 OK\"\n",
      "HTTP Request: POST http://127.0.0.1:8080/embed \"HTTP/1.1 200 OK\"\n",
      "HTTP Request: POST http://127.0.0.1:8080/embed \"HTTP/1.1 200 OK\"\n",
      "HTTP Request: POST http://127.0.0.1:8080/embed \"HTTP/1.1 200 OK\"\n"
     ]
    },
    {
     "name": "stderr",
     "output_type": "stream",
     "text": [
      "\r",
      "Generating embeddings:  98%|████████████████████████████████████████████████████████████████████████████████████████████████████████████████████████████████████████████████████████████████████████████▉   | 3780/3848 [39:52<00:32,  2.08it/s]"
     ]
    },
    {
     "name": "stdout",
     "output_type": "stream",
     "text": [
      "INFO:httpx:HTTP Request: POST http://127.0.0.1:8080/embed \"HTTP/1.1 200 OK\"\n",
      "HTTP Request: POST http://127.0.0.1:8080/embed \"HTTP/1.1 200 OK\"\n",
      "HTTP Request: POST http://127.0.0.1:8080/embed \"HTTP/1.1 200 OK\"\n",
      "HTTP Request: POST http://127.0.0.1:8080/embed \"HTTP/1.1 200 OK\"\n"
     ]
    },
    {
     "name": "stderr",
     "output_type": "stream",
     "text": [
      "\r",
      "Generating embeddings:  98%|█████████████████████████████████████████████████████████████████████████████████████████████████████████████████████████████████████████████████████████████████████████████▎  | 3790/3848 [39:57<00:28,  2.05it/s]"
     ]
    },
    {
     "name": "stdout",
     "output_type": "stream",
     "text": [
      "INFO:httpx:HTTP Request: POST http://127.0.0.1:8080/embed \"HTTP/1.1 200 OK\"\n",
      "HTTP Request: POST http://127.0.0.1:8080/embed \"HTTP/1.1 200 OK\"\n",
      "HTTP Request: POST http://127.0.0.1:8080/embed \"HTTP/1.1 200 OK\"\n",
      "HTTP Request: POST http://127.0.0.1:8080/embed \"HTTP/1.1 200 OK\"\n"
     ]
    },
    {
     "name": "stderr",
     "output_type": "stream",
     "text": [
      "\r",
      "Generating embeddings:  99%|█████████████████████████████████████████████████████████████████████████████████████████████████████████████████████████████████████████████████████████████████████████████▊  | 3800/3848 [40:02<00:23,  2.04it/s]"
     ]
    },
    {
     "name": "stdout",
     "output_type": "stream",
     "text": [
      "INFO:httpx:HTTP Request: POST http://127.0.0.1:8080/embed \"HTTP/1.1 200 OK\"\n",
      "HTTP Request: POST http://127.0.0.1:8080/embed \"HTTP/1.1 200 OK\"\n",
      "HTTP Request: POST http://127.0.0.1:8080/embed \"HTTP/1.1 200 OK\"\n",
      "HTTP Request: POST http://127.0.0.1:8080/embed \"HTTP/1.1 200 OK\"\n"
     ]
    },
    {
     "name": "stderr",
     "output_type": "stream",
     "text": [
      "\r",
      "Generating embeddings:  99%|██████████████████████████████████████████████████████████████████████████████████████████████████████████████████████████████████████████████████████████████████████████████▎ | 3810/3848 [40:07<00:18,  2.07it/s]"
     ]
    },
    {
     "name": "stdout",
     "output_type": "stream",
     "text": [
      "INFO:httpx:HTTP Request: POST http://127.0.0.1:8080/embed \"HTTP/1.1 200 OK\"\n",
      "HTTP Request: POST http://127.0.0.1:8080/embed \"HTTP/1.1 200 OK\"\n",
      "HTTP Request: POST http://127.0.0.1:8080/embed \"HTTP/1.1 200 OK\"\n",
      "HTTP Request: POST http://127.0.0.1:8080/embed \"HTTP/1.1 200 OK\"\n"
     ]
    },
    {
     "name": "stderr",
     "output_type": "stream",
     "text": [
      "\r",
      "Generating embeddings:  99%|██████████████████████████████████████████████████████████████████████████████████████████████████████████████████████████████████████████████████████████████████████████████▋ | 3820/3848 [40:12<00:13,  2.01it/s]"
     ]
    },
    {
     "name": "stdout",
     "output_type": "stream",
     "text": [
      "INFO:httpx:HTTP Request: POST http://127.0.0.1:8080/embed \"HTTP/1.1 200 OK\"\n",
      "HTTP Request: POST http://127.0.0.1:8080/embed \"HTTP/1.1 200 OK\"\n",
      "HTTP Request: POST http://127.0.0.1:8080/embed \"HTTP/1.1 200 OK\"\n",
      "HTTP Request: POST http://127.0.0.1:8080/embed \"HTTP/1.1 200 OK\"\n"
     ]
    },
    {
     "name": "stderr",
     "output_type": "stream",
     "text": [
      "\r",
      "Generating embeddings: 100%|███████████████████████████████████████████████████████████████████████████████████████████████████████████████████████████████████████████████████████████████████████████████▏| 3830/3848 [40:17<00:08,  2.04it/s]"
     ]
    },
    {
     "name": "stdout",
     "output_type": "stream",
     "text": [
      "INFO:httpx:HTTP Request: POST http://127.0.0.1:8080/embed \"HTTP/1.1 200 OK\"\n",
      "HTTP Request: POST http://127.0.0.1:8080/embed \"HTTP/1.1 200 OK\"\n",
      "HTTP Request: POST http://127.0.0.1:8080/embed \"HTTP/1.1 200 OK\"\n",
      "HTTP Request: POST http://127.0.0.1:8080/embed \"HTTP/1.1 200 OK\"\n"
     ]
    },
    {
     "name": "stderr",
     "output_type": "stream",
     "text": [
      "\r",
      "Generating embeddings: 100%|███████████████████████████████████████████████████████████████████████████████████████████████████████████████████████████████████████████████████████████████████████████████▋| 3840/3848 [40:22<00:03,  2.03it/s]"
     ]
    },
    {
     "name": "stdout",
     "output_type": "stream",
     "text": [
      "INFO:httpx:HTTP Request: POST http://127.0.0.1:8080/embed \"HTTP/1.1 200 OK\"\n",
      "HTTP Request: POST http://127.0.0.1:8080/embed \"HTTP/1.1 200 OK\"\n",
      "HTTP Request: POST http://127.0.0.1:8080/embed \"HTTP/1.1 200 OK\"\n",
      "HTTP Request: POST http://127.0.0.1:8080/embed \"HTTP/1.1 200 OK\"\n"
     ]
    },
    {
     "name": "stderr",
     "output_type": "stream",
     "text": [
      "Generating embeddings: 100%|████████████████████████████████████████████████████████████████████████████████████████████████████████████████████████████████████████████████████████████████████████████████| 3848/3848 [40:26<00:00,  1.59it/s]"
     ]
    },
    {
     "name": "stdout",
     "output_type": "stream",
     "text": [
      "INFO:llama_index.vector_stores.redis:Creating index idx_icc_cwc2023_india\n",
      "Creating index idx_icc_cwc2023_india\n",
      "Creating index idx_icc_cwc2023_india\n",
      "Creating index idx_icc_cwc2023_india\n"
     ]
    },
    {
     "name": "stderr",
     "output_type": "stream",
     "text": [
      "\n"
     ]
    },
    {
     "name": "stdout",
     "output_type": "stream",
     "text": [
      "INFO:llama_index.vector_stores.redis:Added 3848 documents to index idx_icc_cwc2023_india\n",
      "Added 3848 documents to index idx_icc_cwc2023_india\n",
      "Added 3848 documents to index idx_icc_cwc2023_india\n",
      "Added 3848 documents to index idx_icc_cwc2023_india\n"
     ]
    }
   ],
   "source": [
    "vector_index_chunk = VectorStoreIndex(\n",
    "    all_nodes, service_context=service_context, storage_context=storage_context, show_progress=True\n",
    ")"
   ]
  },
  {
   "cell_type": "code",
   "execution_count": 110,
   "id": "1054ddc1",
   "metadata": {},
   "outputs": [
    {
     "name": "stdout",
     "output_type": "stream",
     "text": [
      "INFO:llama_index.vector_stores.redis:Saving index to disk in background\n",
      "Saving index to disk in background\n",
      "Saving index to disk in background\n",
      "Saving index to disk in background\n"
     ]
    }
   ],
   "source": [
    "#persist vector store in redis\n",
    "vector_store.persist(persist_path=\"\")"
   ]
  },
  {
   "cell_type": "code",
   "execution_count": 122,
   "id": "3c4148f5",
   "metadata": {},
   "outputs": [],
   "source": [
    "#load vector store from redis\n",
    "vector_store = RedisVectorStore(\n",
    "    index_name=\"idx_icc_cwc2023_india\",\n",
    "    index_prefix=\"sports_\",\n",
    "    redis_url=\"redis://localhost:6379\",\n",
    "    overwrite=True,\n",
    ")\n",
    "index = VectorStoreIndex.from_vector_store(vector_store=vector_store, service_context=service_context)"
   ]
  },
  {
   "cell_type": "code",
   "execution_count": 123,
   "id": "2bec621c",
   "metadata": {},
   "outputs": [
    {
     "name": "stdout",
     "output_type": "stream",
     "text": [
      "INFO:httpx:HTTP Request: POST http://127.0.0.1:8080/embed \"HTTP/1.1 200 OK\"\n",
      "HTTP Request: POST http://127.0.0.1:8080/embed \"HTTP/1.1 200 OK\"\n",
      "HTTP Request: POST http://127.0.0.1:8080/embed \"HTTP/1.1 200 OK\"\n",
      "HTTP Request: POST http://127.0.0.1:8080/embed \"HTTP/1.1 200 OK\"\n",
      "HTTP Request: POST http://127.0.0.1:8080/embed \"HTTP/1.1 200 OK\"\n",
      "INFO:llama_index.vector_stores.redis:Using filters: *\n",
      "Using filters: *\n",
      "Using filters: *\n",
      "Using filters: *\n",
      "Using filters: *\n",
      "INFO:llama_index.vector_stores.redis:Querying index idx_icc_cwc2023_india\n",
      "Querying index idx_icc_cwc2023_india\n",
      "Querying index idx_icc_cwc2023_india\n",
      "Querying index idx_icc_cwc2023_india\n",
      "Querying index idx_icc_cwc2023_india\n",
      "INFO:llama_index.vector_stores.redis:Found 2 results for query with id ['sports_/vector_2dbd5bc5-dd58-417d-9980-a630b985204b', 'sports_/vector_node-684']\n",
      "Found 2 results for query with id ['sports_/vector_2dbd5bc5-dd58-417d-9980-a630b985204b', 'sports_/vector_node-684']\n",
      "Found 2 results for query with id ['sports_/vector_2dbd5bc5-dd58-417d-9980-a630b985204b', 'sports_/vector_node-684']\n",
      "Found 2 results for query with id ['sports_/vector_2dbd5bc5-dd58-417d-9980-a630b985204b', 'sports_/vector_node-684']\n",
      "Found 2 results for query with id ['sports_/vector_2dbd5bc5-dd58-417d-9980-a630b985204b', 'sports_/vector_node-684']\n",
      "  Of course! The India vs Pakistan match in the ICC Cricket World Cup 2023-24 was a thrilling\n",
      "encounter that took place on October 12, 2023, at the Ahmedabad Stadium in Ahmedabad, Gujarat. India\n",
      "won the match by 10 wickets, with Jasprit Bumrah and the spin bowlers playing a crucial role in\n",
      "defending the team's total score of 317 runs. Rohit Sharma also scored an unbeaten century, which\n",
      "was the icing on the cake for the packed house at the stadium. According to the report, Urooj\n",
      "Mumtaz, a Pakistani cricket journalist, bemoaned the team's loss, stating that they were unable to\n",
      "chase down the target score despite a good start. However, the Indian team's bowling and fielding\n",
      "efforts were praised by many experts for their impressive display. Overall, it was an exciting match\n",
      "between two arch-rivals in the World Cup, with India emerging victorious.\n"
     ]
    },
    {
     "name": "stderr",
     "output_type": "stream",
     "text": [
      "\n",
      "llama_print_timings:        load time =   70727.65 ms\n",
      "llama_print_timings:      sample time =      65.94 ms /   243 runs   (    0.27 ms per token,  3685.22 tokens per second)\n",
      "llama_print_timings: prompt eval time =  112582.86 ms /   674 tokens (  167.04 ms per token,     5.99 tokens per second)\n",
      "llama_print_timings:        eval time =  429880.48 ms /   242 runs   ( 1776.37 ms per token,     0.56 tokens per second)\n",
      "llama_print_timings:       total time =  543767.88 ms\n"
     ]
    }
   ],
   "source": [
    "import textwrap\n",
    "\n",
    "query_engine = index.as_query_engine(similarity_top_k=5)\n",
    "response = query_engine.query(\"Can you tell me about india pakistan match in world cup?\")\n",
    "print(textwrap.fill(str(response), 120))"
   ]
  },
  {
   "cell_type": "code",
   "execution_count": 118,
   "id": "cc803da4",
   "metadata": {},
   "outputs": [
    {
     "name": "stdout",
     "output_type": "stream",
     "text": [
      "Closing server running on port: 4747\n",
      "Closing server running on port: 4747\n",
      "Closing server running on port: 4747\n",
      "Running on local URL:  http://127.0.0.1:4747\n",
      "\n",
      "To create a public link, set `share=True` in `launch()`.\n"
     ]
    },
    {
     "data": {
      "text/html": [
       "<div><iframe src=\"http://127.0.0.1:4747/\" width=\"100%\" height=\"500\" allow=\"autoplay; camera; microphone; clipboard-read; clipboard-write;\" frameborder=\"0\" allowfullscreen></iframe></div>"
      ],
      "text/plain": [
       "<IPython.core.display.HTML object>"
      ]
     },
     "metadata": {},
     "output_type": "display_data"
    },
    {
     "name": "stdout",
     "output_type": "stream",
     "text": [
      "Keyboard interruption in main thread... closing server.\n"
     ]
    },
    {
     "data": {
      "text/plain": []
     },
     "execution_count": 118,
     "metadata": {},
     "output_type": "execute_result"
    }
   ],
   "source": [
    "import os\n",
    "import gradio as gr\n",
    "def generate(input):\n",
    "    output = query_engine.query(input)\n",
    "    return output\n",
    "\n",
    "demo = gr.Interface(fn=generate, inputs=[gr.Textbox(label=\"Prompt\")], outputs=[gr.Textbox(label=\"Completion\")])\n",
    "gr.close_all()\n",
    "demo.launch(share=False, server_port=int(4747), debug=True)"
   ]
  },
  {
   "cell_type": "code",
   "execution_count": 131,
   "id": "d1a7473e",
   "metadata": {},
   "outputs": [],
   "source": [
    "username = \"neo4j\"\n",
    "password = \"neo4j2023\"\n",
    "url = \"bolt://127.0.0.1:7687\"\n",
    "database = \"neo4j\""
   ]
  },
  {
   "cell_type": "code",
   "execution_count": 135,
   "id": "daf02230",
   "metadata": {},
   "outputs": [
    {
     "name": "stdout",
     "output_type": "stream",
     "text": [
      "Requirement already satisfied: neo4j in /Users/s/miniconda3/envs/llama/lib/python3.11/site-packages (5.14.1)\n",
      "Requirement already satisfied: pytz in /Users/s/miniconda3/envs/llama/lib/python3.11/site-packages (from neo4j) (2023.3.post1)\n",
      "Note: you may need to restart the kernel to use updated packages.\n"
     ]
    }
   ],
   "source": [
    "%pip install neo4j"
   ]
  },
  {
   "cell_type": "code",
   "execution_count": null,
   "id": "7b3a99db",
   "metadata": {},
   "outputs": [
    {
     "name": "stderr",
     "output_type": "stream",
     "text": [
      "Llama.generate: prefix-match hit\n"
     ]
    },
    {
     "name": "stdout",
     "output_type": "stream",
     "text": [
      "  Sure! Here are two knowledge triplets that can be extracted from the given text:\n",
      "1. (World Cup 2023, is, ODI)\n",
      "2. (AUS, is, playing against, ENG)\n"
     ]
    },
    {
     "name": "stderr",
     "output_type": "stream",
     "text": [
      "\n",
      "llama_print_timings:        load time =   70727.65 ms\n",
      "llama_print_timings:      sample time =       9.89 ms /    51 runs   (    0.19 ms per token,  5154.12 tokens per second)\n",
      "llama_print_timings: prompt eval time =   66368.98 ms /   463 tokens (  143.35 ms per token,     6.98 tokens per second)\n",
      "llama_print_timings:        eval time =   79426.93 ms /    50 runs   ( 1588.54 ms per token,     0.63 tokens per second)\n",
      "llama_print_timings:       total time =  145981.72 ms\n",
      "Llama.generate: prefix-match hit\n"
     ]
    },
    {
     "name": "stdout",
     "output_type": "stream",
     "text": [
      "  Sure, I'd be happy to help you extract knowledge triplets from the provided text! Here are two triplets I found:\n",
      "1. (Schedule, is, table)\n",
      "2. (Videos, is, series)\n"
     ]
    },
    {
     "name": "stderr",
     "output_type": "stream",
     "text": [
      "\n",
      "llama_print_timings:        load time =   70727.65 ms\n",
      "llama_print_timings:      sample time =      10.36 ms /    51 runs   (    0.20 ms per token,  4924.21 tokens per second)\n",
      "llama_print_timings: prompt eval time =   57082.26 ms /   334 tokens (  170.90 ms per token,     5.85 tokens per second)\n",
      "llama_print_timings:        eval time =   50843.95 ms /    50 runs   ( 1016.88 ms per token,     0.98 tokens per second)\n",
      "llama_print_timings:       total time =  108103.66 ms\n",
      "Llama.generate: prefix-match hit\n"
     ]
    },
    {
     "name": "stdout",
     "output_type": "stream",
     "text": [
      "  I'm happy to help! Here are two knowledge triplets that can be extracted from the given text:\n",
      "1. (PAK Flag, is, 25.3/25.3 ov)\n",
      "2. (BRODA, is, 14.1/20 ov)\n"
     ]
    },
    {
     "name": "stderr",
     "output_type": "stream",
     "text": [
      "\n",
      "llama_print_timings:        load time =   70727.65 ms\n",
      "llama_print_timings:      sample time =      14.75 ms /    66 runs   (    0.22 ms per token,  4474.58 tokens per second)\n",
      "llama_print_timings: prompt eval time =   83342.28 ms /   500 tokens (  166.68 ms per token,     6.00 tokens per second)\n",
      "llama_print_timings:        eval time =   71060.11 ms /    65 runs   ( 1093.23 ms per token,     0.91 tokens per second)\n",
      "llama_print_timings:       total time =  154651.20 ms\n",
      "Llama.generate: prefix-match hit\n"
     ]
    },
    {
     "name": "stdout",
     "output_type": "stream",
     "text": [
      "  Sure, I'd be happy to help you extract knowledge triplets from the provided text! Here are two triplets that I found:\n",
      "(Schedule, is, fixtures-and-results)\n",
      "(Table, is, points table standings)\n"
     ]
    },
    {
     "name": "stderr",
     "output_type": "stream",
     "text": [
      "\n",
      "llama_print_timings:        load time =   70727.65 ms\n",
      "llama_print_timings:      sample time =      13.74 ms /    56 runs   (    0.25 ms per token,  4075.69 tokens per second)\n",
      "llama_print_timings: prompt eval time =   54370.79 ms /   319 tokens (  170.44 ms per token,     5.87 tokens per second)\n",
      "llama_print_timings:        eval time =   85660.73 ms /    55 runs   ( 1557.47 ms per token,     0.64 tokens per second)\n",
      "llama_print_timings:       total time =  140278.14 ms\n",
      "Llama.generate: prefix-match hit\n"
     ]
    },
    {
     "name": "stdout",
     "output_type": "stream",
     "text": [
      "  Sure, I'd be happy to help you extract knowledge triplets from the given text! Here are two triplets I found:\n",
      "(BH-W, is, 17.2/20 ov)\n",
      "(BH-W, founded in, 1982)\n"
     ]
    },
    {
     "name": "stderr",
     "output_type": "stream",
     "text": [
      "\n",
      "llama_print_timings:        load time =   70727.65 ms\n",
      "llama_print_timings:      sample time =      17.14 ms /    64 runs   (    0.27 ms per token,  3733.08 tokens per second)\n",
      "llama_print_timings: prompt eval time =   90820.86 ms /   463 tokens (  196.16 ms per token,     5.10 tokens per second)\n",
      "llama_print_timings:        eval time =  105872.42 ms /    63 runs   ( 1680.51 ms per token,     0.60 tokens per second)\n",
      "llama_print_timings:       total time =  197002.99 ms\n",
      "Llama.generate: prefix-match hit\n"
     ]
    },
    {
     "name": "stdout",
     "output_type": "stream",
     "text": [
      "  I'm happy to help you extract knowledge triplets from the given text! Here are two triplets based on the provided text:\n",
      "Triplet 1:\n",
      "(PNJB, is, cricket tournament)\n",
      "(PNJB, held in, Mirpur)\n",
      "\n",
      "Triplet 2:\n",
      "(Punjab, won by, 6 wickets)\n",
      "(Punjab, won against, Delhi)\n"
     ]
    },
    {
     "name": "stderr",
     "output_type": "stream",
     "text": [
      "\n",
      "llama_print_timings:        load time =   70727.65 ms\n",
      "llama_print_timings:      sample time =      26.84 ms /    95 runs   (    0.28 ms per token,  3539.89 tokens per second)\n",
      "llama_print_timings: prompt eval time =   81547.96 ms /   387 tokens (  210.72 ms per token,     4.75 tokens per second)\n",
      "llama_print_timings:        eval time =  161437.53 ms /    94 runs   ( 1717.42 ms per token,     0.58 tokens per second)\n",
      "llama_print_timings:       total time =  243461.90 ms\n",
      "Llama.generate: prefix-match hit\n"
     ]
    },
    {
     "name": "stdout",
     "output_type": "stream",
     "text": [
      "  I'm happy to help you extract knowledge triplets from the given text! Here are two triplets based on the provided text:\n",
      "Triplet 1:\n",
      "(PAK-W, won by, 5 wickets)\n",
      "\n",
      "Triplet 2:\n",
      "(Pakistan (W), won by, 5 wickets)\n"
     ]
    },
    {
     "name": "stderr",
     "output_type": "stream",
     "text": [
      "\n",
      "llama_print_timings:        load time =   70727.65 ms\n",
      "llama_print_timings:      sample time =      24.95 ms /    77 runs   (    0.32 ms per token,  3085.92 tokens per second)\n",
      "llama_print_timings: prompt eval time =   78485.20 ms /   410 tokens (  191.43 ms per token,     5.22 tokens per second)\n",
      "llama_print_timings:        eval time =  117375.73 ms /    76 runs   ( 1544.42 ms per token,     0.65 tokens per second)\n",
      "llama_print_timings:       total time =  196232.38 ms\n",
      "Llama.generate: prefix-match hit\n"
     ]
    },
    {
     "name": "stdout",
     "output_type": "stream",
     "text": [
      "  I'm happy to help you extract knowledge triplets from the provided text! Here are two triplets based on the information provided:\n",
      "1. (Marsh Cup, is, cricket tournament)\n",
      "2. (New South Wales, won by, 2 wickets)\n"
     ]
    },
    {
     "name": "stderr",
     "output_type": "stream",
     "text": [
      "\n",
      "llama_print_timings:        load time =   70727.65 ms\n",
      "llama_print_timings:      sample time =      14.12 ms /    60 runs   (    0.24 ms per token,  4248.39 tokens per second)\n",
      "llama_print_timings: prompt eval time =   91845.10 ms /   443 tokens (  207.33 ms per token,     4.82 tokens per second)\n",
      "llama_print_timings:        eval time =   91556.54 ms /    59 runs   ( 1551.81 ms per token,     0.64 tokens per second)\n",
      "llama_print_timings:       total time =  183646.08 ms\n",
      "Llama.generate: prefix-match hit\n"
     ]
    },
    {
     "name": "stdout",
     "output_type": "stream",
     "text": [
      "  I'm happy to help you extract knowledge triplets from the given text! Here are two triplets based on the provided text:\n",
      "1. (ST-W, is, match) - This triplet represents the fact that \"ST-W\" is a match.\n",
      "2. (AMOR, is, result) - This triplet represents the fact that \"AMOR\" is the result of the match.\n"
     ]
    },
    {
     "name": "stderr",
     "output_type": "stream",
     "text": [
      "\n",
      "llama_print_timings:        load time =   70727.65 ms\n",
      "llama_print_timings:      sample time =      22.50 ms /    88 runs   (    0.26 ms per token,  3911.81 tokens per second)\n",
      "llama_print_timings: prompt eval time =   86190.89 ms /   449 tokens (  191.96 ms per token,     5.21 tokens per second)\n",
      "llama_print_timings:        eval time =  140049.88 ms /    87 runs   ( 1609.77 ms per token,     0.62 tokens per second)\n",
      "llama_print_timings:       total time =  226636.17 ms\n",
      "Llama.generate: prefix-match hit\n"
     ]
    },
    {
     "name": "stdout",
     "output_type": "stream",
     "text": [
      "  Sure, I'd be happy to help! Based on the provided text, here are two knowledge triplets in the form of (subject, predicate, object):\n",
      "1. (Boost, won, 8 wickets)\n",
      "2. (Knights, lead, 185 runs)\n"
     ]
    },
    {
     "name": "stderr",
     "output_type": "stream",
     "text": [
      "\n",
      "llama_print_timings:        load time =   70727.65 ms\n",
      "llama_print_timings:      sample time =      18.12 ms /    66 runs   (    0.27 ms per token,  3642.59 tokens per second)\n",
      "llama_print_timings: prompt eval time =   91227.75 ms /   451 tokens (  202.28 ms per token,     4.94 tokens per second)\n",
      "llama_print_timings:        eval time =  105385.94 ms /    65 runs   ( 1621.32 ms per token,     0.62 tokens per second)\n",
      "llama_print_timings:       total time =  196927.40 ms\n",
      "Llama.generate: prefix-match hit\n"
     ]
    },
    {
     "name": "stdout",
     "output_type": "stream",
     "text": [
      "  Sure, I'd be happy to help! Based on the provided text, here are two knowledge triplets in the form of (subject, predicate, object):\n",
      "1. (Schedule, is, match schedule)\n",
      "2. (CSA, is, cricket association)\n"
     ]
    },
    {
     "name": "stderr",
     "output_type": "stream",
     "text": [
      "\n",
      "llama_print_timings:        load time =   70727.65 ms\n",
      "llama_print_timings:      sample time =      15.58 ms /    60 runs   (    0.26 ms per token,  3850.35 tokens per second)\n",
      "llama_print_timings: prompt eval time =   78040.19 ms /   382 tokens (  204.29 ms per token,     4.89 tokens per second)\n",
      "llama_print_timings:        eval time =   85988.61 ms /    59 runs   ( 1457.43 ms per token,     0.69 tokens per second)\n",
      "llama_print_timings:       total time =  164288.39 ms\n",
      "Llama.generate: prefix-match hit\n"
     ]
    },
    {
     "name": "stdout",
     "output_type": "stream",
     "text": [
      "  I'm happy to help you extract knowledge triplets from the provided text! Here are two triplets that I found:\n",
      "(Schedule, is, match schedule)\n",
      "(Table, is, points table standings)\n"
     ]
    },
    {
     "name": "stderr",
     "output_type": "stream",
     "text": [
      "\n",
      "llama_print_timings:        load time =   70727.65 ms\n",
      "llama_print_timings:      sample time =      11.61 ms /    48 runs   (    0.24 ms per token,  4134.01 tokens per second)\n",
      "llama_print_timings: prompt eval time =   48404.00 ms /   226 tokens (  214.18 ms per token,     4.67 tokens per second)\n",
      "llama_print_timings:        eval time =   63681.79 ms /    47 runs   ( 1354.93 ms per token,     0.74 tokens per second)\n",
      "llama_print_timings:       total time =  112284.08 ms\n",
      "Llama.generate: prefix-match hit\n"
     ]
    },
    {
     "name": "stdout",
     "output_type": "stream",
     "text": [
      "  I apologize, but I cannot provide triplets for the given text as it is not a coherent or meaningful sentence. The text appears to be a collection of random words and phrases with no clear subject, predicate, or object. Please provide a clear and concise sentence or paragraph for me to extract triplets from.\n"
     ]
    },
    {
     "name": "stderr",
     "output_type": "stream",
     "text": [
      "\n",
      "llama_print_timings:        load time =   70727.65 ms\n",
      "llama_print_timings:      sample time =      17.80 ms /    70 runs   (    0.25 ms per token,  3931.92 tokens per second)\n",
      "llama_print_timings: prompt eval time =   83897.28 ms /   437 tokens (  191.98 ms per token,     5.21 tokens per second)\n",
      "llama_print_timings:        eval time =  102357.80 ms /    69 runs   ( 1483.45 ms per token,     0.67 tokens per second)\n",
      "llama_print_timings:       total time =  186560.71 ms\n",
      "Llama.generate: prefix-match hit\n"
     ]
    },
    {
     "name": "stdout",
     "output_type": "stream",
     "text": [
      "  Sure, I can help you extract knowledge triplets from the provided text. Here are two triplets based on the information provided:\n",
      "1. (National Cricket League, is, series)\n",
      "2. (Sylhet Division, vs, Dhaka Metropolis, tier-1)\n"
     ]
    },
    {
     "name": "stderr",
     "output_type": "stream",
     "text": [
      "\n",
      "llama_print_timings:        load time =   70727.65 ms\n",
      "llama_print_timings:      sample time =      17.65 ms /    62 runs   (    0.28 ms per token,  3511.95 tokens per second)\n",
      "llama_print_timings: prompt eval time =  151776.52 ms /   616 tokens (  246.39 ms per token,     4.06 tokens per second)\n",
      "llama_print_timings:        eval time =  106850.40 ms /    61 runs   ( 1751.65 ms per token,     0.57 tokens per second)\n",
      "llama_print_timings:       total time =  258956.24 ms\n",
      "Llama.generate: prefix-match hit\n"
     ]
    },
    {
     "name": "stdout",
     "output_type": "stream",
     "text": [
      "  I apologize, but I cannot provide triplets for the given text as it appears to be a random collection of words and phrases without any coherent structure or context. Please provide a clear and concise question or prompt, and I will do my best to assist you.\n"
     ]
    },
    {
     "name": "stderr",
     "output_type": "stream",
     "text": [
      "\n",
      "llama_print_timings:        load time =   70727.65 ms\n",
      "llama_print_timings:      sample time =      17.28 ms /    59 runs   (    0.29 ms per token,  3414.35 tokens per second)\n",
      "llama_print_timings: prompt eval time =   80224.07 ms /   405 tokens (  198.08 ms per token,     5.05 tokens per second)\n",
      "llama_print_timings:        eval time =  101634.27 ms /    58 runs   ( 1752.32 ms per token,     0.57 tokens per second)\n",
      "llama_print_timings:       total time =  182149.50 ms\n",
      "Llama.generate: prefix-match hit\n"
     ]
    },
    {
     "name": "stdout",
     "output_type": "stream",
     "text": [
      "  Sure, I'd be happy to help you extract knowledge triplets from the given text. Here are two triplets that I found:\n",
      "(WIA-W, is, women's cricket tournament)\n",
      "(47/5, is, number of runs required for WI-A Women to win)\n"
     ]
    },
    {
     "name": "stderr",
     "output_type": "stream",
     "text": [
      "\n",
      "llama_print_timings:        load time =   70727.65 ms\n",
      "llama_print_timings:      sample time =      18.09 ms /    68 runs   (    0.27 ms per token,  3759.81 tokens per second)\n",
      "llama_print_timings: prompt eval time =   58821.91 ms /   287 tokens (  204.95 ms per token,     4.88 tokens per second)\n",
      "llama_print_timings:        eval time =  104547.57 ms /    67 runs   ( 1560.41 ms per token,     0.64 tokens per second)\n",
      "llama_print_timings:       total time =  163698.99 ms\n",
      "Llama.generate: prefix-match hit\n"
     ]
    },
    {
     "name": "stdout",
     "output_type": "stream",
     "text": [
      "  Sure, I can help you extract knowledge triplets from the given text. Here are three triplets based on the provided text:\n",
      "1. (ESPNcricinfo, is, website)\n",
      "2. (Philz, is, coffee shop)\n",
      "3. (ICC Cricket World Cup, is, tournament)\n"
     ]
    },
    {
     "name": "stderr",
     "output_type": "stream",
     "text": [
      "\n",
      "llama_print_timings:        load time =   70727.65 ms\n",
      "llama_print_timings:      sample time =      25.69 ms /    70 runs   (    0.37 ms per token,  2724.58 tokens per second)\n",
      "llama_print_timings: prompt eval time =  108594.18 ms /   507 tokens (  214.19 ms per token,     4.67 tokens per second)\n",
      "llama_print_timings:        eval time =  188779.89 ms /    69 runs   ( 2735.94 ms per token,     0.37 tokens per second)\n",
      "llama_print_timings:       total time =  297882.63 ms\n",
      "Llama.generate: prefix-match hit\n"
     ]
    },
    {
     "name": "stdout",
     "output_type": "stream",
     "text": [
      "  I'm happy to help you extract knowledge triplets from the provided text! Here are two triplets based on the information provided:\n",
      "1. (South Africa, is, cricket team)\n",
      "2. (India, vs, South Africa, match)\n"
     ]
    },
    {
     "name": "stderr",
     "output_type": "stream",
     "text": [
      "\n",
      "llama_print_timings:        load time =   70727.65 ms\n",
      "llama_print_timings:      sample time =      17.72 ms /    57 runs   (    0.31 ms per token,  3216.52 tokens per second)\n",
      "llama_print_timings: prompt eval time =  104168.01 ms /   478 tokens (  217.92 ms per token,     4.59 tokens per second)\n",
      "llama_print_timings:        eval time =  104549.90 ms /    56 runs   ( 1866.96 ms per token,     0.54 tokens per second)\n",
      "llama_print_timings:       total time =  209070.86 ms\n",
      "Llama.generate: prefix-match hit\n"
     ]
    },
    {
     "name": "stdout",
     "output_type": "stream",
     "text": [
      "  I'm happy to help you extract knowledge triplets from the provided text! Here are two triplets based on the information provided:\n",
      "1. (India, won, 302 runs) - This triplet is extracted from the sentence \"India won by 302 runs.\"\n",
      "2. (Philz, is, coffee shop) - This triplet is extracted from the sentence \"Philz is a coffee shop founded in Berkeley in 1982.\"\n"
     ]
    },
    {
     "name": "stderr",
     "output_type": "stream",
     "text": [
      "\n",
      "llama_print_timings:        load time =   70727.65 ms\n",
      "llama_print_timings:      sample time =      37.12 ms /   105 runs   (    0.35 ms per token,  2828.97 tokens per second)\n",
      "llama_print_timings: prompt eval time =  148841.67 ms /   578 tokens (  257.51 ms per token,     3.88 tokens per second)\n",
      "llama_print_timings:        eval time =  214973.96 ms /   104 runs   ( 2067.06 ms per token,     0.48 tokens per second)\n",
      "llama_print_timings:       total time =  364507.15 ms\n",
      "Llama.generate: prefix-match hit\n"
     ]
    },
    {
     "name": "stdout",
     "output_type": "stream",
     "text": [
      "  I apologize, but I cannot provide triplets for the given text as it appears to be a list of cricket matches with scores and results. The text does not contain any explicit subjects, predicates, or objects that can be used to form knowledge triplets.\n",
      "However, if you have any specific questions or requests related to the cricket matches mentioned in the text, I'll be happy to help. Please let me know how I can assist you.\n"
     ]
    },
    {
     "name": "stderr",
     "output_type": "stream",
     "text": [
      "\n",
      "llama_print_timings:        load time =   70727.65 ms\n",
      "llama_print_timings:      sample time =      37.33 ms /    97 runs   (    0.38 ms per token,  2598.31 tokens per second)\n",
      "llama_print_timings: prompt eval time =  152397.21 ms /   558 tokens (  273.11 ms per token,     3.66 tokens per second)\n",
      "llama_print_timings:        eval time =  314975.97 ms /    96 runs   ( 3281.00 ms per token,     0.30 tokens per second)\n",
      "llama_print_timings:       total time =  468205.16 ms\n",
      "Llama.generate: prefix-match hit\n"
     ]
    },
    {
     "name": "stdout",
     "output_type": "stream",
     "text": [
      "  Sure, I'd be happy to help you extract knowledge triplets from the given text! Here are two triplets based on the information provided:\n",
      "Triplet 1:\n",
      "(AskESPNcricinfo, is, logo)\n",
      "(AskESPNcricinfo, founded in, 2017)\n",
      "\n",
      "Triplet 2:\n",
      "(Virat Kohli, is, cricketer)\n",
      "(Rohit Sharma, is, cricketer)\n",
      "\n",
      "I hope these triplets are helpful! Let me know if you have any other questions.\n"
     ]
    },
    {
     "name": "stderr",
     "output_type": "stream",
     "text": [
      "\n",
      "llama_print_timings:        load time =   70727.65 ms\n",
      "llama_print_timings:      sample time =      69.73 ms /   127 runs   (    0.55 ms per token,  1821.21 tokens per second)\n",
      "llama_print_timings: prompt eval time =  182895.82 ms /   493 tokens (  370.99 ms per token,     2.70 tokens per second)\n",
      "llama_print_timings:        eval time =  494816.23 ms /   126 runs   ( 3927.11 ms per token,     0.25 tokens per second)\n",
      "llama_print_timings:       total time =  679293.91 ms\n",
      "Llama.generate: prefix-match hit\n"
     ]
    },
    {
     "name": "stdout",
     "output_type": "stream",
     "text": [
      "  Sure, I can help you extract knowledge triplets from the given text. Here are two triplets based on the information provided:\n",
      "1. (Mohammed Shami, is, cricketer)\n",
      "2. (Jasprit Bumrah, is, cricketer)\n"
     ]
    },
    {
     "name": "stderr",
     "output_type": "stream",
     "text": [
      "\n",
      "llama_print_timings:        load time =   70727.65 ms\n",
      "llama_print_timings:      sample time =      27.41 ms /    61 runs   (    0.45 ms per token,  2225.55 tokens per second)\n",
      "llama_print_timings: prompt eval time =  208921.02 ms /   551 tokens (  379.17 ms per token,     2.64 tokens per second)\n",
      "llama_print_timings:        eval time =  243051.47 ms /    60 runs   ( 4050.86 ms per token,     0.25 tokens per second)\n",
      "llama_print_timings:       total time =  452650.57 ms\n",
      "Llama.generate: prefix-match hit\n"
     ]
    },
    {
     "name": "stdout",
     "output_type": "stream",
     "text": [
      "  Sure, I can help you extract knowledge triplets from the given text. Here are two triplets based on the information provided:\n",
      "1. (South Africa, won, 7 wickets) - This triplet is based on the information that South Africa won the match by 7 wickets with 11 balls remaining.\n",
      "2. (Rohit Sharma, captain, India) - This triplet is based on the information that Rohit Sharma is the captain of the Indian cricket team.\n"
     ]
    },
    {
     "name": "stderr",
     "output_type": "stream",
     "text": [
      "\n",
      "llama_print_timings:        load time =   70727.65 ms\n",
      "llama_print_timings:      sample time =      42.42 ms /   111 runs   (    0.38 ms per token,  2616.88 tokens per second)\n",
      "llama_print_timings: prompt eval time =  229196.90 ms /   594 tokens (  385.85 ms per token,     2.59 tokens per second)\n",
      "llama_print_timings:        eval time =  560445.89 ms /   110 runs   ( 5094.96 ms per token,     0.20 tokens per second)\n",
      "llama_print_timings:       total time =  790600.63 ms\n",
      "Llama.generate: prefix-match hit\n"
     ]
    },
    {
     "name": "stdout",
     "output_type": "stream",
     "text": [
      "  I apologize, but I cannot provide you with knowledge triplets based on the given text as it appears to be a list of cricketers' names and their associated information. I'm just an AI and do not have access to external information or context beyond what is provided in the text itself. Therefore, I cannot extract triplets from this text without additional information or context. Please provide more details or clarify your request if you have any specific questions or topics related to cricket or these individuals.\n"
     ]
    },
    {
     "name": "stderr",
     "output_type": "stream",
     "text": [
      "\n",
      "llama_print_timings:        load time =   70727.65 ms\n",
      "llama_print_timings:      sample time =      31.28 ms /   104 runs   (    0.30 ms per token,  3325.02 tokens per second)\n",
      "llama_print_timings: prompt eval time =  106388.72 ms /   509 tokens (  209.02 ms per token,     4.78 tokens per second)\n",
      "llama_print_timings:        eval time =  193377.72 ms /   103 runs   ( 1877.45 ms per token,     0.53 tokens per second)\n",
      "llama_print_timings:       total time =  300336.89 ms\n",
      "Llama.generate: prefix-match hit\n"
     ]
    },
    {
     "name": "stdout",
     "output_type": "stream",
     "text": [
      "  I'm happy to help you extract knowledge triplets from the given text! Here are two triplets based on the provided text:\n",
      "1. (Batter, is, playing for) - The batter is playing for Eden Gardens in the ICC Cricket World Cup 2023/24.\n",
      "2. (Eden Gardens, is, located in) - Eden Gardens is located in Kolkata.\n"
     ]
    },
    {
     "name": "stderr",
     "output_type": "stream",
     "text": [
      "\n",
      "llama_print_timings:        load time =   70727.65 ms\n",
      "llama_print_timings:      sample time =      27.50 ms /    94 runs   (    0.29 ms per token,  3418.31 tokens per second)\n",
      "llama_print_timings: prompt eval time =  110989.83 ms /   509 tokens (  218.05 ms per token,     4.59 tokens per second)\n",
      "llama_print_timings:        eval time =  170435.81 ms /    93 runs   ( 1832.64 ms per token,     0.55 tokens per second)\n",
      "llama_print_timings:       total time =  281902.76 ms\n",
      "Llama.generate: prefix-match hit\n"
     ]
    },
    {
     "name": "stdout",
     "output_type": "stream",
     "text": [
      "  I'm happy to help you extract knowledge triplets from the provided text! Here are two triplets based on the given text:\n",
      "1. (Alex Wharf, is, cricketer)\n",
      "2. (Andy Pycroft, is, cricketer)\n"
     ]
    },
    {
     "name": "stderr",
     "output_type": "stream",
     "text": [
      "\n",
      "llama_print_timings:        load time =   70727.65 ms\n",
      "llama_print_timings:      sample time =      15.09 ms /    59 runs   (    0.26 ms per token,  3908.84 tokens per second)\n",
      "llama_print_timings: prompt eval time =   94209.32 ms /   434 tokens (  217.07 ms per token,     4.61 tokens per second)\n",
      "llama_print_timings:        eval time =   82384.72 ms /    58 runs   ( 1420.43 ms per token,     0.70 tokens per second)\n",
      "llama_print_timings:       total time =  176902.06 ms\n",
      "Llama.generate: prefix-match hit\n"
     ]
    },
    {
     "name": "stdout",
     "output_type": "stream",
     "text": [
      "  Sure, I'd be happy to help you extract knowledge triplets from the given text! Here are two triplets I found:\n",
      "1. (India, vs, South Africa) - This is a contrast between two teams competing in the ICC World Cup 2023.\n",
      "2. (Marco Jansen, South Africa's Magnificent No. 7) - This refers to Marco Jansen being a talented cricketer and the number 7 player for South Africa at the World Cup.\n"
     ]
    },
    {
     "name": "stderr",
     "output_type": "stream",
     "text": [
      "\n",
      "llama_print_timings:        load time =   70727.65 ms\n",
      "llama_print_timings:      sample time =      34.48 ms /   112 runs   (    0.31 ms per token,  3247.88 tokens per second)\n",
      "llama_print_timings: prompt eval time =   92218.76 ms /   473 tokens (  194.97 ms per token,     5.13 tokens per second)\n",
      "llama_print_timings:        eval time =  187346.73 ms /   111 runs   ( 1687.81 ms per token,     0.59 tokens per second)\n",
      "llama_print_timings:       total time =  280140.14 ms\n",
      "Llama.generate: prefix-match hit\n"
     ]
    },
    {
     "name": "stdout",
     "output_type": "stream",
     "text": [
      "  Sure, I can help you extract knowledge triplets from the given text! Here are two triplets based on the provided text:\n",
      "(AskESPNcricinfo Logo, is, logo)\n",
      "(India, has, 7 wins, in World Cup)\n"
     ]
    },
    {
     "name": "stderr",
     "output_type": "stream",
     "text": [
      "\n",
      "llama_print_timings:        load time =   70727.65 ms\n",
      "llama_print_timings:      sample time =      15.87 ms /    59 runs   (    0.27 ms per token,  3717.47 tokens per second)\n",
      "llama_print_timings: prompt eval time =  137730.99 ms /   584 tokens (  235.84 ms per token,     4.24 tokens per second)\n",
      "llama_print_timings:        eval time =   97018.99 ms /    58 runs   ( 1672.74 ms per token,     0.60 tokens per second)\n",
      "llama_print_timings:       total time =  235054.65 ms\n",
      "Llama.generate: prefix-match hit\n"
     ]
    },
    {
     "name": "stdout",
     "output_type": "stream",
     "text": [
      "  I'm happy to help! Based on the provided text, here are two knowledge triplets in the form of (subject, predicate, object):\n",
      "1. (NED, is, 8/15) - indicating that Netherlands has odds of 8/15 to win the ICC Cricket World Cup 2023-24.\n",
      "2. (BAN, is, 6/4) - indicating that Bangladesh has odds of 6/4 to win the ICC Cricket World Cup 2023-24.\n"
     ]
    },
    {
     "name": "stderr",
     "output_type": "stream",
     "text": [
      "\n",
      "llama_print_timings:        load time =   70727.65 ms\n",
      "llama_print_timings:      sample time =      36.08 ms /   124 runs   (    0.29 ms per token,  3437.28 tokens per second)\n",
      "llama_print_timings: prompt eval time =  141768.60 ms /   632 tokens (  224.32 ms per token,     4.46 tokens per second)\n",
      "llama_print_timings:        eval time =  203189.46 ms /   123 runs   ( 1651.95 ms per token,     0.61 tokens per second)\n",
      "llama_print_timings:       total time =  345656.46 ms\n",
      "Llama.generate: prefix-match hit\n"
     ]
    },
    {
     "name": "stdout",
     "output_type": "stream",
     "text": [
      "  I'm happy to help! Based on the provided text, here are two knowledge triplets in the form of (subject, predicate, object):\n",
      "1. (Bet365, is, online betting platform)\n",
      "2. (Min odds, refers to, minimum odds for a bet)\n"
     ]
    },
    {
     "name": "stderr",
     "output_type": "stream",
     "text": [
      "\n",
      "llama_print_timings:        load time =   70727.65 ms\n",
      "llama_print_timings:      sample time =      17.58 ms /    67 runs   (    0.26 ms per token,  3810.93 tokens per second)\n",
      "llama_print_timings: prompt eval time =   86612.02 ms /   362 tokens (  239.26 ms per token,     4.18 tokens per second)\n",
      "llama_print_timings:        eval time =  110964.28 ms /    66 runs   ( 1681.28 ms per token,     0.59 tokens per second)\n",
      "llama_print_timings:       total time =  197898.42 ms\n",
      "Llama.generate: prefix-match hit\n"
     ]
    },
    {
     "name": "stdout",
     "output_type": "stream",
     "text": [
      "  Sure! Here are two knowledge triplets that can be extracted from the given text:\n",
      "1. (World Cup 2023, is, ODI)\n",
      "2. (AUS, is, playing against, ENG)\n"
     ]
    },
    {
     "name": "stderr",
     "output_type": "stream",
     "text": [
      "\n",
      "llama_print_timings:        load time =   70727.65 ms\n",
      "llama_print_timings:      sample time =      20.63 ms /    51 runs   (    0.40 ms per token,  2472.61 tokens per second)\n",
      "llama_print_timings: prompt eval time =   73553.73 ms /   330 tokens (  222.89 ms per token,     4.49 tokens per second)\n",
      "llama_print_timings:        eval time =  111813.63 ms /    50 runs   ( 2236.27 ms per token,     0.45 tokens per second)\n",
      "llama_print_timings:       total time =  185710.89 ms\n",
      "Llama.generate: prefix-match hit\n"
     ]
    },
    {
     "name": "stdout",
     "output_type": "stream",
     "text": [
      "  Sure, I'd be happy to help you extract knowledge triplets from the provided text! Here are two triplets I found:\n",
      "1. (Schedule, is, table)\n",
      "2. (Videos, is, series)\n"
     ]
    },
    {
     "name": "stderr",
     "output_type": "stream",
     "text": [
      "\n",
      "llama_print_timings:        load time =   70727.65 ms\n",
      "llama_print_timings:      sample time =      11.36 ms /    51 runs   (    0.22 ms per token,  4489.83 tokens per second)\n",
      "llama_print_timings: prompt eval time =   75431.89 ms /   334 tokens (  225.84 ms per token,     4.43 tokens per second)\n",
      "llama_print_timings:        eval time =   58942.11 ms /    50 runs   ( 1178.84 ms per token,     0.85 tokens per second)\n",
      "llama_print_timings:       total time =  134569.90 ms\n",
      "Llama.generate: prefix-match hit\n"
     ]
    },
    {
     "name": "stdout",
     "output_type": "stream",
     "text": [
      "  I'm happy to help! Here are two knowledge triplets that can be extracted from the given text:\n",
      "1. (PAK Flag, is, 25.3/25.3 ov)\n",
      "2. (BRODA, is, 14.1/20 ov)\n"
     ]
    },
    {
     "name": "stderr",
     "output_type": "stream",
     "text": [
      "\n",
      "llama_print_timings:        load time =   70727.65 ms\n",
      "llama_print_timings:      sample time =      22.59 ms /    66 runs   (    0.34 ms per token,  2921.91 tokens per second)\n",
      "llama_print_timings: prompt eval time =  124740.55 ms /   500 tokens (  249.48 ms per token,     4.01 tokens per second)\n",
      "llama_print_timings:        eval time =  165956.24 ms /    65 runs   ( 2553.17 ms per token,     0.39 tokens per second)\n",
      "llama_print_timings:       total time =  291090.97 ms\n",
      "Llama.generate: prefix-match hit\n"
     ]
    },
    {
     "name": "stdout",
     "output_type": "stream",
     "text": [
      "  Sure, I'd be happy to help you extract knowledge triplets from the provided text! Here are two triplets that I found:\n",
      "(Schedule, is, fixtures-and-results)\n",
      "(Table, is, points table standings)\n"
     ]
    },
    {
     "name": "stderr",
     "output_type": "stream",
     "text": [
      "\n",
      "llama_print_timings:        load time =   70727.65 ms\n",
      "llama_print_timings:      sample time =      18.12 ms /    56 runs   (    0.32 ms per token,  3090.51 tokens per second)\n",
      "llama_print_timings: prompt eval time =   67875.59 ms /   319 tokens (  212.78 ms per token,     4.70 tokens per second)\n",
      "llama_print_timings:        eval time =  109860.67 ms /    55 runs   ( 1997.47 ms per token,     0.50 tokens per second)\n",
      "llama_print_timings:       total time =  178100.07 ms\n",
      "Llama.generate: prefix-match hit\n"
     ]
    },
    {
     "name": "stdout",
     "output_type": "stream",
     "text": [
      "  Sure, I'd be happy to help you extract knowledge triplets from the given text! Here are two triplets I found:\n",
      "(BH-W, is, 17.2/20 ov)\n",
      "(BH-W, founded in, 1982)\n"
     ]
    },
    {
     "name": "stderr",
     "output_type": "stream",
     "text": [
      "\n",
      "llama_print_timings:        load time =   70727.65 ms\n",
      "llama_print_timings:      sample time =      19.54 ms /    64 runs   (    0.31 ms per token,  3275.67 tokens per second)\n",
      "llama_print_timings: prompt eval time =  102729.07 ms /   463 tokens (  221.88 ms per token,     4.51 tokens per second)\n",
      "llama_print_timings:        eval time =  142896.86 ms /    63 runs   ( 2268.20 ms per token,     0.44 tokens per second)\n",
      "llama_print_timings:       total time =  246099.52 ms\n",
      "Llama.generate: prefix-match hit\n"
     ]
    },
    {
     "name": "stdout",
     "output_type": "stream",
     "text": [
      "  I'm happy to help you extract knowledge triplets from the given text! Here are two triplets based on the provided text:\n",
      "Triplet 1:\n",
      "(PNJB, is, cricket tournament)\n",
      "(PNJB, held in, Mirpur)\n",
      "\n",
      "Triplet 2:\n",
      "(Punjab, won by, 6 wickets)\n",
      "(Punjab, won against, Delhi)\n"
     ]
    },
    {
     "name": "stderr",
     "output_type": "stream",
     "text": [
      "\n",
      "llama_print_timings:        load time =   70727.65 ms\n",
      "llama_print_timings:      sample time =      31.86 ms /    95 runs   (    0.34 ms per token,  2981.51 tokens per second)\n",
      "llama_print_timings: prompt eval time =   96747.09 ms /   387 tokens (  249.99 ms per token,     4.00 tokens per second)\n",
      "llama_print_timings:        eval time =  196075.52 ms /    94 runs   ( 2085.91 ms per token,     0.48 tokens per second)\n",
      "llama_print_timings:       total time =  293459.48 ms\n",
      "Llama.generate: prefix-match hit\n"
     ]
    }
   ],
   "source": [
    "from llama_index import (\n",
    "    KnowledgeGraphIndex,\n",
    "    LLMPredictor,\n",
    "    ServiceContext,\n",
    "    SimpleDirectoryReader,\n",
    ")\n",
    "from llama_index.storage.storage_context import StorageContext\n",
    "from llama_index.graph_stores import Neo4jGraphStore\n",
    "\n",
    "\n",
    "graph_store = Neo4jGraphStore(\n",
    "    username=username,\n",
    "    password=password,\n",
    "    url=url,\n",
    "    database=database,\n",
    ")\n",
    "\n",
    "storage_context = StorageContext.from_defaults(graph_store=graph_store)\n",
    "\n",
    "# NOTE: can take a while!\n",
    "index = KnowledgeGraphIndex.from_documents(\n",
    "    documents,\n",
    "    storage_context=storage_context,\n",
    "    max_triplets_per_chunk=2,\n",
    "    service_context=service_context,\n",
    ")"
   ]
  },
  {
   "cell_type": "code",
   "execution_count": null,
   "id": "e193c2ec",
   "metadata": {},
   "outputs": [],
   "source": [
    "query_engine = index.as_query_engine(\n",
    "    include_text=False, response_mode=\"tree_summarize\"\n",
    ")"
   ]
  },
  {
   "cell_type": "code",
   "execution_count": null,
   "id": "fac9f218",
   "metadata": {},
   "outputs": [],
   "source": [
    "response = query_engine.query(\"Tell me more about india vs pakistan match\")"
   ]
  }
 ],
 "metadata": {
  "kernelspec": {
   "display_name": "llama",
   "language": "python",
   "name": "llama"
  },
  "language_info": {
   "codemirror_mode": {
    "name": "ipython",
    "version": 3
   },
   "file_extension": ".py",
   "mimetype": "text/x-python",
   "name": "python",
   "nbconvert_exporter": "python",
   "pygments_lexer": "ipython3",
   "version": "3.11.5"
  }
 },
 "nbformat": 4,
 "nbformat_minor": 5
}
